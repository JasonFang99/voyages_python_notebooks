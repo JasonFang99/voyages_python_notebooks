{
 "cells": [
  {
   "cell_type": "code",
   "execution_count": 1,
   "id": "db3af1c3",
   "metadata": {},
   "outputs": [],
   "source": [
    "import requests\n",
    "import pandas as pd\n",
    "import plotly.graph_objects as go\n",
    "import ipywidgets as widgets\n",
    "import plotly.express as px\n",
    "import numpy as np\n",
    "import json\n",
    "import re\n",
    "from app_secrets import headers\n",
    "\n",
    "import requests\n",
    "base_url='https://voyages3-api.crc.rice.edu/voyage/'"
   ]
  },
  {
   "cell_type": "code",
   "execution_count": 2,
   "id": "9e0eaa43",
   "metadata": {
    "scrolled": true
   },
   "outputs": [],
   "source": [
    "\"\"\"\n",
    "These arrays provide the variety of variables which can be used for the construction of the data visualizations.\n",
    "Numeric_vars referred to the actual value we are trying to retrieve, geo_vars refer to variables indicating location\n",
    "and the date_vars provide time references against which the data would be queried. \n",
    "\"\"\"\n",
    "\n",
    "\n",
    "numeric_vars = ['voyage_slaves_numbers__imp_total_num_slaves_disembarked',\n",
    "                'voyage_slaves_numbers__imp_total_num_slaves_embarked']\n",
    "\n",
    "geo_vars = ['voyage_itinerary__imp_principal_place_of_slave_purchase__place',\n",
    "           'voyage_itinerary__imp_principal_port_slave_dis__place',\n",
    "           'voyage_itinerary__imp_principal_region_slave_dis__region',\n",
    "           'voyage_itinerary__imp_principal_region_of_slave_purchase__region']\n",
    "\n",
    "date_vars = ['voyage_dates__arrival_at_second_place_landing_yyyy',\n",
    "            'voyage_dates__date_departed_africa_yyyy',\n",
    "            'voyage_dates__departure_last_place_of_landing_yyyy',\n",
    "            'voyage_dates__first_dis_of_slaves_yyyy',\n",
    "            'voyage_dates__imp_arrival_at_port_of_dis_yyyy',\n",
    "            'voyage_dates__imp_departed_africa_yyyy',\n",
    "            'voyage_dates__imp_voyage_began_yyyy',\n",
    "            'voyage_dates__slave_purchase_began_yyyy',\n",
    "            'voyage_dates__third_dis_of_slaves_yyyy',\n",
    "            'voyage_dates__vessel_left_port_yyyy',\n",
    "            'voyage_dates__voyage_began_yyyy',\n",
    "            'voyage_dates__voyage_completed_yyyy']\n",
    "\n",
    "r = requests.options(base_url + '?hierarchical=False', headers=headers) # to get the specific label names of above vars\n",
    "drop_dict = r.json()"
   ]
  },
  {
   "cell_type": "code",
   "execution_count": 12,
   "id": "46a23926",
   "metadata": {},
   "outputs": [],
   "source": [
    "\"\"\"\n",
    "The following three widgets are dropdown menues for the above vars. the below array constructions get the specific\n",
    "labels of the data vars we are trying to use\n",
    "\"\"\"\n",
    "\n",
    "geo_drop = [drop_dict[i]['label'] for i in geo_vars]\n",
    "\n",
    "geo_emb = widgets.Dropdown(\n",
    "    options=geo_drop,\n",
    "    description=\"Geo Vars\",\n",
    "    disabled=False,\n",
    ")\n"
   ]
  },
  {
   "cell_type": "code",
   "execution_count": 4,
   "id": "5a5c7ddc",
   "metadata": {
    "scrolled": true
   },
   "outputs": [],
   "source": [
    "numeric_drop = [drop_dict[i]['label'] for i in numeric_vars]\n",
    "\n",
    "numeric_emb = widgets.Dropdown(\n",
    "    options=numeric_drop,\n",
    "    description=\"Numeric Vars\",\n",
    "    disabled=False,\n",
    ")\n"
   ]
  },
  {
   "cell_type": "code",
   "execution_count": 5,
   "id": "bc3c7f09",
   "metadata": {},
   "outputs": [],
   "source": [
    "date_drop = [drop_dict[i]['label'] for i in date_vars]\n",
    "\n",
    "dates_emb = widgets.Dropdown(\n",
    "    options=date_drop,\n",
    "    description=\"Dates Vars\",\n",
    "    disabled=False,\n",
    ")"
   ]
  },
  {
   "cell_type": "code",
   "execution_count": 10,
   "id": "88731e55",
   "metadata": {},
   "outputs": [],
   "source": [
    "url = base_url + 'aggregations?aggregate_fields=' + date_vars[date_drop.index(dates_emb.value)] # gets aggregate values\n",
    "r = requests.get(url, headers=headers)\n",
    "date_dict = r.json()\n",
    "date_dict = date_dict[date_vars[date_drop.index(dates_emb.value)]]\n",
    "minyear=int(date_dict['min'])\n",
    "maxyear=int(date_dict['max'])  # gets the max and the min year for the above chosen date_var and constructs a slider\n",
    "\n",
    "yearslider_emb = widgets.IntRangeSlider(\n",
    "    min=minyear,\n",
    "    max=maxyear,\n",
    "    step=1,\n",
    "    description='Date Slider',\n",
    "    disabled=False,\n",
    "    continuous_update=False,\n",
    "    orientation='horizontal',\n",
    "    readout=True,\n",
    "    readout_format='d',\n",
    ")"
   ]
  },
  {
   "cell_type": "code",
   "execution_count": 13,
   "id": "b725f6ab",
   "metadata": {},
   "outputs": [
    {
     "data": {
      "application/vnd.jupyter.widget-view+json": {
       "model_id": "966e48e22a694f57b047cdbab335573f",
       "version_major": 2,
       "version_minor": 0
      },
      "text/plain": [
       "Dropdown(description='Numeric Vars', options=('Total slaves disembarked imputed * (SLAMIMP)', 'Total slaves em…"
      ]
     },
     "metadata": {},
     "output_type": "display_data"
    },
    {
     "data": {
      "application/vnd.jupyter.widget-view+json": {
       "model_id": "643f7a66c4794566a4cabbe37b8c6ac4",
       "version_major": 2,
       "version_minor": 0
      },
      "text/plain": [
       "Dropdown(description='Geo Vars', options=('Imputed principal place of slave purchase (MJBYPTIMP)', 'Imputed pr…"
      ]
     },
     "metadata": {},
     "output_type": "display_data"
    },
    {
     "data": {
      "application/vnd.jupyter.widget-view+json": {
       "model_id": "1d33e796c75947f18d210b5d65f02399",
       "version_major": 2,
       "version_minor": 0
      },
      "text/plain": [
       "Dropdown(description='Dates Vars', options=('Year of arrival at second place of landing (DATARR37,36,38)', 'Ye…"
      ]
     },
     "metadata": {},
     "output_type": "display_data"
    },
    {
     "data": {
      "application/vnd.jupyter.widget-view+json": {
       "model_id": "b33024f4557748d185b202a0c350ff13",
       "version_major": 2,
       "version_minor": 0
      },
      "text/plain": [
       "IntRangeSlider(value=(1603, 1768), continuous_update=False, description='Date Slider', max=1851, min=1521)"
      ]
     },
     "metadata": {},
     "output_type": "display_data"
    }
   ],
   "source": [
    "display(numeric_emb)  # displays the dropdown menus \n",
    "display(geo_emb)\n",
    "display(dates_emb)\n",
    "display(yearslider_emb)"
   ]
  },
  {
   "cell_type": "code",
   "execution_count": 14,
   "id": "68af2527",
   "metadata": {},
   "outputs": [
    {
     "data": {
      "application/vnd.plotly.v1+json": {
       "config": {
        "plotlyServerURL": "https://plot.ly"
       },
       "data": [
        {
         "customdata": [
          [
           1397
          ],
          [
           458
          ],
          [
           100
          ],
          [
           3241
          ],
          [
           272
          ],
          [
           7338
          ],
          [
           727
          ],
          [
           6840
          ],
          [
           470
          ],
          [
           945
          ],
          [
           150
          ],
          [
           468
          ],
          [
           395
          ],
          [
           2324
          ],
          [
           2380
          ],
          [
           2016
          ],
          [
           290
          ],
          [
           3112
          ],
          [
           80
          ],
          [
           546
          ],
          [
           1705
          ],
          [
           96
          ]
         ],
         "geo": "geo",
         "hovertemplate": "<b>%{hovertext}</b><br><br>Year voyage began=1722<br>normalized_sizes=%{marker.size}<br>Latitude=%{lat}<br>Longitude=%{lon}<br>Total slaves embarked imputed * (slaximp)=%{customdata[0]}<extra></extra>",
         "hovertext": [
          "Rio de la Plata",
          "South Carolina",
          "Gulf coast",
          "Saint-Domingue",
          "Other British Caribbean",
          "Jamaica",
          "St. Kitts",
          "Bahia",
          "Nevis",
          "Virginia",
          "Antigua",
          "Guadaloupe",
          "Spanish Circum-Caribbean",
          "Dutch Caribbean",
          "Martinique",
          "Barbados",
          "Dutch Guianas",
          "Pernambuco",
          "French Guiana",
          "Montserrat",
          "Southeast Brazil",
          "Americas"
         ],
         "lat": [
          -33.332605,
          33.1,
          29.8,
          18.54,
          18,
          17.881263,
          17.3,
          -12.983333,
          17.151005,
          36.9,
          17.067453,
          16,
          15.641117,
          14.751846,
          14.6,
          13.1,
          6.675248,
          -8.05,
          5.861294,
          16.7,
          -23.48894,
          0
         ],
         "legendgroup": "",
         "lon": [
          -58.498255,
          -79.54,
          -89.56,
          -72.34,
          -76.8,
          -76.522778,
          -62.716667,
          -38.516667,
          -62.589223,
          -76.3,
          -61.784741,
          -61.71667,
          -75.633932,
          -65.781346,
          -61.083333,
          -59.616667,
          -55.251124,
          -34.9,
          -53.612239,
          -62.216667,
          -42.256021,
          0
         ],
         "marker": {
          "color": "#636efa",
          "size": [
           7.242082359256962,
           6.126869184114185,
           4.605170185988092,
           8.083637203141548,
           5.605802066295998,
           8.900821604915228,
           6.588926477533519,
           8.830543010616596,
           6.152732694704104,
           6.851184927493743,
           5.0106352940962555,
           6.148468295917647,
           5.978885764901122,
           7.751045117971802,
           7.77485576666552,
           7.60887062919126,
           5.66988092298052,
           8.043020885298283,
           4.382026634673881,
           6.302618975744905,
           7.4413203897176174,
           4.564348191467836
          ],
          "sizemode": "area",
          "sizeref": 0.02718353458394048,
          "symbol": "circle"
         },
         "mode": "markers",
         "name": "",
         "showlegend": false,
         "type": "scattergeo"
        }
       ],
       "frames": [
        {
         "data": [
          {
           "customdata": [
            [
             1397
            ],
            [
             458
            ],
            [
             100
            ],
            [
             3241
            ],
            [
             272
            ],
            [
             7338
            ],
            [
             727
            ],
            [
             6840
            ],
            [
             470
            ],
            [
             945
            ],
            [
             150
            ],
            [
             468
            ],
            [
             395
            ],
            [
             2324
            ],
            [
             2380
            ],
            [
             2016
            ],
            [
             290
            ],
            [
             3112
            ],
            [
             80
            ],
            [
             546
            ],
            [
             1705
            ],
            [
             96
            ]
           ],
           "geo": "geo",
           "hovertemplate": "<b>%{hovertext}</b><br><br>Year voyage began=1722<br>normalized_sizes=%{marker.size}<br>Latitude=%{lat}<br>Longitude=%{lon}<br>Total slaves embarked imputed * (slaximp)=%{customdata[0]}<extra></extra>",
           "hovertext": [
            "Rio de la Plata",
            "South Carolina",
            "Gulf coast",
            "Saint-Domingue",
            "Other British Caribbean",
            "Jamaica",
            "St. Kitts",
            "Bahia",
            "Nevis",
            "Virginia",
            "Antigua",
            "Guadaloupe",
            "Spanish Circum-Caribbean",
            "Dutch Caribbean",
            "Martinique",
            "Barbados",
            "Dutch Guianas",
            "Pernambuco",
            "French Guiana",
            "Montserrat",
            "Southeast Brazil",
            "Americas"
           ],
           "lat": [
            -33.332605,
            33.1,
            29.8,
            18.54,
            18,
            17.881263,
            17.3,
            -12.983333,
            17.151005,
            36.9,
            17.067453,
            16,
            15.641117,
            14.751846,
            14.6,
            13.1,
            6.675248,
            -8.05,
            5.861294,
            16.7,
            -23.48894,
            0
           ],
           "legendgroup": "",
           "lon": [
            -58.498255,
            -79.54,
            -89.56,
            -72.34,
            -76.8,
            -76.522778,
            -62.716667,
            -38.516667,
            -62.589223,
            -76.3,
            -61.784741,
            -61.71667,
            -75.633932,
            -65.781346,
            -61.083333,
            -59.616667,
            -55.251124,
            -34.9,
            -53.612239,
            -62.216667,
            -42.256021,
            0
           ],
           "marker": {
            "color": "#636efa",
            "size": [
             7.242082359256962,
             6.126869184114185,
             4.605170185988092,
             8.083637203141548,
             5.605802066295998,
             8.900821604915228,
             6.588926477533519,
             8.830543010616596,
             6.152732694704104,
             6.851184927493743,
             5.0106352940962555,
             6.148468295917647,
             5.978885764901122,
             7.751045117971802,
             7.77485576666552,
             7.60887062919126,
             5.66988092298052,
             8.043020885298283,
             4.382026634673881,
             6.302618975744905,
             7.4413203897176174,
             4.564348191467836
            ],
            "sizemode": "area",
            "sizeref": 0.02718353458394048,
            "symbol": "circle"
           },
           "mode": "markers",
           "name": "",
           "showlegend": false,
           "type": "scattergeo"
          }
         ],
         "name": "1722"
        },
        {
         "data": [
          {
           "customdata": [
            [
             12285
            ],
            [
             2348
            ],
            [
             465
            ],
            [
             3298
            ],
            [
             304
            ],
            [
             153
            ],
            [
             1398
            ],
            [
             2649
            ],
            [
             2011
            ],
            [
             875
            ],
            [
             1505
            ],
            [
             455
            ],
            [
             237
            ],
            [
             105
            ],
            [
             767
            ],
            [
             3127
            ],
            [
             204
            ],
            [
             812
            ],
            [
             2013
            ],
            [
             2873
            ],
            [
             1236
            ],
            [
             744
            ]
           ],
           "geo": "geo",
           "hovertemplate": "<b>%{hovertext}</b><br><br>Year voyage began=1723<br>normalized_sizes=%{marker.size}<br>Latitude=%{lat}<br>Longitude=%{lon}<br>Total slaves embarked imputed * (slaximp)=%{customdata[0]}<extra></extra>",
           "hovertext": [
            "Bahia",
            "Dutch Caribbean",
            "Montserrat",
            "Southeast Brazil",
            "Virginia",
            "Nevis",
            "St. Kitts",
            "Martinique",
            "Americas",
            "Danish West Indies",
            "Saint-Domingue",
            "Other French Caribbean",
            "Cuba",
            "Gulf coast",
            "South Carolina",
            "Jamaica",
            "St. Lucia",
            "Antigua",
            "Pernambuco",
            "Barbados",
            "Dutch Guianas",
            "Rio de la Plata"
           ],
           "lat": [
            -12.983333,
            14.751846,
            16.7,
            -23.48894,
            36.9,
            17.151005,
            17.3,
            14.6,
            0,
            18,
            18.54,
            19.75778,
            23.115613,
            29.8,
            33.1,
            17.881263,
            14,
            17.067453,
            -8.05,
            13.1,
            6.675248,
            -33.332605
           ],
           "legendgroup": "",
           "lon": [
            -38.516667,
            -65.781346,
            -62.216667,
            -42.256021,
            -76.3,
            -62.589223,
            -62.716667,
            -61.083333,
            0,
            -64.9,
            -72.34,
            -72.20417,
            -79.127686,
            -89.56,
            -79.54,
            -76.522778,
            -61,
            -61.784741,
            -34.9,
            -59.616667,
            -55.251124,
            -58.498255
           ],
           "marker": {
            "color": "#636efa",
            "size": [
             9.41613428495528,
             7.761319180947987,
             6.142037405587356,
             8.101071503119543,
             5.717027701406222,
             5.030437921392435,
             7.242797922793756,
             7.88193748927207,
             7.606387389772652,
             6.774223886357614,
             7.316548177182976,
             6.12029741895095,
             5.4680601411351315,
             4.653960350157523,
             6.642486801367256,
             8.047829357457841,
             5.318119993844216,
             6.699500340161678,
             7.607381425639791,
             7.96311205897929,
             7.119635638017636,
             6.612041034833092
            ],
            "sizemode": "area",
            "sizeref": 0.02718353458394048,
            "symbol": "circle"
           },
           "mode": "markers",
           "name": "",
           "showlegend": false,
           "type": "scattergeo"
          }
         ],
         "name": "1723"
        },
        {
         "data": [
          {
           "customdata": [
            [
             1875
            ],
            [
             5048
            ],
            [
             7589
            ],
            [
             433
            ],
            [
             645
            ],
            [
             138
            ],
            [
             2262
            ],
            [
             2562
            ],
            [
             796
            ],
            [
             5
            ],
            [
             1526
            ],
            [
             478
            ],
            [
             714
            ],
            [
             224
            ],
            [
             5059
            ],
            [
             1105
            ],
            [
             1741
            ],
            [
             1489
            ],
            [
             556
            ],
            [
             5387
            ],
            [
             182
            ],
            [
             787
            ],
            [
             1947
            ],
            [
             10850
            ],
            [
             358
            ]
           ],
           "geo": "geo",
           "hovertemplate": "<b>%{hovertext}</b><br><br>Year voyage began=1724<br>normalized_sizes=%{marker.size}<br>Latitude=%{lat}<br>Longitude=%{lon}<br>Total slaves embarked imputed * (slaximp)=%{customdata[0]}<extra></extra>",
           "hovertext": [
            "St. Kitts",
            "Pernambuco",
            "Jamaica",
            "Maryland",
            "Other British Caribbean",
            "French Guiana",
            "Rio de la Plata",
            "Saint-Domingue",
            "Cuba",
            "New York",
            "Americas",
            "South Carolina",
            "Danish West Indies",
            "Nevis",
            "Barbados",
            "Virginia",
            "Martinique",
            "Antigua",
            "Montserrat",
            "Southeast Brazil",
            "Portugal",
            "Dutch Guianas",
            "Dutch Caribbean",
            "Bahia",
            "Spanish Circum-Caribbean"
           ],
           "lat": [
            17.3,
            -8.05,
            17.881263,
            39.57,
            18,
            5.861294,
            -33.332605,
            18.54,
            23.115613,
            40.703068,
            0,
            33.1,
            18,
            17.151005,
            13.1,
            36.9,
            14.6,
            17.067453,
            16.7,
            -23.48894,
            40.046745,
            6.675248,
            14.751846,
            -12.983333,
            15.641117
           ],
           "legendgroup": "",
           "lon": [
            -62.716667,
            -34.9,
            -76.522778,
            -76.03,
            -76.8,
            -53.612239,
            -58.498255,
            -72.34,
            -79.127686,
            -74.011117,
            0,
            -79.54,
            -64.9,
            -62.589223,
            -59.616667,
            -76.3,
            -61.083333,
            -61.784741,
            -62.216667,
            -42.256021,
            -8.838545,
            -55.251124,
            -65.781346,
            -38.516667,
            -75.633932
           ],
           "marker": {
            "color": "#636efa",
            "size": [
             7.536363938404511,
             8.52674740422105,
             8.934455109403913,
             6.07073772800249,
             6.4692503167957724,
             4.927253685157205,
             7.724004656676065,
             7.848543482456679,
             6.679599185844383,
             1.6094379124341003,
             7.330405211844402,
             6.169610732491456,
             6.570882962339584,
             5.4116460518550396,
             8.528924114291936,
             7.007600613951853,
             7.462214939768189,
             7.305860032684009,
             6.320768294250582,
             8.591743922680534,
             5.204006687076795,
             6.668228248417403,
             7.5740450053721995,
             9.291920358968605,
             5.8805329864007
            ],
            "sizemode": "area",
            "sizeref": 0.02718353458394048,
            "symbol": "circle"
           },
           "mode": "markers",
           "name": "",
           "showlegend": false,
           "type": "scattergeo"
          }
         ],
         "name": "1724"
        },
        {
         "data": [
          {
           "customdata": [
            [
             1946
            ],
            [
             1264
            ],
            [
             585
            ],
            [
             1490
            ],
            [
             1964
            ],
            [
             7429
            ],
            [
             1189
            ],
            [
             2490
            ],
            [
             4894
            ],
            [
             83
            ],
            [
             11149
            ],
            [
             4077
            ],
            [
             1856
            ],
            [
             1886
            ],
            [
             4097
            ],
            [
             474
            ],
            [
             1508
            ],
            [
             6692
            ],
            [
             71
            ],
            [
             711
            ],
            [
             2466
            ]
           ],
           "geo": "geo",
           "hovertemplate": "<b>%{hovertext}</b><br><br>Year voyage began=1725<br>normalized_sizes=%{marker.size}<br>Latitude=%{lat}<br>Longitude=%{lon}<br>Total slaves embarked imputed * (slaximp)=%{customdata[0]}<extra></extra>",
           "hovertext": [
            "South Carolina",
            "Martinique",
            "Gulf coast",
            "Americas",
            "Dutch Caribbean",
            "Bahia",
            "Spanish Circum-Caribbean",
            "Dutch Guianas",
            "Pernambuco",
            "Massachusetts",
            "Jamaica",
            "Barbados",
            "Antigua",
            "Rio de la Plata",
            "Saint-Domingue",
            "Danish West Indies",
            "St. Kitts",
            "Southeast Brazil",
            "New York",
            "Maryland",
            "Virginia"
           ],
           "lat": [
            33.1,
            14.6,
            29.8,
            0,
            14.751846,
            -12.983333,
            15.641117,
            6.675248,
            -8.05,
            42.179453,
            17.881263,
            13.1,
            17.067453,
            -33.332605,
            18.54,
            18,
            17.3,
            -23.48894,
            40.703068,
            39.57,
            36.9
           ],
           "legendgroup": "",
           "lon": [
            -79.54,
            -61.083333,
            -89.56,
            0,
            -65.781346,
            -38.516667,
            -75.633932,
            -55.251124,
            -34.9,
            -70.724689,
            -76.522778,
            -59.616667,
            -61.784741,
            -58.498255,
            -72.34,
            -64.9,
            -62.716667,
            -42.256021,
            -74.011117,
            -76.03,
            -76.3
           ],
           "marker": {
            "color": "#636efa",
            "size": [
             7.57353126274595,
             7.142036574706803,
             6.371611847231857,
             7.306531398939505,
             7.582738488914411,
             8.913146539151807,
             7.080867896690782,
             7.820037989458753,
             8.495765244002618,
             4.418840607796598,
             9.319105086767571,
             8.313116702819253,
             7.526178913346146,
             7.542213463193403,
             8.318010277546872,
             6.161207321695077,
             7.318539548567902,
             8.808668062106715,
             4.2626798770413155,
             6.566672429803241,
             7.81035268372429
            ],
            "sizemode": "area",
            "sizeref": 0.02718353458394048,
            "symbol": "circle"
           },
           "mode": "markers",
           "name": "",
           "showlegend": false,
           "type": "scattergeo"
          }
         ],
         "name": "1725"
        },
        {
         "data": [
          {
           "customdata": [
            [
             514
            ],
            [
             5361
            ],
            [
             542
            ],
            [
             2418
            ],
            [
             12619
            ],
            [
             1492
            ],
            [
             441
            ],
            [
             4746
            ],
            [
             222
            ],
            [
             970
            ],
            [
             2354
            ],
            [
             3359
            ],
            [
             1139
            ],
            [
             2794
            ],
            [
             5015
            ],
            [
             564
            ],
            [
             1459
            ],
            [
             3661
            ],
            [
             672
            ],
            [
             4910
            ],
            [
             513
            ]
           ],
           "geo": "geo",
           "hovertemplate": "<b>%{hovertext}</b><br><br>Year voyage began=1726<br>normalized_sizes=%{marker.size}<br>Latitude=%{lat}<br>Longitude=%{lon}<br>Total slaves embarked imputed * (slaximp)=%{customdata[0]}<extra></extra>",
           "hovertext": [
            "Danish West Indies",
            "Jamaica",
            "Maryland",
            "St. Kitts",
            "Bahia",
            "Antigua",
            "Montserrat",
            "Virginia",
            "Guadaloupe",
            "Dutch Caribbean",
            "Martinique",
            "Barbados",
            "Rio de la Plata",
            "Dutch Guianas",
            "Pernambuco",
            "French Guiana",
            "Americas",
            "Saint-Domingue",
            "Gulf coast",
            "Southeast Brazil",
            "South Carolina"
           ],
           "lat": [
            18,
            17.881263,
            39.57,
            17.3,
            -12.983333,
            17.067453,
            16.7,
            36.9,
            16,
            14.751846,
            14.6,
            13.1,
            -33.332605,
            6.675248,
            -8.05,
            5.861294,
            0,
            18.54,
            29.8,
            -23.48894,
            33.1
           ],
           "legendgroup": "",
           "lon": [
            -64.9,
            -76.522778,
            -76.03,
            -62.716667,
            -38.516667,
            -61.784741,
            -62.216667,
            -76.3,
            -61.71667,
            -65.781346,
            -61.083333,
            -59.616667,
            -58.498255,
            -55.251124,
            -34.9,
            -53.612239,
            0,
            -72.34,
            -89.56,
            -42.256021,
            -79.54
           ],
           "marker": {
            "color": "#636efa",
            "size": [
             6.2422232654551655,
             8.586905803827538,
             6.295266001439646,
             7.790696031174738,
             9.44295889365291,
             7.307872780763706,
             6.089044875446846,
             8.465057436995709,
             5.402677381872279,
             6.877296071497429,
             7.763871287820222,
             8.119398589612294,
             7.037905963447182,
             7.935229539816907,
             8.520188700396035,
             6.335054251498059,
             7.285506548522785,
             8.205491613120236,
             6.51025834052315,
             8.499029220788566,
             6.240275845170769
            ],
            "sizemode": "area",
            "sizeref": 0.02718353458394048,
            "symbol": "circle"
           },
           "mode": "markers",
           "name": "",
           "showlegend": false,
           "type": "scattergeo"
          }
         ],
         "name": "1726"
        },
        {
         "data": [
          {
           "customdata": [
            [
             406
            ],
            [
             149
            ],
            [
             2273
            ],
            [
             872
            ],
            [
             740
            ],
            [
             1474
            ],
            [
             238
            ],
            [
             271
            ],
            [
             5503
            ],
            [
             6867
            ],
            [
             271
            ],
            [
             7496
            ],
            [
             2169
            ],
            [
             333
            ],
            [
             271
            ],
            [
             778
            ],
            [
             295
            ],
            [
             11216
            ],
            [
             955
            ],
            [
             193
            ],
            [
             638
            ],
            [
             1786
            ],
            [
             2362
            ],
            [
             4362
            ]
           ],
           "geo": "geo",
           "hovertemplate": "<b>%{hovertext}</b><br><br>Year voyage began=1727<br>normalized_sizes=%{marker.size}<br>Latitude=%{lat}<br>Longitude=%{lon}<br>Total slaves embarked imputed * (slaximp)=%{customdata[0]}<extra></extra>",
           "hovertext": [
            "Portugal",
            "Guadaloupe",
            "Saint-Domingue",
            "Gulf coast",
            "Montserrat",
            "Dutch Guianas",
            "Danish West Indies",
            "Maryland",
            "Southeast Brazil",
            "Pernambuco",
            "Rio de la Plata",
            "Jamaica",
            "Antigua",
            "St. Kitts",
            "French Guiana",
            "Dutch Caribbean",
            "Cuba",
            "Bahia",
            "South Carolina",
            "Nevis",
            "Americas",
            "Virginia",
            "Martinique",
            "Barbados"
           ],
           "lat": [
            40.046745,
            16,
            18.54,
            29.8,
            16.7,
            6.675248,
            18,
            39.57,
            -23.48894,
            -8.05,
            -33.332605,
            17.881263,
            17.067453,
            17.3,
            5.861294,
            14.751846,
            23.115613,
            -12.983333,
            33.1,
            17.151005,
            0,
            36.9,
            14.6,
            13.1
           ],
           "legendgroup": "",
           "lon": [
            -8.838545,
            -61.71667,
            -72.34,
            -89.56,
            -62.216667,
            -55.251124,
            -64.9,
            -76.03,
            -42.256021,
            -34.9,
            -58.498255,
            -76.522778,
            -61.784741,
            -62.716667,
            -53.612239,
            -65.781346,
            -79.127686,
            -38.516667,
            -79.54,
            -62.589223,
            0,
            -76.3,
            -61.083333,
            -59.616667
           ],
           "marker": {
            "color": "#636efa",
            "size": [
             6.0063531596017325,
             5.003946305945459,
             7.728855823852543,
             6.77078942390898,
             6.606650186198215,
             7.295735072749282,
             5.472270673671475,
             5.602118820879701,
             8.613048677059759,
             8.834482608620677,
             5.602118820879701,
             8.922124823918258,
             7.682021510826875,
             5.808142489980444,
             5.602118820879701,
             6.656726524178391,
             5.68697535633982,
             9.325096609274372,
             6.86171134048073,
             5.262690188904886,
             6.45833828334479,
             7.487733761436444,
             7.767263996757308,
             8.380685946761574
            ],
            "sizemode": "area",
            "sizeref": 0.02718353458394048,
            "symbol": "circle"
           },
           "mode": "markers",
           "name": "",
           "showlegend": false,
           "type": "scattergeo"
          }
         ],
         "name": "1727"
        },
        {
         "data": [
          {
           "customdata": [
            [
             1546
            ],
            [
             416
            ],
            [
             1383
            ],
            [
             1148
            ],
            [
             180
            ],
            [
             1351
            ],
            [
             388
            ],
            [
             4836
            ],
            [
             1119
            ],
            [
             3631
            ],
            [
             973
            ],
            [
             10522
            ],
            [
             271
            ],
            [
             11304
            ],
            [
             271
            ],
            [
             271
            ],
            [
             3205
            ],
            [
             1275
            ],
            [
             126
            ],
            [
             148
            ],
            [
             2176
            ],
            [
             2939
            ],
            [
             325
            ],
            [
             3408
            ],
            [
             149
            ],
            [
             271
            ],
            [
             5225
            ]
           ],
           "geo": "geo",
           "hovertemplate": "<b>%{hovertext}</b><br><br>Year voyage began=1728<br>normalized_sizes=%{marker.size}<br>Latitude=%{lat}<br>Longitude=%{lon}<br>Total slaves embarked imputed * (slaximp)=%{customdata[0]}<extra></extra>",
           "hovertext": [
            "Dutch Caribbean",
            "Maryland",
            "Spanish Circum-Caribbean",
            "Gulf coast",
            "Guadaloupe",
            "Virginia",
            "Montserrat",
            "Southeast Brazil",
            "South Carolina",
            "Antigua",
            "St. Kitts",
            "Bahia",
            "Nevis",
            "Jamaica",
            "Spain",
            "Other British Caribbean",
            "Saint-Domingue",
            "Americas",
            "Danish West Indies",
            "Portugal",
            "Dutch Guianas",
            "Martinique",
            "French Guiana",
            "Pernambuco",
            "Rhode Island",
            "Hispaniola",
            "Barbados"
           ],
           "lat": [
            14.751846,
            39.57,
            15.641117,
            29.8,
            16,
            36.9,
            16.7,
            -23.48894,
            33.1,
            17.067453,
            17.3,
            -12.983333,
            17.151005,
            17.881263,
            37.200782,
            18,
            18.54,
            0,
            18,
            40.046745,
            6.675248,
            14.6,
            5.861294,
            -8.05,
            41.384793,
            18.35,
            13.1
           ],
           "legendgroup": "",
           "lon": [
            -65.781346,
            -76.03,
            -75.633932,
            -89.56,
            -61.71667,
            -76.3,
            -62.216667,
            -42.256021,
            -79.54,
            -61.784741,
            -62.716667,
            -38.516667,
            -62.589223,
            -76.522778,
            -6.862857,
            -76.8,
            -72.34,
            0,
            -64.9,
            -8.838545,
            -55.251124,
            -61.083333,
            -53.612239,
            -34.9,
            -71.466516,
            -69.35,
            -59.616667
           ],
           "marker": {
            "color": "#636efa",
            "size": [
             7.343426229147367,
             6.030685260261263,
             7.232010331664759,
             7.045776576879511,
             5.19295685089021,
             7.208600337960199,
             5.961005339623274,
             8.483843211734683,
             7.020190708311925,
             8.197263371414335,
             6.880384082186005,
             9.261223582290752,
             5.602118820879701,
             9.332911924364364,
             5.602118820879701,
             5.602118820879701,
             8.07246736935477,
             7.150701457592526,
             4.836281906951478,
             4.997212273764115,
             7.685243607975833,
             7.985824666418917,
             5.783825182329737,
             8.133880887949207,
             5.003946305945459,
             5.602118820879701,
             8.561210076833012
            ],
            "sizemode": "area",
            "sizeref": 0.02718353458394048,
            "symbol": "circle"
           },
           "mode": "markers",
           "name": "",
           "showlegend": false,
           "type": "scattergeo"
          }
         ],
         "name": "1728"
        },
        {
         "data": [
          {
           "customdata": [
            [
             437
            ],
            [
             39
            ],
            [
             5250
            ],
            [
             492
            ],
            [
             2892
            ],
            [
             1488
            ],
            [
             13345
            ],
            [
             2099
            ],
            [
             3880
            ],
            [
             2963
            ],
            [
             2679
            ],
            [
             1211
            ],
            [
             457
            ],
            [
             1117
            ],
            [
             1563
            ],
            [
             11754
            ],
            [
             121
            ],
            [
             5636
            ],
            [
             250
            ],
            [
             55
            ]
           ],
           "geo": "geo",
           "hovertemplate": "<b>%{hovertext}</b><br><br>Year voyage began=1729<br>normalized_sizes=%{marker.size}<br>Latitude=%{lat}<br>Longitude=%{lon}<br>Total slaves embarked imputed * (slaximp)=%{customdata[0]}<extra></extra>",
           "hovertext": [
            "South Carolina",
            "Portugal",
            "Martinique",
            "French Guiana",
            "Antigua",
            "Southeast Brazil",
            "Bahia",
            "Americas",
            "Pernambuco",
            "St. Kitts",
            "Saint-Domingue",
            "Gulf coast",
            "Virginia",
            "Dutch Guianas",
            "Rio de la Plata",
            "Jamaica",
            "Spanish Circum-Caribbean",
            "Barbados",
            "Maryland",
            "Danish West Indies"
           ],
           "lat": [
            33.1,
            40.046745,
            14.6,
            5.861294,
            17.067453,
            -23.48894,
            -12.983333,
            0,
            -8.05,
            17.3,
            18.54,
            29.8,
            36.9,
            6.675248,
            -33.332605,
            17.881263,
            15.641117,
            13.1,
            39.57,
            18
           ],
           "legendgroup": "",
           "lon": [
            -79.54,
            -8.838545,
            -61.083333,
            -53.612239,
            -61.784741,
            -42.256021,
            -38.516667,
            0,
            -34.9,
            -62.716667,
            -72.34,
            -89.56,
            -76.3,
            -55.251124,
            -58.498255,
            -76.522778,
            -75.633932,
            -59.616667,
            -76.03,
            -64.9
           ],
           "marker": {
            "color": "#636efa",
            "size": [
             6.07993319509559,
             3.6635616461296463,
             8.565983355585669,
             6.198478716492308,
             7.969703583278656,
             7.305188215393037,
             9.498897061838624,
             7.649216319820633,
             8.263590432617319,
             7.993957547573565,
             7.893198869544609,
             7.099201743553092,
             6.124683390894205,
             7.018401799069201,
             7.354362330421477,
             9.371948887172596,
             4.795790545596741,
             8.636929873018572,
             5.521460917862246,
             4.007333185232471
            ],
            "sizemode": "area",
            "sizeref": 0.02718353458394048,
            "symbol": "circle"
           },
           "mode": "markers",
           "name": "",
           "showlegend": false,
           "type": "scattergeo"
          }
         ],
         "name": "1729"
        },
        {
         "data": [
          {
           "customdata": [
            [
             3424
            ],
            [
             310
            ],
            [
             708
            ],
            [
             1144
            ],
            [
             9832
            ],
            [
             1647
            ],
            [
             331
            ],
            [
             2308
            ],
            [
             7306
            ],
            [
             3217
            ],
            [
             331
            ],
            [
             3104
            ],
            [
             392
            ],
            [
             2136
            ],
            [
             1669
            ],
            [
             152
            ],
            [
             162
            ],
            [
             1373
            ],
            [
             2011
            ],
            [
             201
            ],
            [
             162
            ],
            [
             240
            ],
            [
             3136
            ],
            [
             309
            ],
            [
             13143
            ]
           ],
           "geo": "geo",
           "hovertemplate": "<b>%{hovertext}</b><br><br>Year voyage began=1730<br>normalized_sizes=%{marker.size}<br>Latitude=%{lat}<br>Longitude=%{lon}<br>Total slaves embarked imputed * (slaximp)=%{customdata[0]}<extra></extra>",
           "hovertext": [
            "Martinique",
            "Americas",
            "Other Caribbean",
            "Maryland",
            "Bahia",
            "Rio de la Plata",
            "Other North America",
            "South Carolina",
            "Barbados",
            "Pernambuco",
            "Portugal",
            "Dutch Guianas",
            "Montserrat",
            "Antigua",
            "Southeast Brazil",
            "New York",
            "Puerto Rico",
            "Virginia",
            "St. Kitts",
            "Other French Caribbean",
            "Bahamas",
            "Spain",
            "Saint-Domingue",
            "Cuba",
            "Jamaica"
           ],
           "lat": [
            14.6,
            0,
            0,
            39.57,
            -12.983333,
            -33.332605,
            33.875649,
            33.1,
            13.1,
            -8.05,
            40.046745,
            6.675248,
            16.7,
            17.067453,
            -23.48894,
            40.703068,
            18.420959,
            36.9,
            17.3,
            19.75778,
            22.783937,
            37.200782,
            18.54,
            23.115613,
            17.881263
           ],
           "legendgroup": "",
           "lon": [
            -61.083333,
            0,
            0,
            -76.03,
            -38.516667,
            -58.498255,
            -78.444029,
            -79.54,
            -59.616667,
            -34.9,
            -8.838545,
            -55.251124,
            -62.216667,
            -61.784741,
            -42.256021,
            -74.011117,
            -66.070508,
            -76.3,
            -62.716667,
            -72.20417,
            -74.303605,
            -6.862857,
            -72.34,
            -79.127686,
            -76.522778
           ],
           "marker": {
            "color": "#636efa",
            "size": [
             8.138564737261632,
             5.736572297479192,
             6.56244409369372,
             7.042286171939743,
             9.19339765124587,
             7.4067107301776405,
             5.802118375377063,
             7.744136627627991,
             8.896451207355227,
             8.076204527239026,
             5.802118375377063,
             8.04044688130311,
             5.971261839790462,
             7.666690200080086,
             7.419979923661835,
             5.0238805208462765,
             5.087596335232384,
             7.224753405767971,
             7.606387389772652,
             5.303304908059076,
             5.087596335232384,
             5.480638923341991,
             8.0507033814703,
             5.733341276897746,
             9.483644576482009
            ],
            "sizemode": "area",
            "sizeref": 0.02718353458394048,
            "symbol": "circle"
           },
           "mode": "markers",
           "name": "",
           "showlegend": false,
           "type": "scattergeo"
          }
         ],
         "name": "1730"
        },
        {
         "data": [
          {
           "customdata": [
            [
             120
            ],
            [
             3145
            ],
            [
             771
            ],
            [
             173
            ],
            [
             14668
            ],
            [
             271
            ],
            [
             902
            ],
            [
             2445
            ],
            [
             2042
            ],
            [
             1489
            ],
            [
             2860
            ],
            [
             1349
            ],
            [
             1590
            ],
            [
             5310
            ],
            [
             9225
            ],
            [
             602
            ],
            [
             1282
            ],
            [
             571
            ],
            [
             1482
            ]
           ],
           "geo": "geo",
           "hovertemplate": "<b>%{hovertext}</b><br><br>Year voyage began=1731<br>normalized_sizes=%{marker.size}<br>Latitude=%{lat}<br>Longitude=%{lon}<br>Total slaves embarked imputed * (slaximp)=%{customdata[0]}<extra></extra>",
           "hovertext": [
            "Danish West Indies",
            "Dutch Guianas",
            "Maryland",
            "Dutch Caribbean",
            "Jamaica",
            "New York",
            "Antigua",
            "Barbados",
            "Martinique",
            "St. Kitts",
            "Southeast Brazil",
            "Americas",
            "Virginia",
            "Saint-Domingue",
            "Bahia",
            "Other Caribbean",
            "South Carolina",
            "Portugal",
            "Pernambuco"
           ],
           "lat": [
            18,
            6.675248,
            39.57,
            14.751846,
            17.881263,
            40.703068,
            17.067453,
            13.1,
            14.6,
            17.3,
            -23.48894,
            0,
            36.9,
            18.54,
            -12.983333,
            0,
            33.1,
            40.046745,
            -8.05
           ],
           "legendgroup": "",
           "lon": [
            -64.9,
            -55.251124,
            -76.03,
            -65.781346,
            -76.522778,
            -74.011117,
            -61.784741,
            -59.616667,
            -61.083333,
            -62.716667,
            -42.256021,
            0,
            -76.3,
            -72.34,
            -38.516667,
            0,
            -79.54,
            -8.838545,
            -34.9
           ],
           "marker": {
            "color": "#636efa",
            "size": [
             4.787491742782046,
             8.05356916913454,
             6.647688373563329,
             5.153291594497779,
             9.593423529191217,
             5.602118820879701,
             6.804614520062624,
             7.801800401908973,
             7.621684998724611,
             7.305860032684009,
             7.958576903813898,
             7.207118856207756,
             7.371489295214277,
             8.577347114235984,
             9.129672468908728,
             6.400257445308821,
             7.156176637480615,
             6.3473892096560105,
             7.301147805856032
            ],
            "sizemode": "area",
            "sizeref": 0.02718353458394048,
            "symbol": "circle"
           },
           "mode": "markers",
           "name": "",
           "showlegend": false,
           "type": "scattergeo"
          }
         ],
         "name": "1731"
        },
        {
         "data": [
          {
           "customdata": [
            [
             1748
            ],
            [
             3146
            ],
            [
             3744
            ],
            [
             1324
            ],
            [
             257
            ],
            [
             9584
            ],
            [
             539
            ],
            [
             2730
            ],
            [
             1487
            ],
            [
             566
            ],
            [
             63
            ],
            [
             2104
            ],
            [
             2237
            ],
            [
             149
            ],
            [
             3477
            ],
            [
             616
            ],
            [
             273
            ],
            [
             8887
            ],
            [
             273
            ],
            [
             442
            ]
           ],
           "geo": "geo",
           "hovertemplate": "<b>%{hovertext}</b><br><br>Year voyage began=1732<br>normalized_sizes=%{marker.size}<br>Latitude=%{lat}<br>Longitude=%{lon}<br>Total slaves embarked imputed * (slaximp)=%{customdata[0]}<extra></extra>",
           "hovertext": [
            "Pernambuco",
            "Saint-Domingue",
            "South Carolina",
            "Rio de la Plata",
            "New Jersey",
            "Jamaica",
            "Dutch Caribbean",
            "Virginia",
            "Martinique",
            "Spain",
            "Portugal",
            "Americas",
            "Barbados",
            "Rhode Island",
            "Dutch Guianas",
            "Maryland",
            "Nevis",
            "Bahia",
            "St. Kitts",
            "Antigua"
           ],
           "lat": [
            -8.05,
            18.54,
            33.1,
            -33.332605,
            40.3,
            17.881263,
            14.751846,
            36.9,
            14.6,
            37.200782,
            40.046745,
            0,
            13.1,
            41.384793,
            6.675248,
            39.57,
            17.151005,
            -12.983333,
            17.3,
            17.067453
           ],
           "legendgroup": "",
           "lon": [
            -34.9,
            -72.34,
            -79.54,
            -58.498255,
            -74.18,
            -76.522778,
            -65.781346,
            -76.3,
            -61.083333,
            -6.862857,
            -8.838545,
            0,
            -59.616667,
            -71.466516,
            -55.251124,
            -76.03,
            -62.589223,
            -38.516667,
            -62.716667,
            -61.784741
           ],
           "marker": {
            "color": "#636efa",
            "size": [
             7.466227556215481,
             8.053887083618223,
             8.227909837597483,
             7.188412736496954,
             5.54907608489522,
             9.16785032035523,
             6.289715570908998,
             7.912056888179006,
             7.304515946460155,
             6.338594078203183,
             4.143134726391533,
             7.651595573857601,
             7.71289096149013,
             5.003946305945459,
             8.153925132007862,
             6.423246963533519,
             5.60947179518496,
             9.092344813738475,
             5.60947179518496,
             6.091309882077698
            ],
            "sizemode": "area",
            "sizeref": 0.02718353458394048,
            "symbol": "circle"
           },
           "mode": "markers",
           "name": "",
           "showlegend": false,
           "type": "scattergeo"
          }
         ],
         "name": "1732"
        },
        {
         "data": [
          {
           "customdata": [
            [
             526
            ],
            [
             394
            ],
            [
             143
            ],
            [
             1995
            ],
            [
             1287
            ],
            [
             667
            ],
            [
             1807
            ],
            [
             1920
            ],
            [
             2061
            ],
            [
             172
            ],
            [
             1756
            ],
            [
             3996
            ],
            [
             2188
            ],
            [
             187
            ],
            [
             495
            ],
            [
             185
            ],
            [
             3104
            ],
            [
             268
            ],
            [
             284
            ],
            [
             271
            ],
            [
             12085
            ],
            [
             5103
            ]
           ],
           "geo": "geo",
           "hovertemplate": "<b>%{hovertext}</b><br><br>Year voyage began=1733<br>normalized_sizes=%{marker.size}<br>Latitude=%{lat}<br>Longitude=%{lon}<br>Total slaves embarked imputed * (slaximp)=%{customdata[0]}<extra></extra>",
           "hovertext": [
            "Rio de la Plata",
            "Spain",
            "Bight of Biafra and Gulf of Guinea islands",
            "Martinique",
            "St. Kitts",
            "Danish West Indies",
            "Barbados",
            "South Carolina",
            "Virginia",
            "Antigua",
            "Dutch Guianas",
            "Americas",
            "Saint-Domingue",
            "Portugal",
            "Maryland",
            "Dutch Caribbean",
            "Pernambuco",
            "Southeast Brazil",
            "Spanish Circum-Caribbean",
            "Montserrat",
            "Bahia",
            "Jamaica"
           ],
           "lat": [
            -33.332605,
            37.200782,
            4.17,
            14.6,
            17.3,
            18,
            13.1,
            33.1,
            36.9,
            17.067453,
            6.675248,
            0,
            18.54,
            40.046745,
            39.57,
            14.751846,
            -8.05,
            -23.48894,
            15.641117,
            16.7,
            -12.983333,
            17.881263
           ],
           "legendgroup": "",
           "lon": [
            -58.498255,
            -6.862857,
            8.31,
            -61.083333,
            -62.716667,
            -64.9,
            -59.616667,
            -79.54,
            -76.3,
            -61.784741,
            -55.251124,
            0,
            -72.34,
            -8.838545,
            -76.03,
            -65.781346,
            -34.9,
            -42.256021,
            -75.633932,
            -62.216667,
            -38.516667,
            -76.522778
           ],
           "marker": {
            "color": "#636efa",
            "size": [
             6.26530121273771,
             5.976350909297934,
             4.962844630259907,
             7.598399329323964,
             7.160069207596127,
             6.502790045915623,
             7.499423290592229,
             7.560080465021827,
             7.630946580890459,
             5.147494476813453,
             7.470793774195062,
             8.293049139768444,
             7.690743163541872,
             5.231108616854587,
             6.20455776256869,
             5.220355825078324,
             8.04044688130311,
             5.5909869805108565,
             5.648974238161206,
             5.602118820879701,
             9.399720293137584,
             8.537583881063972
            ],
            "sizemode": "area",
            "sizeref": 0.02718353458394048,
            "symbol": "circle"
           },
           "mode": "markers",
           "name": "",
           "showlegend": false,
           "type": "scattergeo"
          }
         ],
         "name": "1733"
        },
        {
         "data": [
          {
           "customdata": [
            [
             2161
            ],
            [
             2322
            ],
            [
             1620
            ],
            [
             8102
            ],
            [
             271
            ],
            [
             2976
            ],
            [
             172
            ],
            [
             800
            ],
            [
             113
            ],
            [
             993
            ],
            [
             760
            ],
            [
             1819
            ],
            [
             1040
            ],
            [
             3948
            ],
            [
             1360
            ],
            [
             2416
            ],
            [
             5541
            ],
            [
             96
            ],
            [
             5014
            ]
           ],
           "geo": "geo",
           "hovertemplate": "<b>%{hovertext}</b><br><br>Year voyage began=1734<br>normalized_sizes=%{marker.size}<br>Latitude=%{lat}<br>Longitude=%{lon}<br>Total slaves embarked imputed * (slaximp)=%{customdata[0]}<extra></extra>",
           "hovertext": [
            "Dutch Guianas",
            "Barbados",
            "Virginia",
            "Bahia",
            "Maryland",
            "South Carolina",
            "Montserrat",
            "St. Kitts",
            "Spanish Circum-Caribbean",
            "Other Caribbean",
            "Dutch Caribbean",
            "Martinique",
            "Antigua",
            "Pernambuco",
            "Americas",
            "Saint-Domingue",
            "Southeast Brazil",
            "Guadaloupe",
            "Jamaica"
           ],
           "lat": [
            6.675248,
            13.1,
            36.9,
            -12.983333,
            39.57,
            33.1,
            16.7,
            17.3,
            15.641117,
            0,
            14.751846,
            14.6,
            17.067453,
            -8.05,
            0,
            18.54,
            -23.48894,
            16,
            17.881263
           ],
           "legendgroup": "",
           "lon": [
            -55.251124,
            -59.616667,
            -76.3,
            -38.516667,
            -76.03,
            -79.54,
            -62.216667,
            -62.716667,
            -75.633932,
            0,
            -65.781346,
            -61.083333,
            -61.784741,
            -34.9,
            0,
            -72.34,
            -42.256021,
            -61.71667,
            -76.522778
           ],
           "marker": {
            "color": "#636efa",
            "size": [
             7.6783263565068856,
             7.7501841622578365,
             7.3901814282264295,
             8.999866223762636,
             5.602118820879701,
             7.998335395952982,
             5.147494476813453,
             6.684611727667927,
             4.727387818712341,
             6.900730664045173,
             6.633318433280377,
             7.506042178518122,
             6.946975992135418,
             8.280964400553373,
             7.215239978730097,
             7.789868559054706,
             8.61993026886735,
             4.564348191467836,
             8.519989278718239
            ],
            "sizemode": "area",
            "sizeref": 0.02718353458394048,
            "symbol": "circle"
           },
           "mode": "markers",
           "name": "",
           "showlegend": false,
           "type": "scattergeo"
          }
         ],
         "name": "1734"
        },
        {
         "data": [
          {
           "customdata": [
            [
             3104
            ],
            [
             5281
            ],
            [
             3914
            ],
            [
             8
            ],
            [
             5986
            ],
            [
             4225
            ],
            [
             3061
            ],
            [
             1711
            ],
            [
             2232
            ],
            [
             789
            ],
            [
             1668
            ],
            [
             271
            ],
            [
             301
            ],
            [
             903
            ],
            [
             4364
            ],
            [
             1151
            ],
            [
             788
            ],
            [
             200
            ],
            [
             1972
            ],
            [
             150
            ],
            [
             170
            ]
           ],
           "geo": "geo",
           "hovertemplate": "<b>%{hovertext}</b><br><br>Year voyage began=1735<br>normalized_sizes=%{marker.size}<br>Latitude=%{lat}<br>Longitude=%{lon}<br>Total slaves embarked imputed * (slaximp)=%{customdata[0]}<extra></extra>",
           "hovertext": [
            "Pernambuco",
            "South Carolina",
            "Saint-Domingue",
            "Portugal",
            "Bahia",
            "Virginia",
            "Dutch Guianas",
            "Antigua",
            "Americas",
            "Montserrat",
            "Other Caribbean",
            "Maryland",
            "Southeast Brazil",
            "Barbados",
            "Jamaica",
            "Martinique",
            "Rio de la Plata",
            "Dutch Caribbean",
            "St. Kitts",
            "British Americas",
            "Spanish Circum-Caribbean"
           ],
           "lat": [
            -8.05,
            33.1,
            18.54,
            40.046745,
            -12.983333,
            36.9,
            6.675248,
            17.067453,
            0,
            16.7,
            0,
            39.57,
            -23.48894,
            13.1,
            17.881263,
            14.6,
            -33.332605,
            14.751846,
            17.3,
            38.84284,
            15.641117
           ],
           "legendgroup": "",
           "lon": [
            -34.9,
            -79.54,
            -72.34,
            -8.838545,
            -38.516667,
            -76.3,
            -55.251124,
            -61.784741,
            0,
            -62.216667,
            0,
            -76.03,
            -42.256021,
            -59.616667,
            -76.522778,
            -61.083333,
            -58.498255,
            -65.781346,
            -62.716667,
            -78.972562,
            -75.633932
           ],
           "marker": {
            "color": "#636efa",
            "size": [
             8.04044688130311,
             8.571870752706934,
             8.272315147956022,
             2.0794415416798357,
             8.697178688412643,
             8.348774539791274,
             8.026496938945412,
             7.444833273892193,
             7.710653323501202,
             6.670766320845874,
             7.419380582918692,
             5.602118820879701,
             5.707110264748875,
             6.805722553416985,
             8.381144346952961,
             7.048386408721883,
             6.669498089857879,
             5.298317366548036,
             7.586803535162581,
             5.0106352940962555,
             5.135798437050262
            ],
            "sizemode": "area",
            "sizeref": 0.02718353458394048,
            "symbol": "circle"
           },
           "mode": "markers",
           "name": "",
           "showlegend": false,
           "type": "scattergeo"
          }
         ],
         "name": "1735"
        },
        {
         "data": [
          {
           "customdata": [
            [
             2328
            ],
            [
             271
            ],
            [
             446
            ],
            [
             172
            ],
            [
             240
            ],
            [
             5374
            ],
            [
             6813
            ],
            [
             1602
            ],
            [
             675
            ],
            [
             300
            ],
            [
             1950
            ],
            [
             250
            ],
            [
             2951
            ],
            [
             2937
            ],
            [
             1289
            ],
            [
             4173
            ],
            [
             150
            ],
            [
             2826
            ],
            [
             83
            ],
            [
             11873
            ],
            [
             2271
            ],
            [
             48
            ],
            [
             1635
            ],
            [
             910
            ]
           ],
           "geo": "geo",
           "hovertemplate": "<b>%{hovertext}</b><br><br>Year voyage began=1736<br>normalized_sizes=%{marker.size}<br>Latitude=%{lat}<br>Longitude=%{lon}<br>Total slaves embarked imputed * (slaximp)=%{customdata[0]}<extra></extra>",
           "hovertext": [
            "Pernambuco",
            "Nevis",
            "Rio de la Plata",
            "Other Caribbean",
            "Dutch Caribbean",
            "Saint-Domingue",
            "Jamaica",
            "Americas",
            "Montserrat",
            "Massachusetts",
            "Antigua",
            "Portugal",
            "South Carolina",
            "Martinique",
            "Southeast Brazil",
            "Dutch Guianas",
            "Danish West Indies",
            "St. Kitts",
            "Rhode Island",
            "Bahia",
            "Virginia",
            "Cuba",
            "Barbados",
            "Maryland"
           ],
           "lat": [
            -8.05,
            17.151005,
            -33.332605,
            0,
            14.751846,
            18.54,
            17.881263,
            0,
            16.7,
            42.179453,
            17.067453,
            40.046745,
            33.1,
            14.6,
            -23.48894,
            6.675248,
            18,
            17.3,
            41.384793,
            -12.983333,
            36.9,
            23.115613,
            13.1,
            39.57
           ],
           "legendgroup": "",
           "lon": [
            -34.9,
            -62.589223,
            -58.498255,
            0,
            -65.781346,
            -72.34,
            -76.522778,
            0,
            -62.216667,
            -70.724689,
            -61.784741,
            -8.838545,
            -79.54,
            -61.083333,
            -42.256021,
            -55.251124,
            -64.9,
            -62.716667,
            -71.466516,
            -38.516667,
            -76.3,
            -79.127686,
            -59.616667,
            -76.03
           ],
           "marker": {
            "color": "#636efa",
            "size": [
             7.752764808851328,
             5.602118820879701,
             6.100318952020064,
             5.147494476813453,
             5.480638923341991,
             8.589327789175437,
             8.826587830773668,
             7.379008127628304,
             6.51471269087253,
             5.703782474656201,
             7.575584651557793,
             5.521460917862246,
             7.989899374942939,
             7.98514393119862,
             7.161622002939187,
             8.336390480591552,
             5.0106352940962555,
             7.946617563244473,
             4.418840607796598,
             9.382022193665792,
             7.7279755421055585,
             3.871201010907891,
             7.399398083331354,
             6.813444599510896
            ],
            "sizemode": "area",
            "sizeref": 0.02718353458394048,
            "symbol": "circle"
           },
           "mode": "markers",
           "name": "",
           "showlegend": false,
           "type": "scattergeo"
          }
         ],
         "name": "1736"
        },
        {
         "data": [
          {
           "customdata": [
            [
             1930
            ],
            [
             2203
            ],
            [
             1611
            ],
            [
             17
            ],
            [
             175
            ],
            [
             271
            ],
            [
             9363
            ],
            [
             669
            ],
            [
             5675
            ],
            [
             260
            ],
            [
             9349
            ],
            [
             835
            ],
            [
             2087
            ],
            [
             11878
            ],
            [
             1183
            ],
            [
             271
            ],
            [
             3570
            ],
            [
             1003
            ],
            [
             1458
            ],
            [
             2633
            ],
            [
             1720
            ],
            [
             42
            ]
           ],
           "geo": "geo",
           "hovertemplate": "<b>%{hovertext}</b><br><br>Year voyage began=1737<br>normalized_sizes=%{marker.size}<br>Latitude=%{lat}<br>Longitude=%{lon}<br>Total slaves embarked imputed * (slaximp)=%{customdata[0]}<extra></extra>",
           "hovertext": [
            "Pernambuco",
            "Other Caribbean",
            "Americas",
            "Portugal",
            "French Guiana",
            "Nevis",
            "Saint-Domingue",
            "Rio de la Plata",
            "St. Kitts",
            "Spanish Circum-Caribbean",
            "Jamaica",
            "Montserrat",
            "Martinique",
            "Bahia",
            "Barbados",
            "Maryland",
            "Southeast Brazil",
            "Dutch Guianas",
            "Virginia",
            "South Carolina",
            "Antigua",
            "Danish West Indies"
           ],
           "lat": [
            -8.05,
            0,
            0,
            40.046745,
            5.861294,
            17.151005,
            18.54,
            -33.332605,
            17.3,
            15.641117,
            17.881263,
            16.7,
            14.6,
            -12.983333,
            13.1,
            39.57,
            -23.48894,
            6.675248,
            36.9,
            33.1,
            17.067453,
            18
           ],
           "legendgroup": "",
           "lon": [
            -34.9,
            0,
            0,
            -8.838545,
            -53.612239,
            -62.589223,
            -72.34,
            -58.498255,
            -62.716667,
            -75.633932,
            -76.522778,
            -62.216667,
            -61.083333,
            -38.516667,
            -59.616667,
            -76.03,
            -42.256021,
            -55.251124,
            -76.3,
            -79.54,
            -61.784741,
            -64.9
           ],
           "marker": {
            "color": "#636efa",
            "size": [
             7.5652752818989315,
             7.697575346802343,
             7.384610383176974,
             2.833213344056216,
             5.1647859739235145,
             5.602118820879701,
             9.14452103093889,
             6.505784060128229,
             8.643825842349603,
             5.560681631015528,
             9.143024664691316,
             6.727431724850855,
             7.643482907077201,
             9.382443228575806,
             7.075808863978387,
             5.602118820879701,
             8.180320874773685,
             6.910750787961936,
             7.284820912568604,
             7.87587915949631,
             7.450079569807499,
             3.7376696182833684
            ],
            "sizemode": "area",
            "sizeref": 0.02718353458394048,
            "symbol": "circle"
           },
           "mode": "markers",
           "name": "",
           "showlegend": false,
           "type": "scattergeo"
          }
         ],
         "name": "1737"
        },
        {
         "data": [
          {
           "customdata": [
            [
             50
            ],
            [
             149
            ],
            [
             2362
            ],
            [
             282
            ],
            [
             121
            ],
            [
             11677
            ],
            [
             3541
            ],
            [
             3432
            ],
            [
             2239
            ],
            [
             1689
            ],
            [
             842
            ],
            [
             223
            ],
            [
             3442
            ],
            [
             2079
            ],
            [
             8207
            ],
            [
             271
            ],
            [
             385
            ],
            [
             4798
            ],
            [
             322
            ],
            [
             83
            ],
            [
             4
            ],
            [
             1071
            ],
            [
             4584
            ],
            [
             10664
            ]
           ],
           "geo": "geo",
           "hovertemplate": "<b>%{hovertext}</b><br><br>Year voyage began=1738<br>normalized_sizes=%{marker.size}<br>Latitude=%{lat}<br>Longitude=%{lon}<br>Total slaves embarked imputed * (slaximp)=%{customdata[0]}<extra></extra>",
           "hovertext": [
            "Massachusetts",
            "Connecticut",
            "Americas",
            "Grenada",
            "Other Caribbean",
            "Saint-Domingue",
            "South Carolina",
            "Antigua",
            "Virginia",
            "Dutch Guianas",
            "Maryland",
            "Danish West Indies",
            "Barbados",
            "Martinique",
            "Jamaica",
            "Dutch Caribbean",
            "Spanish Circum-Caribbean",
            "St. Kitts",
            "Codes without labels",
            "New York",
            "France",
            "Pernambuco",
            "Southeast Brazil",
            "Bahia"
           ],
           "lat": [
            42.179453,
            41.358665,
            0,
            12.05,
            0,
            18.54,
            33.1,
            17.067453,
            36.9,
            6.675248,
            39.57,
            18,
            13.1,
            14.6,
            17.881263,
            14.751846,
            15.641117,
            17.3,
            0,
            40.703068,
            45.745724,
            -8.05,
            -23.48894,
            -12.983333
           ],
           "legendgroup": "",
           "lon": [
            -70.724689,
            -72.613822,
            0,
            -61.75,
            0,
            -72.34,
            -79.54,
            -61.784741,
            -76.3,
            -55.251124,
            -76.03,
            -64.9,
            -59.616667,
            -61.083333,
            -76.522778,
            -65.781346,
            -75.633932,
            -62.716667,
            0,
            -74.011117,
            1.70685,
            -34.9,
            -42.256021,
            -38.516667
           ],
           "marker": {
            "color": "#636efa",
            "size": [
             3.912023005428146,
             5.003946305945459,
             7.767263996757308,
             5.641907070938114,
             4.795790545596741,
             9.365376374075716,
             8.172164452111904,
             8.140898460607852,
             7.713784616598755,
             7.4318919168078,
             6.7357800142423265,
             5.407171771460119,
             8.143807976771484,
             7.639642287858013,
             9.012742727629712,
             5.602118820879701,
             5.953243334287785,
             8.47595444339964,
             5.7745515455444085,
             4.418840607796598,
             1.3862943611198906,
             6.976348070447749,
             8.430327258394575,
             9.274628861858545
            ],
            "sizemode": "area",
            "sizeref": 0.02718353458394048,
            "symbol": "circle"
           },
           "mode": "markers",
           "name": "",
           "showlegend": false,
           "type": "scattergeo"
          }
         ],
         "name": "1738"
        },
        {
         "data": [
          {
           "customdata": [
            [
             1973
            ],
            [
             129
            ],
            [
             45
            ],
            [
             12513
            ],
            [
             100
            ],
            [
             1398
            ],
            [
             1189
            ],
            [
             1883
            ],
            [
             4390
            ],
            [
             1760
            ],
            [
             6850
            ],
            [
             1252
            ],
            [
             1246
            ],
            [
             1424
            ],
            [
             2437
            ],
            [
             1436
            ],
            [
             555
            ],
            [
             116
            ],
            [
             7168
            ]
           ],
           "geo": "geo",
           "hovertemplate": "<b>%{hovertext}</b><br><br>Year voyage began=1739<br>normalized_sizes=%{marker.size}<br>Latitude=%{lat}<br>Longitude=%{lon}<br>Total slaves embarked imputed * (slaximp)=%{customdata[0]}<extra></extra>",
           "hovertext": [
            "Martinique",
            "Dutch Caribbean",
            "Danish West Indies",
            "Saint-Domingue",
            "Amazonia",
            "Pernambuco",
            "Maryland",
            "Southeast Brazil",
            "Barbados",
            "Virginia",
            "Jamaica",
            "Americas",
            "Other Caribbean",
            "Antigua",
            "St. Kitts",
            "South Carolina",
            "Dutch Guianas",
            "Senegambia and offshore Atlantic",
            "Bahia"
           ],
           "lat": [
            14.6,
            14.751846,
            18,
            18.54,
            -0.93323,
            -8.05,
            39.57,
            -23.48894,
            13.1,
            36.9,
            17.881263,
            0,
            0,
            17.067453,
            17.3,
            33.1,
            6.675248,
            14.14,
            -12.983333
           ],
           "legendgroup": "",
           "lon": [
            -61.083333,
            -65.781346,
            -64.9,
            -72.34,
            -43.235449,
            -34.9,
            -76.03,
            -42.256021,
            -59.616667,
            -76.3,
            -76.522778,
            0,
            0,
            -61.784741,
            -62.716667,
            -79.54,
            -55.251124,
            -17.93,
            -38.516667
           ],
           "marker": {
            "color": "#636efa",
            "size": [
             7.587310506022615,
             4.859812404361672,
             3.8066624897703196,
             9.434523382865056,
             4.605170185988092,
             7.242797922793756,
             7.080867896690782,
             7.5406215286571525,
             8.387084506069217,
             7.473069088032197,
             8.83200393125627,
             7.132497551660044,
             7.1276936993473985,
             7.261225091971921,
             7.798523053625206,
             7.269616749608169,
             6.318968113746434,
             4.7535901911063645,
             8.877381954654766
            ],
            "sizemode": "area",
            "sizeref": 0.02718353458394048,
            "symbol": "circle"
           },
           "mode": "markers",
           "name": "",
           "showlegend": false,
           "type": "scattergeo"
          }
         ],
         "name": "1739"
        },
        {
         "data": [
          {
           "customdata": [
            [
             1026
            ],
            [
             5263
            ],
            [
             212
            ],
            [
             1023
            ],
            [
             1563
            ],
            [
             1424
            ],
            [
             271
            ],
            [
             2253
            ],
            [
             542
            ],
            [
             4853
            ],
            [
             16746
            ],
            [
             271
            ],
            [
             123
            ],
            [
             420
            ],
            [
             6186
            ],
            [
             8294
            ],
            [
             77
            ]
           ],
           "geo": "geo",
           "hovertemplate": "<b>%{hovertext}</b><br><br>Year voyage began=1740<br>normalized_sizes=%{marker.size}<br>Latitude=%{lat}<br>Longitude=%{lon}<br>Total slaves embarked imputed * (slaximp)=%{customdata[0]}<extra></extra>",
           "hovertext": [
            "Virginia",
            "Jamaica",
            "French Guiana",
            "Martinique",
            "Americas",
            "Dutch Guianas",
            "South Carolina",
            "Pernambuco",
            "St. Kitts",
            "Barbados",
            "Saint-Domingue",
            "Maryland",
            "Massachusetts",
            "Antigua",
            "Southeast Brazil",
            "Bahia",
            "Amazonia"
           ],
           "lat": [
            36.9,
            17.881263,
            5.861294,
            14.6,
            0,
            6.675248,
            33.1,
            -8.05,
            17.3,
            13.1,
            18.54,
            39.57,
            42.179453,
            17.067453,
            -23.48894,
            -12.983333,
            -0.93323
           ],
           "legendgroup": "",
           "lon": [
            -76.3,
            -76.522778,
            -53.612239,
            -61.083333,
            0,
            -55.251124,
            -79.54,
            -34.9,
            -62.716667,
            -59.616667,
            -72.34,
            -76.03,
            -70.724689,
            -61.784741,
            -42.256021,
            -38.516667,
            -43.235449
           ],
           "marker": {
            "color": "#636efa",
            "size": [
             6.933423025730715,
             8.56845648535378,
             5.356586274672012,
             6.930494765951626,
             7.354362330421477,
             7.261225091971921,
             5.602118820879701,
             7.720017940432244,
             6.295266001439646,
             8.487352349405215,
             9.725914702764378,
             5.602118820879701,
             4.812184355372417,
             6.040254711277414,
             8.730043953245016,
             9.023287640806327,
             4.343805421853684
            ],
            "sizemode": "area",
            "sizeref": 0.02718353458394048,
            "symbol": "circle"
           },
           "mode": "markers",
           "name": "",
           "showlegend": false,
           "type": "scattergeo"
          }
         ],
         "name": "1740"
        },
        {
         "data": [
          {
           "customdata": [
            [
             4903
            ],
            [
             13514
            ],
            [
             4115
            ],
            [
             3721
            ],
            [
             7163
            ],
            [
             304
            ],
            [
             172
            ],
            [
             1897
            ],
            [
             53
            ],
            [
             2006
            ],
            [
             516
            ],
            [
             2047
            ],
            [
             2227
            ],
            [
             2106
            ],
            [
             7526
            ],
            [
             1409
            ],
            [
             341
            ],
            [
             20
            ],
            [
             1014
            ]
           ],
           "geo": "geo",
           "hovertemplate": "<b>%{hovertext}</b><br><br>Year voyage began=1741<br>normalized_sizes=%{marker.size}<br>Latitude=%{lat}<br>Longitude=%{lon}<br>Total slaves embarked imputed * (slaximp)=%{customdata[0]}<extra></extra>",
           "hovertext": [
            "Jamaica",
            "Saint-Domingue",
            "Barbados",
            "Martinique",
            "Bahia",
            "Spanish Circum-Caribbean",
            "Montserrat",
            "St. Kitts",
            "Danish West Indies",
            "Virginia",
            "Other Caribbean",
            "Americas",
            "Dutch Guianas",
            "Pernambuco",
            "Southeast Brazil",
            "Antigua",
            "Dutch Caribbean",
            "Rhode Island",
            "Maryland"
           ],
           "lat": [
            17.881263,
            18.54,
            13.1,
            14.6,
            -12.983333,
            15.641117,
            16.7,
            17.3,
            18,
            36.9,
            0,
            0,
            6.675248,
            -8.05,
            -23.48894,
            17.067453,
            14.751846,
            41.384793,
            39.57
           ],
           "legendgroup": "",
           "lon": [
            -76.522778,
            -72.34,
            -59.616667,
            -61.083333,
            -38.516667,
            -75.633932,
            -62.216667,
            -62.716667,
            -64.9,
            -76.3,
            0,
            0,
            -55.251124,
            -34.9,
            -42.256021,
            -61.784741,
            -65.781346,
            -71.466516,
            -76.03
           ],
           "marker": {
            "color": "#636efa",
            "size": [
             8.497602541651233,
             9.51148146411212,
             8.32239411311117,
             8.221747728346623,
             8.876684166614451,
             5.717027701406222,
             5.147494476813453,
             7.5480289699350145,
             3.970291913552122,
             7.603897968521881,
             6.246106765481563,
             7.624130585661289,
             7.708410667257367,
             7.652545692693921,
             8.926118971153382,
             7.25063551189868,
             5.831882477283517,
             2.995732273553991,
             6.921658184151129
            ],
            "sizemode": "area",
            "sizeref": 0.02718353458394048,
            "symbol": "circle"
           },
           "mode": "markers",
           "name": "",
           "showlegend": false,
           "type": "scattergeo"
          }
         ],
         "name": "1741"
        },
        {
         "data": [
          {
           "customdata": [
            [
             1567
            ],
            [
             9496
            ],
            [
             6581
            ],
            [
             4320
            ],
            [
             740
            ],
            [
             8956
            ],
            [
             331
            ],
            [
             1132
            ],
            [
             568
            ],
            [
             100
            ],
            [
             101
            ],
            [
             813
            ],
            [
             298
            ],
            [
             1819
            ],
            [
             8472
            ],
            [
             550
            ],
            [
             271
            ],
            [
             2750
            ],
            [
             2156
            ],
            [
             323
            ],
            [
             271
            ]
           ],
           "geo": "geo",
           "hovertemplate": "<b>%{hovertext}</b><br><br>Year voyage began=1742<br>normalized_sizes=%{marker.size}<br>Latitude=%{lat}<br>Longitude=%{lon}<br>Total slaves embarked imputed * (slaximp)=%{customdata[0]}<extra></extra>",
           "hovertext": [
            "Virginia",
            "Bahia",
            "Southeast Brazil",
            "Martinique",
            "Maryland",
            "Saint-Domingue",
            "Antigua",
            "Barbados",
            "Rio de la Plata",
            "French Guiana",
            "Amazonia",
            "St. Kitts",
            "Massachusetts",
            "Pernambuco",
            "Jamaica",
            "Dutch Caribbean",
            "Puerto Rico",
            "Dutch Guianas",
            "Americas",
            "Other North America",
            "Other Caribbean"
           ],
           "lat": [
            36.9,
            -12.983333,
            -23.48894,
            14.6,
            39.57,
            18.54,
            17.067453,
            13.1,
            -33.332605,
            5.861294,
            -0.93323,
            17.3,
            42.179453,
            -8.05,
            17.881263,
            14.751846,
            18.420959,
            6.675248,
            0,
            33.875649,
            0
           ],
           "legendgroup": "",
           "lon": [
            -76.3,
            -38.516667,
            -42.256021,
            -61.083333,
            -76.03,
            -72.34,
            -61.784741,
            -59.616667,
            -58.498255,
            -53.612239,
            -43.235449,
            -62.716667,
            -70.724689,
            -34.9,
            -76.522778,
            -65.781346,
            -66.070508,
            -55.251124,
            0,
            -78.444029,
            0
           ],
           "marker": {
            "color": "#636efa",
            "size": [
             7.356918242356021,
             9.158625936289503,
             8.791941988456118,
             8.371010681238156,
             6.606650186198215,
             9.100078977718645,
             5.802118375377063,
             7.0317412587631285,
             6.342121418721152,
             4.605170185988092,
             4.61512051684126,
             6.70073110954781,
             5.697093486505405,
             7.506042178518122,
             9.044521887281242,
             6.309918278226516,
             5.602118820879701,
             7.919356190660617,
             7.6760099320288875,
             5.777652323222656,
             5.602118820879701
            ],
            "sizemode": "area",
            "sizeref": 0.02718353458394048,
            "symbol": "circle"
           },
           "mode": "markers",
           "name": "",
           "showlegend": false,
           "type": "scattergeo"
          }
         ],
         "name": "1742"
        },
        {
         "data": [
          {
           "customdata": [
            [
             4844
            ],
            [
             220
            ],
            [
             3010
            ],
            [
             6322
            ],
            [
             769
            ],
            [
             314
            ],
            [
             2393
            ],
            [
             475
            ],
            [
             95
            ],
            [
             379
            ],
            [
             10398
            ],
            [
             5383
            ],
            [
             462
            ],
            [
             1486
            ],
            [
             172
            ],
            [
             2
            ],
            [
             9381
            ],
            [
             100
            ],
            [
             791
            ],
            [
             1145
            ],
            [
             276
            ],
            [
             2028
            ],
            [
             12042
            ],
            [
             2909
            ]
           ],
           "geo": "geo",
           "hovertemplate": "<b>%{hovertext}</b><br><br>Year voyage began=1743<br>normalized_sizes=%{marker.size}<br>Latitude=%{lat}<br>Longitude=%{lon}<br>Total slaves embarked imputed * (slaximp)=%{customdata[0]}<extra></extra>",
           "hovertext": [
            "Dutch Guianas",
            "Gulf coast",
            "St. Kitts",
            "Martinique",
            "South Carolina",
            "French Guiana",
            "Antigua",
            "Other British Caribbean",
            "Massachusetts",
            "Montserrat",
            "Bahia",
            "Southeast Brazil",
            "Dutch Caribbean",
            "Americas",
            "Other North America",
            "Portugal",
            "Saint-Domingue",
            "Danish West Indies",
            "Virginia",
            "Spanish Circum-Caribbean",
            "Guadaloupe",
            "Barbados",
            "Jamaica",
            "Pernambuco"
           ],
           "lat": [
            6.675248,
            29.8,
            17.3,
            14.6,
            33.1,
            5.861294,
            17.067453,
            18,
            42.179453,
            16.7,
            -12.983333,
            -23.48894,
            14.751846,
            0,
            33.875649,
            40.046745,
            18.54,
            18,
            36.9,
            15.641117,
            16,
            13.1,
            17.881263,
            -8.05
           ],
           "legendgroup": "",
           "lon": [
            -55.251124,
            -89.56,
            -62.716667,
            -61.083333,
            -79.54,
            -53.612239,
            -61.784741,
            -76.8,
            -70.724689,
            -62.216667,
            -38.516667,
            -42.256021,
            -65.781346,
            0,
            -78.444029,
            -8.838545,
            -72.34,
            -64.9,
            -76.3,
            -75.633932,
            -61.71667,
            -59.616667,
            -76.522778,
            -34.9
           ],
           "marker": {
            "color": "#636efa",
            "size": [
             8.485496104672983,
             5.393627546352362,
             8.009695357742922,
             8.751790892775563,
             6.645090969505644,
             5.749392985908253,
             7.780303087908373,
             6.163314804034641,
             4.553876891600541,
             5.937536205082426,
             9.24936875894366,
             8.591001118560957,
             6.135564891081739,
             7.303843225277705,
             5.147494476813453,
             0.6931471805599453,
             9.14644164612595,
             4.605170185988092,
             6.673297967767654,
             7.0431599159883405,
             5.62040086571715,
             7.614805364711073,
             9.396155818024393,
             7.975564658495202
            ],
            "sizemode": "area",
            "sizeref": 0.02718353458394048,
            "symbol": "circle"
           },
           "mode": "markers",
           "name": "",
           "showlegend": false,
           "type": "scattergeo"
          }
         ],
         "name": "1743"
        },
        {
         "data": [
          {
           "customdata": [
            [
             4196
            ],
            [
             10383
            ],
            [
             240
            ],
            [
             102
            ],
            [
             425
            ],
            [
             5656
            ],
            [
             181
            ],
            [
             149
            ],
            [
             340
            ],
            [
             2643
            ],
            [
             3552
            ],
            [
             240
            ],
            [
             386
            ],
            [
             148
            ],
            [
             198
            ],
            [
             2846
            ],
            [
             540
            ],
            [
             518
            ]
           ],
           "geo": "geo",
           "hovertemplate": "<b>%{hovertext}</b><br><br>Year voyage began=1744<br>normalized_sizes=%{marker.size}<br>Latitude=%{lat}<br>Longitude=%{lon}<br>Total slaves embarked imputed * (slaximp)=%{customdata[0]}<extra></extra>",
           "hovertext": [
            "Jamaica",
            "Bahia",
            "South Carolina",
            "Other Caribbean",
            "St. Kitts",
            "Southeast Brazil",
            "New York",
            "Rhode Island",
            "Virginia",
            "Dutch Guianas",
            "Martinique",
            "Other French Caribbean",
            "Saint-Domingue",
            "Cuba",
            "French Guiana",
            "Pernambuco",
            "Barbados",
            "Spanish Circum-Caribbean"
           ],
           "lat": [
            17.881263,
            -12.983333,
            33.1,
            0,
            17.3,
            -23.48894,
            40.703068,
            41.384793,
            36.9,
            6.675248,
            14.6,
            19.75778,
            18.54,
            23.115613,
            5.861294,
            -8.05,
            13.1,
            15.641117
           ],
           "legendgroup": "",
           "lon": [
            -76.522778,
            -38.516667,
            -79.54,
            0,
            -62.716667,
            -42.256021,
            -74.011117,
            -71.466516,
            -76.3,
            -55.251124,
            -61.083333,
            -72.20417,
            -72.34,
            -79.127686,
            -53.612239,
            -34.9,
            -59.616667,
            -75.633932
           ],
           "marker": {
            "color": "#636efa",
            "size": [
             8.341886969516187,
             9.247925132303454,
             5.480638923341991,
             4.624972813284271,
             6.052089168924417,
             8.640472207576408,
             5.198497031265826,
             5.003946305945459,
             5.8289456176102075,
             7.879669914604289,
             8.17526610411206,
             5.480638923341991,
             5.955837369464831,
             4.997212273764115,
             5.288267030694535,
             7.953669778649798,
             6.29156913955832,
             6.249975242259483
            ],
            "sizemode": "area",
            "sizeref": 0.02718353458394048,
            "symbol": "circle"
           },
           "mode": "markers",
           "name": "",
           "showlegend": false,
           "type": "scattergeo"
          }
         ],
         "name": "1744"
        },
        {
         "data": [
          {
           "customdata": [
            [
             1826
            ],
            [
             1294
            ],
            [
             271
            ],
            [
             3898
            ],
            [
             6751
            ],
            [
             165
            ],
            [
             2936
            ],
            [
             271
            ],
            [
             4099
            ],
            [
             378
            ],
            [
             5197
            ],
            [
             465
            ],
            [
             120
            ]
           ],
           "geo": "geo",
           "hovertemplate": "<b>%{hovertext}</b><br><br>Year voyage began=1745<br>normalized_sizes=%{marker.size}<br>Latitude=%{lat}<br>Longitude=%{lon}<br>Total slaves embarked imputed * (slaximp)=%{customdata[0]}<extra></extra>",
           "hovertext": [
            "Virginia",
            "Americas",
            "St. Kitts",
            "Bahia",
            "Jamaica",
            "Massachusetts",
            "Pernambuco",
            "Barbados",
            "Southeast Brazil",
            "Spanish Circum-Caribbean",
            "Dutch Guianas",
            "Portugal",
            "Antigua"
           ],
           "lat": [
            36.9,
            0,
            17.3,
            -12.983333,
            17.881263,
            42.179453,
            -8.05,
            13.1,
            -23.48894,
            15.641117,
            6.675248,
            40.046745,
            17.067453
           ],
           "legendgroup": "",
           "lon": [
            -76.3,
            0,
            -62.716667,
            -38.516667,
            -76.522778,
            -70.724689,
            -34.9,
            -59.616667,
            -42.256021,
            -75.633932,
            -55.251124,
            -8.838545,
            -61.784741
           ],
           "marker": {
            "color": "#636efa",
            "size": [
             7.509883061154913,
             7.165493475060845,
             5.602118820879701,
             8.268218880067506,
             8.81744592104187,
             5.10594547390058,
             7.984803389734406,
             5.602118820879701,
             8.318498320504338,
             5.934894195619588,
             8.555836815008442,
             6.142037405587356,
             4.787491742782046
            ],
            "sizemode": "area",
            "sizeref": 0.02718353458394048,
            "symbol": "circle"
           },
           "mode": "markers",
           "name": "",
           "showlegend": false,
           "type": "scattergeo"
          }
         ],
         "name": "1745"
        },
        {
         "data": [
          {
           "customdata": [
            [
             1836
            ],
            [
             2457
            ],
            [
             10559
            ],
            [
             503
            ],
            [
             3079
            ],
            [
             218
            ],
            [
             571
            ],
            [
             83
            ],
            [
             331
            ],
            [
             3632
            ],
            [
             292
            ],
            [
             1181
            ],
            [
             8506
            ],
            [
             2178
            ],
            [
             149
            ],
            [
             442
            ]
           ],
           "geo": "geo",
           "hovertemplate": "<b>%{hovertext}</b><br><br>Year voyage began=1746<br>normalized_sizes=%{marker.size}<br>Latitude=%{lat}<br>Longitude=%{lon}<br>Total slaves embarked imputed * (slaximp)=%{customdata[0]}<extra></extra>",
           "hovertext": [
            "Martinique",
            "Southeast Brazil",
            "Bahia",
            "Danish West Indies",
            "Pernambuco",
            "Dutch Caribbean",
            "Antigua",
            "Rhode Island",
            "St. Kitts",
            "Dutch Guianas",
            "Virginia",
            "Spanish Circum-Caribbean",
            "Jamaica",
            "Barbados",
            "Massachusetts",
            "Saint-Domingue"
           ],
           "lat": [
            14.6,
            -23.48894,
            -12.983333,
            18,
            -8.05,
            14.751846,
            17.067453,
            41.384793,
            17.3,
            6.675248,
            36.9,
            15.641117,
            17.881263,
            13.1,
            42.179453,
            18.54
           ],
           "legendgroup": "",
           "lon": [
            -61.083333,
            -42.256021,
            -38.516667,
            -64.9,
            -34.9,
            -65.781346,
            -61.784741,
            -71.466516,
            -62.716667,
            -55.251124,
            -76.3,
            -75.633932,
            -76.522778,
            -59.616667,
            -70.724689,
            -72.34
           ],
           "marker": {
            "color": "#636efa",
            "size": [
             7.515344571180436,
             7.806696372521179,
             9.264733855806515,
             6.220590170099739,
             8.0323601479245,
             5.384495062789089,
             6.3473892096560105,
             4.418840607796598,
             5.802118375377063,
             8.197538739721184,
             5.676753802268282,
             7.074116816197362,
             9.04852707581358,
             7.686162303492906,
             5.003946305945459,
             6.091309882077698
            ],
            "sizemode": "area",
            "sizeref": 0.02718353458394048,
            "symbol": "circle"
           },
           "mode": "markers",
           "name": "",
           "showlegend": false,
           "type": "scattergeo"
          }
         ],
         "name": "1746"
        },
        {
         "data": [
          {
           "customdata": [
            [
             1033
            ],
            [
             1278
            ],
            [
             240
            ],
            [
             2022
            ],
            [
             276
            ],
            [
             1419
            ],
            [
             777
            ],
            [
             273
            ],
            [
             290
            ],
            [
             2742
            ],
            [
             14647
            ],
            [
             14496
            ],
            [
             1918
            ],
            [
             2337
            ],
            [
             480
            ],
            [
             4335
            ],
            [
             406
            ],
            [
             7363
            ],
            [
             370
            ],
            [
             298
            ]
           ],
           "geo": "geo",
           "hovertemplate": "<b>%{hovertext}</b><br><br>Year voyage began=1747<br>normalized_sizes=%{marker.size}<br>Latitude=%{lat}<br>Longitude=%{lon}<br>Total slaves embarked imputed * (slaximp)=%{customdata[0]}<extra></extra>",
           "hovertext": [
            "Americas",
            "Barbados",
            "Cuba",
            "Antigua",
            "Montserrat",
            "Saint-Domingue",
            "Dutch Caribbean",
            "Hispaniola",
            "Danish West Indies",
            "Dutch Guianas",
            "Jamaica",
            "Bahia",
            "St. Kitts",
            "Spanish Circum-Caribbean",
            "Martinique",
            "Pernambuco",
            "Virginia",
            "Southeast Brazil",
            "Other Spanish Caribbean",
            "Massachusetts"
           ],
           "lat": [
            0,
            13.1,
            23.115613,
            17.067453,
            16.7,
            18.54,
            14.751846,
            18.35,
            18,
            6.675248,
            17.881263,
            -12.983333,
            17.3,
            15.641117,
            14.6,
            -8.05,
            36.9,
            -23.48894,
            23.13194,
            42.179453
           ],
           "legendgroup": "",
           "lon": [
            0,
            -59.616667,
            -79.127686,
            -61.784741,
            -62.216667,
            -72.34,
            -65.781346,
            -69.35,
            -64.9,
            -55.251124,
            -76.522778,
            -38.516667,
            -62.716667,
            -75.633932,
            -61.083333,
            -34.9,
            -76.3,
            -42.256021,
            -82.36417,
            -70.724689
           ],
           "marker": {
            "color": "#636efa",
            "size": [
             6.940222469119639,
             7.15305163493748,
             5.480638923341991,
             7.611842399580417,
             5.62040086571715,
             7.257707677160043,
             6.655440350367647,
             5.60947179518496,
             5.66988092298052,
             7.91644286012226,
             9.591990815318308,
             9.581628028282761,
             7.559038255443384,
             7.756623334538858,
             6.173786103901937,
             8.374476889214643,
             6.0063531596017325,
             8.904222737368716,
             5.91350300563827,
             5.697093486505405
            ],
            "sizemode": "area",
            "sizeref": 0.02718353458394048,
            "symbol": "circle"
           },
           "mode": "markers",
           "name": "",
           "showlegend": false,
           "type": "scattergeo"
          }
         ],
         "name": "1747"
        },
        {
         "data": [
          {
           "customdata": [
            [
             2341
            ],
            [
             401
            ],
            [
             9342
            ],
            [
             834
            ],
            [
             276
            ],
            [
             3288
            ],
            [
             2262
            ],
            [
             2295
            ],
            [
             3240
            ],
            [
             386
            ],
            [
             834
            ],
            [
             3478
            ],
            [
             3886
            ],
            [
             5266
            ],
            [
             271
            ],
            [
             330
            ],
            [
             148
            ],
            [
             218
            ],
            [
             6969
            ],
            [
             341
            ],
            [
             9691
            ],
            [
             5744
            ],
            [
             934
            ]
           ],
           "geo": "geo",
           "hovertemplate": "<b>%{hovertext}</b><br><br>Year voyage began=1748<br>normalized_sizes=%{marker.size}<br>Latitude=%{lat}<br>Longitude=%{lon}<br>Total slaves embarked imputed * (slaximp)=%{customdata[0]}<extra></extra>",
           "hovertext": [
            "Antigua",
            "Dutch Caribbean",
            "Bahia",
            "Martinique",
            "Nevis",
            "Spanish Circum-Caribbean",
            "Americas",
            "Virginia",
            "Barbados",
            "Other Caribbean",
            "Rio de la Plata",
            "Dutch Guianas",
            "Pernambuco",
            "St. Kitts",
            "Montserrat",
            "Bight of Biafra and Gulf of Guinea islands",
            "Tortola",
            "South Carolina",
            "Southeast Brazil",
            "Other British Caribbean",
            "Jamaica",
            "Saint-Domingue",
            "Danish West Indies"
           ],
           "lat": [
            17.067453,
            14.751846,
            -12.983333,
            14.6,
            17.151005,
            15.641117,
            0,
            36.9,
            13.1,
            0,
            -33.332605,
            6.675248,
            -8.05,
            17.3,
            16.7,
            4.17,
            18.347325,
            33.1,
            -23.48894,
            18,
            17.881263,
            18.54,
            18
           ],
           "legendgroup": "",
           "lon": [
            -61.784741,
            -65.781346,
            -38.516667,
            -61.083333,
            -62.589223,
            -75.633932,
            0,
            -76.3,
            -59.616667,
            0,
            -58.498255,
            -55.251124,
            -34.9,
            -62.716667,
            -62.216667,
            8.31,
            -64.715064,
            -79.54,
            -42.256021,
            -76.8,
            -76.522778,
            -72.34,
            -64.9
           ],
           "marker": {
            "color": "#636efa",
            "size": [
             7.75833346749091,
             5.993961427306569,
             9.142275641062053,
             6.726233402358747,
             5.62040086571715,
             8.098034756176071,
             7.724004656676065,
             7.738488122494646,
             8.083328608786376,
             5.955837369464831,
             6.726233402358747,
             8.154212694914229,
             8.265135629937385,
             8.569026340056254,
             5.602118820879701,
             5.799092654460526,
             4.997212273764115,
             5.384495062789089,
             8.84922702143852,
             5.831882477283517,
             9.17895289873455,
             8.65591111072806,
             6.839476438228843
            ],
            "sizemode": "area",
            "sizeref": 0.02718353458394048,
            "symbol": "circle"
           },
           "mode": "markers",
           "name": "",
           "showlegend": false,
           "type": "scattergeo"
          }
         ],
         "name": "1748"
        },
        {
         "data": [
          {
           "customdata": [
            [
             1462
            ],
            [
             855
            ],
            [
             4098
            ],
            [
             2053
            ],
            [
             5372
            ],
            [
             134
            ],
            [
             3133
            ],
            [
             4916
            ],
            [
             10986
            ],
            [
             276
            ],
            [
             11623
            ],
            [
             8518
            ],
            [
             420
            ],
            [
             276
            ],
            [
             1813
            ],
            [
             195
            ],
            [
             940
            ],
            [
             2905
            ],
            [
             769
            ],
            [
             303
            ],
            [
             1372
            ],
            [
             3484
            ]
           ],
           "geo": "geo",
           "hovertemplate": "<b>%{hovertext}</b><br><br>Year voyage began=1749<br>normalized_sizes=%{marker.size}<br>Latitude=%{lat}<br>Longitude=%{lon}<br>Total slaves embarked imputed * (slaximp)=%{customdata[0]}<extra></extra>",
           "hovertext": [
            "South Carolina",
            "Virginia",
            "Southeast Brazil",
            "Pernambuco",
            "Barbados",
            "Rhode Island",
            "Jamaica",
            "St. Kitts",
            "Bahia",
            "Montserrat",
            "Saint-Domingue",
            "Martinique",
            "Massachusetts",
            "Tortola",
            "Spanish Circum-Caribbean",
            "New York",
            "Rio de la Plata",
            "Dutch Guianas",
            "Danish West Indies",
            "Dutch Caribbean",
            "Antigua",
            "Americas"
           ],
           "lat": [
            33.1,
            36.9,
            -23.48894,
            -8.05,
            13.1,
            41.384793,
            17.881263,
            17.3,
            -12.983333,
            16.7,
            18.54,
            14.6,
            42.179453,
            18.347325,
            15.641117,
            40.703068,
            -33.332605,
            6.675248,
            18,
            14.751846,
            17.067453,
            0
           ],
           "legendgroup": "",
           "lon": [
            -79.54,
            -76.3,
            -42.256021,
            -34.9,
            -59.616667,
            -71.466516,
            -76.522778,
            -62.716667,
            -38.516667,
            -62.216667,
            -72.34,
            -61.083333,
            -70.724689,
            -64.715064,
            -75.633932,
            -74.011117,
            -58.498255,
            -55.251124,
            -64.9,
            -65.781346,
            -61.784741,
            0
           ],
           "marker": {
            "color": "#636efa",
            "size": [
             7.2875606403097235,
             6.75110146893676,
             8.318254328798846,
             7.627057417018934,
             8.588955557643128,
             4.897839799950911,
             8.049746290952191,
             8.500250470685925,
             9.304377013902565,
             5.62040086571715,
             9.360741172643708,
             9.049936850483158,
             6.040254711277414,
             5.62040086571715,
             7.502738210754851,
             5.272999558563747,
             6.84587987526405,
             7.974188669286011,
             6.645090969505644,
             5.713732805509369,
             7.22402480828583,
             8.155936337972394
            ],
            "sizemode": "area",
            "sizeref": 0.02718353458394048,
            "symbol": "circle"
           },
           "mode": "markers",
           "name": "",
           "showlegend": false,
           "type": "scattergeo"
          }
         ],
         "name": "1749"
        },
        {
         "data": [
          {
           "customdata": [
            [
             842
            ],
            [
             1460
            ],
            [
             3896
            ],
            [
             273
            ],
            [
             14132
            ],
            [
             5538
            ],
            [
             331
            ],
            [
             6598
            ],
            [
             1103
            ],
            [
             207
            ],
            [
             420
            ],
            [
             388
            ],
            [
             4373
            ],
            [
             169
            ],
            [
             1325
            ],
            [
             1643
            ],
            [
             772
            ],
            [
             366
            ],
            [
             648
            ],
            [
             386
            ],
            [
             230
            ],
            [
             4087
            ],
            [
             582
            ],
            [
             314
            ],
            [
             6568
            ]
           ],
           "geo": "geo",
           "hovertemplate": "<b>%{hovertext}</b><br><br>Year voyage began=1750<br>normalized_sizes=%{marker.size}<br>Latitude=%{lat}<br>Longitude=%{lon}<br>Total slaves embarked imputed * (slaximp)=%{customdata[0]}<extra></extra>",
           "hovertext": [
            "South Carolina",
            "Antigua",
            "Pernambuco",
            "Nevis",
            "Bahia",
            "Martinique",
            "Spanish Americas",
            "Saint-Domingue",
            "Dutch Guianas",
            "French Guiana",
            "Maryland",
            "Dutch Caribbean",
            "Barbados",
            "Portugal",
            "Virginia",
            "Southeast Brazil",
            "New York",
            "Danish West Indies",
            "Spanish Circum-Caribbean",
            "Other French Caribbean",
            "Other Caribbean",
            "St. Kitts",
            "Tortola",
            "Americas",
            "Jamaica"
           ],
           "lat": [
            33.1,
            17.067453,
            -8.05,
            17.151005,
            -12.983333,
            14.6,
            7.470701,
            18.54,
            6.675248,
            5.861294,
            39.57,
            14.751846,
            13.1,
            40.046745,
            36.9,
            -23.48894,
            40.703068,
            18,
            15.641117,
            19.75778,
            0,
            17.3,
            18.347325,
            0,
            17.881263
           ],
           "legendgroup": "",
           "lon": [
            -79.54,
            -61.784741,
            -34.9,
            -62.589223,
            -38.516667,
            -61.083333,
            -75.611261,
            -72.34,
            -55.251124,
            -53.612239,
            -76.03,
            -65.781346,
            -59.616667,
            -8.838545,
            -76.3,
            -42.256021,
            -74.011117,
            -64.9,
            -75.633932,
            -72.20417,
            0,
            -62.716667,
            -64.715064,
            0,
            -76.522778
           ],
           "marker": {
            "color": "#636efa",
            "size": [
             6.7357800142423265,
             7.286191714702382,
             8.267705664762426,
             5.60947179518496,
             9.556197008479035,
             8.619388703730907,
             5.802118375377063,
             8.794521851788527,
             7.005789019253503,
             5.332718793265369,
             6.040254711277414,
             5.961005339623274,
             8.38320455141292,
             5.1298987149230735,
             7.1891677384203225,
             7.404279118037268,
             6.648984550024776,
             5.902633333401366,
             6.473890696352274,
             5.955837369464831,
             5.438079308923196,
             8.315566483564277,
             6.366470447731438,
             5.749392985908253,
             8.789964651132264
            ],
            "sizemode": "area",
            "sizeref": 0.02718353458394048,
            "symbol": "circle"
           },
           "mode": "markers",
           "name": "",
           "showlegend": false,
           "type": "scattergeo"
          }
         ],
         "name": "1750"
        },
        {
         "data": [
          {
           "customdata": [
            [
             1017
            ],
            [
             60
            ],
            [
             1718
            ],
            [
             932
            ],
            [
             2251
            ],
            [
             153
            ],
            [
             230
            ],
            [
             150
            ],
            [
             676
            ],
            [
             693
            ],
            [
             714
            ],
            [
             2351
            ],
            [
             250
            ],
            [
             2240
            ],
            [
             8735
            ],
            [
             1572
            ],
            [
             1388
            ],
            [
             853
            ],
            [
             7985
            ],
            [
             4352
            ],
            [
             1307
            ],
            [
             329
            ],
            [
             4363
            ],
            [
             164
            ],
            [
             9420
            ]
           ],
           "geo": "geo",
           "hovertemplate": "<b>%{hovertext}</b><br><br>Year voyage began=1751<br>normalized_sizes=%{marker.size}<br>Latitude=%{lat}<br>Longitude=%{lon}<br>Total slaves embarked imputed * (slaximp)=%{customdata[0]}<extra></extra>",
           "hovertext": [
            "Dutch Caribbean",
            "Rhode Island",
            "South Carolina",
            "Antigua",
            "Martinique",
            "Portugal",
            "Tortola",
            "Danish West Indies",
            "Other British Caribbean",
            "Rio de la Plata",
            "New York",
            "Dutch Guianas",
            "Montserrat",
            "Pernambuco",
            "Bahia",
            "Americas",
            "St. Kitts",
            "Spanish Circum-Caribbean",
            "Jamaica",
            "Virginia",
            "Southeast Brazil",
            "Bight of Biafra and Gulf of Guinea islands",
            "Barbados",
            "Maryland",
            "Saint-Domingue"
           ],
           "lat": [
            14.751846,
            41.384793,
            33.1,
            17.067453,
            14.6,
            40.046745,
            18.347325,
            18,
            18,
            -33.332605,
            40.703068,
            6.675248,
            16.7,
            -8.05,
            -12.983333,
            0,
            17.3,
            15.641117,
            17.881263,
            36.9,
            -23.48894,
            4.17,
            13.1,
            39.57,
            18.54
           ],
           "legendgroup": "",
           "lon": [
            -65.781346,
            -71.466516,
            -79.54,
            -61.784741,
            -61.083333,
            -8.838545,
            -64.715064,
            -64.9,
            -76.8,
            -58.498255,
            -74.011117,
            -55.251124,
            -62.216667,
            -34.9,
            -38.516667,
            0,
            -62.716667,
            -75.633932,
            -76.522778,
            -76.3,
            -42.256021,
            8.31,
            -59.616667,
            -76.03,
            -72.34
           ],
           "marker": {
            "color": "#636efa",
            "size": [
             6.92461239604856,
             4.0943445622221,
             7.4489161025442,
             6.837332814685591,
             7.719129840906732,
             5.030437921392435,
             5.438079308923196,
             5.0106352940962555,
             6.516193076042964,
             6.541029999189903,
             6.570882962339584,
             7.762596048540069,
             5.521460917862246,
             7.7142311448490855,
             9.075093222568157,
             7.360103972989152,
             7.23561914106675,
             6.748759547491679,
             8.985320060649112,
             8.378390788535778,
             7.175489713624222,
             5.796057750765372,
             8.38091517312361,
             5.099866427824199,
             9.150590367570409
            ],
            "sizemode": "area",
            "sizeref": 0.02718353458394048,
            "symbol": "circle"
           },
           "mode": "markers",
           "name": "",
           "showlegend": false,
           "type": "scattergeo"
          }
         ],
         "name": "1751"
        },
        {
         "data": [
          {
           "customdata": [
            [
             478
            ],
            [
             1458
            ],
            [
             12882
            ],
            [
             1123
            ],
            [
             3367
            ],
            [
             8854
            ],
            [
             290
            ],
            [
             2790
            ],
            [
             480
            ],
            [
             2510
            ],
            [
             290
            ],
            [
             250
            ],
            [
             569
            ],
            [
             10067
            ],
            [
             2488
            ],
            [
             250
            ],
            [
             2834
            ],
            [
             2470
            ],
            [
             6478
            ],
            [
             490
            ],
            [
             149
            ],
            [
             1922
            ],
            [
             485
            ]
           ],
           "geo": "geo",
           "hovertemplate": "<b>%{hovertext}</b><br><br>Year voyage began=1752<br>normalized_sizes=%{marker.size}<br>Latitude=%{lat}<br>Longitude=%{lon}<br>Total slaves embarked imputed * (slaximp)=%{customdata[0]}<extra></extra>",
           "hovertext": [
            "Tortola",
            "St. Kitts",
            "Saint-Domingue",
            "Danish West Indies",
            "Pernambuco",
            "Jamaica",
            "Other Brazil",
            "Dutch Guianas",
            "Spanish Circum-Caribbean",
            "Martinique",
            "Portugal",
            "Montserrat",
            "Southeast Brazil",
            "Bahia",
            "Virginia",
            "Rhode Island",
            "Antigua",
            "Americas",
            "Barbados",
            "Maryland",
            "Massachusetts",
            "South Carolina",
            "Amazonia"
           ],
           "lat": [
            18.347325,
            17.3,
            18.54,
            18,
            -8.05,
            17.881263,
            -18.864582,
            6.675248,
            15.641117,
            14.6,
            40.046745,
            16.7,
            -23.48894,
            -12.983333,
            36.9,
            41.384793,
            17.067453,
            0,
            13.1,
            39.57,
            42.179453,
            33.1,
            -0.93323
           ],
           "legendgroup": "",
           "lon": [
            -64.715064,
            -62.716667,
            -72.34,
            -64.9,
            -34.9,
            -76.522778,
            -39.75489,
            -55.251124,
            -75.633932,
            -61.083333,
            -8.838545,
            -62.216667,
            -42.256021,
            -38.516667,
            -76.3,
            -71.466516,
            -61.784741,
            0,
            -59.616667,
            -76.03,
            -70.724689,
            -79.54,
            -43.235449
           ],
           "marker": {
            "color": "#636efa",
            "size": [
             6.169610732491456,
             7.284820912568604,
             9.463586267106836,
             7.023758954738443,
             8.121777419161074,
             9.088624613292087,
             5.66988092298052,
             7.933796874815411,
             6.173786103901937,
             7.828038032125829,
             5.66988092298052,
             5.521460917862246,
             6.343880434126331,
             9.217018026729423,
             7.81923445385907,
             5.521460917862246,
             7.949444420250626,
             7.8119734296220225,
             8.776167099731275,
             6.194405391104672,
             5.003946305945459,
             7.561121589530238,
             6.184148890937483
            ],
            "sizemode": "area",
            "sizeref": 0.02718353458394048,
            "symbol": "circle"
           },
           "mode": "markers",
           "name": "",
           "showlegend": false,
           "type": "scattergeo"
          }
         ],
         "name": "1752"
        },
        {
         "data": [
          {
           "customdata": [
            [
             1875
            ],
            [
             68
            ],
            [
             71
            ],
            [
             2162
            ],
            [
             12055
            ],
            [
             250
            ],
            [
             250
            ],
            [
             703
            ],
            [
             13066
            ],
            [
             1149
            ],
            [
             881
            ],
            [
             7139
            ],
            [
             466
            ],
            [
             670
            ],
            [
             312
            ],
            [
             8604
            ],
            [
             3971
            ],
            [
             1484
            ],
            [
             3987
            ],
            [
             1683
            ],
            [
             1032
            ],
            [
             230
            ]
           ],
           "geo": "geo",
           "hovertemplate": "<b>%{hovertext}</b><br><br>Year voyage began=1753<br>normalized_sizes=%{marker.size}<br>Latitude=%{lat}<br>Longitude=%{lon}<br>Total slaves embarked imputed * (slaximp)=%{customdata[0]}<extra></extra>",
           "hovertext": [
            "St. Kitts",
            "St. Lucia",
            "New York",
            "Americas",
            "Saint-Domingue",
            "Guadaloupe",
            "Other Caribbean",
            "Spanish Circum-Caribbean",
            "Jamaica",
            "Southeast Brazil",
            "Virginia",
            "Barbados",
            "Amazonia",
            "Montserrat",
            "Danish West Indies",
            "Bahia",
            "Dutch Guianas",
            "Martinique",
            "Pernambuco",
            "South Carolina",
            "Antigua",
            "Nevis"
           ],
           "lat": [
            17.3,
            14,
            40.703068,
            0,
            18.54,
            16,
            0,
            15.641117,
            17.881263,
            -23.48894,
            36.9,
            13.1,
            -0.93323,
            16.7,
            18,
            -12.983333,
            6.675248,
            14.6,
            -8.05,
            33.1,
            17.067453,
            17.151005
           ],
           "legendgroup": "",
           "lon": [
            -62.716667,
            -61,
            -74.011117,
            0,
            -72.34,
            -61.71667,
            0,
            -75.633932,
            -76.522778,
            -42.256021,
            -76.3,
            -59.616667,
            -43.235449,
            -62.216667,
            -64.9,
            -38.516667,
            -55.251124,
            -61.083333,
            -34.9,
            -79.54,
            -61.784741,
            -62.589223
           ],
           "marker": {
            "color": "#636efa",
            "size": [
             7.536363938404511,
             4.219507705176107,
             4.2626798770413155,
             7.6787889981991535,
             9.397234790615272,
             5.521460917862246,
             5.521460917862246,
             6.555356891810665,
             9.477768715400696,
             7.046647277848756,
             6.78105762593618,
             8.87332798950246,
             6.144185634125646,
             6.507277712385012,
             5.7430031878094825,
             9.05998249038762,
             8.286773231131251,
             7.302496423727326,
             8.290794347381356,
             7.428333194190806,
             6.939253946041508,
             5.438079308923196
            ],
            "sizemode": "area",
            "sizeref": 0.02718353458394048,
            "symbol": "circle"
           },
           "mode": "markers",
           "name": "",
           "showlegend": false,
           "type": "scattergeo"
          }
         ],
         "name": "1753"
        },
        {
         "data": [
          {
           "customdata": [
            [
             102
            ],
            [
             21
            ],
            [
             548
            ],
            [
             30
            ],
            [
             166
            ],
            [
             347
            ],
            [
             13075
            ],
            [
             999
            ],
            [
             316
            ],
            [
             291
            ],
            [
             7489
            ],
            [
             250
            ],
            [
             230
            ],
            [
             5005
            ],
            [
             266
            ],
            [
             203
            ],
            [
             3032
            ],
            [
             4106
            ],
            [
             1674
            ],
            [
             1788
            ],
            [
             1632
            ],
            [
             276
            ],
            [
             2580
            ],
            [
             2666
            ],
            [
             13720
            ],
            [
             168
            ]
           ],
           "geo": "geo",
           "hovertemplate": "<b>%{hovertext}</b><br><br>Year voyage began=1754<br>normalized_sizes=%{marker.size}<br>Latitude=%{lat}<br>Longitude=%{lon}<br>Total slaves embarked imputed * (slaximp)=%{customdata[0]}<extra></extra>",
           "hovertext": [
            "Bahamas",
            "New York",
            "Nevis",
            "Portugal",
            "Montserrat",
            "Dutch Caribbean",
            "Saint-Domingue",
            "Southeast Brazil",
            "Amazonia",
            "Spanish Circum-Caribbean",
            "Bahia",
            "Rio de la Plata",
            "Tortola",
            "Barbados",
            "French Guiana",
            "Other Caribbean",
            "Dutch Guianas",
            "Antigua",
            "Martinique",
            "Americas",
            "South Carolina",
            "Grenada",
            "Pernambuco",
            "St. Kitts",
            "Jamaica",
            "Danish West Indies"
           ],
           "lat": [
            22.783937,
            40.703068,
            17.151005,
            40.046745,
            16.7,
            14.751846,
            18.54,
            -23.48894,
            -0.93323,
            15.641117,
            -12.983333,
            -33.332605,
            18.347325,
            13.1,
            5.861294,
            0,
            6.675248,
            17.067453,
            14.6,
            0,
            33.1,
            12.05,
            -8.05,
            17.3,
            17.881263,
            18
           ],
           "legendgroup": "",
           "lon": [
            -74.303605,
            -74.011117,
            -62.589223,
            -8.838545,
            -62.216667,
            -65.781346,
            -72.34,
            -42.256021,
            -43.235449,
            -75.633932,
            -38.516667,
            -58.498255,
            -64.715064,
            -59.616667,
            -53.612239,
            0,
            -55.251124,
            -61.784741,
            -61.083333,
            0,
            -79.54,
            -61.75,
            -34.9,
            -62.716667,
            -76.522778,
            -64.9
           ],
           "marker": {
            "color": "#636efa",
            "size": [
             4.624972813284271,
             3.044522437723423,
             6.306275286948016,
             3.4011973816621555,
             5.111987788356544,
             5.849324779946859,
             9.478457288933123,
             6.906754778648554,
             5.755742213586912,
             5.673323267171493,
             8.921190556249368,
             5.521460917862246,
             5.438079308923196,
             8.518192691749322,
             5.583496308781699,
             5.313205979041787,
             8.016977746762262,
             8.32020459757888,
             7.422971251049421,
             7.488852955733459,
             7.397561535524052,
             5.62040086571715,
             7.855544677915663,
             7.888334500738654,
             9.526609901279876,
             5.123963979403259
            ],
            "sizemode": "area",
            "sizeref": 0.02718353458394048,
            "symbol": "circle"
           },
           "mode": "markers",
           "name": "",
           "showlegend": false,
           "type": "scattergeo"
          }
         ],
         "name": "1754"
        },
        {
         "data": [
          {
           "customdata": [
            [
             369
            ],
            [
             6863
            ],
            [
             12557
            ],
            [
             2942
            ],
            [
             9
            ],
            [
             824
            ],
            [
             242
            ],
            [
             129
            ],
            [
             546
            ],
            [
             2198
            ],
            [
             3451
            ],
            [
             1109
            ],
            [
             566
            ],
            [
             3374
            ],
            [
             1057
            ],
            [
             2034
            ],
            [
             7103
            ],
            [
             2987
            ],
            [
             348
            ],
            [
             200
            ],
            [
             230
            ],
            [
             611
            ],
            [
             763
            ],
            [
             233
            ]
           ],
           "geo": "geo",
           "hovertemplate": "<b>%{hovertext}</b><br><br>Year voyage began=1755<br>normalized_sizes=%{marker.size}<br>Latitude=%{lat}<br>Longitude=%{lon}<br>Total slaves embarked imputed * (slaximp)=%{customdata[0]}<extra></extra>",
           "hovertext": [
            "Virginia",
            "Saint-Domingue",
            "Jamaica",
            "Antigua",
            "Spanish Circum-Caribbean",
            "Southeast Brazil",
            "Bight of Benin",
            "French Guiana",
            "Other British Caribbean",
            "St. Kitts",
            "Dutch Guianas",
            "Americas",
            "Grenada",
            "Pernambuco",
            "Martinique",
            "South Carolina",
            "Bahia",
            "Barbados",
            "Dutch Caribbean",
            "Montserrat",
            "North Carolina",
            "Amazonia",
            "Guadaloupe",
            "Other French Caribbean"
           ],
           "lat": [
            36.9,
            18.54,
            17.881263,
            17.067453,
            15.641117,
            -23.48894,
            5.27,
            5.861294,
            18,
            17.3,
            6.675248,
            0,
            12.05,
            -8.05,
            14.6,
            33.1,
            -12.983333,
            13.1,
            14.751846,
            16.7,
            35.25,
            -0.93323,
            16,
            19.75778
           ],
           "legendgroup": "",
           "lon": [
            -76.3,
            -72.34,
            -76.522778,
            -61.784741,
            -75.633932,
            -42.256021,
            2.33,
            -53.612239,
            -76.8,
            -62.716667,
            -55.251124,
            0,
            -61.75,
            -34.9,
            -61.083333,
            -79.54,
            -38.516667,
            -59.616667,
            -65.781346,
            -62.216667,
            -76.55,
            -43.235449,
            -61.71667,
            -72.20417
           ],
           "marker": {
            "color": "#636efa",
            "size": [
             5.910796644040527,
             8.833899942908635,
             9.438033557988964,
             7.9868449011613825,
             2.1972245773362196,
             6.714170529909472,
             5.488937726156687,
             4.859812404361672,
             6.302618975744905,
             7.6953031349635665,
             8.146419323098003,
             7.011213987350367,
             6.338594078203183,
             8.123854263105914,
             6.963189985870238,
             7.617759576608505,
             8.86827250899781,
             8.00202481821611,
             5.8522024797744745,
             5.298317366548036,
             5.438079308923196,
             6.415096959171596,
             6.637258031284457,
             5.4510384535657
            ],
            "sizemode": "area",
            "sizeref": 0.02718353458394048,
            "symbol": "circle"
           },
           "mode": "markers",
           "name": "",
           "showlegend": false,
           "type": "scattergeo"
          }
         ],
         "name": "1755"
        },
        {
         "data": [
          {
           "customdata": [
            [
             60
            ],
            [
             230
            ],
            [
             10997
            ],
            [
             819
            ],
            [
             682
            ],
            [
             3189
            ],
            [
             1205
            ],
            [
             3175
            ],
            [
             80
            ],
            [
             316
            ],
            [
             9024
            ],
            [
             2073
            ],
            [
             143
            ],
            [
             4085
            ],
            [
             70
            ],
            [
             1448
            ],
            [
             1068
            ],
            [
             210
            ],
            [
             260
            ],
            [
             2238
            ],
            [
             350
            ],
            [
             2005
            ],
            [
             280
            ],
            [
             352
            ]
           ],
           "geo": "geo",
           "hovertemplate": "<b>%{hovertext}</b><br><br>Year voyage began=1756<br>normalized_sizes=%{marker.size}<br>Latitude=%{lat}<br>Longitude=%{lon}<br>Total slaves embarked imputed * (slaximp)=%{customdata[0]}<extra></extra>",
           "hovertext": [
            "New Jersey",
            "Tortola",
            "Jamaica",
            "Dutch Caribbean",
            "Danish West Indies",
            "Dutch Guianas",
            "Martinique",
            "Barbados",
            "Rhode Island",
            "Amazonia",
            "Bahia",
            "Southeast Brazil",
            "Sierra Leone",
            "Pernambuco",
            "Guadaloupe",
            "St. Kitts",
            "Americas",
            "Montserrat",
            "Other French Caribbean",
            "South Carolina",
            "Saint-Domingue",
            "Antigua",
            "Maryland",
            "Florida"
           ],
           "lat": [
            40.3,
            18.347325,
            17.881263,
            14.751846,
            18,
            6.675248,
            14.6,
            13.1,
            41.384793,
            -0.93323,
            -12.983333,
            -23.48894,
            8.1,
            -8.05,
            16,
            17.3,
            0,
            16.7,
            19.75778,
            33.1,
            18.54,
            17.067453,
            39.57,
            28.085368
           ],
           "legendgroup": "",
           "lon": [
            -74.18,
            -64.715064,
            -76.522778,
            -65.781346,
            -64.9,
            -55.251124,
            -61.083333,
            -59.616667,
            -71.466516,
            -43.235449,
            -38.516667,
            -42.256021,
            -13.67,
            -34.9,
            -61.71667,
            -62.716667,
            0,
            -62.216667,
            -72.20417,
            -79.54,
            -72.34,
            -61.784741,
            -76.03,
            -80.522396
           ],
           "marker": {
            "color": "#636efa",
            "size": [
             4.0943445622221,
             5.438079308923196,
             9.305377787310935,
             6.70808408385307,
             6.525029657843462,
             8.067462667010057,
             7.094234845924755,
             8.063062911326792,
             4.382026634673881,
             5.755742213586912,
             9.10764297373784,
             7.636752112435779,
             4.962844630259907,
             8.315077007294104,
             4.248495242049359,
             7.277938572945661,
             6.97354301952014,
             5.3471075307174685,
             5.560681631015528,
             7.71333788887187,
             5.857933154483459,
             7.60339933974067,
             5.634789603169249,
             5.863631175598097
            ],
            "sizemode": "area",
            "sizeref": 0.02718353458394048,
            "symbol": "circle"
           },
           "mode": "markers",
           "name": "",
           "showlegend": false,
           "type": "scattergeo"
          }
         ],
         "name": "1756"
        },
        {
         "data": [
          {
           "customdata": [
            [
             171
            ],
            [
             500
            ],
            [
             31
            ],
            [
             148
            ],
            [
             83
            ],
            [
             3396
            ],
            [
             1309
            ],
            [
             4389
            ],
            [
             1247
            ],
            [
             297
            ],
            [
             5492
            ],
            [
             386
            ],
            [
             419
            ],
            [
             230
            ],
            [
             3625
            ],
            [
             1513
            ],
            [
             4240
            ],
            [
             1235
            ],
            [
             6615
            ],
            [
             597
            ],
            [
             4436
            ],
            [
             1591
            ],
            [
             1740
            ]
           ],
           "geo": "geo",
           "hovertemplate": "<b>%{hovertext}</b><br><br>Year voyage began=1757<br>normalized_sizes=%{marker.size}<br>Latitude=%{lat}<br>Longitude=%{lon}<br>Total slaves embarked imputed * (slaximp)=%{customdata[0]}<extra></extra>",
           "hovertext": [
            "Montserrat",
            "Rhode Island",
            "New Jersey",
            "Maryland",
            "New York",
            "Pernambuco",
            "St. Kitts",
            "South Carolina",
            "Danish West Indies",
            "Portugal",
            "Dutch Guianas",
            "Americas",
            "Grenada",
            "Martinique",
            "Barbados",
            "Antigua",
            "Southeast Brazil",
            "Guadaloupe",
            "Bahia",
            "Saint-Domingue",
            "Jamaica",
            "Dutch Caribbean",
            "Amazonia"
           ],
           "lat": [
            16.7,
            41.384793,
            40.3,
            39.57,
            40.703068,
            -8.05,
            17.3,
            33.1,
            18,
            40.046745,
            6.675248,
            0,
            12.05,
            14.6,
            13.1,
            17.067453,
            -23.48894,
            16,
            -12.983333,
            18.54,
            17.881263,
            14.751846,
            -0.93323
           ],
           "legendgroup": "",
           "lon": [
            -62.216667,
            -71.466516,
            -74.18,
            -76.03,
            -74.011117,
            -34.9,
            -62.716667,
            -79.54,
            -64.9,
            -8.838545,
            -55.251124,
            0,
            -61.75,
            -61.083333,
            -59.616667,
            -61.784741,
            -42.256021,
            -61.71667,
            -38.516667,
            -72.34,
            -76.522778,
            -65.781346,
            -43.235449
           ],
           "marker": {
            "color": "#636efa",
            "size": [
             5.14166355650266,
             6.214608098422191,
             3.4339872044851463,
             4.997212273764115,
             4.418840607796598,
             8.130353547431238,
             7.1770187659099,
             8.386856689688234,
             7.1284959456800365,
             5.6937321388027,
             8.61104776688786,
             5.955837369464831,
             6.037870919922137,
             5.438079308923196,
             8.195609567288775,
             7.321849713788356,
             8.352318548226004,
             7.118826249062078,
             8.797095076549056,
             6.391917113392602,
             8.397508348470257,
             7.372118028337787,
             7.461640392208575
            ],
            "sizemode": "area",
            "sizeref": 0.02718353458394048,
            "symbol": "circle"
           },
           "mode": "markers",
           "name": "",
           "showlegend": false,
           "type": "scattergeo"
          }
         ],
         "name": "1757"
        },
        {
         "data": [
          {
           "customdata": [
            [
             1575
            ],
            [
             6403
            ],
            [
             1639
            ],
            [
             250
            ],
            [
             439
            ],
            [
             150
            ],
            [
             263
            ],
            [
             3288
            ],
            [
             419
            ],
            [
             3236
            ],
            [
             149
            ],
            [
             1504
            ],
            [
             2003
            ],
            [
             126
            ],
            [
             1640
            ],
            [
             4321
            ],
            [
             5872
            ],
            [
             212
            ],
            [
             397
            ],
            [
             800
            ],
            [
             295
            ],
            [
             3106
            ],
            [
             104
            ],
            [
             3123
            ],
            [
             778
            ],
            [
             18
            ],
            [
             2227
            ]
           ],
           "geo": "geo",
           "hovertemplate": "<b>%{hovertext}</b><br><br>Year voyage began=1758<br>normalized_sizes=%{marker.size}<br>Latitude=%{lat}<br>Longitude=%{lon}<br>Total slaves embarked imputed * (slaximp)=%{customdata[0]}<extra></extra>",
           "hovertext": [
            "Barbados",
            "Jamaica",
            "Amazonia",
            "Other Caribbean",
            "Americas",
            "Rhode Island",
            "Saint-Domingue",
            "Dutch Guianas",
            "Danish West Indies",
            "Antigua",
            "Massachusetts",
            "Virginia",
            "South Carolina",
            "Other French Caribbean",
            "Martinique",
            "Pernambuco",
            "Bahia",
            "Portugal",
            "Hispaniola",
            "Dutch Caribbean",
            "Maryland",
            "Southeast Brazil",
            "Sierra Leone",
            "St. Kitts",
            "New York",
            "New Hampshire",
            "Guadaloupe"
           ],
           "lat": [
            13.1,
            17.881263,
            -0.93323,
            0,
            0,
            41.384793,
            18.54,
            6.675248,
            18,
            17.067453,
            42.179453,
            36.9,
            33.1,
            19.75778,
            14.6,
            -8.05,
            -12.983333,
            40.046745,
            18.35,
            14.751846,
            39.57,
            -23.48894,
            8.1,
            17.3,
            40.703068,
            43.36,
            16
           ],
           "legendgroup": "",
           "lon": [
            -59.616667,
            -76.522778,
            -43.235449,
            0,
            0,
            -71.466516,
            -72.34,
            -55.251124,
            -64.9,
            -61.784741,
            -70.724689,
            -76.3,
            -79.54,
            -72.20417,
            -61.083333,
            -34.9,
            -38.516667,
            -8.838545,
            -69.35,
            -65.781346,
            -76.03,
            -42.256021,
            -13.67,
            -62.716667,
            -74.011117,
            -70.58,
            -61.71667
           ],
           "marker": {
            "color": "#636efa",
            "size": [
             7.362010551259734,
             8.764521909518802,
             7.40184157874383,
             5.521460917862246,
             6.0844994130751715,
             5.0106352940962555,
             5.572154032177765,
             8.098034756176071,
             6.037870919922137,
             8.082093278178382,
             5.003946305945459,
             7.315883504509785,
             7.602401335665818,
             4.836281906951478,
             7.402451520818244,
             8.371242135931933,
             8.677950570294351,
             5.356586274672012,
             5.983936280687191,
             6.684611727667927,
             5.68697535633982,
             8.041091003708633,
             4.6443908991413725,
             8.046549357283078,
             6.656726524178391,
             2.8903717578961645,
             7.708410667257367
            ],
            "sizemode": "area",
            "sizeref": 0.02718353458394048,
            "symbol": "circle"
           },
           "mode": "markers",
           "name": "",
           "showlegend": false,
           "type": "scattergeo"
          }
         ],
         "name": "1758"
        },
        {
         "data": [
          {
           "customdata": [
            [
             3129
            ],
            [
             7403
            ],
            [
             4392
            ],
            [
             2450
            ],
            [
             6339
            ],
            [
             1820
            ],
            [
             2918
            ],
            [
             2068
            ],
            [
             577
            ],
            [
             282
            ],
            [
             480
            ],
            [
             94
            ],
            [
             867
            ],
            [
             59
            ],
            [
             531
            ],
            [
             350
            ],
            [
             234
            ],
            [
             3218
            ],
            [
             1051
            ],
            [
             148
            ],
            [
             128
            ],
            [
             1709
            ],
            [
             550
            ],
            [
             83
            ],
            [
             991
            ],
            [
             4438
            ],
            [
             194
            ]
           ],
           "geo": "geo",
           "hovertemplate": "<b>%{hovertext}</b><br><br>Year voyage began=1759<br>normalized_sizes=%{marker.size}<br>Latitude=%{lat}<br>Longitude=%{lon}<br>Total slaves embarked imputed * (slaximp)=%{customdata[0]}<extra></extra>",
           "hovertext": [
            "Barbados",
            "Jamaica",
            "Guadaloupe",
            "St. Kitts",
            "Bahia",
            "Antigua",
            "Dutch Guianas",
            "Martinique",
            "Spanish Circum-Caribbean",
            "Montserrat",
            "Tortola",
            "Connecticut",
            "Americas",
            "Pennsylvania",
            "North Carolina",
            "Rio de la Plata",
            "Rhode Island",
            "Pernambuco",
            "Maryland",
            "Other Caribbean",
            "Other French Caribbean",
            "Virginia",
            "Southeast Brazil",
            "New York",
            "Danish West Indies",
            "South Carolina",
            "Amazonia"
           ],
           "lat": [
            13.1,
            17.881263,
            16,
            17.3,
            -12.983333,
            17.067453,
            6.675248,
            14.6,
            15.641117,
            16.7,
            18.347325,
            41.358665,
            0,
            39.71,
            35.25,
            -33.332605,
            41.384793,
            -8.05,
            39.57,
            0,
            19.75778,
            36.9,
            -23.48894,
            40.703068,
            18,
            33.1,
            -0.93323
           ],
           "legendgroup": "",
           "lon": [
            -59.616667,
            -76.522778,
            -61.71667,
            -62.716667,
            -38.516667,
            -61.784741,
            -55.251124,
            -61.083333,
            -75.633932,
            -62.216667,
            -64.715064,
            -72.613822,
            0,
            -74.8,
            -76.55,
            -58.498255,
            -71.466516,
            -34.9,
            -76.03,
            0,
            -72.20417,
            -76.3,
            -42.256021,
            -74.011117,
            -64.9,
            -79.54,
            -43.235449
           ],
           "marker": {
            "color": "#636efa",
            "size": [
             8.048468743668883,
             8.909640602443098,
             8.387539983189367,
             7.803843303538772,
             8.754476306284166,
             7.506591780070841,
             7.978653729082731,
             7.63433723562832,
             6.3578422665081,
             5.641907070938114,
             6.173786103901937,
             4.543294782270004,
             6.7650389767805414,
             4.07753744390572,
             6.274762021241939,
             5.857933154483459,
             5.455321115357702,
             8.076515327552329,
             6.957497370876951,
             4.997212273764115,
             4.852030263919617,
             7.443663683115591,
             6.309918278226516,
             4.418840607796598,
             6.898714534329988,
             8.39795910349254,
             5.267858159063328
            ],
            "sizemode": "area",
            "sizeref": 0.02718353458394048,
            "symbol": "circle"
           },
           "mode": "markers",
           "name": "",
           "showlegend": false,
           "type": "scattergeo"
          }
         ],
         "name": "1759"
        },
        {
         "data": [
          {
           "customdata": [
            [
             2846
            ],
            [
             557
            ],
            [
             315
            ],
            [
             381
            ],
            [
             1811
            ],
            [
             398
            ],
            [
             1069
            ],
            [
             8521
            ],
            [
             2041
            ],
            [
             352
            ],
            [
             2393
            ],
            [
             3573
            ],
            [
             3066
            ],
            [
             8675
            ],
            [
             7459
            ],
            [
             1077
            ],
            [
             95
            ],
            [
             430
            ],
            [
             119
            ],
            [
             2262
            ],
            [
             585
            ],
            [
             1924
            ],
            [
             267
            ],
            [
             2677
            ],
            [
             3173
            ]
           ],
           "geo": "geo",
           "hovertemplate": "<b>%{hovertext}</b><br><br>Year voyage began=1760<br>normalized_sizes=%{marker.size}<br>Latitude=%{lat}<br>Longitude=%{lon}<br>Total slaves embarked imputed * (slaximp)=%{customdata[0]}<extra></extra>",
           "hovertext": [
            "St. Kitts",
            "Maryland",
            "Cuba",
            "Dutch Caribbean",
            "Danish West Indies",
            "Spanish Circum-Caribbean",
            "Americas",
            "Jamaica",
            "Barbados",
            "French Guiana",
            "Virginia",
            "Southeast Brazil",
            "Pernambuco",
            "Guadaloupe",
            "Bahia",
            "Amazonia",
            "Pennsylvania",
            "Other French Caribbean",
            "Rhode Island",
            "Antigua",
            "New York",
            "South Carolina",
            "Massachusetts",
            "Martinique",
            "Dutch Guianas"
           ],
           "lat": [
            17.3,
            39.57,
            23.115613,
            14.751846,
            18,
            15.641117,
            0,
            17.881263,
            13.1,
            5.861294,
            36.9,
            -23.48894,
            -8.05,
            16,
            -12.983333,
            -0.93323,
            39.71,
            19.75778,
            41.384793,
            17.067453,
            40.703068,
            33.1,
            42.179453,
            14.6,
            6.675248
           ],
           "legendgroup": "",
           "lon": [
            -62.716667,
            -76.03,
            -79.127686,
            -65.781346,
            -64.9,
            -75.633932,
            0,
            -76.522778,
            -59.616667,
            -53.612239,
            -76.3,
            -42.256021,
            -34.9,
            -61.71667,
            -38.516667,
            -43.235449,
            -74.8,
            -72.20417,
            -71.466516,
            -61.784741,
            -74.011117,
            -79.54,
            -70.724689,
            -61.083333,
            -55.251124
           ],
           "marker": {
            "color": "#636efa",
            "size": [
             7.953669778649798,
             6.322565239927284,
             5.752572638825633,
             5.942799375126701,
             7.501634457883413,
             5.986452005284438,
             6.974478911025045,
             9.050288983827956,
             7.621195162809845,
             5.863631175598097,
             7.780303087908373,
             8.181160858023409,
             8.028129059431759,
             9.06820060481506,
             8.917176635955164,
             6.981934677156389,
             4.553876891600541,
             6.063785208687608,
             4.77912349311153,
             7.724004656676065,
             6.371611847231857,
             7.562161631225652,
             5.58724865840025,
             7.892452043520352,
             8.062432791583195
            ],
            "sizemode": "area",
            "sizeref": 0.02718353458394048,
            "symbol": "circle"
           },
           "mode": "markers",
           "name": "",
           "showlegend": false,
           "type": "scattergeo"
          }
         ],
         "name": "1760"
        },
        {
         "data": [
          {
           "customdata": [
            [
             169
            ],
            [
             95
            ],
            [
             1456
            ],
            [
             240
            ],
            [
             224
            ],
            [
             704
            ],
            [
             2471
            ],
            [
             500
            ],
            [
             244
            ],
            [
             1746
            ],
            [
             1089
            ],
            [
             6964
            ],
            [
             1515
            ],
            [
             1115
            ],
            [
             6616
            ],
            [
             4377
            ],
            [
             203
            ],
            [
             9021
            ],
            [
             480
            ],
            [
             250
            ],
            [
             149
            ],
            [
             2416
            ],
            [
             433
            ],
            [
             230
            ],
            [
             999
            ],
            [
             2652
            ],
            [
             2838
            ],
            [
             1391
            ],
            [
             188
            ],
            [
             1659
            ],
            [
             198
            ],
            [
             546
            ],
            [
             138
            ]
           ],
           "geo": "geo",
           "hovertemplate": "<b>%{hovertext}</b><br><br>Year voyage began=1761<br>normalized_sizes=%{marker.size}<br>Latitude=%{lat}<br>Longitude=%{lon}<br>Total slaves embarked imputed * (slaximp)=%{customdata[0]}<extra></extra>",
           "hovertext": [
            "Grenada",
            "Connecticut",
            "Barbados",
            "Other French Caribbean",
            "Rhode Island",
            "French Guiana",
            "Virginia",
            "Saint-Domingue",
            "Massachusetts",
            "Southeast Brazil",
            "Antigua",
            "Guadaloupe",
            "Pernambuco",
            "Danish West Indies",
            "Bahia",
            "Dutch Guianas",
            "Pennsylvania",
            "Jamaica",
            "Maryland",
            "Other British Caribbean",
            "New York",
            "St. Kitts",
            "Rio de la Plata",
            "North Carolina",
            "Cuba",
            "South Carolina",
            "Amazonia",
            "Dutch Caribbean",
            "New Jersey",
            "Martinique",
            "Spanish Circum-Caribbean",
            "Americas",
            "Puerto Rico"
           ],
           "lat": [
            12.05,
            41.358665,
            13.1,
            19.75778,
            41.384793,
            5.861294,
            36.9,
            18.54,
            42.179453,
            -23.48894,
            17.067453,
            16,
            -8.05,
            18,
            -12.983333,
            6.675248,
            39.71,
            17.881263,
            39.57,
            18,
            40.703068,
            17.3,
            -33.332605,
            35.25,
            23.115613,
            33.1,
            -0.93323,
            14.751846,
            40.3,
            14.6,
            15.641117,
            0,
            18.420959
           ],
           "legendgroup": "",
           "lon": [
            -61.75,
            -72.613822,
            -59.616667,
            -72.20417,
            -71.466516,
            -53.612239,
            -76.3,
            -72.34,
            -70.724689,
            -42.256021,
            -61.784741,
            -61.71667,
            -34.9,
            -64.9,
            -38.516667,
            -55.251124,
            -74.8,
            -76.522778,
            -76.03,
            -76.8,
            -74.011117,
            -62.716667,
            -58.498255,
            -76.55,
            -79.127686,
            -79.54,
            -43.235449,
            -65.781346,
            -74.18,
            -61.083333,
            -75.633932,
            0,
            -66.070508
           ],
           "marker": {
            "color": "#636efa",
            "size": [
             5.1298987149230735,
             4.553876891600541,
             7.283448228756631,
             5.480638923341991,
             5.4116460518550396,
             6.556778356158042,
             7.81237820598861,
             6.214608098422191,
             5.497168225293202,
             7.465082736399547,
             6.9930151229329605,
             8.848509300888079,
             7.323170717943469,
             7.016609683894219,
             8.797246236703527,
             8.384118837190895,
             5.313205979041787,
             9.107310471656639,
             6.173786103901937,
             5.521460917862246,
             5.003946305945459,
             7.789868559054706,
             6.07073772800249,
             5.438079308923196,
             6.906754778648554,
             7.883069351305753,
             7.950854857719988,
             7.237778191923443,
             5.236441962829949,
             7.413970290190444,
             5.288267030694535,
             6.302618975744905,
             4.927253685157205
            ],
            "sizemode": "area",
            "sizeref": 0.02718353458394048,
            "symbol": "circle"
           },
           "mode": "markers",
           "name": "",
           "showlegend": false,
           "type": "scattergeo"
          }
         ],
         "name": "1761"
        },
        {
         "data": [
          {
           "customdata": [
            [
             1004
            ],
            [
             3659
            ],
            [
             1279
            ],
            [
             1432
            ],
            [
             277
            ],
            [
             2360
            ],
            [
             110
            ],
            [
             83
            ],
            [
             354
            ],
            [
             2183
            ],
            [
             2000
            ],
            [
             244
            ],
            [
             1927
            ],
            [
             6706
            ],
            [
             276
            ],
            [
             1078
            ],
            [
             866
            ],
            [
             148
            ],
            [
             70
            ],
            [
             70
            ],
            [
             4785
            ],
            [
             7685
            ],
            [
             1430
            ],
            [
             95
            ],
            [
             1434
            ],
            [
             3168
            ],
            [
             2540
            ],
            [
             809
            ]
           ],
           "geo": "geo",
           "hovertemplate": "<b>%{hovertext}</b><br><br>Year voyage began=1762<br>normalized_sizes=%{marker.size}<br>Latitude=%{lat}<br>Longitude=%{lon}<br>Total slaves embarked imputed * (slaximp)=%{customdata[0]}<extra></extra>",
           "hovertext": [
            "Cuba",
            "Pernambuco",
            "Other French Caribbean",
            "South Carolina",
            "Other Caribbean",
            "St. Kitts",
            "Americas",
            "Bahamas",
            "Grenada",
            "Barbados",
            "Martinique",
            "Pennsylvania",
            "Dutch Caribbean",
            "Bahia",
            "Other British Caribbean",
            "Maryland",
            "Amazonia",
            "Tortola",
            "Rhode Island",
            "New York",
            "Dutch Guianas",
            "Jamaica",
            "Antigua",
            "Massachusetts",
            "Virginia",
            "Southeast Brazil",
            "Guadaloupe",
            "Danish West Indies"
           ],
           "lat": [
            23.115613,
            -8.05,
            19.75778,
            33.1,
            0,
            17.3,
            0,
            22.783937,
            12.05,
            13.1,
            14.6,
            39.71,
            14.751846,
            -12.983333,
            18,
            39.57,
            -0.93323,
            18.347325,
            41.384793,
            40.703068,
            6.675248,
            17.881263,
            17.067453,
            42.179453,
            36.9,
            -23.48894,
            16,
            18
           ],
           "legendgroup": "",
           "lon": [
            -79.127686,
            -34.9,
            -72.20417,
            -79.54,
            0,
            -62.716667,
            0,
            -74.303605,
            -61.75,
            -59.616667,
            -61.083333,
            -74.8,
            -65.781346,
            -38.516667,
            -76.8,
            -76.03,
            -43.235449,
            -64.715064,
            -71.466516,
            -74.011117,
            -55.251124,
            -76.522778,
            -61.784741,
            -70.724689,
            -76.3,
            -42.256021,
            -61.71667,
            -64.9
           ],
           "marker": {
            "color": "#636efa",
            "size": [
             6.911747300251674,
             8.204945165019208,
             7.153833801578843,
             7.266827347520591,
             5.6240175061873385,
             7.7664168980196555,
             4.700480365792417,
             4.418840607796598,
             5.869296913133774,
             7.688455356549944,
             7.600902459542082,
             5.497168225293202,
             7.563719668414366,
             8.810757927026174,
             5.62040086571715,
             6.982862751468942,
             6.763884908562435,
             4.997212273764115,
             4.248495242049359,
             4.248495242049359,
             8.473241303887054,
             8.947025655972697,
             7.265429723253953,
             4.553876891600541,
             7.2682230211595655,
             8.060855752934316,
             7.8399193600125825,
             6.695798917058491
            ],
            "sizemode": "area",
            "sizeref": 0.02718353458394048,
            "symbol": "circle"
           },
           "mode": "markers",
           "name": "",
           "showlegend": false,
           "type": "scattergeo"
          }
         ],
         "name": "1762"
        },
        {
         "data": [
          {
           "customdata": [
            [
             1304
            ],
            [
             201
            ],
            [
             3169
            ],
            [
             3558
            ],
            [
             120
            ],
            [
             3262
            ],
            [
             205
            ],
            [
             949
            ],
            [
             493
            ],
            [
             6
            ],
            [
             2133
            ],
            [
             544
            ],
            [
             409
            ],
            [
             7057
            ],
            [
             1966
            ],
            [
             4716
            ],
            [
             147
            ],
            [
             2070
            ],
            [
             647
            ],
            [
             16725
            ],
            [
             4446
            ],
            [
             276
            ],
            [
             5395
            ],
            [
             13061
            ],
            [
             4126
            ]
           ],
           "geo": "geo",
           "hovertemplate": "<b>%{hovertext}</b><br><br>Year voyage began=1763<br>normalized_sizes=%{marker.size}<br>Latitude=%{lat}<br>Longitude=%{lon}<br>Total slaves embarked imputed * (slaximp)=%{customdata[0]}<extra></extra>",
           "hovertext": [
            "Martinique",
            "New York",
            "South Carolina",
            "Southeast Brazil",
            "Rhode Island",
            "Pernambuco",
            "St. Vincent",
            "Dutch Caribbean",
            "Dominica",
            "Maryland",
            "Grenada",
            "Amazonia",
            "Spanish Circum-Caribbean",
            "Barbados",
            "Virginia",
            "Bahia",
            "New Jersey",
            "Antigua",
            "Americas",
            "Saint-Domingue",
            "Cuba",
            "Other Caribbean",
            "St. Kitts",
            "Jamaica",
            "Dutch Guianas"
           ],
           "lat": [
            14.6,
            40.703068,
            33.1,
            -23.48894,
            41.384793,
            -8.05,
            13.201309,
            14.751846,
            15.3,
            39.57,
            12.05,
            -0.93323,
            15.641117,
            13.1,
            36.9,
            -12.983333,
            40.3,
            17.067453,
            0,
            18.54,
            23.115613,
            0,
            17.3,
            17.881263,
            6.675248
           ],
           "legendgroup": "",
           "lon": [
            -61.083333,
            -74.011117,
            -79.54,
            -42.256021,
            -71.466516,
            -34.9,
            -61.186603,
            -65.781346,
            -61.4,
            -76.03,
            -61.75,
            -43.235449,
            -75.633932,
            -59.616667,
            -76.3,
            -38.516667,
            -74.18,
            -61.784741,
            0,
            -72.34,
            -79.127686,
            0,
            -62.716667,
            -76.522778,
            -55.251124
           ],
           "marker": {
            "color": "#636efa",
            "size": [
             7.1731917424865985,
             5.303304908059076,
             8.06117135969092,
             8.17695386822578,
             4.787491742782046,
             8.09009578318096,
             5.3230099791384085,
             6.855408798609928,
             6.20050917404269,
             1.791759469228055,
             7.665284718471351,
             6.298949246855942,
             6.013715156042802,
             8.86177531100083,
             7.583756300707112,
             8.458716261657262,
             4.990432586778736,
             7.635303886259415,
             6.472346294500901,
             9.724659884996429,
             8.399760094524142,
             5.62040086571715,
             8.593227877692234,
             9.47738596957752,
             8.325063693631197
            ],
            "sizemode": "area",
            "sizeref": 0.02718353458394048,
            "symbol": "circle"
           },
           "mode": "markers",
           "name": "",
           "showlegend": false,
           "type": "scattergeo"
          }
         ],
         "name": "1763"
        },
        {
         "data": [
          {
           "customdata": [
            [
             200
            ],
            [
             8149
            ],
            [
             5939
            ],
            [
             169
            ],
            [
             680
            ],
            [
             3055
            ],
            [
             4968
            ],
            [
             3491
            ],
            [
             6169
            ],
            [
             43
            ],
            [
             2117
            ],
            [
             928
            ],
            [
             91
            ],
            [
             5438
            ],
            [
             810
            ],
            [
             14512
            ],
            [
             2685
            ],
            [
             123
            ],
            [
             372
            ],
            [
             393
            ],
            [
             489
            ],
            [
             480
            ],
            [
             351
            ],
            [
             259
            ],
            [
             12349
            ],
            [
             4896
            ],
            [
             200
            ],
            [
             1216
            ],
            [
             429
            ],
            [
             2639
            ],
            [
             83
            ]
           ],
           "geo": "geo",
           "hovertemplate": "<b>%{hovertext}</b><br><br>Year voyage began=1764<br>normalized_sizes=%{marker.size}<br>Latitude=%{lat}<br>Longitude=%{lon}<br>Total slaves embarked imputed * (slaximp)=%{customdata[0]}<extra></extra>",
           "hovertext": [
            "Other Caribbean",
            "South Carolina",
            "Dutch Guianas",
            "North Carolina",
            "Americas",
            "Grenada",
            "St. Kitts",
            "Pernambuco",
            "Bahia",
            "Puerto Rico",
            "Guadaloupe",
            "French Guiana",
            "Virginia",
            "Barbados",
            "Spanish Circum-Caribbean",
            "Jamaica",
            "Amazonia",
            "New York",
            "Martinique",
            "Maryland",
            "Dominica",
            "Other British Caribbean",
            "Dutch Caribbean",
            "Pennsylvania",
            "Saint-Domingue",
            "Southeast Brazil",
            "Hispaniola",
            "Cuba",
            "Danish West Indies",
            "Antigua",
            "Rhode Island"
           ],
           "lat": [
            0,
            33.1,
            6.675248,
            35.25,
            0,
            12.05,
            17.3,
            -8.05,
            -12.983333,
            18.420959,
            16,
            5.861294,
            36.9,
            13.1,
            15.641117,
            17.881263,
            -0.93323,
            40.703068,
            14.6,
            39.57,
            15.3,
            18,
            14.751846,
            39.71,
            18.54,
            -23.48894,
            18.35,
            23.115613,
            18,
            17.067453,
            41.384793
           ],
           "legendgroup": "",
           "lon": [
            0,
            -79.54,
            -55.251124,
            -76.55,
            0,
            -61.75,
            -62.716667,
            -34.9,
            -38.516667,
            -66.070508,
            -61.71667,
            -53.612239,
            -76.3,
            -59.616667,
            -75.633932,
            -76.522778,
            -43.235449,
            -74.011117,
            -61.083333,
            -76.03,
            -61.4,
            -76.8,
            -65.781346,
            -74.8,
            -72.34,
            -42.256021,
            -69.35,
            -79.127686,
            -64.9,
            -61.784741,
            -71.466516
           ],
           "marker": {
            "color": "#636efa",
            "size": [
             5.298317366548036,
             9.00565049932022,
             8.68929604801586,
             5.1298987149230735,
             6.522092798170152,
             8.024534871605695,
             8.510772623613315,
             8.157943507105037,
             8.72729202920964,
             3.7612001156935624,
             7.6577552711348655,
             6.833031732786201,
             4.51085950651685,
             8.601166625192416,
             6.697034247666484,
             9.582731172354919,
             7.895436006942965,
             4.812184355372417,
             5.918893854273146,
             5.973809611869261,
             6.192362489474872,
             6.173786103901937,
             5.860786223465865,
             5.556828061699537,
             9.421330367117822,
             8.496173824192162,
             5.298317366548036,
             7.103322062526113,
             6.061456918928017,
             7.878155336503324,
             4.418840607796598
            ],
            "sizemode": "area",
            "sizeref": 0.02718353458394048,
            "symbol": "circle"
           },
           "mode": "markers",
           "name": "",
           "showlegend": false,
           "type": "scattergeo"
          }
         ],
         "name": "1764"
        },
        {
         "data": [
          {
           "customdata": [
            [
             6057
            ],
            [
             1369
            ],
            [
             951
            ],
            [
             153
            ],
            [
             572
            ],
            [
             401
            ],
            [
             191
            ],
            [
             60
            ],
            [
             6418
            ],
            [
             83
            ],
            [
             3697
            ],
            [
             17057
            ],
            [
             859
            ],
            [
             4307
            ],
            [
             7581
            ],
            [
             14352
            ],
            [
             250
            ],
            [
             639
            ],
            [
             1951
            ],
            [
             5282
            ],
            [
             92
            ],
            [
             187
            ],
            [
             77
            ],
            [
             622
            ],
            [
             377
            ],
            [
             503
            ],
            [
             2792
            ],
            [
             111
            ],
            [
             6196
            ],
            [
             1589
            ]
           ],
           "geo": "geo",
           "hovertemplate": "<b>%{hovertext}</b><br><br>Year voyage began=1765<br>normalized_sizes=%{marker.size}<br>Latitude=%{lat}<br>Longitude=%{lon}<br>Total slaves embarked imputed * (slaximp)=%{customdata[0]}<extra></extra>",
           "hovertext": [
            "Barbados",
            "Amazonia",
            "Americas",
            "New York",
            "Virginia",
            "French Guiana",
            "Spanish Circum-Caribbean",
            "Other Africa",
            "Grenada",
            "British Honduras",
            "Antigua",
            "Saint-Domingue",
            "Guadaloupe",
            "St. Kitts",
            "Bahia",
            "Jamaica",
            "North Carolina",
            "Danish West Indies",
            "South Carolina",
            "Southeast Brazil",
            "Tortola",
            "Rhode Island",
            "Other Caribbean",
            "St. Vincent",
            "Other British Caribbean",
            "Dominica",
            "Pernambuco",
            "Georgia",
            "Dutch Guianas",
            "Martinique"
           ],
           "lat": [
            13.1,
            -0.93323,
            0,
            40.703068,
            36.9,
            5.861294,
            15.641117,
            0.054033,
            12.05,
            15.79,
            17.067453,
            18.54,
            16,
            17.3,
            -12.983333,
            17.881263,
            35.25,
            18,
            33.1,
            -23.48894,
            18.347325,
            41.384793,
            0,
            13.201309,
            18,
            15.3,
            -8.05,
            31.69,
            6.675248,
            14.6
           ],
           "legendgroup": "",
           "lon": [
            -59.616667,
            -43.235449,
            0,
            -74.011117,
            -76.3,
            -53.612239,
            -75.633932,
            9.343897,
            -61.75,
            -86.3,
            -61.784741,
            -72.34,
            -61.71667,
            -62.716667,
            -38.516667,
            -76.522778,
            -76.55,
            -64.9,
            -79.54,
            -42.256021,
            -64.715064,
            -71.466516,
            0,
            -61.186603,
            -76.8,
            -61.4,
            -34.9,
            -81.17,
            -55.251124,
            -61.083333
           ],
           "marker": {
            "color": "#636efa",
            "size": [
             8.708969906980947,
             7.221835825288449,
             6.85751406254539,
             5.030437921392435,
             6.349138991379798,
             5.993961427306569,
             5.25227342804663,
             4.0943445622221,
             8.766861821669803,
             4.418840607796598,
             8.215276958936633,
             9.744315955640873,
             6.755768921984255,
             8.36799688505411,
             8.933400396056303,
             9.571644584298577,
             5.521460917862246,
             6.459904454377535,
             7.576097340623111,
             8.572060092857077,
             4.5217885770490405,
             5.231108616854587,
             4.343805421853684,
             6.432940092739179,
             5.932245187448011,
             6.220590170099739,
             7.934513463882263,
             4.709530201312334,
             8.73165920153676,
             7.370860166536716
            ],
            "sizemode": "area",
            "sizeref": 0.02718353458394048,
            "symbol": "circle"
           },
           "mode": "markers",
           "name": "",
           "showlegend": false,
           "type": "scattergeo"
          }
         ],
         "name": "1765"
        },
        {
         "data": [
          {
           "customdata": [
            [
             3235
            ],
            [
             9501
            ],
            [
             1099
            ],
            [
             2545
            ],
            [
             120
            ],
            [
             140
            ],
            [
             18094
            ],
            [
             3635
            ],
            [
             238
            ],
            [
             4142
            ],
            [
             849
            ],
            [
             692
            ],
            [
             1354
            ],
            [
             1379
            ],
            [
             339
            ],
            [
             3481
            ],
            [
             3828
            ],
            [
             5368
            ],
            [
             3398
            ],
            [
             5433
            ],
            [
             1048
            ],
            [
             124
            ],
            [
             375
            ],
            [
             83
            ],
            [
             472
            ],
            [
             971
            ],
            [
             5439
            ]
           ],
           "geo": "geo",
           "hovertemplate": "<b>%{hovertext}</b><br><br>Year voyage began=1766<br>normalized_sizes=%{marker.size}<br>Latitude=%{lat}<br>Longitude=%{lon}<br>Total slaves embarked imputed * (slaximp)=%{customdata[0]}<extra></extra>",
           "hovertext": [
            "Dominica",
            "Bahia",
            "Guadaloupe",
            "Puerto Rico",
            "Pennsylvania",
            "Maryland",
            "Saint-Domingue",
            "Barbados",
            "Martinique",
            "Antigua",
            "Other British Caribbean",
            "Dutch Caribbean",
            "Georgia",
            "Amazonia",
            "Virginia",
            "Pernambuco",
            "Jamaica",
            "Southeast Brazil",
            "St. Kitts",
            "Dutch Guianas",
            "South Carolina",
            "Montserrat",
            "Danish West Indies",
            "Other Caribbean",
            "Cuba",
            "Americas",
            "Grenada"
           ],
           "lat": [
            15.3,
            -12.983333,
            16,
            18.420959,
            39.71,
            39.57,
            18.54,
            13.1,
            14.6,
            17.067453,
            18,
            14.751846,
            31.69,
            -0.93323,
            36.9,
            -8.05,
            17.881263,
            -23.48894,
            17.3,
            6.675248,
            33.1,
            16.7,
            18,
            0,
            23.115613,
            0,
            12.05
           ],
           "legendgroup": "",
           "lon": [
            -61.4,
            -38.516667,
            -61.71667,
            -66.070508,
            -74.8,
            -76.03,
            -72.34,
            -59.616667,
            -61.083333,
            -61.784741,
            -76.8,
            -65.781346,
            -81.17,
            -43.235449,
            -76.3,
            -34.9,
            -76.522778,
            -42.256021,
            -62.716667,
            -55.251124,
            -79.54,
            -62.216667,
            -64.9,
            0,
            -79.127686,
            0,
            -61.75
           ],
           "marker": {
            "color": "#636efa",
            "size": [
             8.081784206935001,
             9.15915233520675,
             7.002155954403621,
             7.841885928984623,
             4.787491742782046,
             4.941642422609304,
             9.803335670585687,
             8.19836438996762,
             5.472270673671475,
             8.328934041955529,
             6.744059186311348,
             6.539585955617669,
             7.21081845347222,
             7.229113877793302,
             5.82600010738045,
             8.15507488781144,
             8.250097752572845,
             8.588210678651517,
             8.130942302231878,
             8.600246746551523,
             6.954638864880987,
             4.820281565605037,
             5.926926025970411,
             4.418840607796598,
             6.156978985585555,
             6.878326468291325,
             8.60135049942296
            ],
            "sizemode": "area",
            "sizeref": 0.02718353458394048,
            "symbol": "circle"
           },
           "mode": "markers",
           "name": "",
           "showlegend": false,
           "type": "scattergeo"
          }
         ],
         "name": "1766"
        },
        {
         "data": [
          {
           "customdata": [
            [
             3425
            ],
            [
             4693
            ],
            [
             4826
            ],
            [
             1071
            ],
            [
             8786
            ],
            [
             148
            ],
            [
             2796
            ],
            [
             15145
            ],
            [
             79
            ],
            [
             118
            ],
            [
             150
            ],
            [
             5612
            ],
            [
             164
            ],
            [
             588
            ],
            [
             409
            ],
            [
             534
            ],
            [
             737
            ],
            [
             3022
            ],
            [
             3528
            ],
            [
             500
            ],
            [
             304
            ],
            [
             5687
            ],
            [
             622
            ],
            [
             323
            ],
            [
             1253
            ],
            [
             7781
            ],
            [
             230
            ],
            [
             284
            ],
            [
             2135
            ]
           ],
           "geo": "geo",
           "hovertemplate": "<b>%{hovertext}</b><br><br>Year voyage began=1767<br>normalized_sizes=%{marker.size}<br>Latitude=%{lat}<br>Longitude=%{lon}<br>Total slaves embarked imputed * (slaximp)=%{customdata[0]}<extra></extra>",
           "hovertext": [
            "Grenada",
            "Antigua",
            "Dutch Guianas",
            "Amazonia",
            "Jamaica",
            "North Carolina",
            "Dominica",
            "Saint-Domingue",
            "Florida",
            "New York",
            "Codes without labels",
            "Barbados",
            "Other French Caribbean",
            "Other Caribbean",
            "Martinique",
            "Cuba",
            "Danish West Indies",
            "Puerto Rico",
            "Pernambuco",
            "Americas",
            "French Guiana",
            "Southeast Brazil",
            "Georgia",
            "British Guiana",
            "St. Kitts",
            "Bahia",
            "Virginia",
            "St. Vincent",
            "Other British Caribbean"
           ],
           "lat": [
            12.05,
            17.067453,
            6.675248,
            -0.93323,
            17.881263,
            35.25,
            15.3,
            18.54,
            28.085368,
            40.703068,
            0,
            13.1,
            19.75778,
            0,
            14.6,
            23.115613,
            18,
            18.420959,
            -8.05,
            0,
            5.861294,
            -23.48894,
            31.69,
            7.615531,
            17.3,
            -12.983333,
            36.9,
            13.201309,
            18
           ],
           "legendgroup": "",
           "lon": [
            -61.75,
            -61.784741,
            -55.251124,
            -43.235449,
            -76.522778,
            -76.55,
            -61.4,
            -72.34,
            -80.522396,
            -74.011117,
            0,
            -59.616667,
            -72.20417,
            0,
            -61.083333,
            -79.127686,
            -64.9,
            -66.070508,
            -34.9,
            0,
            -53.612239,
            -42.256021,
            -81.17,
            -57.958937,
            -62.716667,
            -38.516667,
            -76.3,
            -61.186603,
            -76.8
           ],
           "marker": {
            "color": "#636efa",
            "size": [
             8.138856750696325,
             8.453827315794417,
             8.481773246184977,
             6.976348070447749,
             9.080914824535725,
             4.997212273764115,
             7.935945103353701,
             9.625425723461337,
             4.3694478524670215,
             4.770684624465665,
             5.0106352940962555,
             8.632662441222351,
             5.099866427824199,
             6.376726947898627,
             6.013715156042802,
             6.280395838960195,
             6.602587892189336,
             8.013674142832684,
             8.168486417126681,
             6.214608098422191,
             5.717027701406222,
             8.645938147306799,
             6.432940092739179,
             5.777652323222656,
             7.133295954896068,
             8.95944014361693,
             5.438079308923196,
             5.648974238161206,
             7.666221925662725
            ],
            "sizemode": "area",
            "sizeref": 0.02718353458394048,
            "symbol": "circle"
           },
           "mode": "markers",
           "name": "",
           "showlegend": false,
           "type": "scattergeo"
          }
         ],
         "name": "1767"
        },
        {
         "data": [
          {
           "customdata": [
            [
             605
            ],
            [
             6283
            ],
            [
             1002
            ],
            [
             5193
            ],
            [
             4965
            ],
            [
             186
            ],
            [
             102
            ],
            [
             144
            ],
            [
             4227
            ],
            [
             5658
            ],
            [
             1141
            ],
            [
             347
            ],
            [
             270
            ],
            [
             1704
            ],
            [
             128
            ],
            [
             2026
            ],
            [
             2367
            ],
            [
             17
            ],
            [
             786
            ],
            [
             80
            ],
            [
             3066
            ],
            [
             4990
            ],
            [
             2635
            ],
            [
             198
            ],
            [
             13902
            ],
            [
             100
            ],
            [
             356
            ],
            [
             368
            ],
            [
             166
            ],
            [
             433
            ],
            [
             492
            ],
            [
             4639
            ],
            [
             485
            ],
            [
             634
            ],
            [
             1374
            ]
           ],
           "geo": "geo",
           "hovertemplate": "<b>%{hovertext}</b><br><br>Year voyage began=1768<br>normalized_sizes=%{marker.size}<br>Latitude=%{lat}<br>Longitude=%{lon}<br>Total slaves embarked imputed * (slaximp)=%{customdata[0]}<extra></extra>",
           "hovertext": [
            "French Guiana",
            "Barbados",
            "Americas",
            "Dutch Guianas",
            "Jamaica",
            "Florida",
            "Other Caribbean",
            "Maryland",
            "Dominica",
            "South Carolina",
            "St. Vincent",
            "Dutch Caribbean",
            "Nevis",
            "Other British Caribbean",
            "Tortola",
            "Puerto Rico",
            "Southeast Brazil",
            "Senegambia and offshore Atlantic",
            "Amazonia",
            "Spanish Circum-Caribbean",
            "Antigua",
            "Bahia",
            "Pernambuco",
            "Cuba",
            "Saint-Domingue",
            "Other Africa",
            "Bight of Biafra and Gulf of Guinea islands",
            "New York",
            "Sierra Leone",
            "Guadaloupe",
            "Virginia",
            "Grenada",
            "Georgia",
            "Danish West Indies",
            "St. Kitts"
           ],
           "lat": [
            5.861294,
            13.1,
            0,
            6.675248,
            17.881263,
            28.085368,
            0,
            39.57,
            15.3,
            33.1,
            13.201309,
            14.751846,
            17.151005,
            18,
            18.347325,
            18.420959,
            -23.48894,
            14.14,
            -0.93323,
            15.641117,
            17.067453,
            -12.983333,
            -8.05,
            23.115613,
            18.54,
            0.054033,
            4.17,
            40.703068,
            8.1,
            16,
            36.9,
            12.05,
            31.69,
            18,
            17.3
           ],
           "legendgroup": "",
           "lon": [
            -53.612239,
            -59.616667,
            0,
            -55.251124,
            -76.522778,
            -80.522396,
            0,
            -76.03,
            -61.4,
            -79.54,
            -61.186603,
            -65.781346,
            -62.589223,
            -76.8,
            -64.715064,
            -66.070508,
            -42.256021,
            -17.93,
            -43.235449,
            -75.633932,
            -61.784741,
            -38.516667,
            -34.9,
            -79.127686,
            -72.34,
            9.343897,
            8.31,
            -74.011117,
            -13.67,
            -61.71667,
            -76.3,
            -61.75,
            -81.17,
            -64.9,
            -62.716667
           ],
           "marker": {
            "color": "#636efa",
            "size": [
             6.405228458030842,
             8.745602852402946,
             6.90975328164481,
             8.555066843844319,
             8.510168576479273,
             5.225746673713202,
             4.624972813284271,
             4.969813299576001,
             8.34924780056679,
             8.640825751861513,
             7.039660349862076,
             5.849324779946859,
             5.598421958998375,
             7.440733707389261,
             4.852030263919617,
             7.613818684808629,
             7.769378609513984,
             2.833213344056216,
             6.666956792429207,
             4.382026634673881,
             8.028129059431759,
             8.515191188745565,
             7.876638460975463,
             5.288267030694535,
             9.53978799366043,
             4.605170185988092,
             5.87493073085203,
             5.908082938168931,
             5.111987788356544,
             6.07073772800249,
             6.198478716492308,
             8.442254104751743,
             6.184148890937483,
             6.452048954437226,
             7.2254814727822945
            ],
            "sizemode": "area",
            "sizeref": 0.02718353458394048,
            "symbol": "circle"
           },
           "mode": "markers",
           "name": "",
           "showlegend": false,
           "type": "scattergeo"
          }
         ],
         "name": "1768"
        },
        {
         "data": [
          {
           "customdata": [
            [
             302
            ],
            [
             5245
            ],
            [
             1066
            ],
            [
             3512
            ],
            [
             254
            ],
            [
             2368
            ],
            [
             1551
            ],
            [
             17426
            ],
            [
             1061
            ],
            [
             417
            ],
            [
             4320
            ],
            [
             649
            ],
            [
             368
            ],
            [
             7500
            ],
            [
             564
            ],
            [
             273
            ],
            [
             686
            ],
            [
             8727
            ],
            [
             2723
            ],
            [
             6857
            ],
            [
             779
            ],
            [
             152
            ],
            [
             242
            ],
            [
             484
            ],
            [
             878
            ],
            [
             54
            ],
            [
             9492
            ]
           ],
           "geo": "geo",
           "hovertemplate": "<b>%{hovertext}</b><br><br>Year voyage began=1769<br>normalized_sizes=%{marker.size}<br>Latitude=%{lat}<br>Longitude=%{lon}<br>Total slaves embarked imputed * (slaximp)=%{customdata[0]}<extra></extra>",
           "hovertext": [
            "Maryland",
            "Grenada",
            "Amazonia",
            "Antigua",
            "South Carolina",
            "Pernambuco",
            "Puerto Rico",
            "Saint-Domingue",
            "St. Vincent",
            "Guadaloupe",
            "Dominica",
            "Other British Caribbean",
            "New York",
            "Dutch Guianas",
            "St. Kitts",
            "Other Caribbean",
            "Virginia",
            "Jamaica",
            "Southeast Brazil",
            "Bahia",
            "Georgia",
            "Spanish Circum-Caribbean",
            "French Guiana",
            "Americas",
            "Danish West Indies",
            "Codes without labels",
            "Barbados"
           ],
           "lat": [
            39.57,
            12.05,
            -0.93323,
            17.067453,
            33.1,
            -8.05,
            18.420959,
            18.54,
            13.201309,
            16,
            15.3,
            18,
            40.703068,
            6.675248,
            17.3,
            0,
            36.9,
            17.881263,
            -23.48894,
            -12.983333,
            31.69,
            15.641117,
            5.861294,
            0,
            18,
            0,
            13.1
           ],
           "legendgroup": "",
           "lon": [
            -76.03,
            -61.75,
            -43.235449,
            -61.784741,
            -79.54,
            -34.9,
            -66.070508,
            -72.34,
            -61.186603,
            -61.71667,
            -61.4,
            -76.8,
            -74.011117,
            -55.251124,
            -62.716667,
            0,
            -76.3,
            -76.522778,
            -42.256021,
            -38.516667,
            -81.17,
            -75.633932,
            -53.612239,
            0,
            -64.9,
            0,
            -59.616667
           ],
           "marker": {
            "color": "#636efa",
            "size": [
             5.71042701737487,
             8.565030520830398,
             6.97166860472579,
             8.163940954755008,
             5.537334267018537,
             7.769800996003896,
             7.346655163176539,
             9.765718622791232,
             6.966967138613983,
             6.0330862217988015,
             8.371010681238156,
             6.47543271670409,
             5.908082938168931,
             8.922658299524402,
             6.335054251498059,
             5.60947179518496,
             6.530877627725885,
             9.074176947163311,
             7.909489492673759,
             8.833025307284364,
             6.658011045870748,
             5.0238805208462765,
             5.488937726156687,
             6.182084906716632,
             6.777646593635117,
             3.9889840465642745,
             9.158204617555654
            ],
            "sizemode": "area",
            "sizeref": 0.02718353458394048,
            "symbol": "circle"
           },
           "mode": "markers",
           "name": "",
           "showlegend": false,
           "type": "scattergeo"
          }
         ],
         "name": "1769"
        },
        {
         "data": [
          {
           "customdata": [
            [
             352
            ],
            [
             113
            ],
            [
             1719
            ],
            [
             11410
            ],
            [
             83
            ],
            [
             7500
            ],
            [
             2309
            ],
            [
             2033
            ],
            [
             1211
            ],
            [
             51
            ],
            [
             366
            ],
            [
             352
            ],
            [
             1366
            ],
            [
             2483
            ],
            [
             7157
            ],
            [
             827
            ],
            [
             6166
            ],
            [
             6696
            ],
            [
             162
            ],
            [
             360
            ],
            [
             1527
            ],
            [
             8086
            ],
            [
             250
            ],
            [
             5917
            ],
            [
             2151
            ],
            [
             1610
            ],
            [
             277
            ],
            [
             140
            ]
           ],
           "geo": "geo",
           "hovertemplate": "<b>%{hovertext}</b><br><br>Year voyage began=1770<br>normalized_sizes=%{marker.size}<br>Latitude=%{lat}<br>Longitude=%{lon}<br>Total slaves embarked imputed * (slaximp)=%{customdata[0]}<extra></extra>",
           "hovertext": [
            "Nevis",
            "Maryland",
            "Other British Caribbean",
            "Saint-Domingue",
            "New York",
            "Dutch Guianas",
            "St. Vincent",
            "Southeast Brazil",
            "Amazonia",
            "Martinique",
            "Virginia",
            "Other Caribbean",
            "St. Kitts",
            "Antigua",
            "Barbados",
            "Americas",
            "Bahia",
            "Jamaica",
            "Guadaloupe",
            "Danish West Indies",
            "Puerto Rico",
            "Grenada",
            "North Carolina",
            "Dominica",
            "Pernambuco",
            "South Carolina",
            "Florida",
            "Georgia"
           ],
           "lat": [
            17.151005,
            39.57,
            18,
            18.54,
            40.703068,
            6.675248,
            13.201309,
            -23.48894,
            -0.93323,
            14.6,
            36.9,
            0,
            17.3,
            17.067453,
            13.1,
            0,
            -12.983333,
            17.881263,
            16,
            18,
            18.420959,
            12.05,
            35.25,
            15.3,
            -8.05,
            33.1,
            28.085368,
            31.69
           ],
           "legendgroup": "",
           "lon": [
            -62.589223,
            -76.03,
            -76.8,
            -72.34,
            -74.011117,
            -55.251124,
            -61.186603,
            -42.256021,
            -43.235449,
            -61.083333,
            -76.3,
            0,
            -62.716667,
            -61.784741,
            -59.616667,
            0,
            -38.516667,
            -76.522778,
            -61.71667,
            -64.9,
            -66.070508,
            -61.75,
            -76.55,
            -61.4,
            -34.9,
            -79.54,
            -80.522396,
            -81.17
           ],
           "marker": {
            "color": "#636efa",
            "size": [
             5.863631175598097,
             4.727387818712341,
             7.449498005382849,
             9.342245442856122,
             4.418840607796598,
             8.922658299524402,
             7.744569809354496,
             7.617267813628347,
             7.099201743553092,
             3.9318256327243257,
             5.902633333401366,
             5.863631175598097,
             7.2196420401307355,
             7.817222785508166,
             8.875846177738598,
             6.717804695023691,
             8.726805608446096,
             8.80926561216931,
             5.087596335232384,
             5.886104031450156,
             7.3310603052186325,
             8.997889450200717,
             5.521460917862246,
             8.685584842676693,
             7.67368812926773,
             7.383989457978509,
             5.6240175061873385,
             4.941642422609304
            ],
            "sizemode": "area",
            "sizeref": 0.02718353458394048,
            "symbol": "circle"
           },
           "mode": "markers",
           "name": "",
           "showlegend": false,
           "type": "scattergeo"
          }
         ],
         "name": "1770"
        },
        {
         "data": [
          {
           "customdata": [
            [
             267
            ],
            [
             5768
            ],
            [
             135
            ],
            [
             171
            ],
            [
             83
            ],
            [
             4658
            ],
            [
             3549
            ],
            [
             4448
            ],
            [
             17813
            ],
            [
             3144
            ],
            [
             1621
            ],
            [
             7630
            ],
            [
             1400
            ],
            [
             1935
            ],
            [
             6257
            ],
            [
             653
            ],
            [
             1237
            ],
            [
             7211
            ],
            [
             60
            ],
            [
             425
            ],
            [
             9524
            ],
            [
             1406
            ],
            [
             874
            ],
            [
             2591
            ],
            [
             134
            ],
            [
             4539
            ],
            [
             793
            ]
           ],
           "geo": "geo",
           "hovertemplate": "<b>%{hovertext}</b><br><br>Year voyage began=1771<br>normalized_sizes=%{marker.size}<br>Latitude=%{lat}<br>Longitude=%{lon}<br>Total slaves embarked imputed * (slaximp)=%{customdata[0]}<extra></extra>",
           "hovertext": [
            "Danish West Indies",
            "Dutch Guianas",
            "Martinique",
            "Nevis",
            "Guadaloupe",
            "Grenada",
            "St. Kitts",
            "South Carolina",
            "Saint-Domingue",
            "Pernambuco",
            "Other British Caribbean",
            "Bahia",
            "Tobago",
            "Virginia",
            "Southeast Brazil",
            "Other Caribbean",
            "Amazonia",
            "Jamaica",
            "French Guiana",
            "Georgia",
            "Dominica",
            "Antigua",
            "Dutch Caribbean",
            "St. Vincent",
            "Maryland",
            "Barbados",
            "Americas"
           ],
           "lat": [
            18,
            6.675248,
            14.6,
            17.151005,
            16,
            12.05,
            17.3,
            33.1,
            18.54,
            -8.05,
            18,
            -12.983333,
            11.231794,
            36.9,
            -23.48894,
            0,
            -0.93323,
            17.881263,
            5.861294,
            31.69,
            15.3,
            17.067453,
            14.751846,
            13.201309,
            39.57,
            13.1,
            0
           ],
           "legendgroup": "",
           "lon": [
            -64.9,
            -55.251124,
            -61.083333,
            -62.589223,
            -61.71667,
            -61.75,
            -62.716667,
            -79.54,
            -72.34,
            -34.9,
            -76.8,
            -38.516667,
            -60.663937,
            -76.3,
            -42.256021,
            0,
            -43.235449,
            -76.522778,
            -53.612239,
            -81.17,
            -61.4,
            -61.784741,
            -65.781346,
            -61.186603,
            -76.03,
            -59.616667,
            0
           ],
           "marker": {
            "color": "#636efa",
            "size": [
             5.58724865840025,
             8.660080678964786,
             4.90527477843843,
             5.14166355650266,
             4.418840607796598,
             8.446341450444287,
             8.174421152646497,
             8.400209835930418,
             9.787683806792485,
             8.053251153549096,
             7.390798521735676,
             8.939843124278502,
             7.24422751560335,
             7.5678626054638825,
             8.741456115998364,
             6.481577129276431,
             7.1204443723924875,
             8.88336291691676,
             4.0943445622221,
             6.052089168924417,
             9.161570207606754,
             7.2485040723706105,
             6.773080375655535,
             7.85979918056211,
             4.897839799950911,
             8.420462002456466,
             6.675823221634848
            ],
            "sizemode": "area",
            "sizeref": 0.02718353458394048,
            "symbol": "circle"
           },
           "mode": "markers",
           "name": "",
           "showlegend": false,
           "type": "scattergeo"
          }
         ],
         "name": "1771"
        },
        {
         "data": [
          {
           "customdata": [
            [
             582
            ],
            [
             8046
            ],
            [
             337
            ],
            [
             281
            ],
            [
             15505
            ],
            [
             6880
            ],
            [
             544
            ],
            [
             15784
            ],
            [
             3705
            ],
            [
             754
            ],
            [
             166
            ],
            [
             4166
            ],
            [
             2056
            ],
            [
             178
            ],
            [
             4529
            ],
            [
             3222
            ],
            [
             2278
            ],
            [
             4884
            ],
            [
             296
            ],
            [
             758
            ],
            [
             1842
            ],
            [
             29
            ],
            [
             1332
            ]
           ],
           "geo": "geo",
           "hovertemplate": "<b>%{hovertext}</b><br><br>Year voyage began=1772<br>normalized_sizes=%{marker.size}<br>Latitude=%{lat}<br>Longitude=%{lon}<br>Total slaves embarked imputed * (slaximp)=%{customdata[0]}<extra></extra>",
           "hovertext": [
            "Georgia",
            "South Carolina",
            "Antigua",
            "Maryland",
            "Saint-Domingue",
            "Bahia",
            "Virginia",
            "Jamaica",
            "Dominica",
            "Dutch Caribbean",
            "Danish West Indies",
            "St. Kitts",
            "Pernambuco",
            "Guadaloupe",
            "Dutch Guianas",
            "St. Vincent",
            "Barbados",
            "Grenada",
            "Tobago",
            "Other Caribbean",
            "Americas",
            "Bight of Biafra and Gulf of Guinea islands",
            "Amazonia"
           ],
           "lat": [
            31.69,
            33.1,
            17.067453,
            39.57,
            18.54,
            -12.983333,
            36.9,
            17.881263,
            15.3,
            14.751846,
            18,
            17.3,
            -8.05,
            16,
            6.675248,
            13.201309,
            13.1,
            12.05,
            11.231794,
            0,
            0,
            4.17,
            -0.93323
           ],
           "legendgroup": "",
           "lon": [
            -81.17,
            -79.54,
            -61.784741,
            -76.03,
            -72.34,
            -38.516667,
            -76.3,
            -76.522778,
            -61.4,
            -65.781346,
            -64.9,
            -62.716667,
            -34.9,
            -61.71667,
            -55.251124,
            -61.186603,
            -59.616667,
            -61.75,
            -60.663937,
            0,
            0,
            8.31,
            -43.235449
           ],
           "marker": {
            "color": "#636efa",
            "size": [
             6.366470447731438,
             8.992930352509733,
             5.820082930352362,
             5.638354669333745,
             9.648917831534549,
             8.836373930927389,
             6.298949246855942,
             9.66675204770245,
             8.217438537730187,
             6.625392368007956,
             5.111987788356544,
             8.334711621820917,
             7.628517626575055,
             5.181783550292085,
             8.418256443556213,
             8.07775756373692,
             7.731053144007127,
             8.493719835230594,
             5.69035945432406,
             6.630683385642372,
             7.518607216815252,
             3.367295829986474,
             7.194436851100335
            ],
            "sizemode": "area",
            "sizeref": 0.02718353458394048,
            "symbol": "circle"
           },
           "mode": "markers",
           "name": "",
           "showlegend": false,
           "type": "scattergeo"
          }
         ],
         "name": "1772"
        },
        {
         "data": [
          {
           "customdata": [
            [
             2117
            ],
            [
             1201
            ],
            [
             1005
            ],
            [
             1360
            ],
            [
             1245
            ],
            [
             2225
            ],
            [
             500
            ],
            [
             5754
            ],
            [
             100
            ],
            [
             276
            ],
            [
             2553
            ],
            [
             218
            ],
            [
             68
            ],
            [
             2153
            ],
            [
             6769
            ],
            [
             815
            ],
            [
             15394
            ],
            [
             3798
            ],
            [
             149
            ],
            [
             344
            ],
            [
             19736
            ],
            [
             776
            ],
            [
             838
            ],
            [
             2141
            ]
           ],
           "geo": "geo",
           "hovertemplate": "<b>%{hovertext}</b><br><br>Year voyage began=1773<br>normalized_sizes=%{marker.size}<br>Latitude=%{lat}<br>Longitude=%{lon}<br>Total slaves embarked imputed * (slaximp)=%{customdata[0]}<extra></extra>",
           "hovertext": [
            "Americas",
            "St. Vincent",
            "Georgia",
            "Dutch Caribbean",
            "Dominica",
            "Barbados",
            "Tortola",
            "Bahia",
            "Florida",
            "Guadaloupe",
            "Grenada",
            "Danish West Indies",
            "Montserrat",
            "Dutch Guianas",
            "South Carolina",
            "Amazonia",
            "Saint-Domingue",
            "St. Kitts",
            "North Carolina",
            "Other British Caribbean",
            "Jamaica",
            "Martinique",
            "Antigua",
            "Pernambuco"
           ],
           "lat": [
            0,
            13.201309,
            31.69,
            14.751846,
            15.3,
            13.1,
            18.347325,
            -12.983333,
            28.085368,
            16,
            12.05,
            18,
            16.7,
            6.675248,
            33.1,
            -0.93323,
            18.54,
            17.3,
            35.25,
            18,
            17.881263,
            14.6,
            17.067453,
            -8.05
           ],
           "legendgroup": "",
           "lon": [
            0,
            -61.186603,
            -81.17,
            -65.781346,
            -61.4,
            -59.616667,
            -64.715064,
            -38.516667,
            -80.522396,
            -61.71667,
            -61.75,
            -64.9,
            -62.216667,
            -55.251124,
            -79.54,
            -43.235449,
            -72.34,
            -62.716667,
            -76.55,
            -76.8,
            -76.522778,
            -61.083333,
            -61.784741,
            -34.9
           ],
           "marker": {
            "color": "#636efa",
            "size": [
             7.6577552711348655,
             7.0909098220799835,
             6.912742820493176,
             7.215239978730097,
             7.126890808898808,
             7.707512194600341,
             6.214608098422191,
             8.657650544111494,
             4.605170185988092,
             5.62040086571715,
             7.845024417241484,
             5.384495062789089,
             4.219507705176107,
             7.674617497364363,
             8.820108644508608,
             6.703188113240863,
             9.641733102094262,
             8.242229891372231,
             5.003946305945459,
             5.840641657373398,
             9.890199658209193,
             6.654152520183219,
             6.731018100482083,
             7.669028288589683
            ],
            "sizemode": "area",
            "sizeref": 0.02718353458394048,
            "symbol": "circle"
           },
           "mode": "markers",
           "name": "",
           "showlegend": false,
           "type": "scattergeo"
          }
         ],
         "name": "1773"
        },
        {
         "data": [
          {
           "customdata": [
            [
             250
            ],
            [
             19375
            ],
            [
             6691
            ],
            [
             1212
            ],
            [
             20193
            ],
            [
             352
            ],
            [
             1261
            ],
            [
             529
            ],
            [
             2976
            ],
            [
             174
            ],
            [
             1123
            ],
            [
             1296
            ],
            [
             3249
            ],
            [
             181
            ],
            [
             7672
            ],
            [
             2978
            ],
            [
             906
            ],
            [
             1340
            ],
            [
             208
            ],
            [
             803
            ],
            [
             1969
            ],
            [
             2395
            ],
            [
             1741
            ],
            [
             378
            ],
            [
             410
            ],
            [
             423
            ],
            [
             948
            ]
           ],
           "geo": "geo",
           "hovertemplate": "<b>%{hovertext}</b><br><br>Year voyage began=1774<br>normalized_sizes=%{marker.size}<br>Latitude=%{lat}<br>Longitude=%{lon}<br>Total slaves embarked imputed * (slaximp)=%{customdata[0]}<extra></extra>",
           "hovertext": [
            "Virginia",
            "Saint-Domingue",
            "Dominica",
            "South Carolina",
            "Jamaica",
            "Tobago",
            "Americas",
            "Amazonia",
            "Pernambuco",
            "Florida",
            "Other British Caribbean",
            "St. Vincent",
            "Grenada",
            "Other Caribbean",
            "Bahia",
            "St. Kitts",
            "Georgia",
            "Antigua",
            "Spanish Circum-Caribbean",
            "Danish West Indies",
            "Southeast Brazil",
            "Dutch Guianas",
            "Barbados",
            "Tortola",
            "British Guiana",
            "Montserrat",
            "Dutch Caribbean"
           ],
           "lat": [
            36.9,
            18.54,
            15.3,
            33.1,
            17.881263,
            11.231794,
            0,
            -0.93323,
            -8.05,
            28.085368,
            18,
            13.201309,
            12.05,
            0,
            -12.983333,
            17.3,
            31.69,
            17.067453,
            15.641117,
            18,
            -23.48894,
            6.675248,
            13.1,
            18.347325,
            7.615531,
            16.7,
            14.751846
           ],
           "legendgroup": "",
           "lon": [
            -76.3,
            -72.34,
            -61.4,
            -79.54,
            -76.522778,
            -60.663937,
            0,
            -43.235449,
            -34.9,
            -80.522396,
            -76.8,
            -61.186603,
            -61.75,
            0,
            -38.516667,
            -62.716667,
            -81.17,
            -61.784741,
            -75.633932,
            -64.9,
            -42.256021,
            -55.251124,
            -59.616667,
            -64.715064,
            -57.958937,
            -62.216667,
            -65.781346
           ],
           "marker": {
            "color": "#636efa",
            "size": [
             5.521460917862246,
             9.871738854221547,
             8.808518618782816,
             7.10002716662926,
             9.913091288678823,
             5.863631175598097,
             7.13966033596492,
             6.270988431858299,
             7.998335395952982,
             5.159055299214529,
             7.023758954738443,
             7.16703787691222,
             8.0861025356691,
             5.198497031265826,
             8.945332616563274,
             7.999007213243955,
             6.80903930604298,
             7.200424892944957,
             5.337538079701318,
             6.688354713946762,
             7.585281078639126,
             7.781138509845015,
             7.462214939768189,
             5.934894195619588,
             6.016157159698354,
             6.0473721790462776,
             6.854354502255021
            ],
            "sizemode": "area",
            "sizeref": 0.02718353458394048,
            "symbol": "circle"
           },
           "mode": "markers",
           "name": "",
           "showlegend": false,
           "type": "scattergeo"
          }
         ],
         "name": "1774"
        },
        {
         "data": [
          {
           "customdata": [
            [
             735
            ],
            [
             102
            ],
            [
             2385
            ],
            [
             676
            ],
            [
             169
            ],
            [
             3140
            ],
            [
             253
            ],
            [
             2497
            ],
            [
             102
            ],
            [
             310
            ],
            [
             300
            ],
            [
             1499
            ],
            [
             2574
            ],
            [
             758
            ],
            [
             255
            ],
            [
             103
            ],
            [
             7544
            ],
            [
             1501
            ],
            [
             954
            ],
            [
             794
            ],
            [
             3866
            ],
            [
             5623
            ],
            [
             332
            ],
            [
             230
            ],
            [
             149
            ],
            [
             17657
            ],
            [
             783
            ],
            [
             1142
            ],
            [
             21429
            ],
            [
             2182
            ]
           ],
           "geo": "geo",
           "hovertemplate": "<b>%{hovertext}</b><br><br>Year voyage began=1775<br>normalized_sizes=%{marker.size}<br>Latitude=%{lat}<br>Longitude=%{lon}<br>Total slaves embarked imputed * (slaximp)=%{customdata[0]}<extra></extra>",
           "hovertext": [
            "Antigua",
            "Other Caribbean",
            "Amazonia",
            "St. Vincent",
            "Senegambia and offshore Atlantic",
            "Pernambuco",
            "British Guiana",
            "Grenada",
            "British Honduras",
            "Guadaloupe",
            "Spanish Circum-Caribbean",
            "Dutch Guianas",
            "Barbados",
            "Gulf coast",
            "Dutch Caribbean",
            "Nevis",
            "Bahia",
            "Other British Caribbean",
            "Americas",
            "Florida",
            "Dominica",
            "Southeast Brazil",
            "Danish West Indies",
            "Georgia",
            "New York",
            "Saint-Domingue",
            "Tobago",
            "Martinique",
            "Jamaica",
            "St. Kitts"
           ],
           "lat": [
            17.067453,
            0,
            -0.93323,
            13.201309,
            14.14,
            -8.05,
            7.615531,
            12.05,
            15.79,
            16,
            15.641117,
            6.675248,
            13.1,
            29.8,
            14.751846,
            17.151005,
            -12.983333,
            18,
            0,
            28.085368,
            15.3,
            -23.48894,
            18,
            31.69,
            40.703068,
            18.54,
            11.231794,
            14.6,
            17.881263,
            17.3
           ],
           "legendgroup": "",
           "lon": [
            -61.784741,
            0,
            -43.235449,
            -61.186603,
            -17.93,
            -34.9,
            -57.958937,
            -61.75,
            -86.3,
            -61.71667,
            -75.633932,
            -55.251124,
            -59.616667,
            -89.56,
            -65.781346,
            -62.589223,
            -38.516667,
            -76.8,
            0,
            -80.522396,
            -61.4,
            -42.256021,
            -64.9,
            -81.17,
            -74.011117,
            -72.34,
            -60.663937,
            -61.083333,
            -76.522778,
            -62.716667
           ],
           "marker": {
            "color": "#636efa",
            "size": [
             6.5998704992128365,
             4.624972813284271,
             7.776954403322442,
             6.516193076042964,
             5.1298987149230735,
             8.0519780789023,
             5.53338948872752,
             7.822845290279774,
             4.624972813284271,
             5.736572297479192,
             5.703782474656201,
             7.312553498102598,
             7.853216388156072,
             6.630683385642372,
             5.541263545158426,
             4.634728988229636,
             8.928507824313293,
             7.313886831633462,
             6.860663671448287,
             6.677083461247136,
             8.259975659768276,
             8.634620608292202,
             5.805134968916488,
             5.438079308923196,
             5.003946305945459,
             9.778887584302797,
             6.663132695990803,
             7.040536390215956,
             9.972500423823082,
             7.687997166393016
            ],
            "sizemode": "area",
            "sizeref": 0.02718353458394048,
            "symbol": "circle"
           },
           "mode": "markers",
           "name": "",
           "showlegend": false,
           "type": "scattergeo"
          }
         ],
         "name": "1775"
        },
        {
         "data": [
          {
           "customdata": [
            [
             310
            ],
            [
             19955
            ],
            [
             1166
            ],
            [
             8737
            ],
            [
             4542
            ],
            [
             547
            ],
            [
             1480
            ],
            [
             511
            ],
            [
             2380
            ],
            [
             783
            ],
            [
             3905
            ],
            [
             440
            ],
            [
             141
            ],
            [
             2352
            ],
            [
             116
            ],
            [
             169
            ],
            [
             1429
            ],
            [
             359
            ],
            [
             7347
            ],
            [
             1811
            ],
            [
             644
            ],
            [
             5
            ],
            [
             1199
            ],
            [
             440
            ],
            [
             119
            ],
            [
             640
            ],
            [
             472
            ],
            [
             359
            ]
           ],
           "geo": "geo",
           "hovertemplate": "<b>%{hovertext}</b><br><br>Year voyage began=1776<br>normalized_sizes=%{marker.size}<br>Latitude=%{lat}<br>Longitude=%{lon}<br>Total slaves embarked imputed * (slaximp)=%{customdata[0]}<extra></extra>",
           "hovertext": [
            "Georgia",
            "Saint-Domingue",
            "Dutch Caribbean",
            "Jamaica",
            "Grenada",
            "Other Caribbean",
            "Amazonia",
            "Southeast Brazil",
            "Pernambuco",
            "St. Kitts",
            "Dominica",
            "Spanish Circum-Caribbean",
            "St. Vincent",
            "Dutch Guianas",
            "St. Lucia",
            "Gulf coast",
            "Barbados",
            "Americas",
            "Bahia",
            "Martinique",
            "Danish West Indies",
            "Nevis",
            "Other British Caribbean",
            "Guadaloupe",
            "Florida",
            "French Guiana",
            "Tobago",
            "Antigua"
           ],
           "lat": [
            31.69,
            18.54,
            14.751846,
            17.881263,
            12.05,
            0,
            -0.93323,
            -23.48894,
            -8.05,
            17.3,
            15.3,
            15.641117,
            13.201309,
            6.675248,
            14,
            29.8,
            13.1,
            0,
            -12.983333,
            14.6,
            18,
            17.151005,
            18,
            16,
            28.085368,
            5.861294,
            11.231794,
            17.067453
           ],
           "legendgroup": "",
           "lon": [
            -81.17,
            -72.34,
            -65.781346,
            -76.522778,
            -61.75,
            0,
            -43.235449,
            -42.256021,
            -34.9,
            -62.716667,
            -61.4,
            -75.633932,
            -61.186603,
            -55.251124,
            -61,
            -89.56,
            -59.616667,
            0,
            -38.516667,
            -61.083333,
            -64.9,
            -62.589223,
            -76.8,
            -61.71667,
            -80.522396,
            -53.612239,
            -60.663937,
            -61.784741
           ],
           "marker": {
            "color": "#636efa",
            "size": [
             5.736572297479192,
             9.901235017482835,
             7.061334366910438,
             9.075322160298095,
             8.421122722665503,
             6.304448802421981,
             7.299797366758161,
             6.236369590203704,
             7.77485576666552,
             6.663132695990803,
             8.270013062273787,
             6.0867747269123065,
             4.948759890378168,
             7.763021309018518,
             4.7535901911063645,
             5.1298987149230735,
             7.264730177929867,
             5.883322388488279,
             8.902047345620277,
             7.501634457883413,
             6.467698726104354,
             1.6094379124341003,
             7.089243155027514,
             6.0867747269123065,
             4.77912349311153,
             6.461468176353717,
             6.156978985585555,
             5.883322388488279
            ],
            "sizemode": "area",
            "sizeref": 0.02718353458394048,
            "symbol": "circle"
           },
           "mode": "markers",
           "name": "",
           "showlegend": false,
           "type": "scattergeo"
          }
         ],
         "name": "1776"
        },
        {
         "data": [
          {
           "customdata": [
            [
             638
            ],
            [
             2035
            ],
            [
             384
            ],
            [
             2229
            ],
            [
             99
            ],
            [
             1137
            ],
            [
             6381
            ],
            [
             2007
            ],
            [
             214
            ],
            [
             644
            ],
            [
             1761
            ],
            [
             1746
            ],
            [
             1200
            ],
            [
             5018
            ],
            [
             22521
            ],
            [
             956
            ],
            [
             1304
            ],
            [
             356
            ],
            [
             1082
            ],
            [
             119
            ],
            [
             255
            ]
           ],
           "geo": "geo",
           "hovertemplate": "<b>%{hovertext}</b><br><br>Year voyage began=1777<br>normalized_sizes=%{marker.size}<br>Latitude=%{lat}<br>Longitude=%{lon}<br>Total slaves embarked imputed * (slaximp)=%{customdata[0]}<extra></extra>",
           "hovertext": [
            "St. Kitts",
            "Pernambuco",
            "Trinidad",
            "Grenada",
            "Spanish Circum-Caribbean",
            "Martinique",
            "Jamaica",
            "Dutch Guianas",
            "Other Caribbean",
            "Dutch Caribbean",
            "Southeast Brazil",
            "Amazonia",
            "Tobago",
            "Bahia",
            "Saint-Domingue",
            "French Guiana",
            "Americas",
            "South Carolina",
            "Dominica",
            "Florida",
            "Antigua"
           ],
           "lat": [
            17.3,
            -8.05,
            10.65,
            12.05,
            15.641117,
            14.6,
            17.881263,
            6.675248,
            0,
            14.751846,
            -23.48894,
            -0.93323,
            11.231794,
            -12.983333,
            18.54,
            5.861294,
            0,
            33.1,
            15.3,
            28.085368,
            17.067453
           ],
           "legendgroup": "",
           "lon": [
            -62.716667,
            -34.9,
            -61.516667,
            -61.75,
            -75.633932,
            -61.083333,
            -76.522778,
            -55.251124,
            0,
            -65.781346,
            -42.256021,
            -43.235449,
            -60.663937,
            -38.516667,
            -72.34,
            -53.612239,
            0,
            -79.54,
            -61.4,
            -80.522396,
            -61.784741
           ],
           "marker": {
            "color": "#636efa",
            "size": [
             6.45833828334479,
             7.618251097876695,
             5.950642552587727,
             7.709308333385869,
             4.59511985013459,
             7.036148493750536,
             8.761080103868347,
             7.604396348796338,
             5.365976015021851,
             6.467698726104354,
             7.473637108496206,
             7.465082736399547,
             7.090076835776092,
             8.520786726926367,
             10.022203486241112,
             6.862757913051401,
             7.1731917424865985,
             5.87493073085203,
             6.9865664594064265,
             4.77912349311153,
             5.541263545158426
            ],
            "sizemode": "area",
            "sizeref": 0.02718353458394048,
            "symbol": "circle"
           },
           "mode": "markers",
           "name": "",
           "showlegend": false,
           "type": "scattergeo"
          }
         ],
         "name": "1777"
        },
        {
         "data": [
          {
           "customdata": [
            [
             1421
            ],
            [
             210
            ],
            [
             68
            ],
            [
             1224
            ],
            [
             532
            ],
            [
             653
            ],
            [
             337
            ],
            [
             247
            ],
            [
             321
            ],
            [
             776
            ],
            [
             25
            ],
            [
             2480
            ],
            [
             1118
            ],
            [
             2391
            ],
            [
             184
            ],
            [
             569
            ],
            [
             4123
            ],
            [
             9282
            ],
            [
             347
            ],
            [
             1338
            ]
           ],
           "geo": "geo",
           "hovertemplate": "<b>%{hovertext}</b><br><br>Year voyage began=1778<br>normalized_sizes=%{marker.size}<br>Latitude=%{lat}<br>Longitude=%{lon}<br>Total slaves embarked imputed * (slaximp)=%{customdata[0]}<extra></extra>",
           "hovertext": [
            "Pernambuco",
            "St. Lucia",
            "Southeast Brazil",
            "Martinique",
            "French Guiana",
            "Americas",
            "Tobago",
            "Dominica",
            "Guadaloupe",
            "Danish West Indies",
            "Trinidad",
            "Amazonia",
            "Grenada",
            "Saint-Domingue",
            "St. Kitts",
            "Other French Caribbean",
            "Jamaica",
            "Bahia",
            "Dutch Caribbean",
            "Dutch Guianas"
           ],
           "lat": [
            -8.05,
            14,
            -23.48894,
            14.6,
            5.861294,
            0,
            11.231794,
            15.3,
            16,
            18,
            10.65,
            -0.93323,
            12.05,
            18.54,
            17.3,
            19.75778,
            17.881263,
            -12.983333,
            14.751846,
            6.675248
           ],
           "legendgroup": "",
           "lon": [
            -34.9,
            -61,
            -42.256021,
            -61.083333,
            -53.612239,
            0,
            -60.663937,
            -61.4,
            -61.71667,
            -64.9,
            -61.516667,
            -43.235449,
            -61.75,
            -72.34,
            -62.716667,
            -72.20417,
            -76.522778,
            -38.516667,
            -65.781346,
            -55.251124
           ],
           "marker": {
            "color": "#636efa",
            "size": [
             7.259116128097101,
             5.3471075307174685,
             4.219507705176107,
             7.1098794630722715,
             6.2766434893416445,
             6.481577129276431,
             5.820082930352362,
             5.5093883366279774,
             5.771441123130016,
             6.654152520183219,
             3.2188758248682006,
             7.8160138391590275,
             7.0192966537150445,
             7.779466967458324,
             5.214935757608986,
             6.343880434126331,
             8.3243363327069,
             9.135832319801121,
             5.849324779946859,
             7.198931240688173
            ],
            "sizemode": "area",
            "sizeref": 0.02718353458394048,
            "symbol": "circle"
           },
           "mode": "markers",
           "name": "",
           "showlegend": false,
           "type": "scattergeo"
          }
         ],
         "name": "1778"
        },
        {
         "data": [
          {
           "customdata": [
            [
             365
            ],
            [
             214
            ],
            [
             849
            ],
            [
             210
            ],
            [
             9131
            ],
            [
             359
            ],
            [
             214
            ],
            [
             1442
            ],
            [
             210
            ],
            [
             403
            ],
            [
             36
            ],
            [
             1577
            ],
            [
             1221
            ],
            [
             2415
            ],
            [
             1930
            ],
            [
             5300
            ]
           ],
           "geo": "geo",
           "hovertemplate": "<b>%{hovertext}</b><br><br>Year voyage began=1779<br>normalized_sizes=%{marker.size}<br>Latitude=%{lat}<br>Longitude=%{lon}<br>Total slaves embarked imputed * (slaximp)=%{customdata[0]}<extra></extra>",
           "hovertext": [
            "British Guiana",
            "St. Lucia",
            "Americas",
            "St. Kitts",
            "Bahia",
            "Barbados",
            "Other British Caribbean",
            "Danish West Indies",
            "Antigua",
            "Southeast Brazil",
            "Rio de la Plata",
            "Amazonia",
            "Dutch Caribbean",
            "Dutch Guianas",
            "Pernambuco",
            "Jamaica"
           ],
           "lat": [
            7.615531,
            14,
            0,
            17.3,
            -12.983333,
            13.1,
            18,
            18,
            17.067453,
            -23.48894,
            -33.332605,
            -0.93323,
            14.751846,
            6.675248,
            -8.05,
            17.881263
           ],
           "legendgroup": "",
           "lon": [
            -57.958937,
            -61,
            0,
            -62.716667,
            -38.516667,
            -59.616667,
            -76.8,
            -64.9,
            -61.784741,
            -42.256021,
            -58.498255,
            -43.235449,
            -65.781346,
            -55.251124,
            -34.9,
            -76.522778
           ],
           "marker": {
            "color": "#636efa",
            "size": [
             5.8998973535824915,
             5.365976015021851,
             6.744059186311348,
             5.3471075307174685,
             9.11943049661634,
             5.883322388488279,
             5.365976015021851,
             7.273786317844895,
             5.3471075307174685,
             5.998936561946683,
             3.58351893845611,
             7.3632795869630385,
             7.107425474110705,
             7.789454566086673,
             7.5652752818989315,
             8.575462099540212
            ],
            "sizemode": "area",
            "sizeref": 0.02718353458394048,
            "symbol": "circle"
           },
           "mode": "markers",
           "name": "",
           "showlegend": false,
           "type": "scattergeo"
          }
         ],
         "name": "1779"
        },
        {
         "data": [
          {
           "customdata": [
            [
             777
            ],
            [
             1558
            ],
            [
             210
            ],
            [
             559
            ],
            [
             424
            ],
            [
             14106
            ],
            [
             270
            ],
            [
             469
            ],
            [
             1306
            ],
            [
             1104
            ],
            [
             6634
            ],
            [
             412
            ],
            [
             310
            ],
            [
             327
            ],
            [
             702
            ]
           ],
           "geo": "geo",
           "hovertemplate": "<b>%{hovertext}</b><br><br>Year voyage began=1780<br>normalized_sizes=%{marker.size}<br>Latitude=%{lat}<br>Longitude=%{lon}<br>Total slaves embarked imputed * (slaximp)=%{customdata[0]}<extra></extra>",
           "hovertext": [
            "Dutch Guianas",
            "St. Kitts",
            "Saint-Domingue",
            "Tortola",
            "Antigua",
            "Bahia",
            "Barbados",
            "Dutch Caribbean",
            "Pernambuco",
            "Danish West Indies",
            "Jamaica",
            "St. Lucia",
            "Other British Caribbean",
            "Americas",
            "Amazonia"
           ],
           "lat": [
            6.675248,
            17.3,
            18.54,
            18.347325,
            17.067453,
            -12.983333,
            13.1,
            14.751846,
            -8.05,
            18,
            17.881263,
            14,
            18,
            0,
            -0.93323
           ],
           "legendgroup": "",
           "lon": [
            -55.251124,
            -62.716667,
            -72.34,
            -64.715064,
            -61.784741,
            -38.516667,
            -59.616667,
            -65.781346,
            -34.9,
            -64.9,
            -76.522778,
            -61,
            -76.8,
            0,
            -43.235449
           ],
           "marker": {
            "color": "#636efa",
            "size": [
             6.655440350367647,
             7.351158226430694,
             5.3471075307174685,
             6.326149473155099,
             6.049733455231958,
             9.554355517768125,
             5.598421958998375,
             6.150602768446279,
             7.174724309836376,
             7.00669522683704,
             8.799963219506997,
             6.021023349349527,
             5.736572297479192,
             5.7899601708972535,
             6.553933404025811
            ],
            "sizemode": "area",
            "sizeref": 0.02718353458394048,
            "symbol": "circle"
           },
           "mode": "markers",
           "name": "",
           "showlegend": false,
           "type": "scattergeo"
          }
         ],
         "name": "1780"
        },
        {
         "data": [
          {
           "customdata": [
            [
             1690
            ],
            [
             2640
            ],
            [
             210
            ],
            [
             323
            ],
            [
             1851
            ],
            [
             3084
            ],
            [
             9611
            ],
            [
             13861
            ],
            [
             386
            ],
            [
             303
            ],
            [
             3531
            ],
            [
             540
            ],
            [
             766
            ],
            [
             1311
            ]
           ],
           "geo": "geo",
           "hovertemplate": "<b>%{hovertext}</b><br><br>Year voyage began=1781<br>normalized_sizes=%{marker.size}<br>Latitude=%{lat}<br>Longitude=%{lon}<br>Total slaves embarked imputed * (slaximp)=%{customdata[0]}<extra></extra>",
           "hovertext": [
            "Saint-Domingue",
            "St. Lucia",
            "Dominica",
            "St. Kitts",
            "Amazonia",
            "Pernambuco",
            "Jamaica",
            "Bahia",
            "Martinique",
            "British Guiana",
            "Southeast Brazil",
            "Danish West Indies",
            "Antigua",
            "Tortola"
           ],
           "lat": [
            18.54,
            14,
            15.3,
            17.3,
            -0.93323,
            -8.05,
            17.881263,
            -12.983333,
            14.6,
            7.615531,
            -23.48894,
            18,
            17.067453,
            18.347325
           ],
           "legendgroup": "",
           "lon": [
            -72.34,
            -61,
            -61.4,
            -62.716667,
            -43.235449,
            -34.9,
            -76.522778,
            -38.516667,
            -61.083333,
            -57.958937,
            -42.256021,
            -64.9,
            -61.784741,
            -64.715064
           ],
           "marker": {
            "color": "#636efa",
            "size": [
             7.432483807917119,
             7.878534196140362,
             5.3471075307174685,
             5.777652323222656,
             7.523481312573497,
             8.03398273468322,
             9.170663554823284,
             9.536834420213353,
             5.955837369464831,
             5.713732805509369,
             8.169336395928386,
             6.29156913955832,
             6.641182169740591,
             7.1785454837637
            ],
            "sizemode": "area",
            "sizeref": 0.02718353458394048,
            "symbol": "circle"
           },
           "mode": "markers",
           "name": "",
           "showlegend": false,
           "type": "scattergeo"
          }
         ],
         "name": "1781"
        },
        {
         "data": [
          {
           "customdata": [
            [
             359
            ],
            [
             1628
            ],
            [
             1204
            ],
            [
             1006
            ],
            [
             349
            ],
            [
             592
            ],
            [
             170
            ],
            [
             359
            ],
            [
             1692
            ],
            [
             11070
            ],
            [
             4426
            ],
            [
             1870
            ],
            [
             4031
            ],
            [
             6580
            ],
            [
             485
            ],
            [
             3398
            ],
            [
             4052
            ],
            [
             590
            ],
            [
             323
            ]
           ],
           "geo": "geo",
           "hovertemplate": "<b>%{hovertext}</b><br><br>Year voyage began=1782<br>normalized_sizes=%{marker.size}<br>Latitude=%{lat}<br>Longitude=%{lon}<br>Total slaves embarked imputed * (slaximp)=%{customdata[0]}<extra></extra>",
           "hovertext": [
            "Guadaloupe",
            "St. Lucia",
            "Amazonia",
            "Americas",
            "Barbados",
            "Rio de la Plata",
            "Dutch Guianas",
            "Grenada",
            "Antigua",
            "Bahia",
            "Jamaica",
            "Danish West Indies",
            "Pernambuco",
            "Saint-Domingue",
            "Martinique",
            "Tortola",
            "Southeast Brazil",
            "Dominica",
            "Dutch Caribbean"
           ],
           "lat": [
            16,
            14,
            -0.93323,
            0,
            13.1,
            -33.332605,
            6.675248,
            12.05,
            17.067453,
            -12.983333,
            17.881263,
            18,
            -8.05,
            18.54,
            14.6,
            18.347325,
            -23.48894,
            15.3,
            14.751846
           ],
           "legendgroup": "",
           "lon": [
            -61.71667,
            -61,
            -43.235449,
            0,
            -59.616667,
            -58.498255,
            -55.251124,
            -61.75,
            -61.784741,
            -38.516667,
            -76.522778,
            -64.9,
            -34.9,
            -72.34,
            -61.083333,
            -64.715064,
            -42.256021,
            -61.4,
            -65.781346
           ],
           "marker": {
            "color": "#636efa",
            "size": [
             5.883322388488279,
             7.395107546562485,
             7.093404625868766,
             6.913737350659685,
             5.855071922202427,
             6.3835066348840055,
             5.135798437050262,
             5.883322388488279,
             7.433666540166168,
             9.311994025702683,
             8.395251520610994,
             7.533693709848633,
             8.301769763117166,
             8.791790024319363,
             6.184148890937483,
             8.130942302231878,
             8.306965865368573,
             6.380122536899765,
             5.777652323222656
            ],
            "sizemode": "area",
            "sizeref": 0.02718353458394048,
            "symbol": "circle"
           },
           "mode": "markers",
           "name": "",
           "showlegend": false,
           "type": "scattergeo"
          }
         ],
         "name": "1782"
        },
        {
         "data": [
          {
           "customdata": [
            [
             843
            ],
            [
             359
            ],
            [
             1409
            ],
            [
             1304
            ],
            [
             2541
            ],
            [
             1260
            ],
            [
             1742
            ],
            [
             3092
            ],
            [
             1404
            ],
            [
             2414
            ],
            [
             203
            ],
            [
             1054
            ],
            [
             4555
            ],
            [
             2231
            ],
            [
             359
            ],
            [
             458
            ],
            [
             3843
            ],
            [
             659
            ],
            [
             376
            ],
            [
             35042
            ],
            [
             2333
            ],
            [
             10405
            ],
            [
             2074
            ],
            [
             20659
            ]
           ],
           "geo": "geo",
           "hovertemplate": "<b>%{hovertext}</b><br><br>Year voyage began=1783<br>normalized_sizes=%{marker.size}<br>Latitude=%{lat}<br>Longitude=%{lon}<br>Total slaves embarked imputed * (slaximp)=%{customdata[0]}<extra></extra>",
           "hovertext": [
            "Guadaloupe",
            "Hispaniola",
            "St. Kitts",
            "Cuba",
            "St. Vincent",
            "Dutch Guianas",
            "Tortola",
            "Southeast Brazil",
            "Grenada",
            "Amazonia",
            "Gulf coast",
            "St. Lucia",
            "Dominica",
            "Antigua",
            "Tobago",
            "Georgia",
            "South Carolina",
            "British Guiana",
            "Martinique",
            "Saint-Domingue",
            "Danish West Indies",
            "Bahia",
            "Pernambuco",
            "Jamaica"
           ],
           "lat": [
            16,
            18.35,
            17.3,
            23.115613,
            13.201309,
            6.675248,
            18.347325,
            -23.48894,
            12.05,
            -0.93323,
            29.8,
            14,
            15.3,
            17.067453,
            11.231794,
            31.69,
            33.1,
            7.615531,
            14.6,
            18.54,
            18,
            -12.983333,
            -8.05,
            17.881263
           ],
           "legendgroup": "",
           "lon": [
            -61.71667,
            -69.35,
            -62.716667,
            -79.127686,
            -61.186603,
            -55.251124,
            -64.715064,
            -42.256021,
            -61.75,
            -43.235449,
            -89.56,
            -61,
            -61.4,
            -61.784741,
            -60.663937,
            -81.17,
            -79.54,
            -57.958937,
            -61.083333,
            -72.34,
            -64.9,
            -38.516667,
            -34.9,
            -76.522778
           ],
           "marker": {
            "color": "#636efa",
            "size": [
             6.736966958001855,
             5.883322388488279,
             7.25063551189868,
             7.1731917424865985,
             7.840312983320164,
             7.138866999945524,
             7.462789157412448,
             8.036573409707312,
             7.247080584585756,
             7.789040401657477,
             5.313205979041787,
             6.960347729101308,
             8.423980809694058,
             7.7102051944325325,
             5.883322388488279,
             6.126869184114185,
             8.254008590564844,
             6.490723534502507,
             5.929589143389895,
             10.464302621047032,
             7.75491027202143,
             9.250041738827735,
             7.637234388789473,
             9.935906338791629
            ],
            "sizemode": "area",
            "sizeref": 0.02718353458394048,
            "symbol": "circle"
           },
           "mode": "markers",
           "name": "",
           "showlegend": false,
           "type": "scattergeo"
          }
         ],
         "name": "1783"
        },
        {
         "data": [
          {
           "customdata": [
            [
             276
            ],
            [
             985
            ],
            [
             13530
            ],
            [
             3702
            ],
            [
             1192
            ],
            [
             169
            ],
            [
             543
            ],
            [
             313
            ],
            [
             4073
            ],
            [
             3644
            ],
            [
             384
            ],
            [
             22914
            ],
            [
             2712
            ],
            [
             1963
            ],
            [
             258
            ],
            [
             18
            ],
            [
             9029
            ],
            [
             599
            ],
            [
             1346
            ],
            [
             1433
            ],
            [
             1474
            ],
            [
             437
            ],
            [
             179
            ],
            [
             569
            ],
            [
             130
            ],
            [
             6204
            ]
           ],
           "geo": "geo",
           "hovertemplate": "<b>%{hovertext}</b><br><br>Year voyage began=1784<br>normalized_sizes=%{marker.size}<br>Latitude=%{lat}<br>Longitude=%{lon}<br>Total slaves embarked imputed * (slaximp)=%{customdata[0]}<extra></extra>",
           "hovertext": [
            "Americas",
            "Trinidad",
            "Jamaica",
            "Grenada",
            "Antigua",
            "French Guiana",
            "British Guiana",
            "Other Caribbean",
            "Southeast Brazil",
            "South Carolina",
            "St. Lucia",
            "Saint-Domingue",
            "Danish West Indies",
            "Pernambuco",
            "Spanish Circum-Caribbean",
            "England",
            "Bahia",
            "Martinique",
            "St. Vincent",
            "Dutch Guianas",
            "Amazonia",
            "Other Spanish Caribbean",
            "Georgia",
            "Cuba",
            "Dutch Caribbean",
            "Dominica"
           ],
           "lat": [
            0,
            10.65,
            17.881263,
            12.05,
            17.067453,
            5.861294,
            7.615531,
            0,
            -23.48894,
            33.1,
            14,
            18.54,
            18,
            -8.05,
            15.641117,
            0,
            -12.983333,
            14.6,
            13.201309,
            6.675248,
            -0.93323,
            23.13194,
            31.69,
            23.115613,
            14.751846,
            15.3
           ],
           "legendgroup": "",
           "lon": [
            0,
            -61.516667,
            -76.522778,
            -61.75,
            -61.784741,
            -53.612239,
            -57.958937,
            0,
            -42.256021,
            -79.54,
            -61,
            -72.34,
            -64.9,
            -34.9,
            -75.633932,
            0,
            -38.516667,
            -61.083333,
            -61.186603,
            -55.251124,
            -43.235449,
            -82.36417,
            -81.17,
            -79.127686,
            -65.781346,
            -61.4
           ],
           "marker": {
            "color": "#636efa",
            "size": [
             5.62040086571715,
             6.892641641172089,
             9.512664721164834,
             8.216628493133443,
             7.083387847625295,
             5.1298987149230735,
             6.297109319933935,
             5.746203190540153,
             8.312135107648412,
             8.200837258379849,
             5.950642552587727,
             10.03950335645357,
             7.905441649060286,
             7.5822291942764615,
             5.552959584921617,
             2.8903717578961645,
             9.10819689830748,
             6.395261598115449,
             7.204892510204673,
             7.267525427828172,
             7.295735072749282,
             6.07993319509559,
             5.187385805840755,
             6.343880434126331,
             4.867534450455582,
             8.73294952429643
            ],
            "sizemode": "area",
            "sizeref": 0.02718353458394048,
            "symbol": "circle"
           },
           "mode": "markers",
           "name": "",
           "showlegend": false,
           "type": "scattergeo"
          }
         ],
         "name": "1784"
        },
        {
         "data": [
          {
           "customdata": [
            [
             130
            ],
            [
             1554
            ],
            [
             1133
            ],
            [
             11213
            ],
            [
             7391
            ],
            [
             660
            ],
            [
             1846
            ],
            [
             314
            ],
            [
             1014
            ],
            [
             2453
            ],
            [
             34230
            ],
            [
             8302
            ],
            [
             210
            ],
            [
             733
            ],
            [
             130
            ],
            [
             275
            ],
            [
             3177
            ],
            [
             2882
            ],
            [
             2643
            ],
            [
             488
            ],
            [
             310
            ],
            [
             811
            ],
            [
             359
            ],
            [
             346
            ],
            [
             113
            ],
            [
             778
            ],
            [
             509
            ]
           ],
           "geo": "geo",
           "hovertemplate": "<b>%{hovertext}</b><br><br>Year voyage began=1785<br>normalized_sizes=%{marker.size}<br>Latitude=%{lat}<br>Longitude=%{lon}<br>Total slaves embarked imputed * (slaximp)=%{customdata[0]}<extra></extra>",
           "hovertext": [
            "Dutch Caribbean",
            "South Carolina",
            "Danish West Indies",
            "Dominica",
            "Bahia",
            "British Guiana",
            "Grenada",
            "Other Caribbean",
            "St. Kitts",
            "St. Vincent",
            "Saint-Domingue",
            "Jamaica",
            "Tobago",
            "Barbados",
            "Martinique",
            "Americas",
            "Southeast Brazil",
            "Cuba",
            "Trinidad",
            "Dutch Guianas",
            "Georgia",
            "Amazonia",
            "Hispaniola",
            "Antigua",
            "Guadaloupe",
            "Pernambuco",
            "Spanish Circum-Caribbean"
           ],
           "lat": [
            14.751846,
            33.1,
            18,
            15.3,
            -12.983333,
            7.615531,
            12.05,
            0,
            17.3,
            13.201309,
            18.54,
            17.881263,
            11.231794,
            13.1,
            14.6,
            0,
            -23.48894,
            23.115613,
            10.65,
            6.675248,
            31.69,
            -0.93323,
            18.35,
            17.067453,
            16,
            -8.05,
            15.641117
           ],
           "legendgroup": "",
           "lon": [
            -65.781346,
            -79.54,
            -64.9,
            -61.4,
            -38.516667,
            -57.958937,
            -61.75,
            0,
            -62.716667,
            -61.186603,
            -72.34,
            -76.522778,
            -60.663937,
            -59.616667,
            -61.083333,
            0,
            -42.256021,
            -79.127686,
            -61.516667,
            -55.251124,
            -81.17,
            -43.235449,
            -69.35,
            -61.784741,
            -61.71667,
            -34.9,
            -75.633932
           ],
           "marker": {
            "color": "#636efa",
            "size": [
             4.867534450455582,
             7.348587530927593,
             7.0326242610280065,
             9.324829098460881,
             8.908018322784887,
             6.492239835020471,
             7.520776415062797,
             5.749392985908253,
             6.921658184151129,
             7.8050670442584895,
             10.44085773152423,
             9.024251728612985,
             5.3471075307174685,
             6.597145701886651,
             4.867534450455582,
             5.616771097666572,
             8.063692634269517,
             7.966239776559467,
             7.879669914604289,
             6.1903154058531475,
             5.736572297479192,
             6.698268054115413,
             5.883322388488279,
             5.846438775057725,
             4.727387818712341,
             6.656726524178391,
             6.2324480165505225
            ],
            "sizemode": "area",
            "sizeref": 0.02718353458394048,
            "symbol": "circle"
           },
           "mode": "markers",
           "name": "",
           "showlegend": false,
           "type": "scattergeo"
          }
         ],
         "name": "1785"
        },
        {
         "data": [
          {
           "customdata": [
            [
             1244
            ],
            [
             8989
            ],
            [
             2043
            ],
            [
             350
            ],
            [
             4342
            ],
            [
             38490
            ],
            [
             7799
            ],
            [
             310
            ],
            [
             2922
            ],
            [
             1206
            ],
            [
             178
            ],
            [
             136
            ],
            [
             88
            ],
            [
             6866
            ],
            [
             156
            ],
            [
             1070
            ],
            [
             1357
            ],
            [
             744
            ],
            [
             2471
            ],
            [
             414
            ],
            [
             883
            ],
            [
             1133
            ],
            [
             72
            ],
            [
             138
            ],
            [
             465
            ],
            [
             998
            ],
            [
             699
            ],
            [
             359
            ]
           ],
           "geo": "geo",
           "hovertemplate": "<b>%{hovertext}</b><br><br>Year voyage began=1786<br>normalized_sizes=%{marker.size}<br>Latitude=%{lat}<br>Longitude=%{lon}<br>Total slaves embarked imputed * (slaximp)=%{customdata[0]}<extra></extra>",
           "hovertext": [
            "Tobago",
            "Dominica",
            "Cuba",
            "Pernambuco",
            "Grenada",
            "Saint-Domingue",
            "Jamaica",
            "Other French Caribbean",
            "St. Vincent",
            "St. Kitts",
            "French Guiana",
            "Martinique",
            "Hispaniola",
            "Bahia",
            "Tortola",
            "Americas",
            "Amazonia",
            "Spanish Circum-Caribbean",
            "Southeast Brazil",
            "Other British Caribbean",
            "Barbados",
            "Antigua",
            "North Carolina",
            "South Carolina",
            "British Guiana",
            "Danish West Indies",
            "Dutch Guianas",
            "Guadaloupe"
           ],
           "lat": [
            11.231794,
            15.3,
            23.115613,
            -8.05,
            12.05,
            18.54,
            17.881263,
            19.75778,
            13.201309,
            17.3,
            5.861294,
            14.6,
            18.35,
            -12.983333,
            18.347325,
            0,
            -0.93323,
            15.641117,
            -23.48894,
            18,
            13.1,
            17.067453,
            35.25,
            33.1,
            7.615531,
            18,
            6.675248,
            16
           ],
           "legendgroup": "",
           "lon": [
            -60.663937,
            -61.4,
            -79.127686,
            -34.9,
            -61.75,
            -72.34,
            -76.522778,
            -72.20417,
            -61.186603,
            -62.716667,
            -53.612239,
            -61.083333,
            -69.35,
            -38.516667,
            -64.715064,
            0,
            -43.235449,
            -75.633932,
            -42.256021,
            -76.8,
            -59.616667,
            -61.784741,
            -76.55,
            -79.54,
            -57.958937,
            -64.9,
            -55.251124,
            -61.71667
           ],
           "marker": {
            "color": "#636efa",
            "size": [
             7.126087273299125,
             9.103756886573398,
             7.622174594817622,
             5.857933154483459,
             8.376090350438238,
             10.558153746277792,
             8.961750799330497,
             5.736572297479192,
             7.980023592310645,
             7.095064377287131,
             5.181783550292085,
             4.912654885736052,
             4.477336814478207,
             8.834336974017637,
             5.049856007249537,
             6.975413927455952,
             7.213031659834869,
             6.612041034833092,
             7.81237820598861,
             6.025865973825314,
             6.78332520060396,
             7.0326242610280065,
             4.276666119016055,
             4.927253685157205,
             6.142037405587356,
             6.905753276311464,
             6.54965074223381,
             5.883322388488279
            ],
            "sizemode": "area",
            "sizeref": 0.02718353458394048,
            "symbol": "circle"
           },
           "mode": "markers",
           "name": "",
           "showlegend": false,
           "type": "scattergeo"
          }
         ],
         "name": "1786"
        },
        {
         "data": [
          {
           "customdata": [
            [
             4724
            ],
            [
             1031
            ],
            [
             4060
            ],
            [
             1332
            ],
            [
             294
            ],
            [
             2411
            ],
            [
             215
            ],
            [
             489
            ],
            [
             1303
            ],
            [
             359
            ],
            [
             242
            ],
            [
             768
            ],
            [
             230
            ],
            [
             109
            ],
            [
             888
            ],
            [
             30
            ],
            [
             2149
            ],
            [
             6461
            ],
            [
             872
            ],
            [
             216
            ],
            [
             4412
            ],
            [
             195
            ],
            [
             3117
            ],
            [
             848
            ],
            [
             618
            ],
            [
             80
            ],
            [
             3869
            ],
            [
             30105
            ],
            [
             8707
            ],
            [
             121
            ]
           ],
           "geo": "geo",
           "hovertemplate": "<b>%{hovertext}</b><br><br>Year voyage began=1787<br>normalized_sizes=%{marker.size}<br>Latitude=%{lat}<br>Longitude=%{lon}<br>Total slaves embarked imputed * (slaximp)=%{customdata[0]}<extra></extra>",
           "hovertext": [
            "Bahia",
            "British Guiana",
            "Amazonia",
            "Barbados",
            "Tortola",
            "Pernambuco",
            "South Carolina",
            "Other Caribbean",
            "Spanish Circum-Caribbean",
            "Hispaniola",
            "Martinique",
            "Other British Caribbean",
            "Bahamas",
            "Trinidad",
            "Dutch Guianas",
            "British Honduras",
            "Cuba",
            "Jamaica",
            "Danish West Indies",
            "Gulf coast",
            "Southeast Brazil",
            "French Guiana",
            "St. Vincent",
            "Rio de la Plata",
            "Antigua",
            "Dutch Caribbean",
            "Dominica",
            "Saint-Domingue",
            "Grenada",
            "Americas"
           ],
           "lat": [
            -12.983333,
            7.615531,
            -0.93323,
            13.1,
            18.347325,
            -8.05,
            33.1,
            0,
            15.641117,
            18.35,
            14.6,
            18,
            22.783937,
            10.65,
            6.675248,
            15.79,
            23.115613,
            17.881263,
            18,
            29.8,
            -23.48894,
            5.861294,
            13.201309,
            -33.332605,
            17.067453,
            14.751846,
            15.3,
            18.54,
            12.05,
            0
           ],
           "legendgroup": "",
           "lon": [
            -38.516667,
            -57.958937,
            -43.235449,
            -59.616667,
            -64.715064,
            -34.9,
            -79.54,
            0,
            -75.633932,
            -69.35,
            -61.083333,
            -76.8,
            -74.303605,
            -61.516667,
            -55.251124,
            -86.3,
            -79.127686,
            -76.522778,
            -64.9,
            -89.56,
            -42.256021,
            -53.612239,
            -61.186603,
            -58.498255,
            -61.784741,
            -65.781346,
            -61.4,
            -72.34,
            -61.75,
            0
           ],
           "marker": {
            "color": "#636efa",
            "size": [
             8.460411177317253,
             6.93828448401696,
             8.308938252595778,
             7.194436851100335,
             5.683579767338681,
             7.787796878181171,
             5.3706380281276624,
             6.192362489474872,
             7.172424577124845,
             5.883322388488279,
             5.488937726156687,
             6.643789733147672,
             5.438079308923196,
             4.6913478822291435,
             6.78897174299217,
             3.4011973816621555,
             7.67275789664251,
             8.773539383558166,
             6.77078942390898,
             5.375278407684165,
             8.392083380373393,
             5.272999558563747,
             8.044626279767337,
             6.742880635791903,
             6.42648845745769,
             4.382026634673881,
             8.260751354700513,
             10.312446549898548,
             9.071882578828616,
             4.795790545596741
            ],
            "sizemode": "area",
            "sizeref": 0.02718353458394048,
            "symbol": "circle"
           },
           "mode": "markers",
           "name": "",
           "showlegend": false,
           "type": "scattergeo"
          }
         ],
         "name": "1787"
        },
        {
         "data": [
          {
           "customdata": [
            [
             274
            ],
            [
             1155
            ],
            [
             5771
            ],
            [
             561
            ],
            [
             7143
            ],
            [
             34772
            ],
            [
             250
            ],
            [
             330
            ],
            [
             359
            ],
            [
             584
            ],
            [
             216
            ],
            [
             6854
            ],
            [
             142
            ],
            [
             2268
            ],
            [
             403
            ],
            [
             934
            ],
            [
             2381
            ],
            [
             2043
            ],
            [
             2084
            ],
            [
             6349
            ],
            [
             150
            ],
            [
             833
            ],
            [
             982
            ],
            [
             694
            ],
            [
             130
            ],
            [
             1222
            ],
            [
             310
            ],
            [
             157
            ],
            [
             1765
            ]
           ],
           "geo": "geo",
           "hovertemplate": "<b>%{hovertext}</b><br><br>Year voyage began=1788<br>normalized_sizes=%{marker.size}<br>Latitude=%{lat}<br>Longitude=%{lon}<br>Total slaves embarked imputed * (slaximp)=%{customdata[0]}<extra></extra>",
           "hovertext": [
            "Gulf coast",
            "Spanish Circum-Caribbean",
            "Dominica",
            "Martinique",
            "Jamaica",
            "Saint-Domingue",
            "Trinidad",
            "Antigua",
            "Other Spanish Caribbean",
            "Americas",
            "French Guiana",
            "Grenada",
            "Bahamas",
            "Cuba",
            "British Guiana",
            "Danish West Indies",
            "Amazonia",
            "St. Vincent",
            "Rio de la Plata",
            "Bahia",
            "St. Kitts",
            "Barbados",
            "Tobago",
            "Dutch Guianas",
            "Other Caribbean",
            "Pernambuco",
            "Guadaloupe",
            "Dutch Caribbean",
            "Southeast Brazil"
           ],
           "lat": [
            29.8,
            15.641117,
            15.3,
            14.6,
            17.881263,
            18.54,
            10.65,
            17.067453,
            23.13194,
            0,
            5.861294,
            12.05,
            22.783937,
            23.115613,
            7.615531,
            18,
            -0.93323,
            13.201309,
            -33.332605,
            -12.983333,
            17.3,
            13.1,
            11.231794,
            6.675248,
            0,
            -8.05,
            16,
            14.751846,
            -23.48894
           ],
           "legendgroup": "",
           "lon": [
            -89.56,
            -75.633932,
            -61.4,
            -61.083333,
            -76.522778,
            -72.34,
            -61.516667,
            -61.784741,
            -82.36417,
            0,
            -53.612239,
            -61.75,
            -74.303605,
            -79.127686,
            -57.958937,
            -64.9,
            -43.235449,
            -61.186603,
            -58.498255,
            -38.516667,
            -62.716667,
            -59.616667,
            -60.663937,
            -55.251124,
            0,
            -34.9,
            -61.71667,
            -65.781346,
            -42.256021
           ],
           "marker": {
            "color": "#636efa",
            "size": [
             5.6131281063880705,
             7.051855622955894,
             8.660600654710967,
             6.329720905522696,
             8.873888135154973,
             10.456567744198955,
             5.521460917862246,
             5.799092654460526,
             5.883322388488279,
             6.369900982828227,
             5.375278407684165,
             8.832587702434553,
             4.955827057601261,
             7.7266536648476425,
             5.998936561946683,
             6.839476438228843,
             7.7752758464868625,
             7.622174594817622,
             7.642044402873258,
             8.75605259917045,
             5.0106352940962555,
             6.725033642166843,
             6.889591308354466,
             6.542471960506805,
             4.867534450455582,
             7.108244139731541,
             5.736572297479192,
             5.056245805348308,
             7.475905969367397
            ],
            "sizemode": "area",
            "sizeref": 0.02718353458394048,
            "symbol": "circle"
           },
           "mode": "markers",
           "name": "",
           "showlegend": false,
           "type": "scattergeo"
          }
         ],
         "name": "1788"
        },
        {
         "data": [
          {
           "customdata": [
            [
             360
            ],
            [
             1108
            ],
            [
             300
            ],
            [
             39199
            ],
            [
             1157
            ],
            [
             4236
            ],
            [
             731
            ],
            [
             6643
            ],
            [
             360
            ],
            [
             476
            ],
            [
             723
            ],
            [
             2063
            ],
            [
             516
            ],
            [
             1869
            ],
            [
             147
            ],
            [
             1051
            ],
            [
             1779
            ],
            [
             130
            ],
            [
             232
            ],
            [
             47
            ],
            [
             300
            ],
            [
             14098
            ],
            [
             4656
            ],
            [
             419
            ]
           ],
           "geo": "geo",
           "hovertemplate": "<b>%{hovertext}</b><br><br>Year voyage began=1789<br>normalized_sizes=%{marker.size}<br>Latitude=%{lat}<br>Longitude=%{lon}<br>Total slaves embarked imputed * (slaximp)=%{customdata[0]}<extra></extra>",
           "hovertext": [
            "Other Caribbean",
            "St. Kitts",
            "Antigua",
            "Saint-Domingue",
            "Amazonia",
            "Southeast Brazil",
            "Pernambuco",
            "Bahia",
            "Trinidad",
            "Americas",
            "Danish West Indies",
            "St. Vincent",
            "Guadaloupe",
            "Cuba",
            "Barbados",
            "Dutch Guianas",
            "Dominica",
            "South Carolina",
            "Georgia",
            "Spanish Circum-Caribbean",
            "Tobago",
            "Jamaica",
            "Grenada",
            "Dutch Caribbean"
           ],
           "lat": [
            0,
            17.3,
            17.067453,
            18.54,
            -0.93323,
            -23.48894,
            -8.05,
            -12.983333,
            10.65,
            0,
            18,
            13.201309,
            16,
            23.115613,
            13.1,
            6.675248,
            15.3,
            33.1,
            31.69,
            15.641117,
            11.231794,
            17.881263,
            12.05,
            14.751846
           ],
           "legendgroup": "",
           "lon": [
            0,
            -62.716667,
            -61.784741,
            -72.34,
            -43.235449,
            -42.256021,
            -34.9,
            -38.516667,
            -61.516667,
            0,
            -64.9,
            -61.186603,
            -61.71667,
            -79.127686,
            -59.616667,
            -55.251124,
            -61.4,
            -79.54,
            -81.17,
            -75.633932,
            -60.663937,
            -76.522778,
            -61.75,
            -65.781346
           ],
           "marker": {
            "color": "#636efa",
            "size": [
             5.886104031450156,
             7.010311867307229,
             5.703782474656201,
             10.576406515249081,
             7.053585727193677,
             8.351374706721296,
             6.594413459749778,
             8.80131894766524,
             5.886104031450156,
             6.16541785423142,
             6.583409222158765,
             7.631916513071252,
             6.246106765481563,
             7.533158807455563,
             4.990432586778736,
             6.957497370876951,
             7.483806687665835,
             4.867534450455582,
             5.44673737166631,
             3.8501476017100584,
             5.703782474656201,
             9.553788222333822,
             8.445911989411274,
             6.037870919922137
            ],
            "sizemode": "area",
            "sizeref": 0.02718353458394048,
            "symbol": "circle"
           },
           "mode": "markers",
           "name": "",
           "showlegend": false,
           "type": "scattergeo"
          }
         ],
         "name": "1789"
        },
        {
         "data": [
          {
           "customdata": [
            [
             5984
            ],
            [
             900
            ],
            [
             7035
            ],
            [
             471
            ],
            [
             70
            ],
            [
             236
            ],
            [
             67
            ],
            [
             69
            ],
            [
             2339
            ],
            [
             19608
            ],
            [
             1608
            ],
            [
             1828
            ],
            [
             184
            ],
            [
             4101
            ],
            [
             1412
            ],
            [
             481
            ],
            [
             41
            ],
            [
             386
            ],
            [
             1095
            ],
            [
             58
            ],
            [
             31050
            ],
            [
             8838
            ],
            [
             70
            ]
           ],
           "geo": "geo",
           "hovertemplate": "<b>%{hovertext}</b><br><br>Year voyage began=1790<br>normalized_sizes=%{marker.size}<br>Latitude=%{lat}<br>Longitude=%{lon}<br>Total slaves embarked imputed * (slaximp)=%{customdata[0]}<extra></extra>",
           "hovertext": [
            "Cuba",
            "Barbados",
            "Bahia",
            "Americas",
            "Tobago",
            "Gulf coast",
            "St. Kitts",
            "Bahamas",
            "St. Vincent",
            "Jamaica",
            "Amazonia",
            "Southeast Brazil",
            "Guadaloupe",
            "Dominica",
            "Pernambuco",
            "British Guiana",
            "French Guiana",
            "Southeast Africa and Indian Ocean islands",
            "Dutch Guianas",
            "Other Caribbean",
            "Saint-Domingue",
            "Grenada",
            "Georgia"
           ],
           "lat": [
            23.115613,
            13.1,
            -12.983333,
            0,
            11.231794,
            29.8,
            17.3,
            22.783937,
            13.201309,
            17.881263,
            -0.93323,
            -23.48894,
            16,
            15.3,
            -8.05,
            7.615531,
            5.861294,
            -17.14,
            6.675248,
            0,
            18.54,
            12.05,
            31.69
           ],
           "legendgroup": "",
           "lon": [
            -79.127686,
            -59.616667,
            -38.516667,
            0,
            -60.663937,
            -89.56,
            -62.716667,
            -74.303605,
            -61.186603,
            -76.522778,
            -43.235449,
            -42.256021,
            -61.71667,
            -61.4,
            -34.9,
            -57.958937,
            -53.612239,
            39.51,
            -55.251124,
            0,
            -72.34,
            -61.75,
            -81.17
           ],
           "marker": {
            "color": "#636efa",
            "size": [
             8.696844519654313,
             6.802394763324311,
             8.858652969548489,
             6.154858094016418,
             4.248495242049359,
             5.4638318050256105,
             4.204692619390966,
             4.23410650459726,
             7.757478766584179,
             9.88369292520795,
             7.382746449738912,
             7.510977752014095,
             5.214935757608986,
             8.31898612539206,
             7.252762418053187,
             6.175867270105761,
             3.713572066704308,
             5.955837369464831,
             6.9985096422506015,
             4.060443010546419,
             10.343354087361625,
             9.086815885690685,
             4.248495242049359
            ],
            "sizemode": "area",
            "sizeref": 0.02718353458394048,
            "symbol": "circle"
           },
           "mode": "markers",
           "name": "",
           "showlegend": false,
           "type": "scattergeo"
          }
         ],
         "name": "1790"
        },
        {
         "data": [
          {
           "customdata": [
            [
             2553
            ],
            [
             300
            ],
            [
             11640
            ],
            [
             895
            ],
            [
             5990
            ],
            [
             1275
            ],
            [
             3481
            ],
            [
             253
            ],
            [
             164
            ],
            [
             570
            ],
            [
             16632
            ],
            [
             2060
            ],
            [
             9591
            ],
            [
             261
            ],
            [
             417
            ],
            [
             2123
            ],
            [
             5290
            ],
            [
             3864
            ],
            [
             396
            ],
            [
             81
            ],
            [
             224
            ],
            [
             359
            ],
            [
             7766
            ],
            [
             638
            ],
            [
             337
            ],
            [
             1765
            ],
            [
             113
            ]
           ],
           "geo": "geo",
           "hovertemplate": "<b>%{hovertext}</b><br><br>Year voyage began=1791<br>normalized_sizes=%{marker.size}<br>Latitude=%{lat}<br>Longitude=%{lon}<br>Total slaves embarked imputed * (slaximp)=%{customdata[0]}<extra></extra>",
           "hovertext": [
            "Southeast Brazil",
            "Senegambia and offshore Atlantic",
            "Saint-Domingue",
            "Amazonia",
            "St. Vincent",
            "Barbados",
            "Dominica",
            "Trinidad",
            "Spanish Circum-Caribbean",
            "Tobago",
            "Jamaica",
            "Martinique",
            "Grenada",
            "French Guiana",
            "Georgia",
            "Dutch Guianas",
            "Cuba",
            "Guadaloupe",
            "British Guiana",
            "Other British Caribbean",
            "Bahamas",
            "Tortola",
            "Bahia",
            "Americas",
            "Gulf coast",
            "Pernambuco",
            "St. Kitts"
           ],
           "lat": [
            -23.48894,
            14.14,
            18.54,
            -0.93323,
            13.201309,
            13.1,
            15.3,
            10.65,
            15.641117,
            11.231794,
            17.881263,
            14.6,
            12.05,
            5.861294,
            31.69,
            6.675248,
            23.115613,
            16,
            7.615531,
            18,
            22.783937,
            18.347325,
            -12.983333,
            0,
            29.8,
            -8.05,
            17.3
           ],
           "legendgroup": "",
           "lon": [
            -42.256021,
            -17.93,
            -72.34,
            -43.235449,
            -61.186603,
            -59.616667,
            -61.4,
            -61.516667,
            -75.633932,
            -60.663937,
            -76.522778,
            -61.083333,
            -61.75,
            -53.612239,
            -81.17,
            -55.251124,
            -79.127686,
            -61.71667,
            -57.958937,
            -76.8,
            -74.303605,
            -64.715064,
            -38.516667,
            0,
            -89.56,
            -34.9,
            -62.716667
           ],
           "marker": {
            "color": "#636efa",
            "size": [
             7.845024417241484,
             5.703782474656201,
             9.36220272128543,
             6.796823718274855,
             8.697846691109495,
             7.150701457592526,
             8.15507488781144,
             5.53338948872752,
             5.099866427824199,
             6.345636360828596,
             9.71908382953785,
             7.630461261783627,
             9.16858043772795,
             5.564520407322694,
             6.0330862217988015,
             7.660585461703256,
             8.573573524852344,
             8.259458195332408,
             5.981414211254481,
             4.394449154672439,
             5.4116460518550396,
             5.883322388488279,
             8.957510510291613,
             6.45833828334479,
             5.820082930352362,
             7.475905969367397,
             4.727387818712341
            ],
            "sizemode": "area",
            "sizeref": 0.02718353458394048,
            "symbol": "circle"
           },
           "mode": "markers",
           "name": "",
           "showlegend": false,
           "type": "scattergeo"
          }
         ],
         "name": "1791"
        },
        {
         "data": [
          {
           "customdata": [
            [
             1598
            ],
            [
             991
            ],
            [
             4063
            ],
            [
             2365
            ],
            [
             8425
            ],
            [
             303
            ],
            [
             2428
            ],
            [
             445
            ],
            [
             2471
            ],
            [
             514
            ],
            [
             405
            ],
            [
             297
            ],
            [
             824
            ],
            [
             109
            ],
            [
             2310
            ],
            [
             1702
            ],
            [
             8854
            ],
            [
             513
            ],
            [
             6347
            ],
            [
             633
            ],
            [
             1952
            ],
            [
             34943
            ],
            [
             2603
            ],
            [
             788
            ],
            [
             2191
            ],
            [
             836
            ],
            [
             600
            ]
           ],
           "geo": "geo",
           "hovertemplate": "<b>%{hovertext}</b><br><br>Year voyage began=1792<br>normalized_sizes=%{marker.size}<br>Latitude=%{lat}<br>Longitude=%{lon}<br>Total slaves embarked imputed * (slaximp)=%{customdata[0]}<extra></extra>",
           "hovertext": [
            "Pernambuco",
            "Georgia",
            "St. Vincent",
            "Martinique",
            "Bahia",
            "Puerto Rico",
            "Barbados",
            "French Guiana",
            "Guadaloupe",
            "British Guiana",
            "Other Caribbean",
            "Other British Caribbean",
            "St. Kitts",
            "Gold Coast",
            "Cuba",
            "Dutch Guianas",
            "Grenada",
            "Americas",
            "Southeast Brazil",
            "Danish West Indies",
            "Dominica",
            "Jamaica",
            "Saint-Domingue",
            "Dutch Caribbean",
            "Amazonia",
            "Spanish Circum-Caribbean",
            "Rio de la Plata"
           ],
           "lat": [
            -8.05,
            31.69,
            13.201309,
            14.6,
            -12.983333,
            18.420959,
            13.1,
            5.861294,
            16,
            7.615531,
            0,
            18,
            17.3,
            3.86,
            23.115613,
            6.675248,
            12.05,
            0,
            -23.48894,
            18,
            15.3,
            17.881263,
            18.54,
            14.751846,
            -0.93323,
            15.641117,
            -33.332605
           ],
           "legendgroup": "",
           "lon": [
            -34.9,
            -81.17,
            -61.186603,
            -61.083333,
            -38.516667,
            -66.070508,
            -59.616667,
            -53.612239,
            -61.71667,
            -57.958937,
            0,
            -76.8,
            -62.716667,
            -1.93,
            -79.127686,
            -55.251124,
            -61.75,
            0,
            -42.256021,
            -64.9,
            -61.4,
            -76.522778,
            -72.34,
            -65.781346,
            -43.235449,
            -75.633932,
            -58.498255
           ],
           "marker": {
            "color": "#636efa",
            "size": [
             7.37650812632622,
             6.898714534329988,
             8.309676895987726,
             7.768533300926033,
             9.038958755220563,
             5.713732805509369,
             7.794823152179389,
             6.09807428216624,
             7.81237820598861,
             6.2422232654551655,
             6.003887067106539,
             5.6937321388027,
             6.714170529909472,
             4.6913478822291435,
             7.745002803515839,
             7.43955930913332,
             9.088624613292087,
             6.240275845170769,
             8.75573753930647,
             6.450470422144176,
             7.5766097669730375,
             10.46147344147898,
             7.864419904994565,
             6.669498089857879,
             7.692113339595466,
             6.728628613084702,
             6.396929655216146
            ],
            "sizemode": "area",
            "sizeref": 0.02718353458394048,
            "symbol": "circle"
           },
           "mode": "markers",
           "name": "",
           "showlegend": false,
           "type": "scattergeo"
          }
         ],
         "name": "1792"
        },
        {
         "data": [
          {
           "customdata": [
            [
             13076
            ],
            [
             130
            ],
            [
             1384
            ],
            [
             58
            ],
            [
             128
            ],
            [
             501
            ],
            [
             446
            ],
            [
             2579
            ],
            [
             884
            ],
            [
             319
            ],
            [
             119
            ],
            [
             237
            ],
            [
             309
            ],
            [
             363
            ],
            [
             271
            ],
            [
             216
            ],
            [
             1293
            ],
            [
             1046
            ],
            [
             1775
            ],
            [
             2671
            ],
            [
             149
            ],
            [
             109
            ],
            [
             362
            ],
            [
             12230
            ],
            [
             830
            ],
            [
             327
            ],
            [
             7965
            ],
            [
             122
            ]
           ],
           "geo": "geo",
           "hovertemplate": "<b>%{hovertext}</b><br><br>Year voyage began=1793<br>normalized_sizes=%{marker.size}<br>Latitude=%{lat}<br>Longitude=%{lon}<br>Total slaves embarked imputed * (slaximp)=%{customdata[0]}<extra></extra>",
           "hovertext": [
            "Jamaica",
            "South Carolina",
            "Dutch Guianas",
            "St. Kitts",
            "Tortola",
            "Americas",
            "Danish West Indies",
            "Cuba",
            "Georgia",
            "Other British Caribbean",
            "Antigua",
            "Guadaloupe",
            "Saint-Domingue",
            "Southeast Africa and Indian Ocean islands",
            "Rio de la Plata",
            "Bahamas",
            "Pernambuco",
            "St. Vincent",
            "Amazonia",
            "Grenada",
            "Florida",
            "Dominica",
            "Tobago",
            "Bahia",
            "Barbados",
            "Spanish Circum-Caribbean",
            "Southeast Brazil",
            "St. Lucia"
           ],
           "lat": [
            17.881263,
            33.1,
            6.675248,
            17.3,
            18.347325,
            0,
            18,
            23.115613,
            31.69,
            18,
            17.067453,
            16,
            18.54,
            -17.14,
            -33.332605,
            22.783937,
            -8.05,
            13.201309,
            -0.93323,
            12.05,
            28.085368,
            15.3,
            11.231794,
            -12.983333,
            13.1,
            15.641117,
            -23.48894,
            14
           ],
           "legendgroup": "",
           "lon": [
            -76.522778,
            -79.54,
            -55.251124,
            -62.716667,
            -64.715064,
            0,
            -64.9,
            -79.127686,
            -81.17,
            -76.8,
            -61.784741,
            -61.71667,
            -72.34,
            39.51,
            -58.498255,
            -74.303605,
            -34.9,
            -61.186603,
            -43.235449,
            -61.75,
            -80.522396,
            -61.4,
            -60.663937,
            -38.516667,
            -59.616667,
            -75.633932,
            -42.256021,
            -61
           ],
           "marker": {
            "color": "#636efa",
            "size": [
             9.478533767844102,
             4.867534450455582,
             7.232733136177615,
             4.060443010546419,
             4.852030263919617,
             6.2166061010848646,
             6.100318952020064,
             7.8551570058813445,
             6.784457062637643,
             5.765191102784844,
             4.77912349311153,
             5.4680601411351315,
             5.733341276897746,
             5.8944028342648505,
             5.602118820879701,
             5.375278407684165,
             7.164720378771857,
             6.952728644624869,
             7.4815557019095165,
             7.890208213109961,
             5.003946305945459,
             4.6913478822291435,
             5.8916442118257715,
             9.411647228681218,
             6.721425700790643,
             5.7899601708972535,
             8.98281222234415,
             4.804021044733257
            ],
            "sizemode": "area",
            "sizeref": 0.02718353458394048,
            "symbol": "circle"
           },
           "mode": "markers",
           "name": "",
           "showlegend": false,
           "type": "scattergeo"
          }
         ],
         "name": "1793"
        },
        {
         "data": [
          {
           "customdata": [
            [
             120
            ],
            [
             278
            ],
            [
             2563
            ],
            [
             64
            ],
            [
             586
            ],
            [
             353
            ],
            [
             300
            ],
            [
             13674
            ],
            [
             497
            ],
            [
             244
            ],
            [
             1453
            ],
            [
             18052
            ],
            [
             435
            ],
            [
             1008
            ],
            [
             1238
            ],
            [
             2152
            ],
            [
             113
            ],
            [
             2908
            ],
            [
             1380
            ],
            [
             15779
            ],
            [
             1089
            ],
            [
             177
            ]
           ],
           "geo": "geo",
           "hovertemplate": "<b>%{hovertext}</b><br><br>Year voyage began=1794<br>normalized_sizes=%{marker.size}<br>Latitude=%{lat}<br>Longitude=%{lon}<br>Total slaves embarked imputed * (slaximp)=%{customdata[0]}<extra></extra>",
           "hovertext": [
            "Montserrat",
            "Tobago",
            "Cuba",
            "Dutch Caribbean",
            "St. Vincent",
            "Pernambuco",
            "West Central Africa and St. Helena",
            "Bahia",
            "Rio de la Plata",
            "Other Caribbean",
            "Grenada",
            "Jamaica",
            "Georgia",
            "Saint-Domingue",
            "Dutch Guianas",
            "Barbados",
            "St. Lucia",
            "Amazonia",
            "Danish West Indies",
            "Southeast Brazil",
            "Americas",
            "Spanish Circum-Caribbean"
           ],
           "lat": [
            16.7,
            11.231794,
            23.115613,
            14.751846,
            13.201309,
            -8.05,
            -7.71,
            -12.983333,
            -33.332605,
            0,
            12.05,
            17.881263,
            31.69,
            18.54,
            6.675248,
            13.1,
            14,
            -0.93323,
            18,
            -23.48894,
            0,
            15.641117
           ],
           "legendgroup": "",
           "lon": [
            -62.216667,
            -60.663937,
            -79.127686,
            -65.781346,
            -61.186603,
            -34.9,
            11.19,
            -38.516667,
            -58.498255,
            0,
            -61.75,
            -76.522778,
            -81.17,
            -72.34,
            -55.251124,
            -59.616667,
            -61,
            -43.235449,
            -64.9,
            -42.256021,
            0,
            -75.633932
           ],
           "marker": {
            "color": "#636efa",
            "size": [
             4.787491742782046,
             5.627621113690637,
             7.848933726364071,
             4.1588830833596715,
             6.373319789577012,
             5.8664680569332965,
             5.703782474656201,
             9.523251498473739,
             6.208590026096629,
             5.497168225293202,
             7.2813856635702825,
             9.801011760946892,
             6.075346031088684,
             6.915723448631314,
             7.121252453244542,
             7.674152921281675,
             4.727387818712341,
             7.97522083865341,
             7.22983877815125,
             9.66643522103567,
             6.9930151229329605,
             5.176149732573829
            ],
            "sizemode": "area",
            "sizeref": 0.02718353458394048,
            "symbol": "circle"
           },
           "mode": "markers",
           "name": "",
           "showlegend": false,
           "type": "scattergeo"
          }
         ],
         "name": "1794"
        },
        {
         "data": [
          {
           "customdata": [
            [
             3515
            ],
            [
             5143
            ],
            [
             1600
            ],
            [
             962
            ],
            [
             115
            ],
            [
             1012
            ],
            [
             263
            ],
            [
             7185
            ],
            [
             465
            ],
            [
             1775
            ],
            [
             323
            ],
            [
             83
            ],
            [
             1631
            ],
            [
             251
            ],
            [
             130
            ],
            [
             1028
            ],
            [
             532
            ],
            [
             553
            ],
            [
             478
            ],
            [
             15781
            ],
            [
             814
            ],
            [
             528
            ],
            [
             2130
            ],
            [
             557
            ],
            [
             2235
            ],
            [
             11000
            ]
           ],
           "geo": "geo",
           "hovertemplate": "<b>%{hovertext}</b><br><br>Year voyage began=1795<br>normalized_sizes=%{marker.size}<br>Latitude=%{lat}<br>Longitude=%{lon}<br>Total slaves embarked imputed * (slaximp)=%{customdata[0]}<extra></extra>",
           "hovertext": [
            "Barbados",
            "Cuba",
            "Georgia",
            "Other French Caribbean",
            "Senegambia and offshore Atlantic",
            "Tobago",
            "Americas",
            "Jamaica",
            "Dutch Guianas",
            "Pernambuco",
            "Dominica",
            "South Carolina",
            "Danish West Indies",
            "Bahamas",
            "Other British Caribbean",
            "Guadaloupe",
            "Rio de la Plata",
            "Spanish Circum-Caribbean",
            "Antigua",
            "Southeast Brazil",
            "Martinique",
            "Other Caribbean",
            "Amazonia",
            "Tortola",
            "British Guiana",
            "Bahia"
           ],
           "lat": [
            13.1,
            23.115613,
            31.69,
            19.75778,
            14.14,
            11.231794,
            0,
            17.881263,
            6.675248,
            -8.05,
            15.3,
            33.1,
            18,
            22.783937,
            18,
            16,
            -33.332605,
            15.641117,
            17.067453,
            -23.48894,
            14.6,
            0,
            -0.93323,
            18.347325,
            7.615531,
            -12.983333
           ],
           "legendgroup": "",
           "lon": [
            -59.616667,
            -79.127686,
            -81.17,
            -72.20417,
            -17.93,
            -60.663937,
            0,
            -76.522778,
            -55.251124,
            -34.9,
            -61.4,
            -79.54,
            -64.9,
            -74.303605,
            -76.8,
            -61.71667,
            -58.498255,
            -75.633932,
            -61.784741,
            -42.256021,
            -61.083333,
            0,
            -43.235449,
            -64.715064,
            -57.958937,
            -38.516667
           ],
           "marker": {
            "color": "#636efa",
            "size": [
             8.164794804244766,
             8.545391845774915,
             7.3777589082278725,
             6.8690144506657065,
             4.74493212836325,
             6.919683849847411,
             5.572154032177765,
             8.879750798513125,
             6.142037405587356,
             7.4815557019095165,
             5.777652323222656,
             4.418840607796598,
             7.396948602621014,
             5.5254529391317835,
             4.867534450455582,
             6.93537044601511,
             6.2766434893416445,
             6.315358001522335,
             6.169610732491456,
             9.666561963748133,
             6.70196036600254,
             6.269096283706261,
             7.6638772587034705,
             6.322565239927284,
             7.711996507047669,
             9.305650551780507
            ],
            "sizemode": "area",
            "sizeref": 0.02718353458394048,
            "symbol": "circle"
           },
           "mode": "markers",
           "name": "",
           "showlegend": false,
           "type": "scattergeo"
          }
         ],
         "name": "1795"
        },
        {
         "data": [
          {
           "customdata": [
            [
             191
            ],
            [
             569
            ],
            [
             4218
            ],
            [
             521
            ],
            [
             258
            ],
            [
             3200
            ],
            [
             359
            ],
            [
             353
            ],
            [
             540
            ],
            [
             238
            ],
            [
             9757
            ],
            [
             413
            ],
            [
             1269
            ],
            [
             310
            ],
            [
             13122
            ],
            [
             2126
            ],
            [
             94
            ],
            [
             656
            ],
            [
             3717
            ],
            [
             45
            ],
            [
             815
            ],
            [
             1841
            ],
            [
             2190
            ],
            [
             1614
            ],
            [
             1361
            ],
            [
             9035
            ],
            [
             317
            ],
            [
             343
            ]
           ],
           "geo": "geo",
           "hovertemplate": "<b>%{hovertext}</b><br><br>Year voyage began=1796<br>normalized_sizes=%{marker.size}<br>Latitude=%{lat}<br>Longitude=%{lon}<br>Total slaves embarked imputed * (slaximp)=%{customdata[0]}<extra></extra>",
           "hovertext": [
            "Dutch Guianas",
            "French Guiana",
            "British Guiana",
            "Other British Caribbean",
            "Tobago",
            "Barbados",
            "Guadaloupe",
            "Southeast Africa and Indian Ocean islands",
            "Saint-Domingue",
            "Tortola",
            "Jamaica",
            "Antigua",
            "Rio de la Plata",
            "Other Caribbean",
            "Southeast Brazil",
            "Georgia",
            "Grenada",
            "Pernambuco",
            "Danish West Indies",
            "Spanish Circum-Caribbean",
            "St. Kitts",
            "Cuba",
            "Martinique",
            "St. Vincent",
            "Amazonia",
            "Bahia",
            "Dominica",
            "South Carolina"
           ],
           "lat": [
            6.675248,
            5.861294,
            7.615531,
            18,
            11.231794,
            13.1,
            16,
            -17.14,
            18.54,
            18.347325,
            17.881263,
            17.067453,
            -33.332605,
            0,
            -23.48894,
            31.69,
            12.05,
            -8.05,
            18,
            15.641117,
            17.3,
            23.115613,
            14.6,
            13.201309,
            -0.93323,
            -12.983333,
            15.3,
            33.1
           ],
           "legendgroup": "",
           "lon": [
            -55.251124,
            -53.612239,
            -57.958937,
            -76.8,
            -60.663937,
            -59.616667,
            -61.71667,
            39.51,
            -72.34,
            -64.715064,
            -76.522778,
            -61.784741,
            -58.498255,
            0,
            -42.256021,
            -81.17,
            -61.75,
            -34.9,
            -64.9,
            -75.633932,
            -62.716667,
            -79.127686,
            -61.083333,
            -61.186603,
            -43.235449,
            -38.516667,
            -61.4,
            -79.54
           ],
           "marker": {
            "color": "#636efa",
            "size": [
             5.25227342804663,
             6.343880434126331,
             8.34711636103872,
             6.255750041753367,
             5.552959584921617,
             8.070906088787819,
             5.883322388488279,
             5.8664680569332965,
             6.29156913955832,
             5.472270673671475,
             9.18574025510795,
             6.023447592961033,
             7.1459844677143876,
             5.736572297479192,
             9.482045489904824,
             7.661997558901893,
             4.543294782270004,
             6.486160788944089,
             8.220672170297252,
             3.8066624897703196,
             6.703188113240863,
             7.518064181233078,
             7.691656822810547,
             7.3864708488298945,
             7.215975002651466,
             9.10886120302633,
             5.75890177387728,
             5.8377304471659395
            ],
            "sizemode": "area",
            "sizeref": 0.02718353458394048,
            "symbol": "circle"
           },
           "mode": "markers",
           "name": "",
           "showlegend": false,
           "type": "scattergeo"
          }
         ],
         "name": "1796"
        },
        {
         "data": [
          {
           "customdata": [
            [
             718
            ],
            [
             2001
            ],
            [
             3535
            ],
            [
             399
            ],
            [
             9182
            ],
            [
             149
            ],
            [
             310
            ],
            [
             682
            ],
            [
             655
            ],
            [
             71
            ],
            [
             1859
            ],
            [
             388
            ],
            [
             2607
            ],
            [
             1754
            ],
            [
             295
            ],
            [
             13816
            ],
            [
             3864
            ],
            [
             156
            ],
            [
             120
            ],
            [
             210
            ],
            [
             278
            ],
            [
             583
            ],
            [
             10823
            ],
            [
             6725
            ],
            [
             929
            ],
            [
             330
            ],
            [
             1653
            ],
            [
             2646
            ]
           ],
           "geo": "geo",
           "hovertemplate": "<b>%{hovertext}</b><br><br>Year voyage began=1797<br>normalized_sizes=%{marker.size}<br>Latitude=%{lat}<br>Longitude=%{lon}<br>Total slaves embarked imputed * (slaximp)=%{customdata[0]}<extra></extra>",
           "hovertext": [
            "French Guiana",
            "Danish West Indies",
            "Martinique",
            "Americas",
            "Bahia",
            "Other North America",
            "Dutch Guianas",
            "Rio de la Plata",
            "Dominica",
            "Spanish Circum-Caribbean",
            "Cuba",
            "Guadaloupe",
            "Barbados",
            "Amazonia",
            "St. Kitts",
            "Southeast Brazil",
            "Pernambuco",
            "Bahamas",
            "Antigua",
            "Puerto Rico",
            "West Central Africa and St. Helena",
            "Tobago",
            "Jamaica",
            "British Guiana",
            "Grenada",
            "Trinidad",
            "Georgia",
            "St. Vincent"
           ],
           "lat": [
            5.861294,
            18,
            14.6,
            0,
            -12.983333,
            33.875649,
            6.675248,
            -33.332605,
            15.3,
            15.641117,
            23.115613,
            16,
            13.1,
            -0.93323,
            17.3,
            -23.48894,
            -8.05,
            22.783937,
            17.067453,
            18.420959,
            -7.71,
            11.231794,
            17.881263,
            7.615531,
            12.05,
            10.65,
            31.69,
            13.201309
           ],
           "legendgroup": "",
           "lon": [
            -53.612239,
            -64.9,
            -61.083333,
            0,
            -38.516667,
            -78.444029,
            -55.251124,
            -58.498255,
            -61.4,
            -75.633932,
            -79.127686,
            -61.71667,
            -59.616667,
            -43.235449,
            -62.716667,
            -42.256021,
            -34.9,
            -74.303605,
            -61.784741,
            -66.070508,
            11.19,
            -60.663937,
            -76.522778,
            -57.958937,
            -61.75,
            -61.516667,
            -81.17,
            -61.186603
           ],
           "marker": {
            "color": "#636efa",
            "size": [
             6.576469569048224,
             7.601402334583733,
             8.170468578330674,
             5.988961416889864,
             9.125000324809168,
             5.003946305945459,
             5.736572297479192,
             6.525029657843462,
             6.484635235635252,
             4.2626798770413155,
             7.527793987721444,
             5.961005339623274,
             7.865955413933502,
             7.469654172932128,
             5.68697535633982,
             9.533582619826515,
             8.259458195332408,
             5.049856007249537,
             4.787491742782046,
             5.3471075307174685,
             5.627621113690637,
             6.368187186350492,
             9.289428778295147,
             8.81358720447004,
             6.834108738813838,
             5.799092654460526,
             7.410347097821024,
             7.880804344674901
            ],
            "sizemode": "area",
            "sizeref": 0.02718353458394048,
            "symbol": "circle"
           },
           "mode": "markers",
           "name": "",
           "showlegend": false,
           "type": "scattergeo"
          }
         ],
         "name": "1797"
        },
        {
         "data": [
          {
           "customdata": [
            [
             8057
            ],
            [
             1689
            ],
            [
             849
            ],
            [
             8872
            ],
            [
             4318
            ],
            [
             1480
            ],
            [
             928
            ],
            [
             1727
            ],
            [
             658
            ],
            [
             2665
            ],
            [
             673
            ],
            [
             7193
            ],
            [
             368
            ],
            [
             159
            ],
            [
             359
            ],
            [
             493
            ],
            [
             359
            ],
            [
             17810
            ],
            [
             1922
            ],
            [
             503
            ],
            [
             1319
            ],
            [
             3140
            ],
            [
             8443
            ],
            [
             446
            ],
            [
             130
            ],
            [
             1027
            ],
            [
             103
            ]
           ],
           "geo": "geo",
           "hovertemplate": "<b>%{hovertext}</b><br><br>Year voyage began=1798<br>normalized_sizes=%{marker.size}<br>Latitude=%{lat}<br>Longitude=%{lon}<br>Total slaves embarked imputed * (slaximp)=%{customdata[0]}<extra></extra>",
           "hovertext": [
            "Bahia",
            "Tobago",
            "St. Kitts",
            "British Guiana",
            "Danish West Indies",
            "Cuba",
            "Trinidad",
            "Amazonia",
            "Dominica",
            "St. Vincent",
            "Pernambuco",
            "Martinique",
            "Antigua",
            "Americas",
            "French Guiana",
            "Bahamas",
            "Guadaloupe",
            "Jamaica",
            "Grenada",
            "Other Caribbean",
            "Rio de la Plata",
            "Barbados",
            "Southeast Brazil",
            "Tortola",
            "St. Barthélemy (Sweden)",
            "Dutch Guianas",
            "Georgia"
           ],
           "lat": [
            -12.983333,
            11.231794,
            17.3,
            7.615531,
            18,
            23.115613,
            10.65,
            -0.93323,
            15.3,
            13.201309,
            -8.05,
            14.6,
            17.067453,
            0,
            5.861294,
            22.783937,
            16,
            17.881263,
            12.05,
            0,
            -33.332605,
            13.1,
            -23.48894,
            18.347325,
            17.9,
            6.675248,
            31.69
           ],
           "legendgroup": "",
           "lon": [
            -38.516667,
            -60.663937,
            -62.716667,
            -57.958937,
            -64.9,
            -79.127686,
            -61.516667,
            -43.235449,
            -61.4,
            -61.186603,
            -34.9,
            -61.083333,
            -61.784741,
            0,
            -53.612239,
            -74.303605,
            -61.71667,
            -76.522778,
            -61.75,
            0,
            -58.498255,
            -59.616667,
            -42.256021,
            -64.715064,
            -62.85,
            -55.251124,
            -81.17
           ],
           "marker": {
            "color": "#636efa",
            "size": [
             8.994296557777195,
             7.4318919168078,
             6.744059186311348,
             9.090655529030203,
             8.370547611074752,
             7.299797366758161,
             6.833031732786201,
             7.454141078146678,
             6.489204931325317,
             7.887959336599945,
             6.511745329644728,
             8.880863609867356,
             5.908082938168931,
             5.0689042022202315,
             5.883322388488279,
             6.20050917404269,
             5.883322388488279,
             9.787515376283707,
             7.561121589530238,
             6.220590170099739,
             7.1846291527173145,
             8.0519780789023,
             9.0410929746695,
             6.100318952020064,
             4.867534450455582,
             6.934397209928558,
             4.634728988229636
            ],
            "sizemode": "area",
            "sizeref": 0.02718353458394048,
            "symbol": "circle"
           },
           "mode": "markers",
           "name": "",
           "showlegend": false,
           "type": "scattergeo"
          }
         ],
         "name": "1798"
        },
        {
         "data": [
          {
           "customdata": [
            [
             210
            ],
            [
             39
            ],
            [
             139
            ],
            [
             65
            ],
            [
             818
            ],
            [
             305
            ],
            [
             5042
            ],
            [
             255
            ],
            [
             4212
            ],
            [
             114
            ],
            [
             967
            ],
            [
             11207
            ],
            [
             8253
            ],
            [
             2913
            ],
            [
             1932
            ],
            [
             1016
            ],
            [
             359
            ],
            [
             351
            ],
            [
             24912
            ],
            [
             278
            ],
            [
             1528
            ],
            [
             2898
            ],
            [
             594
            ],
            [
             1522
            ],
            [
             9164
            ]
           ],
           "geo": "geo",
           "hovertemplate": "<b>%{hovertext}</b><br><br>Year voyage began=1799<br>normalized_sizes=%{marker.size}<br>Latitude=%{lat}<br>Longitude=%{lon}<br>Total slaves embarked imputed * (slaximp)=%{customdata[0]}<extra></extra>",
           "hovertext": [
            "Guadaloupe",
            "Pennsylvania",
            "South Carolina",
            "Rio de la Plata",
            "St. Vincent",
            "Antigua",
            "Martinique",
            "St. Barthélemy (Sweden)",
            "Cuba",
            "Americas",
            "Dominica",
            "Southeast Brazil",
            "Bahia",
            "Amazonia",
            "Trinidad",
            "Pernambuco",
            "Other Caribbean",
            "Grenada",
            "Jamaica",
            "Tobago",
            "Danish West Indies",
            "Dutch Guianas",
            "Bahamas",
            "Barbados",
            "British Guiana"
           ],
           "lat": [
            16,
            39.71,
            33.1,
            -33.332605,
            13.201309,
            17.067453,
            14.6,
            17.9,
            23.115613,
            0,
            15.3,
            -23.48894,
            -12.983333,
            -0.93323,
            10.65,
            -8.05,
            0,
            12.05,
            17.881263,
            11.231794,
            18,
            6.675248,
            22.783937,
            13.1,
            7.615531
           ],
           "legendgroup": "",
           "lon": [
            -61.71667,
            -74.8,
            -79.54,
            -58.498255,
            -61.186603,
            -61.784741,
            -61.083333,
            -62.85,
            -79.127686,
            0,
            -61.4,
            -42.256021,
            -38.516667,
            -43.235449,
            -61.516667,
            -34.9,
            0,
            -61.75,
            -76.522778,
            -60.663937,
            -64.9,
            -55.251124,
            -74.303605,
            -59.616667,
            -57.958937
           ],
           "marker": {
            "color": "#636efa",
            "size": [
             5.3471075307174685,
             3.6635616461296463,
             4.9344739331306915,
             4.174387269895637,
             6.706862336602747,
             5.720311776607412,
             8.525558107747866,
             5.541263545158426,
             8.345692873253865,
             4.736198448394496,
             6.874198495453294,
             9.324293862052029,
             9.018332049592685,
             7.976938756959434,
             7.566311014772463,
             6.923628628138427,
             5.883322388488279,
             5.860786223465865,
             10.12310489407378,
             5.627621113690637,
             7.331714969726466,
             7.971776122880628,
             6.386879319362645,
             7.3277805384216315,
             9.123038043573386
            ],
            "sizemode": "area",
            "sizeref": 0.02718353458394048,
            "symbol": "circle"
           },
           "mode": "markers",
           "name": "",
           "showlegend": false,
           "type": "scattergeo"
          }
         ],
         "name": "1799"
        },
        {
         "data": [
          {
           "customdata": [
            [
             162
            ],
            [
             9806
            ],
            [
             317
            ],
            [
             12432
            ],
            [
             960
            ],
            [
             359
            ],
            [
             718
            ],
            [
             1378
            ],
            [
             716
            ],
            [
             461
            ],
            [
             1227
            ],
            [
             2891
            ],
            [
             1097
            ],
            [
             295
            ],
            [
             1550
            ],
            [
             14618
            ],
            [
             1061
            ],
            [
             143
            ],
            [
             5467
            ],
            [
             182
            ],
            [
             22
            ],
            [
             718
            ],
            [
             1672
            ],
            [
             11995
            ],
            [
             310
            ],
            [
             1157
            ]
           ],
           "geo": "geo",
           "hovertemplate": "<b>%{hovertext}</b><br><br>Year voyage began=1800<br>normalized_sizes=%{marker.size}<br>Latitude=%{lat}<br>Longitude=%{lon}<br>Total slaves embarked imputed * (slaximp)=%{customdata[0]}<extra></extra>",
           "hovertext": [
            "Florida",
            "Bahia",
            "Tobago",
            "Southeast Brazil",
            "Rio de la Plata",
            "Other Caribbean",
            "French Guiana",
            "Martinique",
            "Dominica",
            "Americas",
            "Grenada",
            "Cuba",
            "Danish West Indies",
            "Bahamas",
            "Trinidad",
            "Jamaica",
            "Pernambuco",
            "Pennsylvania",
            "Dutch Guianas",
            "Georgia",
            "Spanish Circum-Caribbean",
            "Other British Caribbean",
            "Amazonia",
            "British Guiana",
            "St. Kitts",
            "St. Vincent"
           ],
           "lat": [
            28.085368,
            -12.983333,
            11.231794,
            -23.48894,
            -33.332605,
            0,
            5.861294,
            14.6,
            15.3,
            0,
            12.05,
            23.115613,
            18,
            22.783937,
            10.65,
            17.881263,
            -8.05,
            39.71,
            6.675248,
            31.69,
            15.641117,
            18,
            -0.93323,
            7.615531,
            17.3,
            13.201309
           ],
           "legendgroup": "",
           "lon": [
            -80.522396,
            -38.516667,
            -60.663937,
            -42.256021,
            -58.498255,
            0,
            -53.612239,
            -61.083333,
            -61.4,
            0,
            -61.75,
            -79.127686,
            -64.9,
            -74.303605,
            -61.516667,
            -76.522778,
            -34.9,
            -74.8,
            -55.251124,
            -81.17,
            -75.633932,
            -76.8,
            -43.235449,
            -57.958937,
            -62.716667,
            -61.186603
           ],
           "marker": {
            "color": "#636efa",
            "size": [
             5.087596335232384,
             9.190749722211178,
             5.75890177387728,
             9.428029072607428,
             6.866933284461882,
             5.883322388488279,
             6.576469569048224,
             7.228388451573604,
             6.573680166960646,
             6.133398042996649,
             7.112327444710911,
             7.969357742016346,
             7.00033446027523,
             5.68697535633982,
             7.346010209913293,
             9.590008925040337,
             6.966967138613983,
             4.962844630259907,
             8.606485298894999,
             5.204006687076795,
             3.091042453358316,
             6.576469569048224,
             7.421775793644647,
             9.392245175273795,
             5.736572297479192,
             7.053585727193677
            ],
            "sizemode": "area",
            "sizeref": 0.02718353458394048,
            "symbol": "circle"
           },
           "mode": "markers",
           "name": "",
           "showlegend": false,
           "type": "scattergeo"
          }
         ],
         "name": "1800"
        },
        {
         "data": [
          {
           "customdata": [
            [
             2352
            ],
            [
             620
            ],
            [
             189
            ],
            [
             95
            ],
            [
             2601
            ],
            [
             240
            ],
            [
             6716
            ],
            [
             103
            ],
            [
             17687
            ],
            [
             7329
            ],
            [
             114
            ],
            [
             2398
            ],
            [
             325
            ],
            [
             35
            ],
            [
             1693
            ],
            [
             5806
            ],
            [
             253
            ],
            [
             2313
            ],
            [
             816
            ],
            [
             308
            ],
            [
             1041
            ],
            [
             310
            ],
            [
             75
            ],
            [
             10566
            ],
            [
             9413
            ],
            [
             7427
            ],
            [
             1209
            ]
           ],
           "geo": "geo",
           "hovertemplate": "<b>%{hovertext}</b><br><br>Year voyage began=1801<br>normalized_sizes=%{marker.size}<br>Latitude=%{lat}<br>Longitude=%{lon}<br>Total slaves embarked imputed * (slaximp)=%{customdata[0]}<extra></extra>",
           "hovertext": [
            "Danish West Indies",
            "Martinique",
            "Barbados",
            "Rhode Island",
            "St. Vincent",
            "Dominica",
            "Cuba",
            "Puerto Rico",
            "Southeast Brazil",
            "British Guiana",
            "Spanish Americas",
            "Dutch Guianas",
            "South Carolina",
            "Virginia",
            "Bahamas",
            "Trinidad",
            "Antigua",
            "Amazonia",
            "St. Kitts",
            "Codes without labels",
            "Rio de la Plata",
            "Spanish Circum-Caribbean",
            "Americas",
            "Bahia",
            "Jamaica",
            "Pernambuco",
            "Grenada"
           ],
           "lat": [
            18,
            14.6,
            13.1,
            41.384793,
            13.201309,
            15.3,
            23.115613,
            18.420959,
            -23.48894,
            7.615531,
            7.470701,
            6.675248,
            33.1,
            36.9,
            22.783937,
            10.65,
            17.067453,
            -0.93323,
            17.3,
            0,
            -33.332605,
            15.641117,
            0,
            -12.983333,
            17.881263,
            -8.05,
            12.05
           ],
           "legendgroup": "",
           "lon": [
            -64.9,
            -61.083333,
            -59.616667,
            -71.466516,
            -61.186603,
            -61.4,
            -79.127686,
            -66.070508,
            -42.256021,
            -57.958937,
            -75.611261,
            -55.251124,
            -79.54,
            -76.3,
            -74.303605,
            -61.516667,
            -61.784741,
            -43.235449,
            -62.716667,
            0,
            -58.498255,
            -75.633932,
            0,
            -38.516667,
            -76.522778,
            -34.9,
            -61.75
           ],
           "marker": {
            "color": "#636efa",
            "size": [
             7.763021309018518,
             6.429719478039138,
             5.241747015059643,
             4.553876891600541,
             7.8636512654486515,
             5.480638923341991,
             8.812248018197431,
             4.634728988229636,
             9.780585185434793,
             8.89959435992585,
             4.736198448394496,
             7.7823903355874595,
             5.783825182329737,
             3.5553480614894135,
             7.4342573821331355,
             8.666647144584575,
             5.53338948872752,
             7.746300662231439,
             6.704414354964107,
             5.730099782973574,
             6.947937068614969,
             5.736572297479192,
             4.31748811353631,
             9.26539657772426,
             9.14984699154722,
             8.912877287669296,
             7.097548850614793
            ],
            "sizemode": "area",
            "sizeref": 0.02718353458394048,
            "symbol": "circle"
           },
           "mode": "markers",
           "name": "",
           "showlegend": false,
           "type": "scattergeo"
          }
         ],
         "name": "1801"
        },
        {
         "data": [
          {
           "customdata": [
            [
             3800
            ],
            [
             3272
            ],
            [
             16534
            ],
            [
             379
            ],
            [
             497
            ],
            [
             12173
            ],
            [
             6652
            ],
            [
             1181
            ],
            [
             7121
            ],
            [
             545
            ],
            [
             95
            ],
            [
             822
            ],
            [
             1341
            ],
            [
             2940
            ],
            [
             298
            ],
            [
             3017
            ],
            [
             41
            ],
            [
             273
            ],
            [
             445
            ],
            [
             10561
            ],
            [
             548
            ],
            [
             3012
            ],
            [
             1057
            ],
            [
             4757
            ],
            [
             4204
            ],
            [
             965
            ],
            [
             762
            ],
            [
             1310
            ],
            [
             223
            ],
            [
             139
            ],
            [
             5746
            ],
            [
             1484
            ]
           ],
           "geo": "geo",
           "hovertemplate": "<b>%{hovertext}</b><br><br>Year voyage began=1802<br>normalized_sizes=%{marker.size}<br>Latitude=%{lat}<br>Longitude=%{lon}<br>Total slaves embarked imputed * (slaximp)=%{customdata[0]}<extra></extra>",
           "hovertext": [
            "Trinidad",
            "Dutch Guianas",
            "Southeast Brazil",
            "South Carolina",
            "Tobago",
            "Cuba",
            "British Guiana",
            "Tortola",
            "Jamaica",
            "Florida",
            "Rhode Island",
            "Martinique",
            "St. Kitts",
            "Amazonia",
            "Other Caribbean",
            "St. Vincent",
            "Puerto Rico",
            "Antigua",
            "Georgia",
            "Bahia",
            "Gulf coast",
            "Bahamas",
            "Grenada",
            "Danish West Indies",
            "Pernambuco",
            "Other British Caribbean",
            "Guadaloupe",
            "Dominica",
            "Americas",
            "St. Barthélemy (Sweden)",
            "Rio de la Plata",
            "Barbados"
           ],
           "lat": [
            10.65,
            6.675248,
            -23.48894,
            33.1,
            11.231794,
            23.115613,
            7.615531,
            18.347325,
            17.881263,
            28.085368,
            41.384793,
            14.6,
            17.3,
            -0.93323,
            0,
            13.201309,
            18.420959,
            17.067453,
            31.69,
            -12.983333,
            29.8,
            22.783937,
            12.05,
            18,
            -8.05,
            18,
            16,
            15.3,
            0,
            17.9,
            -33.332605,
            13.1
           ],
           "legendgroup": "",
           "lon": [
            -61.516667,
            -55.251124,
            -42.256021,
            -79.54,
            -60.663937,
            -79.127686,
            -57.958937,
            -64.715064,
            -76.522778,
            -80.522396,
            -71.466516,
            -61.083333,
            -62.716667,
            -43.235449,
            0,
            -61.186603,
            -66.070508,
            -61.784741,
            -81.17,
            -38.516667,
            -89.56,
            -74.303605,
            -61.75,
            -64.9,
            -34.9,
            -76.8,
            -61.71667,
            -61.4,
            0,
            -62.85,
            -58.498255,
            -59.616667
           ],
           "marker": {
            "color": "#636efa",
            "size": [
             8.242756345714477,
             8.093156697722637,
             9.713174145812621,
             5.937536205082426,
             6.208590026096629,
             9.406975663409597,
             8.802672840312818,
             7.074116816197362,
             8.870803443982124,
             6.300785794663244,
             4.553876891600541,
             6.71174039505618,
             7.201170883281678,
             7.986164860332727,
             5.697093486505405,
             8.012018239159062,
             3.713572066704308,
             5.60947179518496,
             6.09807428216624,
             9.264923249746474,
             6.306275286948016,
             8.010359588919783,
             6.963189985870238,
             8.467372496432281,
             8.343791731996841,
             6.872128101338986,
             6.635946555686647,
             7.177782416195197,
             5.407171771460119,
             4.9344739331306915,
             8.656259239539235,
             7.302496423727326
            ],
            "sizemode": "area",
            "sizeref": 0.02718353458394048,
            "symbol": "circle"
           },
           "mode": "markers",
           "name": "",
           "showlegend": false,
           "type": "scattergeo"
          }
         ],
         "name": "1802"
        },
        {
         "data": [
          {
           "customdata": [
            [
             415
            ],
            [
             343
            ],
            [
             1070
            ],
            [
             6814
            ],
            [
             4440
            ],
            [
             522
            ],
            [
             138
            ],
            [
             3933
            ],
            [
             492
            ],
            [
             307
            ],
            [
             199
            ],
            [
             310
            ],
            [
             7080
            ],
            [
             234
            ],
            [
             1297
            ],
            [
             6743
            ],
            [
             5705
            ],
            [
             273
            ],
            [
             571
            ],
            [
             1728
            ],
            [
             1786
            ],
            [
             310
            ],
            [
             2286
            ],
            [
             340
            ],
            [
             11591
            ],
            [
             1908
            ],
            [
             265
            ],
            [
             679
            ],
            [
             359
            ],
            [
             3611
            ],
            [
             1395
            ]
           ],
           "geo": "geo",
           "hovertemplate": "<b>%{hovertext}</b><br><br>Year voyage began=1803<br>normalized_sizes=%{marker.size}<br>Latitude=%{lat}<br>Longitude=%{lon}<br>Total slaves embarked imputed * (slaximp)=%{customdata[0]}<extra></extra>",
           "hovertext": [
            "Puerto Rico",
            "Americas",
            "Dominica",
            "Cuba",
            "Amazonia",
            "Spanish Circum-Caribbean",
            "French Guiana",
            "Pernambuco",
            "Other Spanish Caribbean",
            "Other Caribbean",
            "St. Vincent",
            "Martinique",
            "Bahia",
            "Florida",
            "Georgia",
            "Jamaica",
            "Rio de la Plata",
            "Dutch Caribbean",
            "Barbados",
            "Dutch Guianas",
            "Guadaloupe",
            "Other British Caribbean",
            "South Carolina",
            "Antigua",
            "Southeast Brazil",
            "Danish West Indies",
            "Nevis",
            "Gulf coast",
            "Grenada",
            "British Guiana",
            "Trinidad"
           ],
           "lat": [
            18.420959,
            0,
            15.3,
            23.115613,
            -0.93323,
            15.641117,
            5.861294,
            -8.05,
            23.13194,
            0,
            13.201309,
            14.6,
            -12.983333,
            28.085368,
            31.69,
            17.881263,
            -33.332605,
            14.751846,
            13.1,
            6.675248,
            16,
            18,
            33.1,
            17.067453,
            -23.48894,
            18,
            17.151005,
            29.8,
            12.05,
            7.615531,
            10.65
           ],
           "legendgroup": "",
           "lon": [
            -66.070508,
            0,
            -61.4,
            -79.127686,
            -43.235449,
            -75.633932,
            -53.612239,
            -34.9,
            -82.36417,
            0,
            -61.186603,
            -61.083333,
            -38.516667,
            -80.522396,
            -81.17,
            -76.522778,
            -58.498255,
            -65.781346,
            -59.616667,
            -55.251124,
            -61.71667,
            -76.8,
            -79.54,
            -61.784741,
            -42.256021,
            -64.9,
            -62.589223,
            -89.56,
            -61.75,
            -57.958937,
            -61.516667
           ],
           "marker": {
            "color": "#636efa",
            "size": [
             6.028278520230698,
             5.8377304471659395,
             6.975413927455952,
             8.826734598220911,
             8.39840965542627,
             6.257667587882639,
             4.927253685157205,
             8.27715777243181,
             6.198478716492308,
             5.726847747587197,
             5.293304824724492,
             5.736572297479192,
             8.865029186687766,
             5.455321115357702,
             7.167809184316444,
             8.816260208734581,
             8.649098262296176,
             5.60947179518496,
             6.3473892096560105,
             7.454719949364001,
             7.487733761436444,
             5.736572297479192,
             7.734558844354756,
             5.8289456176102075,
             9.357984213888745,
             7.553810852008231,
             5.579729825986222,
             6.520621127558696,
             5.883322388488279,
             8.191740021277457,
             7.240649694255466
            ],
            "sizemode": "area",
            "sizeref": 0.02718353458394048,
            "symbol": "circle"
           },
           "mode": "markers",
           "name": "",
           "showlegend": false,
           "type": "scattergeo"
          }
         ],
         "name": "1803"
        },
        {
         "data": [
          {
           "customdata": [
            [
             14635
            ],
            [
             764
            ],
            [
             149
            ],
            [
             5633
            ],
            [
             287
            ],
            [
             72
            ],
            [
             7068
            ],
            [
             11008
            ],
            [
             88
            ],
            [
             591
            ],
            [
             5590
            ],
            [
             463
            ],
            [
             1504
            ],
            [
             1042
            ],
            [
             6085
            ],
            [
             432
            ],
            [
             70
            ],
            [
             622
            ],
            [
             9768
            ],
            [
             754
            ],
            [
             110
            ],
            [
             149
            ],
            [
             7372
            ],
            [
             399
            ],
            [
             1203
            ],
            [
             140
            ],
            [
             2170
            ],
            [
             3551
            ],
            [
             5736
            ]
           ],
           "geo": "geo",
           "hovertemplate": "<b>%{hovertext}</b><br><br>Year voyage began=1804<br>normalized_sizes=%{marker.size}<br>Latitude=%{lat}<br>Longitude=%{lon}<br>Total slaves embarked imputed * (slaximp)=%{customdata[0]}<extra></extra>",
           "hovertext": [
            "Southeast Brazil",
            "Puerto Rico",
            "Florida",
            "Cuba",
            "Barbados",
            "Chile",
            "Jamaica",
            "Bahia",
            "St. Vincent",
            "Southeast Africa and Indian Ocean islands",
            "Amazonia",
            "Martinique",
            "Dominica",
            "Danish West Indies",
            "British Guiana",
            "Americas",
            "Senegambia and offshore Atlantic",
            "St. Barthélemy (Sweden)",
            "South Carolina",
            "St. Lucia",
            "Antigua",
            "French Guiana",
            "Dutch Guianas",
            "Trinidad",
            "Tortola",
            "Tobago",
            "Guadaloupe",
            "Rio de la Plata",
            "Pernambuco"
           ],
           "lat": [
            -23.48894,
            18.420959,
            28.085368,
            23.115613,
            13.1,
            -33.0472,
            17.881263,
            -12.983333,
            13.201309,
            -17.14,
            -0.93323,
            14.6,
            15.3,
            18,
            7.615531,
            0,
            14.14,
            17.9,
            33.1,
            14,
            17.067453,
            5.861294,
            6.675248,
            10.65,
            18.347325,
            11.231794,
            16,
            -33.332605,
            -8.05
           ],
           "legendgroup": "",
           "lon": [
            -42.256021,
            -66.070508,
            -80.522396,
            -79.127686,
            -59.616667,
            -71.6127,
            -76.522778,
            -38.516667,
            -61.186603,
            39.51,
            -43.235449,
            -61.083333,
            -61.4,
            -64.9,
            -57.958937,
            0,
            -17.93,
            -62.85,
            -79.54,
            -61,
            -61.784741,
            -53.612239,
            -55.251124,
            -61.516667,
            -64.715064,
            -60.663937,
            -61.71667,
            -58.498255,
            -34.9
           ],
           "marker": {
            "color": "#636efa",
            "size": [
             9.591171199125986,
             6.638567789166521,
             5.003946305945459,
             8.636397438894713,
             5.659482215759621,
             4.276666119016055,
             8.863332833439587,
             9.306377560173125,
             4.477336814478207,
             6.3818160174060985,
             8.628734566149145,
             6.137727054086234,
             7.315883504509785,
             6.948897222313312,
             8.713582005421628,
             6.068425588244111,
             4.248495242049359,
             6.432940092739179,
             9.18686701579054,
             6.625392368007956,
             4.700480365792417,
             5.003946305945459,
             8.905444318789714,
             5.988961416889864,
             7.0925737159746784,
             4.941642422609304,
             7.682482446534506,
             8.174984532943087,
             8.654517382279456
            ],
            "sizemode": "area",
            "sizeref": 0.02718353458394048,
            "symbol": "circle"
           },
           "mode": "markers",
           "name": "",
           "showlegend": false,
           "type": "scattergeo"
          }
         ],
         "name": "1804"
        },
        {
         "data": [
          {
           "customdata": [
            [
             703
            ],
            [
             2171
            ],
            [
             122
            ],
            [
             110
            ],
            [
             1103
            ],
            [
             13203
            ],
            [
             1240
            ],
            [
             2378
            ],
            [
             3392
            ],
            [
             122
            ],
            [
             178
            ],
            [
             331
            ],
            [
             484
            ],
            [
             5744
            ],
            [
             850
            ],
            [
             267
            ],
            [
             803
            ],
            [
             930
            ],
            [
             119
            ],
            [
             1729
            ],
            [
             6502
            ],
            [
             620
            ],
            [
             3682
            ],
            [
             645
            ],
            [
             583
            ],
            [
             199
            ],
            [
             1203
            ],
            [
             411
            ],
            [
             1361
            ],
            [
             6671
            ],
            [
             13998
            ],
            [
             12442
            ]
           ],
           "geo": "geo",
           "hovertemplate": "<b>%{hovertext}</b><br><br>Year voyage began=1805<br>normalized_sizes=%{marker.size}<br>Latitude=%{lat}<br>Longitude=%{lon}<br>Total slaves embarked imputed * (slaximp)=%{customdata[0]}<extra></extra>",
           "hovertext": [
            "Martinique",
            "Pernambuco",
            "St. Kitts",
            "Other North America",
            "Barbados",
            "South Carolina",
            "Dominica",
            "Dutch Guianas",
            "British Guiana",
            "Florida",
            "Antigua",
            "Bahamas",
            "Grenada",
            "Amazonia",
            "Guadaloupe",
            "Southeast Africa and Indian Ocean islands",
            "St. Vincent",
            "Tobago",
            "Nevis",
            "Trinidad",
            "Rio de la Plata",
            "St. Lucia",
            "Cuba",
            "French Guiana",
            "Tortola",
            "Gulf coast",
            "Americas",
            "St. Barthélemy (Sweden)",
            "Danish West Indies",
            "Jamaica",
            "Southeast Brazil",
            "Bahia"
           ],
           "lat": [
            14.6,
            -8.05,
            17.3,
            33.875649,
            13.1,
            33.1,
            15.3,
            6.675248,
            7.615531,
            28.085368,
            17.067453,
            22.783937,
            12.05,
            -0.93323,
            16,
            -17.14,
            13.201309,
            11.231794,
            17.151005,
            10.65,
            -33.332605,
            14,
            23.115613,
            5.861294,
            18.347325,
            29.8,
            0,
            17.9,
            18,
            17.881263,
            -23.48894,
            -12.983333
           ],
           "legendgroup": "",
           "lon": [
            -61.083333,
            -34.9,
            -62.716667,
            -78.444029,
            -59.616667,
            -79.54,
            -61.4,
            -55.251124,
            -57.958937,
            -80.522396,
            -61.784741,
            -74.303605,
            -61.75,
            -43.235449,
            -61.71667,
            39.51,
            -61.186603,
            -60.663937,
            -62.589223,
            -61.516667,
            -58.498255,
            -61,
            -79.127686,
            -53.612239,
            -64.715064,
            -89.56,
            0,
            -62.85,
            -64.9,
            -76.522778,
            -42.256021,
            -38.516667
           ],
           "marker": {
            "color": "#636efa",
            "size": [
             6.555356891810665,
             7.682943169878292,
             4.804021044733257,
             4.700480365792417,
             7.005789019253503,
             9.488199355479201,
             7.122866658599083,
             7.774015077250727,
             8.129174996911793,
             4.804021044733257,
             5.181783550292085,
             5.802118375377063,
             6.182084906716632,
             8.65591111072806,
             6.745236349484363,
             5.58724865840025,
             6.688354713946762,
             6.835184586147301,
             4.77912349311153,
             7.455298485683291,
             8.779865100863852,
             6.429719478039138,
             8.211211361793023,
             6.4692503167957724,
             6.368187186350492,
             5.293304824724492,
             7.0925737159746784,
             6.018593214496234,
             7.215975002651466,
             8.805525052709516,
             9.546669741249485,
             9.428833125074965
            ],
            "sizemode": "area",
            "sizeref": 0.02718353458394048,
            "symbol": "circle"
           },
           "mode": "markers",
           "name": "",
           "showlegend": false,
           "type": "scattergeo"
          }
         ],
         "name": "1805"
        },
        {
         "data": [
          {
           "customdata": [
            [
             86
            ],
            [
             119
            ],
            [
             13065
            ],
            [
             273
            ],
            [
             81
            ],
            [
             850
            ],
            [
             1618
            ],
            [
             2448
            ],
            [
             2276
            ],
            [
             153
            ],
            [
             13936
            ],
            [
             473
            ],
            [
             3854
            ],
            [
             267
            ],
            [
             4058
            ],
            [
             1070
            ],
            [
             230
            ],
            [
             365
            ],
            [
             76
            ],
            [
             1997
            ],
            [
             705
            ],
            [
             5983
            ],
            [
             2264
            ],
            [
             18766
            ],
            [
             1815
            ],
            [
             1613
            ],
            [
             19
            ],
            [
             895
            ],
            [
             493
            ],
            [
             583
            ],
            [
             310
            ],
            [
             15228
            ]
           ],
           "geo": "geo",
           "hovertemplate": "<b>%{hovertext}</b><br><br>Year voyage began=1806<br>normalized_sizes=%{marker.size}<br>Latitude=%{lat}<br>Longitude=%{lon}<br>Total slaves embarked imputed * (slaximp)=%{customdata[0]}<extra></extra>",
           "hovertext": [
            "Puerto Rico",
            "Nevis",
            "Bahia",
            "Danish West Indies",
            "Spanish Circum-Caribbean",
            "Martinique",
            "Southeast Africa and Indian Ocean islands",
            "Rio de la Plata",
            "Dutch Guianas",
            "Georgia",
            "Southeast Brazil",
            "Gulf coast",
            "Trinidad",
            "Bahamas",
            "Pernambuco",
            "Guadaloupe",
            "Tortola",
            "Grenada",
            "Codes without labels",
            "Cuba",
            "Antigua",
            "Amazonia",
            "Barbados",
            "South Carolina",
            "British Guiana",
            "Dominica",
            "Florida",
            "Americas",
            "St. Vincent",
            "St. Lucia",
            "St. Kitts",
            "Jamaica"
           ],
           "lat": [
            18.420959,
            17.151005,
            -12.983333,
            18,
            15.641117,
            14.6,
            -17.14,
            -33.332605,
            6.675248,
            31.69,
            -23.48894,
            29.8,
            10.65,
            22.783937,
            -8.05,
            16,
            18.347325,
            12.05,
            0,
            23.115613,
            17.067453,
            -0.93323,
            13.1,
            33.1,
            7.615531,
            15.3,
            28.085368,
            0,
            13.201309,
            14,
            17.3,
            17.881263
           ],
           "legendgroup": "",
           "lon": [
            -66.070508,
            -62.589223,
            -38.516667,
            -64.9,
            -75.633932,
            -61.083333,
            39.51,
            -58.498255,
            -55.251124,
            -81.17,
            -42.256021,
            -89.56,
            -61.516667,
            -74.303605,
            -34.9,
            -61.71667,
            -64.715064,
            -61.75,
            0,
            -79.127686,
            -61.784741,
            -43.235449,
            -59.616667,
            -79.54,
            -57.958937,
            -61.4,
            -80.522396,
            0,
            -61.186603,
            -61,
            -62.716667,
            -76.522778
           ],
           "marker": {
            "color": "#636efa",
            "size": [
             4.454347296253507,
             4.77912349311153,
             9.477692177954713,
             5.60947179518496,
             4.394449154672439,
             6.745236349484363,
             7.388946097618437,
             7.803026643632217,
             7.730174795246222,
             5.030437921392435,
             9.542230699092284,
             6.159095388491933,
             8.256866848974312,
             5.58724865840025,
             8.30844552038576,
             6.975413927455952,
             5.438079308923196,
             5.8998973535824915,
             4.330733340286331,
             7.599401333415815,
             6.558197802812269,
             8.696677393390031,
             7.724888439323074,
             9.839802000849994,
             7.503840746698951,
             7.385851078125209,
             2.9444389791664403,
             6.796823718274855,
             6.20050917404269,
             6.368187186350492,
             5.736572297479192,
             9.630891117502388
            ],
            "sizemode": "area",
            "sizeref": 0.02718353458394048,
            "symbol": "circle"
           },
           "mode": "markers",
           "name": "",
           "showlegend": false,
           "type": "scattergeo"
          }
         ],
         "name": "1806"
        },
        {
         "data": [
          {
           "customdata": [
            [
             371
            ],
            [
             847
            ],
            [
             11101
            ],
            [
             1112
            ],
            [
             182
            ],
            [
             310
            ],
            [
             1190
            ],
            [
             204
            ],
            [
             1575
            ],
            [
             674
            ],
            [
             310
            ],
            [
             268
            ],
            [
             11160
            ],
            [
             16750
            ],
            [
             1381
            ],
            [
             1125
            ],
            [
             620
            ],
            [
             1176
            ],
            [
             2890
            ],
            [
             1199
            ],
            [
             817
            ],
            [
             682
            ],
            [
             1180
            ],
            [
             101
            ],
            [
             12071
            ],
            [
             617
            ],
            [
             159
            ],
            [
             372
            ]
           ],
           "geo": "geo",
           "hovertemplate": "<b>%{hovertext}</b><br><br>Year voyage began=1807<br>normalized_sizes=%{marker.size}<br>Latitude=%{lat}<br>Longitude=%{lon}<br>Total slaves embarked imputed * (slaximp)=%{customdata[0]}<extra></extra>",
           "hovertext": [
            "Tortola",
            "Gulf coast",
            "Bahia",
            "Trinidad",
            "Tobago",
            "French Guiana",
            "Americas",
            "Other British Caribbean",
            "Amazonia",
            "Guadaloupe",
            "Other French Caribbean",
            "Georgia",
            "South Carolina",
            "Southeast Brazil",
            "Cuba",
            "Dutch Guianas",
            "Southeast Africa and Indian Ocean islands",
            "Pernambuco",
            "British Guiana",
            "Barbados",
            "St. Vincent",
            "Grenada",
            "Dominica",
            "Danish West Indies",
            "Jamaica",
            "Rio de la Plata",
            "Martinique",
            "Sierra Leone"
           ],
           "lat": [
            18.347325,
            29.8,
            -12.983333,
            10.65,
            11.231794,
            5.861294,
            0,
            18,
            -0.93323,
            16,
            19.75778,
            31.69,
            33.1,
            -23.48894,
            23.115613,
            6.675248,
            -17.14,
            -8.05,
            7.615531,
            13.1,
            13.201309,
            12.05,
            15.3,
            18,
            17.881263,
            -33.332605,
            14.6,
            8.1
           ],
           "legendgroup": "",
           "lon": [
            -64.715064,
            -89.56,
            -38.516667,
            -61.516667,
            -60.663937,
            -53.612239,
            0,
            -76.8,
            -43.235449,
            -61.71667,
            -72.20417,
            -81.17,
            -79.54,
            -42.256021,
            -79.127686,
            -55.251124,
            39.51,
            -34.9,
            -57.958937,
            -59.616667,
            -61.186603,
            -61.75,
            -61.4,
            -64.9,
            -76.522778,
            -58.498255,
            -61.083333,
            -13.67
           ],
           "marker": {
            "color": "#636efa",
            "size": [
             5.916202062607435,
             6.741700694652055,
             9.314790473332646,
             7.013915474810528,
             5.204006687076795,
             5.736572297479192,
             7.081708586105575,
             5.318119993844216,
             7.362010551259734,
             6.513230110912307,
             5.736572297479192,
             5.5909869805108565,
             9.320091235935301,
             9.726153537253213,
             7.2305631534092925,
             7.025538314638521,
             6.429719478039138,
             7.069874128458572,
             7.969011781106478,
             7.089243155027514,
             6.705639094860003,
             6.525029657843462,
             7.07326971745971,
             4.61512051684126,
             9.398561160701128,
             6.424869023905388,
             5.0689042022202315,
             5.918893854273146
            ],
            "sizemode": "area",
            "sizeref": 0.02718353458394048,
            "symbol": "circle"
           },
           "mode": "markers",
           "name": "",
           "showlegend": false,
           "type": "scattergeo"
          }
         ],
         "name": "1807"
        },
        {
         "data": [
          {
           "customdata": [
            [
             6261
            ],
            [
             920
            ],
            [
             89
            ],
            [
             514
            ],
            [
             660
            ],
            [
             914
            ],
            [
             10663
            ],
            [
             149
            ],
            [
             2444
            ]
           ],
           "geo": "geo",
           "hovertemplate": "<b>%{hovertext}</b><br><br>Year voyage began=1808<br>normalized_sizes=%{marker.size}<br>Latitude=%{lat}<br>Longitude=%{lon}<br>Total slaves embarked imputed * (slaximp)=%{customdata[0]}<extra></extra>",
           "hovertext": [
            "Bahia",
            "Amazonia",
            "Sierra Leone",
            "Americas",
            "Southeast Africa and Indian Ocean islands",
            "Cuba",
            "Southeast Brazil",
            "Other British Caribbean",
            "Pernambuco"
           ],
           "lat": [
            -12.983333,
            -0.93323,
            8.1,
            0,
            -17.14,
            23.115613,
            -23.48894,
            18,
            -8.05
           ],
           "legendgroup": "",
           "lon": [
            -38.516667,
            -43.235449,
            -13.67,
            0,
            39.51,
            -79.127686,
            -42.256021,
            -76.8,
            -34.9
           ],
           "marker": {
            "color": "#636efa",
            "size": [
             8.74209519574531,
             6.824373670043086,
             4.48863636973214,
             6.2422232654551655,
             6.492239835020471,
             6.81783057145415,
             9.27453508401818,
             5.003946305945459,
             7.8013913202914855
            ],
            "sizemode": "area",
            "sizeref": 0.02718353458394048,
            "symbol": "circle"
           },
           "mode": "markers",
           "name": "",
           "showlegend": false,
           "type": "scattergeo"
          }
         ],
         "name": "1808"
        },
        {
         "data": [
          {
           "customdata": [
            [
             9298
            ],
            [
             4456
            ],
            [
             104
            ],
            [
             475
            ],
            [
             687
            ],
            [
             1840
            ],
            [
             20106
            ],
            [
             1042
            ],
            [
             847
            ]
           ],
           "geo": "geo",
           "hovertemplate": "<b>%{hovertext}</b><br><br>Year voyage began=1809<br>normalized_sizes=%{marker.size}<br>Latitude=%{lat}<br>Longitude=%{lon}<br>Total slaves embarked imputed * (slaximp)=%{customdata[0]}<extra></extra>",
           "hovertext": [
            "Bahia",
            "Cuba",
            "Georgia",
            "Guadaloupe",
            "Sierra Leone",
            "Amazonia",
            "Southeast Brazil",
            "Rio de la Plata",
            "Pernambuco"
           ],
           "lat": [
            -12.983333,
            23.115613,
            31.69,
            16,
            8.1,
            -0.93323,
            -23.48894,
            -33.332605,
            -8.05
           ],
           "legendgroup": "",
           "lon": [
            -38.516667,
            -79.127686,
            -81.17,
            -61.71667,
            -13.67,
            -43.235449,
            -42.256021,
            -58.498255,
            -34.9
           ],
           "marker": {
            "color": "#636efa",
            "size": [
             9.13755460225053,
             8.40200678160712,
             4.6443908991413725,
             6.163314804034641,
             6.532334292222349,
             7.517520850603031,
             9.908773556965365,
             6.948897222313312,
             6.741700694652055
            ],
            "sizemode": "area",
            "sizeref": 0.02718353458394048,
            "symbol": "circle"
           },
           "mode": "markers",
           "name": "",
           "showlegend": false,
           "type": "scattergeo"
          }
         ],
         "name": "1809"
        },
        {
         "data": [
          {
           "customdata": [
            [
             4952
            ],
            [
             1168
            ],
            [
             1182
            ],
            [
             8230
            ],
            [
             533
            ],
            [
             21508
            ],
            [
             252
            ],
            [
             394
            ],
            [
             253
            ],
            [
             15651
            ],
            [
             241
            ],
            [
             219
            ],
            [
             170
            ],
            [
             390
            ],
            [
             167
            ],
            [
             2553
            ]
           ],
           "geo": "geo",
           "hovertemplate": "<b>%{hovertext}</b><br><br>Year voyage began=1810<br>normalized_sizes=%{marker.size}<br>Latitude=%{lat}<br>Longitude=%{lon}<br>Total slaves embarked imputed * (slaximp)=%{customdata[0]}<extra></extra>",
           "hovertext": [
            "Pernambuco",
            "Florida",
            "Sierra Leone",
            "Cuba",
            "Southeast Africa and Indian Ocean islands",
            "Southeast Brazil",
            "Saint-Domingue",
            "Rio de la Plata",
            "Spanish Circum-Caribbean",
            "Bahia",
            "Antigua",
            "Bahamas",
            "Gulf coast",
            "French Guiana",
            "Senegambia and offshore Atlantic",
            "Amazonia"
           ],
           "lat": [
            -8.05,
            28.085368,
            8.1,
            23.115613,
            -17.14,
            -23.48894,
            18.54,
            -33.332605,
            15.641117,
            -12.983333,
            17.067453,
            22.783937,
            29.8,
            5.861294,
            14.14,
            -0.93323
           ],
           "legendgroup": "",
           "lon": [
            -34.9,
            -80.522396,
            -13.67,
            -79.127686,
            39.51,
            -42.256021,
            -72.34,
            -58.498255,
            -75.633932,
            -38.516667,
            -61.784741,
            -74.303605,
            -89.56,
            -53.612239,
            -17.93,
            -43.235449
           ],
           "marker": {
            "color": "#636efa",
            "size": [
             8.507546814364431,
             7.0630481633881725,
             7.074963197966044,
             9.015541293671115,
             6.278521424165844,
             9.976180237929569,
             5.529429087511423,
             5.976350909297934,
             5.53338948872752,
             9.658290091690503,
             5.484796933490655,
             5.389071729816501,
             5.135798437050262,
             5.966146739123692,
             5.117993812416755,
             7.845024417241484
            ],
            "sizemode": "area",
            "sizeref": 0.02718353458394048,
            "symbol": "circle"
           },
           "mode": "markers",
           "name": "",
           "showlegend": false,
           "type": "scattergeo"
          }
         ],
         "name": "1810"
        },
        {
         "data": [
          {
           "customdata": [
            [
             10361
            ],
            [
             287
            ],
            [
             1820
            ],
            [
             614
            ],
            [
             197
            ],
            [
             287
            ],
            [
             5280
            ],
            [
             170
            ],
            [
             141
            ],
            [
             506
            ],
            [
             3153
            ],
            [
             38069
            ],
            [
             9660
            ]
           ],
           "geo": "geo",
           "hovertemplate": "<b>%{hovertext}</b><br><br>Year voyage began=1811<br>normalized_sizes=%{marker.size}<br>Latitude=%{lat}<br>Longitude=%{lon}<br>Total slaves embarked imputed * (slaximp)=%{customdata[0]}<extra></extra>",
           "hovertext": [
            "Bahia",
            "Saint-Domingue",
            "Sierra Leone",
            "Puerto Rico",
            "Spanish Circum-Caribbean",
            "Bahamas",
            "Pernambuco",
            "Tortola",
            "Danish West Indies",
            "Southeast Africa and Indian Ocean islands",
            "Amazonia",
            "Southeast Brazil",
            "Cuba"
           ],
           "lat": [
            -12.983333,
            18.54,
            8.1,
            18.420959,
            15.641117,
            22.783937,
            -8.05,
            18.347325,
            18,
            -17.14,
            -0.93323,
            -23.48894,
            23.115613
           ],
           "legendgroup": "",
           "lon": [
            -38.516667,
            -72.34,
            -13.67,
            -66.070508,
            -75.633932,
            -74.303605,
            -34.9,
            -64.715064,
            -64.9,
            39.51,
            -43.235449,
            -42.256021,
            -79.127686
           ],
           "marker": {
            "color": "#636efa",
            "size": [
             9.245804036251752,
             5.659482215759621,
             7.506591780070841,
             6.419994928147142,
             5.2832037287379885,
             5.659482215759621,
             8.571681376700306,
             5.135798437050262,
             4.948759890378168,
             6.226536669287466,
             8.056109659545061,
             10.547155581629395,
             9.175748927206564
            ],
            "sizemode": "area",
            "sizeref": 0.02718353458394048,
            "symbol": "circle"
           },
           "mode": "markers",
           "name": "",
           "showlegend": false,
           "type": "scattergeo"
          }
         ],
         "name": "1811"
        },
        {
         "data": [
          {
           "customdata": [
            [
             10685
            ],
            [
             22
            ],
            [
             1558
            ],
            [
             22764
            ],
            [
             8873
            ],
            [
             1450
            ],
            [
             533
            ],
            [
             6746
            ],
            [
             2240
            ]
           ],
           "geo": "geo",
           "hovertemplate": "<b>%{hovertext}</b><br><br>Year voyage began=1812<br>normalized_sizes=%{marker.size}<br>Latitude=%{lat}<br>Longitude=%{lon}<br>Total slaves embarked imputed * (slaximp)=%{customdata[0]}<extra></extra>",
           "hovertext": [
            "Bahia",
            "Puerto Rico",
            "Tortola",
            "Southeast Brazil",
            "Cuba",
            "Amazonia",
            "Southeast Africa and Indian Ocean islands",
            "Pernambuco",
            "Sierra Leone"
           ],
           "lat": [
            -12.983333,
            18.420959,
            18.347325,
            -23.48894,
            23.115613,
            -0.93323,
            -17.14,
            -8.05,
            8.1
           ],
           "legendgroup": "",
           "lon": [
            -38.516667,
            -66.070508,
            -64.715064,
            -42.256021,
            -79.127686,
            -43.235449,
            39.51,
            -34.9,
            -13.67
           ],
           "marker": {
            "color": "#636efa",
            "size": [
             9.276596167753247,
             3.091042453358316,
             7.351158226430694,
             10.032935619723014,
             9.090768236835338,
             7.27931883541462,
             6.278521424165844,
             8.816705015621595,
             7.7142311448490855
            ],
            "sizemode": "area",
            "sizeref": 0.02718353458394048,
            "symbol": "circle"
           },
           "mode": "markers",
           "name": "",
           "showlegend": false,
           "type": "scattergeo"
          }
         ],
         "name": "1812"
        },
        {
         "data": [
          {
           "customdata": [
            [
             1591
            ],
            [
             21934
            ],
            [
             658
            ],
            [
             8723
            ],
            [
             133
            ],
            [
             3905
            ],
            [
             14360
            ],
            [
             508
            ]
           ],
           "geo": "geo",
           "hovertemplate": "<b>%{hovertext}</b><br><br>Year voyage began=1813<br>normalized_sizes=%{marker.size}<br>Latitude=%{lat}<br>Longitude=%{lon}<br>Total slaves embarked imputed * (slaximp)=%{customdata[0]}<extra></extra>",
           "hovertext": [
            "Amazonia",
            "Southeast Brazil",
            "Antigua",
            "Pernambuco",
            "Puerto Rico",
            "Cuba",
            "Bahia",
            "Sierra Leone"
           ],
           "lat": [
            -0.93323,
            -23.48894,
            17.067453,
            -8.05,
            18.420959,
            23.115613,
            -12.983333,
            8.1
           ],
           "legendgroup": "",
           "lon": [
            -43.235449,
            -42.256021,
            -61.784741,
            -34.9,
            -66.070508,
            -79.127686,
            -38.516667,
            -13.67
           ],
           "marker": {
            "color": "#636efa",
            "size": [
             7.372118028337787,
             9.995793223320154,
             6.489204931325317,
             9.07371849443322,
             4.890349128221754,
             8.270013062273787,
             9.572201842602215,
             6.230481447578482
            ],
            "sizemode": "area",
            "sizeref": 0.02718353458394048,
            "symbol": "circle"
           },
           "mode": "markers",
           "name": "",
           "showlegend": false,
           "type": "scattergeo"
          }
         ],
         "name": "1813"
        },
        {
         "data": [
          {
           "customdata": [
            [
             1829
            ],
            [
             7709
            ],
            [
             7843
            ],
            [
             12193
            ],
            [
             19918
            ],
            [
             418
            ],
            [
             3213
            ],
            [
             339
            ],
            [
             846
            ],
            [
             501
            ],
            [
             54
            ]
           ],
           "geo": "geo",
           "hovertemplate": "<b>%{hovertext}</b><br><br>Year voyage began=1814<br>normalized_sizes=%{marker.size}<br>Latitude=%{lat}<br>Longitude=%{lon}<br>Total slaves embarked imputed * (slaximp)=%{customdata[0]}<extra></extra>",
           "hovertext": [
            "Amazonia",
            "Pernambuco",
            "Cuba",
            "Bahia",
            "Southeast Brazil",
            "Danish West Indies",
            "Sierra Leone",
            "Martinique",
            "Tortola",
            "Antigua",
            "Puerto Rico"
           ],
           "lat": [
            -0.93323,
            -8.05,
            23.115613,
            -12.983333,
            -23.48894,
            18,
            8.1,
            14.6,
            18.347325,
            17.067453,
            18.420959
           ],
           "legendgroup": "",
           "lon": [
            -43.235449,
            -34.9,
            -79.127686,
            -38.516667,
            -42.256021,
            -64.9,
            -13.67,
            -61.083333,
            -64.715064,
            -61.784741,
            -66.070508
           ],
           "marker": {
            "color": "#636efa",
            "size": [
             7.511524648390866,
             8.950143756459262,
             8.967376693212666,
             9.408617295560266,
             9.899379124491585,
             6.035481432524756,
             8.074960359115858,
             5.82600010738045,
             6.740519359606223,
             6.2166061010848646,
             3.9889840465642745
            ],
            "sizemode": "area",
            "sizeref": 0.02718353458394048,
            "symbol": "circle"
           },
           "mode": "markers",
           "name": "",
           "showlegend": false,
           "type": "scattergeo"
          }
         ],
         "name": "1814"
        },
        {
         "data": [
          {
           "customdata": [
            [
             11715
            ],
            [
             22039
            ],
            [
             120
            ],
            [
             364
            ],
            [
             179
            ],
            [
             1482
            ],
            [
             231
            ],
            [
             319
            ],
            [
             10720
            ],
            [
             15318
            ],
            [
             838
            ],
            [
             2502
            ],
            [
             553
            ]
           ],
           "geo": "geo",
           "hovertemplate": "<b>%{hovertext}</b><br><br>Year voyage began=1815<br>normalized_sizes=%{marker.size}<br>Latitude=%{lat}<br>Longitude=%{lon}<br>Total slaves embarked imputed * (slaximp)=%{customdata[0]}<extra></extra>",
           "hovertext": [
            "Bahia",
            "Southeast Brazil",
            "Americas",
            "Southeast Africa and Indian Ocean islands",
            "Other French Caribbean",
            "Amazonia",
            "Antigua",
            "Guadaloupe",
            "Pernambuco",
            "Cuba",
            "Martinique",
            "Sierra Leone",
            "French Guiana"
           ],
           "lat": [
            -12.983333,
            -23.48894,
            0,
            -17.14,
            19.75778,
            -0.93323,
            17.067453,
            16,
            -8.05,
            23.115613,
            14.6,
            8.1,
            5.861294
           ],
           "legendgroup": "",
           "lon": [
            -38.516667,
            -42.256021,
            0,
            39.51,
            -72.20417,
            -43.235449,
            -61.784741,
            -61.71667,
            -34.9,
            -79.127686,
            -61.083333,
            -13.67,
            -53.612239
           ],
           "marker": {
            "color": "#636efa",
            "size": [
             9.368625350941896,
             10.000568890186692,
             4.787491742782046,
             5.8971538676367405,
             5.187385805840755,
             7.301147805856032,
             5.442417710521793,
             5.765191102784844,
             9.279866434624793,
             9.636783886469539,
             6.731018100482083,
             7.824845691026856,
             6.315358001522335
            ],
            "sizemode": "area",
            "sizeref": 0.02718353458394048,
            "symbol": "circle"
           },
           "mode": "markers",
           "name": "",
           "showlegend": false,
           "type": "scattergeo"
          }
         ],
         "name": "1815"
        },
        {
         "data": [
          {
           "customdata": [
            [
             1969
            ],
            [
             2849
            ],
            [
             610
            ],
            [
             11837
            ],
            [
             11698
            ],
            [
             382
            ],
            [
             65
            ],
            [
             1409
            ],
            [
             35755
            ],
            [
             26332
            ],
            [
             250
            ]
           ],
           "geo": "geo",
           "hovertemplate": "<b>%{hovertext}</b><br><br>Year voyage began=1816<br>normalized_sizes=%{marker.size}<br>Latitude=%{lat}<br>Longitude=%{lon}<br>Total slaves embarked imputed * (slaximp)=%{customdata[0]}<extra></extra>",
           "hovertext": [
            "Sierra Leone",
            "Amazonia",
            "Americas",
            "Bahia",
            "Pernambuco",
            "Bahamas",
            "Puerto Rico",
            "Martinique",
            "Cuba",
            "Southeast Brazil",
            "Guadaloupe"
           ],
           "lat": [
            8.1,
            -0.93323,
            0,
            -12.983333,
            -8.05,
            22.783937,
            18.420959,
            14.6,
            23.115613,
            -23.48894,
            16
           ],
           "legendgroup": "",
           "lon": [
            -13.67,
            -43.235449,
            0,
            -38.516667,
            -34.9,
            -74.303605,
            -66.070508,
            -61.083333,
            -79.127686,
            -42.256021,
            -61.71667
           ],
           "marker": {
            "color": "#636efa",
            "size": [
             7.585281078639126,
             7.954723334497908,
             6.413458957167357,
             9.378985497953893,
             9.36717316600297,
             5.945420608606575,
             4.174387269895637,
             7.25063551189868,
             10.484445398482496,
             10.178540208587767,
             5.521460917862246
            ],
            "sizemode": "area",
            "sizeref": 0.02718353458394048,
            "symbol": "circle"
           },
           "mode": "markers",
           "name": "",
           "showlegend": false,
           "type": "scattergeo"
          }
         ],
         "name": "1816"
        },
        {
         "data": [
          {
           "customdata": [
            [
             179
            ],
            [
             7085
            ],
            [
             494
            ],
            [
             32060
            ],
            [
             314
            ],
            [
             2253
            ],
            [
             28986
            ],
            [
             364
            ],
            [
             390
            ],
            [
             234
            ],
            [
             13077
            ],
            [
             365
            ],
            [
             456
            ],
            [
             1373
            ],
            [
             725
            ],
            [
             399
            ],
            [
             677
            ]
           ],
           "geo": "geo",
           "hovertemplate": "<b>%{hovertext}</b><br><br>Year voyage began=1817<br>normalized_sizes=%{marker.size}<br>Latitude=%{lat}<br>Longitude=%{lon}<br>Total slaves embarked imputed * (slaximp)=%{customdata[0]}<extra></extra>",
           "hovertext": [
            "Martinique",
            "Pernambuco",
            "Sierra Leone",
            "Cuba",
            "Gulf coast",
            "Amazonia",
            "Southeast Brazil",
            "Florida",
            "Spanish Circum-Caribbean",
            "Americas",
            "Bahia",
            "Codes without labels",
            "Georgia",
            "Guadaloupe",
            "Southeast Africa and Indian Ocean islands",
            "Other North America",
            "Puerto Rico"
           ],
           "lat": [
            14.6,
            -8.05,
            8.1,
            23.115613,
            29.8,
            -0.93323,
            -23.48894,
            28.085368,
            15.641117,
            0,
            -12.983333,
            0,
            31.69,
            16,
            -17.14,
            33.875649,
            18.420959
           ],
           "legendgroup": "",
           "lon": [
            -61.083333,
            -34.9,
            -13.67,
            -79.127686,
            -89.56,
            -43.235449,
            -42.256021,
            -80.522396,
            -75.633932,
            0,
            -38.516667,
            0,
            -81.17,
            -61.71667,
            39.51,
            -78.444029,
            -66.070508
           ],
           "marker": {
            "color": "#636efa",
            "size": [
             5.187385805840755,
             8.865735152124781,
             6.202535517187923,
             10.375364426163545,
             5.749392985908253,
             7.720017940432244,
             10.274568233782462,
             5.8971538676367405,
             5.966146739123692,
             5.455321115357702,
             9.478610240906502,
             5.8998973535824915,
             6.1224928095143865,
             7.224753405767971,
             6.586171654854675,
             5.988961416889864,
             6.517671272912275
            ],
            "sizemode": "area",
            "sizeref": 0.02718353458394048,
            "symbol": "circle"
           },
           "mode": "markers",
           "name": "",
           "showlegend": false,
           "type": "scattergeo"
          }
         ],
         "name": "1817"
        },
        {
         "data": [
          {
           "customdata": [
            [
             106
            ],
            [
             366
            ],
            [
             553
            ],
            [
             319
            ],
            [
             390
            ],
            [
             314
            ],
            [
             4139
            ],
            [
             81
            ],
            [
             25036
            ],
            [
             35
            ],
            [
             1665
            ],
            [
             26012
            ],
            [
             474
            ],
            [
             15444
            ],
            [
             709
            ],
            [
             10299
            ],
            [
             102
            ],
            [
             915
            ]
           ],
           "geo": "geo",
           "hovertemplate": "<b>%{hovertext}</b><br><br>Year voyage began=1818<br>normalized_sizes=%{marker.size}<br>Latitude=%{lat}<br>Longitude=%{lon}<br>Total slaves embarked imputed * (slaximp)=%{customdata[0]}<extra></extra>",
           "hovertext": [
            "French Guiana",
            "Americas",
            "Guadaloupe",
            "Other Caribbean",
            "Saint-Domingue",
            "Codes without labels",
            "Amazonia",
            "Senegambia and offshore Atlantic",
            "Cuba",
            "Jamaica",
            "Martinique",
            "Southeast Brazil",
            "Dutch Caribbean",
            "Bahia",
            "Sierra Leone",
            "Pernambuco",
            "Bahamas",
            "Puerto Rico"
           ],
           "lat": [
            5.861294,
            0,
            16,
            0,
            18.54,
            0,
            -0.93323,
            14.14,
            23.115613,
            17.881263,
            14.6,
            -23.48894,
            14.751846,
            -12.983333,
            8.1,
            -8.05,
            22.783937,
            18.420959
           ],
           "legendgroup": "",
           "lon": [
            -53.612239,
            0,
            -61.71667,
            0,
            -72.34,
            0,
            -43.235449,
            -17.93,
            -79.127686,
            -76.522778,
            -61.083333,
            -42.256021,
            -65.781346,
            -38.516667,
            -13.67,
            -34.9,
            -74.303605,
            -66.070508
           ],
           "marker": {
            "color": "#636efa",
            "size": [
             4.663439094112067,
             5.902633333401366,
             6.315358001522335,
             5.765191102784844,
             5.966146739123692,
             5.749392985908253,
             8.328209491748732,
             4.394449154672439,
             10.128070068044591,
             3.5553480614894135,
             7.417580402414544,
             10.166313248989043,
             6.161207321695077,
             9.644975857384127,
             6.5638555265321274,
             9.239802082125802,
             4.624972813284271,
             6.818924065275521
            ],
            "sizemode": "area",
            "sizeref": 0.02718353458394048,
            "symbol": "circle"
           },
           "mode": "markers",
           "name": "",
           "showlegend": false,
           "type": "scattergeo"
          }
         ],
         "name": "1818"
        },
        {
         "data": [
          {
           "customdata": [
            [
             546
            ],
            [
             16
            ],
            [
             25
            ],
            [
             22316
            ],
            [
             404
            ],
            [
             531
            ],
            [
             916
            ],
            [
             966
            ],
            [
             3398
            ],
            [
             10514
            ],
            [
             22035
            ],
            [
             331
            ],
            [
             12
            ],
            [
             2725
            ],
            [
             13635
            ]
           ],
           "geo": "geo",
           "hovertemplate": "<b>%{hovertext}</b><br><br>Year voyage began=1819<br>normalized_sizes=%{marker.size}<br>Latitude=%{lat}<br>Longitude=%{lon}<br>Total slaves embarked imputed * (slaximp)=%{customdata[0]}<extra></extra>",
           "hovertext": [
            "Other Caribbean",
            "Puerto Rico",
            "Senegambia and offshore Atlantic",
            "Cuba",
            "French Guiana",
            "Guadaloupe",
            "Sierra Leone",
            "Martinique",
            "Amazonia",
            "Pernambuco",
            "Southeast Brazil",
            "Georgia",
            "Other French Caribbean",
            "Americas",
            "Bahia"
           ],
           "lat": [
            0,
            18.420959,
            14.14,
            23.115613,
            5.861294,
            16,
            8.1,
            14.6,
            -0.93323,
            -8.05,
            -23.48894,
            31.69,
            19.75778,
            0,
            -12.983333
           ],
           "legendgroup": "",
           "lon": [
            0,
            -66.070508,
            -17.93,
            -79.127686,
            -53.612239,
            -61.71667,
            -13.67,
            -61.083333,
            -43.235449,
            -34.9,
            -42.256021,
            -81.17,
            -72.20417,
            0,
            -38.516667
           ],
           "marker": {
            "color": "#636efa",
            "size": [
             6.302618975744905,
             2.772588722239781,
             3.2188758248682006,
             10.01305918896542,
             6.0014148779611505,
             6.274762021241939,
             6.82001636467413,
             6.873163834212518,
             8.130942302231878,
             9.260462981379394,
             10.000387377276088,
             5.802118375377063,
             2.4849066497880004,
             7.9102237070973445,
             9.52039529527969
            ],
            "sizemode": "area",
            "sizeref": 0.02718353458394048,
            "symbol": "circle"
           },
           "mode": "markers",
           "name": "",
           "showlegend": false,
           "type": "scattergeo"
          }
         ],
         "name": "1819"
        },
        {
         "data": [
          {
           "customdata": [
            [
             791
            ],
            [
             234
            ],
            [
             452
            ],
            [
             196
            ],
            [
             145
            ],
            [
             11057
            ],
            [
             675
            ],
            [
             29161
            ],
            [
             1816
            ],
            [
             1108
            ],
            [
             370
            ],
            [
             328
            ],
            [
             844
            ],
            [
             1627
            ],
            [
             9028
            ],
            [
             27434
            ]
           ],
           "geo": "geo",
           "hovertemplate": "<b>%{hovertext}</b><br><br>Year voyage began=1820<br>normalized_sizes=%{marker.size}<br>Latitude=%{lat}<br>Longitude=%{lon}<br>Total slaves embarked imputed * (slaximp)=%{customdata[0]}<extra></extra>",
           "hovertext": [
            "Dutch Guianas",
            "Other Caribbean",
            "Puerto Rico",
            "Codes without labels",
            "Antigua",
            "Bahia",
            "Sierra Leone",
            "Cuba",
            "Guadaloupe",
            "Amazonia",
            "Saint-Domingue",
            "French Guiana",
            "Other French Caribbean",
            "Martinique",
            "Pernambuco",
            "Southeast Brazil"
           ],
           "lat": [
            6.675248,
            0,
            18.420959,
            0,
            17.067453,
            -12.983333,
            8.1,
            23.115613,
            16,
            -0.93323,
            18.54,
            5.861294,
            19.75778,
            14.6,
            -8.05,
            -23.48894
           ],
           "legendgroup": "",
           "lon": [
            -55.251124,
            0,
            -66.070508,
            0,
            -61.784741,
            -38.516667,
            -13.67,
            -79.127686,
            -61.71667,
            -43.235449,
            -72.34,
            -53.612239,
            -72.20417,
            -61.083333,
            -34.9,
            -42.256021
           ],
           "marker": {
            "color": "#636efa",
            "size": [
             6.673297967767654,
             5.455321115357702,
             6.113682179832232,
             5.278114659230517,
             4.976733742420574,
             9.310818990542401,
             6.51471269087253,
             10.280587479087396,
             7.504391559161238,
             7.010311867307229,
             5.91350300563827,
             5.793013608384144,
             6.738152494595957,
             7.394493107219038,
             9.108086137937427,
             10.219538399038353
            ],
            "sizemode": "area",
            "sizeref": 0.02718353458394048,
            "symbol": "circle"
           },
           "mode": "markers",
           "name": "",
           "showlegend": false,
           "type": "scattergeo"
          }
         ],
         "name": "1820"
        },
        {
         "data": [
          {
           "customdata": [
            [
             2462
            ],
            [
             1383
            ],
            [
             2465
            ],
            [
             164
            ],
            [
             1469
            ],
            [
             30808
            ],
            [
             987
            ],
            [
             499
            ],
            [
             8865
            ],
            [
             170
            ],
            [
             9350
            ],
            [
             2062
            ],
            [
             14703
            ]
           ],
           "geo": "geo",
           "hovertemplate": "<b>%{hovertext}</b><br><br>Year voyage began=1821<br>normalized_sizes=%{marker.size}<br>Latitude=%{lat}<br>Longitude=%{lon}<br>Total slaves embarked imputed * (slaximp)=%{customdata[0]}<extra></extra>",
           "hovertext": [
            "Sierra Leone",
            "Americas",
            "Amazonia",
            "Dutch Guianas",
            "French Guiana",
            "Southeast Brazil",
            "Guadaloupe",
            "Other French Caribbean",
            "Pernambuco",
            "Other Caribbean",
            "Cuba",
            "Martinique",
            "Bahia"
           ],
           "lat": [
            8.1,
            0,
            -0.93323,
            6.675248,
            5.861294,
            -23.48894,
            16,
            19.75778,
            -8.05,
            0,
            23.115613,
            14.6,
            -12.983333
           ],
           "legendgroup": "",
           "lon": [
            -13.67,
            0,
            -43.235449,
            -55.251124,
            -53.612239,
            -42.256021,
            -61.71667,
            -72.20417,
            -34.9,
            0,
            -79.127686,
            -61.083333,
            -38.516667
           ],
           "marker": {
            "color": "#636efa",
            "size": [
             7.808729306744399,
             7.232010331664759,
             7.80994708647679,
             5.099866427824199,
             7.292337176173877,
             10.335529675494746,
             6.894670039433482,
             6.212606095751519,
             9.089866218508309,
             5.135798437050262,
             9.143131622282732,
             7.631431664576906,
             9.595806833577658
            ],
            "sizemode": "area",
            "sizeref": 0.02718353458394048,
            "symbol": "circle"
           },
           "mode": "markers",
           "name": "",
           "showlegend": false,
           "type": "scattergeo"
          }
         ],
         "name": "1821"
        },
        {
         "data": [
          {
           "customdata": [
            [
             1447
            ],
            [
             1512
            ],
            [
             3319
            ],
            [
             278
            ],
            [
             234
            ],
            [
             10044
            ],
            [
             28666
            ],
            [
             2091
            ],
            [
             1726
            ],
            [
             7168
            ],
            [
             273
            ],
            [
             607
            ],
            [
             739
            ],
            [
             10
            ],
            [
             3926
            ]
           ],
           "geo": "geo",
           "hovertemplate": "<b>%{hovertext}</b><br><br>Year voyage began=1822<br>normalized_sizes=%{marker.size}<br>Latitude=%{lat}<br>Longitude=%{lon}<br>Total slaves embarked imputed * (slaximp)=%{customdata[0]}<extra></extra>",
           "hovertext": [
            "Americas",
            "Other Caribbean",
            "Sierra Leone",
            "Other French Caribbean",
            "Bahamas",
            "Bahia",
            "Southeast Brazil",
            "Martinique",
            "Amazonia",
            "Cuba",
            "Puerto Rico",
            "Dutch Guianas",
            "Guadaloupe",
            "Senegambia and offshore Atlantic",
            "Pernambuco"
           ],
           "lat": [
            0,
            0,
            8.1,
            19.75778,
            22.783937,
            -12.983333,
            -23.48894,
            14.6,
            -0.93323,
            23.115613,
            18.420959,
            6.675248,
            16,
            14.14,
            -8.05
           ],
           "legendgroup": "",
           "lon": [
            0,
            0,
            -13.67,
            -72.20417,
            -74.303605,
            -38.516667,
            -42.256021,
            -61.083333,
            -43.235449,
            -79.127686,
            -66.070508,
            -55.251124,
            -61.71667,
            -17.93,
            -34.9
           ],
           "marker": {
            "color": "#636efa",
            "size": [
             7.277247726631484,
             7.321188556739478,
             8.107418811719974,
             5.627621113690637,
             5.455321115357702,
             9.214730720277476,
             10.263467030483161,
             7.645397699428633,
             7.453561871643373,
             8.877381954654766,
             5.60947179518496,
             6.408528791059498,
             6.6052979209482015,
             2.302585092994046,
             8.275376374836407
            ],
            "sizemode": "area",
            "sizeref": 0.02718353458394048,
            "symbol": "circle"
           },
           "mode": "markers",
           "name": "",
           "showlegend": false,
           "type": "scattergeo"
          }
         ],
         "name": "1822"
        },
        {
         "data": [
          {
           "customdata": [
            [
             1578
            ],
            [
             273
            ],
            [
             3753
            ],
            [
             617
            ],
            [
             4780
            ],
            [
             727
            ],
            [
             26700
            ],
            [
             352
            ],
            [
             730
            ],
            [
             449
            ],
            [
             507
            ],
            [
             55
            ],
            [
             5524
            ]
           ],
           "geo": "geo",
           "hovertemplate": "<b>%{hovertext}</b><br><br>Year voyage began=1823<br>normalized_sizes=%{marker.size}<br>Latitude=%{lat}<br>Longitude=%{lon}<br>Total slaves embarked imputed * (slaximp)=%{customdata[0]}<extra></extra>",
           "hovertext": [
            "Americas",
            "Martinique",
            "Bahia",
            "Amazonia",
            "Cuba",
            "Sierra Leone",
            "Southeast Brazil",
            "Dutch Guianas",
            "French Guiana",
            "Guadaloupe",
            "Danish West Indies",
            "Gold Coast",
            "Pernambuco"
           ],
           "lat": [
            0,
            14.6,
            -12.983333,
            -0.93323,
            23.115613,
            8.1,
            -23.48894,
            6.675248,
            5.861294,
            16,
            18,
            3.86,
            -8.05
           ],
           "legendgroup": "",
           "lon": [
            0,
            -61.083333,
            -38.516667,
            -43.235449,
            -79.127686,
            -13.67,
            -42.256021,
            -55.251124,
            -53.612239,
            -61.71667,
            -64.9,
            -1.93,
            -34.9
           ],
           "marker": {
            "color": "#636efa",
            "size": [
             7.363913501405819,
             5.60947179518496,
             8.23031079913502,
             6.424869023905388,
             8.472195825485501,
             6.588926477533519,
             10.19241884438834,
             5.863631175598097,
             6.593044534142437,
             6.1070228877422545,
             6.2285110035911835,
             4.007333185232471,
             8.616857514529183
            ],
            "sizemode": "area",
            "sizeref": 0.02718353458394048,
            "symbol": "circle"
           },
           "mode": "markers",
           "name": "",
           "showlegend": false,
           "type": "scattergeo"
          }
         ],
         "name": "1823"
        },
        {
         "data": [
          {
           "customdata": [
            [
             2617
            ],
            [
             33302
            ],
            [
             6932
            ],
            [
             273
            ],
            [
             209
            ],
            [
             183
            ],
            [
             1096
            ],
            [
             15279
            ],
            [
             258
            ],
            [
             273
            ],
            [
             918
            ],
            [
             319
            ],
            [
             2910
            ],
            [
             2187
            ]
           ],
           "geo": "geo",
           "hovertemplate": "<b>%{hovertext}</b><br><br>Year voyage began=1824<br>normalized_sizes=%{marker.size}<br>Latitude=%{lat}<br>Longitude=%{lon}<br>Total slaves embarked imputed * (slaximp)=%{customdata[0]}<extra></extra>",
           "hovertext": [
            "Pernambuco",
            "Southeast Brazil",
            "Bahia",
            "French Guiana",
            "Other French Caribbean",
            "Martinique",
            "Guadaloupe",
            "Cuba",
            "Dutch Guianas",
            "Other Caribbean",
            "Puerto Rico",
            "Danish West Indies",
            "Americas",
            "Sierra Leone"
           ],
           "lat": [
            -8.05,
            -23.48894,
            -12.983333,
            5.861294,
            19.75778,
            14.6,
            16,
            23.115613,
            6.675248,
            0,
            18.420959,
            18,
            0,
            8.1
           ],
           "legendgroup": "",
           "lon": [
            -34.9,
            -42.256021,
            -38.516667,
            -53.612239,
            -72.20417,
            -61.083333,
            -61.71667,
            -79.127686,
            -55.251124,
            0,
            -66.070508,
            -64.9,
            0,
            -13.67
           ],
           "marker": {
            "color": "#636efa",
            "size": [
             7.869783902530146,
             10.413372734225062,
             8.843903650835497,
             5.60947179518496,
             5.342334251964811,
             5.209486152841421,
             6.999422467507961,
             9.634234615552714,
             5.552959584921617,
             5.60947179518496,
             6.822197390620491,
             5.765191102784844,
             7.975908360165538,
             7.690286020676768
            ],
            "sizemode": "area",
            "sizeref": 0.02718353458394048,
            "symbol": "circle"
           },
           "mode": "markers",
           "name": "",
           "showlegend": false,
           "type": "scattergeo"
          }
         ],
         "name": "1824"
        },
        {
         "data": [
          {
           "customdata": [
            [
             400
            ],
            [
             12908
            ],
            [
             490
            ],
            [
             250
            ],
            [
             21107
            ],
            [
             1469
            ],
            [
             732
            ],
            [
             7899
            ],
            [
             5605
            ],
            [
             1191
            ],
            [
             183
            ],
            [
             8670
            ],
            [
             4140
            ],
            [
             638
            ],
            [
             281
            ]
           ],
           "geo": "geo",
           "hovertemplate": "<b>%{hovertext}</b><br><br>Year voyage began=1825<br>normalized_sizes=%{marker.size}<br>Latitude=%{lat}<br>Longitude=%{lon}<br>Total slaves embarked imputed * (slaximp)=%{customdata[0]}<extra></extra>",
           "hovertext": [
            "Dutch Guianas",
            "Cuba",
            "Puerto Rico",
            "French Guiana",
            "Southeast Brazil",
            "Amazonia",
            "Martinique",
            "Pernambuco",
            "Americas",
            "Danish West Indies",
            "Other Caribbean",
            "Bahia",
            "Sierra Leone",
            "Rio de la Plata",
            "Bahamas"
           ],
           "lat": [
            6.675248,
            23.115613,
            18.420959,
            5.861294,
            -23.48894,
            -0.93323,
            14.6,
            -8.05,
            0,
            18,
            0,
            -12.983333,
            8.1,
            -33.332605,
            22.783937
           ],
           "legendgroup": "",
           "lon": [
            -55.251124,
            -79.127686,
            -66.070508,
            -53.612239,
            -42.256021,
            -43.235449,
            -61.083333,
            -34.9,
            0,
            -64.9,
            0,
            -38.516667,
            -13.67,
            -58.498255,
            -74.303605
           ],
           "marker": {
            "color": "#636efa",
            "size": [
             5.991464547107982,
             9.465602553171852,
             6.194405391104672,
             5.521460917862246,
             9.957360018000617,
             7.292337176173877,
             6.595780513961311,
             8.97449144816442,
             8.63141433550626,
             7.0825485693553,
             5.209486152841421,
             9.067624069774588,
             8.32845106681936,
             6.45833828334479,
             5.638354669333745
            ],
            "sizemode": "area",
            "sizeref": 0.02718353458394048,
            "symbol": "circle"
           },
           "mode": "markers",
           "name": "",
           "showlegend": false,
           "type": "scattergeo"
          }
         ],
         "name": "1825"
        },
        {
         "data": [
          {
           "customdata": [
            [
             809
            ],
            [
             1258
            ],
            [
             3582
            ],
            [
             1695
            ],
            [
             6200
            ],
            [
             9323
            ],
            [
             13808
            ],
            [
             48523
            ],
            [
             1034
            ],
            [
             490
            ],
            [
             1867
            ]
           ],
           "geo": "geo",
           "hovertemplate": "<b>%{hovertext}</b><br><br>Year voyage began=1826<br>normalized_sizes=%{marker.size}<br>Latitude=%{lat}<br>Longitude=%{lon}<br>Total slaves embarked imputed * (slaximp)=%{customdata[0]}<extra></extra>",
           "hovertext": [
            "Danish West Indies",
            "Amazonia",
            "Sierra Leone",
            "Martinique",
            "Pernambuco",
            "Cuba",
            "Bahia",
            "Southeast Brazil",
            "French Guiana",
            "Rio de la Plata",
            "Americas"
           ],
           "lat": [
            18,
            -0.93323,
            8.1,
            14.6,
            -8.05,
            23.115613,
            -12.983333,
            -23.48894,
            5.861294,
            -33.332605,
            0
           ],
           "legendgroup": "",
           "lon": [
            -64.9,
            -43.235449,
            -13.67,
            -61.083333,
            -34.9,
            -79.127686,
            -38.516667,
            -42.256021,
            -53.612239,
            -58.498255,
            0
           ],
           "marker": {
            "color": "#636efa",
            "size": [
             6.695798917058491,
             7.1372784372603855,
             8.183676582620658,
             7.43543801981455,
             8.732304571033183,
             9.140239744296693,
             9.53300341332321,
             10.789793191319704,
             6.9411900550683745,
             6.194405391104672,
             7.532088143541722
            ],
            "sizemode": "area",
            "sizeref": 0.02718353458394048,
            "symbol": "circle"
           },
           "mode": "markers",
           "name": "",
           "showlegend": false,
           "type": "scattergeo"
          }
         ],
         "name": "1826"
        },
        {
         "data": [
          {
           "customdata": [
            [
             14111
            ],
            [
             1675
            ],
            [
             5961
            ],
            [
             452
            ],
            [
             1127
            ],
            [
             2441
            ],
            [
             861
            ],
            [
             43811
            ],
            [
             234
            ],
            [
             10988
            ],
            [
             1761
            ],
            [
             281
            ]
           ],
           "geo": "geo",
           "hovertemplate": "<b>%{hovertext}</b><br><br>Year voyage began=1827<br>normalized_sizes=%{marker.size}<br>Latitude=%{lat}<br>Longitude=%{lon}<br>Total slaves embarked imputed * (slaximp)=%{customdata[0]}<extra></extra>",
           "hovertext": [
            "Bahia",
            "Amazonia",
            "Pernambuco",
            "Other Brazil",
            "Rio de la Plata",
            "Sierra Leone",
            "Martinique",
            "Southeast Brazil",
            "Bight of Biafra and Gulf of Guinea islands",
            "Cuba",
            "Americas",
            "Other Caribbean"
           ],
           "lat": [
            -12.983333,
            -0.93323,
            -8.05,
            -18.864582,
            -33.332605,
            8.1,
            14.6,
            -23.48894,
            4.17,
            23.115613,
            0,
            0
           ],
           "legendgroup": "",
           "lon": [
            -38.516667,
            -43.235449,
            -34.9,
            -39.75489,
            -58.498255,
            -13.67,
            -61.083333,
            -42.256021,
            8.31,
            -79.127686,
            0,
            0
           ],
           "marker": {
            "color": "#636efa",
            "size": [
             9.55470991405776,
             7.423568444259167,
             8.692993531219926,
             6.113682179832232,
             7.027314514039777,
             7.80016307039296,
             6.7580945044277305,
             10.687640206386288,
             5.455321115357702,
             9.304559047215164,
             7.473637108496206,
             5.638354669333745
            ],
            "sizemode": "area",
            "sizeref": 0.02718353458394048,
            "symbol": "circle"
           },
           "mode": "markers",
           "name": "",
           "showlegend": false,
           "type": "scattergeo"
          }
         ],
         "name": "1827"
        },
        {
         "data": [
          {
           "customdata": [
            [
             240
            ],
            [
             16812
            ],
            [
             52361
            ],
            [
             762
            ],
            [
             309
            ],
            [
             535
            ],
            [
             5471
            ],
            [
             2461
            ],
            [
             8348
            ],
            [
             3640
            ],
            [
             100
            ]
           ],
           "geo": "geo",
           "hovertemplate": "<b>%{hovertext}</b><br><br>Year voyage began=1828<br>normalized_sizes=%{marker.size}<br>Latitude=%{lat}<br>Longitude=%{lon}<br>Total slaves embarked imputed * (slaximp)=%{customdata[0]}<extra></extra>",
           "hovertext": [
            "French Guiana",
            "Cuba",
            "Southeast Brazil",
            "Amazonia",
            "Guadaloupe",
            "Puerto Rico",
            "Sierra Leone",
            "Martinique",
            "Bahia",
            "Pernambuco",
            "Senegambia and offshore Atlantic"
           ],
           "lat": [
            5.861294,
            23.115613,
            -23.48894,
            -0.93323,
            16,
            18.420959,
            8.1,
            14.6,
            -12.983333,
            -8.05,
            14.14
           ],
           "legendgroup": "",
           "lon": [
            -53.612239,
            -79.127686,
            -42.256021,
            -43.235449,
            -61.71667,
            -66.070508,
            -13.67,
            -61.083333,
            -38.516667,
            -34.9,
            -17.93
           ],
           "marker": {
            "color": "#636efa",
            "size": [
             5.480638923341991,
             9.729848196125007,
             10.865917318389972,
             6.635946555686647,
             5.733341276897746,
             6.282266746896006,
             8.607216694063826,
             7.8083230503910555,
             9.029777268197092,
             8.199738960630786,
             4.605170185988092
            ],
            "sizemode": "area",
            "sizeref": 0.02718353458394048,
            "symbol": "circle"
           },
           "mode": "markers",
           "name": "",
           "showlegend": false,
           "type": "scattergeo"
          }
         ],
         "name": "1828"
        },
        {
         "data": [
          {
           "customdata": [
            [
             8045
            ],
            [
             19284
            ],
            [
             1008
            ],
            [
             36525
            ],
            [
             21105
            ],
            [
             250
            ],
            [
             19
            ],
            [
             1423
            ],
            [
             490
            ],
            [
             485
            ],
            [
             307
            ],
            [
             6581
            ]
           ],
           "geo": "geo",
           "hovertemplate": "<b>%{hovertext}</b><br><br>Year voyage began=1829<br>normalized_sizes=%{marker.size}<br>Latitude=%{lat}<br>Longitude=%{lon}<br>Total slaves embarked imputed * (slaximp)=%{customdata[0]}<extra></extra>",
           "hovertext": [
            "Pernambuco",
            "Bahia",
            "Guadaloupe",
            "Southeast Brazil",
            "Cuba",
            "St. Barthélemy (Sweden)",
            "Amazonia",
            "Martinique",
            "French Guiana",
            "Americas",
            "Senegambia and offshore Atlantic",
            "Sierra Leone"
           ],
           "lat": [
            -8.05,
            -12.983333,
            16,
            -23.48894,
            23.115613,
            17.9,
            -0.93323,
            14.6,
            5.861294,
            0,
            14.14,
            8.1
           ],
           "legendgroup": "",
           "lon": [
            -34.9,
            -38.516667,
            -61.71667,
            -42.256021,
            -79.127686,
            -62.85,
            -43.235449,
            -61.083333,
            -53.612239,
            0,
            -17.93,
            -13.67
           ],
           "marker": {
            "color": "#636efa",
            "size": [
             8.992806059426483,
             9.867031015525512,
             6.915723448631314,
             10.5057522366189,
             9.9572652582166,
             5.521460917862246,
             2.9444389791664403,
             7.260522598089852,
             6.194405391104672,
             6.184148890937483,
             5.726847747587197,
             8.791941988456118
            ],
            "sizemode": "area",
            "sizeref": 0.02718353458394048,
            "symbol": "circle"
           },
           "mode": "markers",
           "name": "",
           "showlegend": false,
           "type": "scattergeo"
          }
         ],
         "name": "1829"
        },
        {
         "data": [
          {
           "customdata": [
            [
             3838
            ],
            [
             586
            ],
            [
             285
            ],
            [
             4047
            ],
            [
             3602
            ],
            [
             642
            ],
            [
             3308
            ],
            [
             200
            ],
            [
             12876
            ],
            [
             175
            ],
            [
             1987
            ],
            [
             490
            ],
            [
             95
            ],
            [
             31078
            ]
           ],
           "geo": "geo",
           "hovertemplate": "<b>%{hovertext}</b><br><br>Year voyage began=1830<br>normalized_sizes=%{marker.size}<br>Latitude=%{lat}<br>Longitude=%{lon}<br>Total slaves embarked imputed * (slaximp)=%{customdata[0]}<extra></extra>",
           "hovertext": [
            "Bahia",
            "Senegambia and offshore Atlantic",
            "Other Caribbean",
            "Pernambuco",
            "Sierra Leone",
            "Guadaloupe",
            "Americas",
            "Martinique",
            "Cuba",
            "Bahamas",
            "Amazonia",
            "Danish West Indies",
            "Gulf coast",
            "Southeast Brazil"
           ],
           "lat": [
            -12.983333,
            14.14,
            0,
            -8.05,
            8.1,
            16,
            0,
            14.6,
            23.115613,
            22.783937,
            -0.93323,
            18,
            29.8,
            -23.48894
           ],
           "legendgroup": "",
           "lon": [
            -38.516667,
            -17.93,
            0,
            -34.9,
            -13.67,
            -61.71667,
            0,
            -61.083333,
            -79.127686,
            -74.303605,
            -43.235449,
            -64.9,
            -89.56,
            -42.256021
           ],
           "marker": {
            "color": "#636efa",
            "size": [
             8.252706676567644,
             6.373319789577012,
             5.652489180268651,
             8.305731144875866,
             8.189244525735901,
             6.464588303689961,
             8.104099056143582,
             5.298317366548036,
             9.463120392418698,
             5.1647859739235145,
             7.594381242551817,
             6.194405391104672,
             4.553876891600541,
             10.34425545234668
            ],
            "sizemode": "area",
            "sizeref": 0.02718353458394048,
            "symbol": "circle"
           },
           "mode": "markers",
           "name": "",
           "showlegend": false,
           "type": "scattergeo"
          }
         ],
         "name": "1830"
        },
        {
         "data": [
          {
           "customdata": [
            [
             307
            ],
            [
             12352
            ],
            [
             1385
            ],
            [
             535
            ],
            [
             3532
            ],
            [
             179
            ],
            [
             980
            ]
           ],
           "geo": "geo",
           "hovertemplate": "<b>%{hovertext}</b><br><br>Year voyage began=1831<br>normalized_sizes=%{marker.size}<br>Latitude=%{lat}<br>Longitude=%{lon}<br>Total slaves embarked imputed * (slaximp)=%{customdata[0]}<extra></extra>",
           "hovertext": [
            "Guadaloupe",
            "Cuba",
            "Sierra Leone",
            "Americas",
            "Pernambuco",
            "Amazonia",
            "Bahia"
           ],
           "lat": [
            16,
            23.115613,
            8.1,
            0,
            -8.05,
            -0.93323,
            -12.983333
           ],
           "legendgroup": "",
           "lon": [
            -61.71667,
            -79.127686,
            -13.67,
            0,
            -34.9,
            -43.235449,
            -38.516667
           ],
           "marker": {
            "color": "#636efa",
            "size": [
             5.726847747587197,
             9.421573272264558,
             7.233455418621439,
             6.282266746896006,
             8.16961956172385,
             5.187385805840755,
             6.887552571664617
            ],
            "sizemode": "area",
            "sizeref": 0.02718353458394048,
            "symbol": "circle"
           },
           "mode": "markers",
           "name": "",
           "showlegend": false,
           "type": "scattergeo"
          }
         ],
         "name": "1831"
        },
        {
         "data": [
          {
           "customdata": [
            [
             584
            ],
            [
             1526
            ],
            [
             432
            ],
            [
             14904
            ],
            [
             201
            ],
            [
             980
            ]
           ],
           "geo": "geo",
           "hovertemplate": "<b>%{hovertext}</b><br><br>Year voyage began=1832<br>normalized_sizes=%{marker.size}<br>Latitude=%{lat}<br>Longitude=%{lon}<br>Total slaves embarked imputed * (slaximp)=%{customdata[0]}<extra></extra>",
           "hovertext": [
            "Southeast Brazil",
            "Sierra Leone",
            "Bahamas",
            "Cuba",
            "Trinidad",
            "Pernambuco"
           ],
           "lat": [
            -23.48894,
            8.1,
            22.783937,
            23.115613,
            10.65,
            -8.05
           ],
           "legendgroup": "",
           "lon": [
            -42.256021,
            -13.67,
            -74.303605,
            -79.127686,
            -61.516667,
            -34.9
           ],
           "marker": {
            "color": "#636efa",
            "size": [
             6.369900982828227,
             7.330405211844402,
             6.068425588244111,
             9.609384912281424,
             5.303304908059076,
             6.887552571664617
            ],
            "sizemode": "area",
            "sizeref": 0.02718353458394048,
            "symbol": "circle"
           },
           "mode": "markers",
           "name": "",
           "showlegend": false,
           "type": "scattergeo"
          }
         ],
         "name": "1832"
        },
        {
         "data": [
          {
           "customdata": [
            [
             303
            ],
            [
             1709
            ],
            [
             239
            ],
            [
             1779
            ],
            [
             16166
            ],
            [
             1754
            ],
            [
             794
            ],
            [
             266
            ]
           ],
           "geo": "geo",
           "hovertemplate": "<b>%{hovertext}</b><br><br>Year voyage began=1833<br>normalized_sizes=%{marker.size}<br>Latitude=%{lat}<br>Longitude=%{lon}<br>Total slaves embarked imputed * (slaximp)=%{customdata[0]}<extra></extra>",
           "hovertext": [
            "Jamaica",
            "Sierra Leone",
            "Bahamas",
            "Bahia",
            "Cuba",
            "Southeast Brazil",
            "Pernambuco",
            "Rio de la Plata"
           ],
           "lat": [
            17.881263,
            8.1,
            22.783937,
            -12.983333,
            23.115613,
            -23.48894,
            -8.05,
            -33.332605
           ],
           "legendgroup": "",
           "lon": [
            -76.522778,
            -13.67,
            -74.303605,
            -38.516667,
            -79.127686,
            -42.256021,
            -34.9,
            -58.498255
           ],
           "marker": {
            "color": "#636efa",
            "size": [
             5.713732805509369,
             7.443663683115591,
             5.476463551931511,
             7.483806687665835,
             9.69066555029379,
             7.469654172932128,
             6.677083461247136,
             5.583496308781699
            ],
            "sizemode": "area",
            "sizeref": 0.02718353458394048,
            "symbol": "circle"
           },
           "mode": "markers",
           "name": "",
           "showlegend": false,
           "type": "scattergeo"
          }
         ],
         "name": "1833"
        },
        {
         "data": [
          {
           "customdata": [
            [
             833
            ],
            [
             307
            ],
            [
             4955
            ],
            [
             255
            ],
            [
             5295
            ],
            [
             278
            ],
            [
             184
            ],
            [
             22186
            ]
           ],
           "geo": "geo",
           "hovertemplate": "<b>%{hovertext}</b><br><br>Year voyage began=1834<br>normalized_sizes=%{marker.size}<br>Latitude=%{lat}<br>Longitude=%{lon}<br>Total slaves embarked imputed * (slaximp)=%{customdata[0]}<extra></extra>",
           "hovertext": [
            "Rio de la Plata",
            "Puerto Rico",
            "Southeast Brazil",
            "Bahia",
            "Sierra Leone",
            "Americas",
            "Bahamas",
            "Cuba"
           ],
           "lat": [
            -33.332605,
            18.420959,
            -23.48894,
            -12.983333,
            8.1,
            0,
            22.783937,
            23.115613
           ],
           "legendgroup": "",
           "lon": [
            -58.498255,
            -66.070508,
            -42.256021,
            -38.516667,
            -13.67,
            0,
            -74.303605,
            -79.127686
           ],
           "marker": {
            "color": "#636efa",
            "size": [
             6.725033642166843,
             5.726847747587197,
             8.508152446764088,
             5.541263545158426,
             8.574518258035507,
             5.627621113690637,
             5.214935757608986,
             10.007216738298604
            ],
            "sizemode": "area",
            "sizeref": 0.02718353458394048,
            "symbol": "circle"
           },
           "mode": "markers",
           "name": "",
           "showlegend": false,
           "type": "scattergeo"
          }
         ],
         "name": "1834"
        },
        {
         "data": [
          {
           "customdata": [
            [
             26983
            ],
            [
             751
            ],
            [
             554
            ],
            [
             295
            ],
            [
             9326
            ],
            [
             4562
            ],
            [
             2036
            ]
           ],
           "geo": "geo",
           "hovertemplate": "<b>%{hovertext}</b><br><br>Year voyage began=1835<br>normalized_sizes=%{marker.size}<br>Latitude=%{lat}<br>Longitude=%{lon}<br>Total slaves embarked imputed * (slaximp)=%{customdata[0]}<extra></extra>",
           "hovertext": [
            "Cuba",
            "Rio de la Plata",
            "Amazonia",
            "British Honduras",
            "Southeast Brazil",
            "Sierra Leone",
            "Bahia"
           ],
           "lat": [
            23.115613,
            -33.332605,
            -0.93323,
            15.79,
            -23.48894,
            8.1,
            -12.983333
           ],
           "legendgroup": "",
           "lon": [
            -79.127686,
            -58.498255,
            -43.235449,
            -86.3,
            -42.256021,
            -13.67,
            -38.516667
           ],
           "marker": {
            "color": "#636efa",
            "size": [
             10.20296231705686,
             6.621405651764134,
             6.317164686747284,
             5.68697535633982,
             9.140561477368266,
             8.425516402844334,
             7.618742377670413
            ],
            "sizemode": "area",
            "sizeref": 0.02718353458394048,
            "symbol": "circle"
           },
           "mode": "markers",
           "name": "",
           "showlegend": false,
           "type": "scattergeo"
          }
         ],
         "name": "1835"
        },
        {
         "data": [
          {
           "customdata": [
            [
             324
            ],
            [
             7611
            ],
            [
             24696
            ],
            [
             1536
            ],
            [
             1302
            ],
            [
             760
            ],
            [
             208
            ],
            [
             18668
            ],
            [
             1151
            ],
            [
             2337
            ]
           ],
           "geo": "geo",
           "hovertemplate": "<b>%{hovertext}</b><br><br>Year voyage began=1836<br>normalized_sizes=%{marker.size}<br>Latitude=%{lat}<br>Longitude=%{lon}<br>Total slaves embarked imputed * (slaximp)=%{customdata[0]}<extra></extra>",
           "hovertext": [
            "Jamaica",
            "Sierra Leone",
            "Southeast Brazil",
            "Pernambuco",
            "Bahamas",
            "Americas",
            "British Honduras",
            "Cuba",
            "Grenada",
            "Bahia"
           ],
           "lat": [
            17.881263,
            8.1,
            -23.48894,
            -8.05,
            22.783937,
            0,
            15.79,
            23.115613,
            12.05,
            -12.983333
           ],
           "legendgroup": "",
           "lon": [
            -76.522778,
            -13.67,
            -42.256021,
            -34.9,
            -74.303605,
            0,
            -86.3,
            -79.127686,
            -61.75,
            -38.516667
           ],
           "marker": {
            "color": "#636efa",
            "size": [
             5.780743515792329,
             8.937349848267392,
             10.114396566181995,
             7.336936913707618,
             7.171656822768514,
             6.633318433280377,
             5.337538079701318,
             9.834566107069707,
             7.048386408721883,
             7.756623334538858
            ],
            "sizemode": "area",
            "sizeref": 0.02718353458394048,
            "symbol": "circle"
           },
           "mode": "markers",
           "name": "",
           "showlegend": false,
           "type": "scattergeo"
          }
         ],
         "name": "1836"
        },
        {
         "data": [
          {
           "customdata": [
            [
             924
            ],
            [
             439
            ],
            [
             25047
            ],
            [
             4057
            ],
            [
             4511
            ],
            [
             2108
            ],
            [
             1020
            ],
            [
             278
            ],
            [
             42706
            ],
            [
             489
            ]
           ],
           "geo": "geo",
           "hovertemplate": "<b>%{hovertext}</b><br><br>Year voyage began=1837<br>normalized_sizes=%{marker.size}<br>Latitude=%{lat}<br>Longitude=%{lon}<br>Total slaves embarked imputed * (slaximp)=%{customdata[0]}<extra></extra>",
           "hovertext": [
            "Pernambuco",
            "Barbados",
            "Cuba",
            "Sierra Leone",
            "Bahia",
            "Bahamas",
            "Jamaica",
            "Puerto Rico",
            "Southeast Brazil",
            "Dominica"
           ],
           "lat": [
            -8.05,
            13.1,
            23.115613,
            8.1,
            -12.983333,
            22.783937,
            17.881263,
            18.420959,
            -23.48894,
            15.3
           ],
           "legendgroup": "",
           "lon": [
            -34.9,
            -59.616667,
            -79.127686,
            -13.67,
            -38.516667,
            -74.303605,
            -76.522778,
            -66.070508,
            -42.256021,
            -61.4
           ],
           "marker": {
            "color": "#636efa",
            "size": [
             6.828712071641684,
             6.0844994130751715,
             10.128509338862111,
             8.308199063206446,
             8.414274137408396,
             7.653494909661253,
             6.927557906278317,
             5.627621113690637,
             10.66209470456786,
             6.192362489474872
            ],
            "sizemode": "area",
            "sizeref": 0.02718353458394048,
            "symbol": "circle"
           },
           "mode": "markers",
           "name": "",
           "showlegend": false,
           "type": "scattergeo"
          }
         ],
         "name": "1837"
        },
        {
         "data": [
          {
           "customdata": [
            [
             490
            ],
            [
             305
            ],
            [
             2777
            ],
            [
             42440
            ],
            [
             25243
            ],
            [
             747
            ],
            [
             307
            ],
            [
             278
            ],
            [
             138
            ],
            [
             2853
            ]
           ],
           "geo": "geo",
           "hovertemplate": "<b>%{hovertext}</b><br><br>Year voyage began=1838<br>normalized_sizes=%{marker.size}<br>Latitude=%{lat}<br>Longitude=%{lon}<br>Total slaves embarked imputed * (slaximp)=%{customdata[0]}<extra></extra>",
           "hovertext": [
            "Pernambuco",
            "British Honduras",
            "Sierra Leone",
            "Southeast Brazil",
            "Cuba",
            "Bahamas",
            "Danish West Indies",
            "Puerto Rico",
            "Amazonia",
            "Bahia"
           ],
           "lat": [
            -8.05,
            15.79,
            8.1,
            -23.48894,
            23.115613,
            22.783937,
            18,
            18.420959,
            -0.93323,
            -12.983333
           ],
           "legendgroup": "",
           "lon": [
            -34.9,
            -86.3,
            -13.67,
            -42.256021,
            -79.127686,
            -74.303605,
            -64.9,
            -66.070508,
            -43.235449,
            -38.516667
           ],
           "marker": {
            "color": "#636efa",
            "size": [
             6.194405391104672,
             5.720311776607412,
             7.9291264873067995,
             10.655846592727919,
             10.136304168546024,
             6.616065185132817,
             5.726847747587197,
             5.627621113690637,
             4.927253685157205,
             7.9561263512135
            ],
            "sizemode": "area",
            "sizeref": 0.02718353458394048,
            "symbol": "circle"
           },
           "mode": "markers",
           "name": "",
           "showlegend": false,
           "type": "scattergeo"
          }
         ],
         "name": "1838"
        },
        {
         "data": [
          {
           "customdata": [
            [
             4572
            ],
            [
             52755
            ],
            [
             19034
            ],
            [
             1392
            ],
            [
             1138
            ],
            [
             6517
            ],
            [
             210
            ],
            [
             289
            ],
            [
             1500
            ]
           ],
           "geo": "geo",
           "hovertemplate": "<b>%{hovertext}</b><br><br>Year voyage began=1839<br>normalized_sizes=%{marker.size}<br>Latitude=%{lat}<br>Longitude=%{lon}<br>Total slaves embarked imputed * (slaximp)=%{customdata[0]}<extra></extra>",
           "hovertext": [
            "Bahia",
            "Southeast Brazil",
            "Cuba",
            "Southeast Africa and Indian Ocean islands",
            "Jamaica",
            "Pernambuco",
            "Amazonia",
            "Americas",
            "Sierra Leone"
           ],
           "lat": [
            -12.983333,
            -23.48894,
            23.115613,
            -17.14,
            17.881263,
            -8.05,
            -0.93323,
            0,
            8.1
           ],
           "legendgroup": "",
           "lon": [
            -38.516667,
            -42.256021,
            -79.127686,
            39.51,
            -76.522778,
            -34.9,
            -43.235449,
            0,
            -13.67
           ],
           "marker": {
            "color": "#636efa",
            "size": [
             8.427706024914702,
             10.873413833576192,
             9.85398213263229,
             7.238496840894365,
             7.037027614686276,
             8.78216942633238,
             5.3471075307174685,
             5.666426688112432,
             7.313220387090301
            ],
            "sizemode": "area",
            "sizeref": 0.02718353458394048,
            "symbol": "circle"
           },
           "mode": "markers",
           "name": "",
           "showlegend": false,
           "type": "scattergeo"
          }
         ],
         "name": "1839"
        },
        {
         "data": [
          {
           "customdata": [
            [
             8647
            ],
            [
             26771
            ],
            [
             1332
            ],
            [
             2863
            ],
            [
             1399
            ],
            [
             247
            ],
            [
             18259
            ],
            [
             860
            ],
            [
             18
            ]
           ],
           "geo": "geo",
           "hovertemplate": "<b>%{hovertext}</b><br><br>Year voyage began=1840<br>normalized_sizes=%{marker.size}<br>Latitude=%{lat}<br>Longitude=%{lon}<br>Total slaves embarked imputed * (slaximp)=%{customdata[0]}<extra></extra>",
           "hovertext": [
            "Pernambuco",
            "Southeast Brazil",
            "Amazonia",
            "Bahia",
            "Puerto Rico",
            "West Central Africa and St. Helena",
            "Cuba",
            "Sierra Leone",
            "Southeast Africa and Indian Ocean islands"
           ],
           "lat": [
            -8.05,
            -23.48894,
            -0.93323,
            -12.983333,
            18.420959,
            -7.71,
            23.115613,
            8.1,
            -17.14
           ],
           "legendgroup": "",
           "lon": [
            -34.9,
            -42.256021,
            -43.235449,
            -38.516667,
            -66.070508,
            11.19,
            -79.127686,
            -13.67,
            39.51
           ],
           "marker": {
            "color": "#636efa",
            "size": [
             9.06496771896043,
             10.195074491065121,
             7.194436851100335,
             7.959625305098115,
             7.243512974665482,
             5.5093883366279774,
             9.812413388136733,
             6.756932389247553,
             2.8903717578961645
            ],
            "sizemode": "area",
            "sizeref": 0.02718353458394048,
            "symbol": "circle"
           },
           "mode": "markers",
           "name": "",
           "showlegend": false,
           "type": "scattergeo"
          }
         ],
         "name": "1840"
        },
        {
         "data": [
          {
           "customdata": [
            [
             17407
            ],
            [
             350
            ],
            [
             18689
            ],
            [
             1037
            ],
            [
             291
            ],
            [
             2549
            ],
            [
             2194
            ],
            [
             1462
            ],
            [
             215
            ],
            [
             4023
            ]
           ],
           "geo": "geo",
           "hovertemplate": "<b>%{hovertext}</b><br><br>Year voyage began=1841<br>normalized_sizes=%{marker.size}<br>Latitude=%{lat}<br>Longitude=%{lon}<br>Total slaves embarked imputed * (slaximp)=%{customdata[0]}<extra></extra>",
           "hovertext": [
            "Cuba",
            "Southeast Africa and Indian Ocean islands",
            "Southeast Brazil",
            "Americas",
            "Sierra Leone",
            "Pernambuco",
            "Bahia",
            "Amazonia",
            "Bahamas",
            "West Central Africa and St. Helena"
           ],
           "lat": [
            23.115613,
            -17.14,
            -23.48894,
            0,
            8.1,
            -8.05,
            -12.983333,
            -0.93323,
            22.783937,
            -7.71
           ],
           "legendgroup": "",
           "lon": [
            -79.127686,
            39.51,
            -42.256021,
            0,
            -13.67,
            -34.9,
            -38.516667,
            -43.235449,
            -74.303605,
            11.19
           ],
           "marker": {
            "color": "#636efa",
            "size": [
             9.764627703152708,
             5.857933154483459,
             9.835690394470303,
             6.9440872082295275,
             5.673323267171493,
             7.8434564043761155,
             7.693481640835175,
             7.2875606403097235,
             5.3706380281276624,
             8.299783171949787
            ],
            "sizemode": "area",
            "sizeref": 0.02718353458394048,
            "symbol": "circle"
           },
           "mode": "markers",
           "name": "",
           "showlegend": false,
           "type": "scattergeo"
          }
         ],
         "name": "1841"
        },
        {
         "data": [
          {
           "customdata": [
            [
             18380
            ],
            [
             2006
            ],
            [
             4151
            ],
            [
             1647
            ],
            [
             451
            ],
            [
             1282
            ],
            [
             377
            ],
            [
             490
            ],
            [
             6148
            ],
            [
             797
            ]
           ],
           "geo": "geo",
           "hovertemplate": "<b>%{hovertext}</b><br><br>Year voyage began=1842<br>normalized_sizes=%{marker.size}<br>Latitude=%{lat}<br>Longitude=%{lon}<br>Total slaves embarked imputed * (slaximp)=%{customdata[0]}<extra></extra>",
           "hovertext": [
            "Southeast Brazil",
            "West Central Africa and St. Helena",
            "Bahia",
            "Pernambuco",
            "Sierra Leone",
            "Americas",
            "British Guiana",
            "Puerto Rico",
            "Cuba",
            "Amazonia"
           ],
           "lat": [
            -23.48894,
            -7.71,
            -12.983333,
            -8.05,
            8.1,
            0,
            7.615531,
            18.420959,
            23.115613,
            -0.93323
           ],
           "legendgroup": "",
           "lon": [
            -42.256021,
            11.19,
            -38.516667,
            -34.9,
            -13.67,
            0,
            -57.958937,
            -66.070508,
            -79.127686,
            -43.235449
           ],
           "marker": {
            "color": "#636efa",
            "size": [
             9.819018395909678,
             7.603897968521881,
             8.33110454805304,
             7.4067107301776405,
             6.111467339502679,
             7.156176637480615,
             5.932245187448011,
             6.194405391104672,
             8.723882104658486,
             6.680854678790215
            ],
            "sizemode": "area",
            "sizeref": 0.02718353458394048,
            "symbol": "circle"
           },
           "mode": "markers",
           "name": "",
           "showlegend": false,
           "type": "scattergeo"
          }
         ],
         "name": "1842"
        },
        {
         "data": [
          {
           "customdata": [
            [
             7353
            ],
            [
             20121
            ],
            [
             1010
            ],
            [
             782
            ],
            [
             3512
            ],
            [
             2250
            ],
            [
             1694
            ]
           ],
           "geo": "geo",
           "hovertemplate": "<b>%{hovertext}</b><br><br>Year voyage began=1843<br>normalized_sizes=%{marker.size}<br>Latitude=%{lat}<br>Longitude=%{lon}<br>Total slaves embarked imputed * (slaximp)=%{customdata[0]}<extra></extra>",
           "hovertext": [
            "Cuba",
            "Southeast Brazil",
            "Pernambuco",
            "West Central Africa and St. Helena",
            "Bahia",
            "Southeast Africa and Indian Ocean islands",
            "Sierra Leone"
           ],
           "lat": [
            23.115613,
            -23.48894,
            -8.05,
            -7.71,
            -12.983333,
            -17.14,
            8.1
           ],
           "legendgroup": "",
           "lon": [
            -79.127686,
            -42.256021,
            -34.9,
            11.19,
            -38.516667,
            39.51,
            -13.67
           ],
           "marker": {
            "color": "#636efa",
            "size": [
             8.902863672196222,
             9.909519324767848,
             6.917705609835305,
             6.661854740545311,
             8.163940954755008,
             7.718685495198466,
             7.434847875211999
            ],
            "sizemode": "area",
            "sizeref": 0.02718353458394048,
            "symbol": "circle"
           },
           "mode": "markers",
           "name": "",
           "showlegend": false,
           "type": "scattergeo"
          }
         ],
         "name": "1843"
        },
        {
         "data": [
          {
           "customdata": [
            [
             350
            ],
            [
             490
            ],
            [
             18848
            ],
            [
             10547
            ],
            [
             7187
            ],
            [
             844
            ],
            [
             332
            ],
            [
             2160
            ]
           ],
           "geo": "geo",
           "hovertemplate": "<b>%{hovertext}</b><br><br>Year voyage began=1844<br>normalized_sizes=%{marker.size}<br>Latitude=%{lat}<br>Longitude=%{lon}<br>Total slaves embarked imputed * (slaximp)=%{customdata[0]}<extra></extra>",
           "hovertext": [
            "Pernambuco",
            "Other North America",
            "Southeast Brazil",
            "Cuba",
            "Bahia",
            "West Central Africa and St. Helena",
            "Southeast Africa and Indian Ocean islands",
            "Sierra Leone"
           ],
           "lat": [
            -8.05,
            33.875649,
            -23.48894,
            23.115613,
            -12.983333,
            -7.71,
            -17.14,
            8.1
           ],
           "legendgroup": "",
           "lon": [
            -34.9,
            -78.444029,
            -42.256021,
            -79.127686,
            -38.516667,
            11.19,
            39.51,
            -13.67
           ],
           "marker": {
            "color": "#636efa",
            "size": [
             5.857933154483459,
             6.194405391104672,
             9.844162086451313,
             9.263596738276615,
             8.880029117468442,
             6.738152494595957,
             5.805134968916488,
             7.67786350067821
            ],
            "sizemode": "area",
            "sizeref": 0.02718353458394048,
            "symbol": "circle"
           },
           "mode": "markers",
           "name": "",
           "showlegend": false,
           "type": "scattergeo"
          }
         ],
         "name": "1844"
        },
        {
         "data": [
          {
           "customdata": [
            [
             4173
            ],
            [
             60
            ],
            [
             22469
            ],
            [
             3062
            ],
            [
             2749
            ],
            [
             1144
            ],
            [
             1253
            ],
            [
             490
            ],
            [
             1213
            ]
           ],
           "geo": "geo",
           "hovertemplate": "<b>%{hovertext}</b><br><br>Year voyage began=1845<br>normalized_sizes=%{marker.size}<br>Latitude=%{lat}<br>Longitude=%{lon}<br>Total slaves embarked imputed * (slaximp)=%{customdata[0]}<extra></extra>",
           "hovertext": [
            "Bahia",
            "Amazonia",
            "Southeast Brazil",
            "Sierra Leone",
            "Cuba",
            "West Central Africa and St. Helena",
            "Pernambuco",
            "Americas",
            "Windward Coast"
           ],
           "lat": [
            -12.983333,
            -0.93323,
            -23.48894,
            8.1,
            23.115613,
            -7.71,
            -8.05,
            0,
            4
           ],
           "legendgroup": "",
           "lon": [
            -38.516667,
            -43.235449,
            -42.256021,
            -13.67,
            -79.127686,
            11.19,
            -34.9,
            0,
            -8.92
           ],
           "marker": {
            "color": "#636efa",
            "size": [
             8.336390480591552,
             4.0943445622221,
             10.019891860406231,
             8.026823576217629,
             7.918992488165245,
             7.042286171939743,
             7.133295954896068,
             6.194405391104672,
             7.10085190894405
            ],
            "sizemode": "area",
            "sizeref": 0.02718353458394048,
            "symbol": "circle"
           },
           "mode": "markers",
           "name": "",
           "showlegend": false,
           "type": "scattergeo"
          }
         ],
         "name": "1845"
        },
        {
         "data": [
          {
           "customdata": [
            [
             4053
            ],
            [
             4
            ],
            [
             458
            ],
            [
             1835
            ],
            [
             10634
            ],
            [
             975
            ],
            [
             556
            ]
           ],
           "geo": "geo",
           "hovertemplate": "<b>%{hovertext}</b><br><br>Year voyage began=1846<br>normalized_sizes=%{marker.size}<br>Latitude=%{lat}<br>Longitude=%{lon}<br>Total slaves embarked imputed * (slaximp)=%{customdata[0]}<extra></extra>",
           "hovertext": [
            "Southeast Brazil",
            "Southeast Africa and Indian Ocean islands",
            "Cuba",
            "West Central Africa and St. Helena",
            "Bahia",
            "Pernambuco",
            "Sierra Leone"
           ],
           "lat": [
            -23.48894,
            -17.14,
            23.115613,
            -7.71,
            -12.983333,
            -8.05,
            8.1
           ],
           "legendgroup": "",
           "lon": [
            -42.256021,
            39.51,
            -79.127686,
            11.19,
            -38.516667,
            -34.9,
            -13.67
           ],
           "marker": {
            "color": "#636efa",
            "size": [
             8.307212626628308,
             1.3862943611198906,
             6.126869184114185,
             7.51479976048867,
             9.271811694064283,
             6.882437470997847,
             6.320768294250582
            ],
            "sizemode": "area",
            "sizeref": 0.02718353458394048,
            "symbol": "circle"
           },
           "mode": "markers",
           "name": "",
           "showlegend": false,
           "type": "scattergeo"
          }
         ],
         "name": "1846"
        },
        {
         "data": [
          {
           "customdata": [
            [
             490
            ],
            [
             317
            ],
            [
             650
            ],
            [
             8931
            ],
            [
             5591
            ],
            [
             1215
            ],
            [
             1276
            ],
            [
             214
            ],
            [
             11020
            ]
           ],
           "geo": "geo",
           "hovertemplate": "<b>%{hovertext}</b><br><br>Year voyage began=1847<br>normalized_sizes=%{marker.size}<br>Latitude=%{lat}<br>Longitude=%{lon}<br>Total slaves embarked imputed * (slaximp)=%{customdata[0]}<extra></extra>",
           "hovertext": [
            "Americas",
            "Southeast Africa and Indian Ocean islands",
            "West Central Africa and St. Helena",
            "Southeast Brazil",
            "Sierra Leone",
            "Pernambuco",
            "Cuba",
            "Peru",
            "Bahia"
           ],
           "lat": [
            0,
            -17.14,
            -7.71,
            -23.48894,
            8.1,
            -8.05,
            23.115613,
            0,
            -12.983333
           ],
           "legendgroup": "",
           "lon": [
            0,
            39.51,
            11.19,
            -42.256021,
            -13.67,
            -34.9,
            -79.127686,
            0,
            -38.516667
           ],
           "marker": {
            "color": "#636efa",
            "size": [
             6.194405391104672,
             5.75890177387728,
             6.476972362889683,
             9.097283649683886,
             8.628913441026645,
             7.102499355774649,
             7.151485463904735,
             5.365976015021851,
             9.307467082706905
            ],
            "sizemode": "area",
            "sizeref": 0.02718353458394048,
            "symbol": "circle"
           },
           "mode": "markers",
           "name": "",
           "showlegend": false,
           "type": "scattergeo"
          }
         ],
         "name": "1847"
        },
        {
         "data": [
          {
           "customdata": [
            [
             34962
            ],
            [
             8911
            ],
            [
             490
            ],
            [
             4799
            ],
            [
             3533
            ],
            [
             2337
            ]
           ],
           "geo": "geo",
           "hovertemplate": "<b>%{hovertext}</b><br><br>Year voyage began=1848<br>normalized_sizes=%{marker.size}<br>Latitude=%{lat}<br>Longitude=%{lon}<br>Total slaves embarked imputed * (slaximp)=%{customdata[0]}<extra></extra>",
           "hovertext": [
            "Southeast Brazil",
            "Bahia",
            "Americas",
            "Sierra Leone",
            "West Central Africa and St. Helena",
            "Cuba"
           ],
           "lat": [
            -23.48894,
            -12.983333,
            0,
            8.1,
            -7.71,
            23.115613
           ],
           "legendgroup": "",
           "lon": [
            -42.256021,
            -38.516667,
            0,
            -13.67,
            11.19,
            -79.127686
           ],
           "marker": {
            "color": "#636efa",
            "size": [
             10.46201703637113,
             9.09504174761272,
             6.194405391104672,
             8.476162841858246,
             8.169902647359145,
             7.756623334538858
            ],
            "sizemode": "area",
            "sizeref": 0.02718353458394048,
            "symbol": "circle"
           },
           "mode": "markers",
           "name": "",
           "showlegend": false,
           "type": "scattergeo"
          }
         ],
         "name": "1848"
        },
        {
         "data": [
          {
           "customdata": [
            [
             9675
            ],
            [
             628
            ],
            [
             1814
            ],
            [
             3051
            ],
            [
             8845
            ],
            [
             50891
            ]
           ],
           "geo": "geo",
           "hovertemplate": "<b>%{hovertext}</b><br><br>Year voyage began=1849<br>normalized_sizes=%{marker.size}<br>Latitude=%{lat}<br>Longitude=%{lon}<br>Total slaves embarked imputed * (slaximp)=%{customdata[0]}<extra></extra>",
           "hovertext": [
            "Bahia",
            "Americas",
            "Sierra Leone",
            "West Central Africa and St. Helena",
            "Cuba",
            "Southeast Brazil"
           ],
           "lat": [
            -12.983333,
            0,
            8.1,
            -7.71,
            23.115613,
            -23.48894
           ],
           "legendgroup": "",
           "lon": [
            -38.516667,
            0,
            -13.67,
            11.19,
            -79.127686,
            -42.256021
           ],
           "marker": {
            "color": "#636efa",
            "size": [
             9.177300517897983,
             6.4425401664681985,
             7.503289630675082,
             8.02322468471667,
             9.087607606593886,
             10.837441369615792
            ],
            "sizemode": "area",
            "sizeref": 0.02718353458394048,
            "symbol": "circle"
           },
           "mode": "markers",
           "name": "",
           "showlegend": false,
           "type": "scattergeo"
          }
         ],
         "name": "1849"
        },
        {
         "data": [
          {
           "customdata": [
            [
             284
            ],
            [
             4170
            ],
            [
             21921
            ],
            [
             2102
            ],
            [
             2809
            ],
            [
             94
            ],
            [
             10115
            ]
           ],
           "geo": "geo",
           "hovertemplate": "<b>%{hovertext}</b><br><br>Year voyage began=1850<br>normalized_sizes=%{marker.size}<br>Latitude=%{lat}<br>Longitude=%{lon}<br>Total slaves embarked imputed * (slaximp)=%{customdata[0]}<extra></extra>",
           "hovertext": [
            "Jamaica",
            "Cuba",
            "Southeast Brazil",
            "Sierra Leone",
            "West Central Africa and St. Helena",
            "Other British Caribbean",
            "Bahia"
           ],
           "lat": [
            17.881263,
            23.115613,
            -23.48894,
            8.1,
            -7.71,
            18,
            -12.983333
           ],
           "legendgroup": "",
           "lon": [
            -76.522778,
            -79.127686,
            -42.256021,
            -13.67,
            11.19,
            -76.8,
            -38.516667
           ],
           "marker": {
            "color": "#636efa",
            "size": [
             5.648974238161206,
             8.335671314792847,
             9.995200360459327,
             7.650644551436897,
             7.940583827104244,
             4.543294782270004,
             9.221774749601845
            ],
            "sizemode": "area",
            "sizeref": 0.02718353458394048,
            "symbol": "circle"
           },
           "mode": "markers",
           "name": "",
           "showlegend": false,
           "type": "scattergeo"
          }
         ],
         "name": "1850"
        },
        {
         "data": [
          {
           "customdata": [
            [
             1642
            ],
            [
             5352
            ],
            [
             1146
            ],
            [
             443
            ],
            [
             9726
            ]
           ],
           "geo": "geo",
           "hovertemplate": "<b>%{hovertext}</b><br><br>Year voyage began=1851<br>normalized_sizes=%{marker.size}<br>Latitude=%{lat}<br>Longitude=%{lon}<br>Total slaves embarked imputed * (slaximp)=%{customdata[0]}<extra></extra>",
           "hovertext": [
            "Pernambuco",
            "Southeast Brazil",
            "Bahia",
            "Sierra Leone",
            "Cuba"
           ],
           "lat": [
            -8.05,
            -23.48894,
            -12.983333,
            8.1,
            23.115613
           ],
           "legendgroup": "",
           "lon": [
            -34.9,
            -42.256021,
            -38.516667,
            -13.67,
            -79.127686
           ],
           "marker": {
            "color": "#636efa",
            "size": [
             7.403670290012373,
             8.585225601808064,
             7.044032897274685,
             6.093569770045136,
             9.182557990963732
            ],
            "sizemode": "area",
            "sizeref": 0.02718353458394048,
            "symbol": "circle"
           },
           "mode": "markers",
           "name": "",
           "showlegend": false,
           "type": "scattergeo"
          }
         ],
         "name": "1851"
        }
       ],
       "layout": {
        "geo": {
         "center": {},
         "domain": {
          "x": [
           0,
           1
          ],
          "y": [
           0,
           1
          ]
         }
        },
        "legend": {
         "itemsizing": "constant",
         "tracegroupgap": 0
        },
        "sliders": [
         {
          "active": 0,
          "currentvalue": {
           "prefix": "Year voyage began="
          },
          "len": 0.9,
          "pad": {
           "b": 10,
           "t": 60
          },
          "steps": [
           {
            "args": [
             [
              "1722"
             ],
             {
              "frame": {
               "duration": 0,
               "redraw": true
              },
              "fromcurrent": true,
              "mode": "immediate",
              "transition": {
               "duration": 0,
               "easing": "linear"
              }
             }
            ],
            "label": "1722",
            "method": "animate"
           },
           {
            "args": [
             [
              "1723"
             ],
             {
              "frame": {
               "duration": 0,
               "redraw": true
              },
              "fromcurrent": true,
              "mode": "immediate",
              "transition": {
               "duration": 0,
               "easing": "linear"
              }
             }
            ],
            "label": "1723",
            "method": "animate"
           },
           {
            "args": [
             [
              "1724"
             ],
             {
              "frame": {
               "duration": 0,
               "redraw": true
              },
              "fromcurrent": true,
              "mode": "immediate",
              "transition": {
               "duration": 0,
               "easing": "linear"
              }
             }
            ],
            "label": "1724",
            "method": "animate"
           },
           {
            "args": [
             [
              "1725"
             ],
             {
              "frame": {
               "duration": 0,
               "redraw": true
              },
              "fromcurrent": true,
              "mode": "immediate",
              "transition": {
               "duration": 0,
               "easing": "linear"
              }
             }
            ],
            "label": "1725",
            "method": "animate"
           },
           {
            "args": [
             [
              "1726"
             ],
             {
              "frame": {
               "duration": 0,
               "redraw": true
              },
              "fromcurrent": true,
              "mode": "immediate",
              "transition": {
               "duration": 0,
               "easing": "linear"
              }
             }
            ],
            "label": "1726",
            "method": "animate"
           },
           {
            "args": [
             [
              "1727"
             ],
             {
              "frame": {
               "duration": 0,
               "redraw": true
              },
              "fromcurrent": true,
              "mode": "immediate",
              "transition": {
               "duration": 0,
               "easing": "linear"
              }
             }
            ],
            "label": "1727",
            "method": "animate"
           },
           {
            "args": [
             [
              "1728"
             ],
             {
              "frame": {
               "duration": 0,
               "redraw": true
              },
              "fromcurrent": true,
              "mode": "immediate",
              "transition": {
               "duration": 0,
               "easing": "linear"
              }
             }
            ],
            "label": "1728",
            "method": "animate"
           },
           {
            "args": [
             [
              "1729"
             ],
             {
              "frame": {
               "duration": 0,
               "redraw": true
              },
              "fromcurrent": true,
              "mode": "immediate",
              "transition": {
               "duration": 0,
               "easing": "linear"
              }
             }
            ],
            "label": "1729",
            "method": "animate"
           },
           {
            "args": [
             [
              "1730"
             ],
             {
              "frame": {
               "duration": 0,
               "redraw": true
              },
              "fromcurrent": true,
              "mode": "immediate",
              "transition": {
               "duration": 0,
               "easing": "linear"
              }
             }
            ],
            "label": "1730",
            "method": "animate"
           },
           {
            "args": [
             [
              "1731"
             ],
             {
              "frame": {
               "duration": 0,
               "redraw": true
              },
              "fromcurrent": true,
              "mode": "immediate",
              "transition": {
               "duration": 0,
               "easing": "linear"
              }
             }
            ],
            "label": "1731",
            "method": "animate"
           },
           {
            "args": [
             [
              "1732"
             ],
             {
              "frame": {
               "duration": 0,
               "redraw": true
              },
              "fromcurrent": true,
              "mode": "immediate",
              "transition": {
               "duration": 0,
               "easing": "linear"
              }
             }
            ],
            "label": "1732",
            "method": "animate"
           },
           {
            "args": [
             [
              "1733"
             ],
             {
              "frame": {
               "duration": 0,
               "redraw": true
              },
              "fromcurrent": true,
              "mode": "immediate",
              "transition": {
               "duration": 0,
               "easing": "linear"
              }
             }
            ],
            "label": "1733",
            "method": "animate"
           },
           {
            "args": [
             [
              "1734"
             ],
             {
              "frame": {
               "duration": 0,
               "redraw": true
              },
              "fromcurrent": true,
              "mode": "immediate",
              "transition": {
               "duration": 0,
               "easing": "linear"
              }
             }
            ],
            "label": "1734",
            "method": "animate"
           },
           {
            "args": [
             [
              "1735"
             ],
             {
              "frame": {
               "duration": 0,
               "redraw": true
              },
              "fromcurrent": true,
              "mode": "immediate",
              "transition": {
               "duration": 0,
               "easing": "linear"
              }
             }
            ],
            "label": "1735",
            "method": "animate"
           },
           {
            "args": [
             [
              "1736"
             ],
             {
              "frame": {
               "duration": 0,
               "redraw": true
              },
              "fromcurrent": true,
              "mode": "immediate",
              "transition": {
               "duration": 0,
               "easing": "linear"
              }
             }
            ],
            "label": "1736",
            "method": "animate"
           },
           {
            "args": [
             [
              "1737"
             ],
             {
              "frame": {
               "duration": 0,
               "redraw": true
              },
              "fromcurrent": true,
              "mode": "immediate",
              "transition": {
               "duration": 0,
               "easing": "linear"
              }
             }
            ],
            "label": "1737",
            "method": "animate"
           },
           {
            "args": [
             [
              "1738"
             ],
             {
              "frame": {
               "duration": 0,
               "redraw": true
              },
              "fromcurrent": true,
              "mode": "immediate",
              "transition": {
               "duration": 0,
               "easing": "linear"
              }
             }
            ],
            "label": "1738",
            "method": "animate"
           },
           {
            "args": [
             [
              "1739"
             ],
             {
              "frame": {
               "duration": 0,
               "redraw": true
              },
              "fromcurrent": true,
              "mode": "immediate",
              "transition": {
               "duration": 0,
               "easing": "linear"
              }
             }
            ],
            "label": "1739",
            "method": "animate"
           },
           {
            "args": [
             [
              "1740"
             ],
             {
              "frame": {
               "duration": 0,
               "redraw": true
              },
              "fromcurrent": true,
              "mode": "immediate",
              "transition": {
               "duration": 0,
               "easing": "linear"
              }
             }
            ],
            "label": "1740",
            "method": "animate"
           },
           {
            "args": [
             [
              "1741"
             ],
             {
              "frame": {
               "duration": 0,
               "redraw": true
              },
              "fromcurrent": true,
              "mode": "immediate",
              "transition": {
               "duration": 0,
               "easing": "linear"
              }
             }
            ],
            "label": "1741",
            "method": "animate"
           },
           {
            "args": [
             [
              "1742"
             ],
             {
              "frame": {
               "duration": 0,
               "redraw": true
              },
              "fromcurrent": true,
              "mode": "immediate",
              "transition": {
               "duration": 0,
               "easing": "linear"
              }
             }
            ],
            "label": "1742",
            "method": "animate"
           },
           {
            "args": [
             [
              "1743"
             ],
             {
              "frame": {
               "duration": 0,
               "redraw": true
              },
              "fromcurrent": true,
              "mode": "immediate",
              "transition": {
               "duration": 0,
               "easing": "linear"
              }
             }
            ],
            "label": "1743",
            "method": "animate"
           },
           {
            "args": [
             [
              "1744"
             ],
             {
              "frame": {
               "duration": 0,
               "redraw": true
              },
              "fromcurrent": true,
              "mode": "immediate",
              "transition": {
               "duration": 0,
               "easing": "linear"
              }
             }
            ],
            "label": "1744",
            "method": "animate"
           },
           {
            "args": [
             [
              "1745"
             ],
             {
              "frame": {
               "duration": 0,
               "redraw": true
              },
              "fromcurrent": true,
              "mode": "immediate",
              "transition": {
               "duration": 0,
               "easing": "linear"
              }
             }
            ],
            "label": "1745",
            "method": "animate"
           },
           {
            "args": [
             [
              "1746"
             ],
             {
              "frame": {
               "duration": 0,
               "redraw": true
              },
              "fromcurrent": true,
              "mode": "immediate",
              "transition": {
               "duration": 0,
               "easing": "linear"
              }
             }
            ],
            "label": "1746",
            "method": "animate"
           },
           {
            "args": [
             [
              "1747"
             ],
             {
              "frame": {
               "duration": 0,
               "redraw": true
              },
              "fromcurrent": true,
              "mode": "immediate",
              "transition": {
               "duration": 0,
               "easing": "linear"
              }
             }
            ],
            "label": "1747",
            "method": "animate"
           },
           {
            "args": [
             [
              "1748"
             ],
             {
              "frame": {
               "duration": 0,
               "redraw": true
              },
              "fromcurrent": true,
              "mode": "immediate",
              "transition": {
               "duration": 0,
               "easing": "linear"
              }
             }
            ],
            "label": "1748",
            "method": "animate"
           },
           {
            "args": [
             [
              "1749"
             ],
             {
              "frame": {
               "duration": 0,
               "redraw": true
              },
              "fromcurrent": true,
              "mode": "immediate",
              "transition": {
               "duration": 0,
               "easing": "linear"
              }
             }
            ],
            "label": "1749",
            "method": "animate"
           },
           {
            "args": [
             [
              "1750"
             ],
             {
              "frame": {
               "duration": 0,
               "redraw": true
              },
              "fromcurrent": true,
              "mode": "immediate",
              "transition": {
               "duration": 0,
               "easing": "linear"
              }
             }
            ],
            "label": "1750",
            "method": "animate"
           },
           {
            "args": [
             [
              "1751"
             ],
             {
              "frame": {
               "duration": 0,
               "redraw": true
              },
              "fromcurrent": true,
              "mode": "immediate",
              "transition": {
               "duration": 0,
               "easing": "linear"
              }
             }
            ],
            "label": "1751",
            "method": "animate"
           },
           {
            "args": [
             [
              "1752"
             ],
             {
              "frame": {
               "duration": 0,
               "redraw": true
              },
              "fromcurrent": true,
              "mode": "immediate",
              "transition": {
               "duration": 0,
               "easing": "linear"
              }
             }
            ],
            "label": "1752",
            "method": "animate"
           },
           {
            "args": [
             [
              "1753"
             ],
             {
              "frame": {
               "duration": 0,
               "redraw": true
              },
              "fromcurrent": true,
              "mode": "immediate",
              "transition": {
               "duration": 0,
               "easing": "linear"
              }
             }
            ],
            "label": "1753",
            "method": "animate"
           },
           {
            "args": [
             [
              "1754"
             ],
             {
              "frame": {
               "duration": 0,
               "redraw": true
              },
              "fromcurrent": true,
              "mode": "immediate",
              "transition": {
               "duration": 0,
               "easing": "linear"
              }
             }
            ],
            "label": "1754",
            "method": "animate"
           },
           {
            "args": [
             [
              "1755"
             ],
             {
              "frame": {
               "duration": 0,
               "redraw": true
              },
              "fromcurrent": true,
              "mode": "immediate",
              "transition": {
               "duration": 0,
               "easing": "linear"
              }
             }
            ],
            "label": "1755",
            "method": "animate"
           },
           {
            "args": [
             [
              "1756"
             ],
             {
              "frame": {
               "duration": 0,
               "redraw": true
              },
              "fromcurrent": true,
              "mode": "immediate",
              "transition": {
               "duration": 0,
               "easing": "linear"
              }
             }
            ],
            "label": "1756",
            "method": "animate"
           },
           {
            "args": [
             [
              "1757"
             ],
             {
              "frame": {
               "duration": 0,
               "redraw": true
              },
              "fromcurrent": true,
              "mode": "immediate",
              "transition": {
               "duration": 0,
               "easing": "linear"
              }
             }
            ],
            "label": "1757",
            "method": "animate"
           },
           {
            "args": [
             [
              "1758"
             ],
             {
              "frame": {
               "duration": 0,
               "redraw": true
              },
              "fromcurrent": true,
              "mode": "immediate",
              "transition": {
               "duration": 0,
               "easing": "linear"
              }
             }
            ],
            "label": "1758",
            "method": "animate"
           },
           {
            "args": [
             [
              "1759"
             ],
             {
              "frame": {
               "duration": 0,
               "redraw": true
              },
              "fromcurrent": true,
              "mode": "immediate",
              "transition": {
               "duration": 0,
               "easing": "linear"
              }
             }
            ],
            "label": "1759",
            "method": "animate"
           },
           {
            "args": [
             [
              "1760"
             ],
             {
              "frame": {
               "duration": 0,
               "redraw": true
              },
              "fromcurrent": true,
              "mode": "immediate",
              "transition": {
               "duration": 0,
               "easing": "linear"
              }
             }
            ],
            "label": "1760",
            "method": "animate"
           },
           {
            "args": [
             [
              "1761"
             ],
             {
              "frame": {
               "duration": 0,
               "redraw": true
              },
              "fromcurrent": true,
              "mode": "immediate",
              "transition": {
               "duration": 0,
               "easing": "linear"
              }
             }
            ],
            "label": "1761",
            "method": "animate"
           },
           {
            "args": [
             [
              "1762"
             ],
             {
              "frame": {
               "duration": 0,
               "redraw": true
              },
              "fromcurrent": true,
              "mode": "immediate",
              "transition": {
               "duration": 0,
               "easing": "linear"
              }
             }
            ],
            "label": "1762",
            "method": "animate"
           },
           {
            "args": [
             [
              "1763"
             ],
             {
              "frame": {
               "duration": 0,
               "redraw": true
              },
              "fromcurrent": true,
              "mode": "immediate",
              "transition": {
               "duration": 0,
               "easing": "linear"
              }
             }
            ],
            "label": "1763",
            "method": "animate"
           },
           {
            "args": [
             [
              "1764"
             ],
             {
              "frame": {
               "duration": 0,
               "redraw": true
              },
              "fromcurrent": true,
              "mode": "immediate",
              "transition": {
               "duration": 0,
               "easing": "linear"
              }
             }
            ],
            "label": "1764",
            "method": "animate"
           },
           {
            "args": [
             [
              "1765"
             ],
             {
              "frame": {
               "duration": 0,
               "redraw": true
              },
              "fromcurrent": true,
              "mode": "immediate",
              "transition": {
               "duration": 0,
               "easing": "linear"
              }
             }
            ],
            "label": "1765",
            "method": "animate"
           },
           {
            "args": [
             [
              "1766"
             ],
             {
              "frame": {
               "duration": 0,
               "redraw": true
              },
              "fromcurrent": true,
              "mode": "immediate",
              "transition": {
               "duration": 0,
               "easing": "linear"
              }
             }
            ],
            "label": "1766",
            "method": "animate"
           },
           {
            "args": [
             [
              "1767"
             ],
             {
              "frame": {
               "duration": 0,
               "redraw": true
              },
              "fromcurrent": true,
              "mode": "immediate",
              "transition": {
               "duration": 0,
               "easing": "linear"
              }
             }
            ],
            "label": "1767",
            "method": "animate"
           },
           {
            "args": [
             [
              "1768"
             ],
             {
              "frame": {
               "duration": 0,
               "redraw": true
              },
              "fromcurrent": true,
              "mode": "immediate",
              "transition": {
               "duration": 0,
               "easing": "linear"
              }
             }
            ],
            "label": "1768",
            "method": "animate"
           },
           {
            "args": [
             [
              "1769"
             ],
             {
              "frame": {
               "duration": 0,
               "redraw": true
              },
              "fromcurrent": true,
              "mode": "immediate",
              "transition": {
               "duration": 0,
               "easing": "linear"
              }
             }
            ],
            "label": "1769",
            "method": "animate"
           },
           {
            "args": [
             [
              "1770"
             ],
             {
              "frame": {
               "duration": 0,
               "redraw": true
              },
              "fromcurrent": true,
              "mode": "immediate",
              "transition": {
               "duration": 0,
               "easing": "linear"
              }
             }
            ],
            "label": "1770",
            "method": "animate"
           },
           {
            "args": [
             [
              "1771"
             ],
             {
              "frame": {
               "duration": 0,
               "redraw": true
              },
              "fromcurrent": true,
              "mode": "immediate",
              "transition": {
               "duration": 0,
               "easing": "linear"
              }
             }
            ],
            "label": "1771",
            "method": "animate"
           },
           {
            "args": [
             [
              "1772"
             ],
             {
              "frame": {
               "duration": 0,
               "redraw": true
              },
              "fromcurrent": true,
              "mode": "immediate",
              "transition": {
               "duration": 0,
               "easing": "linear"
              }
             }
            ],
            "label": "1772",
            "method": "animate"
           },
           {
            "args": [
             [
              "1773"
             ],
             {
              "frame": {
               "duration": 0,
               "redraw": true
              },
              "fromcurrent": true,
              "mode": "immediate",
              "transition": {
               "duration": 0,
               "easing": "linear"
              }
             }
            ],
            "label": "1773",
            "method": "animate"
           },
           {
            "args": [
             [
              "1774"
             ],
             {
              "frame": {
               "duration": 0,
               "redraw": true
              },
              "fromcurrent": true,
              "mode": "immediate",
              "transition": {
               "duration": 0,
               "easing": "linear"
              }
             }
            ],
            "label": "1774",
            "method": "animate"
           },
           {
            "args": [
             [
              "1775"
             ],
             {
              "frame": {
               "duration": 0,
               "redraw": true
              },
              "fromcurrent": true,
              "mode": "immediate",
              "transition": {
               "duration": 0,
               "easing": "linear"
              }
             }
            ],
            "label": "1775",
            "method": "animate"
           },
           {
            "args": [
             [
              "1776"
             ],
             {
              "frame": {
               "duration": 0,
               "redraw": true
              },
              "fromcurrent": true,
              "mode": "immediate",
              "transition": {
               "duration": 0,
               "easing": "linear"
              }
             }
            ],
            "label": "1776",
            "method": "animate"
           },
           {
            "args": [
             [
              "1777"
             ],
             {
              "frame": {
               "duration": 0,
               "redraw": true
              },
              "fromcurrent": true,
              "mode": "immediate",
              "transition": {
               "duration": 0,
               "easing": "linear"
              }
             }
            ],
            "label": "1777",
            "method": "animate"
           },
           {
            "args": [
             [
              "1778"
             ],
             {
              "frame": {
               "duration": 0,
               "redraw": true
              },
              "fromcurrent": true,
              "mode": "immediate",
              "transition": {
               "duration": 0,
               "easing": "linear"
              }
             }
            ],
            "label": "1778",
            "method": "animate"
           },
           {
            "args": [
             [
              "1779"
             ],
             {
              "frame": {
               "duration": 0,
               "redraw": true
              },
              "fromcurrent": true,
              "mode": "immediate",
              "transition": {
               "duration": 0,
               "easing": "linear"
              }
             }
            ],
            "label": "1779",
            "method": "animate"
           },
           {
            "args": [
             [
              "1780"
             ],
             {
              "frame": {
               "duration": 0,
               "redraw": true
              },
              "fromcurrent": true,
              "mode": "immediate",
              "transition": {
               "duration": 0,
               "easing": "linear"
              }
             }
            ],
            "label": "1780",
            "method": "animate"
           },
           {
            "args": [
             [
              "1781"
             ],
             {
              "frame": {
               "duration": 0,
               "redraw": true
              },
              "fromcurrent": true,
              "mode": "immediate",
              "transition": {
               "duration": 0,
               "easing": "linear"
              }
             }
            ],
            "label": "1781",
            "method": "animate"
           },
           {
            "args": [
             [
              "1782"
             ],
             {
              "frame": {
               "duration": 0,
               "redraw": true
              },
              "fromcurrent": true,
              "mode": "immediate",
              "transition": {
               "duration": 0,
               "easing": "linear"
              }
             }
            ],
            "label": "1782",
            "method": "animate"
           },
           {
            "args": [
             [
              "1783"
             ],
             {
              "frame": {
               "duration": 0,
               "redraw": true
              },
              "fromcurrent": true,
              "mode": "immediate",
              "transition": {
               "duration": 0,
               "easing": "linear"
              }
             }
            ],
            "label": "1783",
            "method": "animate"
           },
           {
            "args": [
             [
              "1784"
             ],
             {
              "frame": {
               "duration": 0,
               "redraw": true
              },
              "fromcurrent": true,
              "mode": "immediate",
              "transition": {
               "duration": 0,
               "easing": "linear"
              }
             }
            ],
            "label": "1784",
            "method": "animate"
           },
           {
            "args": [
             [
              "1785"
             ],
             {
              "frame": {
               "duration": 0,
               "redraw": true
              },
              "fromcurrent": true,
              "mode": "immediate",
              "transition": {
               "duration": 0,
               "easing": "linear"
              }
             }
            ],
            "label": "1785",
            "method": "animate"
           },
           {
            "args": [
             [
              "1786"
             ],
             {
              "frame": {
               "duration": 0,
               "redraw": true
              },
              "fromcurrent": true,
              "mode": "immediate",
              "transition": {
               "duration": 0,
               "easing": "linear"
              }
             }
            ],
            "label": "1786",
            "method": "animate"
           },
           {
            "args": [
             [
              "1787"
             ],
             {
              "frame": {
               "duration": 0,
               "redraw": true
              },
              "fromcurrent": true,
              "mode": "immediate",
              "transition": {
               "duration": 0,
               "easing": "linear"
              }
             }
            ],
            "label": "1787",
            "method": "animate"
           },
           {
            "args": [
             [
              "1788"
             ],
             {
              "frame": {
               "duration": 0,
               "redraw": true
              },
              "fromcurrent": true,
              "mode": "immediate",
              "transition": {
               "duration": 0,
               "easing": "linear"
              }
             }
            ],
            "label": "1788",
            "method": "animate"
           },
           {
            "args": [
             [
              "1789"
             ],
             {
              "frame": {
               "duration": 0,
               "redraw": true
              },
              "fromcurrent": true,
              "mode": "immediate",
              "transition": {
               "duration": 0,
               "easing": "linear"
              }
             }
            ],
            "label": "1789",
            "method": "animate"
           },
           {
            "args": [
             [
              "1790"
             ],
             {
              "frame": {
               "duration": 0,
               "redraw": true
              },
              "fromcurrent": true,
              "mode": "immediate",
              "transition": {
               "duration": 0,
               "easing": "linear"
              }
             }
            ],
            "label": "1790",
            "method": "animate"
           },
           {
            "args": [
             [
              "1791"
             ],
             {
              "frame": {
               "duration": 0,
               "redraw": true
              },
              "fromcurrent": true,
              "mode": "immediate",
              "transition": {
               "duration": 0,
               "easing": "linear"
              }
             }
            ],
            "label": "1791",
            "method": "animate"
           },
           {
            "args": [
             [
              "1792"
             ],
             {
              "frame": {
               "duration": 0,
               "redraw": true
              },
              "fromcurrent": true,
              "mode": "immediate",
              "transition": {
               "duration": 0,
               "easing": "linear"
              }
             }
            ],
            "label": "1792",
            "method": "animate"
           },
           {
            "args": [
             [
              "1793"
             ],
             {
              "frame": {
               "duration": 0,
               "redraw": true
              },
              "fromcurrent": true,
              "mode": "immediate",
              "transition": {
               "duration": 0,
               "easing": "linear"
              }
             }
            ],
            "label": "1793",
            "method": "animate"
           },
           {
            "args": [
             [
              "1794"
             ],
             {
              "frame": {
               "duration": 0,
               "redraw": true
              },
              "fromcurrent": true,
              "mode": "immediate",
              "transition": {
               "duration": 0,
               "easing": "linear"
              }
             }
            ],
            "label": "1794",
            "method": "animate"
           },
           {
            "args": [
             [
              "1795"
             ],
             {
              "frame": {
               "duration": 0,
               "redraw": true
              },
              "fromcurrent": true,
              "mode": "immediate",
              "transition": {
               "duration": 0,
               "easing": "linear"
              }
             }
            ],
            "label": "1795",
            "method": "animate"
           },
           {
            "args": [
             [
              "1796"
             ],
             {
              "frame": {
               "duration": 0,
               "redraw": true
              },
              "fromcurrent": true,
              "mode": "immediate",
              "transition": {
               "duration": 0,
               "easing": "linear"
              }
             }
            ],
            "label": "1796",
            "method": "animate"
           },
           {
            "args": [
             [
              "1797"
             ],
             {
              "frame": {
               "duration": 0,
               "redraw": true
              },
              "fromcurrent": true,
              "mode": "immediate",
              "transition": {
               "duration": 0,
               "easing": "linear"
              }
             }
            ],
            "label": "1797",
            "method": "animate"
           },
           {
            "args": [
             [
              "1798"
             ],
             {
              "frame": {
               "duration": 0,
               "redraw": true
              },
              "fromcurrent": true,
              "mode": "immediate",
              "transition": {
               "duration": 0,
               "easing": "linear"
              }
             }
            ],
            "label": "1798",
            "method": "animate"
           },
           {
            "args": [
             [
              "1799"
             ],
             {
              "frame": {
               "duration": 0,
               "redraw": true
              },
              "fromcurrent": true,
              "mode": "immediate",
              "transition": {
               "duration": 0,
               "easing": "linear"
              }
             }
            ],
            "label": "1799",
            "method": "animate"
           },
           {
            "args": [
             [
              "1800"
             ],
             {
              "frame": {
               "duration": 0,
               "redraw": true
              },
              "fromcurrent": true,
              "mode": "immediate",
              "transition": {
               "duration": 0,
               "easing": "linear"
              }
             }
            ],
            "label": "1800",
            "method": "animate"
           },
           {
            "args": [
             [
              "1801"
             ],
             {
              "frame": {
               "duration": 0,
               "redraw": true
              },
              "fromcurrent": true,
              "mode": "immediate",
              "transition": {
               "duration": 0,
               "easing": "linear"
              }
             }
            ],
            "label": "1801",
            "method": "animate"
           },
           {
            "args": [
             [
              "1802"
             ],
             {
              "frame": {
               "duration": 0,
               "redraw": true
              },
              "fromcurrent": true,
              "mode": "immediate",
              "transition": {
               "duration": 0,
               "easing": "linear"
              }
             }
            ],
            "label": "1802",
            "method": "animate"
           },
           {
            "args": [
             [
              "1803"
             ],
             {
              "frame": {
               "duration": 0,
               "redraw": true
              },
              "fromcurrent": true,
              "mode": "immediate",
              "transition": {
               "duration": 0,
               "easing": "linear"
              }
             }
            ],
            "label": "1803",
            "method": "animate"
           },
           {
            "args": [
             [
              "1804"
             ],
             {
              "frame": {
               "duration": 0,
               "redraw": true
              },
              "fromcurrent": true,
              "mode": "immediate",
              "transition": {
               "duration": 0,
               "easing": "linear"
              }
             }
            ],
            "label": "1804",
            "method": "animate"
           },
           {
            "args": [
             [
              "1805"
             ],
             {
              "frame": {
               "duration": 0,
               "redraw": true
              },
              "fromcurrent": true,
              "mode": "immediate",
              "transition": {
               "duration": 0,
               "easing": "linear"
              }
             }
            ],
            "label": "1805",
            "method": "animate"
           },
           {
            "args": [
             [
              "1806"
             ],
             {
              "frame": {
               "duration": 0,
               "redraw": true
              },
              "fromcurrent": true,
              "mode": "immediate",
              "transition": {
               "duration": 0,
               "easing": "linear"
              }
             }
            ],
            "label": "1806",
            "method": "animate"
           },
           {
            "args": [
             [
              "1807"
             ],
             {
              "frame": {
               "duration": 0,
               "redraw": true
              },
              "fromcurrent": true,
              "mode": "immediate",
              "transition": {
               "duration": 0,
               "easing": "linear"
              }
             }
            ],
            "label": "1807",
            "method": "animate"
           },
           {
            "args": [
             [
              "1808"
             ],
             {
              "frame": {
               "duration": 0,
               "redraw": true
              },
              "fromcurrent": true,
              "mode": "immediate",
              "transition": {
               "duration": 0,
               "easing": "linear"
              }
             }
            ],
            "label": "1808",
            "method": "animate"
           },
           {
            "args": [
             [
              "1809"
             ],
             {
              "frame": {
               "duration": 0,
               "redraw": true
              },
              "fromcurrent": true,
              "mode": "immediate",
              "transition": {
               "duration": 0,
               "easing": "linear"
              }
             }
            ],
            "label": "1809",
            "method": "animate"
           },
           {
            "args": [
             [
              "1810"
             ],
             {
              "frame": {
               "duration": 0,
               "redraw": true
              },
              "fromcurrent": true,
              "mode": "immediate",
              "transition": {
               "duration": 0,
               "easing": "linear"
              }
             }
            ],
            "label": "1810",
            "method": "animate"
           },
           {
            "args": [
             [
              "1811"
             ],
             {
              "frame": {
               "duration": 0,
               "redraw": true
              },
              "fromcurrent": true,
              "mode": "immediate",
              "transition": {
               "duration": 0,
               "easing": "linear"
              }
             }
            ],
            "label": "1811",
            "method": "animate"
           },
           {
            "args": [
             [
              "1812"
             ],
             {
              "frame": {
               "duration": 0,
               "redraw": true
              },
              "fromcurrent": true,
              "mode": "immediate",
              "transition": {
               "duration": 0,
               "easing": "linear"
              }
             }
            ],
            "label": "1812",
            "method": "animate"
           },
           {
            "args": [
             [
              "1813"
             ],
             {
              "frame": {
               "duration": 0,
               "redraw": true
              },
              "fromcurrent": true,
              "mode": "immediate",
              "transition": {
               "duration": 0,
               "easing": "linear"
              }
             }
            ],
            "label": "1813",
            "method": "animate"
           },
           {
            "args": [
             [
              "1814"
             ],
             {
              "frame": {
               "duration": 0,
               "redraw": true
              },
              "fromcurrent": true,
              "mode": "immediate",
              "transition": {
               "duration": 0,
               "easing": "linear"
              }
             }
            ],
            "label": "1814",
            "method": "animate"
           },
           {
            "args": [
             [
              "1815"
             ],
             {
              "frame": {
               "duration": 0,
               "redraw": true
              },
              "fromcurrent": true,
              "mode": "immediate",
              "transition": {
               "duration": 0,
               "easing": "linear"
              }
             }
            ],
            "label": "1815",
            "method": "animate"
           },
           {
            "args": [
             [
              "1816"
             ],
             {
              "frame": {
               "duration": 0,
               "redraw": true
              },
              "fromcurrent": true,
              "mode": "immediate",
              "transition": {
               "duration": 0,
               "easing": "linear"
              }
             }
            ],
            "label": "1816",
            "method": "animate"
           },
           {
            "args": [
             [
              "1817"
             ],
             {
              "frame": {
               "duration": 0,
               "redraw": true
              },
              "fromcurrent": true,
              "mode": "immediate",
              "transition": {
               "duration": 0,
               "easing": "linear"
              }
             }
            ],
            "label": "1817",
            "method": "animate"
           },
           {
            "args": [
             [
              "1818"
             ],
             {
              "frame": {
               "duration": 0,
               "redraw": true
              },
              "fromcurrent": true,
              "mode": "immediate",
              "transition": {
               "duration": 0,
               "easing": "linear"
              }
             }
            ],
            "label": "1818",
            "method": "animate"
           },
           {
            "args": [
             [
              "1819"
             ],
             {
              "frame": {
               "duration": 0,
               "redraw": true
              },
              "fromcurrent": true,
              "mode": "immediate",
              "transition": {
               "duration": 0,
               "easing": "linear"
              }
             }
            ],
            "label": "1819",
            "method": "animate"
           },
           {
            "args": [
             [
              "1820"
             ],
             {
              "frame": {
               "duration": 0,
               "redraw": true
              },
              "fromcurrent": true,
              "mode": "immediate",
              "transition": {
               "duration": 0,
               "easing": "linear"
              }
             }
            ],
            "label": "1820",
            "method": "animate"
           },
           {
            "args": [
             [
              "1821"
             ],
             {
              "frame": {
               "duration": 0,
               "redraw": true
              },
              "fromcurrent": true,
              "mode": "immediate",
              "transition": {
               "duration": 0,
               "easing": "linear"
              }
             }
            ],
            "label": "1821",
            "method": "animate"
           },
           {
            "args": [
             [
              "1822"
             ],
             {
              "frame": {
               "duration": 0,
               "redraw": true
              },
              "fromcurrent": true,
              "mode": "immediate",
              "transition": {
               "duration": 0,
               "easing": "linear"
              }
             }
            ],
            "label": "1822",
            "method": "animate"
           },
           {
            "args": [
             [
              "1823"
             ],
             {
              "frame": {
               "duration": 0,
               "redraw": true
              },
              "fromcurrent": true,
              "mode": "immediate",
              "transition": {
               "duration": 0,
               "easing": "linear"
              }
             }
            ],
            "label": "1823",
            "method": "animate"
           },
           {
            "args": [
             [
              "1824"
             ],
             {
              "frame": {
               "duration": 0,
               "redraw": true
              },
              "fromcurrent": true,
              "mode": "immediate",
              "transition": {
               "duration": 0,
               "easing": "linear"
              }
             }
            ],
            "label": "1824",
            "method": "animate"
           },
           {
            "args": [
             [
              "1825"
             ],
             {
              "frame": {
               "duration": 0,
               "redraw": true
              },
              "fromcurrent": true,
              "mode": "immediate",
              "transition": {
               "duration": 0,
               "easing": "linear"
              }
             }
            ],
            "label": "1825",
            "method": "animate"
           },
           {
            "args": [
             [
              "1826"
             ],
             {
              "frame": {
               "duration": 0,
               "redraw": true
              },
              "fromcurrent": true,
              "mode": "immediate",
              "transition": {
               "duration": 0,
               "easing": "linear"
              }
             }
            ],
            "label": "1826",
            "method": "animate"
           },
           {
            "args": [
             [
              "1827"
             ],
             {
              "frame": {
               "duration": 0,
               "redraw": true
              },
              "fromcurrent": true,
              "mode": "immediate",
              "transition": {
               "duration": 0,
               "easing": "linear"
              }
             }
            ],
            "label": "1827",
            "method": "animate"
           },
           {
            "args": [
             [
              "1828"
             ],
             {
              "frame": {
               "duration": 0,
               "redraw": true
              },
              "fromcurrent": true,
              "mode": "immediate",
              "transition": {
               "duration": 0,
               "easing": "linear"
              }
             }
            ],
            "label": "1828",
            "method": "animate"
           },
           {
            "args": [
             [
              "1829"
             ],
             {
              "frame": {
               "duration": 0,
               "redraw": true
              },
              "fromcurrent": true,
              "mode": "immediate",
              "transition": {
               "duration": 0,
               "easing": "linear"
              }
             }
            ],
            "label": "1829",
            "method": "animate"
           },
           {
            "args": [
             [
              "1830"
             ],
             {
              "frame": {
               "duration": 0,
               "redraw": true
              },
              "fromcurrent": true,
              "mode": "immediate",
              "transition": {
               "duration": 0,
               "easing": "linear"
              }
             }
            ],
            "label": "1830",
            "method": "animate"
           },
           {
            "args": [
             [
              "1831"
             ],
             {
              "frame": {
               "duration": 0,
               "redraw": true
              },
              "fromcurrent": true,
              "mode": "immediate",
              "transition": {
               "duration": 0,
               "easing": "linear"
              }
             }
            ],
            "label": "1831",
            "method": "animate"
           },
           {
            "args": [
             [
              "1832"
             ],
             {
              "frame": {
               "duration": 0,
               "redraw": true
              },
              "fromcurrent": true,
              "mode": "immediate",
              "transition": {
               "duration": 0,
               "easing": "linear"
              }
             }
            ],
            "label": "1832",
            "method": "animate"
           },
           {
            "args": [
             [
              "1833"
             ],
             {
              "frame": {
               "duration": 0,
               "redraw": true
              },
              "fromcurrent": true,
              "mode": "immediate",
              "transition": {
               "duration": 0,
               "easing": "linear"
              }
             }
            ],
            "label": "1833",
            "method": "animate"
           },
           {
            "args": [
             [
              "1834"
             ],
             {
              "frame": {
               "duration": 0,
               "redraw": true
              },
              "fromcurrent": true,
              "mode": "immediate",
              "transition": {
               "duration": 0,
               "easing": "linear"
              }
             }
            ],
            "label": "1834",
            "method": "animate"
           },
           {
            "args": [
             [
              "1835"
             ],
             {
              "frame": {
               "duration": 0,
               "redraw": true
              },
              "fromcurrent": true,
              "mode": "immediate",
              "transition": {
               "duration": 0,
               "easing": "linear"
              }
             }
            ],
            "label": "1835",
            "method": "animate"
           },
           {
            "args": [
             [
              "1836"
             ],
             {
              "frame": {
               "duration": 0,
               "redraw": true
              },
              "fromcurrent": true,
              "mode": "immediate",
              "transition": {
               "duration": 0,
               "easing": "linear"
              }
             }
            ],
            "label": "1836",
            "method": "animate"
           },
           {
            "args": [
             [
              "1837"
             ],
             {
              "frame": {
               "duration": 0,
               "redraw": true
              },
              "fromcurrent": true,
              "mode": "immediate",
              "transition": {
               "duration": 0,
               "easing": "linear"
              }
             }
            ],
            "label": "1837",
            "method": "animate"
           },
           {
            "args": [
             [
              "1838"
             ],
             {
              "frame": {
               "duration": 0,
               "redraw": true
              },
              "fromcurrent": true,
              "mode": "immediate",
              "transition": {
               "duration": 0,
               "easing": "linear"
              }
             }
            ],
            "label": "1838",
            "method": "animate"
           },
           {
            "args": [
             [
              "1839"
             ],
             {
              "frame": {
               "duration": 0,
               "redraw": true
              },
              "fromcurrent": true,
              "mode": "immediate",
              "transition": {
               "duration": 0,
               "easing": "linear"
              }
             }
            ],
            "label": "1839",
            "method": "animate"
           },
           {
            "args": [
             [
              "1840"
             ],
             {
              "frame": {
               "duration": 0,
               "redraw": true
              },
              "fromcurrent": true,
              "mode": "immediate",
              "transition": {
               "duration": 0,
               "easing": "linear"
              }
             }
            ],
            "label": "1840",
            "method": "animate"
           },
           {
            "args": [
             [
              "1841"
             ],
             {
              "frame": {
               "duration": 0,
               "redraw": true
              },
              "fromcurrent": true,
              "mode": "immediate",
              "transition": {
               "duration": 0,
               "easing": "linear"
              }
             }
            ],
            "label": "1841",
            "method": "animate"
           },
           {
            "args": [
             [
              "1842"
             ],
             {
              "frame": {
               "duration": 0,
               "redraw": true
              },
              "fromcurrent": true,
              "mode": "immediate",
              "transition": {
               "duration": 0,
               "easing": "linear"
              }
             }
            ],
            "label": "1842",
            "method": "animate"
           },
           {
            "args": [
             [
              "1843"
             ],
             {
              "frame": {
               "duration": 0,
               "redraw": true
              },
              "fromcurrent": true,
              "mode": "immediate",
              "transition": {
               "duration": 0,
               "easing": "linear"
              }
             }
            ],
            "label": "1843",
            "method": "animate"
           },
           {
            "args": [
             [
              "1844"
             ],
             {
              "frame": {
               "duration": 0,
               "redraw": true
              },
              "fromcurrent": true,
              "mode": "immediate",
              "transition": {
               "duration": 0,
               "easing": "linear"
              }
             }
            ],
            "label": "1844",
            "method": "animate"
           },
           {
            "args": [
             [
              "1845"
             ],
             {
              "frame": {
               "duration": 0,
               "redraw": true
              },
              "fromcurrent": true,
              "mode": "immediate",
              "transition": {
               "duration": 0,
               "easing": "linear"
              }
             }
            ],
            "label": "1845",
            "method": "animate"
           },
           {
            "args": [
             [
              "1846"
             ],
             {
              "frame": {
               "duration": 0,
               "redraw": true
              },
              "fromcurrent": true,
              "mode": "immediate",
              "transition": {
               "duration": 0,
               "easing": "linear"
              }
             }
            ],
            "label": "1846",
            "method": "animate"
           },
           {
            "args": [
             [
              "1847"
             ],
             {
              "frame": {
               "duration": 0,
               "redraw": true
              },
              "fromcurrent": true,
              "mode": "immediate",
              "transition": {
               "duration": 0,
               "easing": "linear"
              }
             }
            ],
            "label": "1847",
            "method": "animate"
           },
           {
            "args": [
             [
              "1848"
             ],
             {
              "frame": {
               "duration": 0,
               "redraw": true
              },
              "fromcurrent": true,
              "mode": "immediate",
              "transition": {
               "duration": 0,
               "easing": "linear"
              }
             }
            ],
            "label": "1848",
            "method": "animate"
           },
           {
            "args": [
             [
              "1849"
             ],
             {
              "frame": {
               "duration": 0,
               "redraw": true
              },
              "fromcurrent": true,
              "mode": "immediate",
              "transition": {
               "duration": 0,
               "easing": "linear"
              }
             }
            ],
            "label": "1849",
            "method": "animate"
           },
           {
            "args": [
             [
              "1850"
             ],
             {
              "frame": {
               "duration": 0,
               "redraw": true
              },
              "fromcurrent": true,
              "mode": "immediate",
              "transition": {
               "duration": 0,
               "easing": "linear"
              }
             }
            ],
            "label": "1850",
            "method": "animate"
           },
           {
            "args": [
             [
              "1851"
             ],
             {
              "frame": {
               "duration": 0,
               "redraw": true
              },
              "fromcurrent": true,
              "mode": "immediate",
              "transition": {
               "duration": 0,
               "easing": "linear"
              }
             }
            ],
            "label": "1851",
            "method": "animate"
           }
          ],
          "x": 0.1,
          "xanchor": "left",
          "y": 0,
          "yanchor": "top"
         }
        ],
        "template": {
         "data": {
          "bar": [
           {
            "error_x": {
             "color": "#2a3f5f"
            },
            "error_y": {
             "color": "#2a3f5f"
            },
            "marker": {
             "line": {
              "color": "#E5ECF6",
              "width": 0.5
             },
             "pattern": {
              "fillmode": "overlay",
              "size": 10,
              "solidity": 0.2
             }
            },
            "type": "bar"
           }
          ],
          "barpolar": [
           {
            "marker": {
             "line": {
              "color": "#E5ECF6",
              "width": 0.5
             },
             "pattern": {
              "fillmode": "overlay",
              "size": 10,
              "solidity": 0.2
             }
            },
            "type": "barpolar"
           }
          ],
          "carpet": [
           {
            "aaxis": {
             "endlinecolor": "#2a3f5f",
             "gridcolor": "white",
             "linecolor": "white",
             "minorgridcolor": "white",
             "startlinecolor": "#2a3f5f"
            },
            "baxis": {
             "endlinecolor": "#2a3f5f",
             "gridcolor": "white",
             "linecolor": "white",
             "minorgridcolor": "white",
             "startlinecolor": "#2a3f5f"
            },
            "type": "carpet"
           }
          ],
          "choropleth": [
           {
            "colorbar": {
             "outlinewidth": 0,
             "ticks": ""
            },
            "type": "choropleth"
           }
          ],
          "contour": [
           {
            "colorbar": {
             "outlinewidth": 0,
             "ticks": ""
            },
            "colorscale": [
             [
              0,
              "#0d0887"
             ],
             [
              0.1111111111111111,
              "#46039f"
             ],
             [
              0.2222222222222222,
              "#7201a8"
             ],
             [
              0.3333333333333333,
              "#9c179e"
             ],
             [
              0.4444444444444444,
              "#bd3786"
             ],
             [
              0.5555555555555556,
              "#d8576b"
             ],
             [
              0.6666666666666666,
              "#ed7953"
             ],
             [
              0.7777777777777778,
              "#fb9f3a"
             ],
             [
              0.8888888888888888,
              "#fdca26"
             ],
             [
              1,
              "#f0f921"
             ]
            ],
            "type": "contour"
           }
          ],
          "contourcarpet": [
           {
            "colorbar": {
             "outlinewidth": 0,
             "ticks": ""
            },
            "type": "contourcarpet"
           }
          ],
          "heatmap": [
           {
            "colorbar": {
             "outlinewidth": 0,
             "ticks": ""
            },
            "colorscale": [
             [
              0,
              "#0d0887"
             ],
             [
              0.1111111111111111,
              "#46039f"
             ],
             [
              0.2222222222222222,
              "#7201a8"
             ],
             [
              0.3333333333333333,
              "#9c179e"
             ],
             [
              0.4444444444444444,
              "#bd3786"
             ],
             [
              0.5555555555555556,
              "#d8576b"
             ],
             [
              0.6666666666666666,
              "#ed7953"
             ],
             [
              0.7777777777777778,
              "#fb9f3a"
             ],
             [
              0.8888888888888888,
              "#fdca26"
             ],
             [
              1,
              "#f0f921"
             ]
            ],
            "type": "heatmap"
           }
          ],
          "heatmapgl": [
           {
            "colorbar": {
             "outlinewidth": 0,
             "ticks": ""
            },
            "colorscale": [
             [
              0,
              "#0d0887"
             ],
             [
              0.1111111111111111,
              "#46039f"
             ],
             [
              0.2222222222222222,
              "#7201a8"
             ],
             [
              0.3333333333333333,
              "#9c179e"
             ],
             [
              0.4444444444444444,
              "#bd3786"
             ],
             [
              0.5555555555555556,
              "#d8576b"
             ],
             [
              0.6666666666666666,
              "#ed7953"
             ],
             [
              0.7777777777777778,
              "#fb9f3a"
             ],
             [
              0.8888888888888888,
              "#fdca26"
             ],
             [
              1,
              "#f0f921"
             ]
            ],
            "type": "heatmapgl"
           }
          ],
          "histogram": [
           {
            "marker": {
             "pattern": {
              "fillmode": "overlay",
              "size": 10,
              "solidity": 0.2
             }
            },
            "type": "histogram"
           }
          ],
          "histogram2d": [
           {
            "colorbar": {
             "outlinewidth": 0,
             "ticks": ""
            },
            "colorscale": [
             [
              0,
              "#0d0887"
             ],
             [
              0.1111111111111111,
              "#46039f"
             ],
             [
              0.2222222222222222,
              "#7201a8"
             ],
             [
              0.3333333333333333,
              "#9c179e"
             ],
             [
              0.4444444444444444,
              "#bd3786"
             ],
             [
              0.5555555555555556,
              "#d8576b"
             ],
             [
              0.6666666666666666,
              "#ed7953"
             ],
             [
              0.7777777777777778,
              "#fb9f3a"
             ],
             [
              0.8888888888888888,
              "#fdca26"
             ],
             [
              1,
              "#f0f921"
             ]
            ],
            "type": "histogram2d"
           }
          ],
          "histogram2dcontour": [
           {
            "colorbar": {
             "outlinewidth": 0,
             "ticks": ""
            },
            "colorscale": [
             [
              0,
              "#0d0887"
             ],
             [
              0.1111111111111111,
              "#46039f"
             ],
             [
              0.2222222222222222,
              "#7201a8"
             ],
             [
              0.3333333333333333,
              "#9c179e"
             ],
             [
              0.4444444444444444,
              "#bd3786"
             ],
             [
              0.5555555555555556,
              "#d8576b"
             ],
             [
              0.6666666666666666,
              "#ed7953"
             ],
             [
              0.7777777777777778,
              "#fb9f3a"
             ],
             [
              0.8888888888888888,
              "#fdca26"
             ],
             [
              1,
              "#f0f921"
             ]
            ],
            "type": "histogram2dcontour"
           }
          ],
          "mesh3d": [
           {
            "colorbar": {
             "outlinewidth": 0,
             "ticks": ""
            },
            "type": "mesh3d"
           }
          ],
          "parcoords": [
           {
            "line": {
             "colorbar": {
              "outlinewidth": 0,
              "ticks": ""
             }
            },
            "type": "parcoords"
           }
          ],
          "pie": [
           {
            "automargin": true,
            "type": "pie"
           }
          ],
          "scatter": [
           {
            "marker": {
             "colorbar": {
              "outlinewidth": 0,
              "ticks": ""
             }
            },
            "type": "scatter"
           }
          ],
          "scatter3d": [
           {
            "line": {
             "colorbar": {
              "outlinewidth": 0,
              "ticks": ""
             }
            },
            "marker": {
             "colorbar": {
              "outlinewidth": 0,
              "ticks": ""
             }
            },
            "type": "scatter3d"
           }
          ],
          "scattercarpet": [
           {
            "marker": {
             "colorbar": {
              "outlinewidth": 0,
              "ticks": ""
             }
            },
            "type": "scattercarpet"
           }
          ],
          "scattergeo": [
           {
            "marker": {
             "colorbar": {
              "outlinewidth": 0,
              "ticks": ""
             }
            },
            "type": "scattergeo"
           }
          ],
          "scattergl": [
           {
            "marker": {
             "colorbar": {
              "outlinewidth": 0,
              "ticks": ""
             }
            },
            "type": "scattergl"
           }
          ],
          "scattermapbox": [
           {
            "marker": {
             "colorbar": {
              "outlinewidth": 0,
              "ticks": ""
             }
            },
            "type": "scattermapbox"
           }
          ],
          "scatterpolar": [
           {
            "marker": {
             "colorbar": {
              "outlinewidth": 0,
              "ticks": ""
             }
            },
            "type": "scatterpolar"
           }
          ],
          "scatterpolargl": [
           {
            "marker": {
             "colorbar": {
              "outlinewidth": 0,
              "ticks": ""
             }
            },
            "type": "scatterpolargl"
           }
          ],
          "scatterternary": [
           {
            "marker": {
             "colorbar": {
              "outlinewidth": 0,
              "ticks": ""
             }
            },
            "type": "scatterternary"
           }
          ],
          "surface": [
           {
            "colorbar": {
             "outlinewidth": 0,
             "ticks": ""
            },
            "colorscale": [
             [
              0,
              "#0d0887"
             ],
             [
              0.1111111111111111,
              "#46039f"
             ],
             [
              0.2222222222222222,
              "#7201a8"
             ],
             [
              0.3333333333333333,
              "#9c179e"
             ],
             [
              0.4444444444444444,
              "#bd3786"
             ],
             [
              0.5555555555555556,
              "#d8576b"
             ],
             [
              0.6666666666666666,
              "#ed7953"
             ],
             [
              0.7777777777777778,
              "#fb9f3a"
             ],
             [
              0.8888888888888888,
              "#fdca26"
             ],
             [
              1,
              "#f0f921"
             ]
            ],
            "type": "surface"
           }
          ],
          "table": [
           {
            "cells": {
             "fill": {
              "color": "#EBF0F8"
             },
             "line": {
              "color": "white"
             }
            },
            "header": {
             "fill": {
              "color": "#C8D4E3"
             },
             "line": {
              "color": "white"
             }
            },
            "type": "table"
           }
          ]
         },
         "layout": {
          "annotationdefaults": {
           "arrowcolor": "#2a3f5f",
           "arrowhead": 0,
           "arrowwidth": 1
          },
          "autotypenumbers": "strict",
          "coloraxis": {
           "colorbar": {
            "outlinewidth": 0,
            "ticks": ""
           }
          },
          "colorscale": {
           "diverging": [
            [
             0,
             "#8e0152"
            ],
            [
             0.1,
             "#c51b7d"
            ],
            [
             0.2,
             "#de77ae"
            ],
            [
             0.3,
             "#f1b6da"
            ],
            [
             0.4,
             "#fde0ef"
            ],
            [
             0.5,
             "#f7f7f7"
            ],
            [
             0.6,
             "#e6f5d0"
            ],
            [
             0.7,
             "#b8e186"
            ],
            [
             0.8,
             "#7fbc41"
            ],
            [
             0.9,
             "#4d9221"
            ],
            [
             1,
             "#276419"
            ]
           ],
           "sequential": [
            [
             0,
             "#0d0887"
            ],
            [
             0.1111111111111111,
             "#46039f"
            ],
            [
             0.2222222222222222,
             "#7201a8"
            ],
            [
             0.3333333333333333,
             "#9c179e"
            ],
            [
             0.4444444444444444,
             "#bd3786"
            ],
            [
             0.5555555555555556,
             "#d8576b"
            ],
            [
             0.6666666666666666,
             "#ed7953"
            ],
            [
             0.7777777777777778,
             "#fb9f3a"
            ],
            [
             0.8888888888888888,
             "#fdca26"
            ],
            [
             1,
             "#f0f921"
            ]
           ],
           "sequentialminus": [
            [
             0,
             "#0d0887"
            ],
            [
             0.1111111111111111,
             "#46039f"
            ],
            [
             0.2222222222222222,
             "#7201a8"
            ],
            [
             0.3333333333333333,
             "#9c179e"
            ],
            [
             0.4444444444444444,
             "#bd3786"
            ],
            [
             0.5555555555555556,
             "#d8576b"
            ],
            [
             0.6666666666666666,
             "#ed7953"
            ],
            [
             0.7777777777777778,
             "#fb9f3a"
            ],
            [
             0.8888888888888888,
             "#fdca26"
            ],
            [
             1,
             "#f0f921"
            ]
           ]
          },
          "colorway": [
           "#636efa",
           "#EF553B",
           "#00cc96",
           "#ab63fa",
           "#FFA15A",
           "#19d3f3",
           "#FF6692",
           "#B6E880",
           "#FF97FF",
           "#FECB52"
          ],
          "font": {
           "color": "#2a3f5f"
          },
          "geo": {
           "bgcolor": "white",
           "lakecolor": "white",
           "landcolor": "#E5ECF6",
           "showlakes": true,
           "showland": true,
           "subunitcolor": "white"
          },
          "hoverlabel": {
           "align": "left"
          },
          "hovermode": "closest",
          "mapbox": {
           "style": "light"
          },
          "paper_bgcolor": "white",
          "plot_bgcolor": "#E5ECF6",
          "polar": {
           "angularaxis": {
            "gridcolor": "white",
            "linecolor": "white",
            "ticks": ""
           },
           "bgcolor": "#E5ECF6",
           "radialaxis": {
            "gridcolor": "white",
            "linecolor": "white",
            "ticks": ""
           }
          },
          "scene": {
           "xaxis": {
            "backgroundcolor": "#E5ECF6",
            "gridcolor": "white",
            "gridwidth": 2,
            "linecolor": "white",
            "showbackground": true,
            "ticks": "",
            "zerolinecolor": "white"
           },
           "yaxis": {
            "backgroundcolor": "#E5ECF6",
            "gridcolor": "white",
            "gridwidth": 2,
            "linecolor": "white",
            "showbackground": true,
            "ticks": "",
            "zerolinecolor": "white"
           },
           "zaxis": {
            "backgroundcolor": "#E5ECF6",
            "gridcolor": "white",
            "gridwidth": 2,
            "linecolor": "white",
            "showbackground": true,
            "ticks": "",
            "zerolinecolor": "white"
           }
          },
          "shapedefaults": {
           "line": {
            "color": "#2a3f5f"
           }
          },
          "ternary": {
           "aaxis": {
            "gridcolor": "white",
            "linecolor": "white",
            "ticks": ""
           },
           "baxis": {
            "gridcolor": "white",
            "linecolor": "white",
            "ticks": ""
           },
           "bgcolor": "#E5ECF6",
           "caxis": {
            "gridcolor": "white",
            "linecolor": "white",
            "ticks": ""
           }
          },
          "title": {
           "x": 0.05
          },
          "xaxis": {
           "automargin": true,
           "gridcolor": "white",
           "linecolor": "white",
           "ticks": "",
           "title": {
            "standoff": 15
           },
           "zerolinecolor": "white",
           "zerolinewidth": 2
          },
          "yaxis": {
           "automargin": true,
           "gridcolor": "white",
           "linecolor": "white",
           "ticks": "",
           "title": {
            "standoff": 15
           },
           "zerolinecolor": "white",
           "zerolinewidth": 2
          }
         }
        },
        "title": {
         "text": "Total slaves embarked imputed * (slaximp) - by - Imputed principal region of slave disembarkation (MJSELIMP)"
        },
        "updatemenus": [
         {
          "buttons": [
           {
            "args": [
             null,
             {
              "frame": {
               "duration": 500,
               "redraw": true
              },
              "fromcurrent": true,
              "mode": "immediate",
              "transition": {
               "duration": 500,
               "easing": "linear"
              }
             }
            ],
            "label": "&#9654;",
            "method": "animate"
           },
           {
            "args": [
             [
              null
             ],
             {
              "frame": {
               "duration": 0,
               "redraw": true
              },
              "fromcurrent": true,
              "mode": "immediate",
              "transition": {
               "duration": 0,
               "easing": "linear"
              }
             }
            ],
            "label": "&#9724;",
            "method": "animate"
           }
          ],
          "direction": "left",
          "pad": {
           "r": 10,
           "t": 70
          },
          "showactive": false,
          "type": "buttons",
          "x": 0.1,
          "xanchor": "right",
          "y": 0,
          "yanchor": "top"
         }
        ]
       }
      },
      "text/html": [
       "<div>                            <div id=\"5eecc83b-bf9d-4428-83ac-b63dd5ec0842\" class=\"plotly-graph-div\" style=\"height:525px; width:100%;\"></div>            <script type=\"text/javascript\">                require([\"plotly\"], function(Plotly) {                    window.PLOTLYENV=window.PLOTLYENV || {};                                    if (document.getElementById(\"5eecc83b-bf9d-4428-83ac-b63dd5ec0842\")) {                    Plotly.newPlot(                        \"5eecc83b-bf9d-4428-83ac-b63dd5ec0842\",                        [{\"customdata\":[[1397.0],[458.0],[100.0],[3241.0],[272.0],[7338.0],[727.0],[6840.0],[470.0],[945.0],[150.0],[468.0],[395.0],[2324.0],[2380.0],[2016.0],[290.0],[3112.0],[80.0],[546.0],[1705.0],[96.0]],\"geo\":\"geo\",\"hovertemplate\":\"<b>%{hovertext}</b><br><br>Year voyage began=1722<br>normalized_sizes=%{marker.size}<br>Latitude=%{lat}<br>Longitude=%{lon}<br>Total slaves embarked imputed * (slaximp)=%{customdata[0]}<extra></extra>\",\"hovertext\":[\"Rio de la Plata\",\"South Carolina\",\"Gulf coast\",\"Saint-Domingue\",\"Other British Caribbean\",\"Jamaica\",\"St. Kitts\",\"Bahia\",\"Nevis\",\"Virginia\",\"Antigua\",\"Guadaloupe\",\"Spanish Circum-Caribbean\",\"Dutch Caribbean\",\"Martinique\",\"Barbados\",\"Dutch Guianas\",\"Pernambuco\",\"French Guiana\",\"Montserrat\",\"Southeast Brazil\",\"Americas\"],\"lat\":[-33.332605,33.1,29.8,18.54,18.0,17.881263,17.3,-12.983333,17.151005,36.9,17.067453,16.0,15.641117,14.751846,14.6,13.1,6.675248,-8.05,5.861294,16.7,-23.48894,0.0],\"legendgroup\":\"\",\"lon\":[-58.498255,-79.54,-89.56,-72.34,-76.8,-76.522778,-62.716667,-38.516667,-62.589223,-76.3,-61.784741,-61.71667,-75.633932,-65.781346,-61.083333,-59.616667,-55.251124,-34.9,-53.612239,-62.216667,-42.256021,0.0],\"marker\":{\"color\":\"#636efa\",\"size\":[7.242082359256962,6.126869184114185,4.605170185988092,8.083637203141548,5.605802066295998,8.900821604915228,6.588926477533519,8.830543010616596,6.152732694704104,6.851184927493743,5.0106352940962555,6.148468295917647,5.978885764901122,7.751045117971802,7.77485576666552,7.60887062919126,5.66988092298052,8.043020885298283,4.382026634673881,6.302618975744905,7.4413203897176174,4.564348191467836],\"sizemode\":\"area\",\"sizeref\":0.02718353458394048,\"symbol\":\"circle\"},\"mode\":\"markers\",\"name\":\"\",\"showlegend\":false,\"type\":\"scattergeo\"}],                        {\"template\":{\"data\":{\"bar\":[{\"error_x\":{\"color\":\"#2a3f5f\"},\"error_y\":{\"color\":\"#2a3f5f\"},\"marker\":{\"line\":{\"color\":\"#E5ECF6\",\"width\":0.5},\"pattern\":{\"fillmode\":\"overlay\",\"size\":10,\"solidity\":0.2}},\"type\":\"bar\"}],\"barpolar\":[{\"marker\":{\"line\":{\"color\":\"#E5ECF6\",\"width\":0.5},\"pattern\":{\"fillmode\":\"overlay\",\"size\":10,\"solidity\":0.2}},\"type\":\"barpolar\"}],\"carpet\":[{\"aaxis\":{\"endlinecolor\":\"#2a3f5f\",\"gridcolor\":\"white\",\"linecolor\":\"white\",\"minorgridcolor\":\"white\",\"startlinecolor\":\"#2a3f5f\"},\"baxis\":{\"endlinecolor\":\"#2a3f5f\",\"gridcolor\":\"white\",\"linecolor\":\"white\",\"minorgridcolor\":\"white\",\"startlinecolor\":\"#2a3f5f\"},\"type\":\"carpet\"}],\"choropleth\":[{\"colorbar\":{\"outlinewidth\":0,\"ticks\":\"\"},\"type\":\"choropleth\"}],\"contour\":[{\"colorbar\":{\"outlinewidth\":0,\"ticks\":\"\"},\"colorscale\":[[0.0,\"#0d0887\"],[0.1111111111111111,\"#46039f\"],[0.2222222222222222,\"#7201a8\"],[0.3333333333333333,\"#9c179e\"],[0.4444444444444444,\"#bd3786\"],[0.5555555555555556,\"#d8576b\"],[0.6666666666666666,\"#ed7953\"],[0.7777777777777778,\"#fb9f3a\"],[0.8888888888888888,\"#fdca26\"],[1.0,\"#f0f921\"]],\"type\":\"contour\"}],\"contourcarpet\":[{\"colorbar\":{\"outlinewidth\":0,\"ticks\":\"\"},\"type\":\"contourcarpet\"}],\"heatmap\":[{\"colorbar\":{\"outlinewidth\":0,\"ticks\":\"\"},\"colorscale\":[[0.0,\"#0d0887\"],[0.1111111111111111,\"#46039f\"],[0.2222222222222222,\"#7201a8\"],[0.3333333333333333,\"#9c179e\"],[0.4444444444444444,\"#bd3786\"],[0.5555555555555556,\"#d8576b\"],[0.6666666666666666,\"#ed7953\"],[0.7777777777777778,\"#fb9f3a\"],[0.8888888888888888,\"#fdca26\"],[1.0,\"#f0f921\"]],\"type\":\"heatmap\"}],\"heatmapgl\":[{\"colorbar\":{\"outlinewidth\":0,\"ticks\":\"\"},\"colorscale\":[[0.0,\"#0d0887\"],[0.1111111111111111,\"#46039f\"],[0.2222222222222222,\"#7201a8\"],[0.3333333333333333,\"#9c179e\"],[0.4444444444444444,\"#bd3786\"],[0.5555555555555556,\"#d8576b\"],[0.6666666666666666,\"#ed7953\"],[0.7777777777777778,\"#fb9f3a\"],[0.8888888888888888,\"#fdca26\"],[1.0,\"#f0f921\"]],\"type\":\"heatmapgl\"}],\"histogram\":[{\"marker\":{\"pattern\":{\"fillmode\":\"overlay\",\"size\":10,\"solidity\":0.2}},\"type\":\"histogram\"}],\"histogram2d\":[{\"colorbar\":{\"outlinewidth\":0,\"ticks\":\"\"},\"colorscale\":[[0.0,\"#0d0887\"],[0.1111111111111111,\"#46039f\"],[0.2222222222222222,\"#7201a8\"],[0.3333333333333333,\"#9c179e\"],[0.4444444444444444,\"#bd3786\"],[0.5555555555555556,\"#d8576b\"],[0.6666666666666666,\"#ed7953\"],[0.7777777777777778,\"#fb9f3a\"],[0.8888888888888888,\"#fdca26\"],[1.0,\"#f0f921\"]],\"type\":\"histogram2d\"}],\"histogram2dcontour\":[{\"colorbar\":{\"outlinewidth\":0,\"ticks\":\"\"},\"colorscale\":[[0.0,\"#0d0887\"],[0.1111111111111111,\"#46039f\"],[0.2222222222222222,\"#7201a8\"],[0.3333333333333333,\"#9c179e\"],[0.4444444444444444,\"#bd3786\"],[0.5555555555555556,\"#d8576b\"],[0.6666666666666666,\"#ed7953\"],[0.7777777777777778,\"#fb9f3a\"],[0.8888888888888888,\"#fdca26\"],[1.0,\"#f0f921\"]],\"type\":\"histogram2dcontour\"}],\"mesh3d\":[{\"colorbar\":{\"outlinewidth\":0,\"ticks\":\"\"},\"type\":\"mesh3d\"}],\"parcoords\":[{\"line\":{\"colorbar\":{\"outlinewidth\":0,\"ticks\":\"\"}},\"type\":\"parcoords\"}],\"pie\":[{\"automargin\":true,\"type\":\"pie\"}],\"scatter\":[{\"marker\":{\"colorbar\":{\"outlinewidth\":0,\"ticks\":\"\"}},\"type\":\"scatter\"}],\"scatter3d\":[{\"line\":{\"colorbar\":{\"outlinewidth\":0,\"ticks\":\"\"}},\"marker\":{\"colorbar\":{\"outlinewidth\":0,\"ticks\":\"\"}},\"type\":\"scatter3d\"}],\"scattercarpet\":[{\"marker\":{\"colorbar\":{\"outlinewidth\":0,\"ticks\":\"\"}},\"type\":\"scattercarpet\"}],\"scattergeo\":[{\"marker\":{\"colorbar\":{\"outlinewidth\":0,\"ticks\":\"\"}},\"type\":\"scattergeo\"}],\"scattergl\":[{\"marker\":{\"colorbar\":{\"outlinewidth\":0,\"ticks\":\"\"}},\"type\":\"scattergl\"}],\"scattermapbox\":[{\"marker\":{\"colorbar\":{\"outlinewidth\":0,\"ticks\":\"\"}},\"type\":\"scattermapbox\"}],\"scatterpolar\":[{\"marker\":{\"colorbar\":{\"outlinewidth\":0,\"ticks\":\"\"}},\"type\":\"scatterpolar\"}],\"scatterpolargl\":[{\"marker\":{\"colorbar\":{\"outlinewidth\":0,\"ticks\":\"\"}},\"type\":\"scatterpolargl\"}],\"scatterternary\":[{\"marker\":{\"colorbar\":{\"outlinewidth\":0,\"ticks\":\"\"}},\"type\":\"scatterternary\"}],\"surface\":[{\"colorbar\":{\"outlinewidth\":0,\"ticks\":\"\"},\"colorscale\":[[0.0,\"#0d0887\"],[0.1111111111111111,\"#46039f\"],[0.2222222222222222,\"#7201a8\"],[0.3333333333333333,\"#9c179e\"],[0.4444444444444444,\"#bd3786\"],[0.5555555555555556,\"#d8576b\"],[0.6666666666666666,\"#ed7953\"],[0.7777777777777778,\"#fb9f3a\"],[0.8888888888888888,\"#fdca26\"],[1.0,\"#f0f921\"]],\"type\":\"surface\"}],\"table\":[{\"cells\":{\"fill\":{\"color\":\"#EBF0F8\"},\"line\":{\"color\":\"white\"}},\"header\":{\"fill\":{\"color\":\"#C8D4E3\"},\"line\":{\"color\":\"white\"}},\"type\":\"table\"}]},\"layout\":{\"annotationdefaults\":{\"arrowcolor\":\"#2a3f5f\",\"arrowhead\":0,\"arrowwidth\":1},\"autotypenumbers\":\"strict\",\"coloraxis\":{\"colorbar\":{\"outlinewidth\":0,\"ticks\":\"\"}},\"colorscale\":{\"diverging\":[[0,\"#8e0152\"],[0.1,\"#c51b7d\"],[0.2,\"#de77ae\"],[0.3,\"#f1b6da\"],[0.4,\"#fde0ef\"],[0.5,\"#f7f7f7\"],[0.6,\"#e6f5d0\"],[0.7,\"#b8e186\"],[0.8,\"#7fbc41\"],[0.9,\"#4d9221\"],[1,\"#276419\"]],\"sequential\":[[0.0,\"#0d0887\"],[0.1111111111111111,\"#46039f\"],[0.2222222222222222,\"#7201a8\"],[0.3333333333333333,\"#9c179e\"],[0.4444444444444444,\"#bd3786\"],[0.5555555555555556,\"#d8576b\"],[0.6666666666666666,\"#ed7953\"],[0.7777777777777778,\"#fb9f3a\"],[0.8888888888888888,\"#fdca26\"],[1.0,\"#f0f921\"]],\"sequentialminus\":[[0.0,\"#0d0887\"],[0.1111111111111111,\"#46039f\"],[0.2222222222222222,\"#7201a8\"],[0.3333333333333333,\"#9c179e\"],[0.4444444444444444,\"#bd3786\"],[0.5555555555555556,\"#d8576b\"],[0.6666666666666666,\"#ed7953\"],[0.7777777777777778,\"#fb9f3a\"],[0.8888888888888888,\"#fdca26\"],[1.0,\"#f0f921\"]]},\"colorway\":[\"#636efa\",\"#EF553B\",\"#00cc96\",\"#ab63fa\",\"#FFA15A\",\"#19d3f3\",\"#FF6692\",\"#B6E880\",\"#FF97FF\",\"#FECB52\"],\"font\":{\"color\":\"#2a3f5f\"},\"geo\":{\"bgcolor\":\"white\",\"lakecolor\":\"white\",\"landcolor\":\"#E5ECF6\",\"showlakes\":true,\"showland\":true,\"subunitcolor\":\"white\"},\"hoverlabel\":{\"align\":\"left\"},\"hovermode\":\"closest\",\"mapbox\":{\"style\":\"light\"},\"paper_bgcolor\":\"white\",\"plot_bgcolor\":\"#E5ECF6\",\"polar\":{\"angularaxis\":{\"gridcolor\":\"white\",\"linecolor\":\"white\",\"ticks\":\"\"},\"bgcolor\":\"#E5ECF6\",\"radialaxis\":{\"gridcolor\":\"white\",\"linecolor\":\"white\",\"ticks\":\"\"}},\"scene\":{\"xaxis\":{\"backgroundcolor\":\"#E5ECF6\",\"gridcolor\":\"white\",\"gridwidth\":2,\"linecolor\":\"white\",\"showbackground\":true,\"ticks\":\"\",\"zerolinecolor\":\"white\"},\"yaxis\":{\"backgroundcolor\":\"#E5ECF6\",\"gridcolor\":\"white\",\"gridwidth\":2,\"linecolor\":\"white\",\"showbackground\":true,\"ticks\":\"\",\"zerolinecolor\":\"white\"},\"zaxis\":{\"backgroundcolor\":\"#E5ECF6\",\"gridcolor\":\"white\",\"gridwidth\":2,\"linecolor\":\"white\",\"showbackground\":true,\"ticks\":\"\",\"zerolinecolor\":\"white\"}},\"shapedefaults\":{\"line\":{\"color\":\"#2a3f5f\"}},\"ternary\":{\"aaxis\":{\"gridcolor\":\"white\",\"linecolor\":\"white\",\"ticks\":\"\"},\"baxis\":{\"gridcolor\":\"white\",\"linecolor\":\"white\",\"ticks\":\"\"},\"bgcolor\":\"#E5ECF6\",\"caxis\":{\"gridcolor\":\"white\",\"linecolor\":\"white\",\"ticks\":\"\"}},\"title\":{\"x\":0.05},\"xaxis\":{\"automargin\":true,\"gridcolor\":\"white\",\"linecolor\":\"white\",\"ticks\":\"\",\"title\":{\"standoff\":15},\"zerolinecolor\":\"white\",\"zerolinewidth\":2},\"yaxis\":{\"automargin\":true,\"gridcolor\":\"white\",\"linecolor\":\"white\",\"ticks\":\"\",\"title\":{\"standoff\":15},\"zerolinecolor\":\"white\",\"zerolinewidth\":2}}},\"geo\":{\"domain\":{\"x\":[0.0,1.0],\"y\":[0.0,1.0]},\"center\":{}},\"legend\":{\"tracegroupgap\":0,\"itemsizing\":\"constant\"},\"title\":{\"text\":\"Total slaves embarked imputed * (slaximp) - by - Imputed principal region of slave disembarkation (MJSELIMP)\"},\"updatemenus\":[{\"buttons\":[{\"args\":[null,{\"frame\":{\"duration\":500,\"redraw\":true},\"mode\":\"immediate\",\"fromcurrent\":true,\"transition\":{\"duration\":500,\"easing\":\"linear\"}}],\"label\":\"&#9654;\",\"method\":\"animate\"},{\"args\":[[null],{\"frame\":{\"duration\":0,\"redraw\":true},\"mode\":\"immediate\",\"fromcurrent\":true,\"transition\":{\"duration\":0,\"easing\":\"linear\"}}],\"label\":\"&#9724;\",\"method\":\"animate\"}],\"direction\":\"left\",\"pad\":{\"r\":10,\"t\":70},\"showactive\":false,\"type\":\"buttons\",\"x\":0.1,\"xanchor\":\"right\",\"y\":0,\"yanchor\":\"top\"}],\"sliders\":[{\"active\":0,\"currentvalue\":{\"prefix\":\"Year voyage began=\"},\"len\":0.9,\"pad\":{\"b\":10,\"t\":60},\"steps\":[{\"args\":[[\"1722\"],{\"frame\":{\"duration\":0,\"redraw\":true},\"mode\":\"immediate\",\"fromcurrent\":true,\"transition\":{\"duration\":0,\"easing\":\"linear\"}}],\"label\":\"1722\",\"method\":\"animate\"},{\"args\":[[\"1723\"],{\"frame\":{\"duration\":0,\"redraw\":true},\"mode\":\"immediate\",\"fromcurrent\":true,\"transition\":{\"duration\":0,\"easing\":\"linear\"}}],\"label\":\"1723\",\"method\":\"animate\"},{\"args\":[[\"1724\"],{\"frame\":{\"duration\":0,\"redraw\":true},\"mode\":\"immediate\",\"fromcurrent\":true,\"transition\":{\"duration\":0,\"easing\":\"linear\"}}],\"label\":\"1724\",\"method\":\"animate\"},{\"args\":[[\"1725\"],{\"frame\":{\"duration\":0,\"redraw\":true},\"mode\":\"immediate\",\"fromcurrent\":true,\"transition\":{\"duration\":0,\"easing\":\"linear\"}}],\"label\":\"1725\",\"method\":\"animate\"},{\"args\":[[\"1726\"],{\"frame\":{\"duration\":0,\"redraw\":true},\"mode\":\"immediate\",\"fromcurrent\":true,\"transition\":{\"duration\":0,\"easing\":\"linear\"}}],\"label\":\"1726\",\"method\":\"animate\"},{\"args\":[[\"1727\"],{\"frame\":{\"duration\":0,\"redraw\":true},\"mode\":\"immediate\",\"fromcurrent\":true,\"transition\":{\"duration\":0,\"easing\":\"linear\"}}],\"label\":\"1727\",\"method\":\"animate\"},{\"args\":[[\"1728\"],{\"frame\":{\"duration\":0,\"redraw\":true},\"mode\":\"immediate\",\"fromcurrent\":true,\"transition\":{\"duration\":0,\"easing\":\"linear\"}}],\"label\":\"1728\",\"method\":\"animate\"},{\"args\":[[\"1729\"],{\"frame\":{\"duration\":0,\"redraw\":true},\"mode\":\"immediate\",\"fromcurrent\":true,\"transition\":{\"duration\":0,\"easing\":\"linear\"}}],\"label\":\"1729\",\"method\":\"animate\"},{\"args\":[[\"1730\"],{\"frame\":{\"duration\":0,\"redraw\":true},\"mode\":\"immediate\",\"fromcurrent\":true,\"transition\":{\"duration\":0,\"easing\":\"linear\"}}],\"label\":\"1730\",\"method\":\"animate\"},{\"args\":[[\"1731\"],{\"frame\":{\"duration\":0,\"redraw\":true},\"mode\":\"immediate\",\"fromcurrent\":true,\"transition\":{\"duration\":0,\"easing\":\"linear\"}}],\"label\":\"1731\",\"method\":\"animate\"},{\"args\":[[\"1732\"],{\"frame\":{\"duration\":0,\"redraw\":true},\"mode\":\"immediate\",\"fromcurrent\":true,\"transition\":{\"duration\":0,\"easing\":\"linear\"}}],\"label\":\"1732\",\"method\":\"animate\"},{\"args\":[[\"1733\"],{\"frame\":{\"duration\":0,\"redraw\":true},\"mode\":\"immediate\",\"fromcurrent\":true,\"transition\":{\"duration\":0,\"easing\":\"linear\"}}],\"label\":\"1733\",\"method\":\"animate\"},{\"args\":[[\"1734\"],{\"frame\":{\"duration\":0,\"redraw\":true},\"mode\":\"immediate\",\"fromcurrent\":true,\"transition\":{\"duration\":0,\"easing\":\"linear\"}}],\"label\":\"1734\",\"method\":\"animate\"},{\"args\":[[\"1735\"],{\"frame\":{\"duration\":0,\"redraw\":true},\"mode\":\"immediate\",\"fromcurrent\":true,\"transition\":{\"duration\":0,\"easing\":\"linear\"}}],\"label\":\"1735\",\"method\":\"animate\"},{\"args\":[[\"1736\"],{\"frame\":{\"duration\":0,\"redraw\":true},\"mode\":\"immediate\",\"fromcurrent\":true,\"transition\":{\"duration\":0,\"easing\":\"linear\"}}],\"label\":\"1736\",\"method\":\"animate\"},{\"args\":[[\"1737\"],{\"frame\":{\"duration\":0,\"redraw\":true},\"mode\":\"immediate\",\"fromcurrent\":true,\"transition\":{\"duration\":0,\"easing\":\"linear\"}}],\"label\":\"1737\",\"method\":\"animate\"},{\"args\":[[\"1738\"],{\"frame\":{\"duration\":0,\"redraw\":true},\"mode\":\"immediate\",\"fromcurrent\":true,\"transition\":{\"duration\":0,\"easing\":\"linear\"}}],\"label\":\"1738\",\"method\":\"animate\"},{\"args\":[[\"1739\"],{\"frame\":{\"duration\":0,\"redraw\":true},\"mode\":\"immediate\",\"fromcurrent\":true,\"transition\":{\"duration\":0,\"easing\":\"linear\"}}],\"label\":\"1739\",\"method\":\"animate\"},{\"args\":[[\"1740\"],{\"frame\":{\"duration\":0,\"redraw\":true},\"mode\":\"immediate\",\"fromcurrent\":true,\"transition\":{\"duration\":0,\"easing\":\"linear\"}}],\"label\":\"1740\",\"method\":\"animate\"},{\"args\":[[\"1741\"],{\"frame\":{\"duration\":0,\"redraw\":true},\"mode\":\"immediate\",\"fromcurrent\":true,\"transition\":{\"duration\":0,\"easing\":\"linear\"}}],\"label\":\"1741\",\"method\":\"animate\"},{\"args\":[[\"1742\"],{\"frame\":{\"duration\":0,\"redraw\":true},\"mode\":\"immediate\",\"fromcurrent\":true,\"transition\":{\"duration\":0,\"easing\":\"linear\"}}],\"label\":\"1742\",\"method\":\"animate\"},{\"args\":[[\"1743\"],{\"frame\":{\"duration\":0,\"redraw\":true},\"mode\":\"immediate\",\"fromcurrent\":true,\"transition\":{\"duration\":0,\"easing\":\"linear\"}}],\"label\":\"1743\",\"method\":\"animate\"},{\"args\":[[\"1744\"],{\"frame\":{\"duration\":0,\"redraw\":true},\"mode\":\"immediate\",\"fromcurrent\":true,\"transition\":{\"duration\":0,\"easing\":\"linear\"}}],\"label\":\"1744\",\"method\":\"animate\"},{\"args\":[[\"1745\"],{\"frame\":{\"duration\":0,\"redraw\":true},\"mode\":\"immediate\",\"fromcurrent\":true,\"transition\":{\"duration\":0,\"easing\":\"linear\"}}],\"label\":\"1745\",\"method\":\"animate\"},{\"args\":[[\"1746\"],{\"frame\":{\"duration\":0,\"redraw\":true},\"mode\":\"immediate\",\"fromcurrent\":true,\"transition\":{\"duration\":0,\"easing\":\"linear\"}}],\"label\":\"1746\",\"method\":\"animate\"},{\"args\":[[\"1747\"],{\"frame\":{\"duration\":0,\"redraw\":true},\"mode\":\"immediate\",\"fromcurrent\":true,\"transition\":{\"duration\":0,\"easing\":\"linear\"}}],\"label\":\"1747\",\"method\":\"animate\"},{\"args\":[[\"1748\"],{\"frame\":{\"duration\":0,\"redraw\":true},\"mode\":\"immediate\",\"fromcurrent\":true,\"transition\":{\"duration\":0,\"easing\":\"linear\"}}],\"label\":\"1748\",\"method\":\"animate\"},{\"args\":[[\"1749\"],{\"frame\":{\"duration\":0,\"redraw\":true},\"mode\":\"immediate\",\"fromcurrent\":true,\"transition\":{\"duration\":0,\"easing\":\"linear\"}}],\"label\":\"1749\",\"method\":\"animate\"},{\"args\":[[\"1750\"],{\"frame\":{\"duration\":0,\"redraw\":true},\"mode\":\"immediate\",\"fromcurrent\":true,\"transition\":{\"duration\":0,\"easing\":\"linear\"}}],\"label\":\"1750\",\"method\":\"animate\"},{\"args\":[[\"1751\"],{\"frame\":{\"duration\":0,\"redraw\":true},\"mode\":\"immediate\",\"fromcurrent\":true,\"transition\":{\"duration\":0,\"easing\":\"linear\"}}],\"label\":\"1751\",\"method\":\"animate\"},{\"args\":[[\"1752\"],{\"frame\":{\"duration\":0,\"redraw\":true},\"mode\":\"immediate\",\"fromcurrent\":true,\"transition\":{\"duration\":0,\"easing\":\"linear\"}}],\"label\":\"1752\",\"method\":\"animate\"},{\"args\":[[\"1753\"],{\"frame\":{\"duration\":0,\"redraw\":true},\"mode\":\"immediate\",\"fromcurrent\":true,\"transition\":{\"duration\":0,\"easing\":\"linear\"}}],\"label\":\"1753\",\"method\":\"animate\"},{\"args\":[[\"1754\"],{\"frame\":{\"duration\":0,\"redraw\":true},\"mode\":\"immediate\",\"fromcurrent\":true,\"transition\":{\"duration\":0,\"easing\":\"linear\"}}],\"label\":\"1754\",\"method\":\"animate\"},{\"args\":[[\"1755\"],{\"frame\":{\"duration\":0,\"redraw\":true},\"mode\":\"immediate\",\"fromcurrent\":true,\"transition\":{\"duration\":0,\"easing\":\"linear\"}}],\"label\":\"1755\",\"method\":\"animate\"},{\"args\":[[\"1756\"],{\"frame\":{\"duration\":0,\"redraw\":true},\"mode\":\"immediate\",\"fromcurrent\":true,\"transition\":{\"duration\":0,\"easing\":\"linear\"}}],\"label\":\"1756\",\"method\":\"animate\"},{\"args\":[[\"1757\"],{\"frame\":{\"duration\":0,\"redraw\":true},\"mode\":\"immediate\",\"fromcurrent\":true,\"transition\":{\"duration\":0,\"easing\":\"linear\"}}],\"label\":\"1757\",\"method\":\"animate\"},{\"args\":[[\"1758\"],{\"frame\":{\"duration\":0,\"redraw\":true},\"mode\":\"immediate\",\"fromcurrent\":true,\"transition\":{\"duration\":0,\"easing\":\"linear\"}}],\"label\":\"1758\",\"method\":\"animate\"},{\"args\":[[\"1759\"],{\"frame\":{\"duration\":0,\"redraw\":true},\"mode\":\"immediate\",\"fromcurrent\":true,\"transition\":{\"duration\":0,\"easing\":\"linear\"}}],\"label\":\"1759\",\"method\":\"animate\"},{\"args\":[[\"1760\"],{\"frame\":{\"duration\":0,\"redraw\":true},\"mode\":\"immediate\",\"fromcurrent\":true,\"transition\":{\"duration\":0,\"easing\":\"linear\"}}],\"label\":\"1760\",\"method\":\"animate\"},{\"args\":[[\"1761\"],{\"frame\":{\"duration\":0,\"redraw\":true},\"mode\":\"immediate\",\"fromcurrent\":true,\"transition\":{\"duration\":0,\"easing\":\"linear\"}}],\"label\":\"1761\",\"method\":\"animate\"},{\"args\":[[\"1762\"],{\"frame\":{\"duration\":0,\"redraw\":true},\"mode\":\"immediate\",\"fromcurrent\":true,\"transition\":{\"duration\":0,\"easing\":\"linear\"}}],\"label\":\"1762\",\"method\":\"animate\"},{\"args\":[[\"1763\"],{\"frame\":{\"duration\":0,\"redraw\":true},\"mode\":\"immediate\",\"fromcurrent\":true,\"transition\":{\"duration\":0,\"easing\":\"linear\"}}],\"label\":\"1763\",\"method\":\"animate\"},{\"args\":[[\"1764\"],{\"frame\":{\"duration\":0,\"redraw\":true},\"mode\":\"immediate\",\"fromcurrent\":true,\"transition\":{\"duration\":0,\"easing\":\"linear\"}}],\"label\":\"1764\",\"method\":\"animate\"},{\"args\":[[\"1765\"],{\"frame\":{\"duration\":0,\"redraw\":true},\"mode\":\"immediate\",\"fromcurrent\":true,\"transition\":{\"duration\":0,\"easing\":\"linear\"}}],\"label\":\"1765\",\"method\":\"animate\"},{\"args\":[[\"1766\"],{\"frame\":{\"duration\":0,\"redraw\":true},\"mode\":\"immediate\",\"fromcurrent\":true,\"transition\":{\"duration\":0,\"easing\":\"linear\"}}],\"label\":\"1766\",\"method\":\"animate\"},{\"args\":[[\"1767\"],{\"frame\":{\"duration\":0,\"redraw\":true},\"mode\":\"immediate\",\"fromcurrent\":true,\"transition\":{\"duration\":0,\"easing\":\"linear\"}}],\"label\":\"1767\",\"method\":\"animate\"},{\"args\":[[\"1768\"],{\"frame\":{\"duration\":0,\"redraw\":true},\"mode\":\"immediate\",\"fromcurrent\":true,\"transition\":{\"duration\":0,\"easing\":\"linear\"}}],\"label\":\"1768\",\"method\":\"animate\"},{\"args\":[[\"1769\"],{\"frame\":{\"duration\":0,\"redraw\":true},\"mode\":\"immediate\",\"fromcurrent\":true,\"transition\":{\"duration\":0,\"easing\":\"linear\"}}],\"label\":\"1769\",\"method\":\"animate\"},{\"args\":[[\"1770\"],{\"frame\":{\"duration\":0,\"redraw\":true},\"mode\":\"immediate\",\"fromcurrent\":true,\"transition\":{\"duration\":0,\"easing\":\"linear\"}}],\"label\":\"1770\",\"method\":\"animate\"},{\"args\":[[\"1771\"],{\"frame\":{\"duration\":0,\"redraw\":true},\"mode\":\"immediate\",\"fromcurrent\":true,\"transition\":{\"duration\":0,\"easing\":\"linear\"}}],\"label\":\"1771\",\"method\":\"animate\"},{\"args\":[[\"1772\"],{\"frame\":{\"duration\":0,\"redraw\":true},\"mode\":\"immediate\",\"fromcurrent\":true,\"transition\":{\"duration\":0,\"easing\":\"linear\"}}],\"label\":\"1772\",\"method\":\"animate\"},{\"args\":[[\"1773\"],{\"frame\":{\"duration\":0,\"redraw\":true},\"mode\":\"immediate\",\"fromcurrent\":true,\"transition\":{\"duration\":0,\"easing\":\"linear\"}}],\"label\":\"1773\",\"method\":\"animate\"},{\"args\":[[\"1774\"],{\"frame\":{\"duration\":0,\"redraw\":true},\"mode\":\"immediate\",\"fromcurrent\":true,\"transition\":{\"duration\":0,\"easing\":\"linear\"}}],\"label\":\"1774\",\"method\":\"animate\"},{\"args\":[[\"1775\"],{\"frame\":{\"duration\":0,\"redraw\":true},\"mode\":\"immediate\",\"fromcurrent\":true,\"transition\":{\"duration\":0,\"easing\":\"linear\"}}],\"label\":\"1775\",\"method\":\"animate\"},{\"args\":[[\"1776\"],{\"frame\":{\"duration\":0,\"redraw\":true},\"mode\":\"immediate\",\"fromcurrent\":true,\"transition\":{\"duration\":0,\"easing\":\"linear\"}}],\"label\":\"1776\",\"method\":\"animate\"},{\"args\":[[\"1777\"],{\"frame\":{\"duration\":0,\"redraw\":true},\"mode\":\"immediate\",\"fromcurrent\":true,\"transition\":{\"duration\":0,\"easing\":\"linear\"}}],\"label\":\"1777\",\"method\":\"animate\"},{\"args\":[[\"1778\"],{\"frame\":{\"duration\":0,\"redraw\":true},\"mode\":\"immediate\",\"fromcurrent\":true,\"transition\":{\"duration\":0,\"easing\":\"linear\"}}],\"label\":\"1778\",\"method\":\"animate\"},{\"args\":[[\"1779\"],{\"frame\":{\"duration\":0,\"redraw\":true},\"mode\":\"immediate\",\"fromcurrent\":true,\"transition\":{\"duration\":0,\"easing\":\"linear\"}}],\"label\":\"1779\",\"method\":\"animate\"},{\"args\":[[\"1780\"],{\"frame\":{\"duration\":0,\"redraw\":true},\"mode\":\"immediate\",\"fromcurrent\":true,\"transition\":{\"duration\":0,\"easing\":\"linear\"}}],\"label\":\"1780\",\"method\":\"animate\"},{\"args\":[[\"1781\"],{\"frame\":{\"duration\":0,\"redraw\":true},\"mode\":\"immediate\",\"fromcurrent\":true,\"transition\":{\"duration\":0,\"easing\":\"linear\"}}],\"label\":\"1781\",\"method\":\"animate\"},{\"args\":[[\"1782\"],{\"frame\":{\"duration\":0,\"redraw\":true},\"mode\":\"immediate\",\"fromcurrent\":true,\"transition\":{\"duration\":0,\"easing\":\"linear\"}}],\"label\":\"1782\",\"method\":\"animate\"},{\"args\":[[\"1783\"],{\"frame\":{\"duration\":0,\"redraw\":true},\"mode\":\"immediate\",\"fromcurrent\":true,\"transition\":{\"duration\":0,\"easing\":\"linear\"}}],\"label\":\"1783\",\"method\":\"animate\"},{\"args\":[[\"1784\"],{\"frame\":{\"duration\":0,\"redraw\":true},\"mode\":\"immediate\",\"fromcurrent\":true,\"transition\":{\"duration\":0,\"easing\":\"linear\"}}],\"label\":\"1784\",\"method\":\"animate\"},{\"args\":[[\"1785\"],{\"frame\":{\"duration\":0,\"redraw\":true},\"mode\":\"immediate\",\"fromcurrent\":true,\"transition\":{\"duration\":0,\"easing\":\"linear\"}}],\"label\":\"1785\",\"method\":\"animate\"},{\"args\":[[\"1786\"],{\"frame\":{\"duration\":0,\"redraw\":true},\"mode\":\"immediate\",\"fromcurrent\":true,\"transition\":{\"duration\":0,\"easing\":\"linear\"}}],\"label\":\"1786\",\"method\":\"animate\"},{\"args\":[[\"1787\"],{\"frame\":{\"duration\":0,\"redraw\":true},\"mode\":\"immediate\",\"fromcurrent\":true,\"transition\":{\"duration\":0,\"easing\":\"linear\"}}],\"label\":\"1787\",\"method\":\"animate\"},{\"args\":[[\"1788\"],{\"frame\":{\"duration\":0,\"redraw\":true},\"mode\":\"immediate\",\"fromcurrent\":true,\"transition\":{\"duration\":0,\"easing\":\"linear\"}}],\"label\":\"1788\",\"method\":\"animate\"},{\"args\":[[\"1789\"],{\"frame\":{\"duration\":0,\"redraw\":true},\"mode\":\"immediate\",\"fromcurrent\":true,\"transition\":{\"duration\":0,\"easing\":\"linear\"}}],\"label\":\"1789\",\"method\":\"animate\"},{\"args\":[[\"1790\"],{\"frame\":{\"duration\":0,\"redraw\":true},\"mode\":\"immediate\",\"fromcurrent\":true,\"transition\":{\"duration\":0,\"easing\":\"linear\"}}],\"label\":\"1790\",\"method\":\"animate\"},{\"args\":[[\"1791\"],{\"frame\":{\"duration\":0,\"redraw\":true},\"mode\":\"immediate\",\"fromcurrent\":true,\"transition\":{\"duration\":0,\"easing\":\"linear\"}}],\"label\":\"1791\",\"method\":\"animate\"},{\"args\":[[\"1792\"],{\"frame\":{\"duration\":0,\"redraw\":true},\"mode\":\"immediate\",\"fromcurrent\":true,\"transition\":{\"duration\":0,\"easing\":\"linear\"}}],\"label\":\"1792\",\"method\":\"animate\"},{\"args\":[[\"1793\"],{\"frame\":{\"duration\":0,\"redraw\":true},\"mode\":\"immediate\",\"fromcurrent\":true,\"transition\":{\"duration\":0,\"easing\":\"linear\"}}],\"label\":\"1793\",\"method\":\"animate\"},{\"args\":[[\"1794\"],{\"frame\":{\"duration\":0,\"redraw\":true},\"mode\":\"immediate\",\"fromcurrent\":true,\"transition\":{\"duration\":0,\"easing\":\"linear\"}}],\"label\":\"1794\",\"method\":\"animate\"},{\"args\":[[\"1795\"],{\"frame\":{\"duration\":0,\"redraw\":true},\"mode\":\"immediate\",\"fromcurrent\":true,\"transition\":{\"duration\":0,\"easing\":\"linear\"}}],\"label\":\"1795\",\"method\":\"animate\"},{\"args\":[[\"1796\"],{\"frame\":{\"duration\":0,\"redraw\":true},\"mode\":\"immediate\",\"fromcurrent\":true,\"transition\":{\"duration\":0,\"easing\":\"linear\"}}],\"label\":\"1796\",\"method\":\"animate\"},{\"args\":[[\"1797\"],{\"frame\":{\"duration\":0,\"redraw\":true},\"mode\":\"immediate\",\"fromcurrent\":true,\"transition\":{\"duration\":0,\"easing\":\"linear\"}}],\"label\":\"1797\",\"method\":\"animate\"},{\"args\":[[\"1798\"],{\"frame\":{\"duration\":0,\"redraw\":true},\"mode\":\"immediate\",\"fromcurrent\":true,\"transition\":{\"duration\":0,\"easing\":\"linear\"}}],\"label\":\"1798\",\"method\":\"animate\"},{\"args\":[[\"1799\"],{\"frame\":{\"duration\":0,\"redraw\":true},\"mode\":\"immediate\",\"fromcurrent\":true,\"transition\":{\"duration\":0,\"easing\":\"linear\"}}],\"label\":\"1799\",\"method\":\"animate\"},{\"args\":[[\"1800\"],{\"frame\":{\"duration\":0,\"redraw\":true},\"mode\":\"immediate\",\"fromcurrent\":true,\"transition\":{\"duration\":0,\"easing\":\"linear\"}}],\"label\":\"1800\",\"method\":\"animate\"},{\"args\":[[\"1801\"],{\"frame\":{\"duration\":0,\"redraw\":true},\"mode\":\"immediate\",\"fromcurrent\":true,\"transition\":{\"duration\":0,\"easing\":\"linear\"}}],\"label\":\"1801\",\"method\":\"animate\"},{\"args\":[[\"1802\"],{\"frame\":{\"duration\":0,\"redraw\":true},\"mode\":\"immediate\",\"fromcurrent\":true,\"transition\":{\"duration\":0,\"easing\":\"linear\"}}],\"label\":\"1802\",\"method\":\"animate\"},{\"args\":[[\"1803\"],{\"frame\":{\"duration\":0,\"redraw\":true},\"mode\":\"immediate\",\"fromcurrent\":true,\"transition\":{\"duration\":0,\"easing\":\"linear\"}}],\"label\":\"1803\",\"method\":\"animate\"},{\"args\":[[\"1804\"],{\"frame\":{\"duration\":0,\"redraw\":true},\"mode\":\"immediate\",\"fromcurrent\":true,\"transition\":{\"duration\":0,\"easing\":\"linear\"}}],\"label\":\"1804\",\"method\":\"animate\"},{\"args\":[[\"1805\"],{\"frame\":{\"duration\":0,\"redraw\":true},\"mode\":\"immediate\",\"fromcurrent\":true,\"transition\":{\"duration\":0,\"easing\":\"linear\"}}],\"label\":\"1805\",\"method\":\"animate\"},{\"args\":[[\"1806\"],{\"frame\":{\"duration\":0,\"redraw\":true},\"mode\":\"immediate\",\"fromcurrent\":true,\"transition\":{\"duration\":0,\"easing\":\"linear\"}}],\"label\":\"1806\",\"method\":\"animate\"},{\"args\":[[\"1807\"],{\"frame\":{\"duration\":0,\"redraw\":true},\"mode\":\"immediate\",\"fromcurrent\":true,\"transition\":{\"duration\":0,\"easing\":\"linear\"}}],\"label\":\"1807\",\"method\":\"animate\"},{\"args\":[[\"1808\"],{\"frame\":{\"duration\":0,\"redraw\":true},\"mode\":\"immediate\",\"fromcurrent\":true,\"transition\":{\"duration\":0,\"easing\":\"linear\"}}],\"label\":\"1808\",\"method\":\"animate\"},{\"args\":[[\"1809\"],{\"frame\":{\"duration\":0,\"redraw\":true},\"mode\":\"immediate\",\"fromcurrent\":true,\"transition\":{\"duration\":0,\"easing\":\"linear\"}}],\"label\":\"1809\",\"method\":\"animate\"},{\"args\":[[\"1810\"],{\"frame\":{\"duration\":0,\"redraw\":true},\"mode\":\"immediate\",\"fromcurrent\":true,\"transition\":{\"duration\":0,\"easing\":\"linear\"}}],\"label\":\"1810\",\"method\":\"animate\"},{\"args\":[[\"1811\"],{\"frame\":{\"duration\":0,\"redraw\":true},\"mode\":\"immediate\",\"fromcurrent\":true,\"transition\":{\"duration\":0,\"easing\":\"linear\"}}],\"label\":\"1811\",\"method\":\"animate\"},{\"args\":[[\"1812\"],{\"frame\":{\"duration\":0,\"redraw\":true},\"mode\":\"immediate\",\"fromcurrent\":true,\"transition\":{\"duration\":0,\"easing\":\"linear\"}}],\"label\":\"1812\",\"method\":\"animate\"},{\"args\":[[\"1813\"],{\"frame\":{\"duration\":0,\"redraw\":true},\"mode\":\"immediate\",\"fromcurrent\":true,\"transition\":{\"duration\":0,\"easing\":\"linear\"}}],\"label\":\"1813\",\"method\":\"animate\"},{\"args\":[[\"1814\"],{\"frame\":{\"duration\":0,\"redraw\":true},\"mode\":\"immediate\",\"fromcurrent\":true,\"transition\":{\"duration\":0,\"easing\":\"linear\"}}],\"label\":\"1814\",\"method\":\"animate\"},{\"args\":[[\"1815\"],{\"frame\":{\"duration\":0,\"redraw\":true},\"mode\":\"immediate\",\"fromcurrent\":true,\"transition\":{\"duration\":0,\"easing\":\"linear\"}}],\"label\":\"1815\",\"method\":\"animate\"},{\"args\":[[\"1816\"],{\"frame\":{\"duration\":0,\"redraw\":true},\"mode\":\"immediate\",\"fromcurrent\":true,\"transition\":{\"duration\":0,\"easing\":\"linear\"}}],\"label\":\"1816\",\"method\":\"animate\"},{\"args\":[[\"1817\"],{\"frame\":{\"duration\":0,\"redraw\":true},\"mode\":\"immediate\",\"fromcurrent\":true,\"transition\":{\"duration\":0,\"easing\":\"linear\"}}],\"label\":\"1817\",\"method\":\"animate\"},{\"args\":[[\"1818\"],{\"frame\":{\"duration\":0,\"redraw\":true},\"mode\":\"immediate\",\"fromcurrent\":true,\"transition\":{\"duration\":0,\"easing\":\"linear\"}}],\"label\":\"1818\",\"method\":\"animate\"},{\"args\":[[\"1819\"],{\"frame\":{\"duration\":0,\"redraw\":true},\"mode\":\"immediate\",\"fromcurrent\":true,\"transition\":{\"duration\":0,\"easing\":\"linear\"}}],\"label\":\"1819\",\"method\":\"animate\"},{\"args\":[[\"1820\"],{\"frame\":{\"duration\":0,\"redraw\":true},\"mode\":\"immediate\",\"fromcurrent\":true,\"transition\":{\"duration\":0,\"easing\":\"linear\"}}],\"label\":\"1820\",\"method\":\"animate\"},{\"args\":[[\"1821\"],{\"frame\":{\"duration\":0,\"redraw\":true},\"mode\":\"immediate\",\"fromcurrent\":true,\"transition\":{\"duration\":0,\"easing\":\"linear\"}}],\"label\":\"1821\",\"method\":\"animate\"},{\"args\":[[\"1822\"],{\"frame\":{\"duration\":0,\"redraw\":true},\"mode\":\"immediate\",\"fromcurrent\":true,\"transition\":{\"duration\":0,\"easing\":\"linear\"}}],\"label\":\"1822\",\"method\":\"animate\"},{\"args\":[[\"1823\"],{\"frame\":{\"duration\":0,\"redraw\":true},\"mode\":\"immediate\",\"fromcurrent\":true,\"transition\":{\"duration\":0,\"easing\":\"linear\"}}],\"label\":\"1823\",\"method\":\"animate\"},{\"args\":[[\"1824\"],{\"frame\":{\"duration\":0,\"redraw\":true},\"mode\":\"immediate\",\"fromcurrent\":true,\"transition\":{\"duration\":0,\"easing\":\"linear\"}}],\"label\":\"1824\",\"method\":\"animate\"},{\"args\":[[\"1825\"],{\"frame\":{\"duration\":0,\"redraw\":true},\"mode\":\"immediate\",\"fromcurrent\":true,\"transition\":{\"duration\":0,\"easing\":\"linear\"}}],\"label\":\"1825\",\"method\":\"animate\"},{\"args\":[[\"1826\"],{\"frame\":{\"duration\":0,\"redraw\":true},\"mode\":\"immediate\",\"fromcurrent\":true,\"transition\":{\"duration\":0,\"easing\":\"linear\"}}],\"label\":\"1826\",\"method\":\"animate\"},{\"args\":[[\"1827\"],{\"frame\":{\"duration\":0,\"redraw\":true},\"mode\":\"immediate\",\"fromcurrent\":true,\"transition\":{\"duration\":0,\"easing\":\"linear\"}}],\"label\":\"1827\",\"method\":\"animate\"},{\"args\":[[\"1828\"],{\"frame\":{\"duration\":0,\"redraw\":true},\"mode\":\"immediate\",\"fromcurrent\":true,\"transition\":{\"duration\":0,\"easing\":\"linear\"}}],\"label\":\"1828\",\"method\":\"animate\"},{\"args\":[[\"1829\"],{\"frame\":{\"duration\":0,\"redraw\":true},\"mode\":\"immediate\",\"fromcurrent\":true,\"transition\":{\"duration\":0,\"easing\":\"linear\"}}],\"label\":\"1829\",\"method\":\"animate\"},{\"args\":[[\"1830\"],{\"frame\":{\"duration\":0,\"redraw\":true},\"mode\":\"immediate\",\"fromcurrent\":true,\"transition\":{\"duration\":0,\"easing\":\"linear\"}}],\"label\":\"1830\",\"method\":\"animate\"},{\"args\":[[\"1831\"],{\"frame\":{\"duration\":0,\"redraw\":true},\"mode\":\"immediate\",\"fromcurrent\":true,\"transition\":{\"duration\":0,\"easing\":\"linear\"}}],\"label\":\"1831\",\"method\":\"animate\"},{\"args\":[[\"1832\"],{\"frame\":{\"duration\":0,\"redraw\":true},\"mode\":\"immediate\",\"fromcurrent\":true,\"transition\":{\"duration\":0,\"easing\":\"linear\"}}],\"label\":\"1832\",\"method\":\"animate\"},{\"args\":[[\"1833\"],{\"frame\":{\"duration\":0,\"redraw\":true},\"mode\":\"immediate\",\"fromcurrent\":true,\"transition\":{\"duration\":0,\"easing\":\"linear\"}}],\"label\":\"1833\",\"method\":\"animate\"},{\"args\":[[\"1834\"],{\"frame\":{\"duration\":0,\"redraw\":true},\"mode\":\"immediate\",\"fromcurrent\":true,\"transition\":{\"duration\":0,\"easing\":\"linear\"}}],\"label\":\"1834\",\"method\":\"animate\"},{\"args\":[[\"1835\"],{\"frame\":{\"duration\":0,\"redraw\":true},\"mode\":\"immediate\",\"fromcurrent\":true,\"transition\":{\"duration\":0,\"easing\":\"linear\"}}],\"label\":\"1835\",\"method\":\"animate\"},{\"args\":[[\"1836\"],{\"frame\":{\"duration\":0,\"redraw\":true},\"mode\":\"immediate\",\"fromcurrent\":true,\"transition\":{\"duration\":0,\"easing\":\"linear\"}}],\"label\":\"1836\",\"method\":\"animate\"},{\"args\":[[\"1837\"],{\"frame\":{\"duration\":0,\"redraw\":true},\"mode\":\"immediate\",\"fromcurrent\":true,\"transition\":{\"duration\":0,\"easing\":\"linear\"}}],\"label\":\"1837\",\"method\":\"animate\"},{\"args\":[[\"1838\"],{\"frame\":{\"duration\":0,\"redraw\":true},\"mode\":\"immediate\",\"fromcurrent\":true,\"transition\":{\"duration\":0,\"easing\":\"linear\"}}],\"label\":\"1838\",\"method\":\"animate\"},{\"args\":[[\"1839\"],{\"frame\":{\"duration\":0,\"redraw\":true},\"mode\":\"immediate\",\"fromcurrent\":true,\"transition\":{\"duration\":0,\"easing\":\"linear\"}}],\"label\":\"1839\",\"method\":\"animate\"},{\"args\":[[\"1840\"],{\"frame\":{\"duration\":0,\"redraw\":true},\"mode\":\"immediate\",\"fromcurrent\":true,\"transition\":{\"duration\":0,\"easing\":\"linear\"}}],\"label\":\"1840\",\"method\":\"animate\"},{\"args\":[[\"1841\"],{\"frame\":{\"duration\":0,\"redraw\":true},\"mode\":\"immediate\",\"fromcurrent\":true,\"transition\":{\"duration\":0,\"easing\":\"linear\"}}],\"label\":\"1841\",\"method\":\"animate\"},{\"args\":[[\"1842\"],{\"frame\":{\"duration\":0,\"redraw\":true},\"mode\":\"immediate\",\"fromcurrent\":true,\"transition\":{\"duration\":0,\"easing\":\"linear\"}}],\"label\":\"1842\",\"method\":\"animate\"},{\"args\":[[\"1843\"],{\"frame\":{\"duration\":0,\"redraw\":true},\"mode\":\"immediate\",\"fromcurrent\":true,\"transition\":{\"duration\":0,\"easing\":\"linear\"}}],\"label\":\"1843\",\"method\":\"animate\"},{\"args\":[[\"1844\"],{\"frame\":{\"duration\":0,\"redraw\":true},\"mode\":\"immediate\",\"fromcurrent\":true,\"transition\":{\"duration\":0,\"easing\":\"linear\"}}],\"label\":\"1844\",\"method\":\"animate\"},{\"args\":[[\"1845\"],{\"frame\":{\"duration\":0,\"redraw\":true},\"mode\":\"immediate\",\"fromcurrent\":true,\"transition\":{\"duration\":0,\"easing\":\"linear\"}}],\"label\":\"1845\",\"method\":\"animate\"},{\"args\":[[\"1846\"],{\"frame\":{\"duration\":0,\"redraw\":true},\"mode\":\"immediate\",\"fromcurrent\":true,\"transition\":{\"duration\":0,\"easing\":\"linear\"}}],\"label\":\"1846\",\"method\":\"animate\"},{\"args\":[[\"1847\"],{\"frame\":{\"duration\":0,\"redraw\":true},\"mode\":\"immediate\",\"fromcurrent\":true,\"transition\":{\"duration\":0,\"easing\":\"linear\"}}],\"label\":\"1847\",\"method\":\"animate\"},{\"args\":[[\"1848\"],{\"frame\":{\"duration\":0,\"redraw\":true},\"mode\":\"immediate\",\"fromcurrent\":true,\"transition\":{\"duration\":0,\"easing\":\"linear\"}}],\"label\":\"1848\",\"method\":\"animate\"},{\"args\":[[\"1849\"],{\"frame\":{\"duration\":0,\"redraw\":true},\"mode\":\"immediate\",\"fromcurrent\":true,\"transition\":{\"duration\":0,\"easing\":\"linear\"}}],\"label\":\"1849\",\"method\":\"animate\"},{\"args\":[[\"1850\"],{\"frame\":{\"duration\":0,\"redraw\":true},\"mode\":\"immediate\",\"fromcurrent\":true,\"transition\":{\"duration\":0,\"easing\":\"linear\"}}],\"label\":\"1850\",\"method\":\"animate\"},{\"args\":[[\"1851\"],{\"frame\":{\"duration\":0,\"redraw\":true},\"mode\":\"immediate\",\"fromcurrent\":true,\"transition\":{\"duration\":0,\"easing\":\"linear\"}}],\"label\":\"1851\",\"method\":\"animate\"}],\"x\":0.1,\"xanchor\":\"left\",\"y\":0,\"yanchor\":\"top\"}]},                        {\"responsive\": true}                    ).then(function(){\n",
       "                            Plotly.addFrames('5eecc83b-bf9d-4428-83ac-b63dd5ec0842', [{\"data\":[{\"customdata\":[[1397.0],[458.0],[100.0],[3241.0],[272.0],[7338.0],[727.0],[6840.0],[470.0],[945.0],[150.0],[468.0],[395.0],[2324.0],[2380.0],[2016.0],[290.0],[3112.0],[80.0],[546.0],[1705.0],[96.0]],\"geo\":\"geo\",\"hovertemplate\":\"<b>%{hovertext}</b><br><br>Year voyage began=1722<br>normalized_sizes=%{marker.size}<br>Latitude=%{lat}<br>Longitude=%{lon}<br>Total slaves embarked imputed * (slaximp)=%{customdata[0]}<extra></extra>\",\"hovertext\":[\"Rio de la Plata\",\"South Carolina\",\"Gulf coast\",\"Saint-Domingue\",\"Other British Caribbean\",\"Jamaica\",\"St. Kitts\",\"Bahia\",\"Nevis\",\"Virginia\",\"Antigua\",\"Guadaloupe\",\"Spanish Circum-Caribbean\",\"Dutch Caribbean\",\"Martinique\",\"Barbados\",\"Dutch Guianas\",\"Pernambuco\",\"French Guiana\",\"Montserrat\",\"Southeast Brazil\",\"Americas\"],\"lat\":[-33.332605,33.1,29.8,18.54,18.0,17.881263,17.3,-12.983333,17.151005,36.9,17.067453,16.0,15.641117,14.751846,14.6,13.1,6.675248,-8.05,5.861294,16.7,-23.48894,0.0],\"legendgroup\":\"\",\"lon\":[-58.498255,-79.54,-89.56,-72.34,-76.8,-76.522778,-62.716667,-38.516667,-62.589223,-76.3,-61.784741,-61.71667,-75.633932,-65.781346,-61.083333,-59.616667,-55.251124,-34.9,-53.612239,-62.216667,-42.256021,0.0],\"marker\":{\"color\":\"#636efa\",\"size\":[7.242082359256962,6.126869184114185,4.605170185988092,8.083637203141548,5.605802066295998,8.900821604915228,6.588926477533519,8.830543010616596,6.152732694704104,6.851184927493743,5.0106352940962555,6.148468295917647,5.978885764901122,7.751045117971802,7.77485576666552,7.60887062919126,5.66988092298052,8.043020885298283,4.382026634673881,6.302618975744905,7.4413203897176174,4.564348191467836],\"sizemode\":\"area\",\"sizeref\":0.02718353458394048,\"symbol\":\"circle\"},\"mode\":\"markers\",\"name\":\"\",\"showlegend\":false,\"type\":\"scattergeo\"}],\"name\":\"1722\"},{\"data\":[{\"customdata\":[[12285.0],[2348.0],[465.0],[3298.0],[304.0],[153.0],[1398.0],[2649.0],[2011.0],[875.0],[1505.0],[455.0],[237.0],[105.0],[767.0],[3127.0],[204.0],[812.0],[2013.0],[2873.0],[1236.0],[744.0]],\"geo\":\"geo\",\"hovertemplate\":\"<b>%{hovertext}</b><br><br>Year voyage began=1723<br>normalized_sizes=%{marker.size}<br>Latitude=%{lat}<br>Longitude=%{lon}<br>Total slaves embarked imputed * (slaximp)=%{customdata[0]}<extra></extra>\",\"hovertext\":[\"Bahia\",\"Dutch Caribbean\",\"Montserrat\",\"Southeast Brazil\",\"Virginia\",\"Nevis\",\"St. Kitts\",\"Martinique\",\"Americas\",\"Danish West Indies\",\"Saint-Domingue\",\"Other French Caribbean\",\"Cuba\",\"Gulf coast\",\"South Carolina\",\"Jamaica\",\"St. Lucia\",\"Antigua\",\"Pernambuco\",\"Barbados\",\"Dutch Guianas\",\"Rio de la Plata\"],\"lat\":[-12.983333,14.751846,16.7,-23.48894,36.9,17.151005,17.3,14.6,0.0,18.0,18.54,19.75778,23.115613,29.8,33.1,17.881263,14.0,17.067453,-8.05,13.1,6.675248,-33.332605],\"legendgroup\":\"\",\"lon\":[-38.516667,-65.781346,-62.216667,-42.256021,-76.3,-62.589223,-62.716667,-61.083333,0.0,-64.9,-72.34,-72.20417,-79.127686,-89.56,-79.54,-76.522778,-61.0,-61.784741,-34.9,-59.616667,-55.251124,-58.498255],\"marker\":{\"color\":\"#636efa\",\"size\":[9.41613428495528,7.761319180947987,6.142037405587356,8.101071503119543,5.717027701406222,5.030437921392435,7.242797922793756,7.88193748927207,7.606387389772652,6.774223886357614,7.316548177182976,6.12029741895095,5.4680601411351315,4.653960350157523,6.642486801367256,8.047829357457841,5.318119993844216,6.699500340161678,7.607381425639791,7.96311205897929,7.119635638017636,6.612041034833092],\"sizemode\":\"area\",\"sizeref\":0.02718353458394048,\"symbol\":\"circle\"},\"mode\":\"markers\",\"name\":\"\",\"showlegend\":false,\"type\":\"scattergeo\"}],\"name\":\"1723\"},{\"data\":[{\"customdata\":[[1875.0],[5048.0],[7589.0],[433.0],[645.0],[138.0],[2262.0],[2562.0],[796.0],[5.0],[1526.0],[478.0],[714.0],[224.0],[5059.0],[1105.0],[1741.0],[1489.0],[556.0],[5387.0],[182.0],[787.0],[1947.0],[10850.0],[358.0]],\"geo\":\"geo\",\"hovertemplate\":\"<b>%{hovertext}</b><br><br>Year voyage began=1724<br>normalized_sizes=%{marker.size}<br>Latitude=%{lat}<br>Longitude=%{lon}<br>Total slaves embarked imputed * (slaximp)=%{customdata[0]}<extra></extra>\",\"hovertext\":[\"St. Kitts\",\"Pernambuco\",\"Jamaica\",\"Maryland\",\"Other British Caribbean\",\"French Guiana\",\"Rio de la Plata\",\"Saint-Domingue\",\"Cuba\",\"New York\",\"Americas\",\"South Carolina\",\"Danish West Indies\",\"Nevis\",\"Barbados\",\"Virginia\",\"Martinique\",\"Antigua\",\"Montserrat\",\"Southeast Brazil\",\"Portugal\",\"Dutch Guianas\",\"Dutch Caribbean\",\"Bahia\",\"Spanish Circum-Caribbean\"],\"lat\":[17.3,-8.05,17.881263,39.57,18.0,5.861294,-33.332605,18.54,23.115613,40.703068,0.0,33.1,18.0,17.151005,13.1,36.9,14.6,17.067453,16.7,-23.48894,40.046745,6.675248,14.751846,-12.983333,15.641117],\"legendgroup\":\"\",\"lon\":[-62.716667,-34.9,-76.522778,-76.03,-76.8,-53.612239,-58.498255,-72.34,-79.127686,-74.011117,0.0,-79.54,-64.9,-62.589223,-59.616667,-76.3,-61.083333,-61.784741,-62.216667,-42.256021,-8.838545,-55.251124,-65.781346,-38.516667,-75.633932],\"marker\":{\"color\":\"#636efa\",\"size\":[7.536363938404511,8.52674740422105,8.934455109403913,6.07073772800249,6.4692503167957724,4.927253685157205,7.724004656676065,7.848543482456679,6.679599185844383,1.6094379124341003,7.330405211844402,6.169610732491456,6.570882962339584,5.4116460518550396,8.528924114291936,7.007600613951853,7.462214939768189,7.305860032684009,6.320768294250582,8.591743922680534,5.204006687076795,6.668228248417403,7.5740450053721995,9.291920358968605,5.8805329864007],\"sizemode\":\"area\",\"sizeref\":0.02718353458394048,\"symbol\":\"circle\"},\"mode\":\"markers\",\"name\":\"\",\"showlegend\":false,\"type\":\"scattergeo\"}],\"name\":\"1724\"},{\"data\":[{\"customdata\":[[1946.0],[1264.0],[585.0],[1490.0],[1964.0],[7429.0],[1189.0],[2490.0],[4894.0],[83.0],[11149.0],[4077.0],[1856.0],[1886.0],[4097.0],[474.0],[1508.0],[6692.0],[71.0],[711.0],[2466.0]],\"geo\":\"geo\",\"hovertemplate\":\"<b>%{hovertext}</b><br><br>Year voyage began=1725<br>normalized_sizes=%{marker.size}<br>Latitude=%{lat}<br>Longitude=%{lon}<br>Total slaves embarked imputed * (slaximp)=%{customdata[0]}<extra></extra>\",\"hovertext\":[\"South Carolina\",\"Martinique\",\"Gulf coast\",\"Americas\",\"Dutch Caribbean\",\"Bahia\",\"Spanish Circum-Caribbean\",\"Dutch Guianas\",\"Pernambuco\",\"Massachusetts\",\"Jamaica\",\"Barbados\",\"Antigua\",\"Rio de la Plata\",\"Saint-Domingue\",\"Danish West Indies\",\"St. Kitts\",\"Southeast Brazil\",\"New York\",\"Maryland\",\"Virginia\"],\"lat\":[33.1,14.6,29.8,0.0,14.751846,-12.983333,15.641117,6.675248,-8.05,42.179453,17.881263,13.1,17.067453,-33.332605,18.54,18.0,17.3,-23.48894,40.703068,39.57,36.9],\"legendgroup\":\"\",\"lon\":[-79.54,-61.083333,-89.56,0.0,-65.781346,-38.516667,-75.633932,-55.251124,-34.9,-70.724689,-76.522778,-59.616667,-61.784741,-58.498255,-72.34,-64.9,-62.716667,-42.256021,-74.011117,-76.03,-76.3],\"marker\":{\"color\":\"#636efa\",\"size\":[7.57353126274595,7.142036574706803,6.371611847231857,7.306531398939505,7.582738488914411,8.913146539151807,7.080867896690782,7.820037989458753,8.495765244002618,4.418840607796598,9.319105086767571,8.313116702819253,7.526178913346146,7.542213463193403,8.318010277546872,6.161207321695077,7.318539548567902,8.808668062106715,4.2626798770413155,6.566672429803241,7.81035268372429],\"sizemode\":\"area\",\"sizeref\":0.02718353458394048,\"symbol\":\"circle\"},\"mode\":\"markers\",\"name\":\"\",\"showlegend\":false,\"type\":\"scattergeo\"}],\"name\":\"1725\"},{\"data\":[{\"customdata\":[[514.0],[5361.0],[542.0],[2418.0],[12619.0],[1492.0],[441.0],[4746.0],[222.0],[970.0],[2354.0],[3359.0],[1139.0],[2794.0],[5015.0],[564.0],[1459.0],[3661.0],[672.0],[4910.0],[513.0]],\"geo\":\"geo\",\"hovertemplate\":\"<b>%{hovertext}</b><br><br>Year voyage began=1726<br>normalized_sizes=%{marker.size}<br>Latitude=%{lat}<br>Longitude=%{lon}<br>Total slaves embarked imputed * (slaximp)=%{customdata[0]}<extra></extra>\",\"hovertext\":[\"Danish West Indies\",\"Jamaica\",\"Maryland\",\"St. Kitts\",\"Bahia\",\"Antigua\",\"Montserrat\",\"Virginia\",\"Guadaloupe\",\"Dutch Caribbean\",\"Martinique\",\"Barbados\",\"Rio de la Plata\",\"Dutch Guianas\",\"Pernambuco\",\"French Guiana\",\"Americas\",\"Saint-Domingue\",\"Gulf coast\",\"Southeast Brazil\",\"South Carolina\"],\"lat\":[18.0,17.881263,39.57,17.3,-12.983333,17.067453,16.7,36.9,16.0,14.751846,14.6,13.1,-33.332605,6.675248,-8.05,5.861294,0.0,18.54,29.8,-23.48894,33.1],\"legendgroup\":\"\",\"lon\":[-64.9,-76.522778,-76.03,-62.716667,-38.516667,-61.784741,-62.216667,-76.3,-61.71667,-65.781346,-61.083333,-59.616667,-58.498255,-55.251124,-34.9,-53.612239,0.0,-72.34,-89.56,-42.256021,-79.54],\"marker\":{\"color\":\"#636efa\",\"size\":[6.2422232654551655,8.586905803827538,6.295266001439646,7.790696031174738,9.44295889365291,7.307872780763706,6.089044875446846,8.465057436995709,5.402677381872279,6.877296071497429,7.763871287820222,8.119398589612294,7.037905963447182,7.935229539816907,8.520188700396035,6.335054251498059,7.285506548522785,8.205491613120236,6.51025834052315,8.499029220788566,6.240275845170769],\"sizemode\":\"area\",\"sizeref\":0.02718353458394048,\"symbol\":\"circle\"},\"mode\":\"markers\",\"name\":\"\",\"showlegend\":false,\"type\":\"scattergeo\"}],\"name\":\"1726\"},{\"data\":[{\"customdata\":[[406.0],[149.0],[2273.0],[872.0],[740.0],[1474.0],[238.0],[271.0],[5503.0],[6867.0],[271.0],[7496.0],[2169.0],[333.0],[271.0],[778.0],[295.0],[11216.0],[955.0],[193.0],[638.0],[1786.0],[2362.0],[4362.0]],\"geo\":\"geo\",\"hovertemplate\":\"<b>%{hovertext}</b><br><br>Year voyage began=1727<br>normalized_sizes=%{marker.size}<br>Latitude=%{lat}<br>Longitude=%{lon}<br>Total slaves embarked imputed * (slaximp)=%{customdata[0]}<extra></extra>\",\"hovertext\":[\"Portugal\",\"Guadaloupe\",\"Saint-Domingue\",\"Gulf coast\",\"Montserrat\",\"Dutch Guianas\",\"Danish West Indies\",\"Maryland\",\"Southeast Brazil\",\"Pernambuco\",\"Rio de la Plata\",\"Jamaica\",\"Antigua\",\"St. Kitts\",\"French Guiana\",\"Dutch Caribbean\",\"Cuba\",\"Bahia\",\"South Carolina\",\"Nevis\",\"Americas\",\"Virginia\",\"Martinique\",\"Barbados\"],\"lat\":[40.046745,16.0,18.54,29.8,16.7,6.675248,18.0,39.57,-23.48894,-8.05,-33.332605,17.881263,17.067453,17.3,5.861294,14.751846,23.115613,-12.983333,33.1,17.151005,0.0,36.9,14.6,13.1],\"legendgroup\":\"\",\"lon\":[-8.838545,-61.71667,-72.34,-89.56,-62.216667,-55.251124,-64.9,-76.03,-42.256021,-34.9,-58.498255,-76.522778,-61.784741,-62.716667,-53.612239,-65.781346,-79.127686,-38.516667,-79.54,-62.589223,0.0,-76.3,-61.083333,-59.616667],\"marker\":{\"color\":\"#636efa\",\"size\":[6.0063531596017325,5.003946305945459,7.728855823852543,6.77078942390898,6.606650186198215,7.295735072749282,5.472270673671475,5.602118820879701,8.613048677059759,8.834482608620677,5.602118820879701,8.922124823918258,7.682021510826875,5.808142489980444,5.602118820879701,6.656726524178391,5.68697535633982,9.325096609274372,6.86171134048073,5.262690188904886,6.45833828334479,7.487733761436444,7.767263996757308,8.380685946761574],\"sizemode\":\"area\",\"sizeref\":0.02718353458394048,\"symbol\":\"circle\"},\"mode\":\"markers\",\"name\":\"\",\"showlegend\":false,\"type\":\"scattergeo\"}],\"name\":\"1727\"},{\"data\":[{\"customdata\":[[1546.0],[416.0],[1383.0],[1148.0],[180.0],[1351.0],[388.0],[4836.0],[1119.0],[3631.0],[973.0],[10522.0],[271.0],[11304.0],[271.0],[271.0],[3205.0],[1275.0],[126.0],[148.0],[2176.0],[2939.0],[325.0],[3408.0],[149.0],[271.0],[5225.0]],\"geo\":\"geo\",\"hovertemplate\":\"<b>%{hovertext}</b><br><br>Year voyage began=1728<br>normalized_sizes=%{marker.size}<br>Latitude=%{lat}<br>Longitude=%{lon}<br>Total slaves embarked imputed * (slaximp)=%{customdata[0]}<extra></extra>\",\"hovertext\":[\"Dutch Caribbean\",\"Maryland\",\"Spanish Circum-Caribbean\",\"Gulf coast\",\"Guadaloupe\",\"Virginia\",\"Montserrat\",\"Southeast Brazil\",\"South Carolina\",\"Antigua\",\"St. Kitts\",\"Bahia\",\"Nevis\",\"Jamaica\",\"Spain\",\"Other British Caribbean\",\"Saint-Domingue\",\"Americas\",\"Danish West Indies\",\"Portugal\",\"Dutch Guianas\",\"Martinique\",\"French Guiana\",\"Pernambuco\",\"Rhode Island\",\"Hispaniola\",\"Barbados\"],\"lat\":[14.751846,39.57,15.641117,29.8,16.0,36.9,16.7,-23.48894,33.1,17.067453,17.3,-12.983333,17.151005,17.881263,37.200782,18.0,18.54,0.0,18.0,40.046745,6.675248,14.6,5.861294,-8.05,41.384793,18.35,13.1],\"legendgroup\":\"\",\"lon\":[-65.781346,-76.03,-75.633932,-89.56,-61.71667,-76.3,-62.216667,-42.256021,-79.54,-61.784741,-62.716667,-38.516667,-62.589223,-76.522778,-6.862857,-76.8,-72.34,0.0,-64.9,-8.838545,-55.251124,-61.083333,-53.612239,-34.9,-71.466516,-69.35,-59.616667],\"marker\":{\"color\":\"#636efa\",\"size\":[7.343426229147367,6.030685260261263,7.232010331664759,7.045776576879511,5.19295685089021,7.208600337960199,5.961005339623274,8.483843211734683,7.020190708311925,8.197263371414335,6.880384082186005,9.261223582290752,5.602118820879701,9.332911924364364,5.602118820879701,5.602118820879701,8.07246736935477,7.150701457592526,4.836281906951478,4.997212273764115,7.685243607975833,7.985824666418917,5.783825182329737,8.133880887949207,5.003946305945459,5.602118820879701,8.561210076833012],\"sizemode\":\"area\",\"sizeref\":0.02718353458394048,\"symbol\":\"circle\"},\"mode\":\"markers\",\"name\":\"\",\"showlegend\":false,\"type\":\"scattergeo\"}],\"name\":\"1728\"},{\"data\":[{\"customdata\":[[437.0],[39.0],[5250.0],[492.0],[2892.0],[1488.0],[13345.0],[2099.0],[3880.0],[2963.0],[2679.0],[1211.0],[457.0],[1117.0],[1563.0],[11754.0],[121.0],[5636.0],[250.0],[55.0]],\"geo\":\"geo\",\"hovertemplate\":\"<b>%{hovertext}</b><br><br>Year voyage began=1729<br>normalized_sizes=%{marker.size}<br>Latitude=%{lat}<br>Longitude=%{lon}<br>Total slaves embarked imputed * (slaximp)=%{customdata[0]}<extra></extra>\",\"hovertext\":[\"South Carolina\",\"Portugal\",\"Martinique\",\"French Guiana\",\"Antigua\",\"Southeast Brazil\",\"Bahia\",\"Americas\",\"Pernambuco\",\"St. Kitts\",\"Saint-Domingue\",\"Gulf coast\",\"Virginia\",\"Dutch Guianas\",\"Rio de la Plata\",\"Jamaica\",\"Spanish Circum-Caribbean\",\"Barbados\",\"Maryland\",\"Danish West Indies\"],\"lat\":[33.1,40.046745,14.6,5.861294,17.067453,-23.48894,-12.983333,0.0,-8.05,17.3,18.54,29.8,36.9,6.675248,-33.332605,17.881263,15.641117,13.1,39.57,18.0],\"legendgroup\":\"\",\"lon\":[-79.54,-8.838545,-61.083333,-53.612239,-61.784741,-42.256021,-38.516667,0.0,-34.9,-62.716667,-72.34,-89.56,-76.3,-55.251124,-58.498255,-76.522778,-75.633932,-59.616667,-76.03,-64.9],\"marker\":{\"color\":\"#636efa\",\"size\":[6.07993319509559,3.6635616461296463,8.565983355585669,6.198478716492308,7.969703583278656,7.305188215393037,9.498897061838624,7.649216319820633,8.263590432617319,7.993957547573565,7.893198869544609,7.099201743553092,6.124683390894205,7.018401799069201,7.354362330421477,9.371948887172596,4.795790545596741,8.636929873018572,5.521460917862246,4.007333185232471],\"sizemode\":\"area\",\"sizeref\":0.02718353458394048,\"symbol\":\"circle\"},\"mode\":\"markers\",\"name\":\"\",\"showlegend\":false,\"type\":\"scattergeo\"}],\"name\":\"1729\"},{\"data\":[{\"customdata\":[[3424.0],[310.0],[708.0],[1144.0],[9832.0],[1647.0],[331.0],[2308.0],[7306.0],[3217.0],[331.0],[3104.0],[392.0],[2136.0],[1669.0],[152.0],[162.0],[1373.0],[2011.0],[201.0],[162.0],[240.0],[3136.0],[309.0],[13143.0]],\"geo\":\"geo\",\"hovertemplate\":\"<b>%{hovertext}</b><br><br>Year voyage began=1730<br>normalized_sizes=%{marker.size}<br>Latitude=%{lat}<br>Longitude=%{lon}<br>Total slaves embarked imputed * (slaximp)=%{customdata[0]}<extra></extra>\",\"hovertext\":[\"Martinique\",\"Americas\",\"Other Caribbean\",\"Maryland\",\"Bahia\",\"Rio de la Plata\",\"Other North America\",\"South Carolina\",\"Barbados\",\"Pernambuco\",\"Portugal\",\"Dutch Guianas\",\"Montserrat\",\"Antigua\",\"Southeast Brazil\",\"New York\",\"Puerto Rico\",\"Virginia\",\"St. Kitts\",\"Other French Caribbean\",\"Bahamas\",\"Spain\",\"Saint-Domingue\",\"Cuba\",\"Jamaica\"],\"lat\":[14.6,0.0,0.0,39.57,-12.983333,-33.332605,33.875649,33.1,13.1,-8.05,40.046745,6.675248,16.7,17.067453,-23.48894,40.703068,18.420959,36.9,17.3,19.75778,22.783937,37.200782,18.54,23.115613,17.881263],\"legendgroup\":\"\",\"lon\":[-61.083333,0.0,0.0,-76.03,-38.516667,-58.498255,-78.444029,-79.54,-59.616667,-34.9,-8.838545,-55.251124,-62.216667,-61.784741,-42.256021,-74.011117,-66.070508,-76.3,-62.716667,-72.20417,-74.303605,-6.862857,-72.34,-79.127686,-76.522778],\"marker\":{\"color\":\"#636efa\",\"size\":[8.138564737261632,5.736572297479192,6.56244409369372,7.042286171939743,9.19339765124587,7.4067107301776405,5.802118375377063,7.744136627627991,8.896451207355227,8.076204527239026,5.802118375377063,8.04044688130311,5.971261839790462,7.666690200080086,7.419979923661835,5.0238805208462765,5.087596335232384,7.224753405767971,7.606387389772652,5.303304908059076,5.087596335232384,5.480638923341991,8.0507033814703,5.733341276897746,9.483644576482009],\"sizemode\":\"area\",\"sizeref\":0.02718353458394048,\"symbol\":\"circle\"},\"mode\":\"markers\",\"name\":\"\",\"showlegend\":false,\"type\":\"scattergeo\"}],\"name\":\"1730\"},{\"data\":[{\"customdata\":[[120.0],[3145.0],[771.0],[173.0],[14668.0],[271.0],[902.0],[2445.0],[2042.0],[1489.0],[2860.0],[1349.0],[1590.0],[5310.0],[9225.0],[602.0],[1282.0],[571.0],[1482.0]],\"geo\":\"geo\",\"hovertemplate\":\"<b>%{hovertext}</b><br><br>Year voyage began=1731<br>normalized_sizes=%{marker.size}<br>Latitude=%{lat}<br>Longitude=%{lon}<br>Total slaves embarked imputed * (slaximp)=%{customdata[0]}<extra></extra>\",\"hovertext\":[\"Danish West Indies\",\"Dutch Guianas\",\"Maryland\",\"Dutch Caribbean\",\"Jamaica\",\"New York\",\"Antigua\",\"Barbados\",\"Martinique\",\"St. Kitts\",\"Southeast Brazil\",\"Americas\",\"Virginia\",\"Saint-Domingue\",\"Bahia\",\"Other Caribbean\",\"South Carolina\",\"Portugal\",\"Pernambuco\"],\"lat\":[18.0,6.675248,39.57,14.751846,17.881263,40.703068,17.067453,13.1,14.6,17.3,-23.48894,0.0,36.9,18.54,-12.983333,0.0,33.1,40.046745,-8.05],\"legendgroup\":\"\",\"lon\":[-64.9,-55.251124,-76.03,-65.781346,-76.522778,-74.011117,-61.784741,-59.616667,-61.083333,-62.716667,-42.256021,0.0,-76.3,-72.34,-38.516667,0.0,-79.54,-8.838545,-34.9],\"marker\":{\"color\":\"#636efa\",\"size\":[4.787491742782046,8.05356916913454,6.647688373563329,5.153291594497779,9.593423529191217,5.602118820879701,6.804614520062624,7.801800401908973,7.621684998724611,7.305860032684009,7.958576903813898,7.207118856207756,7.371489295214277,8.577347114235984,9.129672468908728,6.400257445308821,7.156176637480615,6.3473892096560105,7.301147805856032],\"sizemode\":\"area\",\"sizeref\":0.02718353458394048,\"symbol\":\"circle\"},\"mode\":\"markers\",\"name\":\"\",\"showlegend\":false,\"type\":\"scattergeo\"}],\"name\":\"1731\"},{\"data\":[{\"customdata\":[[1748.0],[3146.0],[3744.0],[1324.0],[257.0],[9584.0],[539.0],[2730.0],[1487.0],[566.0],[63.0],[2104.0],[2237.0],[149.0],[3477.0],[616.0],[273.0],[8887.0],[273.0],[442.0]],\"geo\":\"geo\",\"hovertemplate\":\"<b>%{hovertext}</b><br><br>Year voyage began=1732<br>normalized_sizes=%{marker.size}<br>Latitude=%{lat}<br>Longitude=%{lon}<br>Total slaves embarked imputed * (slaximp)=%{customdata[0]}<extra></extra>\",\"hovertext\":[\"Pernambuco\",\"Saint-Domingue\",\"South Carolina\",\"Rio de la Plata\",\"New Jersey\",\"Jamaica\",\"Dutch Caribbean\",\"Virginia\",\"Martinique\",\"Spain\",\"Portugal\",\"Americas\",\"Barbados\",\"Rhode Island\",\"Dutch Guianas\",\"Maryland\",\"Nevis\",\"Bahia\",\"St. Kitts\",\"Antigua\"],\"lat\":[-8.05,18.54,33.1,-33.332605,40.3,17.881263,14.751846,36.9,14.6,37.200782,40.046745,0.0,13.1,41.384793,6.675248,39.57,17.151005,-12.983333,17.3,17.067453],\"legendgroup\":\"\",\"lon\":[-34.9,-72.34,-79.54,-58.498255,-74.18,-76.522778,-65.781346,-76.3,-61.083333,-6.862857,-8.838545,0.0,-59.616667,-71.466516,-55.251124,-76.03,-62.589223,-38.516667,-62.716667,-61.784741],\"marker\":{\"color\":\"#636efa\",\"size\":[7.466227556215481,8.053887083618223,8.227909837597483,7.188412736496954,5.54907608489522,9.16785032035523,6.289715570908998,7.912056888179006,7.304515946460155,6.338594078203183,4.143134726391533,7.651595573857601,7.71289096149013,5.003946305945459,8.153925132007862,6.423246963533519,5.60947179518496,9.092344813738475,5.60947179518496,6.091309882077698],\"sizemode\":\"area\",\"sizeref\":0.02718353458394048,\"symbol\":\"circle\"},\"mode\":\"markers\",\"name\":\"\",\"showlegend\":false,\"type\":\"scattergeo\"}],\"name\":\"1732\"},{\"data\":[{\"customdata\":[[526.0],[394.0],[143.0],[1995.0],[1287.0],[667.0],[1807.0],[1920.0],[2061.0],[172.0],[1756.0],[3996.0],[2188.0],[187.0],[495.0],[185.0],[3104.0],[268.0],[284.0],[271.0],[12085.0],[5103.0]],\"geo\":\"geo\",\"hovertemplate\":\"<b>%{hovertext}</b><br><br>Year voyage began=1733<br>normalized_sizes=%{marker.size}<br>Latitude=%{lat}<br>Longitude=%{lon}<br>Total slaves embarked imputed * (slaximp)=%{customdata[0]}<extra></extra>\",\"hovertext\":[\"Rio de la Plata\",\"Spain\",\"Bight of Biafra and Gulf of Guinea islands\",\"Martinique\",\"St. Kitts\",\"Danish West Indies\",\"Barbados\",\"South Carolina\",\"Virginia\",\"Antigua\",\"Dutch Guianas\",\"Americas\",\"Saint-Domingue\",\"Portugal\",\"Maryland\",\"Dutch Caribbean\",\"Pernambuco\",\"Southeast Brazil\",\"Spanish Circum-Caribbean\",\"Montserrat\",\"Bahia\",\"Jamaica\"],\"lat\":[-33.332605,37.200782,4.17,14.6,17.3,18.0,13.1,33.1,36.9,17.067453,6.675248,0.0,18.54,40.046745,39.57,14.751846,-8.05,-23.48894,15.641117,16.7,-12.983333,17.881263],\"legendgroup\":\"\",\"lon\":[-58.498255,-6.862857,8.31,-61.083333,-62.716667,-64.9,-59.616667,-79.54,-76.3,-61.784741,-55.251124,0.0,-72.34,-8.838545,-76.03,-65.781346,-34.9,-42.256021,-75.633932,-62.216667,-38.516667,-76.522778],\"marker\":{\"color\":\"#636efa\",\"size\":[6.26530121273771,5.976350909297934,4.962844630259907,7.598399329323964,7.160069207596127,6.502790045915623,7.499423290592229,7.560080465021827,7.630946580890459,5.147494476813453,7.470793774195062,8.293049139768444,7.690743163541872,5.231108616854587,6.20455776256869,5.220355825078324,8.04044688130311,5.5909869805108565,5.648974238161206,5.602118820879701,9.399720293137584,8.537583881063972],\"sizemode\":\"area\",\"sizeref\":0.02718353458394048,\"symbol\":\"circle\"},\"mode\":\"markers\",\"name\":\"\",\"showlegend\":false,\"type\":\"scattergeo\"}],\"name\":\"1733\"},{\"data\":[{\"customdata\":[[2161.0],[2322.0],[1620.0],[8102.0],[271.0],[2976.0],[172.0],[800.0],[113.0],[993.0],[760.0],[1819.0],[1040.0],[3948.0],[1360.0],[2416.0],[5541.0],[96.0],[5014.0]],\"geo\":\"geo\",\"hovertemplate\":\"<b>%{hovertext}</b><br><br>Year voyage began=1734<br>normalized_sizes=%{marker.size}<br>Latitude=%{lat}<br>Longitude=%{lon}<br>Total slaves embarked imputed * (slaximp)=%{customdata[0]}<extra></extra>\",\"hovertext\":[\"Dutch Guianas\",\"Barbados\",\"Virginia\",\"Bahia\",\"Maryland\",\"South Carolina\",\"Montserrat\",\"St. Kitts\",\"Spanish Circum-Caribbean\",\"Other Caribbean\",\"Dutch Caribbean\",\"Martinique\",\"Antigua\",\"Pernambuco\",\"Americas\",\"Saint-Domingue\",\"Southeast Brazil\",\"Guadaloupe\",\"Jamaica\"],\"lat\":[6.675248,13.1,36.9,-12.983333,39.57,33.1,16.7,17.3,15.641117,0.0,14.751846,14.6,17.067453,-8.05,0.0,18.54,-23.48894,16.0,17.881263],\"legendgroup\":\"\",\"lon\":[-55.251124,-59.616667,-76.3,-38.516667,-76.03,-79.54,-62.216667,-62.716667,-75.633932,0.0,-65.781346,-61.083333,-61.784741,-34.9,0.0,-72.34,-42.256021,-61.71667,-76.522778],\"marker\":{\"color\":\"#636efa\",\"size\":[7.6783263565068856,7.7501841622578365,7.3901814282264295,8.999866223762636,5.602118820879701,7.998335395952982,5.147494476813453,6.684611727667927,4.727387818712341,6.900730664045173,6.633318433280377,7.506042178518122,6.946975992135418,8.280964400553373,7.215239978730097,7.789868559054706,8.61993026886735,4.564348191467836,8.519989278718239],\"sizemode\":\"area\",\"sizeref\":0.02718353458394048,\"symbol\":\"circle\"},\"mode\":\"markers\",\"name\":\"\",\"showlegend\":false,\"type\":\"scattergeo\"}],\"name\":\"1734\"},{\"data\":[{\"customdata\":[[3104.0],[5281.0],[3914.0],[8.0],[5986.0],[4225.0],[3061.0],[1711.0],[2232.0],[789.0],[1668.0],[271.0],[301.0],[903.0],[4364.0],[1151.0],[788.0],[200.0],[1972.0],[150.0],[170.0]],\"geo\":\"geo\",\"hovertemplate\":\"<b>%{hovertext}</b><br><br>Year voyage began=1735<br>normalized_sizes=%{marker.size}<br>Latitude=%{lat}<br>Longitude=%{lon}<br>Total slaves embarked imputed * (slaximp)=%{customdata[0]}<extra></extra>\",\"hovertext\":[\"Pernambuco\",\"South Carolina\",\"Saint-Domingue\",\"Portugal\",\"Bahia\",\"Virginia\",\"Dutch Guianas\",\"Antigua\",\"Americas\",\"Montserrat\",\"Other Caribbean\",\"Maryland\",\"Southeast Brazil\",\"Barbados\",\"Jamaica\",\"Martinique\",\"Rio de la Plata\",\"Dutch Caribbean\",\"St. Kitts\",\"British Americas\",\"Spanish Circum-Caribbean\"],\"lat\":[-8.05,33.1,18.54,40.046745,-12.983333,36.9,6.675248,17.067453,0.0,16.7,0.0,39.57,-23.48894,13.1,17.881263,14.6,-33.332605,14.751846,17.3,38.84284,15.641117],\"legendgroup\":\"\",\"lon\":[-34.9,-79.54,-72.34,-8.838545,-38.516667,-76.3,-55.251124,-61.784741,0.0,-62.216667,0.0,-76.03,-42.256021,-59.616667,-76.522778,-61.083333,-58.498255,-65.781346,-62.716667,-78.972562,-75.633932],\"marker\":{\"color\":\"#636efa\",\"size\":[8.04044688130311,8.571870752706934,8.272315147956022,2.0794415416798357,8.697178688412643,8.348774539791274,8.026496938945412,7.444833273892193,7.710653323501202,6.670766320845874,7.419380582918692,5.602118820879701,5.707110264748875,6.805722553416985,8.381144346952961,7.048386408721883,6.669498089857879,5.298317366548036,7.586803535162581,5.0106352940962555,5.135798437050262],\"sizemode\":\"area\",\"sizeref\":0.02718353458394048,\"symbol\":\"circle\"},\"mode\":\"markers\",\"name\":\"\",\"showlegend\":false,\"type\":\"scattergeo\"}],\"name\":\"1735\"},{\"data\":[{\"customdata\":[[2328.0],[271.0],[446.0],[172.0],[240.0],[5374.0],[6813.0],[1602.0],[675.0],[300.0],[1950.0],[250.0],[2951.0],[2937.0],[1289.0],[4173.0],[150.0],[2826.0],[83.0],[11873.0],[2271.0],[48.0],[1635.0],[910.0]],\"geo\":\"geo\",\"hovertemplate\":\"<b>%{hovertext}</b><br><br>Year voyage began=1736<br>normalized_sizes=%{marker.size}<br>Latitude=%{lat}<br>Longitude=%{lon}<br>Total slaves embarked imputed * (slaximp)=%{customdata[0]}<extra></extra>\",\"hovertext\":[\"Pernambuco\",\"Nevis\",\"Rio de la Plata\",\"Other Caribbean\",\"Dutch Caribbean\",\"Saint-Domingue\",\"Jamaica\",\"Americas\",\"Montserrat\",\"Massachusetts\",\"Antigua\",\"Portugal\",\"South Carolina\",\"Martinique\",\"Southeast Brazil\",\"Dutch Guianas\",\"Danish West Indies\",\"St. Kitts\",\"Rhode Island\",\"Bahia\",\"Virginia\",\"Cuba\",\"Barbados\",\"Maryland\"],\"lat\":[-8.05,17.151005,-33.332605,0.0,14.751846,18.54,17.881263,0.0,16.7,42.179453,17.067453,40.046745,33.1,14.6,-23.48894,6.675248,18.0,17.3,41.384793,-12.983333,36.9,23.115613,13.1,39.57],\"legendgroup\":\"\",\"lon\":[-34.9,-62.589223,-58.498255,0.0,-65.781346,-72.34,-76.522778,0.0,-62.216667,-70.724689,-61.784741,-8.838545,-79.54,-61.083333,-42.256021,-55.251124,-64.9,-62.716667,-71.466516,-38.516667,-76.3,-79.127686,-59.616667,-76.03],\"marker\":{\"color\":\"#636efa\",\"size\":[7.752764808851328,5.602118820879701,6.100318952020064,5.147494476813453,5.480638923341991,8.589327789175437,8.826587830773668,7.379008127628304,6.51471269087253,5.703782474656201,7.575584651557793,5.521460917862246,7.989899374942939,7.98514393119862,7.161622002939187,8.336390480591552,5.0106352940962555,7.946617563244473,4.418840607796598,9.382022193665792,7.7279755421055585,3.871201010907891,7.399398083331354,6.813444599510896],\"sizemode\":\"area\",\"sizeref\":0.02718353458394048,\"symbol\":\"circle\"},\"mode\":\"markers\",\"name\":\"\",\"showlegend\":false,\"type\":\"scattergeo\"}],\"name\":\"1736\"},{\"data\":[{\"customdata\":[[1930.0],[2203.0],[1611.0],[17.0],[175.0],[271.0],[9363.0],[669.0],[5675.0],[260.0],[9349.0],[835.0],[2087.0],[11878.0],[1183.0],[271.0],[3570.0],[1003.0],[1458.0],[2633.0],[1720.0],[42.0]],\"geo\":\"geo\",\"hovertemplate\":\"<b>%{hovertext}</b><br><br>Year voyage began=1737<br>normalized_sizes=%{marker.size}<br>Latitude=%{lat}<br>Longitude=%{lon}<br>Total slaves embarked imputed * (slaximp)=%{customdata[0]}<extra></extra>\",\"hovertext\":[\"Pernambuco\",\"Other Caribbean\",\"Americas\",\"Portugal\",\"French Guiana\",\"Nevis\",\"Saint-Domingue\",\"Rio de la Plata\",\"St. Kitts\",\"Spanish Circum-Caribbean\",\"Jamaica\",\"Montserrat\",\"Martinique\",\"Bahia\",\"Barbados\",\"Maryland\",\"Southeast Brazil\",\"Dutch Guianas\",\"Virginia\",\"South Carolina\",\"Antigua\",\"Danish West Indies\"],\"lat\":[-8.05,0.0,0.0,40.046745,5.861294,17.151005,18.54,-33.332605,17.3,15.641117,17.881263,16.7,14.6,-12.983333,13.1,39.57,-23.48894,6.675248,36.9,33.1,17.067453,18.0],\"legendgroup\":\"\",\"lon\":[-34.9,0.0,0.0,-8.838545,-53.612239,-62.589223,-72.34,-58.498255,-62.716667,-75.633932,-76.522778,-62.216667,-61.083333,-38.516667,-59.616667,-76.03,-42.256021,-55.251124,-76.3,-79.54,-61.784741,-64.9],\"marker\":{\"color\":\"#636efa\",\"size\":[7.5652752818989315,7.697575346802343,7.384610383176974,2.833213344056216,5.1647859739235145,5.602118820879701,9.14452103093889,6.505784060128229,8.643825842349603,5.560681631015528,9.143024664691316,6.727431724850855,7.643482907077201,9.382443228575806,7.075808863978387,5.602118820879701,8.180320874773685,6.910750787961936,7.284820912568604,7.87587915949631,7.450079569807499,3.7376696182833684],\"sizemode\":\"area\",\"sizeref\":0.02718353458394048,\"symbol\":\"circle\"},\"mode\":\"markers\",\"name\":\"\",\"showlegend\":false,\"type\":\"scattergeo\"}],\"name\":\"1737\"},{\"data\":[{\"customdata\":[[50.0],[149.0],[2362.0],[282.0],[121.0],[11677.0],[3541.0],[3432.0],[2239.0],[1689.0],[842.0],[223.0],[3442.0],[2079.0],[8207.0],[271.0],[385.0],[4798.0],[322.0],[83.0],[4.0],[1071.0],[4584.0],[10664.0]],\"geo\":\"geo\",\"hovertemplate\":\"<b>%{hovertext}</b><br><br>Year voyage began=1738<br>normalized_sizes=%{marker.size}<br>Latitude=%{lat}<br>Longitude=%{lon}<br>Total slaves embarked imputed * (slaximp)=%{customdata[0]}<extra></extra>\",\"hovertext\":[\"Massachusetts\",\"Connecticut\",\"Americas\",\"Grenada\",\"Other Caribbean\",\"Saint-Domingue\",\"South Carolina\",\"Antigua\",\"Virginia\",\"Dutch Guianas\",\"Maryland\",\"Danish West Indies\",\"Barbados\",\"Martinique\",\"Jamaica\",\"Dutch Caribbean\",\"Spanish Circum-Caribbean\",\"St. Kitts\",\"Codes without labels\",\"New York\",\"France\",\"Pernambuco\",\"Southeast Brazil\",\"Bahia\"],\"lat\":[42.179453,41.358665,0.0,12.05,0.0,18.54,33.1,17.067453,36.9,6.675248,39.57,18.0,13.1,14.6,17.881263,14.751846,15.641117,17.3,0.0,40.703068,45.745724,-8.05,-23.48894,-12.983333],\"legendgroup\":\"\",\"lon\":[-70.724689,-72.613822,0.0,-61.75,0.0,-72.34,-79.54,-61.784741,-76.3,-55.251124,-76.03,-64.9,-59.616667,-61.083333,-76.522778,-65.781346,-75.633932,-62.716667,0.0,-74.011117,1.70685,-34.9,-42.256021,-38.516667],\"marker\":{\"color\":\"#636efa\",\"size\":[3.912023005428146,5.003946305945459,7.767263996757308,5.641907070938114,4.795790545596741,9.365376374075716,8.172164452111904,8.140898460607852,7.713784616598755,7.4318919168078,6.7357800142423265,5.407171771460119,8.143807976771484,7.639642287858013,9.012742727629712,5.602118820879701,5.953243334287785,8.47595444339964,5.7745515455444085,4.418840607796598,1.3862943611198906,6.976348070447749,8.430327258394575,9.274628861858545],\"sizemode\":\"area\",\"sizeref\":0.02718353458394048,\"symbol\":\"circle\"},\"mode\":\"markers\",\"name\":\"\",\"showlegend\":false,\"type\":\"scattergeo\"}],\"name\":\"1738\"},{\"data\":[{\"customdata\":[[1973.0],[129.0],[45.0],[12513.0],[100.0],[1398.0],[1189.0],[1883.0],[4390.0],[1760.0],[6850.0],[1252.0],[1246.0],[1424.0],[2437.0],[1436.0],[555.0],[116.0],[7168.0]],\"geo\":\"geo\",\"hovertemplate\":\"<b>%{hovertext}</b><br><br>Year voyage began=1739<br>normalized_sizes=%{marker.size}<br>Latitude=%{lat}<br>Longitude=%{lon}<br>Total slaves embarked imputed * (slaximp)=%{customdata[0]}<extra></extra>\",\"hovertext\":[\"Martinique\",\"Dutch Caribbean\",\"Danish West Indies\",\"Saint-Domingue\",\"Amazonia\",\"Pernambuco\",\"Maryland\",\"Southeast Brazil\",\"Barbados\",\"Virginia\",\"Jamaica\",\"Americas\",\"Other Caribbean\",\"Antigua\",\"St. Kitts\",\"South Carolina\",\"Dutch Guianas\",\"Senegambia and offshore Atlantic\",\"Bahia\"],\"lat\":[14.6,14.751846,18.0,18.54,-0.93323,-8.05,39.57,-23.48894,13.1,36.9,17.881263,0.0,0.0,17.067453,17.3,33.1,6.675248,14.14,-12.983333],\"legendgroup\":\"\",\"lon\":[-61.083333,-65.781346,-64.9,-72.34,-43.235449,-34.9,-76.03,-42.256021,-59.616667,-76.3,-76.522778,0.0,0.0,-61.784741,-62.716667,-79.54,-55.251124,-17.93,-38.516667],\"marker\":{\"color\":\"#636efa\",\"size\":[7.587310506022615,4.859812404361672,3.8066624897703196,9.434523382865056,4.605170185988092,7.242797922793756,7.080867896690782,7.5406215286571525,8.387084506069217,7.473069088032197,8.83200393125627,7.132497551660044,7.1276936993473985,7.261225091971921,7.798523053625206,7.269616749608169,6.318968113746434,4.7535901911063645,8.877381954654766],\"sizemode\":\"area\",\"sizeref\":0.02718353458394048,\"symbol\":\"circle\"},\"mode\":\"markers\",\"name\":\"\",\"showlegend\":false,\"type\":\"scattergeo\"}],\"name\":\"1739\"},{\"data\":[{\"customdata\":[[1026.0],[5263.0],[212.0],[1023.0],[1563.0],[1424.0],[271.0],[2253.0],[542.0],[4853.0],[16746.0],[271.0],[123.0],[420.0],[6186.0],[8294.0],[77.0]],\"geo\":\"geo\",\"hovertemplate\":\"<b>%{hovertext}</b><br><br>Year voyage began=1740<br>normalized_sizes=%{marker.size}<br>Latitude=%{lat}<br>Longitude=%{lon}<br>Total slaves embarked imputed * (slaximp)=%{customdata[0]}<extra></extra>\",\"hovertext\":[\"Virginia\",\"Jamaica\",\"French Guiana\",\"Martinique\",\"Americas\",\"Dutch Guianas\",\"South Carolina\",\"Pernambuco\",\"St. Kitts\",\"Barbados\",\"Saint-Domingue\",\"Maryland\",\"Massachusetts\",\"Antigua\",\"Southeast Brazil\",\"Bahia\",\"Amazonia\"],\"lat\":[36.9,17.881263,5.861294,14.6,0.0,6.675248,33.1,-8.05,17.3,13.1,18.54,39.57,42.179453,17.067453,-23.48894,-12.983333,-0.93323],\"legendgroup\":\"\",\"lon\":[-76.3,-76.522778,-53.612239,-61.083333,0.0,-55.251124,-79.54,-34.9,-62.716667,-59.616667,-72.34,-76.03,-70.724689,-61.784741,-42.256021,-38.516667,-43.235449],\"marker\":{\"color\":\"#636efa\",\"size\":[6.933423025730715,8.56845648535378,5.356586274672012,6.930494765951626,7.354362330421477,7.261225091971921,5.602118820879701,7.720017940432244,6.295266001439646,8.487352349405215,9.725914702764378,5.602118820879701,4.812184355372417,6.040254711277414,8.730043953245016,9.023287640806327,4.343805421853684],\"sizemode\":\"area\",\"sizeref\":0.02718353458394048,\"symbol\":\"circle\"},\"mode\":\"markers\",\"name\":\"\",\"showlegend\":false,\"type\":\"scattergeo\"}],\"name\":\"1740\"},{\"data\":[{\"customdata\":[[4903.0],[13514.0],[4115.0],[3721.0],[7163.0],[304.0],[172.0],[1897.0],[53.0],[2006.0],[516.0],[2047.0],[2227.0],[2106.0],[7526.0],[1409.0],[341.0],[20.0],[1014.0]],\"geo\":\"geo\",\"hovertemplate\":\"<b>%{hovertext}</b><br><br>Year voyage began=1741<br>normalized_sizes=%{marker.size}<br>Latitude=%{lat}<br>Longitude=%{lon}<br>Total slaves embarked imputed * (slaximp)=%{customdata[0]}<extra></extra>\",\"hovertext\":[\"Jamaica\",\"Saint-Domingue\",\"Barbados\",\"Martinique\",\"Bahia\",\"Spanish Circum-Caribbean\",\"Montserrat\",\"St. Kitts\",\"Danish West Indies\",\"Virginia\",\"Other Caribbean\",\"Americas\",\"Dutch Guianas\",\"Pernambuco\",\"Southeast Brazil\",\"Antigua\",\"Dutch Caribbean\",\"Rhode Island\",\"Maryland\"],\"lat\":[17.881263,18.54,13.1,14.6,-12.983333,15.641117,16.7,17.3,18.0,36.9,0.0,0.0,6.675248,-8.05,-23.48894,17.067453,14.751846,41.384793,39.57],\"legendgroup\":\"\",\"lon\":[-76.522778,-72.34,-59.616667,-61.083333,-38.516667,-75.633932,-62.216667,-62.716667,-64.9,-76.3,0.0,0.0,-55.251124,-34.9,-42.256021,-61.784741,-65.781346,-71.466516,-76.03],\"marker\":{\"color\":\"#636efa\",\"size\":[8.497602541651233,9.51148146411212,8.32239411311117,8.221747728346623,8.876684166614451,5.717027701406222,5.147494476813453,7.5480289699350145,3.970291913552122,7.603897968521881,6.246106765481563,7.624130585661289,7.708410667257367,7.652545692693921,8.926118971153382,7.25063551189868,5.831882477283517,2.995732273553991,6.921658184151129],\"sizemode\":\"area\",\"sizeref\":0.02718353458394048,\"symbol\":\"circle\"},\"mode\":\"markers\",\"name\":\"\",\"showlegend\":false,\"type\":\"scattergeo\"}],\"name\":\"1741\"},{\"data\":[{\"customdata\":[[1567.0],[9496.0],[6581.0],[4320.0],[740.0],[8956.0],[331.0],[1132.0],[568.0],[100.0],[101.0],[813.0],[298.0],[1819.0],[8472.0],[550.0],[271.0],[2750.0],[2156.0],[323.0],[271.0]],\"geo\":\"geo\",\"hovertemplate\":\"<b>%{hovertext}</b><br><br>Year voyage began=1742<br>normalized_sizes=%{marker.size}<br>Latitude=%{lat}<br>Longitude=%{lon}<br>Total slaves embarked imputed * (slaximp)=%{customdata[0]}<extra></extra>\",\"hovertext\":[\"Virginia\",\"Bahia\",\"Southeast Brazil\",\"Martinique\",\"Maryland\",\"Saint-Domingue\",\"Antigua\",\"Barbados\",\"Rio de la Plata\",\"French Guiana\",\"Amazonia\",\"St. Kitts\",\"Massachusetts\",\"Pernambuco\",\"Jamaica\",\"Dutch Caribbean\",\"Puerto Rico\",\"Dutch Guianas\",\"Americas\",\"Other North America\",\"Other Caribbean\"],\"lat\":[36.9,-12.983333,-23.48894,14.6,39.57,18.54,17.067453,13.1,-33.332605,5.861294,-0.93323,17.3,42.179453,-8.05,17.881263,14.751846,18.420959,6.675248,0.0,33.875649,0.0],\"legendgroup\":\"\",\"lon\":[-76.3,-38.516667,-42.256021,-61.083333,-76.03,-72.34,-61.784741,-59.616667,-58.498255,-53.612239,-43.235449,-62.716667,-70.724689,-34.9,-76.522778,-65.781346,-66.070508,-55.251124,0.0,-78.444029,0.0],\"marker\":{\"color\":\"#636efa\",\"size\":[7.356918242356021,9.158625936289503,8.791941988456118,8.371010681238156,6.606650186198215,9.100078977718645,5.802118375377063,7.0317412587631285,6.342121418721152,4.605170185988092,4.61512051684126,6.70073110954781,5.697093486505405,7.506042178518122,9.044521887281242,6.309918278226516,5.602118820879701,7.919356190660617,7.6760099320288875,5.777652323222656,5.602118820879701],\"sizemode\":\"area\",\"sizeref\":0.02718353458394048,\"symbol\":\"circle\"},\"mode\":\"markers\",\"name\":\"\",\"showlegend\":false,\"type\":\"scattergeo\"}],\"name\":\"1742\"},{\"data\":[{\"customdata\":[[4844.0],[220.0],[3010.0],[6322.0],[769.0],[314.0],[2393.0],[475.0],[95.0],[379.0],[10398.0],[5383.0],[462.0],[1486.0],[172.0],[2.0],[9381.0],[100.0],[791.0],[1145.0],[276.0],[2028.0],[12042.0],[2909.0]],\"geo\":\"geo\",\"hovertemplate\":\"<b>%{hovertext}</b><br><br>Year voyage began=1743<br>normalized_sizes=%{marker.size}<br>Latitude=%{lat}<br>Longitude=%{lon}<br>Total slaves embarked imputed * (slaximp)=%{customdata[0]}<extra></extra>\",\"hovertext\":[\"Dutch Guianas\",\"Gulf coast\",\"St. Kitts\",\"Martinique\",\"South Carolina\",\"French Guiana\",\"Antigua\",\"Other British Caribbean\",\"Massachusetts\",\"Montserrat\",\"Bahia\",\"Southeast Brazil\",\"Dutch Caribbean\",\"Americas\",\"Other North America\",\"Portugal\",\"Saint-Domingue\",\"Danish West Indies\",\"Virginia\",\"Spanish Circum-Caribbean\",\"Guadaloupe\",\"Barbados\",\"Jamaica\",\"Pernambuco\"],\"lat\":[6.675248,29.8,17.3,14.6,33.1,5.861294,17.067453,18.0,42.179453,16.7,-12.983333,-23.48894,14.751846,0.0,33.875649,40.046745,18.54,18.0,36.9,15.641117,16.0,13.1,17.881263,-8.05],\"legendgroup\":\"\",\"lon\":[-55.251124,-89.56,-62.716667,-61.083333,-79.54,-53.612239,-61.784741,-76.8,-70.724689,-62.216667,-38.516667,-42.256021,-65.781346,0.0,-78.444029,-8.838545,-72.34,-64.9,-76.3,-75.633932,-61.71667,-59.616667,-76.522778,-34.9],\"marker\":{\"color\":\"#636efa\",\"size\":[8.485496104672983,5.393627546352362,8.009695357742922,8.751790892775563,6.645090969505644,5.749392985908253,7.780303087908373,6.163314804034641,4.553876891600541,5.937536205082426,9.24936875894366,8.591001118560957,6.135564891081739,7.303843225277705,5.147494476813453,0.6931471805599453,9.14644164612595,4.605170185988092,6.673297967767654,7.0431599159883405,5.62040086571715,7.614805364711073,9.396155818024393,7.975564658495202],\"sizemode\":\"area\",\"sizeref\":0.02718353458394048,\"symbol\":\"circle\"},\"mode\":\"markers\",\"name\":\"\",\"showlegend\":false,\"type\":\"scattergeo\"}],\"name\":\"1743\"},{\"data\":[{\"customdata\":[[4196.0],[10383.0],[240.0],[102.0],[425.0],[5656.0],[181.0],[149.0],[340.0],[2643.0],[3552.0],[240.0],[386.0],[148.0],[198.0],[2846.0],[540.0],[518.0]],\"geo\":\"geo\",\"hovertemplate\":\"<b>%{hovertext}</b><br><br>Year voyage began=1744<br>normalized_sizes=%{marker.size}<br>Latitude=%{lat}<br>Longitude=%{lon}<br>Total slaves embarked imputed * (slaximp)=%{customdata[0]}<extra></extra>\",\"hovertext\":[\"Jamaica\",\"Bahia\",\"South Carolina\",\"Other Caribbean\",\"St. Kitts\",\"Southeast Brazil\",\"New York\",\"Rhode Island\",\"Virginia\",\"Dutch Guianas\",\"Martinique\",\"Other French Caribbean\",\"Saint-Domingue\",\"Cuba\",\"French Guiana\",\"Pernambuco\",\"Barbados\",\"Spanish Circum-Caribbean\"],\"lat\":[17.881263,-12.983333,33.1,0.0,17.3,-23.48894,40.703068,41.384793,36.9,6.675248,14.6,19.75778,18.54,23.115613,5.861294,-8.05,13.1,15.641117],\"legendgroup\":\"\",\"lon\":[-76.522778,-38.516667,-79.54,0.0,-62.716667,-42.256021,-74.011117,-71.466516,-76.3,-55.251124,-61.083333,-72.20417,-72.34,-79.127686,-53.612239,-34.9,-59.616667,-75.633932],\"marker\":{\"color\":\"#636efa\",\"size\":[8.341886969516187,9.247925132303454,5.480638923341991,4.624972813284271,6.052089168924417,8.640472207576408,5.198497031265826,5.003946305945459,5.8289456176102075,7.879669914604289,8.17526610411206,5.480638923341991,5.955837369464831,4.997212273764115,5.288267030694535,7.953669778649798,6.29156913955832,6.249975242259483],\"sizemode\":\"area\",\"sizeref\":0.02718353458394048,\"symbol\":\"circle\"},\"mode\":\"markers\",\"name\":\"\",\"showlegend\":false,\"type\":\"scattergeo\"}],\"name\":\"1744\"},{\"data\":[{\"customdata\":[[1826.0],[1294.0],[271.0],[3898.0],[6751.0],[165.0],[2936.0],[271.0],[4099.0],[378.0],[5197.0],[465.0],[120.0]],\"geo\":\"geo\",\"hovertemplate\":\"<b>%{hovertext}</b><br><br>Year voyage began=1745<br>normalized_sizes=%{marker.size}<br>Latitude=%{lat}<br>Longitude=%{lon}<br>Total slaves embarked imputed * (slaximp)=%{customdata[0]}<extra></extra>\",\"hovertext\":[\"Virginia\",\"Americas\",\"St. Kitts\",\"Bahia\",\"Jamaica\",\"Massachusetts\",\"Pernambuco\",\"Barbados\",\"Southeast Brazil\",\"Spanish Circum-Caribbean\",\"Dutch Guianas\",\"Portugal\",\"Antigua\"],\"lat\":[36.9,0.0,17.3,-12.983333,17.881263,42.179453,-8.05,13.1,-23.48894,15.641117,6.675248,40.046745,17.067453],\"legendgroup\":\"\",\"lon\":[-76.3,0.0,-62.716667,-38.516667,-76.522778,-70.724689,-34.9,-59.616667,-42.256021,-75.633932,-55.251124,-8.838545,-61.784741],\"marker\":{\"color\":\"#636efa\",\"size\":[7.509883061154913,7.165493475060845,5.602118820879701,8.268218880067506,8.81744592104187,5.10594547390058,7.984803389734406,5.602118820879701,8.318498320504338,5.934894195619588,8.555836815008442,6.142037405587356,4.787491742782046],\"sizemode\":\"area\",\"sizeref\":0.02718353458394048,\"symbol\":\"circle\"},\"mode\":\"markers\",\"name\":\"\",\"showlegend\":false,\"type\":\"scattergeo\"}],\"name\":\"1745\"},{\"data\":[{\"customdata\":[[1836.0],[2457.0],[10559.0],[503.0],[3079.0],[218.0],[571.0],[83.0],[331.0],[3632.0],[292.0],[1181.0],[8506.0],[2178.0],[149.0],[442.0]],\"geo\":\"geo\",\"hovertemplate\":\"<b>%{hovertext}</b><br><br>Year voyage began=1746<br>normalized_sizes=%{marker.size}<br>Latitude=%{lat}<br>Longitude=%{lon}<br>Total slaves embarked imputed * (slaximp)=%{customdata[0]}<extra></extra>\",\"hovertext\":[\"Martinique\",\"Southeast Brazil\",\"Bahia\",\"Danish West Indies\",\"Pernambuco\",\"Dutch Caribbean\",\"Antigua\",\"Rhode Island\",\"St. Kitts\",\"Dutch Guianas\",\"Virginia\",\"Spanish Circum-Caribbean\",\"Jamaica\",\"Barbados\",\"Massachusetts\",\"Saint-Domingue\"],\"lat\":[14.6,-23.48894,-12.983333,18.0,-8.05,14.751846,17.067453,41.384793,17.3,6.675248,36.9,15.641117,17.881263,13.1,42.179453,18.54],\"legendgroup\":\"\",\"lon\":[-61.083333,-42.256021,-38.516667,-64.9,-34.9,-65.781346,-61.784741,-71.466516,-62.716667,-55.251124,-76.3,-75.633932,-76.522778,-59.616667,-70.724689,-72.34],\"marker\":{\"color\":\"#636efa\",\"size\":[7.515344571180436,7.806696372521179,9.264733855806515,6.220590170099739,8.0323601479245,5.384495062789089,6.3473892096560105,4.418840607796598,5.802118375377063,8.197538739721184,5.676753802268282,7.074116816197362,9.04852707581358,7.686162303492906,5.003946305945459,6.091309882077698],\"sizemode\":\"area\",\"sizeref\":0.02718353458394048,\"symbol\":\"circle\"},\"mode\":\"markers\",\"name\":\"\",\"showlegend\":false,\"type\":\"scattergeo\"}],\"name\":\"1746\"},{\"data\":[{\"customdata\":[[1033.0],[1278.0],[240.0],[2022.0],[276.0],[1419.0],[777.0],[273.0],[290.0],[2742.0],[14647.0],[14496.0],[1918.0],[2337.0],[480.0],[4335.0],[406.0],[7363.0],[370.0],[298.0]],\"geo\":\"geo\",\"hovertemplate\":\"<b>%{hovertext}</b><br><br>Year voyage began=1747<br>normalized_sizes=%{marker.size}<br>Latitude=%{lat}<br>Longitude=%{lon}<br>Total slaves embarked imputed * (slaximp)=%{customdata[0]}<extra></extra>\",\"hovertext\":[\"Americas\",\"Barbados\",\"Cuba\",\"Antigua\",\"Montserrat\",\"Saint-Domingue\",\"Dutch Caribbean\",\"Hispaniola\",\"Danish West Indies\",\"Dutch Guianas\",\"Jamaica\",\"Bahia\",\"St. Kitts\",\"Spanish Circum-Caribbean\",\"Martinique\",\"Pernambuco\",\"Virginia\",\"Southeast Brazil\",\"Other Spanish Caribbean\",\"Massachusetts\"],\"lat\":[0.0,13.1,23.115613,17.067453,16.7,18.54,14.751846,18.35,18.0,6.675248,17.881263,-12.983333,17.3,15.641117,14.6,-8.05,36.9,-23.48894,23.13194,42.179453],\"legendgroup\":\"\",\"lon\":[0.0,-59.616667,-79.127686,-61.784741,-62.216667,-72.34,-65.781346,-69.35,-64.9,-55.251124,-76.522778,-38.516667,-62.716667,-75.633932,-61.083333,-34.9,-76.3,-42.256021,-82.36417,-70.724689],\"marker\":{\"color\":\"#636efa\",\"size\":[6.940222469119639,7.15305163493748,5.480638923341991,7.611842399580417,5.62040086571715,7.257707677160043,6.655440350367647,5.60947179518496,5.66988092298052,7.91644286012226,9.591990815318308,9.581628028282761,7.559038255443384,7.756623334538858,6.173786103901937,8.374476889214643,6.0063531596017325,8.904222737368716,5.91350300563827,5.697093486505405],\"sizemode\":\"area\",\"sizeref\":0.02718353458394048,\"symbol\":\"circle\"},\"mode\":\"markers\",\"name\":\"\",\"showlegend\":false,\"type\":\"scattergeo\"}],\"name\":\"1747\"},{\"data\":[{\"customdata\":[[2341.0],[401.0],[9342.0],[834.0],[276.0],[3288.0],[2262.0],[2295.0],[3240.0],[386.0],[834.0],[3478.0],[3886.0],[5266.0],[271.0],[330.0],[148.0],[218.0],[6969.0],[341.0],[9691.0],[5744.0],[934.0]],\"geo\":\"geo\",\"hovertemplate\":\"<b>%{hovertext}</b><br><br>Year voyage began=1748<br>normalized_sizes=%{marker.size}<br>Latitude=%{lat}<br>Longitude=%{lon}<br>Total slaves embarked imputed * (slaximp)=%{customdata[0]}<extra></extra>\",\"hovertext\":[\"Antigua\",\"Dutch Caribbean\",\"Bahia\",\"Martinique\",\"Nevis\",\"Spanish Circum-Caribbean\",\"Americas\",\"Virginia\",\"Barbados\",\"Other Caribbean\",\"Rio de la Plata\",\"Dutch Guianas\",\"Pernambuco\",\"St. Kitts\",\"Montserrat\",\"Bight of Biafra and Gulf of Guinea islands\",\"Tortola\",\"South Carolina\",\"Southeast Brazil\",\"Other British Caribbean\",\"Jamaica\",\"Saint-Domingue\",\"Danish West Indies\"],\"lat\":[17.067453,14.751846,-12.983333,14.6,17.151005,15.641117,0.0,36.9,13.1,0.0,-33.332605,6.675248,-8.05,17.3,16.7,4.17,18.347325,33.1,-23.48894,18.0,17.881263,18.54,18.0],\"legendgroup\":\"\",\"lon\":[-61.784741,-65.781346,-38.516667,-61.083333,-62.589223,-75.633932,0.0,-76.3,-59.616667,0.0,-58.498255,-55.251124,-34.9,-62.716667,-62.216667,8.31,-64.715064,-79.54,-42.256021,-76.8,-76.522778,-72.34,-64.9],\"marker\":{\"color\":\"#636efa\",\"size\":[7.75833346749091,5.993961427306569,9.142275641062053,6.726233402358747,5.62040086571715,8.098034756176071,7.724004656676065,7.738488122494646,8.083328608786376,5.955837369464831,6.726233402358747,8.154212694914229,8.265135629937385,8.569026340056254,5.602118820879701,5.799092654460526,4.997212273764115,5.384495062789089,8.84922702143852,5.831882477283517,9.17895289873455,8.65591111072806,6.839476438228843],\"sizemode\":\"area\",\"sizeref\":0.02718353458394048,\"symbol\":\"circle\"},\"mode\":\"markers\",\"name\":\"\",\"showlegend\":false,\"type\":\"scattergeo\"}],\"name\":\"1748\"},{\"data\":[{\"customdata\":[[1462.0],[855.0],[4098.0],[2053.0],[5372.0],[134.0],[3133.0],[4916.0],[10986.0],[276.0],[11623.0],[8518.0],[420.0],[276.0],[1813.0],[195.0],[940.0],[2905.0],[769.0],[303.0],[1372.0],[3484.0]],\"geo\":\"geo\",\"hovertemplate\":\"<b>%{hovertext}</b><br><br>Year voyage began=1749<br>normalized_sizes=%{marker.size}<br>Latitude=%{lat}<br>Longitude=%{lon}<br>Total slaves embarked imputed * (slaximp)=%{customdata[0]}<extra></extra>\",\"hovertext\":[\"South Carolina\",\"Virginia\",\"Southeast Brazil\",\"Pernambuco\",\"Barbados\",\"Rhode Island\",\"Jamaica\",\"St. Kitts\",\"Bahia\",\"Montserrat\",\"Saint-Domingue\",\"Martinique\",\"Massachusetts\",\"Tortola\",\"Spanish Circum-Caribbean\",\"New York\",\"Rio de la Plata\",\"Dutch Guianas\",\"Danish West Indies\",\"Dutch Caribbean\",\"Antigua\",\"Americas\"],\"lat\":[33.1,36.9,-23.48894,-8.05,13.1,41.384793,17.881263,17.3,-12.983333,16.7,18.54,14.6,42.179453,18.347325,15.641117,40.703068,-33.332605,6.675248,18.0,14.751846,17.067453,0.0],\"legendgroup\":\"\",\"lon\":[-79.54,-76.3,-42.256021,-34.9,-59.616667,-71.466516,-76.522778,-62.716667,-38.516667,-62.216667,-72.34,-61.083333,-70.724689,-64.715064,-75.633932,-74.011117,-58.498255,-55.251124,-64.9,-65.781346,-61.784741,0.0],\"marker\":{\"color\":\"#636efa\",\"size\":[7.2875606403097235,6.75110146893676,8.318254328798846,7.627057417018934,8.588955557643128,4.897839799950911,8.049746290952191,8.500250470685925,9.304377013902565,5.62040086571715,9.360741172643708,9.049936850483158,6.040254711277414,5.62040086571715,7.502738210754851,5.272999558563747,6.84587987526405,7.974188669286011,6.645090969505644,5.713732805509369,7.22402480828583,8.155936337972394],\"sizemode\":\"area\",\"sizeref\":0.02718353458394048,\"symbol\":\"circle\"},\"mode\":\"markers\",\"name\":\"\",\"showlegend\":false,\"type\":\"scattergeo\"}],\"name\":\"1749\"},{\"data\":[{\"customdata\":[[842.0],[1460.0],[3896.0],[273.0],[14132.0],[5538.0],[331.0],[6598.0],[1103.0],[207.0],[420.0],[388.0],[4373.0],[169.0],[1325.0],[1643.0],[772.0],[366.0],[648.0],[386.0],[230.0],[4087.0],[582.0],[314.0],[6568.0]],\"geo\":\"geo\",\"hovertemplate\":\"<b>%{hovertext}</b><br><br>Year voyage began=1750<br>normalized_sizes=%{marker.size}<br>Latitude=%{lat}<br>Longitude=%{lon}<br>Total slaves embarked imputed * (slaximp)=%{customdata[0]}<extra></extra>\",\"hovertext\":[\"South Carolina\",\"Antigua\",\"Pernambuco\",\"Nevis\",\"Bahia\",\"Martinique\",\"Spanish Americas\",\"Saint-Domingue\",\"Dutch Guianas\",\"French Guiana\",\"Maryland\",\"Dutch Caribbean\",\"Barbados\",\"Portugal\",\"Virginia\",\"Southeast Brazil\",\"New York\",\"Danish West Indies\",\"Spanish Circum-Caribbean\",\"Other French Caribbean\",\"Other Caribbean\",\"St. Kitts\",\"Tortola\",\"Americas\",\"Jamaica\"],\"lat\":[33.1,17.067453,-8.05,17.151005,-12.983333,14.6,7.470701,18.54,6.675248,5.861294,39.57,14.751846,13.1,40.046745,36.9,-23.48894,40.703068,18.0,15.641117,19.75778,0.0,17.3,18.347325,0.0,17.881263],\"legendgroup\":\"\",\"lon\":[-79.54,-61.784741,-34.9,-62.589223,-38.516667,-61.083333,-75.611261,-72.34,-55.251124,-53.612239,-76.03,-65.781346,-59.616667,-8.838545,-76.3,-42.256021,-74.011117,-64.9,-75.633932,-72.20417,0.0,-62.716667,-64.715064,0.0,-76.522778],\"marker\":{\"color\":\"#636efa\",\"size\":[6.7357800142423265,7.286191714702382,8.267705664762426,5.60947179518496,9.556197008479035,8.619388703730907,5.802118375377063,8.794521851788527,7.005789019253503,5.332718793265369,6.040254711277414,5.961005339623274,8.38320455141292,5.1298987149230735,7.1891677384203225,7.404279118037268,6.648984550024776,5.902633333401366,6.473890696352274,5.955837369464831,5.438079308923196,8.315566483564277,6.366470447731438,5.749392985908253,8.789964651132264],\"sizemode\":\"area\",\"sizeref\":0.02718353458394048,\"symbol\":\"circle\"},\"mode\":\"markers\",\"name\":\"\",\"showlegend\":false,\"type\":\"scattergeo\"}],\"name\":\"1750\"},{\"data\":[{\"customdata\":[[1017.0],[60.0],[1718.0],[932.0],[2251.0],[153.0],[230.0],[150.0],[676.0],[693.0],[714.0],[2351.0],[250.0],[2240.0],[8735.0],[1572.0],[1388.0],[853.0],[7985.0],[4352.0],[1307.0],[329.0],[4363.0],[164.0],[9420.0]],\"geo\":\"geo\",\"hovertemplate\":\"<b>%{hovertext}</b><br><br>Year voyage began=1751<br>normalized_sizes=%{marker.size}<br>Latitude=%{lat}<br>Longitude=%{lon}<br>Total slaves embarked imputed * (slaximp)=%{customdata[0]}<extra></extra>\",\"hovertext\":[\"Dutch Caribbean\",\"Rhode Island\",\"South Carolina\",\"Antigua\",\"Martinique\",\"Portugal\",\"Tortola\",\"Danish West Indies\",\"Other British Caribbean\",\"Rio de la Plata\",\"New York\",\"Dutch Guianas\",\"Montserrat\",\"Pernambuco\",\"Bahia\",\"Americas\",\"St. Kitts\",\"Spanish Circum-Caribbean\",\"Jamaica\",\"Virginia\",\"Southeast Brazil\",\"Bight of Biafra and Gulf of Guinea islands\",\"Barbados\",\"Maryland\",\"Saint-Domingue\"],\"lat\":[14.751846,41.384793,33.1,17.067453,14.6,40.046745,18.347325,18.0,18.0,-33.332605,40.703068,6.675248,16.7,-8.05,-12.983333,0.0,17.3,15.641117,17.881263,36.9,-23.48894,4.17,13.1,39.57,18.54],\"legendgroup\":\"\",\"lon\":[-65.781346,-71.466516,-79.54,-61.784741,-61.083333,-8.838545,-64.715064,-64.9,-76.8,-58.498255,-74.011117,-55.251124,-62.216667,-34.9,-38.516667,0.0,-62.716667,-75.633932,-76.522778,-76.3,-42.256021,8.31,-59.616667,-76.03,-72.34],\"marker\":{\"color\":\"#636efa\",\"size\":[6.92461239604856,4.0943445622221,7.4489161025442,6.837332814685591,7.719129840906732,5.030437921392435,5.438079308923196,5.0106352940962555,6.516193076042964,6.541029999189903,6.570882962339584,7.762596048540069,5.521460917862246,7.7142311448490855,9.075093222568157,7.360103972989152,7.23561914106675,6.748759547491679,8.985320060649112,8.378390788535778,7.175489713624222,5.796057750765372,8.38091517312361,5.099866427824199,9.150590367570409],\"sizemode\":\"area\",\"sizeref\":0.02718353458394048,\"symbol\":\"circle\"},\"mode\":\"markers\",\"name\":\"\",\"showlegend\":false,\"type\":\"scattergeo\"}],\"name\":\"1751\"},{\"data\":[{\"customdata\":[[478.0],[1458.0],[12882.0],[1123.0],[3367.0],[8854.0],[290.0],[2790.0],[480.0],[2510.0],[290.0],[250.0],[569.0],[10067.0],[2488.0],[250.0],[2834.0],[2470.0],[6478.0],[490.0],[149.0],[1922.0],[485.0]],\"geo\":\"geo\",\"hovertemplate\":\"<b>%{hovertext}</b><br><br>Year voyage began=1752<br>normalized_sizes=%{marker.size}<br>Latitude=%{lat}<br>Longitude=%{lon}<br>Total slaves embarked imputed * (slaximp)=%{customdata[0]}<extra></extra>\",\"hovertext\":[\"Tortola\",\"St. Kitts\",\"Saint-Domingue\",\"Danish West Indies\",\"Pernambuco\",\"Jamaica\",\"Other Brazil\",\"Dutch Guianas\",\"Spanish Circum-Caribbean\",\"Martinique\",\"Portugal\",\"Montserrat\",\"Southeast Brazil\",\"Bahia\",\"Virginia\",\"Rhode Island\",\"Antigua\",\"Americas\",\"Barbados\",\"Maryland\",\"Massachusetts\",\"South Carolina\",\"Amazonia\"],\"lat\":[18.347325,17.3,18.54,18.0,-8.05,17.881263,-18.864582,6.675248,15.641117,14.6,40.046745,16.7,-23.48894,-12.983333,36.9,41.384793,17.067453,0.0,13.1,39.57,42.179453,33.1,-0.93323],\"legendgroup\":\"\",\"lon\":[-64.715064,-62.716667,-72.34,-64.9,-34.9,-76.522778,-39.75489,-55.251124,-75.633932,-61.083333,-8.838545,-62.216667,-42.256021,-38.516667,-76.3,-71.466516,-61.784741,0.0,-59.616667,-76.03,-70.724689,-79.54,-43.235449],\"marker\":{\"color\":\"#636efa\",\"size\":[6.169610732491456,7.284820912568604,9.463586267106836,7.023758954738443,8.121777419161074,9.088624613292087,5.66988092298052,7.933796874815411,6.173786103901937,7.828038032125829,5.66988092298052,5.521460917862246,6.343880434126331,9.217018026729423,7.81923445385907,5.521460917862246,7.949444420250626,7.8119734296220225,8.776167099731275,6.194405391104672,5.003946305945459,7.561121589530238,6.184148890937483],\"sizemode\":\"area\",\"sizeref\":0.02718353458394048,\"symbol\":\"circle\"},\"mode\":\"markers\",\"name\":\"\",\"showlegend\":false,\"type\":\"scattergeo\"}],\"name\":\"1752\"},{\"data\":[{\"customdata\":[[1875.0],[68.0],[71.0],[2162.0],[12055.0],[250.0],[250.0],[703.0],[13066.0],[1149.0],[881.0],[7139.0],[466.0],[670.0],[312.0],[8604.0],[3971.0],[1484.0],[3987.0],[1683.0],[1032.0],[230.0]],\"geo\":\"geo\",\"hovertemplate\":\"<b>%{hovertext}</b><br><br>Year voyage began=1753<br>normalized_sizes=%{marker.size}<br>Latitude=%{lat}<br>Longitude=%{lon}<br>Total slaves embarked imputed * (slaximp)=%{customdata[0]}<extra></extra>\",\"hovertext\":[\"St. Kitts\",\"St. Lucia\",\"New York\",\"Americas\",\"Saint-Domingue\",\"Guadaloupe\",\"Other Caribbean\",\"Spanish Circum-Caribbean\",\"Jamaica\",\"Southeast Brazil\",\"Virginia\",\"Barbados\",\"Amazonia\",\"Montserrat\",\"Danish West Indies\",\"Bahia\",\"Dutch Guianas\",\"Martinique\",\"Pernambuco\",\"South Carolina\",\"Antigua\",\"Nevis\"],\"lat\":[17.3,14.0,40.703068,0.0,18.54,16.0,0.0,15.641117,17.881263,-23.48894,36.9,13.1,-0.93323,16.7,18.0,-12.983333,6.675248,14.6,-8.05,33.1,17.067453,17.151005],\"legendgroup\":\"\",\"lon\":[-62.716667,-61.0,-74.011117,0.0,-72.34,-61.71667,0.0,-75.633932,-76.522778,-42.256021,-76.3,-59.616667,-43.235449,-62.216667,-64.9,-38.516667,-55.251124,-61.083333,-34.9,-79.54,-61.784741,-62.589223],\"marker\":{\"color\":\"#636efa\",\"size\":[7.536363938404511,4.219507705176107,4.2626798770413155,7.6787889981991535,9.397234790615272,5.521460917862246,5.521460917862246,6.555356891810665,9.477768715400696,7.046647277848756,6.78105762593618,8.87332798950246,6.144185634125646,6.507277712385012,5.7430031878094825,9.05998249038762,8.286773231131251,7.302496423727326,8.290794347381356,7.428333194190806,6.939253946041508,5.438079308923196],\"sizemode\":\"area\",\"sizeref\":0.02718353458394048,\"symbol\":\"circle\"},\"mode\":\"markers\",\"name\":\"\",\"showlegend\":false,\"type\":\"scattergeo\"}],\"name\":\"1753\"},{\"data\":[{\"customdata\":[[102.0],[21.0],[548.0],[30.0],[166.0],[347.0],[13075.0],[999.0],[316.0],[291.0],[7489.0],[250.0],[230.0],[5005.0],[266.0],[203.0],[3032.0],[4106.0],[1674.0],[1788.0],[1632.0],[276.0],[2580.0],[2666.0],[13720.0],[168.0]],\"geo\":\"geo\",\"hovertemplate\":\"<b>%{hovertext}</b><br><br>Year voyage began=1754<br>normalized_sizes=%{marker.size}<br>Latitude=%{lat}<br>Longitude=%{lon}<br>Total slaves embarked imputed * (slaximp)=%{customdata[0]}<extra></extra>\",\"hovertext\":[\"Bahamas\",\"New York\",\"Nevis\",\"Portugal\",\"Montserrat\",\"Dutch Caribbean\",\"Saint-Domingue\",\"Southeast Brazil\",\"Amazonia\",\"Spanish Circum-Caribbean\",\"Bahia\",\"Rio de la Plata\",\"Tortola\",\"Barbados\",\"French Guiana\",\"Other Caribbean\",\"Dutch Guianas\",\"Antigua\",\"Martinique\",\"Americas\",\"South Carolina\",\"Grenada\",\"Pernambuco\",\"St. Kitts\",\"Jamaica\",\"Danish West Indies\"],\"lat\":[22.783937,40.703068,17.151005,40.046745,16.7,14.751846,18.54,-23.48894,-0.93323,15.641117,-12.983333,-33.332605,18.347325,13.1,5.861294,0.0,6.675248,17.067453,14.6,0.0,33.1,12.05,-8.05,17.3,17.881263,18.0],\"legendgroup\":\"\",\"lon\":[-74.303605,-74.011117,-62.589223,-8.838545,-62.216667,-65.781346,-72.34,-42.256021,-43.235449,-75.633932,-38.516667,-58.498255,-64.715064,-59.616667,-53.612239,0.0,-55.251124,-61.784741,-61.083333,0.0,-79.54,-61.75,-34.9,-62.716667,-76.522778,-64.9],\"marker\":{\"color\":\"#636efa\",\"size\":[4.624972813284271,3.044522437723423,6.306275286948016,3.4011973816621555,5.111987788356544,5.849324779946859,9.478457288933123,6.906754778648554,5.755742213586912,5.673323267171493,8.921190556249368,5.521460917862246,5.438079308923196,8.518192691749322,5.583496308781699,5.313205979041787,8.016977746762262,8.32020459757888,7.422971251049421,7.488852955733459,7.397561535524052,5.62040086571715,7.855544677915663,7.888334500738654,9.526609901279876,5.123963979403259],\"sizemode\":\"area\",\"sizeref\":0.02718353458394048,\"symbol\":\"circle\"},\"mode\":\"markers\",\"name\":\"\",\"showlegend\":false,\"type\":\"scattergeo\"}],\"name\":\"1754\"},{\"data\":[{\"customdata\":[[369.0],[6863.0],[12557.0],[2942.0],[9.0],[824.0],[242.0],[129.0],[546.0],[2198.0],[3451.0],[1109.0],[566.0],[3374.0],[1057.0],[2034.0],[7103.0],[2987.0],[348.0],[200.0],[230.0],[611.0],[763.0],[233.0]],\"geo\":\"geo\",\"hovertemplate\":\"<b>%{hovertext}</b><br><br>Year voyage began=1755<br>normalized_sizes=%{marker.size}<br>Latitude=%{lat}<br>Longitude=%{lon}<br>Total slaves embarked imputed * (slaximp)=%{customdata[0]}<extra></extra>\",\"hovertext\":[\"Virginia\",\"Saint-Domingue\",\"Jamaica\",\"Antigua\",\"Spanish Circum-Caribbean\",\"Southeast Brazil\",\"Bight of Benin\",\"French Guiana\",\"Other British Caribbean\",\"St. Kitts\",\"Dutch Guianas\",\"Americas\",\"Grenada\",\"Pernambuco\",\"Martinique\",\"South Carolina\",\"Bahia\",\"Barbados\",\"Dutch Caribbean\",\"Montserrat\",\"North Carolina\",\"Amazonia\",\"Guadaloupe\",\"Other French Caribbean\"],\"lat\":[36.9,18.54,17.881263,17.067453,15.641117,-23.48894,5.27,5.861294,18.0,17.3,6.675248,0.0,12.05,-8.05,14.6,33.1,-12.983333,13.1,14.751846,16.7,35.25,-0.93323,16.0,19.75778],\"legendgroup\":\"\",\"lon\":[-76.3,-72.34,-76.522778,-61.784741,-75.633932,-42.256021,2.33,-53.612239,-76.8,-62.716667,-55.251124,0.0,-61.75,-34.9,-61.083333,-79.54,-38.516667,-59.616667,-65.781346,-62.216667,-76.55,-43.235449,-61.71667,-72.20417],\"marker\":{\"color\":\"#636efa\",\"size\":[5.910796644040527,8.833899942908635,9.438033557988964,7.9868449011613825,2.1972245773362196,6.714170529909472,5.488937726156687,4.859812404361672,6.302618975744905,7.6953031349635665,8.146419323098003,7.011213987350367,6.338594078203183,8.123854263105914,6.963189985870238,7.617759576608505,8.86827250899781,8.00202481821611,5.8522024797744745,5.298317366548036,5.438079308923196,6.415096959171596,6.637258031284457,5.4510384535657],\"sizemode\":\"area\",\"sizeref\":0.02718353458394048,\"symbol\":\"circle\"},\"mode\":\"markers\",\"name\":\"\",\"showlegend\":false,\"type\":\"scattergeo\"}],\"name\":\"1755\"},{\"data\":[{\"customdata\":[[60.0],[230.0],[10997.0],[819.0],[682.0],[3189.0],[1205.0],[3175.0],[80.0],[316.0],[9024.0],[2073.0],[143.0],[4085.0],[70.0],[1448.0],[1068.0],[210.0],[260.0],[2238.0],[350.0],[2005.0],[280.0],[352.0]],\"geo\":\"geo\",\"hovertemplate\":\"<b>%{hovertext}</b><br><br>Year voyage began=1756<br>normalized_sizes=%{marker.size}<br>Latitude=%{lat}<br>Longitude=%{lon}<br>Total slaves embarked imputed * (slaximp)=%{customdata[0]}<extra></extra>\",\"hovertext\":[\"New Jersey\",\"Tortola\",\"Jamaica\",\"Dutch Caribbean\",\"Danish West Indies\",\"Dutch Guianas\",\"Martinique\",\"Barbados\",\"Rhode Island\",\"Amazonia\",\"Bahia\",\"Southeast Brazil\",\"Sierra Leone\",\"Pernambuco\",\"Guadaloupe\",\"St. Kitts\",\"Americas\",\"Montserrat\",\"Other French Caribbean\",\"South Carolina\",\"Saint-Domingue\",\"Antigua\",\"Maryland\",\"Florida\"],\"lat\":[40.3,18.347325,17.881263,14.751846,18.0,6.675248,14.6,13.1,41.384793,-0.93323,-12.983333,-23.48894,8.1,-8.05,16.0,17.3,0.0,16.7,19.75778,33.1,18.54,17.067453,39.57,28.085368],\"legendgroup\":\"\",\"lon\":[-74.18,-64.715064,-76.522778,-65.781346,-64.9,-55.251124,-61.083333,-59.616667,-71.466516,-43.235449,-38.516667,-42.256021,-13.67,-34.9,-61.71667,-62.716667,0.0,-62.216667,-72.20417,-79.54,-72.34,-61.784741,-76.03,-80.522396],\"marker\":{\"color\":\"#636efa\",\"size\":[4.0943445622221,5.438079308923196,9.305377787310935,6.70808408385307,6.525029657843462,8.067462667010057,7.094234845924755,8.063062911326792,4.382026634673881,5.755742213586912,9.10764297373784,7.636752112435779,4.962844630259907,8.315077007294104,4.248495242049359,7.277938572945661,6.97354301952014,5.3471075307174685,5.560681631015528,7.71333788887187,5.857933154483459,7.60339933974067,5.634789603169249,5.863631175598097],\"sizemode\":\"area\",\"sizeref\":0.02718353458394048,\"symbol\":\"circle\"},\"mode\":\"markers\",\"name\":\"\",\"showlegend\":false,\"type\":\"scattergeo\"}],\"name\":\"1756\"},{\"data\":[{\"customdata\":[[171.0],[500.0],[31.0],[148.0],[83.0],[3396.0],[1309.0],[4389.0],[1247.0],[297.0],[5492.0],[386.0],[419.0],[230.0],[3625.0],[1513.0],[4240.0],[1235.0],[6615.0],[597.0],[4436.0],[1591.0],[1740.0]],\"geo\":\"geo\",\"hovertemplate\":\"<b>%{hovertext}</b><br><br>Year voyage began=1757<br>normalized_sizes=%{marker.size}<br>Latitude=%{lat}<br>Longitude=%{lon}<br>Total slaves embarked imputed * (slaximp)=%{customdata[0]}<extra></extra>\",\"hovertext\":[\"Montserrat\",\"Rhode Island\",\"New Jersey\",\"Maryland\",\"New York\",\"Pernambuco\",\"St. Kitts\",\"South Carolina\",\"Danish West Indies\",\"Portugal\",\"Dutch Guianas\",\"Americas\",\"Grenada\",\"Martinique\",\"Barbados\",\"Antigua\",\"Southeast Brazil\",\"Guadaloupe\",\"Bahia\",\"Saint-Domingue\",\"Jamaica\",\"Dutch Caribbean\",\"Amazonia\"],\"lat\":[16.7,41.384793,40.3,39.57,40.703068,-8.05,17.3,33.1,18.0,40.046745,6.675248,0.0,12.05,14.6,13.1,17.067453,-23.48894,16.0,-12.983333,18.54,17.881263,14.751846,-0.93323],\"legendgroup\":\"\",\"lon\":[-62.216667,-71.466516,-74.18,-76.03,-74.011117,-34.9,-62.716667,-79.54,-64.9,-8.838545,-55.251124,0.0,-61.75,-61.083333,-59.616667,-61.784741,-42.256021,-61.71667,-38.516667,-72.34,-76.522778,-65.781346,-43.235449],\"marker\":{\"color\":\"#636efa\",\"size\":[5.14166355650266,6.214608098422191,3.4339872044851463,4.997212273764115,4.418840607796598,8.130353547431238,7.1770187659099,8.386856689688234,7.1284959456800365,5.6937321388027,8.61104776688786,5.955837369464831,6.037870919922137,5.438079308923196,8.195609567288775,7.321849713788356,8.352318548226004,7.118826249062078,8.797095076549056,6.391917113392602,8.397508348470257,7.372118028337787,7.461640392208575],\"sizemode\":\"area\",\"sizeref\":0.02718353458394048,\"symbol\":\"circle\"},\"mode\":\"markers\",\"name\":\"\",\"showlegend\":false,\"type\":\"scattergeo\"}],\"name\":\"1757\"},{\"data\":[{\"customdata\":[[1575.0],[6403.0],[1639.0],[250.0],[439.0],[150.0],[263.0],[3288.0],[419.0],[3236.0],[149.0],[1504.0],[2003.0],[126.0],[1640.0],[4321.0],[5872.0],[212.0],[397.0],[800.0],[295.0],[3106.0],[104.0],[3123.0],[778.0],[18.0],[2227.0]],\"geo\":\"geo\",\"hovertemplate\":\"<b>%{hovertext}</b><br><br>Year voyage began=1758<br>normalized_sizes=%{marker.size}<br>Latitude=%{lat}<br>Longitude=%{lon}<br>Total slaves embarked imputed * (slaximp)=%{customdata[0]}<extra></extra>\",\"hovertext\":[\"Barbados\",\"Jamaica\",\"Amazonia\",\"Other Caribbean\",\"Americas\",\"Rhode Island\",\"Saint-Domingue\",\"Dutch Guianas\",\"Danish West Indies\",\"Antigua\",\"Massachusetts\",\"Virginia\",\"South Carolina\",\"Other French Caribbean\",\"Martinique\",\"Pernambuco\",\"Bahia\",\"Portugal\",\"Hispaniola\",\"Dutch Caribbean\",\"Maryland\",\"Southeast Brazil\",\"Sierra Leone\",\"St. Kitts\",\"New York\",\"New Hampshire\",\"Guadaloupe\"],\"lat\":[13.1,17.881263,-0.93323,0.0,0.0,41.384793,18.54,6.675248,18.0,17.067453,42.179453,36.9,33.1,19.75778,14.6,-8.05,-12.983333,40.046745,18.35,14.751846,39.57,-23.48894,8.1,17.3,40.703068,43.36,16.0],\"legendgroup\":\"\",\"lon\":[-59.616667,-76.522778,-43.235449,0.0,0.0,-71.466516,-72.34,-55.251124,-64.9,-61.784741,-70.724689,-76.3,-79.54,-72.20417,-61.083333,-34.9,-38.516667,-8.838545,-69.35,-65.781346,-76.03,-42.256021,-13.67,-62.716667,-74.011117,-70.58,-61.71667],\"marker\":{\"color\":\"#636efa\",\"size\":[7.362010551259734,8.764521909518802,7.40184157874383,5.521460917862246,6.0844994130751715,5.0106352940962555,5.572154032177765,8.098034756176071,6.037870919922137,8.082093278178382,5.003946305945459,7.315883504509785,7.602401335665818,4.836281906951478,7.402451520818244,8.371242135931933,8.677950570294351,5.356586274672012,5.983936280687191,6.684611727667927,5.68697535633982,8.041091003708633,4.6443908991413725,8.046549357283078,6.656726524178391,2.8903717578961645,7.708410667257367],\"sizemode\":\"area\",\"sizeref\":0.02718353458394048,\"symbol\":\"circle\"},\"mode\":\"markers\",\"name\":\"\",\"showlegend\":false,\"type\":\"scattergeo\"}],\"name\":\"1758\"},{\"data\":[{\"customdata\":[[3129.0],[7403.0],[4392.0],[2450.0],[6339.0],[1820.0],[2918.0],[2068.0],[577.0],[282.0],[480.0],[94.0],[867.0],[59.0],[531.0],[350.0],[234.0],[3218.0],[1051.0],[148.0],[128.0],[1709.0],[550.0],[83.0],[991.0],[4438.0],[194.0]],\"geo\":\"geo\",\"hovertemplate\":\"<b>%{hovertext}</b><br><br>Year voyage began=1759<br>normalized_sizes=%{marker.size}<br>Latitude=%{lat}<br>Longitude=%{lon}<br>Total slaves embarked imputed * (slaximp)=%{customdata[0]}<extra></extra>\",\"hovertext\":[\"Barbados\",\"Jamaica\",\"Guadaloupe\",\"St. Kitts\",\"Bahia\",\"Antigua\",\"Dutch Guianas\",\"Martinique\",\"Spanish Circum-Caribbean\",\"Montserrat\",\"Tortola\",\"Connecticut\",\"Americas\",\"Pennsylvania\",\"North Carolina\",\"Rio de la Plata\",\"Rhode Island\",\"Pernambuco\",\"Maryland\",\"Other Caribbean\",\"Other French Caribbean\",\"Virginia\",\"Southeast Brazil\",\"New York\",\"Danish West Indies\",\"South Carolina\",\"Amazonia\"],\"lat\":[13.1,17.881263,16.0,17.3,-12.983333,17.067453,6.675248,14.6,15.641117,16.7,18.347325,41.358665,0.0,39.71,35.25,-33.332605,41.384793,-8.05,39.57,0.0,19.75778,36.9,-23.48894,40.703068,18.0,33.1,-0.93323],\"legendgroup\":\"\",\"lon\":[-59.616667,-76.522778,-61.71667,-62.716667,-38.516667,-61.784741,-55.251124,-61.083333,-75.633932,-62.216667,-64.715064,-72.613822,0.0,-74.8,-76.55,-58.498255,-71.466516,-34.9,-76.03,0.0,-72.20417,-76.3,-42.256021,-74.011117,-64.9,-79.54,-43.235449],\"marker\":{\"color\":\"#636efa\",\"size\":[8.048468743668883,8.909640602443098,8.387539983189367,7.803843303538772,8.754476306284166,7.506591780070841,7.978653729082731,7.63433723562832,6.3578422665081,5.641907070938114,6.173786103901937,4.543294782270004,6.7650389767805414,4.07753744390572,6.274762021241939,5.857933154483459,5.455321115357702,8.076515327552329,6.957497370876951,4.997212273764115,4.852030263919617,7.443663683115591,6.309918278226516,4.418840607796598,6.898714534329988,8.39795910349254,5.267858159063328],\"sizemode\":\"area\",\"sizeref\":0.02718353458394048,\"symbol\":\"circle\"},\"mode\":\"markers\",\"name\":\"\",\"showlegend\":false,\"type\":\"scattergeo\"}],\"name\":\"1759\"},{\"data\":[{\"customdata\":[[2846.0],[557.0],[315.0],[381.0],[1811.0],[398.0],[1069.0],[8521.0],[2041.0],[352.0],[2393.0],[3573.0],[3066.0],[8675.0],[7459.0],[1077.0],[95.0],[430.0],[119.0],[2262.0],[585.0],[1924.0],[267.0],[2677.0],[3173.0]],\"geo\":\"geo\",\"hovertemplate\":\"<b>%{hovertext}</b><br><br>Year voyage began=1760<br>normalized_sizes=%{marker.size}<br>Latitude=%{lat}<br>Longitude=%{lon}<br>Total slaves embarked imputed * (slaximp)=%{customdata[0]}<extra></extra>\",\"hovertext\":[\"St. Kitts\",\"Maryland\",\"Cuba\",\"Dutch Caribbean\",\"Danish West Indies\",\"Spanish Circum-Caribbean\",\"Americas\",\"Jamaica\",\"Barbados\",\"French Guiana\",\"Virginia\",\"Southeast Brazil\",\"Pernambuco\",\"Guadaloupe\",\"Bahia\",\"Amazonia\",\"Pennsylvania\",\"Other French Caribbean\",\"Rhode Island\",\"Antigua\",\"New York\",\"South Carolina\",\"Massachusetts\",\"Martinique\",\"Dutch Guianas\"],\"lat\":[17.3,39.57,23.115613,14.751846,18.0,15.641117,0.0,17.881263,13.1,5.861294,36.9,-23.48894,-8.05,16.0,-12.983333,-0.93323,39.71,19.75778,41.384793,17.067453,40.703068,33.1,42.179453,14.6,6.675248],\"legendgroup\":\"\",\"lon\":[-62.716667,-76.03,-79.127686,-65.781346,-64.9,-75.633932,0.0,-76.522778,-59.616667,-53.612239,-76.3,-42.256021,-34.9,-61.71667,-38.516667,-43.235449,-74.8,-72.20417,-71.466516,-61.784741,-74.011117,-79.54,-70.724689,-61.083333,-55.251124],\"marker\":{\"color\":\"#636efa\",\"size\":[7.953669778649798,6.322565239927284,5.752572638825633,5.942799375126701,7.501634457883413,5.986452005284438,6.974478911025045,9.050288983827956,7.621195162809845,5.863631175598097,7.780303087908373,8.181160858023409,8.028129059431759,9.06820060481506,8.917176635955164,6.981934677156389,4.553876891600541,6.063785208687608,4.77912349311153,7.724004656676065,6.371611847231857,7.562161631225652,5.58724865840025,7.892452043520352,8.062432791583195],\"sizemode\":\"area\",\"sizeref\":0.02718353458394048,\"symbol\":\"circle\"},\"mode\":\"markers\",\"name\":\"\",\"showlegend\":false,\"type\":\"scattergeo\"}],\"name\":\"1760\"},{\"data\":[{\"customdata\":[[169.0],[95.0],[1456.0],[240.0],[224.0],[704.0],[2471.0],[500.0],[244.0],[1746.0],[1089.0],[6964.0],[1515.0],[1115.0],[6616.0],[4377.0],[203.0],[9021.0],[480.0],[250.0],[149.0],[2416.0],[433.0],[230.0],[999.0],[2652.0],[2838.0],[1391.0],[188.0],[1659.0],[198.0],[546.0],[138.0]],\"geo\":\"geo\",\"hovertemplate\":\"<b>%{hovertext}</b><br><br>Year voyage began=1761<br>normalized_sizes=%{marker.size}<br>Latitude=%{lat}<br>Longitude=%{lon}<br>Total slaves embarked imputed * (slaximp)=%{customdata[0]}<extra></extra>\",\"hovertext\":[\"Grenada\",\"Connecticut\",\"Barbados\",\"Other French Caribbean\",\"Rhode Island\",\"French Guiana\",\"Virginia\",\"Saint-Domingue\",\"Massachusetts\",\"Southeast Brazil\",\"Antigua\",\"Guadaloupe\",\"Pernambuco\",\"Danish West Indies\",\"Bahia\",\"Dutch Guianas\",\"Pennsylvania\",\"Jamaica\",\"Maryland\",\"Other British Caribbean\",\"New York\",\"St. Kitts\",\"Rio de la Plata\",\"North Carolina\",\"Cuba\",\"South Carolina\",\"Amazonia\",\"Dutch Caribbean\",\"New Jersey\",\"Martinique\",\"Spanish Circum-Caribbean\",\"Americas\",\"Puerto Rico\"],\"lat\":[12.05,41.358665,13.1,19.75778,41.384793,5.861294,36.9,18.54,42.179453,-23.48894,17.067453,16.0,-8.05,18.0,-12.983333,6.675248,39.71,17.881263,39.57,18.0,40.703068,17.3,-33.332605,35.25,23.115613,33.1,-0.93323,14.751846,40.3,14.6,15.641117,0.0,18.420959],\"legendgroup\":\"\",\"lon\":[-61.75,-72.613822,-59.616667,-72.20417,-71.466516,-53.612239,-76.3,-72.34,-70.724689,-42.256021,-61.784741,-61.71667,-34.9,-64.9,-38.516667,-55.251124,-74.8,-76.522778,-76.03,-76.8,-74.011117,-62.716667,-58.498255,-76.55,-79.127686,-79.54,-43.235449,-65.781346,-74.18,-61.083333,-75.633932,0.0,-66.070508],\"marker\":{\"color\":\"#636efa\",\"size\":[5.1298987149230735,4.553876891600541,7.283448228756631,5.480638923341991,5.4116460518550396,6.556778356158042,7.81237820598861,6.214608098422191,5.497168225293202,7.465082736399547,6.9930151229329605,8.848509300888079,7.323170717943469,7.016609683894219,8.797246236703527,8.384118837190895,5.313205979041787,9.107310471656639,6.173786103901937,5.521460917862246,5.003946305945459,7.789868559054706,6.07073772800249,5.438079308923196,6.906754778648554,7.883069351305753,7.950854857719988,7.237778191923443,5.236441962829949,7.413970290190444,5.288267030694535,6.302618975744905,4.927253685157205],\"sizemode\":\"area\",\"sizeref\":0.02718353458394048,\"symbol\":\"circle\"},\"mode\":\"markers\",\"name\":\"\",\"showlegend\":false,\"type\":\"scattergeo\"}],\"name\":\"1761\"},{\"data\":[{\"customdata\":[[1004.0],[3659.0],[1279.0],[1432.0],[277.0],[2360.0],[110.0],[83.0],[354.0],[2183.0],[2000.0],[244.0],[1927.0],[6706.0],[276.0],[1078.0],[866.0],[148.0],[70.0],[70.0],[4785.0],[7685.0],[1430.0],[95.0],[1434.0],[3168.0],[2540.0],[809.0]],\"geo\":\"geo\",\"hovertemplate\":\"<b>%{hovertext}</b><br><br>Year voyage began=1762<br>normalized_sizes=%{marker.size}<br>Latitude=%{lat}<br>Longitude=%{lon}<br>Total slaves embarked imputed * (slaximp)=%{customdata[0]}<extra></extra>\",\"hovertext\":[\"Cuba\",\"Pernambuco\",\"Other French Caribbean\",\"South Carolina\",\"Other Caribbean\",\"St. Kitts\",\"Americas\",\"Bahamas\",\"Grenada\",\"Barbados\",\"Martinique\",\"Pennsylvania\",\"Dutch Caribbean\",\"Bahia\",\"Other British Caribbean\",\"Maryland\",\"Amazonia\",\"Tortola\",\"Rhode Island\",\"New York\",\"Dutch Guianas\",\"Jamaica\",\"Antigua\",\"Massachusetts\",\"Virginia\",\"Southeast Brazil\",\"Guadaloupe\",\"Danish West Indies\"],\"lat\":[23.115613,-8.05,19.75778,33.1,0.0,17.3,0.0,22.783937,12.05,13.1,14.6,39.71,14.751846,-12.983333,18.0,39.57,-0.93323,18.347325,41.384793,40.703068,6.675248,17.881263,17.067453,42.179453,36.9,-23.48894,16.0,18.0],\"legendgroup\":\"\",\"lon\":[-79.127686,-34.9,-72.20417,-79.54,0.0,-62.716667,0.0,-74.303605,-61.75,-59.616667,-61.083333,-74.8,-65.781346,-38.516667,-76.8,-76.03,-43.235449,-64.715064,-71.466516,-74.011117,-55.251124,-76.522778,-61.784741,-70.724689,-76.3,-42.256021,-61.71667,-64.9],\"marker\":{\"color\":\"#636efa\",\"size\":[6.911747300251674,8.204945165019208,7.153833801578843,7.266827347520591,5.6240175061873385,7.7664168980196555,4.700480365792417,4.418840607796598,5.869296913133774,7.688455356549944,7.600902459542082,5.497168225293202,7.563719668414366,8.810757927026174,5.62040086571715,6.982862751468942,6.763884908562435,4.997212273764115,4.248495242049359,4.248495242049359,8.473241303887054,8.947025655972697,7.265429723253953,4.553876891600541,7.2682230211595655,8.060855752934316,7.8399193600125825,6.695798917058491],\"sizemode\":\"area\",\"sizeref\":0.02718353458394048,\"symbol\":\"circle\"},\"mode\":\"markers\",\"name\":\"\",\"showlegend\":false,\"type\":\"scattergeo\"}],\"name\":\"1762\"},{\"data\":[{\"customdata\":[[1304.0],[201.0],[3169.0],[3558.0],[120.0],[3262.0],[205.0],[949.0],[493.0],[6.0],[2133.0],[544.0],[409.0],[7057.0],[1966.0],[4716.0],[147.0],[2070.0],[647.0],[16725.0],[4446.0],[276.0],[5395.0],[13061.0],[4126.0]],\"geo\":\"geo\",\"hovertemplate\":\"<b>%{hovertext}</b><br><br>Year voyage began=1763<br>normalized_sizes=%{marker.size}<br>Latitude=%{lat}<br>Longitude=%{lon}<br>Total slaves embarked imputed * (slaximp)=%{customdata[0]}<extra></extra>\",\"hovertext\":[\"Martinique\",\"New York\",\"South Carolina\",\"Southeast Brazil\",\"Rhode Island\",\"Pernambuco\",\"St. Vincent\",\"Dutch Caribbean\",\"Dominica\",\"Maryland\",\"Grenada\",\"Amazonia\",\"Spanish Circum-Caribbean\",\"Barbados\",\"Virginia\",\"Bahia\",\"New Jersey\",\"Antigua\",\"Americas\",\"Saint-Domingue\",\"Cuba\",\"Other Caribbean\",\"St. Kitts\",\"Jamaica\",\"Dutch Guianas\"],\"lat\":[14.6,40.703068,33.1,-23.48894,41.384793,-8.05,13.201309,14.751846,15.3,39.57,12.05,-0.93323,15.641117,13.1,36.9,-12.983333,40.3,17.067453,0.0,18.54,23.115613,0.0,17.3,17.881263,6.675248],\"legendgroup\":\"\",\"lon\":[-61.083333,-74.011117,-79.54,-42.256021,-71.466516,-34.9,-61.186603,-65.781346,-61.4,-76.03,-61.75,-43.235449,-75.633932,-59.616667,-76.3,-38.516667,-74.18,-61.784741,0.0,-72.34,-79.127686,0.0,-62.716667,-76.522778,-55.251124],\"marker\":{\"color\":\"#636efa\",\"size\":[7.1731917424865985,5.303304908059076,8.06117135969092,8.17695386822578,4.787491742782046,8.09009578318096,5.3230099791384085,6.855408798609928,6.20050917404269,1.791759469228055,7.665284718471351,6.298949246855942,6.013715156042802,8.86177531100083,7.583756300707112,8.458716261657262,4.990432586778736,7.635303886259415,6.472346294500901,9.724659884996429,8.399760094524142,5.62040086571715,8.593227877692234,9.47738596957752,8.325063693631197],\"sizemode\":\"area\",\"sizeref\":0.02718353458394048,\"symbol\":\"circle\"},\"mode\":\"markers\",\"name\":\"\",\"showlegend\":false,\"type\":\"scattergeo\"}],\"name\":\"1763\"},{\"data\":[{\"customdata\":[[200.0],[8149.0],[5939.0],[169.0],[680.0],[3055.0],[4968.0],[3491.0],[6169.0],[43.0],[2117.0],[928.0],[91.0],[5438.0],[810.0],[14512.0],[2685.0],[123.0],[372.0],[393.0],[489.0],[480.0],[351.0],[259.0],[12349.0],[4896.0],[200.0],[1216.0],[429.0],[2639.0],[83.0]],\"geo\":\"geo\",\"hovertemplate\":\"<b>%{hovertext}</b><br><br>Year voyage began=1764<br>normalized_sizes=%{marker.size}<br>Latitude=%{lat}<br>Longitude=%{lon}<br>Total slaves embarked imputed * (slaximp)=%{customdata[0]}<extra></extra>\",\"hovertext\":[\"Other Caribbean\",\"South Carolina\",\"Dutch Guianas\",\"North Carolina\",\"Americas\",\"Grenada\",\"St. Kitts\",\"Pernambuco\",\"Bahia\",\"Puerto Rico\",\"Guadaloupe\",\"French Guiana\",\"Virginia\",\"Barbados\",\"Spanish Circum-Caribbean\",\"Jamaica\",\"Amazonia\",\"New York\",\"Martinique\",\"Maryland\",\"Dominica\",\"Other British Caribbean\",\"Dutch Caribbean\",\"Pennsylvania\",\"Saint-Domingue\",\"Southeast Brazil\",\"Hispaniola\",\"Cuba\",\"Danish West Indies\",\"Antigua\",\"Rhode Island\"],\"lat\":[0.0,33.1,6.675248,35.25,0.0,12.05,17.3,-8.05,-12.983333,18.420959,16.0,5.861294,36.9,13.1,15.641117,17.881263,-0.93323,40.703068,14.6,39.57,15.3,18.0,14.751846,39.71,18.54,-23.48894,18.35,23.115613,18.0,17.067453,41.384793],\"legendgroup\":\"\",\"lon\":[0.0,-79.54,-55.251124,-76.55,0.0,-61.75,-62.716667,-34.9,-38.516667,-66.070508,-61.71667,-53.612239,-76.3,-59.616667,-75.633932,-76.522778,-43.235449,-74.011117,-61.083333,-76.03,-61.4,-76.8,-65.781346,-74.8,-72.34,-42.256021,-69.35,-79.127686,-64.9,-61.784741,-71.466516],\"marker\":{\"color\":\"#636efa\",\"size\":[5.298317366548036,9.00565049932022,8.68929604801586,5.1298987149230735,6.522092798170152,8.024534871605695,8.510772623613315,8.157943507105037,8.72729202920964,3.7612001156935624,7.6577552711348655,6.833031732786201,4.51085950651685,8.601166625192416,6.697034247666484,9.582731172354919,7.895436006942965,4.812184355372417,5.918893854273146,5.973809611869261,6.192362489474872,6.173786103901937,5.860786223465865,5.556828061699537,9.421330367117822,8.496173824192162,5.298317366548036,7.103322062526113,6.061456918928017,7.878155336503324,4.418840607796598],\"sizemode\":\"area\",\"sizeref\":0.02718353458394048,\"symbol\":\"circle\"},\"mode\":\"markers\",\"name\":\"\",\"showlegend\":false,\"type\":\"scattergeo\"}],\"name\":\"1764\"},{\"data\":[{\"customdata\":[[6057.0],[1369.0],[951.0],[153.0],[572.0],[401.0],[191.0],[60.0],[6418.0],[83.0],[3697.0],[17057.0],[859.0],[4307.0],[7581.0],[14352.0],[250.0],[639.0],[1951.0],[5282.0],[92.0],[187.0],[77.0],[622.0],[377.0],[503.0],[2792.0],[111.0],[6196.0],[1589.0]],\"geo\":\"geo\",\"hovertemplate\":\"<b>%{hovertext}</b><br><br>Year voyage began=1765<br>normalized_sizes=%{marker.size}<br>Latitude=%{lat}<br>Longitude=%{lon}<br>Total slaves embarked imputed * (slaximp)=%{customdata[0]}<extra></extra>\",\"hovertext\":[\"Barbados\",\"Amazonia\",\"Americas\",\"New York\",\"Virginia\",\"French Guiana\",\"Spanish Circum-Caribbean\",\"Other Africa\",\"Grenada\",\"British Honduras\",\"Antigua\",\"Saint-Domingue\",\"Guadaloupe\",\"St. Kitts\",\"Bahia\",\"Jamaica\",\"North Carolina\",\"Danish West Indies\",\"South Carolina\",\"Southeast Brazil\",\"Tortola\",\"Rhode Island\",\"Other Caribbean\",\"St. Vincent\",\"Other British Caribbean\",\"Dominica\",\"Pernambuco\",\"Georgia\",\"Dutch Guianas\",\"Martinique\"],\"lat\":[13.1,-0.93323,0.0,40.703068,36.9,5.861294,15.641117,0.054033,12.05,15.79,17.067453,18.54,16.0,17.3,-12.983333,17.881263,35.25,18.0,33.1,-23.48894,18.347325,41.384793,0.0,13.201309,18.0,15.3,-8.05,31.69,6.675248,14.6],\"legendgroup\":\"\",\"lon\":[-59.616667,-43.235449,0.0,-74.011117,-76.3,-53.612239,-75.633932,9.343897,-61.75,-86.3,-61.784741,-72.34,-61.71667,-62.716667,-38.516667,-76.522778,-76.55,-64.9,-79.54,-42.256021,-64.715064,-71.466516,0.0,-61.186603,-76.8,-61.4,-34.9,-81.17,-55.251124,-61.083333],\"marker\":{\"color\":\"#636efa\",\"size\":[8.708969906980947,7.221835825288449,6.85751406254539,5.030437921392435,6.349138991379798,5.993961427306569,5.25227342804663,4.0943445622221,8.766861821669803,4.418840607796598,8.215276958936633,9.744315955640873,6.755768921984255,8.36799688505411,8.933400396056303,9.571644584298577,5.521460917862246,6.459904454377535,7.576097340623111,8.572060092857077,4.5217885770490405,5.231108616854587,4.343805421853684,6.432940092739179,5.932245187448011,6.220590170099739,7.934513463882263,4.709530201312334,8.73165920153676,7.370860166536716],\"sizemode\":\"area\",\"sizeref\":0.02718353458394048,\"symbol\":\"circle\"},\"mode\":\"markers\",\"name\":\"\",\"showlegend\":false,\"type\":\"scattergeo\"}],\"name\":\"1765\"},{\"data\":[{\"customdata\":[[3235.0],[9501.0],[1099.0],[2545.0],[120.0],[140.0],[18094.0],[3635.0],[238.0],[4142.0],[849.0],[692.0],[1354.0],[1379.0],[339.0],[3481.0],[3828.0],[5368.0],[3398.0],[5433.0],[1048.0],[124.0],[375.0],[83.0],[472.0],[971.0],[5439.0]],\"geo\":\"geo\",\"hovertemplate\":\"<b>%{hovertext}</b><br><br>Year voyage began=1766<br>normalized_sizes=%{marker.size}<br>Latitude=%{lat}<br>Longitude=%{lon}<br>Total slaves embarked imputed * (slaximp)=%{customdata[0]}<extra></extra>\",\"hovertext\":[\"Dominica\",\"Bahia\",\"Guadaloupe\",\"Puerto Rico\",\"Pennsylvania\",\"Maryland\",\"Saint-Domingue\",\"Barbados\",\"Martinique\",\"Antigua\",\"Other British Caribbean\",\"Dutch Caribbean\",\"Georgia\",\"Amazonia\",\"Virginia\",\"Pernambuco\",\"Jamaica\",\"Southeast Brazil\",\"St. Kitts\",\"Dutch Guianas\",\"South Carolina\",\"Montserrat\",\"Danish West Indies\",\"Other Caribbean\",\"Cuba\",\"Americas\",\"Grenada\"],\"lat\":[15.3,-12.983333,16.0,18.420959,39.71,39.57,18.54,13.1,14.6,17.067453,18.0,14.751846,31.69,-0.93323,36.9,-8.05,17.881263,-23.48894,17.3,6.675248,33.1,16.7,18.0,0.0,23.115613,0.0,12.05],\"legendgroup\":\"\",\"lon\":[-61.4,-38.516667,-61.71667,-66.070508,-74.8,-76.03,-72.34,-59.616667,-61.083333,-61.784741,-76.8,-65.781346,-81.17,-43.235449,-76.3,-34.9,-76.522778,-42.256021,-62.716667,-55.251124,-79.54,-62.216667,-64.9,0.0,-79.127686,0.0,-61.75],\"marker\":{\"color\":\"#636efa\",\"size\":[8.081784206935001,9.15915233520675,7.002155954403621,7.841885928984623,4.787491742782046,4.941642422609304,9.803335670585687,8.19836438996762,5.472270673671475,8.328934041955529,6.744059186311348,6.539585955617669,7.21081845347222,7.229113877793302,5.82600010738045,8.15507488781144,8.250097752572845,8.588210678651517,8.130942302231878,8.600246746551523,6.954638864880987,4.820281565605037,5.926926025970411,4.418840607796598,6.156978985585555,6.878326468291325,8.60135049942296],\"sizemode\":\"area\",\"sizeref\":0.02718353458394048,\"symbol\":\"circle\"},\"mode\":\"markers\",\"name\":\"\",\"showlegend\":false,\"type\":\"scattergeo\"}],\"name\":\"1766\"},{\"data\":[{\"customdata\":[[3425.0],[4693.0],[4826.0],[1071.0],[8786.0],[148.0],[2796.0],[15145.0],[79.0],[118.0],[150.0],[5612.0],[164.0],[588.0],[409.0],[534.0],[737.0],[3022.0],[3528.0],[500.0],[304.0],[5687.0],[622.0],[323.0],[1253.0],[7781.0],[230.0],[284.0],[2135.0]],\"geo\":\"geo\",\"hovertemplate\":\"<b>%{hovertext}</b><br><br>Year voyage began=1767<br>normalized_sizes=%{marker.size}<br>Latitude=%{lat}<br>Longitude=%{lon}<br>Total slaves embarked imputed * (slaximp)=%{customdata[0]}<extra></extra>\",\"hovertext\":[\"Grenada\",\"Antigua\",\"Dutch Guianas\",\"Amazonia\",\"Jamaica\",\"North Carolina\",\"Dominica\",\"Saint-Domingue\",\"Florida\",\"New York\",\"Codes without labels\",\"Barbados\",\"Other French Caribbean\",\"Other Caribbean\",\"Martinique\",\"Cuba\",\"Danish West Indies\",\"Puerto Rico\",\"Pernambuco\",\"Americas\",\"French Guiana\",\"Southeast Brazil\",\"Georgia\",\"British Guiana\",\"St. Kitts\",\"Bahia\",\"Virginia\",\"St. Vincent\",\"Other British Caribbean\"],\"lat\":[12.05,17.067453,6.675248,-0.93323,17.881263,35.25,15.3,18.54,28.085368,40.703068,0.0,13.1,19.75778,0.0,14.6,23.115613,18.0,18.420959,-8.05,0.0,5.861294,-23.48894,31.69,7.615531,17.3,-12.983333,36.9,13.201309,18.0],\"legendgroup\":\"\",\"lon\":[-61.75,-61.784741,-55.251124,-43.235449,-76.522778,-76.55,-61.4,-72.34,-80.522396,-74.011117,0.0,-59.616667,-72.20417,0.0,-61.083333,-79.127686,-64.9,-66.070508,-34.9,0.0,-53.612239,-42.256021,-81.17,-57.958937,-62.716667,-38.516667,-76.3,-61.186603,-76.8],\"marker\":{\"color\":\"#636efa\",\"size\":[8.138856750696325,8.453827315794417,8.481773246184977,6.976348070447749,9.080914824535725,4.997212273764115,7.935945103353701,9.625425723461337,4.3694478524670215,4.770684624465665,5.0106352940962555,8.632662441222351,5.099866427824199,6.376726947898627,6.013715156042802,6.280395838960195,6.602587892189336,8.013674142832684,8.168486417126681,6.214608098422191,5.717027701406222,8.645938147306799,6.432940092739179,5.777652323222656,7.133295954896068,8.95944014361693,5.438079308923196,5.648974238161206,7.666221925662725],\"sizemode\":\"area\",\"sizeref\":0.02718353458394048,\"symbol\":\"circle\"},\"mode\":\"markers\",\"name\":\"\",\"showlegend\":false,\"type\":\"scattergeo\"}],\"name\":\"1767\"},{\"data\":[{\"customdata\":[[605.0],[6283.0],[1002.0],[5193.0],[4965.0],[186.0],[102.0],[144.0],[4227.0],[5658.0],[1141.0],[347.0],[270.0],[1704.0],[128.0],[2026.0],[2367.0],[17.0],[786.0],[80.0],[3066.0],[4990.0],[2635.0],[198.0],[13902.0],[100.0],[356.0],[368.0],[166.0],[433.0],[492.0],[4639.0],[485.0],[634.0],[1374.0]],\"geo\":\"geo\",\"hovertemplate\":\"<b>%{hovertext}</b><br><br>Year voyage began=1768<br>normalized_sizes=%{marker.size}<br>Latitude=%{lat}<br>Longitude=%{lon}<br>Total slaves embarked imputed * (slaximp)=%{customdata[0]}<extra></extra>\",\"hovertext\":[\"French Guiana\",\"Barbados\",\"Americas\",\"Dutch Guianas\",\"Jamaica\",\"Florida\",\"Other Caribbean\",\"Maryland\",\"Dominica\",\"South Carolina\",\"St. Vincent\",\"Dutch Caribbean\",\"Nevis\",\"Other British Caribbean\",\"Tortola\",\"Puerto Rico\",\"Southeast Brazil\",\"Senegambia and offshore Atlantic\",\"Amazonia\",\"Spanish Circum-Caribbean\",\"Antigua\",\"Bahia\",\"Pernambuco\",\"Cuba\",\"Saint-Domingue\",\"Other Africa\",\"Bight of Biafra and Gulf of Guinea islands\",\"New York\",\"Sierra Leone\",\"Guadaloupe\",\"Virginia\",\"Grenada\",\"Georgia\",\"Danish West Indies\",\"St. Kitts\"],\"lat\":[5.861294,13.1,0.0,6.675248,17.881263,28.085368,0.0,39.57,15.3,33.1,13.201309,14.751846,17.151005,18.0,18.347325,18.420959,-23.48894,14.14,-0.93323,15.641117,17.067453,-12.983333,-8.05,23.115613,18.54,0.054033,4.17,40.703068,8.1,16.0,36.9,12.05,31.69,18.0,17.3],\"legendgroup\":\"\",\"lon\":[-53.612239,-59.616667,0.0,-55.251124,-76.522778,-80.522396,0.0,-76.03,-61.4,-79.54,-61.186603,-65.781346,-62.589223,-76.8,-64.715064,-66.070508,-42.256021,-17.93,-43.235449,-75.633932,-61.784741,-38.516667,-34.9,-79.127686,-72.34,9.343897,8.31,-74.011117,-13.67,-61.71667,-76.3,-61.75,-81.17,-64.9,-62.716667],\"marker\":{\"color\":\"#636efa\",\"size\":[6.405228458030842,8.745602852402946,6.90975328164481,8.555066843844319,8.510168576479273,5.225746673713202,4.624972813284271,4.969813299576001,8.34924780056679,8.640825751861513,7.039660349862076,5.849324779946859,5.598421958998375,7.440733707389261,4.852030263919617,7.613818684808629,7.769378609513984,2.833213344056216,6.666956792429207,4.382026634673881,8.028129059431759,8.515191188745565,7.876638460975463,5.288267030694535,9.53978799366043,4.605170185988092,5.87493073085203,5.908082938168931,5.111987788356544,6.07073772800249,6.198478716492308,8.442254104751743,6.184148890937483,6.452048954437226,7.2254814727822945],\"sizemode\":\"area\",\"sizeref\":0.02718353458394048,\"symbol\":\"circle\"},\"mode\":\"markers\",\"name\":\"\",\"showlegend\":false,\"type\":\"scattergeo\"}],\"name\":\"1768\"},{\"data\":[{\"customdata\":[[302.0],[5245.0],[1066.0],[3512.0],[254.0],[2368.0],[1551.0],[17426.0],[1061.0],[417.0],[4320.0],[649.0],[368.0],[7500.0],[564.0],[273.0],[686.0],[8727.0],[2723.0],[6857.0],[779.0],[152.0],[242.0],[484.0],[878.0],[54.0],[9492.0]],\"geo\":\"geo\",\"hovertemplate\":\"<b>%{hovertext}</b><br><br>Year voyage began=1769<br>normalized_sizes=%{marker.size}<br>Latitude=%{lat}<br>Longitude=%{lon}<br>Total slaves embarked imputed * (slaximp)=%{customdata[0]}<extra></extra>\",\"hovertext\":[\"Maryland\",\"Grenada\",\"Amazonia\",\"Antigua\",\"South Carolina\",\"Pernambuco\",\"Puerto Rico\",\"Saint-Domingue\",\"St. Vincent\",\"Guadaloupe\",\"Dominica\",\"Other British Caribbean\",\"New York\",\"Dutch Guianas\",\"St. Kitts\",\"Other Caribbean\",\"Virginia\",\"Jamaica\",\"Southeast Brazil\",\"Bahia\",\"Georgia\",\"Spanish Circum-Caribbean\",\"French Guiana\",\"Americas\",\"Danish West Indies\",\"Codes without labels\",\"Barbados\"],\"lat\":[39.57,12.05,-0.93323,17.067453,33.1,-8.05,18.420959,18.54,13.201309,16.0,15.3,18.0,40.703068,6.675248,17.3,0.0,36.9,17.881263,-23.48894,-12.983333,31.69,15.641117,5.861294,0.0,18.0,0.0,13.1],\"legendgroup\":\"\",\"lon\":[-76.03,-61.75,-43.235449,-61.784741,-79.54,-34.9,-66.070508,-72.34,-61.186603,-61.71667,-61.4,-76.8,-74.011117,-55.251124,-62.716667,0.0,-76.3,-76.522778,-42.256021,-38.516667,-81.17,-75.633932,-53.612239,0.0,-64.9,0.0,-59.616667],\"marker\":{\"color\":\"#636efa\",\"size\":[5.71042701737487,8.565030520830398,6.97166860472579,8.163940954755008,5.537334267018537,7.769800996003896,7.346655163176539,9.765718622791232,6.966967138613983,6.0330862217988015,8.371010681238156,6.47543271670409,5.908082938168931,8.922658299524402,6.335054251498059,5.60947179518496,6.530877627725885,9.074176947163311,7.909489492673759,8.833025307284364,6.658011045870748,5.0238805208462765,5.488937726156687,6.182084906716632,6.777646593635117,3.9889840465642745,9.158204617555654],\"sizemode\":\"area\",\"sizeref\":0.02718353458394048,\"symbol\":\"circle\"},\"mode\":\"markers\",\"name\":\"\",\"showlegend\":false,\"type\":\"scattergeo\"}],\"name\":\"1769\"},{\"data\":[{\"customdata\":[[352.0],[113.0],[1719.0],[11410.0],[83.0],[7500.0],[2309.0],[2033.0],[1211.0],[51.0],[366.0],[352.0],[1366.0],[2483.0],[7157.0],[827.0],[6166.0],[6696.0],[162.0],[360.0],[1527.0],[8086.0],[250.0],[5917.0],[2151.0],[1610.0],[277.0],[140.0]],\"geo\":\"geo\",\"hovertemplate\":\"<b>%{hovertext}</b><br><br>Year voyage began=1770<br>normalized_sizes=%{marker.size}<br>Latitude=%{lat}<br>Longitude=%{lon}<br>Total slaves embarked imputed * (slaximp)=%{customdata[0]}<extra></extra>\",\"hovertext\":[\"Nevis\",\"Maryland\",\"Other British Caribbean\",\"Saint-Domingue\",\"New York\",\"Dutch Guianas\",\"St. Vincent\",\"Southeast Brazil\",\"Amazonia\",\"Martinique\",\"Virginia\",\"Other Caribbean\",\"St. Kitts\",\"Antigua\",\"Barbados\",\"Americas\",\"Bahia\",\"Jamaica\",\"Guadaloupe\",\"Danish West Indies\",\"Puerto Rico\",\"Grenada\",\"North Carolina\",\"Dominica\",\"Pernambuco\",\"South Carolina\",\"Florida\",\"Georgia\"],\"lat\":[17.151005,39.57,18.0,18.54,40.703068,6.675248,13.201309,-23.48894,-0.93323,14.6,36.9,0.0,17.3,17.067453,13.1,0.0,-12.983333,17.881263,16.0,18.0,18.420959,12.05,35.25,15.3,-8.05,33.1,28.085368,31.69],\"legendgroup\":\"\",\"lon\":[-62.589223,-76.03,-76.8,-72.34,-74.011117,-55.251124,-61.186603,-42.256021,-43.235449,-61.083333,-76.3,0.0,-62.716667,-61.784741,-59.616667,0.0,-38.516667,-76.522778,-61.71667,-64.9,-66.070508,-61.75,-76.55,-61.4,-34.9,-79.54,-80.522396,-81.17],\"marker\":{\"color\":\"#636efa\",\"size\":[5.863631175598097,4.727387818712341,7.449498005382849,9.342245442856122,4.418840607796598,8.922658299524402,7.744569809354496,7.617267813628347,7.099201743553092,3.9318256327243257,5.902633333401366,5.863631175598097,7.2196420401307355,7.817222785508166,8.875846177738598,6.717804695023691,8.726805608446096,8.80926561216931,5.087596335232384,5.886104031450156,7.3310603052186325,8.997889450200717,5.521460917862246,8.685584842676693,7.67368812926773,7.383989457978509,5.6240175061873385,4.941642422609304],\"sizemode\":\"area\",\"sizeref\":0.02718353458394048,\"symbol\":\"circle\"},\"mode\":\"markers\",\"name\":\"\",\"showlegend\":false,\"type\":\"scattergeo\"}],\"name\":\"1770\"},{\"data\":[{\"customdata\":[[267.0],[5768.0],[135.0],[171.0],[83.0],[4658.0],[3549.0],[4448.0],[17813.0],[3144.0],[1621.0],[7630.0],[1400.0],[1935.0],[6257.0],[653.0],[1237.0],[7211.0],[60.0],[425.0],[9524.0],[1406.0],[874.0],[2591.0],[134.0],[4539.0],[793.0]],\"geo\":\"geo\",\"hovertemplate\":\"<b>%{hovertext}</b><br><br>Year voyage began=1771<br>normalized_sizes=%{marker.size}<br>Latitude=%{lat}<br>Longitude=%{lon}<br>Total slaves embarked imputed * (slaximp)=%{customdata[0]}<extra></extra>\",\"hovertext\":[\"Danish West Indies\",\"Dutch Guianas\",\"Martinique\",\"Nevis\",\"Guadaloupe\",\"Grenada\",\"St. Kitts\",\"South Carolina\",\"Saint-Domingue\",\"Pernambuco\",\"Other British Caribbean\",\"Bahia\",\"Tobago\",\"Virginia\",\"Southeast Brazil\",\"Other Caribbean\",\"Amazonia\",\"Jamaica\",\"French Guiana\",\"Georgia\",\"Dominica\",\"Antigua\",\"Dutch Caribbean\",\"St. Vincent\",\"Maryland\",\"Barbados\",\"Americas\"],\"lat\":[18.0,6.675248,14.6,17.151005,16.0,12.05,17.3,33.1,18.54,-8.05,18.0,-12.983333,11.231794,36.9,-23.48894,0.0,-0.93323,17.881263,5.861294,31.69,15.3,17.067453,14.751846,13.201309,39.57,13.1,0.0],\"legendgroup\":\"\",\"lon\":[-64.9,-55.251124,-61.083333,-62.589223,-61.71667,-61.75,-62.716667,-79.54,-72.34,-34.9,-76.8,-38.516667,-60.663937,-76.3,-42.256021,0.0,-43.235449,-76.522778,-53.612239,-81.17,-61.4,-61.784741,-65.781346,-61.186603,-76.03,-59.616667,0.0],\"marker\":{\"color\":\"#636efa\",\"size\":[5.58724865840025,8.660080678964786,4.90527477843843,5.14166355650266,4.418840607796598,8.446341450444287,8.174421152646497,8.400209835930418,9.787683806792485,8.053251153549096,7.390798521735676,8.939843124278502,7.24422751560335,7.5678626054638825,8.741456115998364,6.481577129276431,7.1204443723924875,8.88336291691676,4.0943445622221,6.052089168924417,9.161570207606754,7.2485040723706105,6.773080375655535,7.85979918056211,4.897839799950911,8.420462002456466,6.675823221634848],\"sizemode\":\"area\",\"sizeref\":0.02718353458394048,\"symbol\":\"circle\"},\"mode\":\"markers\",\"name\":\"\",\"showlegend\":false,\"type\":\"scattergeo\"}],\"name\":\"1771\"},{\"data\":[{\"customdata\":[[582.0],[8046.0],[337.0],[281.0],[15505.0],[6880.0],[544.0],[15784.0],[3705.0],[754.0],[166.0],[4166.0],[2056.0],[178.0],[4529.0],[3222.0],[2278.0],[4884.0],[296.0],[758.0],[1842.0],[29.0],[1332.0]],\"geo\":\"geo\",\"hovertemplate\":\"<b>%{hovertext}</b><br><br>Year voyage began=1772<br>normalized_sizes=%{marker.size}<br>Latitude=%{lat}<br>Longitude=%{lon}<br>Total slaves embarked imputed * (slaximp)=%{customdata[0]}<extra></extra>\",\"hovertext\":[\"Georgia\",\"South Carolina\",\"Antigua\",\"Maryland\",\"Saint-Domingue\",\"Bahia\",\"Virginia\",\"Jamaica\",\"Dominica\",\"Dutch Caribbean\",\"Danish West Indies\",\"St. Kitts\",\"Pernambuco\",\"Guadaloupe\",\"Dutch Guianas\",\"St. Vincent\",\"Barbados\",\"Grenada\",\"Tobago\",\"Other Caribbean\",\"Americas\",\"Bight of Biafra and Gulf of Guinea islands\",\"Amazonia\"],\"lat\":[31.69,33.1,17.067453,39.57,18.54,-12.983333,36.9,17.881263,15.3,14.751846,18.0,17.3,-8.05,16.0,6.675248,13.201309,13.1,12.05,11.231794,0.0,0.0,4.17,-0.93323],\"legendgroup\":\"\",\"lon\":[-81.17,-79.54,-61.784741,-76.03,-72.34,-38.516667,-76.3,-76.522778,-61.4,-65.781346,-64.9,-62.716667,-34.9,-61.71667,-55.251124,-61.186603,-59.616667,-61.75,-60.663937,0.0,0.0,8.31,-43.235449],\"marker\":{\"color\":\"#636efa\",\"size\":[6.366470447731438,8.992930352509733,5.820082930352362,5.638354669333745,9.648917831534549,8.836373930927389,6.298949246855942,9.66675204770245,8.217438537730187,6.625392368007956,5.111987788356544,8.334711621820917,7.628517626575055,5.181783550292085,8.418256443556213,8.07775756373692,7.731053144007127,8.493719835230594,5.69035945432406,6.630683385642372,7.518607216815252,3.367295829986474,7.194436851100335],\"sizemode\":\"area\",\"sizeref\":0.02718353458394048,\"symbol\":\"circle\"},\"mode\":\"markers\",\"name\":\"\",\"showlegend\":false,\"type\":\"scattergeo\"}],\"name\":\"1772\"},{\"data\":[{\"customdata\":[[2117.0],[1201.0],[1005.0],[1360.0],[1245.0],[2225.0],[500.0],[5754.0],[100.0],[276.0],[2553.0],[218.0],[68.0],[2153.0],[6769.0],[815.0],[15394.0],[3798.0],[149.0],[344.0],[19736.0],[776.0],[838.0],[2141.0]],\"geo\":\"geo\",\"hovertemplate\":\"<b>%{hovertext}</b><br><br>Year voyage began=1773<br>normalized_sizes=%{marker.size}<br>Latitude=%{lat}<br>Longitude=%{lon}<br>Total slaves embarked imputed * (slaximp)=%{customdata[0]}<extra></extra>\",\"hovertext\":[\"Americas\",\"St. Vincent\",\"Georgia\",\"Dutch Caribbean\",\"Dominica\",\"Barbados\",\"Tortola\",\"Bahia\",\"Florida\",\"Guadaloupe\",\"Grenada\",\"Danish West Indies\",\"Montserrat\",\"Dutch Guianas\",\"South Carolina\",\"Amazonia\",\"Saint-Domingue\",\"St. Kitts\",\"North Carolina\",\"Other British Caribbean\",\"Jamaica\",\"Martinique\",\"Antigua\",\"Pernambuco\"],\"lat\":[0.0,13.201309,31.69,14.751846,15.3,13.1,18.347325,-12.983333,28.085368,16.0,12.05,18.0,16.7,6.675248,33.1,-0.93323,18.54,17.3,35.25,18.0,17.881263,14.6,17.067453,-8.05],\"legendgroup\":\"\",\"lon\":[0.0,-61.186603,-81.17,-65.781346,-61.4,-59.616667,-64.715064,-38.516667,-80.522396,-61.71667,-61.75,-64.9,-62.216667,-55.251124,-79.54,-43.235449,-72.34,-62.716667,-76.55,-76.8,-76.522778,-61.083333,-61.784741,-34.9],\"marker\":{\"color\":\"#636efa\",\"size\":[7.6577552711348655,7.0909098220799835,6.912742820493176,7.215239978730097,7.126890808898808,7.707512194600341,6.214608098422191,8.657650544111494,4.605170185988092,5.62040086571715,7.845024417241484,5.384495062789089,4.219507705176107,7.674617497364363,8.820108644508608,6.703188113240863,9.641733102094262,8.242229891372231,5.003946305945459,5.840641657373398,9.890199658209193,6.654152520183219,6.731018100482083,7.669028288589683],\"sizemode\":\"area\",\"sizeref\":0.02718353458394048,\"symbol\":\"circle\"},\"mode\":\"markers\",\"name\":\"\",\"showlegend\":false,\"type\":\"scattergeo\"}],\"name\":\"1773\"},{\"data\":[{\"customdata\":[[250.0],[19375.0],[6691.0],[1212.0],[20193.0],[352.0],[1261.0],[529.0],[2976.0],[174.0],[1123.0],[1296.0],[3249.0],[181.0],[7672.0],[2978.0],[906.0],[1340.0],[208.0],[803.0],[1969.0],[2395.0],[1741.0],[378.0],[410.0],[423.0],[948.0]],\"geo\":\"geo\",\"hovertemplate\":\"<b>%{hovertext}</b><br><br>Year voyage began=1774<br>normalized_sizes=%{marker.size}<br>Latitude=%{lat}<br>Longitude=%{lon}<br>Total slaves embarked imputed * (slaximp)=%{customdata[0]}<extra></extra>\",\"hovertext\":[\"Virginia\",\"Saint-Domingue\",\"Dominica\",\"South Carolina\",\"Jamaica\",\"Tobago\",\"Americas\",\"Amazonia\",\"Pernambuco\",\"Florida\",\"Other British Caribbean\",\"St. Vincent\",\"Grenada\",\"Other Caribbean\",\"Bahia\",\"St. Kitts\",\"Georgia\",\"Antigua\",\"Spanish Circum-Caribbean\",\"Danish West Indies\",\"Southeast Brazil\",\"Dutch Guianas\",\"Barbados\",\"Tortola\",\"British Guiana\",\"Montserrat\",\"Dutch Caribbean\"],\"lat\":[36.9,18.54,15.3,33.1,17.881263,11.231794,0.0,-0.93323,-8.05,28.085368,18.0,13.201309,12.05,0.0,-12.983333,17.3,31.69,17.067453,15.641117,18.0,-23.48894,6.675248,13.1,18.347325,7.615531,16.7,14.751846],\"legendgroup\":\"\",\"lon\":[-76.3,-72.34,-61.4,-79.54,-76.522778,-60.663937,0.0,-43.235449,-34.9,-80.522396,-76.8,-61.186603,-61.75,0.0,-38.516667,-62.716667,-81.17,-61.784741,-75.633932,-64.9,-42.256021,-55.251124,-59.616667,-64.715064,-57.958937,-62.216667,-65.781346],\"marker\":{\"color\":\"#636efa\",\"size\":[5.521460917862246,9.871738854221547,8.808518618782816,7.10002716662926,9.913091288678823,5.863631175598097,7.13966033596492,6.270988431858299,7.998335395952982,5.159055299214529,7.023758954738443,7.16703787691222,8.0861025356691,5.198497031265826,8.945332616563274,7.999007213243955,6.80903930604298,7.200424892944957,5.337538079701318,6.688354713946762,7.585281078639126,7.781138509845015,7.462214939768189,5.934894195619588,6.016157159698354,6.0473721790462776,6.854354502255021],\"sizemode\":\"area\",\"sizeref\":0.02718353458394048,\"symbol\":\"circle\"},\"mode\":\"markers\",\"name\":\"\",\"showlegend\":false,\"type\":\"scattergeo\"}],\"name\":\"1774\"},{\"data\":[{\"customdata\":[[735.0],[102.0],[2385.0],[676.0],[169.0],[3140.0],[253.0],[2497.0],[102.0],[310.0],[300.0],[1499.0],[2574.0],[758.0],[255.0],[103.0],[7544.0],[1501.0],[954.0],[794.0],[3866.0],[5623.0],[332.0],[230.0],[149.0],[17657.0],[783.0],[1142.0],[21429.0],[2182.0]],\"geo\":\"geo\",\"hovertemplate\":\"<b>%{hovertext}</b><br><br>Year voyage began=1775<br>normalized_sizes=%{marker.size}<br>Latitude=%{lat}<br>Longitude=%{lon}<br>Total slaves embarked imputed * (slaximp)=%{customdata[0]}<extra></extra>\",\"hovertext\":[\"Antigua\",\"Other Caribbean\",\"Amazonia\",\"St. Vincent\",\"Senegambia and offshore Atlantic\",\"Pernambuco\",\"British Guiana\",\"Grenada\",\"British Honduras\",\"Guadaloupe\",\"Spanish Circum-Caribbean\",\"Dutch Guianas\",\"Barbados\",\"Gulf coast\",\"Dutch Caribbean\",\"Nevis\",\"Bahia\",\"Other British Caribbean\",\"Americas\",\"Florida\",\"Dominica\",\"Southeast Brazil\",\"Danish West Indies\",\"Georgia\",\"New York\",\"Saint-Domingue\",\"Tobago\",\"Martinique\",\"Jamaica\",\"St. Kitts\"],\"lat\":[17.067453,0.0,-0.93323,13.201309,14.14,-8.05,7.615531,12.05,15.79,16.0,15.641117,6.675248,13.1,29.8,14.751846,17.151005,-12.983333,18.0,0.0,28.085368,15.3,-23.48894,18.0,31.69,40.703068,18.54,11.231794,14.6,17.881263,17.3],\"legendgroup\":\"\",\"lon\":[-61.784741,0.0,-43.235449,-61.186603,-17.93,-34.9,-57.958937,-61.75,-86.3,-61.71667,-75.633932,-55.251124,-59.616667,-89.56,-65.781346,-62.589223,-38.516667,-76.8,0.0,-80.522396,-61.4,-42.256021,-64.9,-81.17,-74.011117,-72.34,-60.663937,-61.083333,-76.522778,-62.716667],\"marker\":{\"color\":\"#636efa\",\"size\":[6.5998704992128365,4.624972813284271,7.776954403322442,6.516193076042964,5.1298987149230735,8.0519780789023,5.53338948872752,7.822845290279774,4.624972813284271,5.736572297479192,5.703782474656201,7.312553498102598,7.853216388156072,6.630683385642372,5.541263545158426,4.634728988229636,8.928507824313293,7.313886831633462,6.860663671448287,6.677083461247136,8.259975659768276,8.634620608292202,5.805134968916488,5.438079308923196,5.003946305945459,9.778887584302797,6.663132695990803,7.040536390215956,9.972500423823082,7.687997166393016],\"sizemode\":\"area\",\"sizeref\":0.02718353458394048,\"symbol\":\"circle\"},\"mode\":\"markers\",\"name\":\"\",\"showlegend\":false,\"type\":\"scattergeo\"}],\"name\":\"1775\"},{\"data\":[{\"customdata\":[[310.0],[19955.0],[1166.0],[8737.0],[4542.0],[547.0],[1480.0],[511.0],[2380.0],[783.0],[3905.0],[440.0],[141.0],[2352.0],[116.0],[169.0],[1429.0],[359.0],[7347.0],[1811.0],[644.0],[5.0],[1199.0],[440.0],[119.0],[640.0],[472.0],[359.0]],\"geo\":\"geo\",\"hovertemplate\":\"<b>%{hovertext}</b><br><br>Year voyage began=1776<br>normalized_sizes=%{marker.size}<br>Latitude=%{lat}<br>Longitude=%{lon}<br>Total slaves embarked imputed * (slaximp)=%{customdata[0]}<extra></extra>\",\"hovertext\":[\"Georgia\",\"Saint-Domingue\",\"Dutch Caribbean\",\"Jamaica\",\"Grenada\",\"Other Caribbean\",\"Amazonia\",\"Southeast Brazil\",\"Pernambuco\",\"St. Kitts\",\"Dominica\",\"Spanish Circum-Caribbean\",\"St. Vincent\",\"Dutch Guianas\",\"St. Lucia\",\"Gulf coast\",\"Barbados\",\"Americas\",\"Bahia\",\"Martinique\",\"Danish West Indies\",\"Nevis\",\"Other British Caribbean\",\"Guadaloupe\",\"Florida\",\"French Guiana\",\"Tobago\",\"Antigua\"],\"lat\":[31.69,18.54,14.751846,17.881263,12.05,0.0,-0.93323,-23.48894,-8.05,17.3,15.3,15.641117,13.201309,6.675248,14.0,29.8,13.1,0.0,-12.983333,14.6,18.0,17.151005,18.0,16.0,28.085368,5.861294,11.231794,17.067453],\"legendgroup\":\"\",\"lon\":[-81.17,-72.34,-65.781346,-76.522778,-61.75,0.0,-43.235449,-42.256021,-34.9,-62.716667,-61.4,-75.633932,-61.186603,-55.251124,-61.0,-89.56,-59.616667,0.0,-38.516667,-61.083333,-64.9,-62.589223,-76.8,-61.71667,-80.522396,-53.612239,-60.663937,-61.784741],\"marker\":{\"color\":\"#636efa\",\"size\":[5.736572297479192,9.901235017482835,7.061334366910438,9.075322160298095,8.421122722665503,6.304448802421981,7.299797366758161,6.236369590203704,7.77485576666552,6.663132695990803,8.270013062273787,6.0867747269123065,4.948759890378168,7.763021309018518,4.7535901911063645,5.1298987149230735,7.264730177929867,5.883322388488279,8.902047345620277,7.501634457883413,6.467698726104354,1.6094379124341003,7.089243155027514,6.0867747269123065,4.77912349311153,6.461468176353717,6.156978985585555,5.883322388488279],\"sizemode\":\"area\",\"sizeref\":0.02718353458394048,\"symbol\":\"circle\"},\"mode\":\"markers\",\"name\":\"\",\"showlegend\":false,\"type\":\"scattergeo\"}],\"name\":\"1776\"},{\"data\":[{\"customdata\":[[638.0],[2035.0],[384.0],[2229.0],[99.0],[1137.0],[6381.0],[2007.0],[214.0],[644.0],[1761.0],[1746.0],[1200.0],[5018.0],[22521.0],[956.0],[1304.0],[356.0],[1082.0],[119.0],[255.0]],\"geo\":\"geo\",\"hovertemplate\":\"<b>%{hovertext}</b><br><br>Year voyage began=1777<br>normalized_sizes=%{marker.size}<br>Latitude=%{lat}<br>Longitude=%{lon}<br>Total slaves embarked imputed * (slaximp)=%{customdata[0]}<extra></extra>\",\"hovertext\":[\"St. Kitts\",\"Pernambuco\",\"Trinidad\",\"Grenada\",\"Spanish Circum-Caribbean\",\"Martinique\",\"Jamaica\",\"Dutch Guianas\",\"Other Caribbean\",\"Dutch Caribbean\",\"Southeast Brazil\",\"Amazonia\",\"Tobago\",\"Bahia\",\"Saint-Domingue\",\"French Guiana\",\"Americas\",\"South Carolina\",\"Dominica\",\"Florida\",\"Antigua\"],\"lat\":[17.3,-8.05,10.65,12.05,15.641117,14.6,17.881263,6.675248,0.0,14.751846,-23.48894,-0.93323,11.231794,-12.983333,18.54,5.861294,0.0,33.1,15.3,28.085368,17.067453],\"legendgroup\":\"\",\"lon\":[-62.716667,-34.9,-61.516667,-61.75,-75.633932,-61.083333,-76.522778,-55.251124,0.0,-65.781346,-42.256021,-43.235449,-60.663937,-38.516667,-72.34,-53.612239,0.0,-79.54,-61.4,-80.522396,-61.784741],\"marker\":{\"color\":\"#636efa\",\"size\":[6.45833828334479,7.618251097876695,5.950642552587727,7.709308333385869,4.59511985013459,7.036148493750536,8.761080103868347,7.604396348796338,5.365976015021851,6.467698726104354,7.473637108496206,7.465082736399547,7.090076835776092,8.520786726926367,10.022203486241112,6.862757913051401,7.1731917424865985,5.87493073085203,6.9865664594064265,4.77912349311153,5.541263545158426],\"sizemode\":\"area\",\"sizeref\":0.02718353458394048,\"symbol\":\"circle\"},\"mode\":\"markers\",\"name\":\"\",\"showlegend\":false,\"type\":\"scattergeo\"}],\"name\":\"1777\"},{\"data\":[{\"customdata\":[[1421.0],[210.0],[68.0],[1224.0],[532.0],[653.0],[337.0],[247.0],[321.0],[776.0],[25.0],[2480.0],[1118.0],[2391.0],[184.0],[569.0],[4123.0],[9282.0],[347.0],[1338.0]],\"geo\":\"geo\",\"hovertemplate\":\"<b>%{hovertext}</b><br><br>Year voyage began=1778<br>normalized_sizes=%{marker.size}<br>Latitude=%{lat}<br>Longitude=%{lon}<br>Total slaves embarked imputed * (slaximp)=%{customdata[0]}<extra></extra>\",\"hovertext\":[\"Pernambuco\",\"St. Lucia\",\"Southeast Brazil\",\"Martinique\",\"French Guiana\",\"Americas\",\"Tobago\",\"Dominica\",\"Guadaloupe\",\"Danish West Indies\",\"Trinidad\",\"Amazonia\",\"Grenada\",\"Saint-Domingue\",\"St. Kitts\",\"Other French Caribbean\",\"Jamaica\",\"Bahia\",\"Dutch Caribbean\",\"Dutch Guianas\"],\"lat\":[-8.05,14.0,-23.48894,14.6,5.861294,0.0,11.231794,15.3,16.0,18.0,10.65,-0.93323,12.05,18.54,17.3,19.75778,17.881263,-12.983333,14.751846,6.675248],\"legendgroup\":\"\",\"lon\":[-34.9,-61.0,-42.256021,-61.083333,-53.612239,0.0,-60.663937,-61.4,-61.71667,-64.9,-61.516667,-43.235449,-61.75,-72.34,-62.716667,-72.20417,-76.522778,-38.516667,-65.781346,-55.251124],\"marker\":{\"color\":\"#636efa\",\"size\":[7.259116128097101,5.3471075307174685,4.219507705176107,7.1098794630722715,6.2766434893416445,6.481577129276431,5.820082930352362,5.5093883366279774,5.771441123130016,6.654152520183219,3.2188758248682006,7.8160138391590275,7.0192966537150445,7.779466967458324,5.214935757608986,6.343880434126331,8.3243363327069,9.135832319801121,5.849324779946859,7.198931240688173],\"sizemode\":\"area\",\"sizeref\":0.02718353458394048,\"symbol\":\"circle\"},\"mode\":\"markers\",\"name\":\"\",\"showlegend\":false,\"type\":\"scattergeo\"}],\"name\":\"1778\"},{\"data\":[{\"customdata\":[[365.0],[214.0],[849.0],[210.0],[9131.0],[359.0],[214.0],[1442.0],[210.0],[403.0],[36.0],[1577.0],[1221.0],[2415.0],[1930.0],[5300.0]],\"geo\":\"geo\",\"hovertemplate\":\"<b>%{hovertext}</b><br><br>Year voyage began=1779<br>normalized_sizes=%{marker.size}<br>Latitude=%{lat}<br>Longitude=%{lon}<br>Total slaves embarked imputed * (slaximp)=%{customdata[0]}<extra></extra>\",\"hovertext\":[\"British Guiana\",\"St. Lucia\",\"Americas\",\"St. Kitts\",\"Bahia\",\"Barbados\",\"Other British Caribbean\",\"Danish West Indies\",\"Antigua\",\"Southeast Brazil\",\"Rio de la Plata\",\"Amazonia\",\"Dutch Caribbean\",\"Dutch Guianas\",\"Pernambuco\",\"Jamaica\"],\"lat\":[7.615531,14.0,0.0,17.3,-12.983333,13.1,18.0,18.0,17.067453,-23.48894,-33.332605,-0.93323,14.751846,6.675248,-8.05,17.881263],\"legendgroup\":\"\",\"lon\":[-57.958937,-61.0,0.0,-62.716667,-38.516667,-59.616667,-76.8,-64.9,-61.784741,-42.256021,-58.498255,-43.235449,-65.781346,-55.251124,-34.9,-76.522778],\"marker\":{\"color\":\"#636efa\",\"size\":[5.8998973535824915,5.365976015021851,6.744059186311348,5.3471075307174685,9.11943049661634,5.883322388488279,5.365976015021851,7.273786317844895,5.3471075307174685,5.998936561946683,3.58351893845611,7.3632795869630385,7.107425474110705,7.789454566086673,7.5652752818989315,8.575462099540212],\"sizemode\":\"area\",\"sizeref\":0.02718353458394048,\"symbol\":\"circle\"},\"mode\":\"markers\",\"name\":\"\",\"showlegend\":false,\"type\":\"scattergeo\"}],\"name\":\"1779\"},{\"data\":[{\"customdata\":[[777.0],[1558.0],[210.0],[559.0],[424.0],[14106.0],[270.0],[469.0],[1306.0],[1104.0],[6634.0],[412.0],[310.0],[327.0],[702.0]],\"geo\":\"geo\",\"hovertemplate\":\"<b>%{hovertext}</b><br><br>Year voyage began=1780<br>normalized_sizes=%{marker.size}<br>Latitude=%{lat}<br>Longitude=%{lon}<br>Total slaves embarked imputed * (slaximp)=%{customdata[0]}<extra></extra>\",\"hovertext\":[\"Dutch Guianas\",\"St. Kitts\",\"Saint-Domingue\",\"Tortola\",\"Antigua\",\"Bahia\",\"Barbados\",\"Dutch Caribbean\",\"Pernambuco\",\"Danish West Indies\",\"Jamaica\",\"St. Lucia\",\"Other British Caribbean\",\"Americas\",\"Amazonia\"],\"lat\":[6.675248,17.3,18.54,18.347325,17.067453,-12.983333,13.1,14.751846,-8.05,18.0,17.881263,14.0,18.0,0.0,-0.93323],\"legendgroup\":\"\",\"lon\":[-55.251124,-62.716667,-72.34,-64.715064,-61.784741,-38.516667,-59.616667,-65.781346,-34.9,-64.9,-76.522778,-61.0,-76.8,0.0,-43.235449],\"marker\":{\"color\":\"#636efa\",\"size\":[6.655440350367647,7.351158226430694,5.3471075307174685,6.326149473155099,6.049733455231958,9.554355517768125,5.598421958998375,6.150602768446279,7.174724309836376,7.00669522683704,8.799963219506997,6.021023349349527,5.736572297479192,5.7899601708972535,6.553933404025811],\"sizemode\":\"area\",\"sizeref\":0.02718353458394048,\"symbol\":\"circle\"},\"mode\":\"markers\",\"name\":\"\",\"showlegend\":false,\"type\":\"scattergeo\"}],\"name\":\"1780\"},{\"data\":[{\"customdata\":[[1690.0],[2640.0],[210.0],[323.0],[1851.0],[3084.0],[9611.0],[13861.0],[386.0],[303.0],[3531.0],[540.0],[766.0],[1311.0]],\"geo\":\"geo\",\"hovertemplate\":\"<b>%{hovertext}</b><br><br>Year voyage began=1781<br>normalized_sizes=%{marker.size}<br>Latitude=%{lat}<br>Longitude=%{lon}<br>Total slaves embarked imputed * (slaximp)=%{customdata[0]}<extra></extra>\",\"hovertext\":[\"Saint-Domingue\",\"St. Lucia\",\"Dominica\",\"St. Kitts\",\"Amazonia\",\"Pernambuco\",\"Jamaica\",\"Bahia\",\"Martinique\",\"British Guiana\",\"Southeast Brazil\",\"Danish West Indies\",\"Antigua\",\"Tortola\"],\"lat\":[18.54,14.0,15.3,17.3,-0.93323,-8.05,17.881263,-12.983333,14.6,7.615531,-23.48894,18.0,17.067453,18.347325],\"legendgroup\":\"\",\"lon\":[-72.34,-61.0,-61.4,-62.716667,-43.235449,-34.9,-76.522778,-38.516667,-61.083333,-57.958937,-42.256021,-64.9,-61.784741,-64.715064],\"marker\":{\"color\":\"#636efa\",\"size\":[7.432483807917119,7.878534196140362,5.3471075307174685,5.777652323222656,7.523481312573497,8.03398273468322,9.170663554823284,9.536834420213353,5.955837369464831,5.713732805509369,8.169336395928386,6.29156913955832,6.641182169740591,7.1785454837637],\"sizemode\":\"area\",\"sizeref\":0.02718353458394048,\"symbol\":\"circle\"},\"mode\":\"markers\",\"name\":\"\",\"showlegend\":false,\"type\":\"scattergeo\"}],\"name\":\"1781\"},{\"data\":[{\"customdata\":[[359.0],[1628.0],[1204.0],[1006.0],[349.0],[592.0],[170.0],[359.0],[1692.0],[11070.0],[4426.0],[1870.0],[4031.0],[6580.0],[485.0],[3398.0],[4052.0],[590.0],[323.0]],\"geo\":\"geo\",\"hovertemplate\":\"<b>%{hovertext}</b><br><br>Year voyage began=1782<br>normalized_sizes=%{marker.size}<br>Latitude=%{lat}<br>Longitude=%{lon}<br>Total slaves embarked imputed * (slaximp)=%{customdata[0]}<extra></extra>\",\"hovertext\":[\"Guadaloupe\",\"St. Lucia\",\"Amazonia\",\"Americas\",\"Barbados\",\"Rio de la Plata\",\"Dutch Guianas\",\"Grenada\",\"Antigua\",\"Bahia\",\"Jamaica\",\"Danish West Indies\",\"Pernambuco\",\"Saint-Domingue\",\"Martinique\",\"Tortola\",\"Southeast Brazil\",\"Dominica\",\"Dutch Caribbean\"],\"lat\":[16.0,14.0,-0.93323,0.0,13.1,-33.332605,6.675248,12.05,17.067453,-12.983333,17.881263,18.0,-8.05,18.54,14.6,18.347325,-23.48894,15.3,14.751846],\"legendgroup\":\"\",\"lon\":[-61.71667,-61.0,-43.235449,0.0,-59.616667,-58.498255,-55.251124,-61.75,-61.784741,-38.516667,-76.522778,-64.9,-34.9,-72.34,-61.083333,-64.715064,-42.256021,-61.4,-65.781346],\"marker\":{\"color\":\"#636efa\",\"size\":[5.883322388488279,7.395107546562485,7.093404625868766,6.913737350659685,5.855071922202427,6.3835066348840055,5.135798437050262,5.883322388488279,7.433666540166168,9.311994025702683,8.395251520610994,7.533693709848633,8.301769763117166,8.791790024319363,6.184148890937483,8.130942302231878,8.306965865368573,6.380122536899765,5.777652323222656],\"sizemode\":\"area\",\"sizeref\":0.02718353458394048,\"symbol\":\"circle\"},\"mode\":\"markers\",\"name\":\"\",\"showlegend\":false,\"type\":\"scattergeo\"}],\"name\":\"1782\"},{\"data\":[{\"customdata\":[[843.0],[359.0],[1409.0],[1304.0],[2541.0],[1260.0],[1742.0],[3092.0],[1404.0],[2414.0],[203.0],[1054.0],[4555.0],[2231.0],[359.0],[458.0],[3843.0],[659.0],[376.0],[35042.0],[2333.0],[10405.0],[2074.0],[20659.0]],\"geo\":\"geo\",\"hovertemplate\":\"<b>%{hovertext}</b><br><br>Year voyage began=1783<br>normalized_sizes=%{marker.size}<br>Latitude=%{lat}<br>Longitude=%{lon}<br>Total slaves embarked imputed * (slaximp)=%{customdata[0]}<extra></extra>\",\"hovertext\":[\"Guadaloupe\",\"Hispaniola\",\"St. Kitts\",\"Cuba\",\"St. Vincent\",\"Dutch Guianas\",\"Tortola\",\"Southeast Brazil\",\"Grenada\",\"Amazonia\",\"Gulf coast\",\"St. Lucia\",\"Dominica\",\"Antigua\",\"Tobago\",\"Georgia\",\"South Carolina\",\"British Guiana\",\"Martinique\",\"Saint-Domingue\",\"Danish West Indies\",\"Bahia\",\"Pernambuco\",\"Jamaica\"],\"lat\":[16.0,18.35,17.3,23.115613,13.201309,6.675248,18.347325,-23.48894,12.05,-0.93323,29.8,14.0,15.3,17.067453,11.231794,31.69,33.1,7.615531,14.6,18.54,18.0,-12.983333,-8.05,17.881263],\"legendgroup\":\"\",\"lon\":[-61.71667,-69.35,-62.716667,-79.127686,-61.186603,-55.251124,-64.715064,-42.256021,-61.75,-43.235449,-89.56,-61.0,-61.4,-61.784741,-60.663937,-81.17,-79.54,-57.958937,-61.083333,-72.34,-64.9,-38.516667,-34.9,-76.522778],\"marker\":{\"color\":\"#636efa\",\"size\":[6.736966958001855,5.883322388488279,7.25063551189868,7.1731917424865985,7.840312983320164,7.138866999945524,7.462789157412448,8.036573409707312,7.247080584585756,7.789040401657477,5.313205979041787,6.960347729101308,8.423980809694058,7.7102051944325325,5.883322388488279,6.126869184114185,8.254008590564844,6.490723534502507,5.929589143389895,10.464302621047032,7.75491027202143,9.250041738827735,7.637234388789473,9.935906338791629],\"sizemode\":\"area\",\"sizeref\":0.02718353458394048,\"symbol\":\"circle\"},\"mode\":\"markers\",\"name\":\"\",\"showlegend\":false,\"type\":\"scattergeo\"}],\"name\":\"1783\"},{\"data\":[{\"customdata\":[[276.0],[985.0],[13530.0],[3702.0],[1192.0],[169.0],[543.0],[313.0],[4073.0],[3644.0],[384.0],[22914.0],[2712.0],[1963.0],[258.0],[18.0],[9029.0],[599.0],[1346.0],[1433.0],[1474.0],[437.0],[179.0],[569.0],[130.0],[6204.0]],\"geo\":\"geo\",\"hovertemplate\":\"<b>%{hovertext}</b><br><br>Year voyage began=1784<br>normalized_sizes=%{marker.size}<br>Latitude=%{lat}<br>Longitude=%{lon}<br>Total slaves embarked imputed * (slaximp)=%{customdata[0]}<extra></extra>\",\"hovertext\":[\"Americas\",\"Trinidad\",\"Jamaica\",\"Grenada\",\"Antigua\",\"French Guiana\",\"British Guiana\",\"Other Caribbean\",\"Southeast Brazil\",\"South Carolina\",\"St. Lucia\",\"Saint-Domingue\",\"Danish West Indies\",\"Pernambuco\",\"Spanish Circum-Caribbean\",\"England\",\"Bahia\",\"Martinique\",\"St. Vincent\",\"Dutch Guianas\",\"Amazonia\",\"Other Spanish Caribbean\",\"Georgia\",\"Cuba\",\"Dutch Caribbean\",\"Dominica\"],\"lat\":[0.0,10.65,17.881263,12.05,17.067453,5.861294,7.615531,0.0,-23.48894,33.1,14.0,18.54,18.0,-8.05,15.641117,0.0,-12.983333,14.6,13.201309,6.675248,-0.93323,23.13194,31.69,23.115613,14.751846,15.3],\"legendgroup\":\"\",\"lon\":[0.0,-61.516667,-76.522778,-61.75,-61.784741,-53.612239,-57.958937,0.0,-42.256021,-79.54,-61.0,-72.34,-64.9,-34.9,-75.633932,0.0,-38.516667,-61.083333,-61.186603,-55.251124,-43.235449,-82.36417,-81.17,-79.127686,-65.781346,-61.4],\"marker\":{\"color\":\"#636efa\",\"size\":[5.62040086571715,6.892641641172089,9.512664721164834,8.216628493133443,7.083387847625295,5.1298987149230735,6.297109319933935,5.746203190540153,8.312135107648412,8.200837258379849,5.950642552587727,10.03950335645357,7.905441649060286,7.5822291942764615,5.552959584921617,2.8903717578961645,9.10819689830748,6.395261598115449,7.204892510204673,7.267525427828172,7.295735072749282,6.07993319509559,5.187385805840755,6.343880434126331,4.867534450455582,8.73294952429643],\"sizemode\":\"area\",\"sizeref\":0.02718353458394048,\"symbol\":\"circle\"},\"mode\":\"markers\",\"name\":\"\",\"showlegend\":false,\"type\":\"scattergeo\"}],\"name\":\"1784\"},{\"data\":[{\"customdata\":[[130.0],[1554.0],[1133.0],[11213.0],[7391.0],[660.0],[1846.0],[314.0],[1014.0],[2453.0],[34230.0],[8302.0],[210.0],[733.0],[130.0],[275.0],[3177.0],[2882.0],[2643.0],[488.0],[310.0],[811.0],[359.0],[346.0],[113.0],[778.0],[509.0]],\"geo\":\"geo\",\"hovertemplate\":\"<b>%{hovertext}</b><br><br>Year voyage began=1785<br>normalized_sizes=%{marker.size}<br>Latitude=%{lat}<br>Longitude=%{lon}<br>Total slaves embarked imputed * (slaximp)=%{customdata[0]}<extra></extra>\",\"hovertext\":[\"Dutch Caribbean\",\"South Carolina\",\"Danish West Indies\",\"Dominica\",\"Bahia\",\"British Guiana\",\"Grenada\",\"Other Caribbean\",\"St. Kitts\",\"St. Vincent\",\"Saint-Domingue\",\"Jamaica\",\"Tobago\",\"Barbados\",\"Martinique\",\"Americas\",\"Southeast Brazil\",\"Cuba\",\"Trinidad\",\"Dutch Guianas\",\"Georgia\",\"Amazonia\",\"Hispaniola\",\"Antigua\",\"Guadaloupe\",\"Pernambuco\",\"Spanish Circum-Caribbean\"],\"lat\":[14.751846,33.1,18.0,15.3,-12.983333,7.615531,12.05,0.0,17.3,13.201309,18.54,17.881263,11.231794,13.1,14.6,0.0,-23.48894,23.115613,10.65,6.675248,31.69,-0.93323,18.35,17.067453,16.0,-8.05,15.641117],\"legendgroup\":\"\",\"lon\":[-65.781346,-79.54,-64.9,-61.4,-38.516667,-57.958937,-61.75,0.0,-62.716667,-61.186603,-72.34,-76.522778,-60.663937,-59.616667,-61.083333,0.0,-42.256021,-79.127686,-61.516667,-55.251124,-81.17,-43.235449,-69.35,-61.784741,-61.71667,-34.9,-75.633932],\"marker\":{\"color\":\"#636efa\",\"size\":[4.867534450455582,7.348587530927593,7.0326242610280065,9.324829098460881,8.908018322784887,6.492239835020471,7.520776415062797,5.749392985908253,6.921658184151129,7.8050670442584895,10.44085773152423,9.024251728612985,5.3471075307174685,6.597145701886651,4.867534450455582,5.616771097666572,8.063692634269517,7.966239776559467,7.879669914604289,6.1903154058531475,5.736572297479192,6.698268054115413,5.883322388488279,5.846438775057725,4.727387818712341,6.656726524178391,6.2324480165505225],\"sizemode\":\"area\",\"sizeref\":0.02718353458394048,\"symbol\":\"circle\"},\"mode\":\"markers\",\"name\":\"\",\"showlegend\":false,\"type\":\"scattergeo\"}],\"name\":\"1785\"},{\"data\":[{\"customdata\":[[1244.0],[8989.0],[2043.0],[350.0],[4342.0],[38490.0],[7799.0],[310.0],[2922.0],[1206.0],[178.0],[136.0],[88.0],[6866.0],[156.0],[1070.0],[1357.0],[744.0],[2471.0],[414.0],[883.0],[1133.0],[72.0],[138.0],[465.0],[998.0],[699.0],[359.0]],\"geo\":\"geo\",\"hovertemplate\":\"<b>%{hovertext}</b><br><br>Year voyage began=1786<br>normalized_sizes=%{marker.size}<br>Latitude=%{lat}<br>Longitude=%{lon}<br>Total slaves embarked imputed * (slaximp)=%{customdata[0]}<extra></extra>\",\"hovertext\":[\"Tobago\",\"Dominica\",\"Cuba\",\"Pernambuco\",\"Grenada\",\"Saint-Domingue\",\"Jamaica\",\"Other French Caribbean\",\"St. Vincent\",\"St. Kitts\",\"French Guiana\",\"Martinique\",\"Hispaniola\",\"Bahia\",\"Tortola\",\"Americas\",\"Amazonia\",\"Spanish Circum-Caribbean\",\"Southeast Brazil\",\"Other British Caribbean\",\"Barbados\",\"Antigua\",\"North Carolina\",\"South Carolina\",\"British Guiana\",\"Danish West Indies\",\"Dutch Guianas\",\"Guadaloupe\"],\"lat\":[11.231794,15.3,23.115613,-8.05,12.05,18.54,17.881263,19.75778,13.201309,17.3,5.861294,14.6,18.35,-12.983333,18.347325,0.0,-0.93323,15.641117,-23.48894,18.0,13.1,17.067453,35.25,33.1,7.615531,18.0,6.675248,16.0],\"legendgroup\":\"\",\"lon\":[-60.663937,-61.4,-79.127686,-34.9,-61.75,-72.34,-76.522778,-72.20417,-61.186603,-62.716667,-53.612239,-61.083333,-69.35,-38.516667,-64.715064,0.0,-43.235449,-75.633932,-42.256021,-76.8,-59.616667,-61.784741,-76.55,-79.54,-57.958937,-64.9,-55.251124,-61.71667],\"marker\":{\"color\":\"#636efa\",\"size\":[7.126087273299125,9.103756886573398,7.622174594817622,5.857933154483459,8.376090350438238,10.558153746277792,8.961750799330497,5.736572297479192,7.980023592310645,7.095064377287131,5.181783550292085,4.912654885736052,4.477336814478207,8.834336974017637,5.049856007249537,6.975413927455952,7.213031659834869,6.612041034833092,7.81237820598861,6.025865973825314,6.78332520060396,7.0326242610280065,4.276666119016055,4.927253685157205,6.142037405587356,6.905753276311464,6.54965074223381,5.883322388488279],\"sizemode\":\"area\",\"sizeref\":0.02718353458394048,\"symbol\":\"circle\"},\"mode\":\"markers\",\"name\":\"\",\"showlegend\":false,\"type\":\"scattergeo\"}],\"name\":\"1786\"},{\"data\":[{\"customdata\":[[4724.0],[1031.0],[4060.0],[1332.0],[294.0],[2411.0],[215.0],[489.0],[1303.0],[359.0],[242.0],[768.0],[230.0],[109.0],[888.0],[30.0],[2149.0],[6461.0],[872.0],[216.0],[4412.0],[195.0],[3117.0],[848.0],[618.0],[80.0],[3869.0],[30105.0],[8707.0],[121.0]],\"geo\":\"geo\",\"hovertemplate\":\"<b>%{hovertext}</b><br><br>Year voyage began=1787<br>normalized_sizes=%{marker.size}<br>Latitude=%{lat}<br>Longitude=%{lon}<br>Total slaves embarked imputed * (slaximp)=%{customdata[0]}<extra></extra>\",\"hovertext\":[\"Bahia\",\"British Guiana\",\"Amazonia\",\"Barbados\",\"Tortola\",\"Pernambuco\",\"South Carolina\",\"Other Caribbean\",\"Spanish Circum-Caribbean\",\"Hispaniola\",\"Martinique\",\"Other British Caribbean\",\"Bahamas\",\"Trinidad\",\"Dutch Guianas\",\"British Honduras\",\"Cuba\",\"Jamaica\",\"Danish West Indies\",\"Gulf coast\",\"Southeast Brazil\",\"French Guiana\",\"St. Vincent\",\"Rio de la Plata\",\"Antigua\",\"Dutch Caribbean\",\"Dominica\",\"Saint-Domingue\",\"Grenada\",\"Americas\"],\"lat\":[-12.983333,7.615531,-0.93323,13.1,18.347325,-8.05,33.1,0.0,15.641117,18.35,14.6,18.0,22.783937,10.65,6.675248,15.79,23.115613,17.881263,18.0,29.8,-23.48894,5.861294,13.201309,-33.332605,17.067453,14.751846,15.3,18.54,12.05,0.0],\"legendgroup\":\"\",\"lon\":[-38.516667,-57.958937,-43.235449,-59.616667,-64.715064,-34.9,-79.54,0.0,-75.633932,-69.35,-61.083333,-76.8,-74.303605,-61.516667,-55.251124,-86.3,-79.127686,-76.522778,-64.9,-89.56,-42.256021,-53.612239,-61.186603,-58.498255,-61.784741,-65.781346,-61.4,-72.34,-61.75,0.0],\"marker\":{\"color\":\"#636efa\",\"size\":[8.460411177317253,6.93828448401696,8.308938252595778,7.194436851100335,5.683579767338681,7.787796878181171,5.3706380281276624,6.192362489474872,7.172424577124845,5.883322388488279,5.488937726156687,6.643789733147672,5.438079308923196,4.6913478822291435,6.78897174299217,3.4011973816621555,7.67275789664251,8.773539383558166,6.77078942390898,5.375278407684165,8.392083380373393,5.272999558563747,8.044626279767337,6.742880635791903,6.42648845745769,4.382026634673881,8.260751354700513,10.312446549898548,9.071882578828616,4.795790545596741],\"sizemode\":\"area\",\"sizeref\":0.02718353458394048,\"symbol\":\"circle\"},\"mode\":\"markers\",\"name\":\"\",\"showlegend\":false,\"type\":\"scattergeo\"}],\"name\":\"1787\"},{\"data\":[{\"customdata\":[[274.0],[1155.0],[5771.0],[561.0],[7143.0],[34772.0],[250.0],[330.0],[359.0],[584.0],[216.0],[6854.0],[142.0],[2268.0],[403.0],[934.0],[2381.0],[2043.0],[2084.0],[6349.0],[150.0],[833.0],[982.0],[694.0],[130.0],[1222.0],[310.0],[157.0],[1765.0]],\"geo\":\"geo\",\"hovertemplate\":\"<b>%{hovertext}</b><br><br>Year voyage began=1788<br>normalized_sizes=%{marker.size}<br>Latitude=%{lat}<br>Longitude=%{lon}<br>Total slaves embarked imputed * (slaximp)=%{customdata[0]}<extra></extra>\",\"hovertext\":[\"Gulf coast\",\"Spanish Circum-Caribbean\",\"Dominica\",\"Martinique\",\"Jamaica\",\"Saint-Domingue\",\"Trinidad\",\"Antigua\",\"Other Spanish Caribbean\",\"Americas\",\"French Guiana\",\"Grenada\",\"Bahamas\",\"Cuba\",\"British Guiana\",\"Danish West Indies\",\"Amazonia\",\"St. Vincent\",\"Rio de la Plata\",\"Bahia\",\"St. Kitts\",\"Barbados\",\"Tobago\",\"Dutch Guianas\",\"Other Caribbean\",\"Pernambuco\",\"Guadaloupe\",\"Dutch Caribbean\",\"Southeast Brazil\"],\"lat\":[29.8,15.641117,15.3,14.6,17.881263,18.54,10.65,17.067453,23.13194,0.0,5.861294,12.05,22.783937,23.115613,7.615531,18.0,-0.93323,13.201309,-33.332605,-12.983333,17.3,13.1,11.231794,6.675248,0.0,-8.05,16.0,14.751846,-23.48894],\"legendgroup\":\"\",\"lon\":[-89.56,-75.633932,-61.4,-61.083333,-76.522778,-72.34,-61.516667,-61.784741,-82.36417,0.0,-53.612239,-61.75,-74.303605,-79.127686,-57.958937,-64.9,-43.235449,-61.186603,-58.498255,-38.516667,-62.716667,-59.616667,-60.663937,-55.251124,0.0,-34.9,-61.71667,-65.781346,-42.256021],\"marker\":{\"color\":\"#636efa\",\"size\":[5.6131281063880705,7.051855622955894,8.660600654710967,6.329720905522696,8.873888135154973,10.456567744198955,5.521460917862246,5.799092654460526,5.883322388488279,6.369900982828227,5.375278407684165,8.832587702434553,4.955827057601261,7.7266536648476425,5.998936561946683,6.839476438228843,7.7752758464868625,7.622174594817622,7.642044402873258,8.75605259917045,5.0106352940962555,6.725033642166843,6.889591308354466,6.542471960506805,4.867534450455582,7.108244139731541,5.736572297479192,5.056245805348308,7.475905969367397],\"sizemode\":\"area\",\"sizeref\":0.02718353458394048,\"symbol\":\"circle\"},\"mode\":\"markers\",\"name\":\"\",\"showlegend\":false,\"type\":\"scattergeo\"}],\"name\":\"1788\"},{\"data\":[{\"customdata\":[[360.0],[1108.0],[300.0],[39199.0],[1157.0],[4236.0],[731.0],[6643.0],[360.0],[476.0],[723.0],[2063.0],[516.0],[1869.0],[147.0],[1051.0],[1779.0],[130.0],[232.0],[47.0],[300.0],[14098.0],[4656.0],[419.0]],\"geo\":\"geo\",\"hovertemplate\":\"<b>%{hovertext}</b><br><br>Year voyage began=1789<br>normalized_sizes=%{marker.size}<br>Latitude=%{lat}<br>Longitude=%{lon}<br>Total slaves embarked imputed * (slaximp)=%{customdata[0]}<extra></extra>\",\"hovertext\":[\"Other Caribbean\",\"St. Kitts\",\"Antigua\",\"Saint-Domingue\",\"Amazonia\",\"Southeast Brazil\",\"Pernambuco\",\"Bahia\",\"Trinidad\",\"Americas\",\"Danish West Indies\",\"St. Vincent\",\"Guadaloupe\",\"Cuba\",\"Barbados\",\"Dutch Guianas\",\"Dominica\",\"South Carolina\",\"Georgia\",\"Spanish Circum-Caribbean\",\"Tobago\",\"Jamaica\",\"Grenada\",\"Dutch Caribbean\"],\"lat\":[0.0,17.3,17.067453,18.54,-0.93323,-23.48894,-8.05,-12.983333,10.65,0.0,18.0,13.201309,16.0,23.115613,13.1,6.675248,15.3,33.1,31.69,15.641117,11.231794,17.881263,12.05,14.751846],\"legendgroup\":\"\",\"lon\":[0.0,-62.716667,-61.784741,-72.34,-43.235449,-42.256021,-34.9,-38.516667,-61.516667,0.0,-64.9,-61.186603,-61.71667,-79.127686,-59.616667,-55.251124,-61.4,-79.54,-81.17,-75.633932,-60.663937,-76.522778,-61.75,-65.781346],\"marker\":{\"color\":\"#636efa\",\"size\":[5.886104031450156,7.010311867307229,5.703782474656201,10.576406515249081,7.053585727193677,8.351374706721296,6.594413459749778,8.80131894766524,5.886104031450156,6.16541785423142,6.583409222158765,7.631916513071252,6.246106765481563,7.533158807455563,4.990432586778736,6.957497370876951,7.483806687665835,4.867534450455582,5.44673737166631,3.8501476017100584,5.703782474656201,9.553788222333822,8.445911989411274,6.037870919922137],\"sizemode\":\"area\",\"sizeref\":0.02718353458394048,\"symbol\":\"circle\"},\"mode\":\"markers\",\"name\":\"\",\"showlegend\":false,\"type\":\"scattergeo\"}],\"name\":\"1789\"},{\"data\":[{\"customdata\":[[5984.0],[900.0],[7035.0],[471.0],[70.0],[236.0],[67.0],[69.0],[2339.0],[19608.0],[1608.0],[1828.0],[184.0],[4101.0],[1412.0],[481.0],[41.0],[386.0],[1095.0],[58.0],[31050.0],[8838.0],[70.0]],\"geo\":\"geo\",\"hovertemplate\":\"<b>%{hovertext}</b><br><br>Year voyage began=1790<br>normalized_sizes=%{marker.size}<br>Latitude=%{lat}<br>Longitude=%{lon}<br>Total slaves embarked imputed * (slaximp)=%{customdata[0]}<extra></extra>\",\"hovertext\":[\"Cuba\",\"Barbados\",\"Bahia\",\"Americas\",\"Tobago\",\"Gulf coast\",\"St. Kitts\",\"Bahamas\",\"St. Vincent\",\"Jamaica\",\"Amazonia\",\"Southeast Brazil\",\"Guadaloupe\",\"Dominica\",\"Pernambuco\",\"British Guiana\",\"French Guiana\",\"Southeast Africa and Indian Ocean islands\",\"Dutch Guianas\",\"Other Caribbean\",\"Saint-Domingue\",\"Grenada\",\"Georgia\"],\"lat\":[23.115613,13.1,-12.983333,0.0,11.231794,29.8,17.3,22.783937,13.201309,17.881263,-0.93323,-23.48894,16.0,15.3,-8.05,7.615531,5.861294,-17.14,6.675248,0.0,18.54,12.05,31.69],\"legendgroup\":\"\",\"lon\":[-79.127686,-59.616667,-38.516667,0.0,-60.663937,-89.56,-62.716667,-74.303605,-61.186603,-76.522778,-43.235449,-42.256021,-61.71667,-61.4,-34.9,-57.958937,-53.612239,39.51,-55.251124,0.0,-72.34,-61.75,-81.17],\"marker\":{\"color\":\"#636efa\",\"size\":[8.696844519654313,6.802394763324311,8.858652969548489,6.154858094016418,4.248495242049359,5.4638318050256105,4.204692619390966,4.23410650459726,7.757478766584179,9.88369292520795,7.382746449738912,7.510977752014095,5.214935757608986,8.31898612539206,7.252762418053187,6.175867270105761,3.713572066704308,5.955837369464831,6.9985096422506015,4.060443010546419,10.343354087361625,9.086815885690685,4.248495242049359],\"sizemode\":\"area\",\"sizeref\":0.02718353458394048,\"symbol\":\"circle\"},\"mode\":\"markers\",\"name\":\"\",\"showlegend\":false,\"type\":\"scattergeo\"}],\"name\":\"1790\"},{\"data\":[{\"customdata\":[[2553.0],[300.0],[11640.0],[895.0],[5990.0],[1275.0],[3481.0],[253.0],[164.0],[570.0],[16632.0],[2060.0],[9591.0],[261.0],[417.0],[2123.0],[5290.0],[3864.0],[396.0],[81.0],[224.0],[359.0],[7766.0],[638.0],[337.0],[1765.0],[113.0]],\"geo\":\"geo\",\"hovertemplate\":\"<b>%{hovertext}</b><br><br>Year voyage began=1791<br>normalized_sizes=%{marker.size}<br>Latitude=%{lat}<br>Longitude=%{lon}<br>Total slaves embarked imputed * (slaximp)=%{customdata[0]}<extra></extra>\",\"hovertext\":[\"Southeast Brazil\",\"Senegambia and offshore Atlantic\",\"Saint-Domingue\",\"Amazonia\",\"St. Vincent\",\"Barbados\",\"Dominica\",\"Trinidad\",\"Spanish Circum-Caribbean\",\"Tobago\",\"Jamaica\",\"Martinique\",\"Grenada\",\"French Guiana\",\"Georgia\",\"Dutch Guianas\",\"Cuba\",\"Guadaloupe\",\"British Guiana\",\"Other British Caribbean\",\"Bahamas\",\"Tortola\",\"Bahia\",\"Americas\",\"Gulf coast\",\"Pernambuco\",\"St. Kitts\"],\"lat\":[-23.48894,14.14,18.54,-0.93323,13.201309,13.1,15.3,10.65,15.641117,11.231794,17.881263,14.6,12.05,5.861294,31.69,6.675248,23.115613,16.0,7.615531,18.0,22.783937,18.347325,-12.983333,0.0,29.8,-8.05,17.3],\"legendgroup\":\"\",\"lon\":[-42.256021,-17.93,-72.34,-43.235449,-61.186603,-59.616667,-61.4,-61.516667,-75.633932,-60.663937,-76.522778,-61.083333,-61.75,-53.612239,-81.17,-55.251124,-79.127686,-61.71667,-57.958937,-76.8,-74.303605,-64.715064,-38.516667,0.0,-89.56,-34.9,-62.716667],\"marker\":{\"color\":\"#636efa\",\"size\":[7.845024417241484,5.703782474656201,9.36220272128543,6.796823718274855,8.697846691109495,7.150701457592526,8.15507488781144,5.53338948872752,5.099866427824199,6.345636360828596,9.71908382953785,7.630461261783627,9.16858043772795,5.564520407322694,6.0330862217988015,7.660585461703256,8.573573524852344,8.259458195332408,5.981414211254481,4.394449154672439,5.4116460518550396,5.883322388488279,8.957510510291613,6.45833828334479,5.820082930352362,7.475905969367397,4.727387818712341],\"sizemode\":\"area\",\"sizeref\":0.02718353458394048,\"symbol\":\"circle\"},\"mode\":\"markers\",\"name\":\"\",\"showlegend\":false,\"type\":\"scattergeo\"}],\"name\":\"1791\"},{\"data\":[{\"customdata\":[[1598.0],[991.0],[4063.0],[2365.0],[8425.0],[303.0],[2428.0],[445.0],[2471.0],[514.0],[405.0],[297.0],[824.0],[109.0],[2310.0],[1702.0],[8854.0],[513.0],[6347.0],[633.0],[1952.0],[34943.0],[2603.0],[788.0],[2191.0],[836.0],[600.0]],\"geo\":\"geo\",\"hovertemplate\":\"<b>%{hovertext}</b><br><br>Year voyage began=1792<br>normalized_sizes=%{marker.size}<br>Latitude=%{lat}<br>Longitude=%{lon}<br>Total slaves embarked imputed * (slaximp)=%{customdata[0]}<extra></extra>\",\"hovertext\":[\"Pernambuco\",\"Georgia\",\"St. Vincent\",\"Martinique\",\"Bahia\",\"Puerto Rico\",\"Barbados\",\"French Guiana\",\"Guadaloupe\",\"British Guiana\",\"Other Caribbean\",\"Other British Caribbean\",\"St. Kitts\",\"Gold Coast\",\"Cuba\",\"Dutch Guianas\",\"Grenada\",\"Americas\",\"Southeast Brazil\",\"Danish West Indies\",\"Dominica\",\"Jamaica\",\"Saint-Domingue\",\"Dutch Caribbean\",\"Amazonia\",\"Spanish Circum-Caribbean\",\"Rio de la Plata\"],\"lat\":[-8.05,31.69,13.201309,14.6,-12.983333,18.420959,13.1,5.861294,16.0,7.615531,0.0,18.0,17.3,3.86,23.115613,6.675248,12.05,0.0,-23.48894,18.0,15.3,17.881263,18.54,14.751846,-0.93323,15.641117,-33.332605],\"legendgroup\":\"\",\"lon\":[-34.9,-81.17,-61.186603,-61.083333,-38.516667,-66.070508,-59.616667,-53.612239,-61.71667,-57.958937,0.0,-76.8,-62.716667,-1.93,-79.127686,-55.251124,-61.75,0.0,-42.256021,-64.9,-61.4,-76.522778,-72.34,-65.781346,-43.235449,-75.633932,-58.498255],\"marker\":{\"color\":\"#636efa\",\"size\":[7.37650812632622,6.898714534329988,8.309676895987726,7.768533300926033,9.038958755220563,5.713732805509369,7.794823152179389,6.09807428216624,7.81237820598861,6.2422232654551655,6.003887067106539,5.6937321388027,6.714170529909472,4.6913478822291435,7.745002803515839,7.43955930913332,9.088624613292087,6.240275845170769,8.75573753930647,6.450470422144176,7.5766097669730375,10.46147344147898,7.864419904994565,6.669498089857879,7.692113339595466,6.728628613084702,6.396929655216146],\"sizemode\":\"area\",\"sizeref\":0.02718353458394048,\"symbol\":\"circle\"},\"mode\":\"markers\",\"name\":\"\",\"showlegend\":false,\"type\":\"scattergeo\"}],\"name\":\"1792\"},{\"data\":[{\"customdata\":[[13076.0],[130.0],[1384.0],[58.0],[128.0],[501.0],[446.0],[2579.0],[884.0],[319.0],[119.0],[237.0],[309.0],[363.0],[271.0],[216.0],[1293.0],[1046.0],[1775.0],[2671.0],[149.0],[109.0],[362.0],[12230.0],[830.0],[327.0],[7965.0],[122.0]],\"geo\":\"geo\",\"hovertemplate\":\"<b>%{hovertext}</b><br><br>Year voyage began=1793<br>normalized_sizes=%{marker.size}<br>Latitude=%{lat}<br>Longitude=%{lon}<br>Total slaves embarked imputed * (slaximp)=%{customdata[0]}<extra></extra>\",\"hovertext\":[\"Jamaica\",\"South Carolina\",\"Dutch Guianas\",\"St. Kitts\",\"Tortola\",\"Americas\",\"Danish West Indies\",\"Cuba\",\"Georgia\",\"Other British Caribbean\",\"Antigua\",\"Guadaloupe\",\"Saint-Domingue\",\"Southeast Africa and Indian Ocean islands\",\"Rio de la Plata\",\"Bahamas\",\"Pernambuco\",\"St. Vincent\",\"Amazonia\",\"Grenada\",\"Florida\",\"Dominica\",\"Tobago\",\"Bahia\",\"Barbados\",\"Spanish Circum-Caribbean\",\"Southeast Brazil\",\"St. Lucia\"],\"lat\":[17.881263,33.1,6.675248,17.3,18.347325,0.0,18.0,23.115613,31.69,18.0,17.067453,16.0,18.54,-17.14,-33.332605,22.783937,-8.05,13.201309,-0.93323,12.05,28.085368,15.3,11.231794,-12.983333,13.1,15.641117,-23.48894,14.0],\"legendgroup\":\"\",\"lon\":[-76.522778,-79.54,-55.251124,-62.716667,-64.715064,0.0,-64.9,-79.127686,-81.17,-76.8,-61.784741,-61.71667,-72.34,39.51,-58.498255,-74.303605,-34.9,-61.186603,-43.235449,-61.75,-80.522396,-61.4,-60.663937,-38.516667,-59.616667,-75.633932,-42.256021,-61.0],\"marker\":{\"color\":\"#636efa\",\"size\":[9.478533767844102,4.867534450455582,7.232733136177615,4.060443010546419,4.852030263919617,6.2166061010848646,6.100318952020064,7.8551570058813445,6.784457062637643,5.765191102784844,4.77912349311153,5.4680601411351315,5.733341276897746,5.8944028342648505,5.602118820879701,5.375278407684165,7.164720378771857,6.952728644624869,7.4815557019095165,7.890208213109961,5.003946305945459,4.6913478822291435,5.8916442118257715,9.411647228681218,6.721425700790643,5.7899601708972535,8.98281222234415,4.804021044733257],\"sizemode\":\"area\",\"sizeref\":0.02718353458394048,\"symbol\":\"circle\"},\"mode\":\"markers\",\"name\":\"\",\"showlegend\":false,\"type\":\"scattergeo\"}],\"name\":\"1793\"},{\"data\":[{\"customdata\":[[120.0],[278.0],[2563.0],[64.0],[586.0],[353.0],[300.0],[13674.0],[497.0],[244.0],[1453.0],[18052.0],[435.0],[1008.0],[1238.0],[2152.0],[113.0],[2908.0],[1380.0],[15779.0],[1089.0],[177.0]],\"geo\":\"geo\",\"hovertemplate\":\"<b>%{hovertext}</b><br><br>Year voyage began=1794<br>normalized_sizes=%{marker.size}<br>Latitude=%{lat}<br>Longitude=%{lon}<br>Total slaves embarked imputed * (slaximp)=%{customdata[0]}<extra></extra>\",\"hovertext\":[\"Montserrat\",\"Tobago\",\"Cuba\",\"Dutch Caribbean\",\"St. Vincent\",\"Pernambuco\",\"West Central Africa and St. Helena\",\"Bahia\",\"Rio de la Plata\",\"Other Caribbean\",\"Grenada\",\"Jamaica\",\"Georgia\",\"Saint-Domingue\",\"Dutch Guianas\",\"Barbados\",\"St. Lucia\",\"Amazonia\",\"Danish West Indies\",\"Southeast Brazil\",\"Americas\",\"Spanish Circum-Caribbean\"],\"lat\":[16.7,11.231794,23.115613,14.751846,13.201309,-8.05,-7.71,-12.983333,-33.332605,0.0,12.05,17.881263,31.69,18.54,6.675248,13.1,14.0,-0.93323,18.0,-23.48894,0.0,15.641117],\"legendgroup\":\"\",\"lon\":[-62.216667,-60.663937,-79.127686,-65.781346,-61.186603,-34.9,11.19,-38.516667,-58.498255,0.0,-61.75,-76.522778,-81.17,-72.34,-55.251124,-59.616667,-61.0,-43.235449,-64.9,-42.256021,0.0,-75.633932],\"marker\":{\"color\":\"#636efa\",\"size\":[4.787491742782046,5.627621113690637,7.848933726364071,4.1588830833596715,6.373319789577012,5.8664680569332965,5.703782474656201,9.523251498473739,6.208590026096629,5.497168225293202,7.2813856635702825,9.801011760946892,6.075346031088684,6.915723448631314,7.121252453244542,7.674152921281675,4.727387818712341,7.97522083865341,7.22983877815125,9.66643522103567,6.9930151229329605,5.176149732573829],\"sizemode\":\"area\",\"sizeref\":0.02718353458394048,\"symbol\":\"circle\"},\"mode\":\"markers\",\"name\":\"\",\"showlegend\":false,\"type\":\"scattergeo\"}],\"name\":\"1794\"},{\"data\":[{\"customdata\":[[3515.0],[5143.0],[1600.0],[962.0],[115.0],[1012.0],[263.0],[7185.0],[465.0],[1775.0],[323.0],[83.0],[1631.0],[251.0],[130.0],[1028.0],[532.0],[553.0],[478.0],[15781.0],[814.0],[528.0],[2130.0],[557.0],[2235.0],[11000.0]],\"geo\":\"geo\",\"hovertemplate\":\"<b>%{hovertext}</b><br><br>Year voyage began=1795<br>normalized_sizes=%{marker.size}<br>Latitude=%{lat}<br>Longitude=%{lon}<br>Total slaves embarked imputed * (slaximp)=%{customdata[0]}<extra></extra>\",\"hovertext\":[\"Barbados\",\"Cuba\",\"Georgia\",\"Other French Caribbean\",\"Senegambia and offshore Atlantic\",\"Tobago\",\"Americas\",\"Jamaica\",\"Dutch Guianas\",\"Pernambuco\",\"Dominica\",\"South Carolina\",\"Danish West Indies\",\"Bahamas\",\"Other British Caribbean\",\"Guadaloupe\",\"Rio de la Plata\",\"Spanish Circum-Caribbean\",\"Antigua\",\"Southeast Brazil\",\"Martinique\",\"Other Caribbean\",\"Amazonia\",\"Tortola\",\"British Guiana\",\"Bahia\"],\"lat\":[13.1,23.115613,31.69,19.75778,14.14,11.231794,0.0,17.881263,6.675248,-8.05,15.3,33.1,18.0,22.783937,18.0,16.0,-33.332605,15.641117,17.067453,-23.48894,14.6,0.0,-0.93323,18.347325,7.615531,-12.983333],\"legendgroup\":\"\",\"lon\":[-59.616667,-79.127686,-81.17,-72.20417,-17.93,-60.663937,0.0,-76.522778,-55.251124,-34.9,-61.4,-79.54,-64.9,-74.303605,-76.8,-61.71667,-58.498255,-75.633932,-61.784741,-42.256021,-61.083333,0.0,-43.235449,-64.715064,-57.958937,-38.516667],\"marker\":{\"color\":\"#636efa\",\"size\":[8.164794804244766,8.545391845774915,7.3777589082278725,6.8690144506657065,4.74493212836325,6.919683849847411,5.572154032177765,8.879750798513125,6.142037405587356,7.4815557019095165,5.777652323222656,4.418840607796598,7.396948602621014,5.5254529391317835,4.867534450455582,6.93537044601511,6.2766434893416445,6.315358001522335,6.169610732491456,9.666561963748133,6.70196036600254,6.269096283706261,7.6638772587034705,6.322565239927284,7.711996507047669,9.305650551780507],\"sizemode\":\"area\",\"sizeref\":0.02718353458394048,\"symbol\":\"circle\"},\"mode\":\"markers\",\"name\":\"\",\"showlegend\":false,\"type\":\"scattergeo\"}],\"name\":\"1795\"},{\"data\":[{\"customdata\":[[191.0],[569.0],[4218.0],[521.0],[258.0],[3200.0],[359.0],[353.0],[540.0],[238.0],[9757.0],[413.0],[1269.0],[310.0],[13122.0],[2126.0],[94.0],[656.0],[3717.0],[45.0],[815.0],[1841.0],[2190.0],[1614.0],[1361.0],[9035.0],[317.0],[343.0]],\"geo\":\"geo\",\"hovertemplate\":\"<b>%{hovertext}</b><br><br>Year voyage began=1796<br>normalized_sizes=%{marker.size}<br>Latitude=%{lat}<br>Longitude=%{lon}<br>Total slaves embarked imputed * (slaximp)=%{customdata[0]}<extra></extra>\",\"hovertext\":[\"Dutch Guianas\",\"French Guiana\",\"British Guiana\",\"Other British Caribbean\",\"Tobago\",\"Barbados\",\"Guadaloupe\",\"Southeast Africa and Indian Ocean islands\",\"Saint-Domingue\",\"Tortola\",\"Jamaica\",\"Antigua\",\"Rio de la Plata\",\"Other Caribbean\",\"Southeast Brazil\",\"Georgia\",\"Grenada\",\"Pernambuco\",\"Danish West Indies\",\"Spanish Circum-Caribbean\",\"St. Kitts\",\"Cuba\",\"Martinique\",\"St. Vincent\",\"Amazonia\",\"Bahia\",\"Dominica\",\"South Carolina\"],\"lat\":[6.675248,5.861294,7.615531,18.0,11.231794,13.1,16.0,-17.14,18.54,18.347325,17.881263,17.067453,-33.332605,0.0,-23.48894,31.69,12.05,-8.05,18.0,15.641117,17.3,23.115613,14.6,13.201309,-0.93323,-12.983333,15.3,33.1],\"legendgroup\":\"\",\"lon\":[-55.251124,-53.612239,-57.958937,-76.8,-60.663937,-59.616667,-61.71667,39.51,-72.34,-64.715064,-76.522778,-61.784741,-58.498255,0.0,-42.256021,-81.17,-61.75,-34.9,-64.9,-75.633932,-62.716667,-79.127686,-61.083333,-61.186603,-43.235449,-38.516667,-61.4,-79.54],\"marker\":{\"color\":\"#636efa\",\"size\":[5.25227342804663,6.343880434126331,8.34711636103872,6.255750041753367,5.552959584921617,8.070906088787819,5.883322388488279,5.8664680569332965,6.29156913955832,5.472270673671475,9.18574025510795,6.023447592961033,7.1459844677143876,5.736572297479192,9.482045489904824,7.661997558901893,4.543294782270004,6.486160788944089,8.220672170297252,3.8066624897703196,6.703188113240863,7.518064181233078,7.691656822810547,7.3864708488298945,7.215975002651466,9.10886120302633,5.75890177387728,5.8377304471659395],\"sizemode\":\"area\",\"sizeref\":0.02718353458394048,\"symbol\":\"circle\"},\"mode\":\"markers\",\"name\":\"\",\"showlegend\":false,\"type\":\"scattergeo\"}],\"name\":\"1796\"},{\"data\":[{\"customdata\":[[718.0],[2001.0],[3535.0],[399.0],[9182.0],[149.0],[310.0],[682.0],[655.0],[71.0],[1859.0],[388.0],[2607.0],[1754.0],[295.0],[13816.0],[3864.0],[156.0],[120.0],[210.0],[278.0],[583.0],[10823.0],[6725.0],[929.0],[330.0],[1653.0],[2646.0]],\"geo\":\"geo\",\"hovertemplate\":\"<b>%{hovertext}</b><br><br>Year voyage began=1797<br>normalized_sizes=%{marker.size}<br>Latitude=%{lat}<br>Longitude=%{lon}<br>Total slaves embarked imputed * (slaximp)=%{customdata[0]}<extra></extra>\",\"hovertext\":[\"French Guiana\",\"Danish West Indies\",\"Martinique\",\"Americas\",\"Bahia\",\"Other North America\",\"Dutch Guianas\",\"Rio de la Plata\",\"Dominica\",\"Spanish Circum-Caribbean\",\"Cuba\",\"Guadaloupe\",\"Barbados\",\"Amazonia\",\"St. Kitts\",\"Southeast Brazil\",\"Pernambuco\",\"Bahamas\",\"Antigua\",\"Puerto Rico\",\"West Central Africa and St. Helena\",\"Tobago\",\"Jamaica\",\"British Guiana\",\"Grenada\",\"Trinidad\",\"Georgia\",\"St. Vincent\"],\"lat\":[5.861294,18.0,14.6,0.0,-12.983333,33.875649,6.675248,-33.332605,15.3,15.641117,23.115613,16.0,13.1,-0.93323,17.3,-23.48894,-8.05,22.783937,17.067453,18.420959,-7.71,11.231794,17.881263,7.615531,12.05,10.65,31.69,13.201309],\"legendgroup\":\"\",\"lon\":[-53.612239,-64.9,-61.083333,0.0,-38.516667,-78.444029,-55.251124,-58.498255,-61.4,-75.633932,-79.127686,-61.71667,-59.616667,-43.235449,-62.716667,-42.256021,-34.9,-74.303605,-61.784741,-66.070508,11.19,-60.663937,-76.522778,-57.958937,-61.75,-61.516667,-81.17,-61.186603],\"marker\":{\"color\":\"#636efa\",\"size\":[6.576469569048224,7.601402334583733,8.170468578330674,5.988961416889864,9.125000324809168,5.003946305945459,5.736572297479192,6.525029657843462,6.484635235635252,4.2626798770413155,7.527793987721444,5.961005339623274,7.865955413933502,7.469654172932128,5.68697535633982,9.533582619826515,8.259458195332408,5.049856007249537,4.787491742782046,5.3471075307174685,5.627621113690637,6.368187186350492,9.289428778295147,8.81358720447004,6.834108738813838,5.799092654460526,7.410347097821024,7.880804344674901],\"sizemode\":\"area\",\"sizeref\":0.02718353458394048,\"symbol\":\"circle\"},\"mode\":\"markers\",\"name\":\"\",\"showlegend\":false,\"type\":\"scattergeo\"}],\"name\":\"1797\"},{\"data\":[{\"customdata\":[[8057.0],[1689.0],[849.0],[8872.0],[4318.0],[1480.0],[928.0],[1727.0],[658.0],[2665.0],[673.0],[7193.0],[368.0],[159.0],[359.0],[493.0],[359.0],[17810.0],[1922.0],[503.0],[1319.0],[3140.0],[8443.0],[446.0],[130.0],[1027.0],[103.0]],\"geo\":\"geo\",\"hovertemplate\":\"<b>%{hovertext}</b><br><br>Year voyage began=1798<br>normalized_sizes=%{marker.size}<br>Latitude=%{lat}<br>Longitude=%{lon}<br>Total slaves embarked imputed * (slaximp)=%{customdata[0]}<extra></extra>\",\"hovertext\":[\"Bahia\",\"Tobago\",\"St. Kitts\",\"British Guiana\",\"Danish West Indies\",\"Cuba\",\"Trinidad\",\"Amazonia\",\"Dominica\",\"St. Vincent\",\"Pernambuco\",\"Martinique\",\"Antigua\",\"Americas\",\"French Guiana\",\"Bahamas\",\"Guadaloupe\",\"Jamaica\",\"Grenada\",\"Other Caribbean\",\"Rio de la Plata\",\"Barbados\",\"Southeast Brazil\",\"Tortola\",\"St. Barth\\u00e9lemy (Sweden)\",\"Dutch Guianas\",\"Georgia\"],\"lat\":[-12.983333,11.231794,17.3,7.615531,18.0,23.115613,10.65,-0.93323,15.3,13.201309,-8.05,14.6,17.067453,0.0,5.861294,22.783937,16.0,17.881263,12.05,0.0,-33.332605,13.1,-23.48894,18.347325,17.9,6.675248,31.69],\"legendgroup\":\"\",\"lon\":[-38.516667,-60.663937,-62.716667,-57.958937,-64.9,-79.127686,-61.516667,-43.235449,-61.4,-61.186603,-34.9,-61.083333,-61.784741,0.0,-53.612239,-74.303605,-61.71667,-76.522778,-61.75,0.0,-58.498255,-59.616667,-42.256021,-64.715064,-62.85,-55.251124,-81.17],\"marker\":{\"color\":\"#636efa\",\"size\":[8.994296557777195,7.4318919168078,6.744059186311348,9.090655529030203,8.370547611074752,7.299797366758161,6.833031732786201,7.454141078146678,6.489204931325317,7.887959336599945,6.511745329644728,8.880863609867356,5.908082938168931,5.0689042022202315,5.883322388488279,6.20050917404269,5.883322388488279,9.787515376283707,7.561121589530238,6.220590170099739,7.1846291527173145,8.0519780789023,9.0410929746695,6.100318952020064,4.867534450455582,6.934397209928558,4.634728988229636],\"sizemode\":\"area\",\"sizeref\":0.02718353458394048,\"symbol\":\"circle\"},\"mode\":\"markers\",\"name\":\"\",\"showlegend\":false,\"type\":\"scattergeo\"}],\"name\":\"1798\"},{\"data\":[{\"customdata\":[[210.0],[39.0],[139.0],[65.0],[818.0],[305.0],[5042.0],[255.0],[4212.0],[114.0],[967.0],[11207.0],[8253.0],[2913.0],[1932.0],[1016.0],[359.0],[351.0],[24912.0],[278.0],[1528.0],[2898.0],[594.0],[1522.0],[9164.0]],\"geo\":\"geo\",\"hovertemplate\":\"<b>%{hovertext}</b><br><br>Year voyage began=1799<br>normalized_sizes=%{marker.size}<br>Latitude=%{lat}<br>Longitude=%{lon}<br>Total slaves embarked imputed * (slaximp)=%{customdata[0]}<extra></extra>\",\"hovertext\":[\"Guadaloupe\",\"Pennsylvania\",\"South Carolina\",\"Rio de la Plata\",\"St. Vincent\",\"Antigua\",\"Martinique\",\"St. Barth\\u00e9lemy (Sweden)\",\"Cuba\",\"Americas\",\"Dominica\",\"Southeast Brazil\",\"Bahia\",\"Amazonia\",\"Trinidad\",\"Pernambuco\",\"Other Caribbean\",\"Grenada\",\"Jamaica\",\"Tobago\",\"Danish West Indies\",\"Dutch Guianas\",\"Bahamas\",\"Barbados\",\"British Guiana\"],\"lat\":[16.0,39.71,33.1,-33.332605,13.201309,17.067453,14.6,17.9,23.115613,0.0,15.3,-23.48894,-12.983333,-0.93323,10.65,-8.05,0.0,12.05,17.881263,11.231794,18.0,6.675248,22.783937,13.1,7.615531],\"legendgroup\":\"\",\"lon\":[-61.71667,-74.8,-79.54,-58.498255,-61.186603,-61.784741,-61.083333,-62.85,-79.127686,0.0,-61.4,-42.256021,-38.516667,-43.235449,-61.516667,-34.9,0.0,-61.75,-76.522778,-60.663937,-64.9,-55.251124,-74.303605,-59.616667,-57.958937],\"marker\":{\"color\":\"#636efa\",\"size\":[5.3471075307174685,3.6635616461296463,4.9344739331306915,4.174387269895637,6.706862336602747,5.720311776607412,8.525558107747866,5.541263545158426,8.345692873253865,4.736198448394496,6.874198495453294,9.324293862052029,9.018332049592685,7.976938756959434,7.566311014772463,6.923628628138427,5.883322388488279,5.860786223465865,10.12310489407378,5.627621113690637,7.331714969726466,7.971776122880628,6.386879319362645,7.3277805384216315,9.123038043573386],\"sizemode\":\"area\",\"sizeref\":0.02718353458394048,\"symbol\":\"circle\"},\"mode\":\"markers\",\"name\":\"\",\"showlegend\":false,\"type\":\"scattergeo\"}],\"name\":\"1799\"},{\"data\":[{\"customdata\":[[162.0],[9806.0],[317.0],[12432.0],[960.0],[359.0],[718.0],[1378.0],[716.0],[461.0],[1227.0],[2891.0],[1097.0],[295.0],[1550.0],[14618.0],[1061.0],[143.0],[5467.0],[182.0],[22.0],[718.0],[1672.0],[11995.0],[310.0],[1157.0]],\"geo\":\"geo\",\"hovertemplate\":\"<b>%{hovertext}</b><br><br>Year voyage began=1800<br>normalized_sizes=%{marker.size}<br>Latitude=%{lat}<br>Longitude=%{lon}<br>Total slaves embarked imputed * (slaximp)=%{customdata[0]}<extra></extra>\",\"hovertext\":[\"Florida\",\"Bahia\",\"Tobago\",\"Southeast Brazil\",\"Rio de la Plata\",\"Other Caribbean\",\"French Guiana\",\"Martinique\",\"Dominica\",\"Americas\",\"Grenada\",\"Cuba\",\"Danish West Indies\",\"Bahamas\",\"Trinidad\",\"Jamaica\",\"Pernambuco\",\"Pennsylvania\",\"Dutch Guianas\",\"Georgia\",\"Spanish Circum-Caribbean\",\"Other British Caribbean\",\"Amazonia\",\"British Guiana\",\"St. Kitts\",\"St. Vincent\"],\"lat\":[28.085368,-12.983333,11.231794,-23.48894,-33.332605,0.0,5.861294,14.6,15.3,0.0,12.05,23.115613,18.0,22.783937,10.65,17.881263,-8.05,39.71,6.675248,31.69,15.641117,18.0,-0.93323,7.615531,17.3,13.201309],\"legendgroup\":\"\",\"lon\":[-80.522396,-38.516667,-60.663937,-42.256021,-58.498255,0.0,-53.612239,-61.083333,-61.4,0.0,-61.75,-79.127686,-64.9,-74.303605,-61.516667,-76.522778,-34.9,-74.8,-55.251124,-81.17,-75.633932,-76.8,-43.235449,-57.958937,-62.716667,-61.186603],\"marker\":{\"color\":\"#636efa\",\"size\":[5.087596335232384,9.190749722211178,5.75890177387728,9.428029072607428,6.866933284461882,5.883322388488279,6.576469569048224,7.228388451573604,6.573680166960646,6.133398042996649,7.112327444710911,7.969357742016346,7.00033446027523,5.68697535633982,7.346010209913293,9.590008925040337,6.966967138613983,4.962844630259907,8.606485298894999,5.204006687076795,3.091042453358316,6.576469569048224,7.421775793644647,9.392245175273795,5.736572297479192,7.053585727193677],\"sizemode\":\"area\",\"sizeref\":0.02718353458394048,\"symbol\":\"circle\"},\"mode\":\"markers\",\"name\":\"\",\"showlegend\":false,\"type\":\"scattergeo\"}],\"name\":\"1800\"},{\"data\":[{\"customdata\":[[2352.0],[620.0],[189.0],[95.0],[2601.0],[240.0],[6716.0],[103.0],[17687.0],[7329.0],[114.0],[2398.0],[325.0],[35.0],[1693.0],[5806.0],[253.0],[2313.0],[816.0],[308.0],[1041.0],[310.0],[75.0],[10566.0],[9413.0],[7427.0],[1209.0]],\"geo\":\"geo\",\"hovertemplate\":\"<b>%{hovertext}</b><br><br>Year voyage began=1801<br>normalized_sizes=%{marker.size}<br>Latitude=%{lat}<br>Longitude=%{lon}<br>Total slaves embarked imputed * (slaximp)=%{customdata[0]}<extra></extra>\",\"hovertext\":[\"Danish West Indies\",\"Martinique\",\"Barbados\",\"Rhode Island\",\"St. Vincent\",\"Dominica\",\"Cuba\",\"Puerto Rico\",\"Southeast Brazil\",\"British Guiana\",\"Spanish Americas\",\"Dutch Guianas\",\"South Carolina\",\"Virginia\",\"Bahamas\",\"Trinidad\",\"Antigua\",\"Amazonia\",\"St. Kitts\",\"Codes without labels\",\"Rio de la Plata\",\"Spanish Circum-Caribbean\",\"Americas\",\"Bahia\",\"Jamaica\",\"Pernambuco\",\"Grenada\"],\"lat\":[18.0,14.6,13.1,41.384793,13.201309,15.3,23.115613,18.420959,-23.48894,7.615531,7.470701,6.675248,33.1,36.9,22.783937,10.65,17.067453,-0.93323,17.3,0.0,-33.332605,15.641117,0.0,-12.983333,17.881263,-8.05,12.05],\"legendgroup\":\"\",\"lon\":[-64.9,-61.083333,-59.616667,-71.466516,-61.186603,-61.4,-79.127686,-66.070508,-42.256021,-57.958937,-75.611261,-55.251124,-79.54,-76.3,-74.303605,-61.516667,-61.784741,-43.235449,-62.716667,0.0,-58.498255,-75.633932,0.0,-38.516667,-76.522778,-34.9,-61.75],\"marker\":{\"color\":\"#636efa\",\"size\":[7.763021309018518,6.429719478039138,5.241747015059643,4.553876891600541,7.8636512654486515,5.480638923341991,8.812248018197431,4.634728988229636,9.780585185434793,8.89959435992585,4.736198448394496,7.7823903355874595,5.783825182329737,3.5553480614894135,7.4342573821331355,8.666647144584575,5.53338948872752,7.746300662231439,6.704414354964107,5.730099782973574,6.947937068614969,5.736572297479192,4.31748811353631,9.26539657772426,9.14984699154722,8.912877287669296,7.097548850614793],\"sizemode\":\"area\",\"sizeref\":0.02718353458394048,\"symbol\":\"circle\"},\"mode\":\"markers\",\"name\":\"\",\"showlegend\":false,\"type\":\"scattergeo\"}],\"name\":\"1801\"},{\"data\":[{\"customdata\":[[3800.0],[3272.0],[16534.0],[379.0],[497.0],[12173.0],[6652.0],[1181.0],[7121.0],[545.0],[95.0],[822.0],[1341.0],[2940.0],[298.0],[3017.0],[41.0],[273.0],[445.0],[10561.0],[548.0],[3012.0],[1057.0],[4757.0],[4204.0],[965.0],[762.0],[1310.0],[223.0],[139.0],[5746.0],[1484.0]],\"geo\":\"geo\",\"hovertemplate\":\"<b>%{hovertext}</b><br><br>Year voyage began=1802<br>normalized_sizes=%{marker.size}<br>Latitude=%{lat}<br>Longitude=%{lon}<br>Total slaves embarked imputed * (slaximp)=%{customdata[0]}<extra></extra>\",\"hovertext\":[\"Trinidad\",\"Dutch Guianas\",\"Southeast Brazil\",\"South Carolina\",\"Tobago\",\"Cuba\",\"British Guiana\",\"Tortola\",\"Jamaica\",\"Florida\",\"Rhode Island\",\"Martinique\",\"St. Kitts\",\"Amazonia\",\"Other Caribbean\",\"St. Vincent\",\"Puerto Rico\",\"Antigua\",\"Georgia\",\"Bahia\",\"Gulf coast\",\"Bahamas\",\"Grenada\",\"Danish West Indies\",\"Pernambuco\",\"Other British Caribbean\",\"Guadaloupe\",\"Dominica\",\"Americas\",\"St. Barth\\u00e9lemy (Sweden)\",\"Rio de la Plata\",\"Barbados\"],\"lat\":[10.65,6.675248,-23.48894,33.1,11.231794,23.115613,7.615531,18.347325,17.881263,28.085368,41.384793,14.6,17.3,-0.93323,0.0,13.201309,18.420959,17.067453,31.69,-12.983333,29.8,22.783937,12.05,18.0,-8.05,18.0,16.0,15.3,0.0,17.9,-33.332605,13.1],\"legendgroup\":\"\",\"lon\":[-61.516667,-55.251124,-42.256021,-79.54,-60.663937,-79.127686,-57.958937,-64.715064,-76.522778,-80.522396,-71.466516,-61.083333,-62.716667,-43.235449,0.0,-61.186603,-66.070508,-61.784741,-81.17,-38.516667,-89.56,-74.303605,-61.75,-64.9,-34.9,-76.8,-61.71667,-61.4,0.0,-62.85,-58.498255,-59.616667],\"marker\":{\"color\":\"#636efa\",\"size\":[8.242756345714477,8.093156697722637,9.713174145812621,5.937536205082426,6.208590026096629,9.406975663409597,8.802672840312818,7.074116816197362,8.870803443982124,6.300785794663244,4.553876891600541,6.71174039505618,7.201170883281678,7.986164860332727,5.697093486505405,8.012018239159062,3.713572066704308,5.60947179518496,6.09807428216624,9.264923249746474,6.306275286948016,8.010359588919783,6.963189985870238,8.467372496432281,8.343791731996841,6.872128101338986,6.635946555686647,7.177782416195197,5.407171771460119,4.9344739331306915,8.656259239539235,7.302496423727326],\"sizemode\":\"area\",\"sizeref\":0.02718353458394048,\"symbol\":\"circle\"},\"mode\":\"markers\",\"name\":\"\",\"showlegend\":false,\"type\":\"scattergeo\"}],\"name\":\"1802\"},{\"data\":[{\"customdata\":[[415.0],[343.0],[1070.0],[6814.0],[4440.0],[522.0],[138.0],[3933.0],[492.0],[307.0],[199.0],[310.0],[7080.0],[234.0],[1297.0],[6743.0],[5705.0],[273.0],[571.0],[1728.0],[1786.0],[310.0],[2286.0],[340.0],[11591.0],[1908.0],[265.0],[679.0],[359.0],[3611.0],[1395.0]],\"geo\":\"geo\",\"hovertemplate\":\"<b>%{hovertext}</b><br><br>Year voyage began=1803<br>normalized_sizes=%{marker.size}<br>Latitude=%{lat}<br>Longitude=%{lon}<br>Total slaves embarked imputed * (slaximp)=%{customdata[0]}<extra></extra>\",\"hovertext\":[\"Puerto Rico\",\"Americas\",\"Dominica\",\"Cuba\",\"Amazonia\",\"Spanish Circum-Caribbean\",\"French Guiana\",\"Pernambuco\",\"Other Spanish Caribbean\",\"Other Caribbean\",\"St. Vincent\",\"Martinique\",\"Bahia\",\"Florida\",\"Georgia\",\"Jamaica\",\"Rio de la Plata\",\"Dutch Caribbean\",\"Barbados\",\"Dutch Guianas\",\"Guadaloupe\",\"Other British Caribbean\",\"South Carolina\",\"Antigua\",\"Southeast Brazil\",\"Danish West Indies\",\"Nevis\",\"Gulf coast\",\"Grenada\",\"British Guiana\",\"Trinidad\"],\"lat\":[18.420959,0.0,15.3,23.115613,-0.93323,15.641117,5.861294,-8.05,23.13194,0.0,13.201309,14.6,-12.983333,28.085368,31.69,17.881263,-33.332605,14.751846,13.1,6.675248,16.0,18.0,33.1,17.067453,-23.48894,18.0,17.151005,29.8,12.05,7.615531,10.65],\"legendgroup\":\"\",\"lon\":[-66.070508,0.0,-61.4,-79.127686,-43.235449,-75.633932,-53.612239,-34.9,-82.36417,0.0,-61.186603,-61.083333,-38.516667,-80.522396,-81.17,-76.522778,-58.498255,-65.781346,-59.616667,-55.251124,-61.71667,-76.8,-79.54,-61.784741,-42.256021,-64.9,-62.589223,-89.56,-61.75,-57.958937,-61.516667],\"marker\":{\"color\":\"#636efa\",\"size\":[6.028278520230698,5.8377304471659395,6.975413927455952,8.826734598220911,8.39840965542627,6.257667587882639,4.927253685157205,8.27715777243181,6.198478716492308,5.726847747587197,5.293304824724492,5.736572297479192,8.865029186687766,5.455321115357702,7.167809184316444,8.816260208734581,8.649098262296176,5.60947179518496,6.3473892096560105,7.454719949364001,7.487733761436444,5.736572297479192,7.734558844354756,5.8289456176102075,9.357984213888745,7.553810852008231,5.579729825986222,6.520621127558696,5.883322388488279,8.191740021277457,7.240649694255466],\"sizemode\":\"area\",\"sizeref\":0.02718353458394048,\"symbol\":\"circle\"},\"mode\":\"markers\",\"name\":\"\",\"showlegend\":false,\"type\":\"scattergeo\"}],\"name\":\"1803\"},{\"data\":[{\"customdata\":[[14635.0],[764.0],[149.0],[5633.0],[287.0],[72.0],[7068.0],[11008.0],[88.0],[591.0],[5590.0],[463.0],[1504.0],[1042.0],[6085.0],[432.0],[70.0],[622.0],[9768.0],[754.0],[110.0],[149.0],[7372.0],[399.0],[1203.0],[140.0],[2170.0],[3551.0],[5736.0]],\"geo\":\"geo\",\"hovertemplate\":\"<b>%{hovertext}</b><br><br>Year voyage began=1804<br>normalized_sizes=%{marker.size}<br>Latitude=%{lat}<br>Longitude=%{lon}<br>Total slaves embarked imputed * (slaximp)=%{customdata[0]}<extra></extra>\",\"hovertext\":[\"Southeast Brazil\",\"Puerto Rico\",\"Florida\",\"Cuba\",\"Barbados\",\"Chile\",\"Jamaica\",\"Bahia\",\"St. Vincent\",\"Southeast Africa and Indian Ocean islands\",\"Amazonia\",\"Martinique\",\"Dominica\",\"Danish West Indies\",\"British Guiana\",\"Americas\",\"Senegambia and offshore Atlantic\",\"St. Barth\\u00e9lemy (Sweden)\",\"South Carolina\",\"St. Lucia\",\"Antigua\",\"French Guiana\",\"Dutch Guianas\",\"Trinidad\",\"Tortola\",\"Tobago\",\"Guadaloupe\",\"Rio de la Plata\",\"Pernambuco\"],\"lat\":[-23.48894,18.420959,28.085368,23.115613,13.1,-33.0472,17.881263,-12.983333,13.201309,-17.14,-0.93323,14.6,15.3,18.0,7.615531,0.0,14.14,17.9,33.1,14.0,17.067453,5.861294,6.675248,10.65,18.347325,11.231794,16.0,-33.332605,-8.05],\"legendgroup\":\"\",\"lon\":[-42.256021,-66.070508,-80.522396,-79.127686,-59.616667,-71.6127,-76.522778,-38.516667,-61.186603,39.51,-43.235449,-61.083333,-61.4,-64.9,-57.958937,0.0,-17.93,-62.85,-79.54,-61.0,-61.784741,-53.612239,-55.251124,-61.516667,-64.715064,-60.663937,-61.71667,-58.498255,-34.9],\"marker\":{\"color\":\"#636efa\",\"size\":[9.591171199125986,6.638567789166521,5.003946305945459,8.636397438894713,5.659482215759621,4.276666119016055,8.863332833439587,9.306377560173125,4.477336814478207,6.3818160174060985,8.628734566149145,6.137727054086234,7.315883504509785,6.948897222313312,8.713582005421628,6.068425588244111,4.248495242049359,6.432940092739179,9.18686701579054,6.625392368007956,4.700480365792417,5.003946305945459,8.905444318789714,5.988961416889864,7.0925737159746784,4.941642422609304,7.682482446534506,8.174984532943087,8.654517382279456],\"sizemode\":\"area\",\"sizeref\":0.02718353458394048,\"symbol\":\"circle\"},\"mode\":\"markers\",\"name\":\"\",\"showlegend\":false,\"type\":\"scattergeo\"}],\"name\":\"1804\"},{\"data\":[{\"customdata\":[[703.0],[2171.0],[122.0],[110.0],[1103.0],[13203.0],[1240.0],[2378.0],[3392.0],[122.0],[178.0],[331.0],[484.0],[5744.0],[850.0],[267.0],[803.0],[930.0],[119.0],[1729.0],[6502.0],[620.0],[3682.0],[645.0],[583.0],[199.0],[1203.0],[411.0],[1361.0],[6671.0],[13998.0],[12442.0]],\"geo\":\"geo\",\"hovertemplate\":\"<b>%{hovertext}</b><br><br>Year voyage began=1805<br>normalized_sizes=%{marker.size}<br>Latitude=%{lat}<br>Longitude=%{lon}<br>Total slaves embarked imputed * (slaximp)=%{customdata[0]}<extra></extra>\",\"hovertext\":[\"Martinique\",\"Pernambuco\",\"St. Kitts\",\"Other North America\",\"Barbados\",\"South Carolina\",\"Dominica\",\"Dutch Guianas\",\"British Guiana\",\"Florida\",\"Antigua\",\"Bahamas\",\"Grenada\",\"Amazonia\",\"Guadaloupe\",\"Southeast Africa and Indian Ocean islands\",\"St. Vincent\",\"Tobago\",\"Nevis\",\"Trinidad\",\"Rio de la Plata\",\"St. Lucia\",\"Cuba\",\"French Guiana\",\"Tortola\",\"Gulf coast\",\"Americas\",\"St. Barth\\u00e9lemy (Sweden)\",\"Danish West Indies\",\"Jamaica\",\"Southeast Brazil\",\"Bahia\"],\"lat\":[14.6,-8.05,17.3,33.875649,13.1,33.1,15.3,6.675248,7.615531,28.085368,17.067453,22.783937,12.05,-0.93323,16.0,-17.14,13.201309,11.231794,17.151005,10.65,-33.332605,14.0,23.115613,5.861294,18.347325,29.8,0.0,17.9,18.0,17.881263,-23.48894,-12.983333],\"legendgroup\":\"\",\"lon\":[-61.083333,-34.9,-62.716667,-78.444029,-59.616667,-79.54,-61.4,-55.251124,-57.958937,-80.522396,-61.784741,-74.303605,-61.75,-43.235449,-61.71667,39.51,-61.186603,-60.663937,-62.589223,-61.516667,-58.498255,-61.0,-79.127686,-53.612239,-64.715064,-89.56,0.0,-62.85,-64.9,-76.522778,-42.256021,-38.516667],\"marker\":{\"color\":\"#636efa\",\"size\":[6.555356891810665,7.682943169878292,4.804021044733257,4.700480365792417,7.005789019253503,9.488199355479201,7.122866658599083,7.774015077250727,8.129174996911793,4.804021044733257,5.181783550292085,5.802118375377063,6.182084906716632,8.65591111072806,6.745236349484363,5.58724865840025,6.688354713946762,6.835184586147301,4.77912349311153,7.455298485683291,8.779865100863852,6.429719478039138,8.211211361793023,6.4692503167957724,6.368187186350492,5.293304824724492,7.0925737159746784,6.018593214496234,7.215975002651466,8.805525052709516,9.546669741249485,9.428833125074965],\"sizemode\":\"area\",\"sizeref\":0.02718353458394048,\"symbol\":\"circle\"},\"mode\":\"markers\",\"name\":\"\",\"showlegend\":false,\"type\":\"scattergeo\"}],\"name\":\"1805\"},{\"data\":[{\"customdata\":[[86.0],[119.0],[13065.0],[273.0],[81.0],[850.0],[1618.0],[2448.0],[2276.0],[153.0],[13936.0],[473.0],[3854.0],[267.0],[4058.0],[1070.0],[230.0],[365.0],[76.0],[1997.0],[705.0],[5983.0],[2264.0],[18766.0],[1815.0],[1613.0],[19.0],[895.0],[493.0],[583.0],[310.0],[15228.0]],\"geo\":\"geo\",\"hovertemplate\":\"<b>%{hovertext}</b><br><br>Year voyage began=1806<br>normalized_sizes=%{marker.size}<br>Latitude=%{lat}<br>Longitude=%{lon}<br>Total slaves embarked imputed * (slaximp)=%{customdata[0]}<extra></extra>\",\"hovertext\":[\"Puerto Rico\",\"Nevis\",\"Bahia\",\"Danish West Indies\",\"Spanish Circum-Caribbean\",\"Martinique\",\"Southeast Africa and Indian Ocean islands\",\"Rio de la Plata\",\"Dutch Guianas\",\"Georgia\",\"Southeast Brazil\",\"Gulf coast\",\"Trinidad\",\"Bahamas\",\"Pernambuco\",\"Guadaloupe\",\"Tortola\",\"Grenada\",\"Codes without labels\",\"Cuba\",\"Antigua\",\"Amazonia\",\"Barbados\",\"South Carolina\",\"British Guiana\",\"Dominica\",\"Florida\",\"Americas\",\"St. Vincent\",\"St. Lucia\",\"St. Kitts\",\"Jamaica\"],\"lat\":[18.420959,17.151005,-12.983333,18.0,15.641117,14.6,-17.14,-33.332605,6.675248,31.69,-23.48894,29.8,10.65,22.783937,-8.05,16.0,18.347325,12.05,0.0,23.115613,17.067453,-0.93323,13.1,33.1,7.615531,15.3,28.085368,0.0,13.201309,14.0,17.3,17.881263],\"legendgroup\":\"\",\"lon\":[-66.070508,-62.589223,-38.516667,-64.9,-75.633932,-61.083333,39.51,-58.498255,-55.251124,-81.17,-42.256021,-89.56,-61.516667,-74.303605,-34.9,-61.71667,-64.715064,-61.75,0.0,-79.127686,-61.784741,-43.235449,-59.616667,-79.54,-57.958937,-61.4,-80.522396,0.0,-61.186603,-61.0,-62.716667,-76.522778],\"marker\":{\"color\":\"#636efa\",\"size\":[4.454347296253507,4.77912349311153,9.477692177954713,5.60947179518496,4.394449154672439,6.745236349484363,7.388946097618437,7.803026643632217,7.730174795246222,5.030437921392435,9.542230699092284,6.159095388491933,8.256866848974312,5.58724865840025,8.30844552038576,6.975413927455952,5.438079308923196,5.8998973535824915,4.330733340286331,7.599401333415815,6.558197802812269,8.696677393390031,7.724888439323074,9.839802000849994,7.503840746698951,7.385851078125209,2.9444389791664403,6.796823718274855,6.20050917404269,6.368187186350492,5.736572297479192,9.630891117502388],\"sizemode\":\"area\",\"sizeref\":0.02718353458394048,\"symbol\":\"circle\"},\"mode\":\"markers\",\"name\":\"\",\"showlegend\":false,\"type\":\"scattergeo\"}],\"name\":\"1806\"},{\"data\":[{\"customdata\":[[371.0],[847.0],[11101.0],[1112.0],[182.0],[310.0],[1190.0],[204.0],[1575.0],[674.0],[310.0],[268.0],[11160.0],[16750.0],[1381.0],[1125.0],[620.0],[1176.0],[2890.0],[1199.0],[817.0],[682.0],[1180.0],[101.0],[12071.0],[617.0],[159.0],[372.0]],\"geo\":\"geo\",\"hovertemplate\":\"<b>%{hovertext}</b><br><br>Year voyage began=1807<br>normalized_sizes=%{marker.size}<br>Latitude=%{lat}<br>Longitude=%{lon}<br>Total slaves embarked imputed * (slaximp)=%{customdata[0]}<extra></extra>\",\"hovertext\":[\"Tortola\",\"Gulf coast\",\"Bahia\",\"Trinidad\",\"Tobago\",\"French Guiana\",\"Americas\",\"Other British Caribbean\",\"Amazonia\",\"Guadaloupe\",\"Other French Caribbean\",\"Georgia\",\"South Carolina\",\"Southeast Brazil\",\"Cuba\",\"Dutch Guianas\",\"Southeast Africa and Indian Ocean islands\",\"Pernambuco\",\"British Guiana\",\"Barbados\",\"St. Vincent\",\"Grenada\",\"Dominica\",\"Danish West Indies\",\"Jamaica\",\"Rio de la Plata\",\"Martinique\",\"Sierra Leone\"],\"lat\":[18.347325,29.8,-12.983333,10.65,11.231794,5.861294,0.0,18.0,-0.93323,16.0,19.75778,31.69,33.1,-23.48894,23.115613,6.675248,-17.14,-8.05,7.615531,13.1,13.201309,12.05,15.3,18.0,17.881263,-33.332605,14.6,8.1],\"legendgroup\":\"\",\"lon\":[-64.715064,-89.56,-38.516667,-61.516667,-60.663937,-53.612239,0.0,-76.8,-43.235449,-61.71667,-72.20417,-81.17,-79.54,-42.256021,-79.127686,-55.251124,39.51,-34.9,-57.958937,-59.616667,-61.186603,-61.75,-61.4,-64.9,-76.522778,-58.498255,-61.083333,-13.67],\"marker\":{\"color\":\"#636efa\",\"size\":[5.916202062607435,6.741700694652055,9.314790473332646,7.013915474810528,5.204006687076795,5.736572297479192,7.081708586105575,5.318119993844216,7.362010551259734,6.513230110912307,5.736572297479192,5.5909869805108565,9.320091235935301,9.726153537253213,7.2305631534092925,7.025538314638521,6.429719478039138,7.069874128458572,7.969011781106478,7.089243155027514,6.705639094860003,6.525029657843462,7.07326971745971,4.61512051684126,9.398561160701128,6.424869023905388,5.0689042022202315,5.918893854273146],\"sizemode\":\"area\",\"sizeref\":0.02718353458394048,\"symbol\":\"circle\"},\"mode\":\"markers\",\"name\":\"\",\"showlegend\":false,\"type\":\"scattergeo\"}],\"name\":\"1807\"},{\"data\":[{\"customdata\":[[6261.0],[920.0],[89.0],[514.0],[660.0],[914.0],[10663.0],[149.0],[2444.0]],\"geo\":\"geo\",\"hovertemplate\":\"<b>%{hovertext}</b><br><br>Year voyage began=1808<br>normalized_sizes=%{marker.size}<br>Latitude=%{lat}<br>Longitude=%{lon}<br>Total slaves embarked imputed * (slaximp)=%{customdata[0]}<extra></extra>\",\"hovertext\":[\"Bahia\",\"Amazonia\",\"Sierra Leone\",\"Americas\",\"Southeast Africa and Indian Ocean islands\",\"Cuba\",\"Southeast Brazil\",\"Other British Caribbean\",\"Pernambuco\"],\"lat\":[-12.983333,-0.93323,8.1,0.0,-17.14,23.115613,-23.48894,18.0,-8.05],\"legendgroup\":\"\",\"lon\":[-38.516667,-43.235449,-13.67,0.0,39.51,-79.127686,-42.256021,-76.8,-34.9],\"marker\":{\"color\":\"#636efa\",\"size\":[8.74209519574531,6.824373670043086,4.48863636973214,6.2422232654551655,6.492239835020471,6.81783057145415,9.27453508401818,5.003946305945459,7.8013913202914855],\"sizemode\":\"area\",\"sizeref\":0.02718353458394048,\"symbol\":\"circle\"},\"mode\":\"markers\",\"name\":\"\",\"showlegend\":false,\"type\":\"scattergeo\"}],\"name\":\"1808\"},{\"data\":[{\"customdata\":[[9298.0],[4456.0],[104.0],[475.0],[687.0],[1840.0],[20106.0],[1042.0],[847.0]],\"geo\":\"geo\",\"hovertemplate\":\"<b>%{hovertext}</b><br><br>Year voyage began=1809<br>normalized_sizes=%{marker.size}<br>Latitude=%{lat}<br>Longitude=%{lon}<br>Total slaves embarked imputed * (slaximp)=%{customdata[0]}<extra></extra>\",\"hovertext\":[\"Bahia\",\"Cuba\",\"Georgia\",\"Guadaloupe\",\"Sierra Leone\",\"Amazonia\",\"Southeast Brazil\",\"Rio de la Plata\",\"Pernambuco\"],\"lat\":[-12.983333,23.115613,31.69,16.0,8.1,-0.93323,-23.48894,-33.332605,-8.05],\"legendgroup\":\"\",\"lon\":[-38.516667,-79.127686,-81.17,-61.71667,-13.67,-43.235449,-42.256021,-58.498255,-34.9],\"marker\":{\"color\":\"#636efa\",\"size\":[9.13755460225053,8.40200678160712,4.6443908991413725,6.163314804034641,6.532334292222349,7.517520850603031,9.908773556965365,6.948897222313312,6.741700694652055],\"sizemode\":\"area\",\"sizeref\":0.02718353458394048,\"symbol\":\"circle\"},\"mode\":\"markers\",\"name\":\"\",\"showlegend\":false,\"type\":\"scattergeo\"}],\"name\":\"1809\"},{\"data\":[{\"customdata\":[[4952.0],[1168.0],[1182.0],[8230.0],[533.0],[21508.0],[252.0],[394.0],[253.0],[15651.0],[241.0],[219.0],[170.0],[390.0],[167.0],[2553.0]],\"geo\":\"geo\",\"hovertemplate\":\"<b>%{hovertext}</b><br><br>Year voyage began=1810<br>normalized_sizes=%{marker.size}<br>Latitude=%{lat}<br>Longitude=%{lon}<br>Total slaves embarked imputed * (slaximp)=%{customdata[0]}<extra></extra>\",\"hovertext\":[\"Pernambuco\",\"Florida\",\"Sierra Leone\",\"Cuba\",\"Southeast Africa and Indian Ocean islands\",\"Southeast Brazil\",\"Saint-Domingue\",\"Rio de la Plata\",\"Spanish Circum-Caribbean\",\"Bahia\",\"Antigua\",\"Bahamas\",\"Gulf coast\",\"French Guiana\",\"Senegambia and offshore Atlantic\",\"Amazonia\"],\"lat\":[-8.05,28.085368,8.1,23.115613,-17.14,-23.48894,18.54,-33.332605,15.641117,-12.983333,17.067453,22.783937,29.8,5.861294,14.14,-0.93323],\"legendgroup\":\"\",\"lon\":[-34.9,-80.522396,-13.67,-79.127686,39.51,-42.256021,-72.34,-58.498255,-75.633932,-38.516667,-61.784741,-74.303605,-89.56,-53.612239,-17.93,-43.235449],\"marker\":{\"color\":\"#636efa\",\"size\":[8.507546814364431,7.0630481633881725,7.074963197966044,9.015541293671115,6.278521424165844,9.976180237929569,5.529429087511423,5.976350909297934,5.53338948872752,9.658290091690503,5.484796933490655,5.389071729816501,5.135798437050262,5.966146739123692,5.117993812416755,7.845024417241484],\"sizemode\":\"area\",\"sizeref\":0.02718353458394048,\"symbol\":\"circle\"},\"mode\":\"markers\",\"name\":\"\",\"showlegend\":false,\"type\":\"scattergeo\"}],\"name\":\"1810\"},{\"data\":[{\"customdata\":[[10361.0],[287.0],[1820.0],[614.0],[197.0],[287.0],[5280.0],[170.0],[141.0],[506.0],[3153.0],[38069.0],[9660.0]],\"geo\":\"geo\",\"hovertemplate\":\"<b>%{hovertext}</b><br><br>Year voyage began=1811<br>normalized_sizes=%{marker.size}<br>Latitude=%{lat}<br>Longitude=%{lon}<br>Total slaves embarked imputed * (slaximp)=%{customdata[0]}<extra></extra>\",\"hovertext\":[\"Bahia\",\"Saint-Domingue\",\"Sierra Leone\",\"Puerto Rico\",\"Spanish Circum-Caribbean\",\"Bahamas\",\"Pernambuco\",\"Tortola\",\"Danish West Indies\",\"Southeast Africa and Indian Ocean islands\",\"Amazonia\",\"Southeast Brazil\",\"Cuba\"],\"lat\":[-12.983333,18.54,8.1,18.420959,15.641117,22.783937,-8.05,18.347325,18.0,-17.14,-0.93323,-23.48894,23.115613],\"legendgroup\":\"\",\"lon\":[-38.516667,-72.34,-13.67,-66.070508,-75.633932,-74.303605,-34.9,-64.715064,-64.9,39.51,-43.235449,-42.256021,-79.127686],\"marker\":{\"color\":\"#636efa\",\"size\":[9.245804036251752,5.659482215759621,7.506591780070841,6.419994928147142,5.2832037287379885,5.659482215759621,8.571681376700306,5.135798437050262,4.948759890378168,6.226536669287466,8.056109659545061,10.547155581629395,9.175748927206564],\"sizemode\":\"area\",\"sizeref\":0.02718353458394048,\"symbol\":\"circle\"},\"mode\":\"markers\",\"name\":\"\",\"showlegend\":false,\"type\":\"scattergeo\"}],\"name\":\"1811\"},{\"data\":[{\"customdata\":[[10685.0],[22.0],[1558.0],[22764.0],[8873.0],[1450.0],[533.0],[6746.0],[2240.0]],\"geo\":\"geo\",\"hovertemplate\":\"<b>%{hovertext}</b><br><br>Year voyage began=1812<br>normalized_sizes=%{marker.size}<br>Latitude=%{lat}<br>Longitude=%{lon}<br>Total slaves embarked imputed * (slaximp)=%{customdata[0]}<extra></extra>\",\"hovertext\":[\"Bahia\",\"Puerto Rico\",\"Tortola\",\"Southeast Brazil\",\"Cuba\",\"Amazonia\",\"Southeast Africa and Indian Ocean islands\",\"Pernambuco\",\"Sierra Leone\"],\"lat\":[-12.983333,18.420959,18.347325,-23.48894,23.115613,-0.93323,-17.14,-8.05,8.1],\"legendgroup\":\"\",\"lon\":[-38.516667,-66.070508,-64.715064,-42.256021,-79.127686,-43.235449,39.51,-34.9,-13.67],\"marker\":{\"color\":\"#636efa\",\"size\":[9.276596167753247,3.091042453358316,7.351158226430694,10.032935619723014,9.090768236835338,7.27931883541462,6.278521424165844,8.816705015621595,7.7142311448490855],\"sizemode\":\"area\",\"sizeref\":0.02718353458394048,\"symbol\":\"circle\"},\"mode\":\"markers\",\"name\":\"\",\"showlegend\":false,\"type\":\"scattergeo\"}],\"name\":\"1812\"},{\"data\":[{\"customdata\":[[1591.0],[21934.0],[658.0],[8723.0],[133.0],[3905.0],[14360.0],[508.0]],\"geo\":\"geo\",\"hovertemplate\":\"<b>%{hovertext}</b><br><br>Year voyage began=1813<br>normalized_sizes=%{marker.size}<br>Latitude=%{lat}<br>Longitude=%{lon}<br>Total slaves embarked imputed * (slaximp)=%{customdata[0]}<extra></extra>\",\"hovertext\":[\"Amazonia\",\"Southeast Brazil\",\"Antigua\",\"Pernambuco\",\"Puerto Rico\",\"Cuba\",\"Bahia\",\"Sierra Leone\"],\"lat\":[-0.93323,-23.48894,17.067453,-8.05,18.420959,23.115613,-12.983333,8.1],\"legendgroup\":\"\",\"lon\":[-43.235449,-42.256021,-61.784741,-34.9,-66.070508,-79.127686,-38.516667,-13.67],\"marker\":{\"color\":\"#636efa\",\"size\":[7.372118028337787,9.995793223320154,6.489204931325317,9.07371849443322,4.890349128221754,8.270013062273787,9.572201842602215,6.230481447578482],\"sizemode\":\"area\",\"sizeref\":0.02718353458394048,\"symbol\":\"circle\"},\"mode\":\"markers\",\"name\":\"\",\"showlegend\":false,\"type\":\"scattergeo\"}],\"name\":\"1813\"},{\"data\":[{\"customdata\":[[1829.0],[7709.0],[7843.0],[12193.0],[19918.0],[418.0],[3213.0],[339.0],[846.0],[501.0],[54.0]],\"geo\":\"geo\",\"hovertemplate\":\"<b>%{hovertext}</b><br><br>Year voyage began=1814<br>normalized_sizes=%{marker.size}<br>Latitude=%{lat}<br>Longitude=%{lon}<br>Total slaves embarked imputed * (slaximp)=%{customdata[0]}<extra></extra>\",\"hovertext\":[\"Amazonia\",\"Pernambuco\",\"Cuba\",\"Bahia\",\"Southeast Brazil\",\"Danish West Indies\",\"Sierra Leone\",\"Martinique\",\"Tortola\",\"Antigua\",\"Puerto Rico\"],\"lat\":[-0.93323,-8.05,23.115613,-12.983333,-23.48894,18.0,8.1,14.6,18.347325,17.067453,18.420959],\"legendgroup\":\"\",\"lon\":[-43.235449,-34.9,-79.127686,-38.516667,-42.256021,-64.9,-13.67,-61.083333,-64.715064,-61.784741,-66.070508],\"marker\":{\"color\":\"#636efa\",\"size\":[7.511524648390866,8.950143756459262,8.967376693212666,9.408617295560266,9.899379124491585,6.035481432524756,8.074960359115858,5.82600010738045,6.740519359606223,6.2166061010848646,3.9889840465642745],\"sizemode\":\"area\",\"sizeref\":0.02718353458394048,\"symbol\":\"circle\"},\"mode\":\"markers\",\"name\":\"\",\"showlegend\":false,\"type\":\"scattergeo\"}],\"name\":\"1814\"},{\"data\":[{\"customdata\":[[11715.0],[22039.0],[120.0],[364.0],[179.0],[1482.0],[231.0],[319.0],[10720.0],[15318.0],[838.0],[2502.0],[553.0]],\"geo\":\"geo\",\"hovertemplate\":\"<b>%{hovertext}</b><br><br>Year voyage began=1815<br>normalized_sizes=%{marker.size}<br>Latitude=%{lat}<br>Longitude=%{lon}<br>Total slaves embarked imputed * (slaximp)=%{customdata[0]}<extra></extra>\",\"hovertext\":[\"Bahia\",\"Southeast Brazil\",\"Americas\",\"Southeast Africa and Indian Ocean islands\",\"Other French Caribbean\",\"Amazonia\",\"Antigua\",\"Guadaloupe\",\"Pernambuco\",\"Cuba\",\"Martinique\",\"Sierra Leone\",\"French Guiana\"],\"lat\":[-12.983333,-23.48894,0.0,-17.14,19.75778,-0.93323,17.067453,16.0,-8.05,23.115613,14.6,8.1,5.861294],\"legendgroup\":\"\",\"lon\":[-38.516667,-42.256021,0.0,39.51,-72.20417,-43.235449,-61.784741,-61.71667,-34.9,-79.127686,-61.083333,-13.67,-53.612239],\"marker\":{\"color\":\"#636efa\",\"size\":[9.368625350941896,10.000568890186692,4.787491742782046,5.8971538676367405,5.187385805840755,7.301147805856032,5.442417710521793,5.765191102784844,9.279866434624793,9.636783886469539,6.731018100482083,7.824845691026856,6.315358001522335],\"sizemode\":\"area\",\"sizeref\":0.02718353458394048,\"symbol\":\"circle\"},\"mode\":\"markers\",\"name\":\"\",\"showlegend\":false,\"type\":\"scattergeo\"}],\"name\":\"1815\"},{\"data\":[{\"customdata\":[[1969.0],[2849.0],[610.0],[11837.0],[11698.0],[382.0],[65.0],[1409.0],[35755.0],[26332.0],[250.0]],\"geo\":\"geo\",\"hovertemplate\":\"<b>%{hovertext}</b><br><br>Year voyage began=1816<br>normalized_sizes=%{marker.size}<br>Latitude=%{lat}<br>Longitude=%{lon}<br>Total slaves embarked imputed * (slaximp)=%{customdata[0]}<extra></extra>\",\"hovertext\":[\"Sierra Leone\",\"Amazonia\",\"Americas\",\"Bahia\",\"Pernambuco\",\"Bahamas\",\"Puerto Rico\",\"Martinique\",\"Cuba\",\"Southeast Brazil\",\"Guadaloupe\"],\"lat\":[8.1,-0.93323,0.0,-12.983333,-8.05,22.783937,18.420959,14.6,23.115613,-23.48894,16.0],\"legendgroup\":\"\",\"lon\":[-13.67,-43.235449,0.0,-38.516667,-34.9,-74.303605,-66.070508,-61.083333,-79.127686,-42.256021,-61.71667],\"marker\":{\"color\":\"#636efa\",\"size\":[7.585281078639126,7.954723334497908,6.413458957167357,9.378985497953893,9.36717316600297,5.945420608606575,4.174387269895637,7.25063551189868,10.484445398482496,10.178540208587767,5.521460917862246],\"sizemode\":\"area\",\"sizeref\":0.02718353458394048,\"symbol\":\"circle\"},\"mode\":\"markers\",\"name\":\"\",\"showlegend\":false,\"type\":\"scattergeo\"}],\"name\":\"1816\"},{\"data\":[{\"customdata\":[[179.0],[7085.0],[494.0],[32060.0],[314.0],[2253.0],[28986.0],[364.0],[390.0],[234.0],[13077.0],[365.0],[456.0],[1373.0],[725.0],[399.0],[677.0]],\"geo\":\"geo\",\"hovertemplate\":\"<b>%{hovertext}</b><br><br>Year voyage began=1817<br>normalized_sizes=%{marker.size}<br>Latitude=%{lat}<br>Longitude=%{lon}<br>Total slaves embarked imputed * (slaximp)=%{customdata[0]}<extra></extra>\",\"hovertext\":[\"Martinique\",\"Pernambuco\",\"Sierra Leone\",\"Cuba\",\"Gulf coast\",\"Amazonia\",\"Southeast Brazil\",\"Florida\",\"Spanish Circum-Caribbean\",\"Americas\",\"Bahia\",\"Codes without labels\",\"Georgia\",\"Guadaloupe\",\"Southeast Africa and Indian Ocean islands\",\"Other North America\",\"Puerto Rico\"],\"lat\":[14.6,-8.05,8.1,23.115613,29.8,-0.93323,-23.48894,28.085368,15.641117,0.0,-12.983333,0.0,31.69,16.0,-17.14,33.875649,18.420959],\"legendgroup\":\"\",\"lon\":[-61.083333,-34.9,-13.67,-79.127686,-89.56,-43.235449,-42.256021,-80.522396,-75.633932,0.0,-38.516667,0.0,-81.17,-61.71667,39.51,-78.444029,-66.070508],\"marker\":{\"color\":\"#636efa\",\"size\":[5.187385805840755,8.865735152124781,6.202535517187923,10.375364426163545,5.749392985908253,7.720017940432244,10.274568233782462,5.8971538676367405,5.966146739123692,5.455321115357702,9.478610240906502,5.8998973535824915,6.1224928095143865,7.224753405767971,6.586171654854675,5.988961416889864,6.517671272912275],\"sizemode\":\"area\",\"sizeref\":0.02718353458394048,\"symbol\":\"circle\"},\"mode\":\"markers\",\"name\":\"\",\"showlegend\":false,\"type\":\"scattergeo\"}],\"name\":\"1817\"},{\"data\":[{\"customdata\":[[106.0],[366.0],[553.0],[319.0],[390.0],[314.0],[4139.0],[81.0],[25036.0],[35.0],[1665.0],[26012.0],[474.0],[15444.0],[709.0],[10299.0],[102.0],[915.0]],\"geo\":\"geo\",\"hovertemplate\":\"<b>%{hovertext}</b><br><br>Year voyage began=1818<br>normalized_sizes=%{marker.size}<br>Latitude=%{lat}<br>Longitude=%{lon}<br>Total slaves embarked imputed * (slaximp)=%{customdata[0]}<extra></extra>\",\"hovertext\":[\"French Guiana\",\"Americas\",\"Guadaloupe\",\"Other Caribbean\",\"Saint-Domingue\",\"Codes without labels\",\"Amazonia\",\"Senegambia and offshore Atlantic\",\"Cuba\",\"Jamaica\",\"Martinique\",\"Southeast Brazil\",\"Dutch Caribbean\",\"Bahia\",\"Sierra Leone\",\"Pernambuco\",\"Bahamas\",\"Puerto Rico\"],\"lat\":[5.861294,0.0,16.0,0.0,18.54,0.0,-0.93323,14.14,23.115613,17.881263,14.6,-23.48894,14.751846,-12.983333,8.1,-8.05,22.783937,18.420959],\"legendgroup\":\"\",\"lon\":[-53.612239,0.0,-61.71667,0.0,-72.34,0.0,-43.235449,-17.93,-79.127686,-76.522778,-61.083333,-42.256021,-65.781346,-38.516667,-13.67,-34.9,-74.303605,-66.070508],\"marker\":{\"color\":\"#636efa\",\"size\":[4.663439094112067,5.902633333401366,6.315358001522335,5.765191102784844,5.966146739123692,5.749392985908253,8.328209491748732,4.394449154672439,10.128070068044591,3.5553480614894135,7.417580402414544,10.166313248989043,6.161207321695077,9.644975857384127,6.5638555265321274,9.239802082125802,4.624972813284271,6.818924065275521],\"sizemode\":\"area\",\"sizeref\":0.02718353458394048,\"symbol\":\"circle\"},\"mode\":\"markers\",\"name\":\"\",\"showlegend\":false,\"type\":\"scattergeo\"}],\"name\":\"1818\"},{\"data\":[{\"customdata\":[[546.0],[16.0],[25.0],[22316.0],[404.0],[531.0],[916.0],[966.0],[3398.0],[10514.0],[22035.0],[331.0],[12.0],[2725.0],[13635.0]],\"geo\":\"geo\",\"hovertemplate\":\"<b>%{hovertext}</b><br><br>Year voyage began=1819<br>normalized_sizes=%{marker.size}<br>Latitude=%{lat}<br>Longitude=%{lon}<br>Total slaves embarked imputed * (slaximp)=%{customdata[0]}<extra></extra>\",\"hovertext\":[\"Other Caribbean\",\"Puerto Rico\",\"Senegambia and offshore Atlantic\",\"Cuba\",\"French Guiana\",\"Guadaloupe\",\"Sierra Leone\",\"Martinique\",\"Amazonia\",\"Pernambuco\",\"Southeast Brazil\",\"Georgia\",\"Other French Caribbean\",\"Americas\",\"Bahia\"],\"lat\":[0.0,18.420959,14.14,23.115613,5.861294,16.0,8.1,14.6,-0.93323,-8.05,-23.48894,31.69,19.75778,0.0,-12.983333],\"legendgroup\":\"\",\"lon\":[0.0,-66.070508,-17.93,-79.127686,-53.612239,-61.71667,-13.67,-61.083333,-43.235449,-34.9,-42.256021,-81.17,-72.20417,0.0,-38.516667],\"marker\":{\"color\":\"#636efa\",\"size\":[6.302618975744905,2.772588722239781,3.2188758248682006,10.01305918896542,6.0014148779611505,6.274762021241939,6.82001636467413,6.873163834212518,8.130942302231878,9.260462981379394,10.000387377276088,5.802118375377063,2.4849066497880004,7.9102237070973445,9.52039529527969],\"sizemode\":\"area\",\"sizeref\":0.02718353458394048,\"symbol\":\"circle\"},\"mode\":\"markers\",\"name\":\"\",\"showlegend\":false,\"type\":\"scattergeo\"}],\"name\":\"1819\"},{\"data\":[{\"customdata\":[[791.0],[234.0],[452.0],[196.0],[145.0],[11057.0],[675.0],[29161.0],[1816.0],[1108.0],[370.0],[328.0],[844.0],[1627.0],[9028.0],[27434.0]],\"geo\":\"geo\",\"hovertemplate\":\"<b>%{hovertext}</b><br><br>Year voyage began=1820<br>normalized_sizes=%{marker.size}<br>Latitude=%{lat}<br>Longitude=%{lon}<br>Total slaves embarked imputed * (slaximp)=%{customdata[0]}<extra></extra>\",\"hovertext\":[\"Dutch Guianas\",\"Other Caribbean\",\"Puerto Rico\",\"Codes without labels\",\"Antigua\",\"Bahia\",\"Sierra Leone\",\"Cuba\",\"Guadaloupe\",\"Amazonia\",\"Saint-Domingue\",\"French Guiana\",\"Other French Caribbean\",\"Martinique\",\"Pernambuco\",\"Southeast Brazil\"],\"lat\":[6.675248,0.0,18.420959,0.0,17.067453,-12.983333,8.1,23.115613,16.0,-0.93323,18.54,5.861294,19.75778,14.6,-8.05,-23.48894],\"legendgroup\":\"\",\"lon\":[-55.251124,0.0,-66.070508,0.0,-61.784741,-38.516667,-13.67,-79.127686,-61.71667,-43.235449,-72.34,-53.612239,-72.20417,-61.083333,-34.9,-42.256021],\"marker\":{\"color\":\"#636efa\",\"size\":[6.673297967767654,5.455321115357702,6.113682179832232,5.278114659230517,4.976733742420574,9.310818990542401,6.51471269087253,10.280587479087396,7.504391559161238,7.010311867307229,5.91350300563827,5.793013608384144,6.738152494595957,7.394493107219038,9.108086137937427,10.219538399038353],\"sizemode\":\"area\",\"sizeref\":0.02718353458394048,\"symbol\":\"circle\"},\"mode\":\"markers\",\"name\":\"\",\"showlegend\":false,\"type\":\"scattergeo\"}],\"name\":\"1820\"},{\"data\":[{\"customdata\":[[2462.0],[1383.0],[2465.0],[164.0],[1469.0],[30808.0],[987.0],[499.0],[8865.0],[170.0],[9350.0],[2062.0],[14703.0]],\"geo\":\"geo\",\"hovertemplate\":\"<b>%{hovertext}</b><br><br>Year voyage began=1821<br>normalized_sizes=%{marker.size}<br>Latitude=%{lat}<br>Longitude=%{lon}<br>Total slaves embarked imputed * (slaximp)=%{customdata[0]}<extra></extra>\",\"hovertext\":[\"Sierra Leone\",\"Americas\",\"Amazonia\",\"Dutch Guianas\",\"French Guiana\",\"Southeast Brazil\",\"Guadaloupe\",\"Other French Caribbean\",\"Pernambuco\",\"Other Caribbean\",\"Cuba\",\"Martinique\",\"Bahia\"],\"lat\":[8.1,0.0,-0.93323,6.675248,5.861294,-23.48894,16.0,19.75778,-8.05,0.0,23.115613,14.6,-12.983333],\"legendgroup\":\"\",\"lon\":[-13.67,0.0,-43.235449,-55.251124,-53.612239,-42.256021,-61.71667,-72.20417,-34.9,0.0,-79.127686,-61.083333,-38.516667],\"marker\":{\"color\":\"#636efa\",\"size\":[7.808729306744399,7.232010331664759,7.80994708647679,5.099866427824199,7.292337176173877,10.335529675494746,6.894670039433482,6.212606095751519,9.089866218508309,5.135798437050262,9.143131622282732,7.631431664576906,9.595806833577658],\"sizemode\":\"area\",\"sizeref\":0.02718353458394048,\"symbol\":\"circle\"},\"mode\":\"markers\",\"name\":\"\",\"showlegend\":false,\"type\":\"scattergeo\"}],\"name\":\"1821\"},{\"data\":[{\"customdata\":[[1447.0],[1512.0],[3319.0],[278.0],[234.0],[10044.0],[28666.0],[2091.0],[1726.0],[7168.0],[273.0],[607.0],[739.0],[10.0],[3926.0]],\"geo\":\"geo\",\"hovertemplate\":\"<b>%{hovertext}</b><br><br>Year voyage began=1822<br>normalized_sizes=%{marker.size}<br>Latitude=%{lat}<br>Longitude=%{lon}<br>Total slaves embarked imputed * (slaximp)=%{customdata[0]}<extra></extra>\",\"hovertext\":[\"Americas\",\"Other Caribbean\",\"Sierra Leone\",\"Other French Caribbean\",\"Bahamas\",\"Bahia\",\"Southeast Brazil\",\"Martinique\",\"Amazonia\",\"Cuba\",\"Puerto Rico\",\"Dutch Guianas\",\"Guadaloupe\",\"Senegambia and offshore Atlantic\",\"Pernambuco\"],\"lat\":[0.0,0.0,8.1,19.75778,22.783937,-12.983333,-23.48894,14.6,-0.93323,23.115613,18.420959,6.675248,16.0,14.14,-8.05],\"legendgroup\":\"\",\"lon\":[0.0,0.0,-13.67,-72.20417,-74.303605,-38.516667,-42.256021,-61.083333,-43.235449,-79.127686,-66.070508,-55.251124,-61.71667,-17.93,-34.9],\"marker\":{\"color\":\"#636efa\",\"size\":[7.277247726631484,7.321188556739478,8.107418811719974,5.627621113690637,5.455321115357702,9.214730720277476,10.263467030483161,7.645397699428633,7.453561871643373,8.877381954654766,5.60947179518496,6.408528791059498,6.6052979209482015,2.302585092994046,8.275376374836407],\"sizemode\":\"area\",\"sizeref\":0.02718353458394048,\"symbol\":\"circle\"},\"mode\":\"markers\",\"name\":\"\",\"showlegend\":false,\"type\":\"scattergeo\"}],\"name\":\"1822\"},{\"data\":[{\"customdata\":[[1578.0],[273.0],[3753.0],[617.0],[4780.0],[727.0],[26700.0],[352.0],[730.0],[449.0],[507.0],[55.0],[5524.0]],\"geo\":\"geo\",\"hovertemplate\":\"<b>%{hovertext}</b><br><br>Year voyage began=1823<br>normalized_sizes=%{marker.size}<br>Latitude=%{lat}<br>Longitude=%{lon}<br>Total slaves embarked imputed * (slaximp)=%{customdata[0]}<extra></extra>\",\"hovertext\":[\"Americas\",\"Martinique\",\"Bahia\",\"Amazonia\",\"Cuba\",\"Sierra Leone\",\"Southeast Brazil\",\"Dutch Guianas\",\"French Guiana\",\"Guadaloupe\",\"Danish West Indies\",\"Gold Coast\",\"Pernambuco\"],\"lat\":[0.0,14.6,-12.983333,-0.93323,23.115613,8.1,-23.48894,6.675248,5.861294,16.0,18.0,3.86,-8.05],\"legendgroup\":\"\",\"lon\":[0.0,-61.083333,-38.516667,-43.235449,-79.127686,-13.67,-42.256021,-55.251124,-53.612239,-61.71667,-64.9,-1.93,-34.9],\"marker\":{\"color\":\"#636efa\",\"size\":[7.363913501405819,5.60947179518496,8.23031079913502,6.424869023905388,8.472195825485501,6.588926477533519,10.19241884438834,5.863631175598097,6.593044534142437,6.1070228877422545,6.2285110035911835,4.007333185232471,8.616857514529183],\"sizemode\":\"area\",\"sizeref\":0.02718353458394048,\"symbol\":\"circle\"},\"mode\":\"markers\",\"name\":\"\",\"showlegend\":false,\"type\":\"scattergeo\"}],\"name\":\"1823\"},{\"data\":[{\"customdata\":[[2617.0],[33302.0],[6932.0],[273.0],[209.0],[183.0],[1096.0],[15279.0],[258.0],[273.0],[918.0],[319.0],[2910.0],[2187.0]],\"geo\":\"geo\",\"hovertemplate\":\"<b>%{hovertext}</b><br><br>Year voyage began=1824<br>normalized_sizes=%{marker.size}<br>Latitude=%{lat}<br>Longitude=%{lon}<br>Total slaves embarked imputed * (slaximp)=%{customdata[0]}<extra></extra>\",\"hovertext\":[\"Pernambuco\",\"Southeast Brazil\",\"Bahia\",\"French Guiana\",\"Other French Caribbean\",\"Martinique\",\"Guadaloupe\",\"Cuba\",\"Dutch Guianas\",\"Other Caribbean\",\"Puerto Rico\",\"Danish West Indies\",\"Americas\",\"Sierra Leone\"],\"lat\":[-8.05,-23.48894,-12.983333,5.861294,19.75778,14.6,16.0,23.115613,6.675248,0.0,18.420959,18.0,0.0,8.1],\"legendgroup\":\"\",\"lon\":[-34.9,-42.256021,-38.516667,-53.612239,-72.20417,-61.083333,-61.71667,-79.127686,-55.251124,0.0,-66.070508,-64.9,0.0,-13.67],\"marker\":{\"color\":\"#636efa\",\"size\":[7.869783902530146,10.413372734225062,8.843903650835497,5.60947179518496,5.342334251964811,5.209486152841421,6.999422467507961,9.634234615552714,5.552959584921617,5.60947179518496,6.822197390620491,5.765191102784844,7.975908360165538,7.690286020676768],\"sizemode\":\"area\",\"sizeref\":0.02718353458394048,\"symbol\":\"circle\"},\"mode\":\"markers\",\"name\":\"\",\"showlegend\":false,\"type\":\"scattergeo\"}],\"name\":\"1824\"},{\"data\":[{\"customdata\":[[400.0],[12908.0],[490.0],[250.0],[21107.0],[1469.0],[732.0],[7899.0],[5605.0],[1191.0],[183.0],[8670.0],[4140.0],[638.0],[281.0]],\"geo\":\"geo\",\"hovertemplate\":\"<b>%{hovertext}</b><br><br>Year voyage began=1825<br>normalized_sizes=%{marker.size}<br>Latitude=%{lat}<br>Longitude=%{lon}<br>Total slaves embarked imputed * (slaximp)=%{customdata[0]}<extra></extra>\",\"hovertext\":[\"Dutch Guianas\",\"Cuba\",\"Puerto Rico\",\"French Guiana\",\"Southeast Brazil\",\"Amazonia\",\"Martinique\",\"Pernambuco\",\"Americas\",\"Danish West Indies\",\"Other Caribbean\",\"Bahia\",\"Sierra Leone\",\"Rio de la Plata\",\"Bahamas\"],\"lat\":[6.675248,23.115613,18.420959,5.861294,-23.48894,-0.93323,14.6,-8.05,0.0,18.0,0.0,-12.983333,8.1,-33.332605,22.783937],\"legendgroup\":\"\",\"lon\":[-55.251124,-79.127686,-66.070508,-53.612239,-42.256021,-43.235449,-61.083333,-34.9,0.0,-64.9,0.0,-38.516667,-13.67,-58.498255,-74.303605],\"marker\":{\"color\":\"#636efa\",\"size\":[5.991464547107982,9.465602553171852,6.194405391104672,5.521460917862246,9.957360018000617,7.292337176173877,6.595780513961311,8.97449144816442,8.63141433550626,7.0825485693553,5.209486152841421,9.067624069774588,8.32845106681936,6.45833828334479,5.638354669333745],\"sizemode\":\"area\",\"sizeref\":0.02718353458394048,\"symbol\":\"circle\"},\"mode\":\"markers\",\"name\":\"\",\"showlegend\":false,\"type\":\"scattergeo\"}],\"name\":\"1825\"},{\"data\":[{\"customdata\":[[809.0],[1258.0],[3582.0],[1695.0],[6200.0],[9323.0],[13808.0],[48523.0],[1034.0],[490.0],[1867.0]],\"geo\":\"geo\",\"hovertemplate\":\"<b>%{hovertext}</b><br><br>Year voyage began=1826<br>normalized_sizes=%{marker.size}<br>Latitude=%{lat}<br>Longitude=%{lon}<br>Total slaves embarked imputed * (slaximp)=%{customdata[0]}<extra></extra>\",\"hovertext\":[\"Danish West Indies\",\"Amazonia\",\"Sierra Leone\",\"Martinique\",\"Pernambuco\",\"Cuba\",\"Bahia\",\"Southeast Brazil\",\"French Guiana\",\"Rio de la Plata\",\"Americas\"],\"lat\":[18.0,-0.93323,8.1,14.6,-8.05,23.115613,-12.983333,-23.48894,5.861294,-33.332605,0.0],\"legendgroup\":\"\",\"lon\":[-64.9,-43.235449,-13.67,-61.083333,-34.9,-79.127686,-38.516667,-42.256021,-53.612239,-58.498255,0.0],\"marker\":{\"color\":\"#636efa\",\"size\":[6.695798917058491,7.1372784372603855,8.183676582620658,7.43543801981455,8.732304571033183,9.140239744296693,9.53300341332321,10.789793191319704,6.9411900550683745,6.194405391104672,7.532088143541722],\"sizemode\":\"area\",\"sizeref\":0.02718353458394048,\"symbol\":\"circle\"},\"mode\":\"markers\",\"name\":\"\",\"showlegend\":false,\"type\":\"scattergeo\"}],\"name\":\"1826\"},{\"data\":[{\"customdata\":[[14111.0],[1675.0],[5961.0],[452.0],[1127.0],[2441.0],[861.0],[43811.0],[234.0],[10988.0],[1761.0],[281.0]],\"geo\":\"geo\",\"hovertemplate\":\"<b>%{hovertext}</b><br><br>Year voyage began=1827<br>normalized_sizes=%{marker.size}<br>Latitude=%{lat}<br>Longitude=%{lon}<br>Total slaves embarked imputed * (slaximp)=%{customdata[0]}<extra></extra>\",\"hovertext\":[\"Bahia\",\"Amazonia\",\"Pernambuco\",\"Other Brazil\",\"Rio de la Plata\",\"Sierra Leone\",\"Martinique\",\"Southeast Brazil\",\"Bight of Biafra and Gulf of Guinea islands\",\"Cuba\",\"Americas\",\"Other Caribbean\"],\"lat\":[-12.983333,-0.93323,-8.05,-18.864582,-33.332605,8.1,14.6,-23.48894,4.17,23.115613,0.0,0.0],\"legendgroup\":\"\",\"lon\":[-38.516667,-43.235449,-34.9,-39.75489,-58.498255,-13.67,-61.083333,-42.256021,8.31,-79.127686,0.0,0.0],\"marker\":{\"color\":\"#636efa\",\"size\":[9.55470991405776,7.423568444259167,8.692993531219926,6.113682179832232,7.027314514039777,7.80016307039296,6.7580945044277305,10.687640206386288,5.455321115357702,9.304559047215164,7.473637108496206,5.638354669333745],\"sizemode\":\"area\",\"sizeref\":0.02718353458394048,\"symbol\":\"circle\"},\"mode\":\"markers\",\"name\":\"\",\"showlegend\":false,\"type\":\"scattergeo\"}],\"name\":\"1827\"},{\"data\":[{\"customdata\":[[240.0],[16812.0],[52361.0],[762.0],[309.0],[535.0],[5471.0],[2461.0],[8348.0],[3640.0],[100.0]],\"geo\":\"geo\",\"hovertemplate\":\"<b>%{hovertext}</b><br><br>Year voyage began=1828<br>normalized_sizes=%{marker.size}<br>Latitude=%{lat}<br>Longitude=%{lon}<br>Total slaves embarked imputed * (slaximp)=%{customdata[0]}<extra></extra>\",\"hovertext\":[\"French Guiana\",\"Cuba\",\"Southeast Brazil\",\"Amazonia\",\"Guadaloupe\",\"Puerto Rico\",\"Sierra Leone\",\"Martinique\",\"Bahia\",\"Pernambuco\",\"Senegambia and offshore Atlantic\"],\"lat\":[5.861294,23.115613,-23.48894,-0.93323,16.0,18.420959,8.1,14.6,-12.983333,-8.05,14.14],\"legendgroup\":\"\",\"lon\":[-53.612239,-79.127686,-42.256021,-43.235449,-61.71667,-66.070508,-13.67,-61.083333,-38.516667,-34.9,-17.93],\"marker\":{\"color\":\"#636efa\",\"size\":[5.480638923341991,9.729848196125007,10.865917318389972,6.635946555686647,5.733341276897746,6.282266746896006,8.607216694063826,7.8083230503910555,9.029777268197092,8.199738960630786,4.605170185988092],\"sizemode\":\"area\",\"sizeref\":0.02718353458394048,\"symbol\":\"circle\"},\"mode\":\"markers\",\"name\":\"\",\"showlegend\":false,\"type\":\"scattergeo\"}],\"name\":\"1828\"},{\"data\":[{\"customdata\":[[8045.0],[19284.0],[1008.0],[36525.0],[21105.0],[250.0],[19.0],[1423.0],[490.0],[485.0],[307.0],[6581.0]],\"geo\":\"geo\",\"hovertemplate\":\"<b>%{hovertext}</b><br><br>Year voyage began=1829<br>normalized_sizes=%{marker.size}<br>Latitude=%{lat}<br>Longitude=%{lon}<br>Total slaves embarked imputed * (slaximp)=%{customdata[0]}<extra></extra>\",\"hovertext\":[\"Pernambuco\",\"Bahia\",\"Guadaloupe\",\"Southeast Brazil\",\"Cuba\",\"St. Barth\\u00e9lemy (Sweden)\",\"Amazonia\",\"Martinique\",\"French Guiana\",\"Americas\",\"Senegambia and offshore Atlantic\",\"Sierra Leone\"],\"lat\":[-8.05,-12.983333,16.0,-23.48894,23.115613,17.9,-0.93323,14.6,5.861294,0.0,14.14,8.1],\"legendgroup\":\"\",\"lon\":[-34.9,-38.516667,-61.71667,-42.256021,-79.127686,-62.85,-43.235449,-61.083333,-53.612239,0.0,-17.93,-13.67],\"marker\":{\"color\":\"#636efa\",\"size\":[8.992806059426483,9.867031015525512,6.915723448631314,10.5057522366189,9.9572652582166,5.521460917862246,2.9444389791664403,7.260522598089852,6.194405391104672,6.184148890937483,5.726847747587197,8.791941988456118],\"sizemode\":\"area\",\"sizeref\":0.02718353458394048,\"symbol\":\"circle\"},\"mode\":\"markers\",\"name\":\"\",\"showlegend\":false,\"type\":\"scattergeo\"}],\"name\":\"1829\"},{\"data\":[{\"customdata\":[[3838.0],[586.0],[285.0],[4047.0],[3602.0],[642.0],[3308.0],[200.0],[12876.0],[175.0],[1987.0],[490.0],[95.0],[31078.0]],\"geo\":\"geo\",\"hovertemplate\":\"<b>%{hovertext}</b><br><br>Year voyage began=1830<br>normalized_sizes=%{marker.size}<br>Latitude=%{lat}<br>Longitude=%{lon}<br>Total slaves embarked imputed * (slaximp)=%{customdata[0]}<extra></extra>\",\"hovertext\":[\"Bahia\",\"Senegambia and offshore Atlantic\",\"Other Caribbean\",\"Pernambuco\",\"Sierra Leone\",\"Guadaloupe\",\"Americas\",\"Martinique\",\"Cuba\",\"Bahamas\",\"Amazonia\",\"Danish West Indies\",\"Gulf coast\",\"Southeast Brazil\"],\"lat\":[-12.983333,14.14,0.0,-8.05,8.1,16.0,0.0,14.6,23.115613,22.783937,-0.93323,18.0,29.8,-23.48894],\"legendgroup\":\"\",\"lon\":[-38.516667,-17.93,0.0,-34.9,-13.67,-61.71667,0.0,-61.083333,-79.127686,-74.303605,-43.235449,-64.9,-89.56,-42.256021],\"marker\":{\"color\":\"#636efa\",\"size\":[8.252706676567644,6.373319789577012,5.652489180268651,8.305731144875866,8.189244525735901,6.464588303689961,8.104099056143582,5.298317366548036,9.463120392418698,5.1647859739235145,7.594381242551817,6.194405391104672,4.553876891600541,10.34425545234668],\"sizemode\":\"area\",\"sizeref\":0.02718353458394048,\"symbol\":\"circle\"},\"mode\":\"markers\",\"name\":\"\",\"showlegend\":false,\"type\":\"scattergeo\"}],\"name\":\"1830\"},{\"data\":[{\"customdata\":[[307.0],[12352.0],[1385.0],[535.0],[3532.0],[179.0],[980.0]],\"geo\":\"geo\",\"hovertemplate\":\"<b>%{hovertext}</b><br><br>Year voyage began=1831<br>normalized_sizes=%{marker.size}<br>Latitude=%{lat}<br>Longitude=%{lon}<br>Total slaves embarked imputed * (slaximp)=%{customdata[0]}<extra></extra>\",\"hovertext\":[\"Guadaloupe\",\"Cuba\",\"Sierra Leone\",\"Americas\",\"Pernambuco\",\"Amazonia\",\"Bahia\"],\"lat\":[16.0,23.115613,8.1,0.0,-8.05,-0.93323,-12.983333],\"legendgroup\":\"\",\"lon\":[-61.71667,-79.127686,-13.67,0.0,-34.9,-43.235449,-38.516667],\"marker\":{\"color\":\"#636efa\",\"size\":[5.726847747587197,9.421573272264558,7.233455418621439,6.282266746896006,8.16961956172385,5.187385805840755,6.887552571664617],\"sizemode\":\"area\",\"sizeref\":0.02718353458394048,\"symbol\":\"circle\"},\"mode\":\"markers\",\"name\":\"\",\"showlegend\":false,\"type\":\"scattergeo\"}],\"name\":\"1831\"},{\"data\":[{\"customdata\":[[584.0],[1526.0],[432.0],[14904.0],[201.0],[980.0]],\"geo\":\"geo\",\"hovertemplate\":\"<b>%{hovertext}</b><br><br>Year voyage began=1832<br>normalized_sizes=%{marker.size}<br>Latitude=%{lat}<br>Longitude=%{lon}<br>Total slaves embarked imputed * (slaximp)=%{customdata[0]}<extra></extra>\",\"hovertext\":[\"Southeast Brazil\",\"Sierra Leone\",\"Bahamas\",\"Cuba\",\"Trinidad\",\"Pernambuco\"],\"lat\":[-23.48894,8.1,22.783937,23.115613,10.65,-8.05],\"legendgroup\":\"\",\"lon\":[-42.256021,-13.67,-74.303605,-79.127686,-61.516667,-34.9],\"marker\":{\"color\":\"#636efa\",\"size\":[6.369900982828227,7.330405211844402,6.068425588244111,9.609384912281424,5.303304908059076,6.887552571664617],\"sizemode\":\"area\",\"sizeref\":0.02718353458394048,\"symbol\":\"circle\"},\"mode\":\"markers\",\"name\":\"\",\"showlegend\":false,\"type\":\"scattergeo\"}],\"name\":\"1832\"},{\"data\":[{\"customdata\":[[303.0],[1709.0],[239.0],[1779.0],[16166.0],[1754.0],[794.0],[266.0]],\"geo\":\"geo\",\"hovertemplate\":\"<b>%{hovertext}</b><br><br>Year voyage began=1833<br>normalized_sizes=%{marker.size}<br>Latitude=%{lat}<br>Longitude=%{lon}<br>Total slaves embarked imputed * (slaximp)=%{customdata[0]}<extra></extra>\",\"hovertext\":[\"Jamaica\",\"Sierra Leone\",\"Bahamas\",\"Bahia\",\"Cuba\",\"Southeast Brazil\",\"Pernambuco\",\"Rio de la Plata\"],\"lat\":[17.881263,8.1,22.783937,-12.983333,23.115613,-23.48894,-8.05,-33.332605],\"legendgroup\":\"\",\"lon\":[-76.522778,-13.67,-74.303605,-38.516667,-79.127686,-42.256021,-34.9,-58.498255],\"marker\":{\"color\":\"#636efa\",\"size\":[5.713732805509369,7.443663683115591,5.476463551931511,7.483806687665835,9.69066555029379,7.469654172932128,6.677083461247136,5.583496308781699],\"sizemode\":\"area\",\"sizeref\":0.02718353458394048,\"symbol\":\"circle\"},\"mode\":\"markers\",\"name\":\"\",\"showlegend\":false,\"type\":\"scattergeo\"}],\"name\":\"1833\"},{\"data\":[{\"customdata\":[[833.0],[307.0],[4955.0],[255.0],[5295.0],[278.0],[184.0],[22186.0]],\"geo\":\"geo\",\"hovertemplate\":\"<b>%{hovertext}</b><br><br>Year voyage began=1834<br>normalized_sizes=%{marker.size}<br>Latitude=%{lat}<br>Longitude=%{lon}<br>Total slaves embarked imputed * (slaximp)=%{customdata[0]}<extra></extra>\",\"hovertext\":[\"Rio de la Plata\",\"Puerto Rico\",\"Southeast Brazil\",\"Bahia\",\"Sierra Leone\",\"Americas\",\"Bahamas\",\"Cuba\"],\"lat\":[-33.332605,18.420959,-23.48894,-12.983333,8.1,0.0,22.783937,23.115613],\"legendgroup\":\"\",\"lon\":[-58.498255,-66.070508,-42.256021,-38.516667,-13.67,0.0,-74.303605,-79.127686],\"marker\":{\"color\":\"#636efa\",\"size\":[6.725033642166843,5.726847747587197,8.508152446764088,5.541263545158426,8.574518258035507,5.627621113690637,5.214935757608986,10.007216738298604],\"sizemode\":\"area\",\"sizeref\":0.02718353458394048,\"symbol\":\"circle\"},\"mode\":\"markers\",\"name\":\"\",\"showlegend\":false,\"type\":\"scattergeo\"}],\"name\":\"1834\"},{\"data\":[{\"customdata\":[[26983.0],[751.0],[554.0],[295.0],[9326.0],[4562.0],[2036.0]],\"geo\":\"geo\",\"hovertemplate\":\"<b>%{hovertext}</b><br><br>Year voyage began=1835<br>normalized_sizes=%{marker.size}<br>Latitude=%{lat}<br>Longitude=%{lon}<br>Total slaves embarked imputed * (slaximp)=%{customdata[0]}<extra></extra>\",\"hovertext\":[\"Cuba\",\"Rio de la Plata\",\"Amazonia\",\"British Honduras\",\"Southeast Brazil\",\"Sierra Leone\",\"Bahia\"],\"lat\":[23.115613,-33.332605,-0.93323,15.79,-23.48894,8.1,-12.983333],\"legendgroup\":\"\",\"lon\":[-79.127686,-58.498255,-43.235449,-86.3,-42.256021,-13.67,-38.516667],\"marker\":{\"color\":\"#636efa\",\"size\":[10.20296231705686,6.621405651764134,6.317164686747284,5.68697535633982,9.140561477368266,8.425516402844334,7.618742377670413],\"sizemode\":\"area\",\"sizeref\":0.02718353458394048,\"symbol\":\"circle\"},\"mode\":\"markers\",\"name\":\"\",\"showlegend\":false,\"type\":\"scattergeo\"}],\"name\":\"1835\"},{\"data\":[{\"customdata\":[[324.0],[7611.0],[24696.0],[1536.0],[1302.0],[760.0],[208.0],[18668.0],[1151.0],[2337.0]],\"geo\":\"geo\",\"hovertemplate\":\"<b>%{hovertext}</b><br><br>Year voyage began=1836<br>normalized_sizes=%{marker.size}<br>Latitude=%{lat}<br>Longitude=%{lon}<br>Total slaves embarked imputed * (slaximp)=%{customdata[0]}<extra></extra>\",\"hovertext\":[\"Jamaica\",\"Sierra Leone\",\"Southeast Brazil\",\"Pernambuco\",\"Bahamas\",\"Americas\",\"British Honduras\",\"Cuba\",\"Grenada\",\"Bahia\"],\"lat\":[17.881263,8.1,-23.48894,-8.05,22.783937,0.0,15.79,23.115613,12.05,-12.983333],\"legendgroup\":\"\",\"lon\":[-76.522778,-13.67,-42.256021,-34.9,-74.303605,0.0,-86.3,-79.127686,-61.75,-38.516667],\"marker\":{\"color\":\"#636efa\",\"size\":[5.780743515792329,8.937349848267392,10.114396566181995,7.336936913707618,7.171656822768514,6.633318433280377,5.337538079701318,9.834566107069707,7.048386408721883,7.756623334538858],\"sizemode\":\"area\",\"sizeref\":0.02718353458394048,\"symbol\":\"circle\"},\"mode\":\"markers\",\"name\":\"\",\"showlegend\":false,\"type\":\"scattergeo\"}],\"name\":\"1836\"},{\"data\":[{\"customdata\":[[924.0],[439.0],[25047.0],[4057.0],[4511.0],[2108.0],[1020.0],[278.0],[42706.0],[489.0]],\"geo\":\"geo\",\"hovertemplate\":\"<b>%{hovertext}</b><br><br>Year voyage began=1837<br>normalized_sizes=%{marker.size}<br>Latitude=%{lat}<br>Longitude=%{lon}<br>Total slaves embarked imputed * (slaximp)=%{customdata[0]}<extra></extra>\",\"hovertext\":[\"Pernambuco\",\"Barbados\",\"Cuba\",\"Sierra Leone\",\"Bahia\",\"Bahamas\",\"Jamaica\",\"Puerto Rico\",\"Southeast Brazil\",\"Dominica\"],\"lat\":[-8.05,13.1,23.115613,8.1,-12.983333,22.783937,17.881263,18.420959,-23.48894,15.3],\"legendgroup\":\"\",\"lon\":[-34.9,-59.616667,-79.127686,-13.67,-38.516667,-74.303605,-76.522778,-66.070508,-42.256021,-61.4],\"marker\":{\"color\":\"#636efa\",\"size\":[6.828712071641684,6.0844994130751715,10.128509338862111,8.308199063206446,8.414274137408396,7.653494909661253,6.927557906278317,5.627621113690637,10.66209470456786,6.192362489474872],\"sizemode\":\"area\",\"sizeref\":0.02718353458394048,\"symbol\":\"circle\"},\"mode\":\"markers\",\"name\":\"\",\"showlegend\":false,\"type\":\"scattergeo\"}],\"name\":\"1837\"},{\"data\":[{\"customdata\":[[490.0],[305.0],[2777.0],[42440.0],[25243.0],[747.0],[307.0],[278.0],[138.0],[2853.0]],\"geo\":\"geo\",\"hovertemplate\":\"<b>%{hovertext}</b><br><br>Year voyage began=1838<br>normalized_sizes=%{marker.size}<br>Latitude=%{lat}<br>Longitude=%{lon}<br>Total slaves embarked imputed * (slaximp)=%{customdata[0]}<extra></extra>\",\"hovertext\":[\"Pernambuco\",\"British Honduras\",\"Sierra Leone\",\"Southeast Brazil\",\"Cuba\",\"Bahamas\",\"Danish West Indies\",\"Puerto Rico\",\"Amazonia\",\"Bahia\"],\"lat\":[-8.05,15.79,8.1,-23.48894,23.115613,22.783937,18.0,18.420959,-0.93323,-12.983333],\"legendgroup\":\"\",\"lon\":[-34.9,-86.3,-13.67,-42.256021,-79.127686,-74.303605,-64.9,-66.070508,-43.235449,-38.516667],\"marker\":{\"color\":\"#636efa\",\"size\":[6.194405391104672,5.720311776607412,7.9291264873067995,10.655846592727919,10.136304168546024,6.616065185132817,5.726847747587197,5.627621113690637,4.927253685157205,7.9561263512135],\"sizemode\":\"area\",\"sizeref\":0.02718353458394048,\"symbol\":\"circle\"},\"mode\":\"markers\",\"name\":\"\",\"showlegend\":false,\"type\":\"scattergeo\"}],\"name\":\"1838\"},{\"data\":[{\"customdata\":[[4572.0],[52755.0],[19034.0],[1392.0],[1138.0],[6517.0],[210.0],[289.0],[1500.0]],\"geo\":\"geo\",\"hovertemplate\":\"<b>%{hovertext}</b><br><br>Year voyage began=1839<br>normalized_sizes=%{marker.size}<br>Latitude=%{lat}<br>Longitude=%{lon}<br>Total slaves embarked imputed * (slaximp)=%{customdata[0]}<extra></extra>\",\"hovertext\":[\"Bahia\",\"Southeast Brazil\",\"Cuba\",\"Southeast Africa and Indian Ocean islands\",\"Jamaica\",\"Pernambuco\",\"Amazonia\",\"Americas\",\"Sierra Leone\"],\"lat\":[-12.983333,-23.48894,23.115613,-17.14,17.881263,-8.05,-0.93323,0.0,8.1],\"legendgroup\":\"\",\"lon\":[-38.516667,-42.256021,-79.127686,39.51,-76.522778,-34.9,-43.235449,0.0,-13.67],\"marker\":{\"color\":\"#636efa\",\"size\":[8.427706024914702,10.873413833576192,9.85398213263229,7.238496840894365,7.037027614686276,8.78216942633238,5.3471075307174685,5.666426688112432,7.313220387090301],\"sizemode\":\"area\",\"sizeref\":0.02718353458394048,\"symbol\":\"circle\"},\"mode\":\"markers\",\"name\":\"\",\"showlegend\":false,\"type\":\"scattergeo\"}],\"name\":\"1839\"},{\"data\":[{\"customdata\":[[8647.0],[26771.0],[1332.0],[2863.0],[1399.0],[247.0],[18259.0],[860.0],[18.0]],\"geo\":\"geo\",\"hovertemplate\":\"<b>%{hovertext}</b><br><br>Year voyage began=1840<br>normalized_sizes=%{marker.size}<br>Latitude=%{lat}<br>Longitude=%{lon}<br>Total slaves embarked imputed * (slaximp)=%{customdata[0]}<extra></extra>\",\"hovertext\":[\"Pernambuco\",\"Southeast Brazil\",\"Amazonia\",\"Bahia\",\"Puerto Rico\",\"West Central Africa and St. Helena\",\"Cuba\",\"Sierra Leone\",\"Southeast Africa and Indian Ocean islands\"],\"lat\":[-8.05,-23.48894,-0.93323,-12.983333,18.420959,-7.71,23.115613,8.1,-17.14],\"legendgroup\":\"\",\"lon\":[-34.9,-42.256021,-43.235449,-38.516667,-66.070508,11.19,-79.127686,-13.67,39.51],\"marker\":{\"color\":\"#636efa\",\"size\":[9.06496771896043,10.195074491065121,7.194436851100335,7.959625305098115,7.243512974665482,5.5093883366279774,9.812413388136733,6.756932389247553,2.8903717578961645],\"sizemode\":\"area\",\"sizeref\":0.02718353458394048,\"symbol\":\"circle\"},\"mode\":\"markers\",\"name\":\"\",\"showlegend\":false,\"type\":\"scattergeo\"}],\"name\":\"1840\"},{\"data\":[{\"customdata\":[[17407.0],[350.0],[18689.0],[1037.0],[291.0],[2549.0],[2194.0],[1462.0],[215.0],[4023.0]],\"geo\":\"geo\",\"hovertemplate\":\"<b>%{hovertext}</b><br><br>Year voyage began=1841<br>normalized_sizes=%{marker.size}<br>Latitude=%{lat}<br>Longitude=%{lon}<br>Total slaves embarked imputed * (slaximp)=%{customdata[0]}<extra></extra>\",\"hovertext\":[\"Cuba\",\"Southeast Africa and Indian Ocean islands\",\"Southeast Brazil\",\"Americas\",\"Sierra Leone\",\"Pernambuco\",\"Bahia\",\"Amazonia\",\"Bahamas\",\"West Central Africa and St. Helena\"],\"lat\":[23.115613,-17.14,-23.48894,0.0,8.1,-8.05,-12.983333,-0.93323,22.783937,-7.71],\"legendgroup\":\"\",\"lon\":[-79.127686,39.51,-42.256021,0.0,-13.67,-34.9,-38.516667,-43.235449,-74.303605,11.19],\"marker\":{\"color\":\"#636efa\",\"size\":[9.764627703152708,5.857933154483459,9.835690394470303,6.9440872082295275,5.673323267171493,7.8434564043761155,7.693481640835175,7.2875606403097235,5.3706380281276624,8.299783171949787],\"sizemode\":\"area\",\"sizeref\":0.02718353458394048,\"symbol\":\"circle\"},\"mode\":\"markers\",\"name\":\"\",\"showlegend\":false,\"type\":\"scattergeo\"}],\"name\":\"1841\"},{\"data\":[{\"customdata\":[[18380.0],[2006.0],[4151.0],[1647.0],[451.0],[1282.0],[377.0],[490.0],[6148.0],[797.0]],\"geo\":\"geo\",\"hovertemplate\":\"<b>%{hovertext}</b><br><br>Year voyage began=1842<br>normalized_sizes=%{marker.size}<br>Latitude=%{lat}<br>Longitude=%{lon}<br>Total slaves embarked imputed * (slaximp)=%{customdata[0]}<extra></extra>\",\"hovertext\":[\"Southeast Brazil\",\"West Central Africa and St. Helena\",\"Bahia\",\"Pernambuco\",\"Sierra Leone\",\"Americas\",\"British Guiana\",\"Puerto Rico\",\"Cuba\",\"Amazonia\"],\"lat\":[-23.48894,-7.71,-12.983333,-8.05,8.1,0.0,7.615531,18.420959,23.115613,-0.93323],\"legendgroup\":\"\",\"lon\":[-42.256021,11.19,-38.516667,-34.9,-13.67,0.0,-57.958937,-66.070508,-79.127686,-43.235449],\"marker\":{\"color\":\"#636efa\",\"size\":[9.819018395909678,7.603897968521881,8.33110454805304,7.4067107301776405,6.111467339502679,7.156176637480615,5.932245187448011,6.194405391104672,8.723882104658486,6.680854678790215],\"sizemode\":\"area\",\"sizeref\":0.02718353458394048,\"symbol\":\"circle\"},\"mode\":\"markers\",\"name\":\"\",\"showlegend\":false,\"type\":\"scattergeo\"}],\"name\":\"1842\"},{\"data\":[{\"customdata\":[[7353.0],[20121.0],[1010.0],[782.0],[3512.0],[2250.0],[1694.0]],\"geo\":\"geo\",\"hovertemplate\":\"<b>%{hovertext}</b><br><br>Year voyage began=1843<br>normalized_sizes=%{marker.size}<br>Latitude=%{lat}<br>Longitude=%{lon}<br>Total slaves embarked imputed * (slaximp)=%{customdata[0]}<extra></extra>\",\"hovertext\":[\"Cuba\",\"Southeast Brazil\",\"Pernambuco\",\"West Central Africa and St. Helena\",\"Bahia\",\"Southeast Africa and Indian Ocean islands\",\"Sierra Leone\"],\"lat\":[23.115613,-23.48894,-8.05,-7.71,-12.983333,-17.14,8.1],\"legendgroup\":\"\",\"lon\":[-79.127686,-42.256021,-34.9,11.19,-38.516667,39.51,-13.67],\"marker\":{\"color\":\"#636efa\",\"size\":[8.902863672196222,9.909519324767848,6.917705609835305,6.661854740545311,8.163940954755008,7.718685495198466,7.434847875211999],\"sizemode\":\"area\",\"sizeref\":0.02718353458394048,\"symbol\":\"circle\"},\"mode\":\"markers\",\"name\":\"\",\"showlegend\":false,\"type\":\"scattergeo\"}],\"name\":\"1843\"},{\"data\":[{\"customdata\":[[350.0],[490.0],[18848.0],[10547.0],[7187.0],[844.0],[332.0],[2160.0]],\"geo\":\"geo\",\"hovertemplate\":\"<b>%{hovertext}</b><br><br>Year voyage began=1844<br>normalized_sizes=%{marker.size}<br>Latitude=%{lat}<br>Longitude=%{lon}<br>Total slaves embarked imputed * (slaximp)=%{customdata[0]}<extra></extra>\",\"hovertext\":[\"Pernambuco\",\"Other North America\",\"Southeast Brazil\",\"Cuba\",\"Bahia\",\"West Central Africa and St. Helena\",\"Southeast Africa and Indian Ocean islands\",\"Sierra Leone\"],\"lat\":[-8.05,33.875649,-23.48894,23.115613,-12.983333,-7.71,-17.14,8.1],\"legendgroup\":\"\",\"lon\":[-34.9,-78.444029,-42.256021,-79.127686,-38.516667,11.19,39.51,-13.67],\"marker\":{\"color\":\"#636efa\",\"size\":[5.857933154483459,6.194405391104672,9.844162086451313,9.263596738276615,8.880029117468442,6.738152494595957,5.805134968916488,7.67786350067821],\"sizemode\":\"area\",\"sizeref\":0.02718353458394048,\"symbol\":\"circle\"},\"mode\":\"markers\",\"name\":\"\",\"showlegend\":false,\"type\":\"scattergeo\"}],\"name\":\"1844\"},{\"data\":[{\"customdata\":[[4173.0],[60.0],[22469.0],[3062.0],[2749.0],[1144.0],[1253.0],[490.0],[1213.0]],\"geo\":\"geo\",\"hovertemplate\":\"<b>%{hovertext}</b><br><br>Year voyage began=1845<br>normalized_sizes=%{marker.size}<br>Latitude=%{lat}<br>Longitude=%{lon}<br>Total slaves embarked imputed * (slaximp)=%{customdata[0]}<extra></extra>\",\"hovertext\":[\"Bahia\",\"Amazonia\",\"Southeast Brazil\",\"Sierra Leone\",\"Cuba\",\"West Central Africa and St. Helena\",\"Pernambuco\",\"Americas\",\"Windward Coast\"],\"lat\":[-12.983333,-0.93323,-23.48894,8.1,23.115613,-7.71,-8.05,0.0,4.0],\"legendgroup\":\"\",\"lon\":[-38.516667,-43.235449,-42.256021,-13.67,-79.127686,11.19,-34.9,0.0,-8.92],\"marker\":{\"color\":\"#636efa\",\"size\":[8.336390480591552,4.0943445622221,10.019891860406231,8.026823576217629,7.918992488165245,7.042286171939743,7.133295954896068,6.194405391104672,7.10085190894405],\"sizemode\":\"area\",\"sizeref\":0.02718353458394048,\"symbol\":\"circle\"},\"mode\":\"markers\",\"name\":\"\",\"showlegend\":false,\"type\":\"scattergeo\"}],\"name\":\"1845\"},{\"data\":[{\"customdata\":[[4053.0],[4.0],[458.0],[1835.0],[10634.0],[975.0],[556.0]],\"geo\":\"geo\",\"hovertemplate\":\"<b>%{hovertext}</b><br><br>Year voyage began=1846<br>normalized_sizes=%{marker.size}<br>Latitude=%{lat}<br>Longitude=%{lon}<br>Total slaves embarked imputed * (slaximp)=%{customdata[0]}<extra></extra>\",\"hovertext\":[\"Southeast Brazil\",\"Southeast Africa and Indian Ocean islands\",\"Cuba\",\"West Central Africa and St. Helena\",\"Bahia\",\"Pernambuco\",\"Sierra Leone\"],\"lat\":[-23.48894,-17.14,23.115613,-7.71,-12.983333,-8.05,8.1],\"legendgroup\":\"\",\"lon\":[-42.256021,39.51,-79.127686,11.19,-38.516667,-34.9,-13.67],\"marker\":{\"color\":\"#636efa\",\"size\":[8.307212626628308,1.3862943611198906,6.126869184114185,7.51479976048867,9.271811694064283,6.882437470997847,6.320768294250582],\"sizemode\":\"area\",\"sizeref\":0.02718353458394048,\"symbol\":\"circle\"},\"mode\":\"markers\",\"name\":\"\",\"showlegend\":false,\"type\":\"scattergeo\"}],\"name\":\"1846\"},{\"data\":[{\"customdata\":[[490.0],[317.0],[650.0],[8931.0],[5591.0],[1215.0],[1276.0],[214.0],[11020.0]],\"geo\":\"geo\",\"hovertemplate\":\"<b>%{hovertext}</b><br><br>Year voyage began=1847<br>normalized_sizes=%{marker.size}<br>Latitude=%{lat}<br>Longitude=%{lon}<br>Total slaves embarked imputed * (slaximp)=%{customdata[0]}<extra></extra>\",\"hovertext\":[\"Americas\",\"Southeast Africa and Indian Ocean islands\",\"West Central Africa and St. Helena\",\"Southeast Brazil\",\"Sierra Leone\",\"Pernambuco\",\"Cuba\",\"Peru\",\"Bahia\"],\"lat\":[0.0,-17.14,-7.71,-23.48894,8.1,-8.05,23.115613,0.0,-12.983333],\"legendgroup\":\"\",\"lon\":[0.0,39.51,11.19,-42.256021,-13.67,-34.9,-79.127686,0.0,-38.516667],\"marker\":{\"color\":\"#636efa\",\"size\":[6.194405391104672,5.75890177387728,6.476972362889683,9.097283649683886,8.628913441026645,7.102499355774649,7.151485463904735,5.365976015021851,9.307467082706905],\"sizemode\":\"area\",\"sizeref\":0.02718353458394048,\"symbol\":\"circle\"},\"mode\":\"markers\",\"name\":\"\",\"showlegend\":false,\"type\":\"scattergeo\"}],\"name\":\"1847\"},{\"data\":[{\"customdata\":[[34962.0],[8911.0],[490.0],[4799.0],[3533.0],[2337.0]],\"geo\":\"geo\",\"hovertemplate\":\"<b>%{hovertext}</b><br><br>Year voyage began=1848<br>normalized_sizes=%{marker.size}<br>Latitude=%{lat}<br>Longitude=%{lon}<br>Total slaves embarked imputed * (slaximp)=%{customdata[0]}<extra></extra>\",\"hovertext\":[\"Southeast Brazil\",\"Bahia\",\"Americas\",\"Sierra Leone\",\"West Central Africa and St. Helena\",\"Cuba\"],\"lat\":[-23.48894,-12.983333,0.0,8.1,-7.71,23.115613],\"legendgroup\":\"\",\"lon\":[-42.256021,-38.516667,0.0,-13.67,11.19,-79.127686],\"marker\":{\"color\":\"#636efa\",\"size\":[10.46201703637113,9.09504174761272,6.194405391104672,8.476162841858246,8.169902647359145,7.756623334538858],\"sizemode\":\"area\",\"sizeref\":0.02718353458394048,\"symbol\":\"circle\"},\"mode\":\"markers\",\"name\":\"\",\"showlegend\":false,\"type\":\"scattergeo\"}],\"name\":\"1848\"},{\"data\":[{\"customdata\":[[9675.0],[628.0],[1814.0],[3051.0],[8845.0],[50891.0]],\"geo\":\"geo\",\"hovertemplate\":\"<b>%{hovertext}</b><br><br>Year voyage began=1849<br>normalized_sizes=%{marker.size}<br>Latitude=%{lat}<br>Longitude=%{lon}<br>Total slaves embarked imputed * (slaximp)=%{customdata[0]}<extra></extra>\",\"hovertext\":[\"Bahia\",\"Americas\",\"Sierra Leone\",\"West Central Africa and St. Helena\",\"Cuba\",\"Southeast Brazil\"],\"lat\":[-12.983333,0.0,8.1,-7.71,23.115613,-23.48894],\"legendgroup\":\"\",\"lon\":[-38.516667,0.0,-13.67,11.19,-79.127686,-42.256021],\"marker\":{\"color\":\"#636efa\",\"size\":[9.177300517897983,6.4425401664681985,7.503289630675082,8.02322468471667,9.087607606593886,10.837441369615792],\"sizemode\":\"area\",\"sizeref\":0.02718353458394048,\"symbol\":\"circle\"},\"mode\":\"markers\",\"name\":\"\",\"showlegend\":false,\"type\":\"scattergeo\"}],\"name\":\"1849\"},{\"data\":[{\"customdata\":[[284.0],[4170.0],[21921.0],[2102.0],[2809.0],[94.0],[10115.0]],\"geo\":\"geo\",\"hovertemplate\":\"<b>%{hovertext}</b><br><br>Year voyage began=1850<br>normalized_sizes=%{marker.size}<br>Latitude=%{lat}<br>Longitude=%{lon}<br>Total slaves embarked imputed * (slaximp)=%{customdata[0]}<extra></extra>\",\"hovertext\":[\"Jamaica\",\"Cuba\",\"Southeast Brazil\",\"Sierra Leone\",\"West Central Africa and St. Helena\",\"Other British Caribbean\",\"Bahia\"],\"lat\":[17.881263,23.115613,-23.48894,8.1,-7.71,18.0,-12.983333],\"legendgroup\":\"\",\"lon\":[-76.522778,-79.127686,-42.256021,-13.67,11.19,-76.8,-38.516667],\"marker\":{\"color\":\"#636efa\",\"size\":[5.648974238161206,8.335671314792847,9.995200360459327,7.650644551436897,7.940583827104244,4.543294782270004,9.221774749601845],\"sizemode\":\"area\",\"sizeref\":0.02718353458394048,\"symbol\":\"circle\"},\"mode\":\"markers\",\"name\":\"\",\"showlegend\":false,\"type\":\"scattergeo\"}],\"name\":\"1850\"},{\"data\":[{\"customdata\":[[1642.0],[5352.0],[1146.0],[443.0],[9726.0]],\"geo\":\"geo\",\"hovertemplate\":\"<b>%{hovertext}</b><br><br>Year voyage began=1851<br>normalized_sizes=%{marker.size}<br>Latitude=%{lat}<br>Longitude=%{lon}<br>Total slaves embarked imputed * (slaximp)=%{customdata[0]}<extra></extra>\",\"hovertext\":[\"Pernambuco\",\"Southeast Brazil\",\"Bahia\",\"Sierra Leone\",\"Cuba\"],\"lat\":[-8.05,-23.48894,-12.983333,8.1,23.115613],\"legendgroup\":\"\",\"lon\":[-34.9,-42.256021,-38.516667,-13.67,-79.127686],\"marker\":{\"color\":\"#636efa\",\"size\":[7.403670290012373,8.585225601808064,7.044032897274685,6.093569770045136,9.182557990963732],\"sizemode\":\"area\",\"sizeref\":0.02718353458394048,\"symbol\":\"circle\"},\"mode\":\"markers\",\"name\":\"\",\"showlegend\":false,\"type\":\"scattergeo\"}],\"name\":\"1851\"}]);\n",
       "                        }).then(function(){\n",
       "                            \n",
       "var gd = document.getElementById('5eecc83b-bf9d-4428-83ac-b63dd5ec0842');\n",
       "var x = new MutationObserver(function (mutations, observer) {{\n",
       "        var display = window.getComputedStyle(gd).display;\n",
       "        if (!display || display === 'none') {{\n",
       "            console.log([gd, 'removed!']);\n",
       "            Plotly.purge(gd);\n",
       "            observer.disconnect();\n",
       "        }}\n",
       "}});\n",
       "\n",
       "// Listen for the removal of the full notebook cells\n",
       "var notebookContainer = gd.closest('#notebook-container');\n",
       "if (notebookContainer) {{\n",
       "    x.observe(notebookContainer, {childList: true});\n",
       "}}\n",
       "\n",
       "// Listen for the clearing of the current output cell\n",
       "var outputEl = gd.closest('.output');\n",
       "if (outputEl) {{\n",
       "    x.observe(outputEl, {childList: true});\n",
       "}}\n",
       "\n",
       "                        })                };                });            </script>        </div>"
      ]
     },
     "metadata": {},
     "output_type": "display_data"
    }
   ],
   "source": [
    "\"\"\"\n",
    "Constructs the URL dynamically using the above information from the dropdowns. We then drop the NaN values and sort by\n",
    "the years of the data\n",
    "\"\"\"\n",
    "\n",
    "latvar=re.sub(\"__[^_]*?$\",\"__latitude\",geo_vars[geo_drop.index(geo_emb.value)]) # regex for getting the latitude and longitude\n",
    "longvar=re.sub(\"__[^_]*?$\",\"__longitude\",geo_vars[geo_drop.index(geo_emb.value)])\n",
    "\n",
    "url = base_url + 'dataframes?selected_fields=' + ','.join([date_vars[date_drop.index(dates_emb.value)],latvar,longvar,geo_vars[geo_drop.index(geo_emb.value)],numeric_vars[numeric_drop.index(numeric_emb.value)]]) + '&' + date_vars[date_drop.index(dates_emb.value)] + '=' + str(yearslider_emb.value[0]) + ',' + str(yearslider_emb.value[1])\n",
    "r = requests.get(url, headers=headers)\n",
    "j = r.text\n",
    "df = pd.read_json(j)\n",
    "df = df.dropna()\n",
    "df = df.sort_values(by=[date_vars[date_drop.index(dates_emb.value)]])\n",
    "\n",
    "df2 = df.groupby([latvar, # combines data for duplicate geo and date vars. \n",
    "                  longvar,\n",
    "                  geo_vars[geo_drop.index(geo_emb.value)], \n",
    "                  date_vars[date_drop.index(dates_emb.value)]], as_index=False).sum()\n",
    "\n",
    "df2 = df2.rename({latvar: 'Latitude',  # rename the var names to the label names to be more descriptive\n",
    "                  longvar: 'Longitude', \n",
    "                  geo_vars[geo_drop.index(geo_emb.value)]: geo_emb.value,\n",
    "                  numeric_vars[numeric_drop.index(numeric_emb.value)] : numeric_emb.value,\n",
    "                  date_vars[date_drop.index(dates_emb.value)]: dates_emb.value, \n",
    "                 }, axis=1)\n",
    "\n",
    "df2 = df2.assign(normalized_sizes = np.log(df2[numeric_emb.value])) # normalize sizes to accommodate various data points\n",
    "\n",
    "df2 = df2.sort_values(by=dates_emb.value) \n",
    "fig = px.scatter_geo(df2, lon = 'Longitude', # constructs the bubble map \n",
    "                     lat = 'Latitude',\n",
    "                     title = '%s - by - %s' %(numeric_emb.value,geo_emb.value),\n",
    "                     hover_name = geo_emb.value,\n",
    "                     animation_frame = dates_emb.value,\n",
    "                     size = 'normalized_sizes',\n",
    "                     hover_data = [numeric_emb.value])\n",
    "fig.show()"
   ]
  },
  {
   "cell_type": "code",
   "execution_count": 9,
   "id": "d304aaa8",
   "metadata": {
    "scrolled": false
   },
   "outputs": [
    {
     "data": {
      "application/vnd.plotly.v1+json": {
       "config": {
        "plotlyServerURL": "https://plot.ly"
       },
       "data": [
        {
         "alignmentgroup": "True",
         "hovertemplate": "Imputed principal place of slave purchase (MJBYPTIMP)=Luanda<br>Year of arrival at second place of landing (DATARR37,36,38)=%{x}<br>Total slaves disembarked imputed * (SLAMIMP)=%{y}<extra></extra>",
         "legendgroup": "Luanda",
         "marker": {
          "color": "#636efa",
          "pattern": {
           "shape": ""
          }
         },
         "name": "Luanda",
         "offsetgroup": "Luanda",
         "orientation": "v",
         "showlegend": true,
         "textposition": "auto",
         "type": "bar",
         "x": [
          1605,
          1608,
          1609,
          1610,
          1611,
          1612,
          1613,
          1614,
          1615,
          1617,
          1618,
          1619,
          1620,
          1621,
          1622,
          1624,
          1625,
          1631,
          1637,
          1638,
          1664,
          1754
         ],
         "xaxis": "x",
         "y": [
          581,
          533,
          331,
          1225,
          874,
          1144,
          862,
          289,
          574,
          614,
          297,
          631,
          664,
          3348,
          662,
          271,
          599,
          862,
          574,
          297,
          320,
          351
         ],
         "yaxis": "y"
        },
        {
         "alignmentgroup": "True",
         "hovertemplate": "Imputed principal place of slave purchase (MJBYPTIMP)=West Central Africa and St. Helena, port unspecified<br>Year of arrival at second place of landing (DATARR37,36,38)=%{x}<br>Total slaves disembarked imputed * (SLAMIMP)=%{y}<extra></extra>",
         "legendgroup": "West Central Africa and St. Helena, port unspecified",
         "marker": {
          "color": "#EF553B",
          "pattern": {
           "shape": ""
          }
         },
         "name": "West Central Africa and St. Helena, port unspecified",
         "offsetgroup": "West Central Africa and St. Helena, port unspecified",
         "orientation": "v",
         "showlegend": true,
         "textposition": "auto",
         "type": "bar",
         "x": [
          1605,
          1610,
          1621,
          1631,
          1638,
          1667,
          1683,
          1721,
          1730,
          1734,
          1735,
          1736,
          1737,
          1742,
          1752,
          1758,
          1763,
          1765,
          1767,
          1768
         ],
         "xaxis": "x",
         "y": [
          314,
          339,
          336,
          301,
          297,
          391,
          124,
          200,
          233,
          373,
          351,
          1080,
          250,
          20,
          188,
          381,
          287,
          1019,
          283,
          179
         ],
         "yaxis": "y"
        },
        {
         "alignmentgroup": "True",
         "hovertemplate": "Imputed principal place of slave purchase (MJBYPTIMP)=São Tomé<br>Year of arrival at second place of landing (DATARR37,36,38)=%{x}<br>Total slaves disembarked imputed * (SLAMIMP)=%{y}<extra></extra>",
         "legendgroup": "São Tomé",
         "marker": {
          "color": "#00cc96",
          "pattern": {
           "shape": ""
          }
         },
         "name": "São Tomé",
         "offsetgroup": "São Tomé",
         "orientation": "v",
         "showlegend": true,
         "textposition": "auto",
         "type": "bar",
         "x": [
          1608,
          1611,
          1628
         ],
         "xaxis": "x",
         "y": [
          331,
          290,
          272
         ],
         "yaxis": "y"
        },
        {
         "alignmentgroup": "True",
         "hovertemplate": "Imputed principal place of slave purchase (MJBYPTIMP)=Africa., port unspecified<br>Year of arrival at second place of landing (DATARR37,36,38)=%{x}<br>Total slaves disembarked imputed * (SLAMIMP)=%{y}<extra></extra>",
         "legendgroup": "Africa., port unspecified",
         "marker": {
          "color": "#ab63fa",
          "pattern": {
           "shape": ""
          }
         },
         "name": "Africa., port unspecified",
         "offsetgroup": "Africa., port unspecified",
         "orientation": "v",
         "showlegend": true,
         "textposition": "auto",
         "type": "bar",
         "x": [
          1611,
          1624,
          1664,
          1683,
          1697,
          1701,
          1702,
          1708,
          1709,
          1713,
          1714,
          1717,
          1718,
          1719,
          1720,
          1723,
          1724,
          1725,
          1726,
          1728,
          1729,
          1731,
          1732,
          1733,
          1734,
          1737,
          1738,
          1740,
          1741,
          1744,
          1746,
          1747,
          1755,
          1760,
          1762,
          1763,
          1764,
          1765,
          1766
         ],
         "xaxis": "x",
         "y": [
          299,
          303,
          405,
          195,
          195,
          482,
          370,
          297,
          499,
          240,
          376,
          199,
          552,
          42,
          169,
          348,
          558,
          516,
          610,
          310,
          859,
          478,
          217,
          625,
          643,
          112,
          217,
          501,
          197,
          434,
          138,
          100,
          184,
          76,
          50,
          131,
          141,
          200,
          287
         ],
         "yaxis": "y"
        },
        {
         "alignmentgroup": "True",
         "hovertemplate": "Imputed principal place of slave purchase (MJBYPTIMP)=Cacheu<br>Year of arrival at second place of landing (DATARR37,36,38)=%{x}<br>Total slaves disembarked imputed * (SLAMIMP)=%{y}<extra></extra>",
         "legendgroup": "Cacheu",
         "marker": {
          "color": "#FFA15A",
          "pattern": {
           "shape": ""
          }
         },
         "name": "Cacheu",
         "offsetgroup": "Cacheu",
         "orientation": "v",
         "showlegend": true,
         "textposition": "auto",
         "type": "bar",
         "x": [
          1612
         ],
         "xaxis": "x",
         "y": [
          313
         ],
         "yaxis": "y"
        },
        {
         "alignmentgroup": "True",
         "hovertemplate": "Imputed principal place of slave purchase (MJBYPTIMP)=Prize (taken from Portuguese)<br>Year of arrival at second place of landing (DATARR37,36,38)=%{x}<br>Total slaves disembarked imputed * (SLAMIMP)=%{y}<extra></extra>",
         "legendgroup": "Prize (taken from Portuguese)",
         "marker": {
          "color": "#19d3f3",
          "pattern": {
           "shape": ""
          }
         },
         "name": "Prize (taken from Portuguese)",
         "offsetgroup": "Prize (taken from Portuguese)",
         "orientation": "v",
         "showlegend": true,
         "textposition": "auto",
         "type": "bar",
         "x": [
          1619
         ],
         "xaxis": "x",
         "y": [
          29
         ],
         "yaxis": "y"
        },
        {
         "alignmentgroup": "True",
         "hovertemplate": "Imputed principal place of slave purchase (MJBYPTIMP)=Calabar<br>Year of arrival at second place of landing (DATARR37,36,38)=%{x}<br>Total slaves disembarked imputed * (SLAMIMP)=%{y}<extra></extra>",
         "legendgroup": "Calabar",
         "marker": {
          "color": "#FF6692",
          "pattern": {
           "shape": ""
          }
         },
         "name": "Calabar",
         "offsetgroup": "Calabar",
         "orientation": "v",
         "showlegend": true,
         "textposition": "auto",
         "type": "bar",
         "x": [
          1625,
          1664,
          1682,
          1701,
          1707,
          1716,
          1718,
          1719,
          1720,
          1725,
          1726,
          1732,
          1733,
          1744,
          1764,
          1767
         ],
         "xaxis": "x",
         "y": [
          282,
          159,
          114,
          234,
          290,
          211,
          418,
          73,
          102,
          173,
          484,
          211,
          283,
          763,
          210,
          239
         ],
         "yaxis": "y"
        },
        {
         "alignmentgroup": "True",
         "hovertemplate": "Imputed principal place of slave purchase (MJBYPTIMP)=Ardra<br>Year of arrival at second place of landing (DATARR37,36,38)=%{x}<br>Total slaves disembarked imputed * (SLAMIMP)=%{y}<extra></extra>",
         "legendgroup": "Ardra",
         "marker": {
          "color": "#B6E880",
          "pattern": {
           "shape": ""
          }
         },
         "name": "Ardra",
         "offsetgroup": "Ardra",
         "orientation": "v",
         "showlegend": true,
         "textposition": "auto",
         "type": "bar",
         "x": [
          1653,
          1657,
          1659,
          1664,
          1667,
          1669
         ],
         "xaxis": "x",
         "y": [
          623,
          290,
          220,
          282,
          291,
          1054
         ],
         "yaxis": "y"
        },
        {
         "alignmentgroup": "True",
         "hovertemplate": "Imputed principal place of slave purchase (MJBYPTIMP)=River del Rey<br>Year of arrival at second place of landing (DATARR37,36,38)=%{x}<br>Total slaves disembarked imputed * (SLAMIMP)=%{y}<extra></extra>",
         "legendgroup": "River del Rey",
         "marker": {
          "color": "#FF97FF",
          "pattern": {
           "shape": ""
          }
         },
         "name": "River del Rey",
         "offsetgroup": "River del Rey",
         "orientation": "v",
         "showlegend": true,
         "textposition": "auto",
         "type": "bar",
         "x": [
          1654
         ],
         "xaxis": "x",
         "y": [
          56
         ],
         "yaxis": "y"
        },
        {
         "alignmentgroup": "True",
         "hovertemplate": "Imputed principal place of slave purchase (MJBYPTIMP)=Whydah<br>Year of arrival at second place of landing (DATARR37,36,38)=%{x}<br>Total slaves disembarked imputed * (SLAMIMP)=%{y}<extra></extra>",
         "legendgroup": "Whydah",
         "marker": {
          "color": "#FECB52",
          "pattern": {
           "shape": ""
          }
         },
         "name": "Whydah",
         "offsetgroup": "Whydah",
         "orientation": "v",
         "showlegend": true,
         "textposition": "auto",
         "type": "bar",
         "x": [
          1659,
          1700,
          1701,
          1704,
          1705,
          1706,
          1711,
          1713,
          1714,
          1715,
          1716,
          1717,
          1718,
          1719,
          1721,
          1722,
          1723,
          1726,
          1727,
          1728,
          1729,
          1736,
          1751,
          1752,
          1758
         ],
         "xaxis": "x",
         "y": [
          207,
          565,
          495,
          833,
          435,
          315,
          360,
          1275,
          544,
          249,
          974,
          305,
          267,
          298,
          229,
          128,
          290,
          440,
          80,
          295,
          341,
          326,
          310,
          196,
          313
         ],
         "yaxis": "y"
        },
        {
         "alignmentgroup": "True",
         "hovertemplate": "Imputed principal place of slave purchase (MJBYPTIMP)=Loango<br>Year of arrival at second place of landing (DATARR37,36,38)=%{x}<br>Total slaves disembarked imputed * (SLAMIMP)=%{y}<extra></extra>",
         "legendgroup": "Loango",
         "marker": {
          "color": "#636efa",
          "pattern": {
           "shape": ""
          }
         },
         "name": "Loango",
         "offsetgroup": "Loango",
         "orientation": "v",
         "showlegend": true,
         "textposition": "auto",
         "type": "bar",
         "x": [
          1664,
          1665,
          1670,
          1672,
          1733,
          1740,
          1747
         ],
         "xaxis": "x",
         "y": [
          348,
          391,
          291,
          404,
          488,
          384,
          199
         ],
         "yaxis": "y"
        },
        {
         "alignmentgroup": "True",
         "hovertemplate": "Imputed principal place of slave purchase (MJBYPTIMP)=Curaçao<br>Year of arrival at second place of landing (DATARR37,36,38)=%{x}<br>Total slaves disembarked imputed * (SLAMIMP)=%{y}<extra></extra>",
         "legendgroup": "Curaçao",
         "marker": {
          "color": "#EF553B",
          "pattern": {
           "shape": ""
          }
         },
         "name": "Curaçao",
         "offsetgroup": "Curaçao",
         "orientation": "v",
         "showlegend": true,
         "textposition": "auto",
         "type": "bar",
         "x": [
          1664,
          1673
         ],
         "xaxis": "x",
         "y": [
          502,
          760
         ],
         "yaxis": "y"
        },
        {
         "alignmentgroup": "True",
         "hovertemplate": "Imputed principal place of slave purchase (MJBYPTIMP)=New Calabar<br>Year of arrival at second place of landing (DATARR37,36,38)=%{x}<br>Total slaves disembarked imputed * (SLAMIMP)=%{y}<extra></extra>",
         "legendgroup": "New Calabar",
         "marker": {
          "color": "#00cc96",
          "pattern": {
           "shape": ""
          }
         },
         "name": "New Calabar",
         "offsetgroup": "New Calabar",
         "orientation": "v",
         "showlegend": true,
         "textposition": "auto",
         "type": "bar",
         "x": [
          1669,
          1680,
          1683
         ],
         "xaxis": "x",
         "y": [
          191,
          174,
          24
         ],
         "yaxis": "y"
        },
        {
         "alignmentgroup": "True",
         "hovertemplate": "Imputed principal place of slave purchase (MJBYPTIMP)=Bight of Benin, port unspecified<br>Year of arrival at second place of landing (DATARR37,36,38)=%{x}<br>Total slaves disembarked imputed * (SLAMIMP)=%{y}<extra></extra>",
         "legendgroup": "Bight of Benin, port unspecified",
         "marker": {
          "color": "#ab63fa",
          "pattern": {
           "shape": ""
          }
         },
         "name": "Bight of Benin, port unspecified",
         "offsetgroup": "Bight of Benin, port unspecified",
         "orientation": "v",
         "showlegend": true,
         "textposition": "auto",
         "type": "bar",
         "x": [
          1671,
          1686
         ],
         "xaxis": "x",
         "y": [
          291,
          307
         ],
         "yaxis": "y"
        },
        {
         "alignmentgroup": "True",
         "hovertemplate": "Imputed principal place of slave purchase (MJBYPTIMP)=Cape Coast Castle<br>Year of arrival at second place of landing (DATARR37,36,38)=%{x}<br>Total slaves disembarked imputed * (SLAMIMP)=%{y}<extra></extra>",
         "legendgroup": "Cape Coast Castle",
         "marker": {
          "color": "#FFA15A",
          "pattern": {
           "shape": ""
          }
         },
         "name": "Cape Coast Castle",
         "offsetgroup": "Cape Coast Castle",
         "orientation": "v",
         "showlegend": true,
         "textposition": "auto",
         "type": "bar",
         "x": [
          1678,
          1709,
          1711,
          1763
         ],
         "xaxis": "x",
         "y": [
          372,
          104,
          161,
          297
         ],
         "yaxis": "y"
        },
        {
         "alignmentgroup": "True",
         "hovertemplate": "Imputed principal place of slave purchase (MJBYPTIMP)=Bonny<br>Year of arrival at second place of landing (DATARR37,36,38)=%{x}<br>Total slaves disembarked imputed * (SLAMIMP)=%{y}<extra></extra>",
         "legendgroup": "Bonny",
         "marker": {
          "color": "#19d3f3",
          "pattern": {
           "shape": ""
          }
         },
         "name": "Bonny",
         "offsetgroup": "Bonny",
         "orientation": "v",
         "showlegend": true,
         "textposition": "auto",
         "type": "bar",
         "x": [
          1679,
          1725,
          1732,
          1744,
          1751,
          1763,
          1765,
          1768
         ],
         "xaxis": "x",
         "y": [
          180,
          201,
          252,
          209,
          168,
          410,
          350,
          190
         ],
         "yaxis": "y"
        },
        {
         "alignmentgroup": "True",
         "hovertemplate": "Imputed principal place of slave purchase (MJBYPTIMP)=Bight of Biafra and Gulf of Guinea Islands, port unspecified<br>Year of arrival at second place of landing (DATARR37,36,38)=%{x}<br>Total slaves disembarked imputed * (SLAMIMP)=%{y}<extra></extra>",
         "legendgroup": "Bight of Biafra and Gulf of Guinea Islands, port unspecified",
         "marker": {
          "color": "#FF6692",
          "pattern": {
           "shape": ""
          }
         },
         "name": "Bight of Biafra and Gulf of Guinea Islands, port unspecified",
         "offsetgroup": "Bight of Biafra and Gulf of Guinea Islands, port unspecified",
         "orientation": "v",
         "showlegend": true,
         "textposition": "auto",
         "type": "bar",
         "x": [
          1680,
          1699,
          1723,
          1731,
          1740,
          1750
         ],
         "xaxis": "x",
         "y": [
          144,
          260,
          209,
          171,
          197,
          209
         ],
         "yaxis": "y"
        },
        {
         "alignmentgroup": "True",
         "hovertemplate": "Imputed principal place of slave purchase (MJBYPTIMP)=Madagascar<br>Year of arrival at second place of landing (DATARR37,36,38)=%{x}<br>Total slaves disembarked imputed * (SLAMIMP)=%{y}<extra></extra>",
         "legendgroup": "Madagascar",
         "marker": {
          "color": "#B6E880",
          "pattern": {
           "shape": ""
          }
         },
         "name": "Madagascar",
         "offsetgroup": "Madagascar",
         "orientation": "v",
         "showlegend": true,
         "textposition": "auto",
         "type": "bar",
         "x": [
          1684,
          1685,
          1722
         ],
         "xaxis": "x",
         "y": [
          217,
          166,
          120
         ],
         "yaxis": "y"
        },
        {
         "alignmentgroup": "True",
         "hovertemplate": "Imputed principal place of slave purchase (MJBYPTIMP)=Soyo<br>Year of arrival at second place of landing (DATARR37,36,38)=%{x}<br>Total slaves disembarked imputed * (SLAMIMP)=%{y}<extra></extra>",
         "legendgroup": "Soyo",
         "marker": {
          "color": "#FF97FF",
          "pattern": {
           "shape": ""
          }
         },
         "name": "Soyo",
         "offsetgroup": "Soyo",
         "orientation": "v",
         "showlegend": true,
         "textposition": "auto",
         "type": "bar",
         "x": [
          1685
         ],
         "xaxis": "x",
         "y": [
          114
         ],
         "yaxis": "y"
        },
        {
         "alignmentgroup": "True",
         "hovertemplate": "Imputed principal place of slave purchase (MJBYPTIMP)=Gambia<br>Year of arrival at second place of landing (DATARR37,36,38)=%{x}<br>Total slaves disembarked imputed * (SLAMIMP)=%{y}<extra></extra>",
         "legendgroup": "Gambia",
         "marker": {
          "color": "#FECB52",
          "pattern": {
           "shape": ""
          }
         },
         "name": "Gambia",
         "offsetgroup": "Gambia",
         "orientation": "v",
         "showlegend": true,
         "textposition": "auto",
         "type": "bar",
         "x": [
          1686,
          1723,
          1724,
          1731,
          1732,
          1734,
          1736,
          1737,
          1746,
          1765,
          1766
         ],
         "xaxis": "x",
         "y": [
          187,
          90,
          122,
          183,
          357,
          100,
          369,
          183,
          250,
          150,
          149
         ],
         "yaxis": "y"
        },
        {
         "alignmentgroup": "True",
         "hovertemplate": "Imputed principal place of slave purchase (MJBYPTIMP)=Barbados, port unspecified<br>Year of arrival at second place of landing (DATARR37,36,38)=%{x}<br>Total slaves disembarked imputed * (SLAMIMP)=%{y}<extra></extra>",
         "legendgroup": "Barbados, port unspecified",
         "marker": {
          "color": "#636efa",
          "pattern": {
           "shape": ""
          }
         },
         "name": "Barbados, port unspecified",
         "offsetgroup": "Barbados, port unspecified",
         "orientation": "v",
         "showlegend": true,
         "textposition": "auto",
         "type": "bar",
         "x": [
          1702,
          1722,
          1729,
          1742,
          1743,
          1746,
          1749,
          1768
         ],
         "xaxis": "x",
         "y": [
          6,
          17,
          90,
          17,
          13,
          90,
          155,
          257
         ],
         "yaxis": "y"
        },
        {
         "alignmentgroup": "True",
         "hovertemplate": "Imputed principal place of slave purchase (MJBYPTIMP)=Gold Coast, port unspecified<br>Year of arrival at second place of landing (DATARR37,36,38)=%{x}<br>Total slaves disembarked imputed * (SLAMIMP)=%{y}<extra></extra>",
         "legendgroup": "Gold Coast, port unspecified",
         "marker": {
          "color": "#EF553B",
          "pattern": {
           "shape": ""
          }
         },
         "name": "Gold Coast, port unspecified",
         "offsetgroup": "Gold Coast, port unspecified",
         "orientation": "v",
         "showlegend": true,
         "textposition": "auto",
         "type": "bar",
         "x": [
          1708,
          1709,
          1717,
          1736,
          1739,
          1754,
          1767
         ],
         "xaxis": "x",
         "y": [
          274,
          284,
          251,
          69,
          416,
          287,
          200
         ],
         "yaxis": "y"
        },
        {
         "alignmentgroup": "True",
         "hovertemplate": "Imputed principal place of slave purchase (MJBYPTIMP)=Sherbro<br>Year of arrival at second place of landing (DATARR37,36,38)=%{x}<br>Total slaves disembarked imputed * (SLAMIMP)=%{y}<extra></extra>",
         "legendgroup": "Sherbro",
         "marker": {
          "color": "#00cc96",
          "pattern": {
           "shape": ""
          }
         },
         "name": "Sherbro",
         "offsetgroup": "Sherbro",
         "orientation": "v",
         "showlegend": true,
         "textposition": "auto",
         "type": "bar",
         "x": [
          1708
         ],
         "xaxis": "x",
         "y": [
          75
         ],
         "yaxis": "y"
        },
        {
         "alignmentgroup": "True",
         "hovertemplate": "Imputed principal place of slave purchase (MJBYPTIMP)=Jamaica, port unspecified<br>Year of arrival at second place of landing (DATARR37,36,38)=%{x}<br>Total slaves disembarked imputed * (SLAMIMP)=%{y}<extra></extra>",
         "legendgroup": "Jamaica, port unspecified",
         "marker": {
          "color": "#ab63fa",
          "pattern": {
           "shape": ""
          }
         },
         "name": "Jamaica, port unspecified",
         "offsetgroup": "Jamaica, port unspecified",
         "orientation": "v",
         "showlegend": true,
         "textposition": "auto",
         "type": "bar",
         "x": [
          1709,
          1710,
          1711,
          1717,
          1727,
          1728,
          1729,
          1730,
          1734,
          1743,
          1744
         ],
         "xaxis": "x",
         "y": [
          117,
          66,
          58,
          43,
          8,
          98,
          70,
          274,
          32,
          117,
          8
         ],
         "yaxis": "y"
        },
        {
         "alignmentgroup": "True",
         "hovertemplate": "Imputed principal place of slave purchase (MJBYPTIMP)=Cape Lahou<br>Year of arrival at second place of landing (DATARR37,36,38)=%{x}<br>Total slaves disembarked imputed * (SLAMIMP)=%{y}<extra></extra>",
         "legendgroup": "Cape Lahou",
         "marker": {
          "color": "#FFA15A",
          "pattern": {
           "shape": ""
          }
         },
         "name": "Cape Lahou",
         "offsetgroup": "Cape Lahou",
         "orientation": "v",
         "showlegend": true,
         "textposition": "auto",
         "type": "bar",
         "x": [
          1709,
          1742,
          1757,
          1762
         ],
         "xaxis": "x",
         "y": [
          210,
          174,
          283,
          298
         ],
         "yaxis": "y"
        },
        {
         "alignmentgroup": "True",
         "hovertemplate": "Imputed principal place of slave purchase (MJBYPTIMP)=Saint-Louis<br>Year of arrival at second place of landing (DATARR37,36,38)=%{x}<br>Total slaves disembarked imputed * (SLAMIMP)=%{y}<extra></extra>",
         "legendgroup": "Saint-Louis",
         "marker": {
          "color": "#19d3f3",
          "pattern": {
           "shape": ""
          }
         },
         "name": "Saint-Louis",
         "offsetgroup": "Saint-Louis",
         "orientation": "v",
         "showlegend": true,
         "textposition": "auto",
         "type": "bar",
         "x": [
          1712,
          1714,
          1727,
          1728,
          1740,
          1759
         ],
         "xaxis": "x",
         "y": [
          245,
          233,
          326,
          273,
          326,
          50
         ],
         "yaxis": "y"
        },
        {
         "alignmentgroup": "True",
         "hovertemplate": "Imputed principal place of slave purchase (MJBYPTIMP)=Sierra Leone estuary<br>Year of arrival at second place of landing (DATARR37,36,38)=%{x}<br>Total slaves disembarked imputed * (SLAMIMP)=%{y}<extra></extra>",
         "legendgroup": "Sierra Leone estuary",
         "marker": {
          "color": "#FF6692",
          "pattern": {
           "shape": ""
          }
         },
         "name": "Sierra Leone estuary",
         "offsetgroup": "Sierra Leone estuary",
         "orientation": "v",
         "showlegend": true,
         "textposition": "auto",
         "type": "bar",
         "x": [
          1714,
          1726,
          1750,
          1755,
          1764,
          1765
         ],
         "xaxis": "x",
         "y": [
          108,
          174,
          150,
          190,
          144,
          96
         ],
         "yaxis": "y"
        },
        {
         "alignmentgroup": "True",
         "hovertemplate": "Imputed principal place of slave purchase (MJBYPTIMP)=Malembo<br>Year of arrival at second place of landing (DATARR37,36,38)=%{x}<br>Total slaves disembarked imputed * (SLAMIMP)=%{y}<extra></extra>",
         "legendgroup": "Malembo",
         "marker": {
          "color": "#B6E880",
          "pattern": {
           "shape": ""
          }
         },
         "name": "Malembo",
         "offsetgroup": "Malembo",
         "orientation": "v",
         "showlegend": true,
         "textposition": "auto",
         "type": "bar",
         "x": [
          1714,
          1737,
          1756,
          1765,
          1768
         ],
         "xaxis": "x",
         "y": [
          234,
          495,
          599,
          294,
          301
         ],
         "yaxis": "y"
        },
        {
         "alignmentgroup": "True",
         "hovertemplate": "Imputed principal place of slave purchase (MJBYPTIMP)=Cabinda<br>Year of arrival at second place of landing (DATARR37,36,38)=%{x}<br>Total slaves disembarked imputed * (SLAMIMP)=%{y}<extra></extra>",
         "legendgroup": "Cabinda",
         "marker": {
          "color": "#FF97FF",
          "pattern": {
           "shape": ""
          }
         },
         "name": "Cabinda",
         "offsetgroup": "Cabinda",
         "orientation": "v",
         "showlegend": true,
         "textposition": "auto",
         "type": "bar",
         "x": [
          1716,
          1722,
          1723,
          1732,
          1733,
          1736,
          1738,
          1744,
          1751,
          1768
         ],
         "xaxis": "x",
         "y": [
          407,
          214,
          271,
          362,
          294,
          320,
          535,
          425,
          419,
          374
         ],
         "yaxis": "y"
        },
        {
         "alignmentgroup": "True",
         "hovertemplate": "Imputed principal place of slave purchase (MJBYPTIMP)=Jacquin<br>Year of arrival at second place of landing (DATARR37,36,38)=%{x}<br>Total slaves disembarked imputed * (SLAMIMP)=%{y}<extra></extra>",
         "legendgroup": "Jacquin",
         "marker": {
          "color": "#FECB52",
          "pattern": {
           "shape": ""
          }
         },
         "name": "Jacquin",
         "offsetgroup": "Jacquin",
         "orientation": "v",
         "showlegend": true,
         "textposition": "auto",
         "type": "bar",
         "x": [
          1716,
          1729
         ],
         "xaxis": "x",
         "y": [
          543,
          300
         ],
         "yaxis": "y"
        },
        {
         "alignmentgroup": "True",
         "hovertemplate": "Imputed principal place of slave purchase (MJBYPTIMP)=Anomabu<br>Year of arrival at second place of landing (DATARR37,36,38)=%{x}<br>Total slaves disembarked imputed * (SLAMIMP)=%{y}<extra></extra>",
         "legendgroup": "Anomabu",
         "marker": {
          "color": "#636efa",
          "pattern": {
           "shape": ""
          }
         },
         "name": "Anomabu",
         "offsetgroup": "Anomabu",
         "orientation": "v",
         "showlegend": true,
         "textposition": "auto",
         "type": "bar",
         "x": [
          1717,
          1718,
          1729,
          1732,
          1736,
          1741,
          1753,
          1763,
          1766
         ],
         "xaxis": "x",
         "y": [
          244,
          261,
          219,
          193,
          279,
          99,
          110,
          61,
          189
         ],
         "yaxis": "y"
        },
        {
         "alignmentgroup": "True",
         "hovertemplate": "Imputed principal place of slave purchase (MJBYPTIMP)=Bance Island (Ben's Island)<br>Year of arrival at second place of landing (DATARR37,36,38)=%{x}<br>Total slaves disembarked imputed * (SLAMIMP)=%{y}<extra></extra>",
         "legendgroup": "Bance Island (Ben's Island)",
         "marker": {
          "color": "#EF553B",
          "pattern": {
           "shape": ""
          }
         },
         "name": "Bance Island (Ben's Island)",
         "offsetgroup": "Bance Island (Ben's Island)",
         "orientation": "v",
         "showlegend": true,
         "textposition": "auto",
         "type": "bar",
         "x": [
          1718
         ],
         "xaxis": "x",
         "y": [
          117
         ],
         "yaxis": "y"
        },
        {
         "alignmentgroup": "True",
         "hovertemplate": "Imputed principal place of slave purchase (MJBYPTIMP)=Gorée<br>Year of arrival at second place of landing (DATARR37,36,38)=%{x}<br>Total slaves disembarked imputed * (SLAMIMP)=%{y}<extra></extra>",
         "legendgroup": "Gorée",
         "marker": {
          "color": "#00cc96",
          "pattern": {
           "shape": ""
          }
         },
         "name": "Gorée",
         "offsetgroup": "Gorée",
         "orientation": "v",
         "showlegend": true,
         "textposition": "auto",
         "type": "bar",
         "x": [
          1723,
          1727,
          1728,
          1729,
          1730,
          1752,
          1764
         ],
         "xaxis": "x",
         "y": [
          95,
          296,
          356,
          696,
          327,
          485,
          71
         ],
         "yaxis": "y"
        },
        {
         "alignmentgroup": "True",
         "hovertemplate": "Imputed principal place of slave purchase (MJBYPTIMP)=St. Eustatius<br>Year of arrival at second place of landing (DATARR37,36,38)=%{x}<br>Total slaves disembarked imputed * (SLAMIMP)=%{y}<extra></extra>",
         "legendgroup": "St. Eustatius",
         "marker": {
          "color": "#ab63fa",
          "pattern": {
           "shape": ""
          }
         },
         "name": "St. Eustatius",
         "offsetgroup": "St. Eustatius",
         "orientation": "v",
         "showlegend": true,
         "textposition": "auto",
         "type": "bar",
         "x": [
          1724
         ],
         "xaxis": "x",
         "y": [
          4
         ],
         "yaxis": "y"
        },
        {
         "alignmentgroup": "True",
         "hovertemplate": "Imputed principal place of slave purchase (MJBYPTIMP)=Elmina<br>Year of arrival at second place of landing (DATARR37,36,38)=%{x}<br>Total slaves disembarked imputed * (SLAMIMP)=%{y}<extra></extra>",
         "legendgroup": "Elmina",
         "marker": {
          "color": "#FFA15A",
          "pattern": {
           "shape": ""
          }
         },
         "name": "Elmina",
         "offsetgroup": "Elmina",
         "orientation": "v",
         "showlegend": true,
         "textposition": "auto",
         "type": "bar",
         "x": [
          1724,
          1729,
          1759
         ],
         "xaxis": "x",
         "y": [
          535,
          602,
          430
         ],
         "yaxis": "y"
        },
        {
         "alignmentgroup": "True",
         "hovertemplate": "Imputed principal place of slave purchase (MJBYPTIMP)=Charleston<br>Year of arrival at second place of landing (DATARR37,36,38)=%{x}<br>Total slaves disembarked imputed * (SLAMIMP)=%{y}<extra></extra>",
         "legendgroup": "Charleston",
         "marker": {
          "color": "#19d3f3",
          "pattern": {
           "shape": ""
          }
         },
         "name": "Charleston",
         "offsetgroup": "Charleston",
         "orientation": "v",
         "showlegend": true,
         "textposition": "auto",
         "type": "bar",
         "x": [
          1725,
          1737
         ],
         "xaxis": "x",
         "y": [
          40,
          2
         ],
         "yaxis": "y"
        },
        {
         "alignmentgroup": "True",
         "hovertemplate": "Imputed principal place of slave purchase (MJBYPTIMP)=Senegambia and offshore Atlantic, port unspecified<br>Year of arrival at second place of landing (DATARR37,36,38)=%{x}<br>Total slaves disembarked imputed * (SLAMIMP)=%{y}<extra></extra>",
         "legendgroup": "Senegambia and offshore Atlantic, port unspecified",
         "marker": {
          "color": "#FF6692",
          "pattern": {
           "shape": ""
          }
         },
         "name": "Senegambia and offshore Atlantic, port unspecified",
         "offsetgroup": "Senegambia and offshore Atlantic, port unspecified",
         "orientation": "v",
         "showlegend": true,
         "textposition": "auto",
         "type": "bar",
         "x": [
          1726
         ],
         "xaxis": "x",
         "y": [
          517
         ],
         "yaxis": "y"
        },
        {
         "alignmentgroup": "True",
         "hovertemplate": "Imputed principal place of slave purchase (MJBYPTIMP)=Keta<br>Year of arrival at second place of landing (DATARR37,36,38)=%{x}<br>Total slaves disembarked imputed * (SLAMIMP)=%{y}<extra></extra>",
         "legendgroup": "Keta",
         "marker": {
          "color": "#B6E880",
          "pattern": {
           "shape": ""
          }
         },
         "name": "Keta",
         "offsetgroup": "Keta",
         "orientation": "v",
         "showlegend": true,
         "textposition": "auto",
         "type": "bar",
         "x": [
          1727
         ],
         "xaxis": "x",
         "y": [
          550
         ],
         "yaxis": "y"
        },
        {
         "alignmentgroup": "True",
         "hovertemplate": "Imputed principal place of slave purchase (MJBYPTIMP)=Bermuda<br>Year of arrival at second place of landing (DATARR37,36,38)=%{x}<br>Total slaves disembarked imputed * (SLAMIMP)=%{y}<extra></extra>",
         "legendgroup": "Bermuda",
         "marker": {
          "color": "#FF97FF",
          "pattern": {
           "shape": ""
          }
         },
         "name": "Bermuda",
         "offsetgroup": "Bermuda",
         "orientation": "v",
         "showlegend": true,
         "textposition": "auto",
         "type": "bar",
         "x": [
          1729,
          1741,
          1742,
          1754
         ],
         "xaxis": "x",
         "y": [
          3,
          4,
          1,
          1
         ],
         "yaxis": "y"
        },
        {
         "alignmentgroup": "True",
         "hovertemplate": "Imputed principal place of slave purchase (MJBYPTIMP)=New York<br>Year of arrival at second place of landing (DATARR37,36,38)=%{x}<br>Total slaves disembarked imputed * (SLAMIMP)=%{y}<extra></extra>",
         "legendgroup": "New York",
         "marker": {
          "color": "#FECB52",
          "pattern": {
           "shape": ""
          }
         },
         "name": "New York",
         "offsetgroup": "New York",
         "orientation": "v",
         "showlegend": true,
         "textposition": "auto",
         "type": "bar",
         "x": [
          1730
         ],
         "xaxis": "x",
         "y": [
          1
         ],
         "yaxis": "y"
        },
        {
         "alignmentgroup": "True",
         "hovertemplate": "Imputed principal place of slave purchase (MJBYPTIMP)=Hampton<br>Year of arrival at second place of landing (DATARR37,36,38)=%{x}<br>Total slaves disembarked imputed * (SLAMIMP)=%{y}<extra></extra>",
         "legendgroup": "Hampton",
         "marker": {
          "color": "#636efa",
          "pattern": {
           "shape": ""
          }
         },
         "name": "Hampton",
         "offsetgroup": "Hampton",
         "orientation": "v",
         "showlegend": true,
         "textposition": "auto",
         "type": "bar",
         "x": [
          1739
         ],
         "xaxis": "x",
         "y": [
          3
         ],
         "yaxis": "y"
        },
        {
         "alignmentgroup": "True",
         "hovertemplate": "Imputed principal place of slave purchase (MJBYPTIMP)=Antigua, port unspecified<br>Year of arrival at second place of landing (DATARR37,36,38)=%{x}<br>Total slaves disembarked imputed * (SLAMIMP)=%{y}<extra></extra>",
         "legendgroup": "Antigua, port unspecified",
         "marker": {
          "color": "#EF553B",
          "pattern": {
           "shape": ""
          }
         },
         "name": "Antigua, port unspecified",
         "offsetgroup": "Antigua, port unspecified",
         "orientation": "v",
         "showlegend": true,
         "textposition": "auto",
         "type": "bar",
         "x": [
          1740,
          1742,
          1765
         ],
         "xaxis": "x",
         "y": [
          65,
          2,
          50
         ],
         "yaxis": "y"
        },
        {
         "alignmentgroup": "True",
         "hovertemplate": "Imputed principal place of slave purchase (MJBYPTIMP)=Little Popo<br>Year of arrival at second place of landing (DATARR37,36,38)=%{x}<br>Total slaves disembarked imputed * (SLAMIMP)=%{y}<extra></extra>",
         "legendgroup": "Little Popo",
         "marker": {
          "color": "#00cc96",
          "pattern": {
           "shape": ""
          }
         },
         "name": "Little Popo",
         "offsetgroup": "Little Popo",
         "orientation": "v",
         "showlegend": true,
         "textposition": "auto",
         "type": "bar",
         "x": [
          1740,
          1751
         ],
         "xaxis": "x",
         "y": [
          313,
          265
         ],
         "yaxis": "y"
        },
        {
         "alignmentgroup": "True",
         "hovertemplate": "Imputed principal place of slave purchase (MJBYPTIMP)=St. Kitts, port unspecified<br>Year of arrival at second place of landing (DATARR37,36,38)=%{x}<br>Total slaves disembarked imputed * (SLAMIMP)=%{y}<extra></extra>",
         "legendgroup": "St. Kitts, port unspecified",
         "marker": {
          "color": "#ab63fa",
          "pattern": {
           "shape": ""
          }
         },
         "name": "St. Kitts, port unspecified",
         "offsetgroup": "St. Kitts, port unspecified",
         "orientation": "v",
         "showlegend": true,
         "textposition": "auto",
         "type": "bar",
         "x": [
          1740
         ],
         "xaxis": "x",
         "y": [
          38
         ],
         "yaxis": "y"
        },
        {
         "alignmentgroup": "True",
         "hovertemplate": "Imputed principal place of slave purchase (MJBYPTIMP)=Windward Coast, port unspecified<br>Year of arrival at second place of landing (DATARR37,36,38)=%{x}<br>Total slaves disembarked imputed * (SLAMIMP)=%{y}<extra></extra>",
         "legendgroup": "Windward Coast, port unspecified",
         "marker": {
          "color": "#FFA15A",
          "pattern": {
           "shape": ""
          }
         },
         "name": "Windward Coast, port unspecified",
         "offsetgroup": "Windward Coast, port unspecified",
         "orientation": "v",
         "showlegend": true,
         "textposition": "auto",
         "type": "bar",
         "x": [
          1741,
          1765
         ],
         "xaxis": "x",
         "y": [
          174,
          234
         ],
         "yaxis": "y"
        },
        {
         "alignmentgroup": "True",
         "hovertemplate": "Imputed principal place of slave purchase (MJBYPTIMP)=Boston<br>Year of arrival at second place of landing (DATARR37,36,38)=%{x}<br>Total slaves disembarked imputed * (SLAMIMP)=%{y}<extra></extra>",
         "legendgroup": "Boston",
         "marker": {
          "color": "#19d3f3",
          "pattern": {
           "shape": ""
          }
         },
         "name": "Boston",
         "offsetgroup": "Boston",
         "orientation": "v",
         "showlegend": true,
         "textposition": "auto",
         "type": "bar",
         "x": [
          1742
         ],
         "xaxis": "x",
         "y": [
          1
         ],
         "yaxis": "y"
        },
        {
         "alignmentgroup": "True",
         "hovertemplate": "Imputed principal place of slave purchase (MJBYPTIMP)=Epe<br>Year of arrival at second place of landing (DATARR37,36,38)=%{x}<br>Total slaves disembarked imputed * (SLAMIMP)=%{y}<extra></extra>",
         "legendgroup": "Epe",
         "marker": {
          "color": "#FF6692",
          "pattern": {
           "shape": ""
          }
         },
         "name": "Epe",
         "offsetgroup": "Epe",
         "orientation": "v",
         "showlegend": true,
         "textposition": "auto",
         "type": "bar",
         "x": [
          1743,
          1744
         ],
         "xaxis": "x",
         "y": [
          101,
          401
         ],
         "yaxis": "y"
        },
        {
         "alignmentgroup": "True",
         "hovertemplate": "Imputed principal place of slave purchase (MJBYPTIMP)=Kingston<br>Year of arrival at second place of landing (DATARR37,36,38)=%{x}<br>Total slaves disembarked imputed * (SLAMIMP)=%{y}<extra></extra>",
         "legendgroup": "Kingston",
         "marker": {
          "color": "#B6E880",
          "pattern": {
           "shape": ""
          }
         },
         "name": "Kingston",
         "offsetgroup": "Kingston",
         "orientation": "v",
         "showlegend": true,
         "textposition": "auto",
         "type": "bar",
         "x": [
          1748,
          1753,
          1754,
          1763,
          1765
         ],
         "xaxis": "x",
         "y": [
          150,
          50,
          113,
          30,
          7
         ],
         "yaxis": "y"
        },
        {
         "alignmentgroup": "True",
         "hovertemplate": "Imputed principal place of slave purchase (MJBYPTIMP)=Bissau<br>Year of arrival at second place of landing (DATARR37,36,38)=%{x}<br>Total slaves disembarked imputed * (SLAMIMP)=%{y}<extra></extra>",
         "legendgroup": "Bissau",
         "marker": {
          "color": "#FF97FF",
          "pattern": {
           "shape": ""
          }
         },
         "name": "Bissau",
         "offsetgroup": "Bissau",
         "orientation": "v",
         "showlegend": true,
         "textposition": "auto",
         "type": "bar",
         "x": [
          1753,
          1764
         ],
         "xaxis": "x",
         "y": [
          150,
          199
         ],
         "yaxis": "y"
        },
        {
         "alignmentgroup": "True",
         "hovertemplate": "Imputed principal place of slave purchase (MJBYPTIMP)=Windward + Ivory + Gold + Benin<br>Year of arrival at second place of landing (DATARR37,36,38)=%{x}<br>Total slaves disembarked imputed * (SLAMIMP)=%{y}<extra></extra>",
         "legendgroup": "Windward + Ivory + Gold + Benin",
         "marker": {
          "color": "#FECB52",
          "pattern": {
           "shape": ""
          }
         },
         "name": "Windward + Ivory + Gold + Benin",
         "offsetgroup": "Windward + Ivory + Gold + Benin",
         "orientation": "v",
         "showlegend": true,
         "textposition": "auto",
         "type": "bar",
         "x": [
          1758,
          1763,
          1765,
          1767
         ],
         "xaxis": "x",
         "y": [
          330,
          375,
          271,
          300
         ],
         "yaxis": "y"
        },
        {
         "alignmentgroup": "True",
         "hovertemplate": "Imputed principal place of slave purchase (MJBYPTIMP)=Congo North<br>Year of arrival at second place of landing (DATARR37,36,38)=%{x}<br>Total slaves disembarked imputed * (SLAMIMP)=%{y}<extra></extra>",
         "legendgroup": "Congo North",
         "marker": {
          "color": "#636efa",
          "pattern": {
           "shape": ""
          }
         },
         "name": "Congo North",
         "offsetgroup": "Congo North",
         "orientation": "v",
         "showlegend": true,
         "textposition": "auto",
         "type": "bar",
         "x": [
          1762
         ],
         "xaxis": "x",
         "y": [
          315
         ],
         "yaxis": "y"
        },
        {
         "alignmentgroup": "True",
         "hovertemplate": "Imputed principal place of slave purchase (MJBYPTIMP)=Benin<br>Year of arrival at second place of landing (DATARR37,36,38)=%{x}<br>Total slaves disembarked imputed * (SLAMIMP)=%{y}<extra></extra>",
         "legendgroup": "Benin",
         "marker": {
          "color": "#EF553B",
          "pattern": {
           "shape": ""
          }
         },
         "name": "Benin",
         "offsetgroup": "Benin",
         "orientation": "v",
         "showlegend": true,
         "textposition": "auto",
         "type": "bar",
         "x": [
          1764
         ],
         "xaxis": "x",
         "y": [
          180
         ],
         "yaxis": "y"
        },
        {
         "alignmentgroup": "True",
         "hovertemplate": "Imputed principal place of slave purchase (MJBYPTIMP)=Montserrat, port unspecified<br>Year of arrival at second place of landing (DATARR37,36,38)=%{x}<br>Total slaves disembarked imputed * (SLAMIMP)=%{y}<extra></extra>",
         "legendgroup": "Montserrat, port unspecified",
         "marker": {
          "color": "#00cc96",
          "pattern": {
           "shape": ""
          }
         },
         "name": "Montserrat, port unspecified",
         "offsetgroup": "Montserrat, port unspecified",
         "orientation": "v",
         "showlegend": true,
         "textposition": "auto",
         "type": "bar",
         "x": [
          1765
         ],
         "xaxis": "x",
         "y": [
          70
         ],
         "yaxis": "y"
        },
        {
         "alignmentgroup": "True",
         "hovertemplate": "Imputed principal place of slave purchase (MJBYPTIMP)=Grenada, port unspecified<br>Year of arrival at second place of landing (DATARR37,36,38)=%{x}<br>Total slaves disembarked imputed * (SLAMIMP)=%{y}<extra></extra>",
         "legendgroup": "Grenada, port unspecified",
         "marker": {
          "color": "#ab63fa",
          "pattern": {
           "shape": ""
          }
         },
         "name": "Grenada, port unspecified",
         "offsetgroup": "Grenada, port unspecified",
         "orientation": "v",
         "showlegend": true,
         "textposition": "auto",
         "type": "bar",
         "x": [
          1766
         ],
         "xaxis": "x",
         "y": [
          7
         ],
         "yaxis": "y"
        },
        {
         "alignmentgroup": "True",
         "hovertemplate": "Imputed principal place of slave purchase (MJBYPTIMP)=Accra<br>Year of arrival at second place of landing (DATARR37,36,38)=%{x}<br>Total slaves disembarked imputed * (SLAMIMP)=%{y}<extra></extra>",
         "legendgroup": "Accra",
         "marker": {
          "color": "#FFA15A",
          "pattern": {
           "shape": ""
          }
         },
         "name": "Accra",
         "offsetgroup": "Accra",
         "orientation": "v",
         "showlegend": true,
         "textposition": "auto",
         "type": "bar",
         "x": [
          1766
         ],
         "xaxis": "x",
         "y": [
          256
         ],
         "yaxis": "y"
        }
       ],
       "layout": {
        "barmode": "relative",
        "legend": {
         "title": {
          "text": "Imputed principal place of slave purchase (MJBYPTIMP)"
         },
         "tracegroupgap": 0
        },
        "margin": {
         "t": 60
        },
        "template": {
         "data": {
          "bar": [
           {
            "error_x": {
             "color": "#2a3f5f"
            },
            "error_y": {
             "color": "#2a3f5f"
            },
            "marker": {
             "line": {
              "color": "#E5ECF6",
              "width": 0.5
             },
             "pattern": {
              "fillmode": "overlay",
              "size": 10,
              "solidity": 0.2
             }
            },
            "type": "bar"
           }
          ],
          "barpolar": [
           {
            "marker": {
             "line": {
              "color": "#E5ECF6",
              "width": 0.5
             },
             "pattern": {
              "fillmode": "overlay",
              "size": 10,
              "solidity": 0.2
             }
            },
            "type": "barpolar"
           }
          ],
          "carpet": [
           {
            "aaxis": {
             "endlinecolor": "#2a3f5f",
             "gridcolor": "white",
             "linecolor": "white",
             "minorgridcolor": "white",
             "startlinecolor": "#2a3f5f"
            },
            "baxis": {
             "endlinecolor": "#2a3f5f",
             "gridcolor": "white",
             "linecolor": "white",
             "minorgridcolor": "white",
             "startlinecolor": "#2a3f5f"
            },
            "type": "carpet"
           }
          ],
          "choropleth": [
           {
            "colorbar": {
             "outlinewidth": 0,
             "ticks": ""
            },
            "type": "choropleth"
           }
          ],
          "contour": [
           {
            "colorbar": {
             "outlinewidth": 0,
             "ticks": ""
            },
            "colorscale": [
             [
              0,
              "#0d0887"
             ],
             [
              0.1111111111111111,
              "#46039f"
             ],
             [
              0.2222222222222222,
              "#7201a8"
             ],
             [
              0.3333333333333333,
              "#9c179e"
             ],
             [
              0.4444444444444444,
              "#bd3786"
             ],
             [
              0.5555555555555556,
              "#d8576b"
             ],
             [
              0.6666666666666666,
              "#ed7953"
             ],
             [
              0.7777777777777778,
              "#fb9f3a"
             ],
             [
              0.8888888888888888,
              "#fdca26"
             ],
             [
              1,
              "#f0f921"
             ]
            ],
            "type": "contour"
           }
          ],
          "contourcarpet": [
           {
            "colorbar": {
             "outlinewidth": 0,
             "ticks": ""
            },
            "type": "contourcarpet"
           }
          ],
          "heatmap": [
           {
            "colorbar": {
             "outlinewidth": 0,
             "ticks": ""
            },
            "colorscale": [
             [
              0,
              "#0d0887"
             ],
             [
              0.1111111111111111,
              "#46039f"
             ],
             [
              0.2222222222222222,
              "#7201a8"
             ],
             [
              0.3333333333333333,
              "#9c179e"
             ],
             [
              0.4444444444444444,
              "#bd3786"
             ],
             [
              0.5555555555555556,
              "#d8576b"
             ],
             [
              0.6666666666666666,
              "#ed7953"
             ],
             [
              0.7777777777777778,
              "#fb9f3a"
             ],
             [
              0.8888888888888888,
              "#fdca26"
             ],
             [
              1,
              "#f0f921"
             ]
            ],
            "type": "heatmap"
           }
          ],
          "heatmapgl": [
           {
            "colorbar": {
             "outlinewidth": 0,
             "ticks": ""
            },
            "colorscale": [
             [
              0,
              "#0d0887"
             ],
             [
              0.1111111111111111,
              "#46039f"
             ],
             [
              0.2222222222222222,
              "#7201a8"
             ],
             [
              0.3333333333333333,
              "#9c179e"
             ],
             [
              0.4444444444444444,
              "#bd3786"
             ],
             [
              0.5555555555555556,
              "#d8576b"
             ],
             [
              0.6666666666666666,
              "#ed7953"
             ],
             [
              0.7777777777777778,
              "#fb9f3a"
             ],
             [
              0.8888888888888888,
              "#fdca26"
             ],
             [
              1,
              "#f0f921"
             ]
            ],
            "type": "heatmapgl"
           }
          ],
          "histogram": [
           {
            "marker": {
             "pattern": {
              "fillmode": "overlay",
              "size": 10,
              "solidity": 0.2
             }
            },
            "type": "histogram"
           }
          ],
          "histogram2d": [
           {
            "colorbar": {
             "outlinewidth": 0,
             "ticks": ""
            },
            "colorscale": [
             [
              0,
              "#0d0887"
             ],
             [
              0.1111111111111111,
              "#46039f"
             ],
             [
              0.2222222222222222,
              "#7201a8"
             ],
             [
              0.3333333333333333,
              "#9c179e"
             ],
             [
              0.4444444444444444,
              "#bd3786"
             ],
             [
              0.5555555555555556,
              "#d8576b"
             ],
             [
              0.6666666666666666,
              "#ed7953"
             ],
             [
              0.7777777777777778,
              "#fb9f3a"
             ],
             [
              0.8888888888888888,
              "#fdca26"
             ],
             [
              1,
              "#f0f921"
             ]
            ],
            "type": "histogram2d"
           }
          ],
          "histogram2dcontour": [
           {
            "colorbar": {
             "outlinewidth": 0,
             "ticks": ""
            },
            "colorscale": [
             [
              0,
              "#0d0887"
             ],
             [
              0.1111111111111111,
              "#46039f"
             ],
             [
              0.2222222222222222,
              "#7201a8"
             ],
             [
              0.3333333333333333,
              "#9c179e"
             ],
             [
              0.4444444444444444,
              "#bd3786"
             ],
             [
              0.5555555555555556,
              "#d8576b"
             ],
             [
              0.6666666666666666,
              "#ed7953"
             ],
             [
              0.7777777777777778,
              "#fb9f3a"
             ],
             [
              0.8888888888888888,
              "#fdca26"
             ],
             [
              1,
              "#f0f921"
             ]
            ],
            "type": "histogram2dcontour"
           }
          ],
          "mesh3d": [
           {
            "colorbar": {
             "outlinewidth": 0,
             "ticks": ""
            },
            "type": "mesh3d"
           }
          ],
          "parcoords": [
           {
            "line": {
             "colorbar": {
              "outlinewidth": 0,
              "ticks": ""
             }
            },
            "type": "parcoords"
           }
          ],
          "pie": [
           {
            "automargin": true,
            "type": "pie"
           }
          ],
          "scatter": [
           {
            "marker": {
             "colorbar": {
              "outlinewidth": 0,
              "ticks": ""
             }
            },
            "type": "scatter"
           }
          ],
          "scatter3d": [
           {
            "line": {
             "colorbar": {
              "outlinewidth": 0,
              "ticks": ""
             }
            },
            "marker": {
             "colorbar": {
              "outlinewidth": 0,
              "ticks": ""
             }
            },
            "type": "scatter3d"
           }
          ],
          "scattercarpet": [
           {
            "marker": {
             "colorbar": {
              "outlinewidth": 0,
              "ticks": ""
             }
            },
            "type": "scattercarpet"
           }
          ],
          "scattergeo": [
           {
            "marker": {
             "colorbar": {
              "outlinewidth": 0,
              "ticks": ""
             }
            },
            "type": "scattergeo"
           }
          ],
          "scattergl": [
           {
            "marker": {
             "colorbar": {
              "outlinewidth": 0,
              "ticks": ""
             }
            },
            "type": "scattergl"
           }
          ],
          "scattermapbox": [
           {
            "marker": {
             "colorbar": {
              "outlinewidth": 0,
              "ticks": ""
             }
            },
            "type": "scattermapbox"
           }
          ],
          "scatterpolar": [
           {
            "marker": {
             "colorbar": {
              "outlinewidth": 0,
              "ticks": ""
             }
            },
            "type": "scatterpolar"
           }
          ],
          "scatterpolargl": [
           {
            "marker": {
             "colorbar": {
              "outlinewidth": 0,
              "ticks": ""
             }
            },
            "type": "scatterpolargl"
           }
          ],
          "scatterternary": [
           {
            "marker": {
             "colorbar": {
              "outlinewidth": 0,
              "ticks": ""
             }
            },
            "type": "scatterternary"
           }
          ],
          "surface": [
           {
            "colorbar": {
             "outlinewidth": 0,
             "ticks": ""
            },
            "colorscale": [
             [
              0,
              "#0d0887"
             ],
             [
              0.1111111111111111,
              "#46039f"
             ],
             [
              0.2222222222222222,
              "#7201a8"
             ],
             [
              0.3333333333333333,
              "#9c179e"
             ],
             [
              0.4444444444444444,
              "#bd3786"
             ],
             [
              0.5555555555555556,
              "#d8576b"
             ],
             [
              0.6666666666666666,
              "#ed7953"
             ],
             [
              0.7777777777777778,
              "#fb9f3a"
             ],
             [
              0.8888888888888888,
              "#fdca26"
             ],
             [
              1,
              "#f0f921"
             ]
            ],
            "type": "surface"
           }
          ],
          "table": [
           {
            "cells": {
             "fill": {
              "color": "#EBF0F8"
             },
             "line": {
              "color": "white"
             }
            },
            "header": {
             "fill": {
              "color": "#C8D4E3"
             },
             "line": {
              "color": "white"
             }
            },
            "type": "table"
           }
          ]
         },
         "layout": {
          "annotationdefaults": {
           "arrowcolor": "#2a3f5f",
           "arrowhead": 0,
           "arrowwidth": 1
          },
          "autotypenumbers": "strict",
          "coloraxis": {
           "colorbar": {
            "outlinewidth": 0,
            "ticks": ""
           }
          },
          "colorscale": {
           "diverging": [
            [
             0,
             "#8e0152"
            ],
            [
             0.1,
             "#c51b7d"
            ],
            [
             0.2,
             "#de77ae"
            ],
            [
             0.3,
             "#f1b6da"
            ],
            [
             0.4,
             "#fde0ef"
            ],
            [
             0.5,
             "#f7f7f7"
            ],
            [
             0.6,
             "#e6f5d0"
            ],
            [
             0.7,
             "#b8e186"
            ],
            [
             0.8,
             "#7fbc41"
            ],
            [
             0.9,
             "#4d9221"
            ],
            [
             1,
             "#276419"
            ]
           ],
           "sequential": [
            [
             0,
             "#0d0887"
            ],
            [
             0.1111111111111111,
             "#46039f"
            ],
            [
             0.2222222222222222,
             "#7201a8"
            ],
            [
             0.3333333333333333,
             "#9c179e"
            ],
            [
             0.4444444444444444,
             "#bd3786"
            ],
            [
             0.5555555555555556,
             "#d8576b"
            ],
            [
             0.6666666666666666,
             "#ed7953"
            ],
            [
             0.7777777777777778,
             "#fb9f3a"
            ],
            [
             0.8888888888888888,
             "#fdca26"
            ],
            [
             1,
             "#f0f921"
            ]
           ],
           "sequentialminus": [
            [
             0,
             "#0d0887"
            ],
            [
             0.1111111111111111,
             "#46039f"
            ],
            [
             0.2222222222222222,
             "#7201a8"
            ],
            [
             0.3333333333333333,
             "#9c179e"
            ],
            [
             0.4444444444444444,
             "#bd3786"
            ],
            [
             0.5555555555555556,
             "#d8576b"
            ],
            [
             0.6666666666666666,
             "#ed7953"
            ],
            [
             0.7777777777777778,
             "#fb9f3a"
            ],
            [
             0.8888888888888888,
             "#fdca26"
            ],
            [
             1,
             "#f0f921"
            ]
           ]
          },
          "colorway": [
           "#636efa",
           "#EF553B",
           "#00cc96",
           "#ab63fa",
           "#FFA15A",
           "#19d3f3",
           "#FF6692",
           "#B6E880",
           "#FF97FF",
           "#FECB52"
          ],
          "font": {
           "color": "#2a3f5f"
          },
          "geo": {
           "bgcolor": "white",
           "lakecolor": "white",
           "landcolor": "#E5ECF6",
           "showlakes": true,
           "showland": true,
           "subunitcolor": "white"
          },
          "hoverlabel": {
           "align": "left"
          },
          "hovermode": "closest",
          "mapbox": {
           "style": "light"
          },
          "paper_bgcolor": "white",
          "plot_bgcolor": "#E5ECF6",
          "polar": {
           "angularaxis": {
            "gridcolor": "white",
            "linecolor": "white",
            "ticks": ""
           },
           "bgcolor": "#E5ECF6",
           "radialaxis": {
            "gridcolor": "white",
            "linecolor": "white",
            "ticks": ""
           }
          },
          "scene": {
           "xaxis": {
            "backgroundcolor": "#E5ECF6",
            "gridcolor": "white",
            "gridwidth": 2,
            "linecolor": "white",
            "showbackground": true,
            "ticks": "",
            "zerolinecolor": "white"
           },
           "yaxis": {
            "backgroundcolor": "#E5ECF6",
            "gridcolor": "white",
            "gridwidth": 2,
            "linecolor": "white",
            "showbackground": true,
            "ticks": "",
            "zerolinecolor": "white"
           },
           "zaxis": {
            "backgroundcolor": "#E5ECF6",
            "gridcolor": "white",
            "gridwidth": 2,
            "linecolor": "white",
            "showbackground": true,
            "ticks": "",
            "zerolinecolor": "white"
           }
          },
          "shapedefaults": {
           "line": {
            "color": "#2a3f5f"
           }
          },
          "ternary": {
           "aaxis": {
            "gridcolor": "white",
            "linecolor": "white",
            "ticks": ""
           },
           "baxis": {
            "gridcolor": "white",
            "linecolor": "white",
            "ticks": ""
           },
           "bgcolor": "#E5ECF6",
           "caxis": {
            "gridcolor": "white",
            "linecolor": "white",
            "ticks": ""
           }
          },
          "title": {
           "x": 0.05
          },
          "xaxis": {
           "automargin": true,
           "gridcolor": "white",
           "linecolor": "white",
           "ticks": "",
           "title": {
            "standoff": 15
           },
           "zerolinecolor": "white",
           "zerolinewidth": 2
          },
          "yaxis": {
           "automargin": true,
           "gridcolor": "white",
           "linecolor": "white",
           "ticks": "",
           "title": {
            "standoff": 15
           },
           "zerolinecolor": "white",
           "zerolinewidth": 2
          }
         }
        },
        "xaxis": {
         "anchor": "y",
         "domain": [
          0,
          1
         ],
         "dtick": 33,
         "title": {
          "text": "Year of arrival at second place of landing (DATARR37,36,38)"
         }
        },
        "yaxis": {
         "anchor": "x",
         "domain": [
          0,
          1
         ],
         "title": {
          "text": "Total slaves disembarked imputed * (SLAMIMP)"
         }
        }
       }
      },
      "text/html": [
       "<div>                            <div id=\"566a54e2-de7d-4eb8-be1d-7b354296f3cf\" class=\"plotly-graph-div\" style=\"height:525px; width:100%;\"></div>            <script type=\"text/javascript\">                require([\"plotly\"], function(Plotly) {                    window.PLOTLYENV=window.PLOTLYENV || {};                                    if (document.getElementById(\"566a54e2-de7d-4eb8-be1d-7b354296f3cf\")) {                    Plotly.newPlot(                        \"566a54e2-de7d-4eb8-be1d-7b354296f3cf\",                        [{\"alignmentgroup\":\"True\",\"hovertemplate\":\"Imputed principal place of slave purchase (MJBYPTIMP)=Luanda<br>Year of arrival at second place of landing (DATARR37,36,38)=%{x}<br>Total slaves disembarked imputed * (SLAMIMP)=%{y}<extra></extra>\",\"legendgroup\":\"Luanda\",\"marker\":{\"color\":\"#636efa\",\"pattern\":{\"shape\":\"\"}},\"name\":\"Luanda\",\"offsetgroup\":\"Luanda\",\"orientation\":\"v\",\"showlegend\":true,\"textposition\":\"auto\",\"x\":[1605,1608,1609,1610,1611,1612,1613,1614,1615,1617,1618,1619,1620,1621,1622,1624,1625,1631,1637,1638,1664,1754],\"xaxis\":\"x\",\"y\":[581,533,331,1225,874,1144,862,289,574,614,297,631,664,3348,662,271,599,862,574,297,320,351],\"yaxis\":\"y\",\"type\":\"bar\"},{\"alignmentgroup\":\"True\",\"hovertemplate\":\"Imputed principal place of slave purchase (MJBYPTIMP)=West Central Africa and St. Helena, port unspecified<br>Year of arrival at second place of landing (DATARR37,36,38)=%{x}<br>Total slaves disembarked imputed * (SLAMIMP)=%{y}<extra></extra>\",\"legendgroup\":\"West Central Africa and St. Helena, port unspecified\",\"marker\":{\"color\":\"#EF553B\",\"pattern\":{\"shape\":\"\"}},\"name\":\"West Central Africa and St. Helena, port unspecified\",\"offsetgroup\":\"West Central Africa and St. Helena, port unspecified\",\"orientation\":\"v\",\"showlegend\":true,\"textposition\":\"auto\",\"x\":[1605,1610,1621,1631,1638,1667,1683,1721,1730,1734,1735,1736,1737,1742,1752,1758,1763,1765,1767,1768],\"xaxis\":\"x\",\"y\":[314,339,336,301,297,391,124,200,233,373,351,1080,250,20,188,381,287,1019,283,179],\"yaxis\":\"y\",\"type\":\"bar\"},{\"alignmentgroup\":\"True\",\"hovertemplate\":\"Imputed principal place of slave purchase (MJBYPTIMP)=S\\u00e3o Tom\\u00e9<br>Year of arrival at second place of landing (DATARR37,36,38)=%{x}<br>Total slaves disembarked imputed * (SLAMIMP)=%{y}<extra></extra>\",\"legendgroup\":\"S\\u00e3o Tom\\u00e9\",\"marker\":{\"color\":\"#00cc96\",\"pattern\":{\"shape\":\"\"}},\"name\":\"S\\u00e3o Tom\\u00e9\",\"offsetgroup\":\"S\\u00e3o Tom\\u00e9\",\"orientation\":\"v\",\"showlegend\":true,\"textposition\":\"auto\",\"x\":[1608,1611,1628],\"xaxis\":\"x\",\"y\":[331,290,272],\"yaxis\":\"y\",\"type\":\"bar\"},{\"alignmentgroup\":\"True\",\"hovertemplate\":\"Imputed principal place of slave purchase (MJBYPTIMP)=Africa., port unspecified<br>Year of arrival at second place of landing (DATARR37,36,38)=%{x}<br>Total slaves disembarked imputed * (SLAMIMP)=%{y}<extra></extra>\",\"legendgroup\":\"Africa., port unspecified\",\"marker\":{\"color\":\"#ab63fa\",\"pattern\":{\"shape\":\"\"}},\"name\":\"Africa., port unspecified\",\"offsetgroup\":\"Africa., port unspecified\",\"orientation\":\"v\",\"showlegend\":true,\"textposition\":\"auto\",\"x\":[1611,1624,1664,1683,1697,1701,1702,1708,1709,1713,1714,1717,1718,1719,1720,1723,1724,1725,1726,1728,1729,1731,1732,1733,1734,1737,1738,1740,1741,1744,1746,1747,1755,1760,1762,1763,1764,1765,1766],\"xaxis\":\"x\",\"y\":[299,303,405,195,195,482,370,297,499,240,376,199,552,42,169,348,558,516,610,310,859,478,217,625,643,112,217,501,197,434,138,100,184,76,50,131,141,200,287],\"yaxis\":\"y\",\"type\":\"bar\"},{\"alignmentgroup\":\"True\",\"hovertemplate\":\"Imputed principal place of slave purchase (MJBYPTIMP)=Cacheu<br>Year of arrival at second place of landing (DATARR37,36,38)=%{x}<br>Total slaves disembarked imputed * (SLAMIMP)=%{y}<extra></extra>\",\"legendgroup\":\"Cacheu\",\"marker\":{\"color\":\"#FFA15A\",\"pattern\":{\"shape\":\"\"}},\"name\":\"Cacheu\",\"offsetgroup\":\"Cacheu\",\"orientation\":\"v\",\"showlegend\":true,\"textposition\":\"auto\",\"x\":[1612],\"xaxis\":\"x\",\"y\":[313],\"yaxis\":\"y\",\"type\":\"bar\"},{\"alignmentgroup\":\"True\",\"hovertemplate\":\"Imputed principal place of slave purchase (MJBYPTIMP)=Prize (taken from Portuguese)<br>Year of arrival at second place of landing (DATARR37,36,38)=%{x}<br>Total slaves disembarked imputed * (SLAMIMP)=%{y}<extra></extra>\",\"legendgroup\":\"Prize (taken from Portuguese)\",\"marker\":{\"color\":\"#19d3f3\",\"pattern\":{\"shape\":\"\"}},\"name\":\"Prize (taken from Portuguese)\",\"offsetgroup\":\"Prize (taken from Portuguese)\",\"orientation\":\"v\",\"showlegend\":true,\"textposition\":\"auto\",\"x\":[1619],\"xaxis\":\"x\",\"y\":[29],\"yaxis\":\"y\",\"type\":\"bar\"},{\"alignmentgroup\":\"True\",\"hovertemplate\":\"Imputed principal place of slave purchase (MJBYPTIMP)=Calabar<br>Year of arrival at second place of landing (DATARR37,36,38)=%{x}<br>Total slaves disembarked imputed * (SLAMIMP)=%{y}<extra></extra>\",\"legendgroup\":\"Calabar\",\"marker\":{\"color\":\"#FF6692\",\"pattern\":{\"shape\":\"\"}},\"name\":\"Calabar\",\"offsetgroup\":\"Calabar\",\"orientation\":\"v\",\"showlegend\":true,\"textposition\":\"auto\",\"x\":[1625,1664,1682,1701,1707,1716,1718,1719,1720,1725,1726,1732,1733,1744,1764,1767],\"xaxis\":\"x\",\"y\":[282,159,114,234,290,211,418,73,102,173,484,211,283,763,210,239],\"yaxis\":\"y\",\"type\":\"bar\"},{\"alignmentgroup\":\"True\",\"hovertemplate\":\"Imputed principal place of slave purchase (MJBYPTIMP)=Ardra<br>Year of arrival at second place of landing (DATARR37,36,38)=%{x}<br>Total slaves disembarked imputed * (SLAMIMP)=%{y}<extra></extra>\",\"legendgroup\":\"Ardra\",\"marker\":{\"color\":\"#B6E880\",\"pattern\":{\"shape\":\"\"}},\"name\":\"Ardra\",\"offsetgroup\":\"Ardra\",\"orientation\":\"v\",\"showlegend\":true,\"textposition\":\"auto\",\"x\":[1653,1657,1659,1664,1667,1669],\"xaxis\":\"x\",\"y\":[623,290,220,282,291,1054],\"yaxis\":\"y\",\"type\":\"bar\"},{\"alignmentgroup\":\"True\",\"hovertemplate\":\"Imputed principal place of slave purchase (MJBYPTIMP)=River del Rey<br>Year of arrival at second place of landing (DATARR37,36,38)=%{x}<br>Total slaves disembarked imputed * (SLAMIMP)=%{y}<extra></extra>\",\"legendgroup\":\"River del Rey\",\"marker\":{\"color\":\"#FF97FF\",\"pattern\":{\"shape\":\"\"}},\"name\":\"River del Rey\",\"offsetgroup\":\"River del Rey\",\"orientation\":\"v\",\"showlegend\":true,\"textposition\":\"auto\",\"x\":[1654],\"xaxis\":\"x\",\"y\":[56],\"yaxis\":\"y\",\"type\":\"bar\"},{\"alignmentgroup\":\"True\",\"hovertemplate\":\"Imputed principal place of slave purchase (MJBYPTIMP)=Whydah<br>Year of arrival at second place of landing (DATARR37,36,38)=%{x}<br>Total slaves disembarked imputed * (SLAMIMP)=%{y}<extra></extra>\",\"legendgroup\":\"Whydah\",\"marker\":{\"color\":\"#FECB52\",\"pattern\":{\"shape\":\"\"}},\"name\":\"Whydah\",\"offsetgroup\":\"Whydah\",\"orientation\":\"v\",\"showlegend\":true,\"textposition\":\"auto\",\"x\":[1659,1700,1701,1704,1705,1706,1711,1713,1714,1715,1716,1717,1718,1719,1721,1722,1723,1726,1727,1728,1729,1736,1751,1752,1758],\"xaxis\":\"x\",\"y\":[207,565,495,833,435,315,360,1275,544,249,974,305,267,298,229,128,290,440,80,295,341,326,310,196,313],\"yaxis\":\"y\",\"type\":\"bar\"},{\"alignmentgroup\":\"True\",\"hovertemplate\":\"Imputed principal place of slave purchase (MJBYPTIMP)=Loango<br>Year of arrival at second place of landing (DATARR37,36,38)=%{x}<br>Total slaves disembarked imputed * (SLAMIMP)=%{y}<extra></extra>\",\"legendgroup\":\"Loango\",\"marker\":{\"color\":\"#636efa\",\"pattern\":{\"shape\":\"\"}},\"name\":\"Loango\",\"offsetgroup\":\"Loango\",\"orientation\":\"v\",\"showlegend\":true,\"textposition\":\"auto\",\"x\":[1664,1665,1670,1672,1733,1740,1747],\"xaxis\":\"x\",\"y\":[348,391,291,404,488,384,199],\"yaxis\":\"y\",\"type\":\"bar\"},{\"alignmentgroup\":\"True\",\"hovertemplate\":\"Imputed principal place of slave purchase (MJBYPTIMP)=Cura\\u00e7ao<br>Year of arrival at second place of landing (DATARR37,36,38)=%{x}<br>Total slaves disembarked imputed * (SLAMIMP)=%{y}<extra></extra>\",\"legendgroup\":\"Cura\\u00e7ao\",\"marker\":{\"color\":\"#EF553B\",\"pattern\":{\"shape\":\"\"}},\"name\":\"Cura\\u00e7ao\",\"offsetgroup\":\"Cura\\u00e7ao\",\"orientation\":\"v\",\"showlegend\":true,\"textposition\":\"auto\",\"x\":[1664,1673],\"xaxis\":\"x\",\"y\":[502,760],\"yaxis\":\"y\",\"type\":\"bar\"},{\"alignmentgroup\":\"True\",\"hovertemplate\":\"Imputed principal place of slave purchase (MJBYPTIMP)=New Calabar<br>Year of arrival at second place of landing (DATARR37,36,38)=%{x}<br>Total slaves disembarked imputed * (SLAMIMP)=%{y}<extra></extra>\",\"legendgroup\":\"New Calabar\",\"marker\":{\"color\":\"#00cc96\",\"pattern\":{\"shape\":\"\"}},\"name\":\"New Calabar\",\"offsetgroup\":\"New Calabar\",\"orientation\":\"v\",\"showlegend\":true,\"textposition\":\"auto\",\"x\":[1669,1680,1683],\"xaxis\":\"x\",\"y\":[191,174,24],\"yaxis\":\"y\",\"type\":\"bar\"},{\"alignmentgroup\":\"True\",\"hovertemplate\":\"Imputed principal place of slave purchase (MJBYPTIMP)=Bight of Benin, port unspecified<br>Year of arrival at second place of landing (DATARR37,36,38)=%{x}<br>Total slaves disembarked imputed * (SLAMIMP)=%{y}<extra></extra>\",\"legendgroup\":\"Bight of Benin, port unspecified\",\"marker\":{\"color\":\"#ab63fa\",\"pattern\":{\"shape\":\"\"}},\"name\":\"Bight of Benin, port unspecified\",\"offsetgroup\":\"Bight of Benin, port unspecified\",\"orientation\":\"v\",\"showlegend\":true,\"textposition\":\"auto\",\"x\":[1671,1686],\"xaxis\":\"x\",\"y\":[291,307],\"yaxis\":\"y\",\"type\":\"bar\"},{\"alignmentgroup\":\"True\",\"hovertemplate\":\"Imputed principal place of slave purchase (MJBYPTIMP)=Cape Coast Castle<br>Year of arrival at second place of landing (DATARR37,36,38)=%{x}<br>Total slaves disembarked imputed * (SLAMIMP)=%{y}<extra></extra>\",\"legendgroup\":\"Cape Coast Castle\",\"marker\":{\"color\":\"#FFA15A\",\"pattern\":{\"shape\":\"\"}},\"name\":\"Cape Coast Castle\",\"offsetgroup\":\"Cape Coast Castle\",\"orientation\":\"v\",\"showlegend\":true,\"textposition\":\"auto\",\"x\":[1678,1709,1711,1763],\"xaxis\":\"x\",\"y\":[372,104,161,297],\"yaxis\":\"y\",\"type\":\"bar\"},{\"alignmentgroup\":\"True\",\"hovertemplate\":\"Imputed principal place of slave purchase (MJBYPTIMP)=Bonny<br>Year of arrival at second place of landing (DATARR37,36,38)=%{x}<br>Total slaves disembarked imputed * (SLAMIMP)=%{y}<extra></extra>\",\"legendgroup\":\"Bonny\",\"marker\":{\"color\":\"#19d3f3\",\"pattern\":{\"shape\":\"\"}},\"name\":\"Bonny\",\"offsetgroup\":\"Bonny\",\"orientation\":\"v\",\"showlegend\":true,\"textposition\":\"auto\",\"x\":[1679,1725,1732,1744,1751,1763,1765,1768],\"xaxis\":\"x\",\"y\":[180,201,252,209,168,410,350,190],\"yaxis\":\"y\",\"type\":\"bar\"},{\"alignmentgroup\":\"True\",\"hovertemplate\":\"Imputed principal place of slave purchase (MJBYPTIMP)=Bight of Biafra and Gulf of Guinea Islands, port unspecified<br>Year of arrival at second place of landing (DATARR37,36,38)=%{x}<br>Total slaves disembarked imputed * (SLAMIMP)=%{y}<extra></extra>\",\"legendgroup\":\"Bight of Biafra and Gulf of Guinea Islands, port unspecified\",\"marker\":{\"color\":\"#FF6692\",\"pattern\":{\"shape\":\"\"}},\"name\":\"Bight of Biafra and Gulf of Guinea Islands, port unspecified\",\"offsetgroup\":\"Bight of Biafra and Gulf of Guinea Islands, port unspecified\",\"orientation\":\"v\",\"showlegend\":true,\"textposition\":\"auto\",\"x\":[1680,1699,1723,1731,1740,1750],\"xaxis\":\"x\",\"y\":[144,260,209,171,197,209],\"yaxis\":\"y\",\"type\":\"bar\"},{\"alignmentgroup\":\"True\",\"hovertemplate\":\"Imputed principal place of slave purchase (MJBYPTIMP)=Madagascar<br>Year of arrival at second place of landing (DATARR37,36,38)=%{x}<br>Total slaves disembarked imputed * (SLAMIMP)=%{y}<extra></extra>\",\"legendgroup\":\"Madagascar\",\"marker\":{\"color\":\"#B6E880\",\"pattern\":{\"shape\":\"\"}},\"name\":\"Madagascar\",\"offsetgroup\":\"Madagascar\",\"orientation\":\"v\",\"showlegend\":true,\"textposition\":\"auto\",\"x\":[1684,1685,1722],\"xaxis\":\"x\",\"y\":[217,166,120],\"yaxis\":\"y\",\"type\":\"bar\"},{\"alignmentgroup\":\"True\",\"hovertemplate\":\"Imputed principal place of slave purchase (MJBYPTIMP)=Soyo<br>Year of arrival at second place of landing (DATARR37,36,38)=%{x}<br>Total slaves disembarked imputed * (SLAMIMP)=%{y}<extra></extra>\",\"legendgroup\":\"Soyo\",\"marker\":{\"color\":\"#FF97FF\",\"pattern\":{\"shape\":\"\"}},\"name\":\"Soyo\",\"offsetgroup\":\"Soyo\",\"orientation\":\"v\",\"showlegend\":true,\"textposition\":\"auto\",\"x\":[1685],\"xaxis\":\"x\",\"y\":[114],\"yaxis\":\"y\",\"type\":\"bar\"},{\"alignmentgroup\":\"True\",\"hovertemplate\":\"Imputed principal place of slave purchase (MJBYPTIMP)=Gambia<br>Year of arrival at second place of landing (DATARR37,36,38)=%{x}<br>Total slaves disembarked imputed * (SLAMIMP)=%{y}<extra></extra>\",\"legendgroup\":\"Gambia\",\"marker\":{\"color\":\"#FECB52\",\"pattern\":{\"shape\":\"\"}},\"name\":\"Gambia\",\"offsetgroup\":\"Gambia\",\"orientation\":\"v\",\"showlegend\":true,\"textposition\":\"auto\",\"x\":[1686,1723,1724,1731,1732,1734,1736,1737,1746,1765,1766],\"xaxis\":\"x\",\"y\":[187,90,122,183,357,100,369,183,250,150,149],\"yaxis\":\"y\",\"type\":\"bar\"},{\"alignmentgroup\":\"True\",\"hovertemplate\":\"Imputed principal place of slave purchase (MJBYPTIMP)=Barbados, port unspecified<br>Year of arrival at second place of landing (DATARR37,36,38)=%{x}<br>Total slaves disembarked imputed * (SLAMIMP)=%{y}<extra></extra>\",\"legendgroup\":\"Barbados, port unspecified\",\"marker\":{\"color\":\"#636efa\",\"pattern\":{\"shape\":\"\"}},\"name\":\"Barbados, port unspecified\",\"offsetgroup\":\"Barbados, port unspecified\",\"orientation\":\"v\",\"showlegend\":true,\"textposition\":\"auto\",\"x\":[1702,1722,1729,1742,1743,1746,1749,1768],\"xaxis\":\"x\",\"y\":[6,17,90,17,13,90,155,257],\"yaxis\":\"y\",\"type\":\"bar\"},{\"alignmentgroup\":\"True\",\"hovertemplate\":\"Imputed principal place of slave purchase (MJBYPTIMP)=Gold Coast, port unspecified<br>Year of arrival at second place of landing (DATARR37,36,38)=%{x}<br>Total slaves disembarked imputed * (SLAMIMP)=%{y}<extra></extra>\",\"legendgroup\":\"Gold Coast, port unspecified\",\"marker\":{\"color\":\"#EF553B\",\"pattern\":{\"shape\":\"\"}},\"name\":\"Gold Coast, port unspecified\",\"offsetgroup\":\"Gold Coast, port unspecified\",\"orientation\":\"v\",\"showlegend\":true,\"textposition\":\"auto\",\"x\":[1708,1709,1717,1736,1739,1754,1767],\"xaxis\":\"x\",\"y\":[274,284,251,69,416,287,200],\"yaxis\":\"y\",\"type\":\"bar\"},{\"alignmentgroup\":\"True\",\"hovertemplate\":\"Imputed principal place of slave purchase (MJBYPTIMP)=Sherbro<br>Year of arrival at second place of landing (DATARR37,36,38)=%{x}<br>Total slaves disembarked imputed * (SLAMIMP)=%{y}<extra></extra>\",\"legendgroup\":\"Sherbro\",\"marker\":{\"color\":\"#00cc96\",\"pattern\":{\"shape\":\"\"}},\"name\":\"Sherbro\",\"offsetgroup\":\"Sherbro\",\"orientation\":\"v\",\"showlegend\":true,\"textposition\":\"auto\",\"x\":[1708],\"xaxis\":\"x\",\"y\":[75],\"yaxis\":\"y\",\"type\":\"bar\"},{\"alignmentgroup\":\"True\",\"hovertemplate\":\"Imputed principal place of slave purchase (MJBYPTIMP)=Jamaica, port unspecified<br>Year of arrival at second place of landing (DATARR37,36,38)=%{x}<br>Total slaves disembarked imputed * (SLAMIMP)=%{y}<extra></extra>\",\"legendgroup\":\"Jamaica, port unspecified\",\"marker\":{\"color\":\"#ab63fa\",\"pattern\":{\"shape\":\"\"}},\"name\":\"Jamaica, port unspecified\",\"offsetgroup\":\"Jamaica, port unspecified\",\"orientation\":\"v\",\"showlegend\":true,\"textposition\":\"auto\",\"x\":[1709,1710,1711,1717,1727,1728,1729,1730,1734,1743,1744],\"xaxis\":\"x\",\"y\":[117,66,58,43,8,98,70,274,32,117,8],\"yaxis\":\"y\",\"type\":\"bar\"},{\"alignmentgroup\":\"True\",\"hovertemplate\":\"Imputed principal place of slave purchase (MJBYPTIMP)=Cape Lahou<br>Year of arrival at second place of landing (DATARR37,36,38)=%{x}<br>Total slaves disembarked imputed * (SLAMIMP)=%{y}<extra></extra>\",\"legendgroup\":\"Cape Lahou\",\"marker\":{\"color\":\"#FFA15A\",\"pattern\":{\"shape\":\"\"}},\"name\":\"Cape Lahou\",\"offsetgroup\":\"Cape Lahou\",\"orientation\":\"v\",\"showlegend\":true,\"textposition\":\"auto\",\"x\":[1709,1742,1757,1762],\"xaxis\":\"x\",\"y\":[210,174,283,298],\"yaxis\":\"y\",\"type\":\"bar\"},{\"alignmentgroup\":\"True\",\"hovertemplate\":\"Imputed principal place of slave purchase (MJBYPTIMP)=Saint-Louis<br>Year of arrival at second place of landing (DATARR37,36,38)=%{x}<br>Total slaves disembarked imputed * (SLAMIMP)=%{y}<extra></extra>\",\"legendgroup\":\"Saint-Louis\",\"marker\":{\"color\":\"#19d3f3\",\"pattern\":{\"shape\":\"\"}},\"name\":\"Saint-Louis\",\"offsetgroup\":\"Saint-Louis\",\"orientation\":\"v\",\"showlegend\":true,\"textposition\":\"auto\",\"x\":[1712,1714,1727,1728,1740,1759],\"xaxis\":\"x\",\"y\":[245,233,326,273,326,50],\"yaxis\":\"y\",\"type\":\"bar\"},{\"alignmentgroup\":\"True\",\"hovertemplate\":\"Imputed principal place of slave purchase (MJBYPTIMP)=Sierra Leone estuary<br>Year of arrival at second place of landing (DATARR37,36,38)=%{x}<br>Total slaves disembarked imputed * (SLAMIMP)=%{y}<extra></extra>\",\"legendgroup\":\"Sierra Leone estuary\",\"marker\":{\"color\":\"#FF6692\",\"pattern\":{\"shape\":\"\"}},\"name\":\"Sierra Leone estuary\",\"offsetgroup\":\"Sierra Leone estuary\",\"orientation\":\"v\",\"showlegend\":true,\"textposition\":\"auto\",\"x\":[1714,1726,1750,1755,1764,1765],\"xaxis\":\"x\",\"y\":[108,174,150,190,144,96],\"yaxis\":\"y\",\"type\":\"bar\"},{\"alignmentgroup\":\"True\",\"hovertemplate\":\"Imputed principal place of slave purchase (MJBYPTIMP)=Malembo<br>Year of arrival at second place of landing (DATARR37,36,38)=%{x}<br>Total slaves disembarked imputed * (SLAMIMP)=%{y}<extra></extra>\",\"legendgroup\":\"Malembo\",\"marker\":{\"color\":\"#B6E880\",\"pattern\":{\"shape\":\"\"}},\"name\":\"Malembo\",\"offsetgroup\":\"Malembo\",\"orientation\":\"v\",\"showlegend\":true,\"textposition\":\"auto\",\"x\":[1714,1737,1756,1765,1768],\"xaxis\":\"x\",\"y\":[234,495,599,294,301],\"yaxis\":\"y\",\"type\":\"bar\"},{\"alignmentgroup\":\"True\",\"hovertemplate\":\"Imputed principal place of slave purchase (MJBYPTIMP)=Cabinda<br>Year of arrival at second place of landing (DATARR37,36,38)=%{x}<br>Total slaves disembarked imputed * (SLAMIMP)=%{y}<extra></extra>\",\"legendgroup\":\"Cabinda\",\"marker\":{\"color\":\"#FF97FF\",\"pattern\":{\"shape\":\"\"}},\"name\":\"Cabinda\",\"offsetgroup\":\"Cabinda\",\"orientation\":\"v\",\"showlegend\":true,\"textposition\":\"auto\",\"x\":[1716,1722,1723,1732,1733,1736,1738,1744,1751,1768],\"xaxis\":\"x\",\"y\":[407,214,271,362,294,320,535,425,419,374],\"yaxis\":\"y\",\"type\":\"bar\"},{\"alignmentgroup\":\"True\",\"hovertemplate\":\"Imputed principal place of slave purchase (MJBYPTIMP)=Jacquin<br>Year of arrival at second place of landing (DATARR37,36,38)=%{x}<br>Total slaves disembarked imputed * (SLAMIMP)=%{y}<extra></extra>\",\"legendgroup\":\"Jacquin\",\"marker\":{\"color\":\"#FECB52\",\"pattern\":{\"shape\":\"\"}},\"name\":\"Jacquin\",\"offsetgroup\":\"Jacquin\",\"orientation\":\"v\",\"showlegend\":true,\"textposition\":\"auto\",\"x\":[1716,1729],\"xaxis\":\"x\",\"y\":[543,300],\"yaxis\":\"y\",\"type\":\"bar\"},{\"alignmentgroup\":\"True\",\"hovertemplate\":\"Imputed principal place of slave purchase (MJBYPTIMP)=Anomabu<br>Year of arrival at second place of landing (DATARR37,36,38)=%{x}<br>Total slaves disembarked imputed * (SLAMIMP)=%{y}<extra></extra>\",\"legendgroup\":\"Anomabu\",\"marker\":{\"color\":\"#636efa\",\"pattern\":{\"shape\":\"\"}},\"name\":\"Anomabu\",\"offsetgroup\":\"Anomabu\",\"orientation\":\"v\",\"showlegend\":true,\"textposition\":\"auto\",\"x\":[1717,1718,1729,1732,1736,1741,1753,1763,1766],\"xaxis\":\"x\",\"y\":[244,261,219,193,279,99,110,61,189],\"yaxis\":\"y\",\"type\":\"bar\"},{\"alignmentgroup\":\"True\",\"hovertemplate\":\"Imputed principal place of slave purchase (MJBYPTIMP)=Bance Island (Ben's Island)<br>Year of arrival at second place of landing (DATARR37,36,38)=%{x}<br>Total slaves disembarked imputed * (SLAMIMP)=%{y}<extra></extra>\",\"legendgroup\":\"Bance Island (Ben's Island)\",\"marker\":{\"color\":\"#EF553B\",\"pattern\":{\"shape\":\"\"}},\"name\":\"Bance Island (Ben's Island)\",\"offsetgroup\":\"Bance Island (Ben's Island)\",\"orientation\":\"v\",\"showlegend\":true,\"textposition\":\"auto\",\"x\":[1718],\"xaxis\":\"x\",\"y\":[117],\"yaxis\":\"y\",\"type\":\"bar\"},{\"alignmentgroup\":\"True\",\"hovertemplate\":\"Imputed principal place of slave purchase (MJBYPTIMP)=Gor\\u00e9e<br>Year of arrival at second place of landing (DATARR37,36,38)=%{x}<br>Total slaves disembarked imputed * (SLAMIMP)=%{y}<extra></extra>\",\"legendgroup\":\"Gor\\u00e9e\",\"marker\":{\"color\":\"#00cc96\",\"pattern\":{\"shape\":\"\"}},\"name\":\"Gor\\u00e9e\",\"offsetgroup\":\"Gor\\u00e9e\",\"orientation\":\"v\",\"showlegend\":true,\"textposition\":\"auto\",\"x\":[1723,1727,1728,1729,1730,1752,1764],\"xaxis\":\"x\",\"y\":[95,296,356,696,327,485,71],\"yaxis\":\"y\",\"type\":\"bar\"},{\"alignmentgroup\":\"True\",\"hovertemplate\":\"Imputed principal place of slave purchase (MJBYPTIMP)=St. Eustatius<br>Year of arrival at second place of landing (DATARR37,36,38)=%{x}<br>Total slaves disembarked imputed * (SLAMIMP)=%{y}<extra></extra>\",\"legendgroup\":\"St. Eustatius\",\"marker\":{\"color\":\"#ab63fa\",\"pattern\":{\"shape\":\"\"}},\"name\":\"St. Eustatius\",\"offsetgroup\":\"St. Eustatius\",\"orientation\":\"v\",\"showlegend\":true,\"textposition\":\"auto\",\"x\":[1724],\"xaxis\":\"x\",\"y\":[4],\"yaxis\":\"y\",\"type\":\"bar\"},{\"alignmentgroup\":\"True\",\"hovertemplate\":\"Imputed principal place of slave purchase (MJBYPTIMP)=Elmina<br>Year of arrival at second place of landing (DATARR37,36,38)=%{x}<br>Total slaves disembarked imputed * (SLAMIMP)=%{y}<extra></extra>\",\"legendgroup\":\"Elmina\",\"marker\":{\"color\":\"#FFA15A\",\"pattern\":{\"shape\":\"\"}},\"name\":\"Elmina\",\"offsetgroup\":\"Elmina\",\"orientation\":\"v\",\"showlegend\":true,\"textposition\":\"auto\",\"x\":[1724,1729,1759],\"xaxis\":\"x\",\"y\":[535,602,430],\"yaxis\":\"y\",\"type\":\"bar\"},{\"alignmentgroup\":\"True\",\"hovertemplate\":\"Imputed principal place of slave purchase (MJBYPTIMP)=Charleston<br>Year of arrival at second place of landing (DATARR37,36,38)=%{x}<br>Total slaves disembarked imputed * (SLAMIMP)=%{y}<extra></extra>\",\"legendgroup\":\"Charleston\",\"marker\":{\"color\":\"#19d3f3\",\"pattern\":{\"shape\":\"\"}},\"name\":\"Charleston\",\"offsetgroup\":\"Charleston\",\"orientation\":\"v\",\"showlegend\":true,\"textposition\":\"auto\",\"x\":[1725,1737],\"xaxis\":\"x\",\"y\":[40,2],\"yaxis\":\"y\",\"type\":\"bar\"},{\"alignmentgroup\":\"True\",\"hovertemplate\":\"Imputed principal place of slave purchase (MJBYPTIMP)=Senegambia and offshore Atlantic, port unspecified<br>Year of arrival at second place of landing (DATARR37,36,38)=%{x}<br>Total slaves disembarked imputed * (SLAMIMP)=%{y}<extra></extra>\",\"legendgroup\":\"Senegambia and offshore Atlantic, port unspecified\",\"marker\":{\"color\":\"#FF6692\",\"pattern\":{\"shape\":\"\"}},\"name\":\"Senegambia and offshore Atlantic, port unspecified\",\"offsetgroup\":\"Senegambia and offshore Atlantic, port unspecified\",\"orientation\":\"v\",\"showlegend\":true,\"textposition\":\"auto\",\"x\":[1726],\"xaxis\":\"x\",\"y\":[517],\"yaxis\":\"y\",\"type\":\"bar\"},{\"alignmentgroup\":\"True\",\"hovertemplate\":\"Imputed principal place of slave purchase (MJBYPTIMP)=Keta<br>Year of arrival at second place of landing (DATARR37,36,38)=%{x}<br>Total slaves disembarked imputed * (SLAMIMP)=%{y}<extra></extra>\",\"legendgroup\":\"Keta\",\"marker\":{\"color\":\"#B6E880\",\"pattern\":{\"shape\":\"\"}},\"name\":\"Keta\",\"offsetgroup\":\"Keta\",\"orientation\":\"v\",\"showlegend\":true,\"textposition\":\"auto\",\"x\":[1727],\"xaxis\":\"x\",\"y\":[550],\"yaxis\":\"y\",\"type\":\"bar\"},{\"alignmentgroup\":\"True\",\"hovertemplate\":\"Imputed principal place of slave purchase (MJBYPTIMP)=Bermuda<br>Year of arrival at second place of landing (DATARR37,36,38)=%{x}<br>Total slaves disembarked imputed * (SLAMIMP)=%{y}<extra></extra>\",\"legendgroup\":\"Bermuda\",\"marker\":{\"color\":\"#FF97FF\",\"pattern\":{\"shape\":\"\"}},\"name\":\"Bermuda\",\"offsetgroup\":\"Bermuda\",\"orientation\":\"v\",\"showlegend\":true,\"textposition\":\"auto\",\"x\":[1729,1741,1742,1754],\"xaxis\":\"x\",\"y\":[3,4,1,1],\"yaxis\":\"y\",\"type\":\"bar\"},{\"alignmentgroup\":\"True\",\"hovertemplate\":\"Imputed principal place of slave purchase (MJBYPTIMP)=New York<br>Year of arrival at second place of landing (DATARR37,36,38)=%{x}<br>Total slaves disembarked imputed * (SLAMIMP)=%{y}<extra></extra>\",\"legendgroup\":\"New York\",\"marker\":{\"color\":\"#FECB52\",\"pattern\":{\"shape\":\"\"}},\"name\":\"New York\",\"offsetgroup\":\"New York\",\"orientation\":\"v\",\"showlegend\":true,\"textposition\":\"auto\",\"x\":[1730],\"xaxis\":\"x\",\"y\":[1],\"yaxis\":\"y\",\"type\":\"bar\"},{\"alignmentgroup\":\"True\",\"hovertemplate\":\"Imputed principal place of slave purchase (MJBYPTIMP)=Hampton<br>Year of arrival at second place of landing (DATARR37,36,38)=%{x}<br>Total slaves disembarked imputed * (SLAMIMP)=%{y}<extra></extra>\",\"legendgroup\":\"Hampton\",\"marker\":{\"color\":\"#636efa\",\"pattern\":{\"shape\":\"\"}},\"name\":\"Hampton\",\"offsetgroup\":\"Hampton\",\"orientation\":\"v\",\"showlegend\":true,\"textposition\":\"auto\",\"x\":[1739],\"xaxis\":\"x\",\"y\":[3],\"yaxis\":\"y\",\"type\":\"bar\"},{\"alignmentgroup\":\"True\",\"hovertemplate\":\"Imputed principal place of slave purchase (MJBYPTIMP)=Antigua, port unspecified<br>Year of arrival at second place of landing (DATARR37,36,38)=%{x}<br>Total slaves disembarked imputed * (SLAMIMP)=%{y}<extra></extra>\",\"legendgroup\":\"Antigua, port unspecified\",\"marker\":{\"color\":\"#EF553B\",\"pattern\":{\"shape\":\"\"}},\"name\":\"Antigua, port unspecified\",\"offsetgroup\":\"Antigua, port unspecified\",\"orientation\":\"v\",\"showlegend\":true,\"textposition\":\"auto\",\"x\":[1740,1742,1765],\"xaxis\":\"x\",\"y\":[65,2,50],\"yaxis\":\"y\",\"type\":\"bar\"},{\"alignmentgroup\":\"True\",\"hovertemplate\":\"Imputed principal place of slave purchase (MJBYPTIMP)=Little Popo<br>Year of arrival at second place of landing (DATARR37,36,38)=%{x}<br>Total slaves disembarked imputed * (SLAMIMP)=%{y}<extra></extra>\",\"legendgroup\":\"Little Popo\",\"marker\":{\"color\":\"#00cc96\",\"pattern\":{\"shape\":\"\"}},\"name\":\"Little Popo\",\"offsetgroup\":\"Little Popo\",\"orientation\":\"v\",\"showlegend\":true,\"textposition\":\"auto\",\"x\":[1740,1751],\"xaxis\":\"x\",\"y\":[313,265],\"yaxis\":\"y\",\"type\":\"bar\"},{\"alignmentgroup\":\"True\",\"hovertemplate\":\"Imputed principal place of slave purchase (MJBYPTIMP)=St. Kitts, port unspecified<br>Year of arrival at second place of landing (DATARR37,36,38)=%{x}<br>Total slaves disembarked imputed * (SLAMIMP)=%{y}<extra></extra>\",\"legendgroup\":\"St. Kitts, port unspecified\",\"marker\":{\"color\":\"#ab63fa\",\"pattern\":{\"shape\":\"\"}},\"name\":\"St. Kitts, port unspecified\",\"offsetgroup\":\"St. Kitts, port unspecified\",\"orientation\":\"v\",\"showlegend\":true,\"textposition\":\"auto\",\"x\":[1740],\"xaxis\":\"x\",\"y\":[38],\"yaxis\":\"y\",\"type\":\"bar\"},{\"alignmentgroup\":\"True\",\"hovertemplate\":\"Imputed principal place of slave purchase (MJBYPTIMP)=Windward Coast, port unspecified<br>Year of arrival at second place of landing (DATARR37,36,38)=%{x}<br>Total slaves disembarked imputed * (SLAMIMP)=%{y}<extra></extra>\",\"legendgroup\":\"Windward Coast, port unspecified\",\"marker\":{\"color\":\"#FFA15A\",\"pattern\":{\"shape\":\"\"}},\"name\":\"Windward Coast, port unspecified\",\"offsetgroup\":\"Windward Coast, port unspecified\",\"orientation\":\"v\",\"showlegend\":true,\"textposition\":\"auto\",\"x\":[1741,1765],\"xaxis\":\"x\",\"y\":[174,234],\"yaxis\":\"y\",\"type\":\"bar\"},{\"alignmentgroup\":\"True\",\"hovertemplate\":\"Imputed principal place of slave purchase (MJBYPTIMP)=Boston<br>Year of arrival at second place of landing (DATARR37,36,38)=%{x}<br>Total slaves disembarked imputed * (SLAMIMP)=%{y}<extra></extra>\",\"legendgroup\":\"Boston\",\"marker\":{\"color\":\"#19d3f3\",\"pattern\":{\"shape\":\"\"}},\"name\":\"Boston\",\"offsetgroup\":\"Boston\",\"orientation\":\"v\",\"showlegend\":true,\"textposition\":\"auto\",\"x\":[1742],\"xaxis\":\"x\",\"y\":[1],\"yaxis\":\"y\",\"type\":\"bar\"},{\"alignmentgroup\":\"True\",\"hovertemplate\":\"Imputed principal place of slave purchase (MJBYPTIMP)=Epe<br>Year of arrival at second place of landing (DATARR37,36,38)=%{x}<br>Total slaves disembarked imputed * (SLAMIMP)=%{y}<extra></extra>\",\"legendgroup\":\"Epe\",\"marker\":{\"color\":\"#FF6692\",\"pattern\":{\"shape\":\"\"}},\"name\":\"Epe\",\"offsetgroup\":\"Epe\",\"orientation\":\"v\",\"showlegend\":true,\"textposition\":\"auto\",\"x\":[1743,1744],\"xaxis\":\"x\",\"y\":[101,401],\"yaxis\":\"y\",\"type\":\"bar\"},{\"alignmentgroup\":\"True\",\"hovertemplate\":\"Imputed principal place of slave purchase (MJBYPTIMP)=Kingston<br>Year of arrival at second place of landing (DATARR37,36,38)=%{x}<br>Total slaves disembarked imputed * (SLAMIMP)=%{y}<extra></extra>\",\"legendgroup\":\"Kingston\",\"marker\":{\"color\":\"#B6E880\",\"pattern\":{\"shape\":\"\"}},\"name\":\"Kingston\",\"offsetgroup\":\"Kingston\",\"orientation\":\"v\",\"showlegend\":true,\"textposition\":\"auto\",\"x\":[1748,1753,1754,1763,1765],\"xaxis\":\"x\",\"y\":[150,50,113,30,7],\"yaxis\":\"y\",\"type\":\"bar\"},{\"alignmentgroup\":\"True\",\"hovertemplate\":\"Imputed principal place of slave purchase (MJBYPTIMP)=Bissau<br>Year of arrival at second place of landing (DATARR37,36,38)=%{x}<br>Total slaves disembarked imputed * (SLAMIMP)=%{y}<extra></extra>\",\"legendgroup\":\"Bissau\",\"marker\":{\"color\":\"#FF97FF\",\"pattern\":{\"shape\":\"\"}},\"name\":\"Bissau\",\"offsetgroup\":\"Bissau\",\"orientation\":\"v\",\"showlegend\":true,\"textposition\":\"auto\",\"x\":[1753,1764],\"xaxis\":\"x\",\"y\":[150,199],\"yaxis\":\"y\",\"type\":\"bar\"},{\"alignmentgroup\":\"True\",\"hovertemplate\":\"Imputed principal place of slave purchase (MJBYPTIMP)=Windward + Ivory + Gold + Benin<br>Year of arrival at second place of landing (DATARR37,36,38)=%{x}<br>Total slaves disembarked imputed * (SLAMIMP)=%{y}<extra></extra>\",\"legendgroup\":\"Windward + Ivory + Gold + Benin\",\"marker\":{\"color\":\"#FECB52\",\"pattern\":{\"shape\":\"\"}},\"name\":\"Windward + Ivory + Gold + Benin\",\"offsetgroup\":\"Windward + Ivory + Gold + Benin\",\"orientation\":\"v\",\"showlegend\":true,\"textposition\":\"auto\",\"x\":[1758,1763,1765,1767],\"xaxis\":\"x\",\"y\":[330,375,271,300],\"yaxis\":\"y\",\"type\":\"bar\"},{\"alignmentgroup\":\"True\",\"hovertemplate\":\"Imputed principal place of slave purchase (MJBYPTIMP)=Congo North<br>Year of arrival at second place of landing (DATARR37,36,38)=%{x}<br>Total slaves disembarked imputed * (SLAMIMP)=%{y}<extra></extra>\",\"legendgroup\":\"Congo North\",\"marker\":{\"color\":\"#636efa\",\"pattern\":{\"shape\":\"\"}},\"name\":\"Congo North\",\"offsetgroup\":\"Congo North\",\"orientation\":\"v\",\"showlegend\":true,\"textposition\":\"auto\",\"x\":[1762],\"xaxis\":\"x\",\"y\":[315],\"yaxis\":\"y\",\"type\":\"bar\"},{\"alignmentgroup\":\"True\",\"hovertemplate\":\"Imputed principal place of slave purchase (MJBYPTIMP)=Benin<br>Year of arrival at second place of landing (DATARR37,36,38)=%{x}<br>Total slaves disembarked imputed * (SLAMIMP)=%{y}<extra></extra>\",\"legendgroup\":\"Benin\",\"marker\":{\"color\":\"#EF553B\",\"pattern\":{\"shape\":\"\"}},\"name\":\"Benin\",\"offsetgroup\":\"Benin\",\"orientation\":\"v\",\"showlegend\":true,\"textposition\":\"auto\",\"x\":[1764],\"xaxis\":\"x\",\"y\":[180],\"yaxis\":\"y\",\"type\":\"bar\"},{\"alignmentgroup\":\"True\",\"hovertemplate\":\"Imputed principal place of slave purchase (MJBYPTIMP)=Montserrat, port unspecified<br>Year of arrival at second place of landing (DATARR37,36,38)=%{x}<br>Total slaves disembarked imputed * (SLAMIMP)=%{y}<extra></extra>\",\"legendgroup\":\"Montserrat, port unspecified\",\"marker\":{\"color\":\"#00cc96\",\"pattern\":{\"shape\":\"\"}},\"name\":\"Montserrat, port unspecified\",\"offsetgroup\":\"Montserrat, port unspecified\",\"orientation\":\"v\",\"showlegend\":true,\"textposition\":\"auto\",\"x\":[1765],\"xaxis\":\"x\",\"y\":[70],\"yaxis\":\"y\",\"type\":\"bar\"},{\"alignmentgroup\":\"True\",\"hovertemplate\":\"Imputed principal place of slave purchase (MJBYPTIMP)=Grenada, port unspecified<br>Year of arrival at second place of landing (DATARR37,36,38)=%{x}<br>Total slaves disembarked imputed * (SLAMIMP)=%{y}<extra></extra>\",\"legendgroup\":\"Grenada, port unspecified\",\"marker\":{\"color\":\"#ab63fa\",\"pattern\":{\"shape\":\"\"}},\"name\":\"Grenada, port unspecified\",\"offsetgroup\":\"Grenada, port unspecified\",\"orientation\":\"v\",\"showlegend\":true,\"textposition\":\"auto\",\"x\":[1766],\"xaxis\":\"x\",\"y\":[7],\"yaxis\":\"y\",\"type\":\"bar\"},{\"alignmentgroup\":\"True\",\"hovertemplate\":\"Imputed principal place of slave purchase (MJBYPTIMP)=Accra<br>Year of arrival at second place of landing (DATARR37,36,38)=%{x}<br>Total slaves disembarked imputed * (SLAMIMP)=%{y}<extra></extra>\",\"legendgroup\":\"Accra\",\"marker\":{\"color\":\"#FFA15A\",\"pattern\":{\"shape\":\"\"}},\"name\":\"Accra\",\"offsetgroup\":\"Accra\",\"orientation\":\"v\",\"showlegend\":true,\"textposition\":\"auto\",\"x\":[1766],\"xaxis\":\"x\",\"y\":[256],\"yaxis\":\"y\",\"type\":\"bar\"}],                        {\"template\":{\"data\":{\"bar\":[{\"error_x\":{\"color\":\"#2a3f5f\"},\"error_y\":{\"color\":\"#2a3f5f\"},\"marker\":{\"line\":{\"color\":\"#E5ECF6\",\"width\":0.5},\"pattern\":{\"fillmode\":\"overlay\",\"size\":10,\"solidity\":0.2}},\"type\":\"bar\"}],\"barpolar\":[{\"marker\":{\"line\":{\"color\":\"#E5ECF6\",\"width\":0.5},\"pattern\":{\"fillmode\":\"overlay\",\"size\":10,\"solidity\":0.2}},\"type\":\"barpolar\"}],\"carpet\":[{\"aaxis\":{\"endlinecolor\":\"#2a3f5f\",\"gridcolor\":\"white\",\"linecolor\":\"white\",\"minorgridcolor\":\"white\",\"startlinecolor\":\"#2a3f5f\"},\"baxis\":{\"endlinecolor\":\"#2a3f5f\",\"gridcolor\":\"white\",\"linecolor\":\"white\",\"minorgridcolor\":\"white\",\"startlinecolor\":\"#2a3f5f\"},\"type\":\"carpet\"}],\"choropleth\":[{\"colorbar\":{\"outlinewidth\":0,\"ticks\":\"\"},\"type\":\"choropleth\"}],\"contour\":[{\"colorbar\":{\"outlinewidth\":0,\"ticks\":\"\"},\"colorscale\":[[0.0,\"#0d0887\"],[0.1111111111111111,\"#46039f\"],[0.2222222222222222,\"#7201a8\"],[0.3333333333333333,\"#9c179e\"],[0.4444444444444444,\"#bd3786\"],[0.5555555555555556,\"#d8576b\"],[0.6666666666666666,\"#ed7953\"],[0.7777777777777778,\"#fb9f3a\"],[0.8888888888888888,\"#fdca26\"],[1.0,\"#f0f921\"]],\"type\":\"contour\"}],\"contourcarpet\":[{\"colorbar\":{\"outlinewidth\":0,\"ticks\":\"\"},\"type\":\"contourcarpet\"}],\"heatmap\":[{\"colorbar\":{\"outlinewidth\":0,\"ticks\":\"\"},\"colorscale\":[[0.0,\"#0d0887\"],[0.1111111111111111,\"#46039f\"],[0.2222222222222222,\"#7201a8\"],[0.3333333333333333,\"#9c179e\"],[0.4444444444444444,\"#bd3786\"],[0.5555555555555556,\"#d8576b\"],[0.6666666666666666,\"#ed7953\"],[0.7777777777777778,\"#fb9f3a\"],[0.8888888888888888,\"#fdca26\"],[1.0,\"#f0f921\"]],\"type\":\"heatmap\"}],\"heatmapgl\":[{\"colorbar\":{\"outlinewidth\":0,\"ticks\":\"\"},\"colorscale\":[[0.0,\"#0d0887\"],[0.1111111111111111,\"#46039f\"],[0.2222222222222222,\"#7201a8\"],[0.3333333333333333,\"#9c179e\"],[0.4444444444444444,\"#bd3786\"],[0.5555555555555556,\"#d8576b\"],[0.6666666666666666,\"#ed7953\"],[0.7777777777777778,\"#fb9f3a\"],[0.8888888888888888,\"#fdca26\"],[1.0,\"#f0f921\"]],\"type\":\"heatmapgl\"}],\"histogram\":[{\"marker\":{\"pattern\":{\"fillmode\":\"overlay\",\"size\":10,\"solidity\":0.2}},\"type\":\"histogram\"}],\"histogram2d\":[{\"colorbar\":{\"outlinewidth\":0,\"ticks\":\"\"},\"colorscale\":[[0.0,\"#0d0887\"],[0.1111111111111111,\"#46039f\"],[0.2222222222222222,\"#7201a8\"],[0.3333333333333333,\"#9c179e\"],[0.4444444444444444,\"#bd3786\"],[0.5555555555555556,\"#d8576b\"],[0.6666666666666666,\"#ed7953\"],[0.7777777777777778,\"#fb9f3a\"],[0.8888888888888888,\"#fdca26\"],[1.0,\"#f0f921\"]],\"type\":\"histogram2d\"}],\"histogram2dcontour\":[{\"colorbar\":{\"outlinewidth\":0,\"ticks\":\"\"},\"colorscale\":[[0.0,\"#0d0887\"],[0.1111111111111111,\"#46039f\"],[0.2222222222222222,\"#7201a8\"],[0.3333333333333333,\"#9c179e\"],[0.4444444444444444,\"#bd3786\"],[0.5555555555555556,\"#d8576b\"],[0.6666666666666666,\"#ed7953\"],[0.7777777777777778,\"#fb9f3a\"],[0.8888888888888888,\"#fdca26\"],[1.0,\"#f0f921\"]],\"type\":\"histogram2dcontour\"}],\"mesh3d\":[{\"colorbar\":{\"outlinewidth\":0,\"ticks\":\"\"},\"type\":\"mesh3d\"}],\"parcoords\":[{\"line\":{\"colorbar\":{\"outlinewidth\":0,\"ticks\":\"\"}},\"type\":\"parcoords\"}],\"pie\":[{\"automargin\":true,\"type\":\"pie\"}],\"scatter\":[{\"marker\":{\"colorbar\":{\"outlinewidth\":0,\"ticks\":\"\"}},\"type\":\"scatter\"}],\"scatter3d\":[{\"line\":{\"colorbar\":{\"outlinewidth\":0,\"ticks\":\"\"}},\"marker\":{\"colorbar\":{\"outlinewidth\":0,\"ticks\":\"\"}},\"type\":\"scatter3d\"}],\"scattercarpet\":[{\"marker\":{\"colorbar\":{\"outlinewidth\":0,\"ticks\":\"\"}},\"type\":\"scattercarpet\"}],\"scattergeo\":[{\"marker\":{\"colorbar\":{\"outlinewidth\":0,\"ticks\":\"\"}},\"type\":\"scattergeo\"}],\"scattergl\":[{\"marker\":{\"colorbar\":{\"outlinewidth\":0,\"ticks\":\"\"}},\"type\":\"scattergl\"}],\"scattermapbox\":[{\"marker\":{\"colorbar\":{\"outlinewidth\":0,\"ticks\":\"\"}},\"type\":\"scattermapbox\"}],\"scatterpolar\":[{\"marker\":{\"colorbar\":{\"outlinewidth\":0,\"ticks\":\"\"}},\"type\":\"scatterpolar\"}],\"scatterpolargl\":[{\"marker\":{\"colorbar\":{\"outlinewidth\":0,\"ticks\":\"\"}},\"type\":\"scatterpolargl\"}],\"scatterternary\":[{\"marker\":{\"colorbar\":{\"outlinewidth\":0,\"ticks\":\"\"}},\"type\":\"scatterternary\"}],\"surface\":[{\"colorbar\":{\"outlinewidth\":0,\"ticks\":\"\"},\"colorscale\":[[0.0,\"#0d0887\"],[0.1111111111111111,\"#46039f\"],[0.2222222222222222,\"#7201a8\"],[0.3333333333333333,\"#9c179e\"],[0.4444444444444444,\"#bd3786\"],[0.5555555555555556,\"#d8576b\"],[0.6666666666666666,\"#ed7953\"],[0.7777777777777778,\"#fb9f3a\"],[0.8888888888888888,\"#fdca26\"],[1.0,\"#f0f921\"]],\"type\":\"surface\"}],\"table\":[{\"cells\":{\"fill\":{\"color\":\"#EBF0F8\"},\"line\":{\"color\":\"white\"}},\"header\":{\"fill\":{\"color\":\"#C8D4E3\"},\"line\":{\"color\":\"white\"}},\"type\":\"table\"}]},\"layout\":{\"annotationdefaults\":{\"arrowcolor\":\"#2a3f5f\",\"arrowhead\":0,\"arrowwidth\":1},\"autotypenumbers\":\"strict\",\"coloraxis\":{\"colorbar\":{\"outlinewidth\":0,\"ticks\":\"\"}},\"colorscale\":{\"diverging\":[[0,\"#8e0152\"],[0.1,\"#c51b7d\"],[0.2,\"#de77ae\"],[0.3,\"#f1b6da\"],[0.4,\"#fde0ef\"],[0.5,\"#f7f7f7\"],[0.6,\"#e6f5d0\"],[0.7,\"#b8e186\"],[0.8,\"#7fbc41\"],[0.9,\"#4d9221\"],[1,\"#276419\"]],\"sequential\":[[0.0,\"#0d0887\"],[0.1111111111111111,\"#46039f\"],[0.2222222222222222,\"#7201a8\"],[0.3333333333333333,\"#9c179e\"],[0.4444444444444444,\"#bd3786\"],[0.5555555555555556,\"#d8576b\"],[0.6666666666666666,\"#ed7953\"],[0.7777777777777778,\"#fb9f3a\"],[0.8888888888888888,\"#fdca26\"],[1.0,\"#f0f921\"]],\"sequentialminus\":[[0.0,\"#0d0887\"],[0.1111111111111111,\"#46039f\"],[0.2222222222222222,\"#7201a8\"],[0.3333333333333333,\"#9c179e\"],[0.4444444444444444,\"#bd3786\"],[0.5555555555555556,\"#d8576b\"],[0.6666666666666666,\"#ed7953\"],[0.7777777777777778,\"#fb9f3a\"],[0.8888888888888888,\"#fdca26\"],[1.0,\"#f0f921\"]]},\"colorway\":[\"#636efa\",\"#EF553B\",\"#00cc96\",\"#ab63fa\",\"#FFA15A\",\"#19d3f3\",\"#FF6692\",\"#B6E880\",\"#FF97FF\",\"#FECB52\"],\"font\":{\"color\":\"#2a3f5f\"},\"geo\":{\"bgcolor\":\"white\",\"lakecolor\":\"white\",\"landcolor\":\"#E5ECF6\",\"showlakes\":true,\"showland\":true,\"subunitcolor\":\"white\"},\"hoverlabel\":{\"align\":\"left\"},\"hovermode\":\"closest\",\"mapbox\":{\"style\":\"light\"},\"paper_bgcolor\":\"white\",\"plot_bgcolor\":\"#E5ECF6\",\"polar\":{\"angularaxis\":{\"gridcolor\":\"white\",\"linecolor\":\"white\",\"ticks\":\"\"},\"bgcolor\":\"#E5ECF6\",\"radialaxis\":{\"gridcolor\":\"white\",\"linecolor\":\"white\",\"ticks\":\"\"}},\"scene\":{\"xaxis\":{\"backgroundcolor\":\"#E5ECF6\",\"gridcolor\":\"white\",\"gridwidth\":2,\"linecolor\":\"white\",\"showbackground\":true,\"ticks\":\"\",\"zerolinecolor\":\"white\"},\"yaxis\":{\"backgroundcolor\":\"#E5ECF6\",\"gridcolor\":\"white\",\"gridwidth\":2,\"linecolor\":\"white\",\"showbackground\":true,\"ticks\":\"\",\"zerolinecolor\":\"white\"},\"zaxis\":{\"backgroundcolor\":\"#E5ECF6\",\"gridcolor\":\"white\",\"gridwidth\":2,\"linecolor\":\"white\",\"showbackground\":true,\"ticks\":\"\",\"zerolinecolor\":\"white\"}},\"shapedefaults\":{\"line\":{\"color\":\"#2a3f5f\"}},\"ternary\":{\"aaxis\":{\"gridcolor\":\"white\",\"linecolor\":\"white\",\"ticks\":\"\"},\"baxis\":{\"gridcolor\":\"white\",\"linecolor\":\"white\",\"ticks\":\"\"},\"bgcolor\":\"#E5ECF6\",\"caxis\":{\"gridcolor\":\"white\",\"linecolor\":\"white\",\"ticks\":\"\"}},\"title\":{\"x\":0.05},\"xaxis\":{\"automargin\":true,\"gridcolor\":\"white\",\"linecolor\":\"white\",\"ticks\":\"\",\"title\":{\"standoff\":15},\"zerolinecolor\":\"white\",\"zerolinewidth\":2},\"yaxis\":{\"automargin\":true,\"gridcolor\":\"white\",\"linecolor\":\"white\",\"ticks\":\"\",\"title\":{\"standoff\":15},\"zerolinecolor\":\"white\",\"zerolinewidth\":2}}},\"xaxis\":{\"anchor\":\"y\",\"domain\":[0.0,1.0],\"title\":{\"text\":\"Year of arrival at second place of landing (DATARR37,36,38)\"},\"dtick\":33},\"yaxis\":{\"anchor\":\"x\",\"domain\":[0.0,1.0],\"title\":{\"text\":\"Total slaves disembarked imputed * (SLAMIMP)\"}},\"legend\":{\"title\":{\"text\":\"Imputed principal place of slave purchase (MJBYPTIMP)\"},\"tracegroupgap\":0},\"margin\":{\"t\":60},\"barmode\":\"relative\"},                        {\"responsive\": true}                    ).then(function(){\n",
       "                            \n",
       "var gd = document.getElementById('566a54e2-de7d-4eb8-be1d-7b354296f3cf');\n",
       "var x = new MutationObserver(function (mutations, observer) {{\n",
       "        var display = window.getComputedStyle(gd).display;\n",
       "        if (!display || display === 'none') {{\n",
       "            console.log([gd, 'removed!']);\n",
       "            Plotly.purge(gd);\n",
       "            observer.disconnect();\n",
       "        }}\n",
       "}});\n",
       "\n",
       "// Listen for the removal of the full notebook cells\n",
       "var notebookContainer = gd.closest('#notebook-container');\n",
       "if (notebookContainer) {{\n",
       "    x.observe(notebookContainer, {childList: true});\n",
       "}}\n",
       "\n",
       "// Listen for the clearing of the current output cell\n",
       "var outputEl = gd.closest('.output');\n",
       "if (outputEl) {{\n",
       "    x.observe(outputEl, {childList: true});\n",
       "}}\n",
       "\n",
       "                        })                };                });            </script>        </div>"
      ]
     },
     "metadata": {},
     "output_type": "display_data"
    }
   ],
   "source": [
    "fig = px.bar(df2, x=dates_emb.value, # constructs the stacked bar graph\n",
    "             y=numeric_emb.value, color=geo_emb.value\n",
    "             )\n",
    "fig.update_xaxes(dtick=int((maxyear-minyear)/10)) # updates the interval between each tick on the x-axis. \n",
    "fig.show()"
   ]
  }
 ],
 "metadata": {
  "kernelspec": {
   "display_name": "Python 3 (ipykernel)",
   "language": "python",
   "name": "python3"
  },
  "language_info": {
   "codemirror_mode": {
    "name": "ipython",
    "version": 3
   },
   "file_extension": ".py",
   "mimetype": "text/x-python",
   "name": "python",
   "nbconvert_exporter": "python",
   "pygments_lexer": "ipython3",
   "version": "3.8.9"
  }
 },
 "nbformat": 4,
 "nbformat_minor": 5
}
